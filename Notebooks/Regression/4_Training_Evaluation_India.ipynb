{
 "cells": [
  {
   "cell_type": "markdown",
   "metadata": {
    "id": "mvVxxvpq2pGF"
   },
   "source": [
    "# Previsione della Qualità dell'Aria - **Allenamento e Valutazione dei Modelli India**"
   ]
  },
  {
   "cell_type": "markdown",
   "metadata": {
    "id": "gm3Q39LW2Z4t"
   },
   "source": [
    "**Progetto di Data Intensive**  \n",
    "**Autore:** Martin Tomassi, Jacopo Vasi  \n",
    "**Email:** martin.tomassi@studio.unibo.it , jacopo.vasi@studio.unibo.it  \n",
    "**Corso:** Data Intensive, Università di Bologna  \n",
    "**Data:** Aprile 2025"
   ]
  },
  {
   "cell_type": "markdown",
   "metadata": {
    "id": "vnXzcSTc2Z4u"
   },
   "source": [
    "## Caricamento dei Datasets ed Import Librerie\n",
    "\n"
   ]
  },
  {
   "cell_type": "code",
   "execution_count": 1,
   "metadata": {
    "colab": {
     "base_uri": "https://localhost:8080/"
    },
    "id": "Ts2wiQjcg4BV",
    "outputId": "e4af4ff2-1983-4db7-c62a-d5326a8b0365"
   },
   "outputs": [
    {
     "name": "stdout",
     "output_type": "stream",
     "text": [
      "Requirement already satisfied: xgboost in c:\\users\\jacop\\anaconda3\\lib\\site-packages (3.0.1)\n",
      "Requirement already satisfied: numpy in c:\\users\\jacop\\anaconda3\\lib\\site-packages (from xgboost) (1.26.4)\n",
      "Requirement already satisfied: scipy in c:\\users\\jacop\\anaconda3\\lib\\site-packages (from xgboost) (1.13.1)\n",
      "Note: you may need to restart the kernel to use updated packages.\n"
     ]
    }
   ],
   "source": [
    "import numpy as np\n",
    "import pandas as pd\n",
    "import matplotlib.pyplot as plt\n",
    "import seaborn as sns\n",
    "sns.set_theme()\n",
    "\n",
    "try:\n",
    "    import google.colab\n",
    "    running_in_colab = True\n",
    "except ImportError:\n",
    "    running_in_colab = False\n",
    "\n",
    "from sklearn.ensemble import RandomForestRegressor\n",
    "from sklearn.metrics import (\n",
    "    r2_score,\n",
    "    mean_squared_error,\n",
    "    mean_absolute_error,\n",
    "    mean_absolute_percentage_error,\n",
    "    max_error\n",
    ")\n",
    "from sklearn.model_selection import (\n",
    "    TimeSeriesSplit,\n",
    "    GridSearchCV,\n",
    "    RandomizedSearchCV,\n",
    "    ParameterSampler\n",
    ")\n",
    "from sklearn.linear_model import (\n",
    "    LinearRegression,\n",
    "    Lasso,\n",
    "    Ridge,\n",
    "    ElasticNet\n",
    ")\n",
    "\n",
    "from sklearn.compose import ColumnTransformer\n",
    "from sklearn.preprocessing import StandardScaler, PolynomialFeatures, OneHotEncoder\n",
    "from sklearn.pipeline import Pipeline\n",
    "from sklearn.kernel_ridge import KernelRidge\n",
    "from sklearn.tree import DecisionTreeRegressor\n",
    "\n",
    "import torch\n",
    "import torch.nn as nn\n",
    "import torch.optim as optim\n",
    "from torch.utils.data import TensorDataset, DataLoader, Subset\n",
    "\n",
    "%pip install xgboost\n",
    "from xgboost import XGBRegressor\n",
    "\n",
    "N_JOBS = -1\n",
    "RANDOM_STATE = 42"
   ]
  },
  {
   "cell_type": "code",
   "execution_count": 2,
   "metadata": {
    "colab": {
     "base_uri": "https://localhost:8080/"
    },
    "id": "B-1nc39QrJSv",
    "outputId": "48d9b6d9-a430-4c76-cb60-1f351a878038"
   },
   "outputs": [
    {
     "data": {
      "text/html": [
       "<div>\n",
       "<style scoped>\n",
       "    .dataframe tbody tr th:only-of-type {\n",
       "        vertical-align: middle;\n",
       "    }\n",
       "\n",
       "    .dataframe tbody tr th {\n",
       "        vertical-align: top;\n",
       "    }\n",
       "\n",
       "    .dataframe thead th {\n",
       "        text-align: right;\n",
       "    }\n",
       "</style>\n",
       "<table border=\"1\" class=\"dataframe\">\n",
       "  <thead>\n",
       "    <tr style=\"text-align: right;\">\n",
       "      <th></th>\n",
       "      <th>year</th>\n",
       "      <th>month</th>\n",
       "      <th>dayofmonth</th>\n",
       "      <th>state</th>\n",
       "      <th>PM2.5</th>\n",
       "      <th>CO</th>\n",
       "      <th>O3</th>\n",
       "      <th>dayofweek</th>\n",
       "      <th>quarter</th>\n",
       "      <th>weekofyear</th>\n",
       "      <th>...</th>\n",
       "      <th>pm_lag_1D</th>\n",
       "      <th>co_lag_1D</th>\n",
       "      <th>o3_lag_1D</th>\n",
       "      <th>pm_lag_2D</th>\n",
       "      <th>co_lag_2D</th>\n",
       "      <th>o3_lag_2D</th>\n",
       "      <th>pm_lag_3D</th>\n",
       "      <th>co_lag_3D</th>\n",
       "      <th>o3_lag_3D</th>\n",
       "      <th>Class</th>\n",
       "    </tr>\n",
       "  </thead>\n",
       "  <tbody>\n",
       "    <tr>\n",
       "      <th>0</th>\n",
       "      <td>2019</td>\n",
       "      <td>1</td>\n",
       "      <td>1</td>\n",
       "      <td>Jharkhand</td>\n",
       "      <td>8.720000</td>\n",
       "      <td>0.000000</td>\n",
       "      <td>16.436667</td>\n",
       "      <td>1</td>\n",
       "      <td>1</td>\n",
       "      <td>1</td>\n",
       "      <td>...</td>\n",
       "      <td>8.720000</td>\n",
       "      <td>0.000000</td>\n",
       "      <td>18.307500</td>\n",
       "      <td>8.720000</td>\n",
       "      <td>0.000000</td>\n",
       "      <td>16.377083</td>\n",
       "      <td>8.720000</td>\n",
       "      <td>0.000000</td>\n",
       "      <td>20.268750</td>\n",
       "      <td>1</td>\n",
       "    </tr>\n",
       "    <tr>\n",
       "      <th>1</th>\n",
       "      <td>2019</td>\n",
       "      <td>1</td>\n",
       "      <td>1</td>\n",
       "      <td>Maharashtra</td>\n",
       "      <td>82.543779</td>\n",
       "      <td>1.469866</td>\n",
       "      <td>40.647039</td>\n",
       "      <td>1</td>\n",
       "      <td>1</td>\n",
       "      <td>1</td>\n",
       "      <td>...</td>\n",
       "      <td>78.644086</td>\n",
       "      <td>1.358208</td>\n",
       "      <td>44.248549</td>\n",
       "      <td>60.835387</td>\n",
       "      <td>1.084560</td>\n",
       "      <td>53.280734</td>\n",
       "      <td>52.250818</td>\n",
       "      <td>1.011568</td>\n",
       "      <td>51.456938</td>\n",
       "      <td>4</td>\n",
       "    </tr>\n",
       "    <tr>\n",
       "      <th>2</th>\n",
       "      <td>2019</td>\n",
       "      <td>1</td>\n",
       "      <td>1</td>\n",
       "      <td>Delhi</td>\n",
       "      <td>282.473702</td>\n",
       "      <td>2.445380</td>\n",
       "      <td>27.714884</td>\n",
       "      <td>1</td>\n",
       "      <td>1</td>\n",
       "      <td>1</td>\n",
       "      <td>...</td>\n",
       "      <td>313.943559</td>\n",
       "      <td>2.695992</td>\n",
       "      <td>27.924315</td>\n",
       "      <td>332.470394</td>\n",
       "      <td>2.805856</td>\n",
       "      <td>31.127347</td>\n",
       "      <td>232.801677</td>\n",
       "      <td>1.781397</td>\n",
       "      <td>30.107666</td>\n",
       "      <td>6</td>\n",
       "    </tr>\n",
       "    <tr>\n",
       "      <th>3</th>\n",
       "      <td>2019</td>\n",
       "      <td>1</td>\n",
       "      <td>1</td>\n",
       "      <td>Madhya Pradesh</td>\n",
       "      <td>98.725933</td>\n",
       "      <td>1.248736</td>\n",
       "      <td>63.127333</td>\n",
       "      <td>1</td>\n",
       "      <td>1</td>\n",
       "      <td>1</td>\n",
       "      <td>...</td>\n",
       "      <td>80.450308</td>\n",
       "      <td>1.020099</td>\n",
       "      <td>65.586333</td>\n",
       "      <td>80.762976</td>\n",
       "      <td>0.978036</td>\n",
       "      <td>69.601583</td>\n",
       "      <td>81.794412</td>\n",
       "      <td>0.972133</td>\n",
       "      <td>59.635167</td>\n",
       "      <td>4</td>\n",
       "    </tr>\n",
       "    <tr>\n",
       "      <th>4</th>\n",
       "      <td>2019</td>\n",
       "      <td>1</td>\n",
       "      <td>1</td>\n",
       "      <td>Gujarat</td>\n",
       "      <td>112.998750</td>\n",
       "      <td>0.494167</td>\n",
       "      <td>56.815833</td>\n",
       "      <td>1</td>\n",
       "      <td>1</td>\n",
       "      <td>1</td>\n",
       "      <td>...</td>\n",
       "      <td>84.694583</td>\n",
       "      <td>0.515833</td>\n",
       "      <td>58.611250</td>\n",
       "      <td>68.512500</td>\n",
       "      <td>0.524167</td>\n",
       "      <td>63.677500</td>\n",
       "      <td>69.717500</td>\n",
       "      <td>0.467500</td>\n",
       "      <td>52.655833</td>\n",
       "      <td>4</td>\n",
       "    </tr>\n",
       "  </tbody>\n",
       "</table>\n",
       "<p>5 rows × 33 columns</p>\n",
       "</div>"
      ],
      "text/plain": [
       "   year  month  dayofmonth           state       PM2.5        CO         O3  \\\n",
       "0  2019      1           1       Jharkhand    8.720000  0.000000  16.436667   \n",
       "1  2019      1           1     Maharashtra   82.543779  1.469866  40.647039   \n",
       "2  2019      1           1           Delhi  282.473702  2.445380  27.714884   \n",
       "3  2019      1           1  Madhya Pradesh   98.725933  1.248736  63.127333   \n",
       "4  2019      1           1         Gujarat  112.998750  0.494167  56.815833   \n",
       "\n",
       "   dayofweek  quarter  weekofyear  ...   pm_lag_1D  co_lag_1D  o3_lag_1D  \\\n",
       "0          1        1           1  ...    8.720000   0.000000  18.307500   \n",
       "1          1        1           1  ...   78.644086   1.358208  44.248549   \n",
       "2          1        1           1  ...  313.943559   2.695992  27.924315   \n",
       "3          1        1           1  ...   80.450308   1.020099  65.586333   \n",
       "4          1        1           1  ...   84.694583   0.515833  58.611250   \n",
       "\n",
       "    pm_lag_2D  co_lag_2D  o3_lag_2D   pm_lag_3D  co_lag_3D  o3_lag_3D  Class  \n",
       "0    8.720000   0.000000  16.377083    8.720000   0.000000  20.268750      1  \n",
       "1   60.835387   1.084560  53.280734   52.250818   1.011568  51.456938      4  \n",
       "2  332.470394   2.805856  31.127347  232.801677   1.781397  30.107666      6  \n",
       "3   80.762976   0.978036  69.601583   81.794412   0.972133  59.635167      4  \n",
       "4   68.512500   0.524167  63.677500   69.717500   0.467500  52.655833      4  \n",
       "\n",
       "[5 rows x 33 columns]"
      ]
     },
     "execution_count": 2,
     "metadata": {},
     "output_type": "execute_result"
    }
   ],
   "source": [
    "df = pd.read_csv('original_india_dataset.csv',\n",
    "                 sep=',',\n",
    "                 quotechar='\"',\n",
    "                 dtype=None,\n",
    "                 parse_dates=True,\n",
    "                 low_memory=False)\n",
    "obj_cols = df.select_dtypes(include=\"object\").columns\n",
    "for col in obj_cols:\n",
    "    df[col] = df[col].astype(\"string\")\n",
    "df.drop('date', axis=1, inplace=True)\n",
    "df = df[(df['year'] >= 2019) & (df['year'] <= 2022)]\n",
    "df = df.reset_index(drop=True)\n",
    "df.head()"
   ]
  },
  {
   "cell_type": "code",
   "execution_count": 3,
   "metadata": {
    "colab": {
     "base_uri": "https://localhost:8080/"
    },
    "id": "j5J-7bPorgC5",
    "outputId": "ff7d001e-4f62-497a-b21e-be7e26b0ff7f"
   },
   "outputs": [
    {
     "name": "stdout",
     "output_type": "stream",
     "text": [
      "<class 'pandas.core.frame.DataFrame'>\n",
      "RangeIndex: 34966 entries, 0 to 34965\n",
      "Data columns (total 33 columns):\n",
      " #   Column      Non-Null Count  Dtype  \n",
      "---  ------      --------------  -----  \n",
      " 0   year        34966 non-null  int64  \n",
      " 1   month       34966 non-null  int64  \n",
      " 2   dayofmonth  34966 non-null  int64  \n",
      " 3   state       34966 non-null  string \n",
      " 4   PM2.5       34966 non-null  float64\n",
      " 5   CO          34966 non-null  float64\n",
      " 6   O3          34966 non-null  float64\n",
      " 7   dayofweek   34966 non-null  int64  \n",
      " 8   quarter     34966 non-null  int64  \n",
      " 9   weekofyear  34966 non-null  int64  \n",
      " 10  dayofyear   34966 non-null  int64  \n",
      " 11  pm_lag_1Y   30238 non-null  float64\n",
      " 12  co_lag_1Y   30238 non-null  float64\n",
      " 13  o3_lag_1Y   30238 non-null  float64\n",
      " 14  pm_lag_2Y   26494 non-null  float64\n",
      " 15  co_lag_2Y   26494 non-null  float64\n",
      " 16  o3_lag_2Y   26494 non-null  float64\n",
      " 17  pm_lag_1M   34546 non-null  float64\n",
      " 18  co_lag_1M   34546 non-null  float64\n",
      " 19  o3_lag_1M   34546 non-null  float64\n",
      " 20  pm_lag_1W   34868 non-null  float64\n",
      " 21  co_lag_1W   34868 non-null  float64\n",
      " 22  o3_lag_1W   34868 non-null  float64\n",
      " 23  pm_lag_1D   34952 non-null  float64\n",
      " 24  co_lag_1D   34952 non-null  float64\n",
      " 25  o3_lag_1D   34952 non-null  float64\n",
      " 26  pm_lag_2D   34938 non-null  float64\n",
      " 27  co_lag_2D   34938 non-null  float64\n",
      " 28  o3_lag_2D   34938 non-null  float64\n",
      " 29  pm_lag_3D   34924 non-null  float64\n",
      " 30  co_lag_3D   34924 non-null  float64\n",
      " 31  o3_lag_3D   34924 non-null  float64\n",
      " 32  Class       34966 non-null  int64  \n",
      "dtypes: float64(24), int64(8), string(1)\n",
      "memory usage: 8.8 MB\n"
     ]
    }
   ],
   "source": [
    "df.info()"
   ]
  },
  {
   "cell_type": "markdown",
   "metadata": {
    "id": "pcIEc735lViq",
    "tags": []
   },
   "source": [
    "# Addestramento modelli\n",
    "A seguito dell'esplorazione e dell'omogeneizzazione dei due dataset, si può procedere all'addestramento dei modelli. I modelli verranno addestrati sulle seguenti feature indipendenti:\n",
    "- `year`: anno della misurazione\n",
    "- `month`: mese dell’anno\n",
    "- `dayofmonth`: giorno del mese\n",
    "- `dayofweek`: giorno della settimana\n",
    "- `dayofyear`: giorno dell’anno\n",
    "- `weekofyear`: settimana dell’anno\n",
    "- `quarter`: trimestre dell’anno\n",
    "- `state`: stato di misurazione\n",
    "- `pm_lag_1W`: PM2.5 ritardato di 1 settimana\n",
    "- `pm_lag_1M`: PM2.5 ritardato di 1 mese\n",
    "- `pm_lag_1Y`: PM2.5 ritardato di 1 anno\n",
    "- `pm_lag_1D`: PM2.5 ritardato di 1 giorno\n",
    "- `pm_lag_2D`: PM2.5 ritardato di 2 giorni\n",
    "- `pm_lag_3D`: PM2.5 ritardato di 3 giorni\n",
    "- `co_lag_1W`: CO ritardato di 1 settimana\n",
    "- `co_lag_1M`: CO ritardato di 1 mese\n",
    "- `co_lag_1Y`: CO ritardato di 1 anno\n",
    "- `co_lag_1D`: CO ritardato di 1 giorno\n",
    "- `co_lag_2D`: CO ritardato di 2 giorni\n",
    "- `co_lag_3D`: CO ritardato di 1 anno\n",
    "- `o3_lag_1W`: O3 ritardato di 1 settimana\n",
    "- `o3_lag_1M`: O3 ritardato di 1 mese\n",
    "- `o3_lag_1Y`: O3 ritardato di 1 anno\n",
    "- `o3_lag_1D`: O3 ritardato di 1 giorno\n",
    "- `o3_lag_2D`: O3 ritardato di 2 giorni\n",
    "- `o3_lag_3D`: O3 ritardato di 3 giorni"
   ]
  },
  {
   "cell_type": "markdown",
   "metadata": {
    "id": "KwC-dywTlViq"
   },
   "source": [
    "La variabile dipendente target dell'addestramento è `PM2.5`, che indica la concentrazione di particelle inquinanti nell'aria con un diametro inferiore a 2,5 micron (μm)."
   ]
  },
  {
   "cell_type": "markdown",
   "metadata": {
    "id": "GveBLWbLlViq"
   },
   "source": [
    "## Preparazione Dataset\n",
    "Per garantire un confronto equo tra tutti i modelli, alcuni dei quali non supportano i valori mancanti generati dalle lag features, elimineremo tutte le righe che li contengono. Va però tenuto presente che così facendo perdiamo un anno di dati storici. Modelli come XGBoost di scikit-learn sono in grado di gestire internamente i missing value e potrebbero beneficiarne; tuttavia, per mantenere omogenee le condizioni di allenamento, applichiamo il drop completo dei NaN."
   ]
  },
  {
   "cell_type": "code",
   "execution_count": 5,
   "metadata": {
    "id": "2u4WO1bmlViq"
   },
   "outputs": [],
   "source": [
    "target = 'Class'\n",
    "lag_features = ['pm_lag_1Y', 'pm_lag_2Y', 'pm_lag_1M', 'pm_lag_1W','co_lag_1Y', 'co_lag_2Y', 'co_lag_1M', 'co_lag_1W','o3_lag_1Y', 'o3_lag_2Y', 'o3_lag_1M', 'o3_lag_1W','pm_lag_1D','co_lag_1D','o3_lag_1D','pm_lag_2D','co_lag_2D','o3_lag_2D','pm_lag_3D','co_lag_3D','o3_lag_3D']\n",
    "date_features = ['dayofmonth', 'dayofweek', 'dayofyear', 'weekofyear', 'month', 'quarter', 'year', 'state']\n",
    "predictors = date_features + lag_features "
   ]
  },
  {
   "cell_type": "code",
   "execution_count": 6,
   "metadata": {
    "id": "efbb3yDvuaDc"
   },
   "outputs": [],
   "source": [
    "def create_train_test_sets(dataframe, split, replace_na=False, method='none'):\n",
    "    dataframe = dataframe.copy()\n",
    "\n",
    "    if replace_na and method == 'zeros':\n",
    "      dataframe = dataframe.fillna(0)\n",
    "    elif replace_na and method == 'drop':\n",
    "      dataframe = dataframe.dropna(how='any')\n",
    "\n",
    "    train_set, test_set = np.split(dataframe, [int(len(dataframe) * split)])\n",
    "    return train_set[predictors], test_set[predictors], train_set[target], test_set[target]"
   ]
  },
  {
   "cell_type": "code",
   "execution_count": 7,
   "metadata": {
    "colab": {
     "base_uri": "https://localhost:8080/"
    },
    "id": "5_dgAHmhuh2i",
    "outputId": "c83ce88a-da40-4c32-fae7-e1efd89504fe"
   },
   "outputs": [
    {
     "name": "stderr",
     "output_type": "stream",
     "text": [
      "C:\\Users\\jacop\\anaconda3\\Lib\\site-packages\\numpy\\core\\fromnumeric.py:59: FutureWarning: 'DataFrame.swapaxes' is deprecated and will be removed in a future version. Please use 'DataFrame.transpose' instead.\n",
      "  return bound(*args, **kwds)\n"
     ]
    }
   ],
   "source": [
    "X_train, X_test, y_train, y_test = create_train_test_sets(\n",
    "    df,\n",
    "    split=0.8,\n",
    "    replace_na=True,\n",
    "    method='drop'\n",
    ")\n",
    "\n",
    "# Resetta gli indici dei risultati eliminando l’indice precedente,\n",
    "# in modo da partire da zero ed avere indici continui\n",
    "X_train = X_train.reset_index(drop=True)\n",
    "X_test = X_test.reset_index(drop=True)\n",
    "y_train = y_train.reset_index(drop=True)\n",
    "y_test = y_test.reset_index(drop=True)"
   ]
  },
  {
   "cell_type": "code",
   "execution_count": 8,
   "metadata": {
    "colab": {
     "base_uri": "https://localhost:8080/"
    },
    "id": "3Mz9jup_67xf",
    "outputId": "03a28e33-6573-4da7-9818-042213602e33"
   },
   "outputs": [
    {
     "name": "stdout",
     "output_type": "stream",
     "text": [
      "<class 'pandas.core.frame.DataFrame'>\n",
      "RangeIndex: 21195 entries, 0 to 21194\n",
      "Data columns (total 29 columns):\n",
      " #   Column      Non-Null Count  Dtype  \n",
      "---  ------      --------------  -----  \n",
      " 0   dayofmonth  21195 non-null  int64  \n",
      " 1   dayofweek   21195 non-null  int64  \n",
      " 2   dayofyear   21195 non-null  int64  \n",
      " 3   weekofyear  21195 non-null  int64  \n",
      " 4   month       21195 non-null  int64  \n",
      " 5   quarter     21195 non-null  int64  \n",
      " 6   year        21195 non-null  int64  \n",
      " 7   state       21195 non-null  string \n",
      " 8   pm_lag_1Y   21195 non-null  float64\n",
      " 9   pm_lag_2Y   21195 non-null  float64\n",
      " 10  pm_lag_1M   21195 non-null  float64\n",
      " 11  pm_lag_1W   21195 non-null  float64\n",
      " 12  co_lag_1Y   21195 non-null  float64\n",
      " 13  co_lag_2Y   21195 non-null  float64\n",
      " 14  co_lag_1M   21195 non-null  float64\n",
      " 15  co_lag_1W   21195 non-null  float64\n",
      " 16  o3_lag_1Y   21195 non-null  float64\n",
      " 17  o3_lag_2Y   21195 non-null  float64\n",
      " 18  o3_lag_1M   21195 non-null  float64\n",
      " 19  o3_lag_1W   21195 non-null  float64\n",
      " 20  pm_lag_1D   21195 non-null  float64\n",
      " 21  co_lag_1D   21195 non-null  float64\n",
      " 22  o3_lag_1D   21195 non-null  float64\n",
      " 23  pm_lag_2D   21195 non-null  float64\n",
      " 24  co_lag_2D   21195 non-null  float64\n",
      " 25  o3_lag_2D   21195 non-null  float64\n",
      " 26  pm_lag_3D   21195 non-null  float64\n",
      " 27  co_lag_3D   21195 non-null  float64\n",
      " 28  o3_lag_3D   21195 non-null  float64\n",
      "dtypes: float64(21), int64(7), string(1)\n",
      "memory usage: 4.7 MB\n"
     ]
    }
   ],
   "source": [
    "X_train.info()"
   ]
  },
  {
   "cell_type": "code",
   "execution_count": 9,
   "metadata": {
    "colab": {
     "base_uri": "https://localhost:8080/"
    },
    "id": "gl2OvBn56_PE",
    "outputId": "f34a43d7-354f-46a6-a8e7-471328de90b5"
   },
   "outputs": [
    {
     "name": "stdout",
     "output_type": "stream",
     "text": [
      "<class 'pandas.core.frame.DataFrame'>\n",
      "RangeIndex: 5299 entries, 0 to 5298\n",
      "Data columns (total 29 columns):\n",
      " #   Column      Non-Null Count  Dtype  \n",
      "---  ------      --------------  -----  \n",
      " 0   dayofmonth  5299 non-null   int64  \n",
      " 1   dayofweek   5299 non-null   int64  \n",
      " 2   dayofyear   5299 non-null   int64  \n",
      " 3   weekofyear  5299 non-null   int64  \n",
      " 4   month       5299 non-null   int64  \n",
      " 5   quarter     5299 non-null   int64  \n",
      " 6   year        5299 non-null   int64  \n",
      " 7   state       5299 non-null   string \n",
      " 8   pm_lag_1Y   5299 non-null   float64\n",
      " 9   pm_lag_2Y   5299 non-null   float64\n",
      " 10  pm_lag_1M   5299 non-null   float64\n",
      " 11  pm_lag_1W   5299 non-null   float64\n",
      " 12  co_lag_1Y   5299 non-null   float64\n",
      " 13  co_lag_2Y   5299 non-null   float64\n",
      " 14  co_lag_1M   5299 non-null   float64\n",
      " 15  co_lag_1W   5299 non-null   float64\n",
      " 16  o3_lag_1Y   5299 non-null   float64\n",
      " 17  o3_lag_2Y   5299 non-null   float64\n",
      " 18  o3_lag_1M   5299 non-null   float64\n",
      " 19  o3_lag_1W   5299 non-null   float64\n",
      " 20  pm_lag_1D   5299 non-null   float64\n",
      " 21  co_lag_1D   5299 non-null   float64\n",
      " 22  o3_lag_1D   5299 non-null   float64\n",
      " 23  pm_lag_2D   5299 non-null   float64\n",
      " 24  co_lag_2D   5299 non-null   float64\n",
      " 25  o3_lag_2D   5299 non-null   float64\n",
      " 26  pm_lag_3D   5299 non-null   float64\n",
      " 27  co_lag_3D   5299 non-null   float64\n",
      " 28  o3_lag_3D   5299 non-null   float64\n",
      "dtypes: float64(21), int64(7), string(1)\n",
      "memory usage: 1.2 MB\n"
     ]
    }
   ],
   "source": [
    "X_test.info()"
   ]
  },
  {
   "cell_type": "markdown",
   "metadata": {
    "id": "wqBCT7crrf9A"
   },
   "source": [
    "Nel dataset ci sono sia feature numeriche che categoriche. <br>\n",
    "Per le numeriche è necessario applicare una normalizzazione dei dati, i quali avrebbero altrimenti valori su scale molto diverse che renderebbero più difficile la convergenza del modello. <br>\n",
    "Per poter utilizzare le variabili categoriche nell'addestramento di un modello di regressione si usa un OneHotEncoder, creando nuove colonne binarie per ciascuno dei valori ammissibili dalla variabile categorica."
   ]
  },
  {
   "cell_type": "code",
   "execution_count": 10,
   "metadata": {
    "id": "YcK3Ma4545-a"
   },
   "outputs": [],
   "source": [
    "categorical_features = X_train.select_dtypes(include=[\"string\"]).columns.tolist()\n",
    "numerical_features   = [c for c in X_train.columns if c not in categorical_features]\n",
    "\n",
    "preprocessor = ColumnTransformer([\n",
    "    # Standardizza tutte le colonne numeriche\n",
    "    (\"numeric\",    StandardScaler(),    numerical_features),\n",
    "    # One‑hot encoding di 'state', ignorando nuovi stati in predict\n",
    "    (\"categorical\", OneHotEncoder(handle_unknown=\"ignore\"), categorical_features),\n",
    "])"
   ]
  },
  {
   "cell_type": "markdown",
   "metadata": {
    "id": "axPc4fYaKiDT"
   },
   "source": [
    "Inizializzazione della lista per raccogliere le metriche dopo ogni training"
   ]
  },
  {
   "cell_type": "code",
   "execution_count": 11,
   "metadata": {
    "id": "6LfV4nYJKiPx"
   },
   "outputs": [],
   "source": [
    "all_scores = []"
   ]
  },
  {
   "cell_type": "markdown",
   "metadata": {
    "id": "H_bIhHTRKAzQ"
   },
   "source": [
    "## Valutazione delle Prestazioni dei Modelli Allenati\n",
    "\n",
    "Dopo l’allenamento di ciascun modello di Machine Learning e Deep Learning, utilizziamo le funzioni `get_estimator_scores` e `get_torch_estimator_scores` per calcolare diverse metriche di valutazione, includendo per le principali anche gli **Intervalli di Confidenza al 95%** (CI95%) stimati tramite bootstrap resampling.\n",
    "\n",
    "Le metriche calcolate sono:\n",
    "\n",
    "1. **$R^2$ (Coefficiente di Determinazione)**  \n",
    "   Misura quanto bene un modello riesce a spiegare la variabilità della variabile dipendente. Il valore di $R^2$ varia da 0 (nessuna capacità predittiva) a 1 (predizione perfetta).  \n",
    "   Un $R^2_{\\text{test}}$ significativamente inferiore rispetto a $R^2_{\\text{train}}$ indica possibile overfitting.  \n",
    "   *(Più alto è, meglio è.)*\n",
    "\n",
    "2. **Mean Squared Error (MSE)**  \n",
    "   Misura la media degli errori quadratici commessi nelle previsioni. Penalizza maggiormente gli errori più grandi, poiché ogni errore viene elevato al quadrato.  \n",
    "   *(Più basso è, meglio è.)*\n",
    "\n",
    "3. **Mean Absolute Error (MAE)**  \n",
    "   Rappresenta la media delle differenze assolute tra i valori reali e quelli predetti. È meno sensibile agli outlier rispetto al MSE.  \n",
    "   *(Più basso è, meglio è.)*\n",
    "\n",
    "4. **Mean Absolute Percentage Error (MAPE)**  \n",
    "   Misura la precisione percentuale di un sistema di previsione. Indica, in media, di quanto percentualmente una previsione si discosta dal valore reale.  \n",
    "   *(Più basso è, meglio è.)*\n",
    "\n",
    "5. **Max Error**  \n",
    "   Misura l’errore assoluto massimo commesso in una previsione.  \n",
    "   *(Più basso è, meglio è.)*"
   ]
  },
  {
   "cell_type": "code",
   "execution_count": 12,
   "metadata": {
    "id": "zthJQ-LRL-8J"
   },
   "outputs": [],
   "source": [
    "def bootstrap_ci(metric_fn, y_true, y_pred, n_bootstraps=1000, alpha=0.05):\n",
    "    y_true_arr = np.asarray(y_true)\n",
    "    y_pred_arr = np.asarray(y_pred)\n",
    "    vals = []\n",
    "    for _ in range(n_bootstraps):\n",
    "        if running_in_colab:\n",
    "            idx = np.random.randint(0, len(y_true), len(y_true))\n",
    "            vals.append(metric_fn(y_true[idx], y_pred[idx]))\n",
    "        else:\n",
    "            idx = np.random.randint(0, len(y_true), len(y_true))\n",
    "            vals.append(metric_fn(y_true_arr[idx], y_pred_arr[idx]))\n",
    "\n",
    "    low = np.percentile(vals, 100 * (alpha/2))\n",
    "    high = np.percentile(vals, 100 * (1 - alpha/2))\n",
    "    return low, high\n",
    "\n",
    "def get_estimator_scores(model_name, model):\n",
    "    y_pred = model.predict(X_test)\n",
    "    r2_tr = model.score(X_train, y_train)\n",
    "    r2_te = r2_score(y_test, y_pred)\n",
    "    n_train, p = X_train.shape\n",
    "    n_test, _ = X_test.shape\n",
    "    r2_tr_adj = adjusted_r2(r2_tr, n_train, p)\n",
    "    r2_te_adj = adjusted_r2(r2_te, n_test, p)\n",
    "    mse = mean_squared_error(y_test, y_pred)\n",
    "    mae = mean_absolute_error(y_test, y_pred)\n",
    "    mape = mean_absolute_percentage_error(y_test, y_pred)\n",
    "    me = max_error(y_test, y_pred)\n",
    "\n",
    "    mse_low, mse_high = bootstrap_ci(mean_squared_error, y_test, y_pred)\n",
    "    mae_low, mae_high = bootstrap_ci(mean_absolute_error, y_test, y_pred)\n",
    "    mape_low, mape_high = bootstrap_ci(mean_absolute_percentage_error, y_test, y_pred)\n",
    "\n",
    "    all_scores.append([\n",
    "        model_name, r2_tr_adj, r2_te_adj,\n",
    "        mse, mse_low, mse_high,\n",
    "        mae, mae_low, mae_high,\n",
    "        mape, mape_low, mape_high, me\n",
    "    ])\n",
    "\n",
    "def predict_torch(model, X_tensor, device):\n",
    "    model.eval()\n",
    "    with torch.no_grad():\n",
    "        out = model(X_tensor.to(device))\n",
    "    out_cpu = out.detach().cpu().numpy()\n",
    "    # Se il modello restituisce shape (N,1), appiattiamo a (N,)\n",
    "    if out_cpu.ndim == 2 and out_cpu.shape[1] == 1:\n",
    "        return out_cpu.ravel()\n",
    "    return out_cpu\n",
    "\n",
    "def get_torch_estimator_scores(model_name, model,\n",
    "                               X_train, y_train,\n",
    "                               X_test, y_test,\n",
    "                               device):\n",
    "    y_pred_train = predict_torch(model, X_train, device)\n",
    "    y_pred_test  = predict_torch(model, X_test,  device)\n",
    "\n",
    "    y_train_np = y_train.detach().cpu().numpy().ravel()\n",
    "    y_test_np  = y_test.detach().cpu().numpy().ravel()\n",
    "\n",
    "    r2_tr = r2_score(y_train_np, y_pred_train)\n",
    "    r2_te = r2_score(y_test_np,  y_pred_test)\n",
    "\n",
    "    mse = mean_squared_error(y_test_np, y_pred_test)\n",
    "    mse_low, mse_high = bootstrap_ci(mean_squared_error, y_test_np, y_pred_test)\n",
    "\n",
    "    mae = mean_absolute_error(y_test_np, y_pred_test)\n",
    "    mae_low, mae_high = bootstrap_ci(mean_absolute_error, y_test_np, y_pred_test)\n",
    "    mape = mean_absolute_percentage_error(y_test_np, y_pred_test)\n",
    "    mape_low, mape_high = bootstrap_ci(mean_absolute_percentage_error,\n",
    "                                       y_test_np, y_pred_test)\n",
    "    me = max_error(y_test_np, y_pred_test)\n",
    "\n",
    "    all_scores.append([\n",
    "        model_name, r2_tr, r2_te,\n",
    "        mse, mse_low, mse_high,\n",
    "        mae, mae_low, mae_high,\n",
    "        mape, mape_low, mape_high, me\n",
    "    ])\n",
    "\n",
    "def adjusted_r2(r2, n, p):\n",
    "    return 1 - (1 - r2) * (n - 1) / (n - p - 1)"
   ]
  },
  {
   "cell_type": "markdown",
   "metadata": {
    "id": "xOMRnqcslVir"
   },
   "source": [
    "## Regressione Lineare\n",
    "La regressione lineare rappresenta il punto di partenza più semplice per modellare una relazione tra variabili indipendenti e una variabile target continua. In questa configurazione iniziale, il modello non utilizza né trasformazioni polinomiali delle feature né tecniche di regolarizzazione (come Ridge o Lasso). Questo approccio consente di valutare rapidamente le prestazioni di base, specialmente quando si dispone di un dataset di grandi dimensioni, come in questo caso. \\\n",
    "L'algoritmo di regressione lineare apprende una funzione lineare ottimale minimizzando l'errore quadratico medio tra le predizioni e i valori reali. \\\n",
    "Nel codice seguente, si utilizza una pipeline che applica in sequenza il preprocessamento dei dati e l'addestramento del modello. Dopo il fitting, vengono misurate le prestazioni del modello."
   ]
  },
  {
   "cell_type": "code",
   "execution_count": 13,
   "metadata": {
    "id": "mSsOPwFNlVir"
   },
   "outputs": [],
   "source": [
    "model = Pipeline([\n",
    "    (\"preproc\", preprocessor),\n",
    "    (\"regr\"   , LinearRegression())\n",
    "])"
   ]
  },
  {
   "cell_type": "code",
   "execution_count": 14,
   "metadata": {
    "colab": {
     "base_uri": "https://localhost:8080/"
    },
    "id": "nVduMAAHlVir",
    "outputId": "eec39c1b-4986-49ea-98c8-e02199f3a2ae"
   },
   "outputs": [
    {
     "name": "stdout",
     "output_type": "stream",
     "text": [
      "CPU times: total: 984 ms\n",
      "Wall time: 184 ms\n"
     ]
    }
   ],
   "source": [
    "%time model.fit(X_train, y_train)\n",
    "get_estimator_scores(\"lin_reg\", model)"
   ]
  },
  {
   "cell_type": "markdown",
   "metadata": {
    "id": "YP2p8Z1ClVit",
    "tags": []
   },
   "source": [
    "## Regressione Polinomiale\n",
    "\n",
    "Per migliorare le prestazioni rispetto al modello lineare semplice, introduciamo un'estensione: la regressione polinomiale. \\\n",
    "Le feature polinomiali permettono al modello di catturare relazioni non lineari tra le variabili indipendenti e la variabile target.  \n",
    "In questo caso, nel generatore di feature polinomiali, vengono utilizzati i seguenti parametri:\n",
    "- `degree=2`: genera termini fino al secondo grado (quadratici);\n",
    "- `include_bias=False`: esclude l'intercetta, che sarà gestita direttamente dal modello di regressione;\n",
    "- `interaction_only=True`: include solo i termini di interazione tra variabili diverse (es. x1·x2), evitando i termini al quadrato (es. x1²).  \n",
    "Questo impone una restrizione sullo spazio delle feature, limitandolo a combinazioni lineari di interazioni.\n",
    "\n"
   ]
  },
  {
   "cell_type": "code",
   "execution_count": 15,
   "metadata": {
    "id": "8n3i5NhmlVit"
   },
   "outputs": [],
   "source": [
    "model = Pipeline([\n",
    "    (\"preproc\", preprocessor),\n",
    "    (\"poly\", PolynomialFeatures(degree=2, include_bias=False, interaction_only=True)),\n",
    "    (\"regr\"   , LinearRegression())\n",
    "])"
   ]
  },
  {
   "cell_type": "code",
   "execution_count": 16,
   "metadata": {
    "colab": {
     "base_uri": "https://localhost:8080/"
    },
    "id": "txYsQh_mlViw",
    "outputId": "aa550a27-9bc2-4a01-bb54-4763e4d8f508"
   },
   "outputs": [
    {
     "name": "stdout",
     "output_type": "stream",
     "text": [
      "CPU times: total: 10.8 s\n",
      "Wall time: 2.16 s\n"
     ]
    }
   ],
   "source": [
    "%time model.fit(X_train, y_train)\n",
    "get_estimator_scores(\"poly_reg\", model)"
   ]
  },
  {
   "cell_type": "markdown",
   "metadata": {
    "id": "tCa0HV05lVix",
    "tags": []
   },
   "source": [
    "## Regressione LASSO\n",
    "La regressione LASSO è una tecnica di regressione lineare con regolarizzazione L1. È particolarmente utile per la selezione automatica delle feature, in quanto penalizza i coefficienti assoluti e tende ad annullare quelli meno rilevanti. \\\n",
    "A livello geometrico, la regolarizzazione L1 introduce una penalità che forza la soluzione a ricadere sui vertici di un ipercubo centrato sull'origine.  \n",
    "In questo modo, solo un sottoinsieme di feature mantiene coefficienti diversi da zero, migliorando l'interpretabilità e riducendo il rischio di overfitting. \\\n"
   ]
  },
  {
   "cell_type": "code",
   "execution_count": 17,
   "metadata": {
    "id": "jO8UrLjylVix"
   },
   "outputs": [],
   "source": [
    "model = Pipeline([\n",
    "    (\"preproc\", preprocessor),\n",
    "    (\"regr\", Lasso(alpha=1, max_iter=10000))\n",
    "])"
   ]
  },
  {
   "cell_type": "code",
   "execution_count": 18,
   "metadata": {
    "colab": {
     "base_uri": "https://localhost:8080/",
     "height": 283
    },
    "id": "zW41o83llVix",
    "outputId": "e04252de-35f4-474e-d954-f6187d3b2463"
   },
   "outputs": [
    {
     "name": "stdout",
     "output_type": "stream",
     "text": [
      "CPU times: total: 62.5 ms\n",
      "Wall time: 71.1 ms\n"
     ]
    },
    {
     "data": {
      "text/html": [
       "<style>#sk-container-id-1 {\n",
       "  /* Definition of color scheme common for light and dark mode */\n",
       "  --sklearn-color-text: #000;\n",
       "  --sklearn-color-text-muted: #666;\n",
       "  --sklearn-color-line: gray;\n",
       "  /* Definition of color scheme for unfitted estimators */\n",
       "  --sklearn-color-unfitted-level-0: #fff5e6;\n",
       "  --sklearn-color-unfitted-level-1: #f6e4d2;\n",
       "  --sklearn-color-unfitted-level-2: #ffe0b3;\n",
       "  --sklearn-color-unfitted-level-3: chocolate;\n",
       "  /* Definition of color scheme for fitted estimators */\n",
       "  --sklearn-color-fitted-level-0: #f0f8ff;\n",
       "  --sklearn-color-fitted-level-1: #d4ebff;\n",
       "  --sklearn-color-fitted-level-2: #b3dbfd;\n",
       "  --sklearn-color-fitted-level-3: cornflowerblue;\n",
       "\n",
       "  /* Specific color for light theme */\n",
       "  --sklearn-color-text-on-default-background: var(--sg-text-color, var(--theme-code-foreground, var(--jp-content-font-color1, black)));\n",
       "  --sklearn-color-background: var(--sg-background-color, var(--theme-background, var(--jp-layout-color0, white)));\n",
       "  --sklearn-color-border-box: var(--sg-text-color, var(--theme-code-foreground, var(--jp-content-font-color1, black)));\n",
       "  --sklearn-color-icon: #696969;\n",
       "\n",
       "  @media (prefers-color-scheme: dark) {\n",
       "    /* Redefinition of color scheme for dark theme */\n",
       "    --sklearn-color-text-on-default-background: var(--sg-text-color, var(--theme-code-foreground, var(--jp-content-font-color1, white)));\n",
       "    --sklearn-color-background: var(--sg-background-color, var(--theme-background, var(--jp-layout-color0, #111)));\n",
       "    --sklearn-color-border-box: var(--sg-text-color, var(--theme-code-foreground, var(--jp-content-font-color1, white)));\n",
       "    --sklearn-color-icon: #878787;\n",
       "  }\n",
       "}\n",
       "\n",
       "#sk-container-id-1 {\n",
       "  color: var(--sklearn-color-text);\n",
       "}\n",
       "\n",
       "#sk-container-id-1 pre {\n",
       "  padding: 0;\n",
       "}\n",
       "\n",
       "#sk-container-id-1 input.sk-hidden--visually {\n",
       "  border: 0;\n",
       "  clip: rect(1px 1px 1px 1px);\n",
       "  clip: rect(1px, 1px, 1px, 1px);\n",
       "  height: 1px;\n",
       "  margin: -1px;\n",
       "  overflow: hidden;\n",
       "  padding: 0;\n",
       "  position: absolute;\n",
       "  width: 1px;\n",
       "}\n",
       "\n",
       "#sk-container-id-1 div.sk-dashed-wrapped {\n",
       "  border: 1px dashed var(--sklearn-color-line);\n",
       "  margin: 0 0.4em 0.5em 0.4em;\n",
       "  box-sizing: border-box;\n",
       "  padding-bottom: 0.4em;\n",
       "  background-color: var(--sklearn-color-background);\n",
       "}\n",
       "\n",
       "#sk-container-id-1 div.sk-container {\n",
       "  /* jupyter's `normalize.less` sets `[hidden] { display: none; }`\n",
       "     but bootstrap.min.css set `[hidden] { display: none !important; }`\n",
       "     so we also need the `!important` here to be able to override the\n",
       "     default hidden behavior on the sphinx rendered scikit-learn.org.\n",
       "     See: https://github.com/scikit-learn/scikit-learn/issues/21755 */\n",
       "  display: inline-block !important;\n",
       "  position: relative;\n",
       "}\n",
       "\n",
       "#sk-container-id-1 div.sk-text-repr-fallback {\n",
       "  display: none;\n",
       "}\n",
       "\n",
       "div.sk-parallel-item,\n",
       "div.sk-serial,\n",
       "div.sk-item {\n",
       "  /* draw centered vertical line to link estimators */\n",
       "  background-image: linear-gradient(var(--sklearn-color-text-on-default-background), var(--sklearn-color-text-on-default-background));\n",
       "  background-size: 2px 100%;\n",
       "  background-repeat: no-repeat;\n",
       "  background-position: center center;\n",
       "}\n",
       "\n",
       "/* Parallel-specific style estimator block */\n",
       "\n",
       "#sk-container-id-1 div.sk-parallel-item::after {\n",
       "  content: \"\";\n",
       "  width: 100%;\n",
       "  border-bottom: 2px solid var(--sklearn-color-text-on-default-background);\n",
       "  flex-grow: 1;\n",
       "}\n",
       "\n",
       "#sk-container-id-1 div.sk-parallel {\n",
       "  display: flex;\n",
       "  align-items: stretch;\n",
       "  justify-content: center;\n",
       "  background-color: var(--sklearn-color-background);\n",
       "  position: relative;\n",
       "}\n",
       "\n",
       "#sk-container-id-1 div.sk-parallel-item {\n",
       "  display: flex;\n",
       "  flex-direction: column;\n",
       "}\n",
       "\n",
       "#sk-container-id-1 div.sk-parallel-item:first-child::after {\n",
       "  align-self: flex-end;\n",
       "  width: 50%;\n",
       "}\n",
       "\n",
       "#sk-container-id-1 div.sk-parallel-item:last-child::after {\n",
       "  align-self: flex-start;\n",
       "  width: 50%;\n",
       "}\n",
       "\n",
       "#sk-container-id-1 div.sk-parallel-item:only-child::after {\n",
       "  width: 0;\n",
       "}\n",
       "\n",
       "/* Serial-specific style estimator block */\n",
       "\n",
       "#sk-container-id-1 div.sk-serial {\n",
       "  display: flex;\n",
       "  flex-direction: column;\n",
       "  align-items: center;\n",
       "  background-color: var(--sklearn-color-background);\n",
       "  padding-right: 1em;\n",
       "  padding-left: 1em;\n",
       "}\n",
       "\n",
       "\n",
       "/* Toggleable style: style used for estimator/Pipeline/ColumnTransformer box that is\n",
       "clickable and can be expanded/collapsed.\n",
       "- Pipeline and ColumnTransformer use this feature and define the default style\n",
       "- Estimators will overwrite some part of the style using the `sk-estimator` class\n",
       "*/\n",
       "\n",
       "/* Pipeline and ColumnTransformer style (default) */\n",
       "\n",
       "#sk-container-id-1 div.sk-toggleable {\n",
       "  /* Default theme specific background. It is overwritten whether we have a\n",
       "  specific estimator or a Pipeline/ColumnTransformer */\n",
       "  background-color: var(--sklearn-color-background);\n",
       "}\n",
       "\n",
       "/* Toggleable label */\n",
       "#sk-container-id-1 label.sk-toggleable__label {\n",
       "  cursor: pointer;\n",
       "  display: flex;\n",
       "  width: 100%;\n",
       "  margin-bottom: 0;\n",
       "  padding: 0.5em;\n",
       "  box-sizing: border-box;\n",
       "  text-align: center;\n",
       "  align-items: start;\n",
       "  justify-content: space-between;\n",
       "  gap: 0.5em;\n",
       "}\n",
       "\n",
       "#sk-container-id-1 label.sk-toggleable__label .caption {\n",
       "  font-size: 0.6rem;\n",
       "  font-weight: lighter;\n",
       "  color: var(--sklearn-color-text-muted);\n",
       "}\n",
       "\n",
       "#sk-container-id-1 label.sk-toggleable__label-arrow:before {\n",
       "  /* Arrow on the left of the label */\n",
       "  content: \"▸\";\n",
       "  float: left;\n",
       "  margin-right: 0.25em;\n",
       "  color: var(--sklearn-color-icon);\n",
       "}\n",
       "\n",
       "#sk-container-id-1 label.sk-toggleable__label-arrow:hover:before {\n",
       "  color: var(--sklearn-color-text);\n",
       "}\n",
       "\n",
       "/* Toggleable content - dropdown */\n",
       "\n",
       "#sk-container-id-1 div.sk-toggleable__content {\n",
       "  max-height: 0;\n",
       "  max-width: 0;\n",
       "  overflow: hidden;\n",
       "  text-align: left;\n",
       "  /* unfitted */\n",
       "  background-color: var(--sklearn-color-unfitted-level-0);\n",
       "}\n",
       "\n",
       "#sk-container-id-1 div.sk-toggleable__content.fitted {\n",
       "  /* fitted */\n",
       "  background-color: var(--sklearn-color-fitted-level-0);\n",
       "}\n",
       "\n",
       "#sk-container-id-1 div.sk-toggleable__content pre {\n",
       "  margin: 0.2em;\n",
       "  border-radius: 0.25em;\n",
       "  color: var(--sklearn-color-text);\n",
       "  /* unfitted */\n",
       "  background-color: var(--sklearn-color-unfitted-level-0);\n",
       "}\n",
       "\n",
       "#sk-container-id-1 div.sk-toggleable__content.fitted pre {\n",
       "  /* unfitted */\n",
       "  background-color: var(--sklearn-color-fitted-level-0);\n",
       "}\n",
       "\n",
       "#sk-container-id-1 input.sk-toggleable__control:checked~div.sk-toggleable__content {\n",
       "  /* Expand drop-down */\n",
       "  max-height: 200px;\n",
       "  max-width: 100%;\n",
       "  overflow: auto;\n",
       "}\n",
       "\n",
       "#sk-container-id-1 input.sk-toggleable__control:checked~label.sk-toggleable__label-arrow:before {\n",
       "  content: \"▾\";\n",
       "}\n",
       "\n",
       "/* Pipeline/ColumnTransformer-specific style */\n",
       "\n",
       "#sk-container-id-1 div.sk-label input.sk-toggleable__control:checked~label.sk-toggleable__label {\n",
       "  color: var(--sklearn-color-text);\n",
       "  background-color: var(--sklearn-color-unfitted-level-2);\n",
       "}\n",
       "\n",
       "#sk-container-id-1 div.sk-label.fitted input.sk-toggleable__control:checked~label.sk-toggleable__label {\n",
       "  background-color: var(--sklearn-color-fitted-level-2);\n",
       "}\n",
       "\n",
       "/* Estimator-specific style */\n",
       "\n",
       "/* Colorize estimator box */\n",
       "#sk-container-id-1 div.sk-estimator input.sk-toggleable__control:checked~label.sk-toggleable__label {\n",
       "  /* unfitted */\n",
       "  background-color: var(--sklearn-color-unfitted-level-2);\n",
       "}\n",
       "\n",
       "#sk-container-id-1 div.sk-estimator.fitted input.sk-toggleable__control:checked~label.sk-toggleable__label {\n",
       "  /* fitted */\n",
       "  background-color: var(--sklearn-color-fitted-level-2);\n",
       "}\n",
       "\n",
       "#sk-container-id-1 div.sk-label label.sk-toggleable__label,\n",
       "#sk-container-id-1 div.sk-label label {\n",
       "  /* The background is the default theme color */\n",
       "  color: var(--sklearn-color-text-on-default-background);\n",
       "}\n",
       "\n",
       "/* On hover, darken the color of the background */\n",
       "#sk-container-id-1 div.sk-label:hover label.sk-toggleable__label {\n",
       "  color: var(--sklearn-color-text);\n",
       "  background-color: var(--sklearn-color-unfitted-level-2);\n",
       "}\n",
       "\n",
       "/* Label box, darken color on hover, fitted */\n",
       "#sk-container-id-1 div.sk-label.fitted:hover label.sk-toggleable__label.fitted {\n",
       "  color: var(--sklearn-color-text);\n",
       "  background-color: var(--sklearn-color-fitted-level-2);\n",
       "}\n",
       "\n",
       "/* Estimator label */\n",
       "\n",
       "#sk-container-id-1 div.sk-label label {\n",
       "  font-family: monospace;\n",
       "  font-weight: bold;\n",
       "  display: inline-block;\n",
       "  line-height: 1.2em;\n",
       "}\n",
       "\n",
       "#sk-container-id-1 div.sk-label-container {\n",
       "  text-align: center;\n",
       "}\n",
       "\n",
       "/* Estimator-specific */\n",
       "#sk-container-id-1 div.sk-estimator {\n",
       "  font-family: monospace;\n",
       "  border: 1px dotted var(--sklearn-color-border-box);\n",
       "  border-radius: 0.25em;\n",
       "  box-sizing: border-box;\n",
       "  margin-bottom: 0.5em;\n",
       "  /* unfitted */\n",
       "  background-color: var(--sklearn-color-unfitted-level-0);\n",
       "}\n",
       "\n",
       "#sk-container-id-1 div.sk-estimator.fitted {\n",
       "  /* fitted */\n",
       "  background-color: var(--sklearn-color-fitted-level-0);\n",
       "}\n",
       "\n",
       "/* on hover */\n",
       "#sk-container-id-1 div.sk-estimator:hover {\n",
       "  /* unfitted */\n",
       "  background-color: var(--sklearn-color-unfitted-level-2);\n",
       "}\n",
       "\n",
       "#sk-container-id-1 div.sk-estimator.fitted:hover {\n",
       "  /* fitted */\n",
       "  background-color: var(--sklearn-color-fitted-level-2);\n",
       "}\n",
       "\n",
       "/* Specification for estimator info (e.g. \"i\" and \"?\") */\n",
       "\n",
       "/* Common style for \"i\" and \"?\" */\n",
       "\n",
       ".sk-estimator-doc-link,\n",
       "a:link.sk-estimator-doc-link,\n",
       "a:visited.sk-estimator-doc-link {\n",
       "  float: right;\n",
       "  font-size: smaller;\n",
       "  line-height: 1em;\n",
       "  font-family: monospace;\n",
       "  background-color: var(--sklearn-color-background);\n",
       "  border-radius: 1em;\n",
       "  height: 1em;\n",
       "  width: 1em;\n",
       "  text-decoration: none !important;\n",
       "  margin-left: 0.5em;\n",
       "  text-align: center;\n",
       "  /* unfitted */\n",
       "  border: var(--sklearn-color-unfitted-level-1) 1pt solid;\n",
       "  color: var(--sklearn-color-unfitted-level-1);\n",
       "}\n",
       "\n",
       ".sk-estimator-doc-link.fitted,\n",
       "a:link.sk-estimator-doc-link.fitted,\n",
       "a:visited.sk-estimator-doc-link.fitted {\n",
       "  /* fitted */\n",
       "  border: var(--sklearn-color-fitted-level-1) 1pt solid;\n",
       "  color: var(--sklearn-color-fitted-level-1);\n",
       "}\n",
       "\n",
       "/* On hover */\n",
       "div.sk-estimator:hover .sk-estimator-doc-link:hover,\n",
       ".sk-estimator-doc-link:hover,\n",
       "div.sk-label-container:hover .sk-estimator-doc-link:hover,\n",
       ".sk-estimator-doc-link:hover {\n",
       "  /* unfitted */\n",
       "  background-color: var(--sklearn-color-unfitted-level-3);\n",
       "  color: var(--sklearn-color-background);\n",
       "  text-decoration: none;\n",
       "}\n",
       "\n",
       "div.sk-estimator.fitted:hover .sk-estimator-doc-link.fitted:hover,\n",
       ".sk-estimator-doc-link.fitted:hover,\n",
       "div.sk-label-container:hover .sk-estimator-doc-link.fitted:hover,\n",
       ".sk-estimator-doc-link.fitted:hover {\n",
       "  /* fitted */\n",
       "  background-color: var(--sklearn-color-fitted-level-3);\n",
       "  color: var(--sklearn-color-background);\n",
       "  text-decoration: none;\n",
       "}\n",
       "\n",
       "/* Span, style for the box shown on hovering the info icon */\n",
       ".sk-estimator-doc-link span {\n",
       "  display: none;\n",
       "  z-index: 9999;\n",
       "  position: relative;\n",
       "  font-weight: normal;\n",
       "  right: .2ex;\n",
       "  padding: .5ex;\n",
       "  margin: .5ex;\n",
       "  width: min-content;\n",
       "  min-width: 20ex;\n",
       "  max-width: 50ex;\n",
       "  color: var(--sklearn-color-text);\n",
       "  box-shadow: 2pt 2pt 4pt #999;\n",
       "  /* unfitted */\n",
       "  background: var(--sklearn-color-unfitted-level-0);\n",
       "  border: .5pt solid var(--sklearn-color-unfitted-level-3);\n",
       "}\n",
       "\n",
       ".sk-estimator-doc-link.fitted span {\n",
       "  /* fitted */\n",
       "  background: var(--sklearn-color-fitted-level-0);\n",
       "  border: var(--sklearn-color-fitted-level-3);\n",
       "}\n",
       "\n",
       ".sk-estimator-doc-link:hover span {\n",
       "  display: block;\n",
       "}\n",
       "\n",
       "/* \"?\"-specific style due to the `<a>` HTML tag */\n",
       "\n",
       "#sk-container-id-1 a.estimator_doc_link {\n",
       "  float: right;\n",
       "  font-size: 1rem;\n",
       "  line-height: 1em;\n",
       "  font-family: monospace;\n",
       "  background-color: var(--sklearn-color-background);\n",
       "  border-radius: 1rem;\n",
       "  height: 1rem;\n",
       "  width: 1rem;\n",
       "  text-decoration: none;\n",
       "  /* unfitted */\n",
       "  color: var(--sklearn-color-unfitted-level-1);\n",
       "  border: var(--sklearn-color-unfitted-level-1) 1pt solid;\n",
       "}\n",
       "\n",
       "#sk-container-id-1 a.estimator_doc_link.fitted {\n",
       "  /* fitted */\n",
       "  border: var(--sklearn-color-fitted-level-1) 1pt solid;\n",
       "  color: var(--sklearn-color-fitted-level-1);\n",
       "}\n",
       "\n",
       "/* On hover */\n",
       "#sk-container-id-1 a.estimator_doc_link:hover {\n",
       "  /* unfitted */\n",
       "  background-color: var(--sklearn-color-unfitted-level-3);\n",
       "  color: var(--sklearn-color-background);\n",
       "  text-decoration: none;\n",
       "}\n",
       "\n",
       "#sk-container-id-1 a.estimator_doc_link.fitted:hover {\n",
       "  /* fitted */\n",
       "  background-color: var(--sklearn-color-fitted-level-3);\n",
       "}\n",
       "</style><div id=\"sk-container-id-1\" class=\"sk-top-container\"><div class=\"sk-text-repr-fallback\"><pre>Pipeline(steps=[(&#x27;preproc&#x27;,\n",
       "                 ColumnTransformer(transformers=[(&#x27;numeric&#x27;, StandardScaler(),\n",
       "                                                  [&#x27;dayofmonth&#x27;, &#x27;dayofweek&#x27;,\n",
       "                                                   &#x27;dayofyear&#x27;, &#x27;weekofyear&#x27;,\n",
       "                                                   &#x27;month&#x27;, &#x27;quarter&#x27;, &#x27;year&#x27;,\n",
       "                                                   &#x27;pm_lag_1Y&#x27;, &#x27;pm_lag_2Y&#x27;,\n",
       "                                                   &#x27;pm_lag_1M&#x27;, &#x27;pm_lag_1W&#x27;,\n",
       "                                                   &#x27;co_lag_1Y&#x27;, &#x27;co_lag_2Y&#x27;,\n",
       "                                                   &#x27;co_lag_1M&#x27;, &#x27;co_lag_1W&#x27;,\n",
       "                                                   &#x27;o3_lag_1Y&#x27;, &#x27;o3_lag_2Y&#x27;,\n",
       "                                                   &#x27;o3_lag_1M&#x27;, &#x27;o3_lag_1W&#x27;,\n",
       "                                                   &#x27;pm_lag_1D&#x27;, &#x27;co_lag_1D&#x27;,\n",
       "                                                   &#x27;o3_lag_1D&#x27;, &#x27;pm_lag_2D&#x27;,\n",
       "                                                   &#x27;co_lag_2D&#x27;, &#x27;o3_lag_2D&#x27;,\n",
       "                                                   &#x27;pm_lag_3D&#x27;, &#x27;co_lag_3D&#x27;,\n",
       "                                                   &#x27;o3_lag_3D&#x27;]),\n",
       "                                                 (&#x27;categorical&#x27;,\n",
       "                                                  OneHotEncoder(handle_unknown=&#x27;ignore&#x27;),\n",
       "                                                  [&#x27;state&#x27;])])),\n",
       "                (&#x27;regr&#x27;, Lasso(alpha=1, max_iter=10000))])</pre><b>In a Jupyter environment, please rerun this cell to show the HTML representation or trust the notebook. <br />On GitHub, the HTML representation is unable to render, please try loading this page with nbviewer.org.</b></div><div class=\"sk-container\" hidden><div class=\"sk-item sk-dashed-wrapped\"><div class=\"sk-label-container\"><div class=\"sk-label fitted sk-toggleable\"><input class=\"sk-toggleable__control sk-hidden--visually\" id=\"sk-estimator-id-1\" type=\"checkbox\" ><label for=\"sk-estimator-id-1\" class=\"sk-toggleable__label fitted sk-toggleable__label-arrow\"><div><div>Pipeline</div></div><div><a class=\"sk-estimator-doc-link fitted\" rel=\"noreferrer\" target=\"_blank\" href=\"https://scikit-learn.org/1.6/modules/generated/sklearn.pipeline.Pipeline.html\">?<span>Documentation for Pipeline</span></a><span class=\"sk-estimator-doc-link fitted\">i<span>Fitted</span></span></div></label><div class=\"sk-toggleable__content fitted\"><pre>Pipeline(steps=[(&#x27;preproc&#x27;,\n",
       "                 ColumnTransformer(transformers=[(&#x27;numeric&#x27;, StandardScaler(),\n",
       "                                                  [&#x27;dayofmonth&#x27;, &#x27;dayofweek&#x27;,\n",
       "                                                   &#x27;dayofyear&#x27;, &#x27;weekofyear&#x27;,\n",
       "                                                   &#x27;month&#x27;, &#x27;quarter&#x27;, &#x27;year&#x27;,\n",
       "                                                   &#x27;pm_lag_1Y&#x27;, &#x27;pm_lag_2Y&#x27;,\n",
       "                                                   &#x27;pm_lag_1M&#x27;, &#x27;pm_lag_1W&#x27;,\n",
       "                                                   &#x27;co_lag_1Y&#x27;, &#x27;co_lag_2Y&#x27;,\n",
       "                                                   &#x27;co_lag_1M&#x27;, &#x27;co_lag_1W&#x27;,\n",
       "                                                   &#x27;o3_lag_1Y&#x27;, &#x27;o3_lag_2Y&#x27;,\n",
       "                                                   &#x27;o3_lag_1M&#x27;, &#x27;o3_lag_1W&#x27;,\n",
       "                                                   &#x27;pm_lag_1D&#x27;, &#x27;co_lag_1D&#x27;,\n",
       "                                                   &#x27;o3_lag_1D&#x27;, &#x27;pm_lag_2D&#x27;,\n",
       "                                                   &#x27;co_lag_2D&#x27;, &#x27;o3_lag_2D&#x27;,\n",
       "                                                   &#x27;pm_lag_3D&#x27;, &#x27;co_lag_3D&#x27;,\n",
       "                                                   &#x27;o3_lag_3D&#x27;]),\n",
       "                                                 (&#x27;categorical&#x27;,\n",
       "                                                  OneHotEncoder(handle_unknown=&#x27;ignore&#x27;),\n",
       "                                                  [&#x27;state&#x27;])])),\n",
       "                (&#x27;regr&#x27;, Lasso(alpha=1, max_iter=10000))])</pre></div> </div></div><div class=\"sk-serial\"><div class=\"sk-item sk-dashed-wrapped\"><div class=\"sk-label-container\"><div class=\"sk-label fitted sk-toggleable\"><input class=\"sk-toggleable__control sk-hidden--visually\" id=\"sk-estimator-id-2\" type=\"checkbox\" ><label for=\"sk-estimator-id-2\" class=\"sk-toggleable__label fitted sk-toggleable__label-arrow\"><div><div>preproc: ColumnTransformer</div></div><div><a class=\"sk-estimator-doc-link fitted\" rel=\"noreferrer\" target=\"_blank\" href=\"https://scikit-learn.org/1.6/modules/generated/sklearn.compose.ColumnTransformer.html\">?<span>Documentation for preproc: ColumnTransformer</span></a></div></label><div class=\"sk-toggleable__content fitted\"><pre>ColumnTransformer(transformers=[(&#x27;numeric&#x27;, StandardScaler(),\n",
       "                                 [&#x27;dayofmonth&#x27;, &#x27;dayofweek&#x27;, &#x27;dayofyear&#x27;,\n",
       "                                  &#x27;weekofyear&#x27;, &#x27;month&#x27;, &#x27;quarter&#x27;, &#x27;year&#x27;,\n",
       "                                  &#x27;pm_lag_1Y&#x27;, &#x27;pm_lag_2Y&#x27;, &#x27;pm_lag_1M&#x27;,\n",
       "                                  &#x27;pm_lag_1W&#x27;, &#x27;co_lag_1Y&#x27;, &#x27;co_lag_2Y&#x27;,\n",
       "                                  &#x27;co_lag_1M&#x27;, &#x27;co_lag_1W&#x27;, &#x27;o3_lag_1Y&#x27;,\n",
       "                                  &#x27;o3_lag_2Y&#x27;, &#x27;o3_lag_1M&#x27;, &#x27;o3_lag_1W&#x27;,\n",
       "                                  &#x27;pm_lag_1D&#x27;, &#x27;co_lag_1D&#x27;, &#x27;o3_lag_1D&#x27;,\n",
       "                                  &#x27;pm_lag_2D&#x27;, &#x27;co_lag_2D&#x27;, &#x27;o3_lag_2D&#x27;,\n",
       "                                  &#x27;pm_lag_3D&#x27;, &#x27;co_lag_3D&#x27;, &#x27;o3_lag_3D&#x27;]),\n",
       "                                (&#x27;categorical&#x27;,\n",
       "                                 OneHotEncoder(handle_unknown=&#x27;ignore&#x27;),\n",
       "                                 [&#x27;state&#x27;])])</pre></div> </div></div><div class=\"sk-parallel\"><div class=\"sk-parallel-item\"><div class=\"sk-item\"><div class=\"sk-label-container\"><div class=\"sk-label fitted sk-toggleable\"><input class=\"sk-toggleable__control sk-hidden--visually\" id=\"sk-estimator-id-3\" type=\"checkbox\" ><label for=\"sk-estimator-id-3\" class=\"sk-toggleable__label fitted sk-toggleable__label-arrow\"><div><div>numeric</div></div></label><div class=\"sk-toggleable__content fitted\"><pre>[&#x27;dayofmonth&#x27;, &#x27;dayofweek&#x27;, &#x27;dayofyear&#x27;, &#x27;weekofyear&#x27;, &#x27;month&#x27;, &#x27;quarter&#x27;, &#x27;year&#x27;, &#x27;pm_lag_1Y&#x27;, &#x27;pm_lag_2Y&#x27;, &#x27;pm_lag_1M&#x27;, &#x27;pm_lag_1W&#x27;, &#x27;co_lag_1Y&#x27;, &#x27;co_lag_2Y&#x27;, &#x27;co_lag_1M&#x27;, &#x27;co_lag_1W&#x27;, &#x27;o3_lag_1Y&#x27;, &#x27;o3_lag_2Y&#x27;, &#x27;o3_lag_1M&#x27;, &#x27;o3_lag_1W&#x27;, &#x27;pm_lag_1D&#x27;, &#x27;co_lag_1D&#x27;, &#x27;o3_lag_1D&#x27;, &#x27;pm_lag_2D&#x27;, &#x27;co_lag_2D&#x27;, &#x27;o3_lag_2D&#x27;, &#x27;pm_lag_3D&#x27;, &#x27;co_lag_3D&#x27;, &#x27;o3_lag_3D&#x27;]</pre></div> </div></div><div class=\"sk-serial\"><div class=\"sk-item\"><div class=\"sk-estimator fitted sk-toggleable\"><input class=\"sk-toggleable__control sk-hidden--visually\" id=\"sk-estimator-id-4\" type=\"checkbox\" ><label for=\"sk-estimator-id-4\" class=\"sk-toggleable__label fitted sk-toggleable__label-arrow\"><div><div>StandardScaler</div></div><div><a class=\"sk-estimator-doc-link fitted\" rel=\"noreferrer\" target=\"_blank\" href=\"https://scikit-learn.org/1.6/modules/generated/sklearn.preprocessing.StandardScaler.html\">?<span>Documentation for StandardScaler</span></a></div></label><div class=\"sk-toggleable__content fitted\"><pre>StandardScaler()</pre></div> </div></div></div></div></div><div class=\"sk-parallel-item\"><div class=\"sk-item\"><div class=\"sk-label-container\"><div class=\"sk-label fitted sk-toggleable\"><input class=\"sk-toggleable__control sk-hidden--visually\" id=\"sk-estimator-id-5\" type=\"checkbox\" ><label for=\"sk-estimator-id-5\" class=\"sk-toggleable__label fitted sk-toggleable__label-arrow\"><div><div>categorical</div></div></label><div class=\"sk-toggleable__content fitted\"><pre>[&#x27;state&#x27;]</pre></div> </div></div><div class=\"sk-serial\"><div class=\"sk-item\"><div class=\"sk-estimator fitted sk-toggleable\"><input class=\"sk-toggleable__control sk-hidden--visually\" id=\"sk-estimator-id-6\" type=\"checkbox\" ><label for=\"sk-estimator-id-6\" class=\"sk-toggleable__label fitted sk-toggleable__label-arrow\"><div><div>OneHotEncoder</div></div><div><a class=\"sk-estimator-doc-link fitted\" rel=\"noreferrer\" target=\"_blank\" href=\"https://scikit-learn.org/1.6/modules/generated/sklearn.preprocessing.OneHotEncoder.html\">?<span>Documentation for OneHotEncoder</span></a></div></label><div class=\"sk-toggleable__content fitted\"><pre>OneHotEncoder(handle_unknown=&#x27;ignore&#x27;)</pre></div> </div></div></div></div></div></div></div><div class=\"sk-item\"><div class=\"sk-estimator fitted sk-toggleable\"><input class=\"sk-toggleable__control sk-hidden--visually\" id=\"sk-estimator-id-7\" type=\"checkbox\" ><label for=\"sk-estimator-id-7\" class=\"sk-toggleable__label fitted sk-toggleable__label-arrow\"><div><div>Lasso</div></div><div><a class=\"sk-estimator-doc-link fitted\" rel=\"noreferrer\" target=\"_blank\" href=\"https://scikit-learn.org/1.6/modules/generated/sklearn.linear_model.Lasso.html\">?<span>Documentation for Lasso</span></a></div></label><div class=\"sk-toggleable__content fitted\"><pre>Lasso(alpha=1, max_iter=10000)</pre></div> </div></div></div></div></div></div>"
      ],
      "text/plain": [
       "Pipeline(steps=[('preproc',\n",
       "                 ColumnTransformer(transformers=[('numeric', StandardScaler(),\n",
       "                                                  ['dayofmonth', 'dayofweek',\n",
       "                                                   'dayofyear', 'weekofyear',\n",
       "                                                   'month', 'quarter', 'year',\n",
       "                                                   'pm_lag_1Y', 'pm_lag_2Y',\n",
       "                                                   'pm_lag_1M', 'pm_lag_1W',\n",
       "                                                   'co_lag_1Y', 'co_lag_2Y',\n",
       "                                                   'co_lag_1M', 'co_lag_1W',\n",
       "                                                   'o3_lag_1Y', 'o3_lag_2Y',\n",
       "                                                   'o3_lag_1M', 'o3_lag_1W',\n",
       "                                                   'pm_lag_1D', 'co_lag_1D',\n",
       "                                                   'o3_lag_1D', 'pm_lag_2D',\n",
       "                                                   'co_lag_2D', 'o3_lag_2D',\n",
       "                                                   'pm_lag_3D', 'co_lag_3D',\n",
       "                                                   'o3_lag_3D']),\n",
       "                                                 ('categorical',\n",
       "                                                  OneHotEncoder(handle_unknown='ignore'),\n",
       "                                                  ['state'])])),\n",
       "                ('regr', Lasso(alpha=1, max_iter=10000))])"
      ]
     },
     "execution_count": 18,
     "metadata": {},
     "output_type": "execute_result"
    }
   ],
   "source": [
    "%time model.fit(X_train, y_train)"
   ]
  },
  {
   "cell_type": "markdown",
   "metadata": {
    "id": "CBNwKTBslViy"
   },
   "source": [
    "### Hyperparameter Tuning per Regressione LASSO\n",
    "\n",
    "Per ottimizzare il livello di regolarizzazione LASSO, si utilizza una procedura di Hyperparameter Tuning (in questo caso `GridSearchCV`) che esplora diversi valori del parametro `alpha`. \\\n",
    "La validazione viene eseguita con `TimeSeriesSplit`, una tecnica di cross-validation adatta alle Serie Temporali, che preserva l’ordine cronologico dividendo il dataset in fold sequenziali."
   ]
  },
  {
   "cell_type": "code",
   "execution_count": 19,
   "metadata": {
    "id": "rAjFXQPQlX-M"
   },
   "outputs": [],
   "source": [
    "tscv = TimeSeriesSplit(n_splits=5)"
   ]
  },
  {
   "cell_type": "markdown",
   "metadata": {
    "id": "x4HO1u7CRRda"
   },
   "source": [
    "Nel blocco seguente viene visualizzata la suddivisione del dataset nei 5 fold della Time Series Cross-Validation.  \n",
    "Questa rappresentazione è utile per verificare che la sequenza temporale sia rispettata nella divisione dei dati tra training e validation set.\n"
   ]
  },
  {
   "cell_type": "code",
   "execution_count": 20,
   "metadata": {
    "colab": {
     "base_uri": "https://localhost:8080/",
     "height": 1000
    },
    "id": "H2V0j1jhk9yl",
    "outputId": "15dbb4c3-3e8c-4108-b964-ab5f36aaa0c5"
   },
   "outputs": [
    {
     "data": {
      "image/png": "[encoded data removed]",
      "text/plain": [
       "<Figure size 1200x1200 with 5 Axes>"
      ]
     },
     "metadata": {},
     "output_type": "display_data"
    }
   ],
   "source": [
    "fig, axes = plt.subplots(tscv.n_splits, 1, figsize=(12, 12), sharex=True)\n",
    "fig.tight_layout(pad=3.0)\n",
    "\n",
    "for index, (train_fold, validation_fold) in enumerate(tscv.split(y_train)):\n",
    "    sns.lineplot(data=y_train.iloc[train_fold], label='Training Set', ax=axes[index])\n",
    "    sns.lineplot(data=y_train.iloc[validation_fold], label='Validation Set', ax=axes[index])\n",
    "    axes[index].set_title(f'Time Series Split #{index}')\n",
    "    axes[index].set(xlabel=None, ylabel=None)\n",
    "\n",
    "plt.show()"
   ]
  },
  {
   "cell_type": "markdown",
   "metadata": {
    "id": "-habdEtGRWDW"
   },
   "source": [
    "Viene ora avviata una ricerca esaustiva degli iperparametri tramite `GridSearchCV`, testando tutti i 5 valori di `alpha` generati in scala logaritmica tra 10⁻³ e 10. \\\n",
    "Per ciascun valore di `alpha`, il modello viene addestrato e validato su ciascuno dei fold definiti dalla `TimeSeriesSplit`.\n",
    "\n",
    "Alla fine della procedura, viene selezionato il modello con le migliori prestazioni medie di validazione, che verrà quindi utilizzato per la valutazione finale."
   ]
  },
  {
   "cell_type": "code",
   "execution_count": 21,
   "metadata": {
    "id": "FkU3BKTAlViy"
   },
   "outputs": [],
   "source": [
    "alphas = np.logspace(-3, 1, num=5)\n",
    "grid = {\"regr__alpha\": alphas}\n",
    "gs = GridSearchCV(model, grid, cv=tscv, n_jobs=N_JOBS)"
   ]
  },
  {
   "cell_type": "code",
   "execution_count": 22,
   "metadata": {
    "colab": {
     "base_uri": "https://localhost:8080/"
    },
    "id": "kyNpEms_lViz",
    "outputId": "649dbf82-db14-4d7a-9b2f-6c398f3465c7"
   },
   "outputs": [
    {
     "name": "stdout",
     "output_type": "stream",
     "text": [
      "CPU times: total: 641 ms\n",
      "Wall time: 2.84 s\n",
      "\n"
     ]
    }
   ],
   "source": [
    "%time gs.fit(X_train, y_train);\n",
    "print()"
   ]
  },
  {
   "cell_type": "code",
   "execution_count": 23,
   "metadata": {
    "id": "vfRSNZkelViz"
   },
   "outputs": [],
   "source": [
    "get_estimator_scores(\"lasso_reg\", gs.best_estimator_)"
   ]
  },
  {
   "cell_type": "markdown",
   "metadata": {
    "id": "ek9cvilLRt9b"
   },
   "source": [
    "Infine, si visualizza l'andamento dello score di validazione al variare di `alpha`.  \n",
    "Il grafico aiuta a comprendere l'effetto della regolarizzazione L1: valori troppo bassi causano overfitting, mentre valori troppo alti portano a un'eccessiva semplificazione del modello."
   ]
  },
  {
   "cell_type": "code",
   "execution_count": 24,
   "metadata": {
    "id": "AJebrS-JlViz"
   },
   "outputs": [],
   "source": [
    "results = pd.DataFrame(gs.cv_results_)[[\"param_regr__alpha\", \"mean_test_score\"]]"
   ]
  },
  {
   "cell_type": "code",
   "execution_count": 25,
   "metadata": {
    "colab": {
     "base_uri": "https://localhost:8080/",
     "height": 484
    },
    "id": "PZZdd025lViz",
    "outputId": "7420d5de-5b05-43a4-a3c4-c0f6a78f31fb"
   },
   "outputs": [
    {
     "data": {
      "image/png": "[encoded data removed]",
      "text/plain": [
       "<Figure size 640x480 with 1 Axes>"
      ]
     },
     "metadata": {},
     "output_type": "display_data"
    }
   ],
   "source": [
    "plt.plot(results[\"param_regr__alpha\"], results[\"mean_test_score\"])\n",
    "plt.xscale('log')\n",
    "plt.xlabel('alpha')\n",
    "plt.ylabel('score')\n",
    "plt.title('Grafico al variare della regolarizzazione')\n",
    "plt.show()"
   ]
  },
  {
   "cell_type": "markdown",
   "metadata": {
    "id": "Mcl2wO-FlVi0"
   },
   "source": [
    "## Regressione Ridge\n",
    "\n",
    "La regressione Ridge introduce una penalizzazione L2 sui coefficienti del modello, utile per controllare l’overfitting, specialmente in presenza di feature polinomiali o feature altamente correlate. \\\n",
    "In questo caso, combiniamo la regressione Ridge con una trasformazione polinomiale delle feature (di grado 2 con sole interazioni) per aumentare la capacità espressiva del modello, mantenendo sotto controllo la complessità grazie alla regolarizzazione.\n"
   ]
  },
  {
   "cell_type": "code",
   "execution_count": 26,
   "metadata": {
    "id": "zUItTWw3lVi0"
   },
   "outputs": [],
   "source": [
    "model = Pipeline([\n",
    "    (\"preproc\", preprocessor),\n",
    "    (\"poly\",   PolynomialFeatures(degree=2, include_bias=False, interaction_only=True)),\n",
    "    (\"regr\", Ridge(alpha=1, max_iter=10000))\n",
    "])"
   ]
  },
  {
   "cell_type": "code",
   "execution_count": 27,
   "metadata": {
    "colab": {
     "base_uri": "https://localhost:8080/",
     "height": 324
    },
    "id": "8mqZrg_UlVi0",
    "outputId": "93d3e7e9-df59-4c02-f1f4-da29a069c93f"
   },
   "outputs": [
    {
     "name": "stdout",
     "output_type": "stream",
     "text": [
      "CPU times: total: 2.5 s\n",
      "Wall time: 885 ms\n"
     ]
    },
    {
     "data": {
      "text/html": [
       "<style>#sk-container-id-2 {\n",
       "  /* Definition of color scheme common for light and dark mode */\n",
       "  --sklearn-color-text: #000;\n",
       "  --sklearn-color-text-muted: #666;\n",
       "  --sklearn-color-line: gray;\n",
       "  /* Definition of color scheme for unfitted estimators */\n",
       "  --sklearn-color-unfitted-level-0: #fff5e6;\n",
       "  --sklearn-color-unfitted-level-1: #f6e4d2;\n",
       "  --sklearn-color-unfitted-level-2: #ffe0b3;\n",
       "  --sklearn-color-unfitted-level-3: chocolate;\n",
       "  /* Definition of color scheme for fitted estimators */\n",
       "  --sklearn-color-fitted-level-0: #f0f8ff;\n",
       "  --sklearn-color-fitted-level-1: #d4ebff;\n",
       "  --sklearn-color-fitted-level-2: #b3dbfd;\n",
       "  --sklearn-color-fitted-level-3: cornflowerblue;\n",
       "\n",
       "  /* Specific color for light theme */\n",
       "  --sklearn-color-text-on-default-background: var(--sg-text-color, var(--theme-code-foreground, var(--jp-content-font-color1, black)));\n",
       "  --sklearn-color-background: var(--sg-background-color, var(--theme-background, var(--jp-layout-color0, white)));\n",
       "  --sklearn-color-border-box: var(--sg-text-color, var(--theme-code-foreground, var(--jp-content-font-color1, black)));\n",
       "  --sklearn-color-icon: #696969;\n",
       "\n",
       "  @media (prefers-color-scheme: dark) {\n",
       "    /* Redefinition of color scheme for dark theme */\n",
       "    --sklearn-color-text-on-default-background: var(--sg-text-color, var(--theme-code-foreground, var(--jp-content-font-color1, white)));\n",
       "    --sklearn-color-background: var(--sg-background-color, var(--theme-background, var(--jp-layout-color0, #111)));\n",
       "    --sklearn-color-border-box: var(--sg-text-color, var(--theme-code-foreground, var(--jp-content-font-color1, white)));\n",
       "    --sklearn-color-icon: #878787;\n",
       "  }\n",
       "}\n",
       "\n",
       "#sk-container-id-2 {\n",
       "  color: var(--sklearn-color-text);\n",
       "}\n",
       "\n",
       "#sk-container-id-2 pre {\n",
       "  padding: 0;\n",
       "}\n",
       "\n",
       "#sk-container-id-2 input.sk-hidden--visually {\n",
       "  border: 0;\n",
       "  clip: rect(1px 1px 1px 1px);\n",
       "  clip: rect(1px, 1px, 1px, 1px);\n",
       "  height: 1px;\n",
       "  margin: -1px;\n",
       "  overflow: hidden;\n",
       "  padding: 0;\n",
       "  position: absolute;\n",
       "  width: 1px;\n",
       "}\n",
       "\n",
       "#sk-container-id-2 div.sk-dashed-wrapped {\n",
       "  border: 1px dashed var(--sklearn-color-line);\n",
       "  margin: 0 0.4em 0.5em 0.4em;\n",
       "  box-sizing: border-box;\n",
       "  padding-bottom: 0.4em;\n",
       "  background-color: var(--sklearn-color-background);\n",
       "}\n",
       "\n",
       "#sk-container-id-2 div.sk-container {\n",
       "  /* jupyter's `normalize.less` sets `[hidden] { display: none; }`\n",
       "     but bootstrap.min.css set `[hidden] { display: none !important; }`\n",
       "     so we also need the `!important` here to be able to override the\n",
       "     default hidden behavior on the sphinx rendered scikit-learn.org.\n",
       "     See: https://github.com/scikit-learn/scikit-learn/issues/21755 */\n",
       "  display: inline-block !important;\n",
       "  position: relative;\n",
       "}\n",
       "\n",
       "#sk-container-id-2 div.sk-text-repr-fallback {\n",
       "  display: none;\n",
       "}\n",
       "\n",
       "div.sk-parallel-item,\n",
       "div.sk-serial,\n",
       "div.sk-item {\n",
       "  /* draw centered vertical line to link estimators */\n",
       "  background-image: linear-gradient(var(--sklearn-color-text-on-default-background), var(--sklearn-color-text-on-default-background));\n",
       "  background-size: 2px 100%;\n",
       "  background-repeat: no-repeat;\n",
       "  background-position: center center;\n",
       "}\n",
       "\n",
       "/* Parallel-specific style estimator block */\n",
       "\n",
       "#sk-container-id-2 div.sk-parallel-item::after {\n",
       "  content: \"\";\n",
       "  width: 100%;\n",
       "  border-bottom: 2px solid var(--sklearn-color-text-on-default-background);\n",
       "  flex-grow: 1;\n",
       "}\n",
       "\n",
       "#sk-container-id-2 div.sk-parallel {\n",
       "  display: flex;\n",
       "  align-items: stretch;\n",
       "  justify-content: center;\n",
       "  background-color: var(--sklearn-color-background);\n",
       "  position: relative;\n",
       "}\n",
       "\n",
       "#sk-container-id-2 div.sk-parallel-item {\n",
       "  display: flex;\n",
       "  flex-direction: column;\n",
       "}\n",
       "\n",
       "#sk-container-id-2 div.sk-parallel-item:first-child::after {\n",
       "  align-self: flex-end;\n",
       "  width: 50%;\n",
       "}\n",
       "\n",
       "#sk-container-id-2 div.sk-parallel-item:last-child::after {\n",
       "  align-self: flex-start;\n",
       "  width: 50%;\n",
       "}\n",
       "\n",
       "#sk-container-id-2 div.sk-parallel-item:only-child::after {\n",
       "  width: 0;\n",
       "}\n",
       "\n",
       "/* Serial-specific style estimator block */\n",
       "\n",
       "#sk-container-id-2 div.sk-serial {\n",
       "  display: flex;\n",
       "  flex-direction: column;\n",
       "  align-items: center;\n",
       "  background-color: var(--sklearn-color-background);\n",
       "  padding-right: 1em;\n",
       "  padding-left: 1em;\n",
       "}\n",
       "\n",
       "\n",
       "/* Toggleable style: style used for estimator/Pipeline/ColumnTransformer box that is\n",
       "clickable and can be expanded/collapsed.\n",
       "- Pipeline and ColumnTransformer use this feature and define the default style\n",
       "- Estimators will overwrite some part of the style using the `sk-estimator` class\n",
       "*/\n",
       "\n",
       "/* Pipeline and ColumnTransformer style (default) */\n",
       "\n",
       "#sk-container-id-2 div.sk-toggleable {\n",
       "  /* Default theme specific background. It is overwritten whether we have a\n",
       "  specific estimator or a Pipeline/ColumnTransformer */\n",
       "  background-color: var(--sklearn-color-background);\n",
       "}\n",
       "\n",
       "/* Toggleable label */\n",
       "#sk-container-id-2 label.sk-toggleable__label {\n",
       "  cursor: pointer;\n",
       "  display: flex;\n",
       "  width: 100%;\n",
       "  margin-bottom: 0;\n",
       "  padding: 0.5em;\n",
       "  box-sizing: border-box;\n",
       "  text-align: center;\n",
       "  align-items: start;\n",
       "  justify-content: space-between;\n",
       "  gap: 0.5em;\n",
       "}\n",
       "\n",
       "#sk-container-id-2 label.sk-toggleable__label .caption {\n",
       "  font-size: 0.6rem;\n",
       "  font-weight: lighter;\n",
       "  color: var(--sklearn-color-text-muted);\n",
       "}\n",
       "\n",
       "#sk-container-id-2 label.sk-toggleable__label-arrow:before {\n",
       "  /* Arrow on the left of the label */\n",
       "  content: \"▸\";\n",
       "  float: left;\n",
       "  margin-right: 0.25em;\n",
       "  color: var(--sklearn-color-icon);\n",
       "}\n",
       "\n",
       "#sk-container-id-2 label.sk-toggleable__label-arrow:hover:before {\n",
       "  color: var(--sklearn-color-text);\n",
       "}\n",
       "\n",
       "/* Toggleable content - dropdown */\n",
       "\n",
       "#sk-container-id-2 div.sk-toggleable__content {\n",
       "  max-height: 0;\n",
       "  max-width: 0;\n",
       "  overflow: hidden;\n",
       "  text-align: left;\n",
       "  /* unfitted */\n",
       "  background-color: var(--sklearn-color-unfitted-level-0);\n",
       "}\n",
       "\n",
       "#sk-container-id-2 div.sk-toggleable__content.fitted {\n",
       "  /* fitted */\n",
       "  background-color: var(--sklearn-color-fitted-level-0);\n",
       "}\n",
       "\n",
       "#sk-container-id-2 div.sk-toggleable__content pre {\n",
       "  margin: 0.2em;\n",
       "  border-radius: 0.25em;\n",
       "  color: var(--sklearn-color-text);\n",
       "  /* unfitted */\n",
       "  background-color: var(--sklearn-color-unfitted-level-0);\n",
       "}\n",
       "\n",
       "#sk-container-id-2 div.sk-toggleable__content.fitted pre {\n",
       "  /* unfitted */\n",
       "  background-color: var(--sklearn-color-fitted-level-0);\n",
       "}\n",
       "\n",
       "#sk-container-id-2 input.sk-toggleable__control:checked~div.sk-toggleable__content {\n",
       "  /* Expand drop-down */\n",
       "  max-height: 200px;\n",
       "  max-width: 100%;\n",
       "  overflow: auto;\n",
       "}\n",
       "\n",
       "#sk-container-id-2 input.sk-toggleable__control:checked~label.sk-toggleable__label-arrow:before {\n",
       "  content: \"▾\";\n",
       "}\n",
       "\n",
       "/* Pipeline/ColumnTransformer-specific style */\n",
       "\n",
       "#sk-container-id-2 div.sk-label input.sk-toggleable__control:checked~label.sk-toggleable__label {\n",
       "  color: var(--sklearn-color-text);\n",
       "  background-color: var(--sklearn-color-unfitted-level-2);\n",
       "}\n",
       "\n",
       "#sk-container-id-2 div.sk-label.fitted input.sk-toggleable__control:checked~label.sk-toggleable__label {\n",
       "  background-color: var(--sklearn-color-fitted-level-2);\n",
       "}\n",
       "\n",
       "/* Estimator-specific style */\n",
       "\n",
       "/* Colorize estimator box */\n",
       "#sk-container-id-2 div.sk-estimator input.sk-toggleable__control:checked~label.sk-toggleable__label {\n",
       "  /* unfitted */\n",
       "  background-color: var(--sklearn-color-unfitted-level-2);\n",
       "}\n",
       "\n",
       "#sk-container-id-2 div.sk-estimator.fitted input.sk-toggleable__control:checked~label.sk-toggleable__label {\n",
       "  /* fitted */\n",
       "  background-color: var(--sklearn-color-fitted-level-2);\n",
       "}\n",
       "\n",
       "#sk-container-id-2 div.sk-label label.sk-toggleable__label,\n",
       "#sk-container-id-2 div.sk-label label {\n",
       "  /* The background is the default theme color */\n",
       "  color: var(--sklearn-color-text-on-default-background);\n",
       "}\n",
       "\n",
       "/* On hover, darken the color of the background */\n",
       "#sk-container-id-2 div.sk-label:hover label.sk-toggleable__label {\n",
       "  color: var(--sklearn-color-text);\n",
       "  background-color: var(--sklearn-color-unfitted-level-2);\n",
       "}\n",
       "\n",
       "/* Label box, darken color on hover, fitted */\n",
       "#sk-container-id-2 div.sk-label.fitted:hover label.sk-toggleable__label.fitted {\n",
       "  color: var(--sklearn-color-text);\n",
       "  background-color: var(--sklearn-color-fitted-level-2);\n",
       "}\n",
       "\n",
       "/* Estimator label */\n",
       "\n",
       "#sk-container-id-2 div.sk-label label {\n",
       "  font-family: monospace;\n",
       "  font-weight: bold;\n",
       "  display: inline-block;\n",
       "  line-height: 1.2em;\n",
       "}\n",
       "\n",
       "#sk-container-id-2 div.sk-label-container {\n",
       "  text-align: center;\n",
       "}\n",
       "\n",
       "/* Estimator-specific */\n",
       "#sk-container-id-2 div.sk-estimator {\n",
       "  font-family: monospace;\n",
       "  border: 1px dotted var(--sklearn-color-border-box);\n",
       "  border-radius: 0.25em;\n",
       "  box-sizing: border-box;\n",
       "  margin-bottom: 0.5em;\n",
       "  /* unfitted */\n",
       "  background-color: var(--sklearn-color-unfitted-level-0);\n",
       "}\n",
       "\n",
       "#sk-container-id-2 div.sk-estimator.fitted {\n",
       "  /* fitted */\n",
       "  background-color: var(--sklearn-color-fitted-level-0);\n",
       "}\n",
       "\n",
       "/* on hover */\n",
       "#sk-container-id-2 div.sk-estimator:hover {\n",
       "  /* unfitted */\n",
       "  background-color: var(--sklearn-color-unfitted-level-2);\n",
       "}\n",
       "\n",
       "#sk-container-id-2 div.sk-estimator.fitted:hover {\n",
       "  /* fitted */\n",
       "  background-color: var(--sklearn-color-fitted-level-2);\n",
       "}\n",
       "\n",
       "/* Specification for estimator info (e.g. \"i\" and \"?\") */\n",
       "\n",
       "/* Common style for \"i\" and \"?\" */\n",
       "\n",
       ".sk-estimator-doc-link,\n",
       "a:link.sk-estimator-doc-link,\n",
       "a:visited.sk-estimator-doc-link {\n",
       "  float: right;\n",
       "  font-size: smaller;\n",
       "  line-height: 1em;\n",
       "  font-family: monospace;\n",
       "  background-color: var(--sklearn-color-background);\n",
       "  border-radius: 1em;\n",
       "  height: 1em;\n",
       "  width: 1em;\n",
       "  text-decoration: none !important;\n",
       "  margin-left: 0.5em;\n",
       "  text-align: center;\n",
       "  /* unfitted */\n",
       "  border: var(--sklearn-color-unfitted-level-1) 1pt solid;\n",
       "  color: var(--sklearn-color-unfitted-level-1);\n",
       "}\n",
       "\n",
       ".sk-estimator-doc-link.fitted,\n",
       "a:link.sk-estimator-doc-link.fitted,\n",
       "a:visited.sk-estimator-doc-link.fitted {\n",
       "  /* fitted */\n",
       "  border: var(--sklearn-color-fitted-level-1) 1pt solid;\n",
       "  color: var(--sklearn-color-fitted-level-1);\n",
       "}\n",
       "\n",
       "/* On hover */\n",
       "div.sk-estimator:hover .sk-estimator-doc-link:hover,\n",
       ".sk-estimator-doc-link:hover,\n",
       "div.sk-label-container:hover .sk-estimator-doc-link:hover,\n",
       ".sk-estimator-doc-link:hover {\n",
       "  /* unfitted */\n",
       "  background-color: var(--sklearn-color-unfitted-level-3);\n",
       "  color: var(--sklearn-color-background);\n",
       "  text-decoration: none;\n",
       "}\n",
       "\n",
       "div.sk-estimator.fitted:hover .sk-estimator-doc-link.fitted:hover,\n",
       ".sk-estimator-doc-link.fitted:hover,\n",
       "div.sk-label-container:hover .sk-estimator-doc-link.fitted:hover,\n",
       ".sk-estimator-doc-link.fitted:hover {\n",
       "  /* fitted */\n",
       "  background-color: var(--sklearn-color-fitted-level-3);\n",
       "  color: var(--sklearn-color-background);\n",
       "  text-decoration: none;\n",
       "}\n",
       "\n",
       "/* Span, style for the box shown on hovering the info icon */\n",
       ".sk-estimator-doc-link span {\n",
       "  display: none;\n",
       "  z-index: 9999;\n",
       "  position: relative;\n",
       "  font-weight: normal;\n",
       "  right: .2ex;\n",
       "  padding: .5ex;\n",
       "  margin: .5ex;\n",
       "  width: min-content;\n",
       "  min-width: 20ex;\n",
       "  max-width: 50ex;\n",
       "  color: var(--sklearn-color-text);\n",
       "  box-shadow: 2pt 2pt 4pt #999;\n",
       "  /* unfitted */\n",
       "  background: var(--sklearn-color-unfitted-level-0);\n",
       "  border: .5pt solid var(--sklearn-color-unfitted-level-3);\n",
       "}\n",
       "\n",
       ".sk-estimator-doc-link.fitted span {\n",
       "  /* fitted */\n",
       "  background: var(--sklearn-color-fitted-level-0);\n",
       "  border: var(--sklearn-color-fitted-level-3);\n",
       "}\n",
       "\n",
       ".sk-estimator-doc-link:hover span {\n",
       "  display: block;\n",
       "}\n",
       "\n",
       "/* \"?\"-specific style due to the `<a>` HTML tag */\n",
       "\n",
       "#sk-container-id-2 a.estimator_doc_link {\n",
       "  float: right;\n",
       "  font-size: 1rem;\n",
       "  line-height: 1em;\n",
       "  font-family: monospace;\n",
       "  background-color: var(--sklearn-color-background);\n",
       "  border-radius: 1rem;\n",
       "  height: 1rem;\n",
       "  width: 1rem;\n",
       "  text-decoration: none;\n",
       "  /* unfitted */\n",
       "  color: var(--sklearn-color-unfitted-level-1);\n",
       "  border: var(--sklearn-color-unfitted-level-1) 1pt solid;\n",
       "}\n",
       "\n",
       "#sk-container-id-2 a.estimator_doc_link.fitted {\n",
       "  /* fitted */\n",
       "  border: var(--sklearn-color-fitted-level-1) 1pt solid;\n",
       "  color: var(--sklearn-color-fitted-level-1);\n",
       "}\n",
       "\n",
       "/* On hover */\n",
       "#sk-container-id-2 a.estimator_doc_link:hover {\n",
       "  /* unfitted */\n",
       "  background-color: var(--sklearn-color-unfitted-level-3);\n",
       "  color: var(--sklearn-color-background);\n",
       "  text-decoration: none;\n",
       "}\n",
       "\n",
       "#sk-container-id-2 a.estimator_doc_link.fitted:hover {\n",
       "  /* fitted */\n",
       "  background-color: var(--sklearn-color-fitted-level-3);\n",
       "}\n",
       "</style><div id=\"sk-container-id-2\" class=\"sk-top-container\"><div class=\"sk-text-repr-fallback\"><pre>Pipeline(steps=[(&#x27;preproc&#x27;,\n",
       "                 ColumnTransformer(transformers=[(&#x27;numeric&#x27;, StandardScaler(),\n",
       "                                                  [&#x27;dayofmonth&#x27;, &#x27;dayofweek&#x27;,\n",
       "                                                   &#x27;dayofyear&#x27;, &#x27;weekofyear&#x27;,\n",
       "                                                   &#x27;month&#x27;, &#x27;quarter&#x27;, &#x27;year&#x27;,\n",
       "                                                   &#x27;pm_lag_1Y&#x27;, &#x27;pm_lag_2Y&#x27;,\n",
       "                                                   &#x27;pm_lag_1M&#x27;, &#x27;pm_lag_1W&#x27;,\n",
       "                                                   &#x27;co_lag_1Y&#x27;, &#x27;co_lag_2Y&#x27;,\n",
       "                                                   &#x27;co_lag_1M&#x27;, &#x27;co_lag_1W&#x27;,\n",
       "                                                   &#x27;o3_lag_1Y&#x27;, &#x27;o3_lag_2Y&#x27;,\n",
       "                                                   &#x27;o3_lag_1M&#x27;, &#x27;o3_lag_1W&#x27;,\n",
       "                                                   &#x27;pm_lag_1D&#x27;, &#x27;co_lag_1D&#x27;,\n",
       "                                                   &#x27;o3_lag_1D&#x27;, &#x27;pm_lag_2D&#x27;,\n",
       "                                                   &#x27;co_lag_2D&#x27;, &#x27;o3_lag_2D&#x27;,\n",
       "                                                   &#x27;pm_lag_3D&#x27;, &#x27;co_lag_3D&#x27;,\n",
       "                                                   &#x27;o3_lag_3D&#x27;]),\n",
       "                                                 (&#x27;categorical&#x27;,\n",
       "                                                  OneHotEncoder(handle_unknown=&#x27;ignore&#x27;),\n",
       "                                                  [&#x27;state&#x27;])])),\n",
       "                (&#x27;poly&#x27;,\n",
       "                 PolynomialFeatures(include_bias=False, interaction_only=True)),\n",
       "                (&#x27;regr&#x27;, Ridge(alpha=1, max_iter=10000))])</pre><b>In a Jupyter environment, please rerun this cell to show the HTML representation or trust the notebook. <br />On GitHub, the HTML representation is unable to render, please try loading this page with nbviewer.org.</b></div><div class=\"sk-container\" hidden><div class=\"sk-item sk-dashed-wrapped\"><div class=\"sk-label-container\"><div class=\"sk-label fitted sk-toggleable\"><input class=\"sk-toggleable__control sk-hidden--visually\" id=\"sk-estimator-id-8\" type=\"checkbox\" ><label for=\"sk-estimator-id-8\" class=\"sk-toggleable__label fitted sk-toggleable__label-arrow\"><div><div>Pipeline</div></div><div><a class=\"sk-estimator-doc-link fitted\" rel=\"noreferrer\" target=\"_blank\" href=\"https://scikit-learn.org/1.6/modules/generated/sklearn.pipeline.Pipeline.html\">?<span>Documentation for Pipeline</span></a><span class=\"sk-estimator-doc-link fitted\">i<span>Fitted</span></span></div></label><div class=\"sk-toggleable__content fitted\"><pre>Pipeline(steps=[(&#x27;preproc&#x27;,\n",
       "                 ColumnTransformer(transformers=[(&#x27;numeric&#x27;, StandardScaler(),\n",
       "                                                  [&#x27;dayofmonth&#x27;, &#x27;dayofweek&#x27;,\n",
       "                                                   &#x27;dayofyear&#x27;, &#x27;weekofyear&#x27;,\n",
       "                                                   &#x27;month&#x27;, &#x27;quarter&#x27;, &#x27;year&#x27;,\n",
       "                                                   &#x27;pm_lag_1Y&#x27;, &#x27;pm_lag_2Y&#x27;,\n",
       "                                                   &#x27;pm_lag_1M&#x27;, &#x27;pm_lag_1W&#x27;,\n",
       "                                                   &#x27;co_lag_1Y&#x27;, &#x27;co_lag_2Y&#x27;,\n",
       "                                                   &#x27;co_lag_1M&#x27;, &#x27;co_lag_1W&#x27;,\n",
       "                                                   &#x27;o3_lag_1Y&#x27;, &#x27;o3_lag_2Y&#x27;,\n",
       "                                                   &#x27;o3_lag_1M&#x27;, &#x27;o3_lag_1W&#x27;,\n",
       "                                                   &#x27;pm_lag_1D&#x27;, &#x27;co_lag_1D&#x27;,\n",
       "                                                   &#x27;o3_lag_1D&#x27;, &#x27;pm_lag_2D&#x27;,\n",
       "                                                   &#x27;co_lag_2D&#x27;, &#x27;o3_lag_2D&#x27;,\n",
       "                                                   &#x27;pm_lag_3D&#x27;, &#x27;co_lag_3D&#x27;,\n",
       "                                                   &#x27;o3_lag_3D&#x27;]),\n",
       "                                                 (&#x27;categorical&#x27;,\n",
       "                                                  OneHotEncoder(handle_unknown=&#x27;ignore&#x27;),\n",
       "                                                  [&#x27;state&#x27;])])),\n",
       "                (&#x27;poly&#x27;,\n",
       "                 PolynomialFeatures(include_bias=False, interaction_only=True)),\n",
       "                (&#x27;regr&#x27;, Ridge(alpha=1, max_iter=10000))])</pre></div> </div></div><div class=\"sk-serial\"><div class=\"sk-item sk-dashed-wrapped\"><div class=\"sk-label-container\"><div class=\"sk-label fitted sk-toggleable\"><input class=\"sk-toggleable__control sk-hidden--visually\" id=\"sk-estimator-id-9\" type=\"checkbox\" ><label for=\"sk-estimator-id-9\" class=\"sk-toggleable__label fitted sk-toggleable__label-arrow\"><div><div>preproc: ColumnTransformer</div></div><div><a class=\"sk-estimator-doc-link fitted\" rel=\"noreferrer\" target=\"_blank\" href=\"https://scikit-learn.org/1.6/modules/generated/sklearn.compose.ColumnTransformer.html\">?<span>Documentation for preproc: ColumnTransformer</span></a></div></label><div class=\"sk-toggleable__content fitted\"><pre>ColumnTransformer(transformers=[(&#x27;numeric&#x27;, StandardScaler(),\n",
       "                                 [&#x27;dayofmonth&#x27;, &#x27;dayofweek&#x27;, &#x27;dayofyear&#x27;,\n",
       "                                  &#x27;weekofyear&#x27;, &#x27;month&#x27;, &#x27;quarter&#x27;, &#x27;year&#x27;,\n",
       "                                  &#x27;pm_lag_1Y&#x27;, &#x27;pm_lag_2Y&#x27;, &#x27;pm_lag_1M&#x27;,\n",
       "                                  &#x27;pm_lag_1W&#x27;, &#x27;co_lag_1Y&#x27;, &#x27;co_lag_2Y&#x27;,\n",
       "                                  &#x27;co_lag_1M&#x27;, &#x27;co_lag_1W&#x27;, &#x27;o3_lag_1Y&#x27;,\n",
       "                                  &#x27;o3_lag_2Y&#x27;, &#x27;o3_lag_1M&#x27;, &#x27;o3_lag_1W&#x27;,\n",
       "                                  &#x27;pm_lag_1D&#x27;, &#x27;co_lag_1D&#x27;, &#x27;o3_lag_1D&#x27;,\n",
       "                                  &#x27;pm_lag_2D&#x27;, &#x27;co_lag_2D&#x27;, &#x27;o3_lag_2D&#x27;,\n",
       "                                  &#x27;pm_lag_3D&#x27;, &#x27;co_lag_3D&#x27;, &#x27;o3_lag_3D&#x27;]),\n",
       "                                (&#x27;categorical&#x27;,\n",
       "                                 OneHotEncoder(handle_unknown=&#x27;ignore&#x27;),\n",
       "                                 [&#x27;state&#x27;])])</pre></div> </div></div><div class=\"sk-parallel\"><div class=\"sk-parallel-item\"><div class=\"sk-item\"><div class=\"sk-label-container\"><div class=\"sk-label fitted sk-toggleable\"><input class=\"sk-toggleable__control sk-hidden--visually\" id=\"sk-estimator-id-10\" type=\"checkbox\" ><label for=\"sk-estimator-id-10\" class=\"sk-toggleable__label fitted sk-toggleable__label-arrow\"><div><div>numeric</div></div></label><div class=\"sk-toggleable__content fitted\"><pre>[&#x27;dayofmonth&#x27;, &#x27;dayofweek&#x27;, &#x27;dayofyear&#x27;, &#x27;weekofyear&#x27;, &#x27;month&#x27;, &#x27;quarter&#x27;, &#x27;year&#x27;, &#x27;pm_lag_1Y&#x27;, &#x27;pm_lag_2Y&#x27;, &#x27;pm_lag_1M&#x27;, &#x27;pm_lag_1W&#x27;, &#x27;co_lag_1Y&#x27;, &#x27;co_lag_2Y&#x27;, &#x27;co_lag_1M&#x27;, &#x27;co_lag_1W&#x27;, &#x27;o3_lag_1Y&#x27;, &#x27;o3_lag_2Y&#x27;, &#x27;o3_lag_1M&#x27;, &#x27;o3_lag_1W&#x27;, &#x27;pm_lag_1D&#x27;, &#x27;co_lag_1D&#x27;, &#x27;o3_lag_1D&#x27;, &#x27;pm_lag_2D&#x27;, &#x27;co_lag_2D&#x27;, &#x27;o3_lag_2D&#x27;, &#x27;pm_lag_3D&#x27;, &#x27;co_lag_3D&#x27;, &#x27;o3_lag_3D&#x27;]</pre></div> </div></div><div class=\"sk-serial\"><div class=\"sk-item\"><div class=\"sk-estimator fitted sk-toggleable\"><input class=\"sk-toggleable__control sk-hidden--visually\" id=\"sk-estimator-id-11\" type=\"checkbox\" ><label for=\"sk-estimator-id-11\" class=\"sk-toggleable__label fitted sk-toggleable__label-arrow\"><div><div>StandardScaler</div></div><div><a class=\"sk-estimator-doc-link fitted\" rel=\"noreferrer\" target=\"_blank\" href=\"https://scikit-learn.org/1.6/modules/generated/sklearn.preprocessing.StandardScaler.html\">?<span>Documentation for StandardScaler</span></a></div></label><div class=\"sk-toggleable__content fitted\"><pre>StandardScaler()</pre></div> </div></div></div></div></div><div class=\"sk-parallel-item\"><div class=\"sk-item\"><div class=\"sk-label-container\"><div class=\"sk-label fitted sk-toggleable\"><input class=\"sk-toggleable__control sk-hidden--visually\" id=\"sk-estimator-id-12\" type=\"checkbox\" ><label for=\"sk-estimator-id-12\" class=\"sk-toggleable__label fitted sk-toggleable__label-arrow\"><div><div>categorical</div></div></label><div class=\"sk-toggleable__content fitted\"><pre>[&#x27;state&#x27;]</pre></div> </div></div><div class=\"sk-serial\"><div class=\"sk-item\"><div class=\"sk-estimator fitted sk-toggleable\"><input class=\"sk-toggleable__control sk-hidden--visually\" id=\"sk-estimator-id-13\" type=\"checkbox\" ><label for=\"sk-estimator-id-13\" class=\"sk-toggleable__label fitted sk-toggleable__label-arrow\"><div><div>OneHotEncoder</div></div><div><a class=\"sk-estimator-doc-link fitted\" rel=\"noreferrer\" target=\"_blank\" href=\"https://scikit-learn.org/1.6/modules/generated/sklearn.preprocessing.OneHotEncoder.html\">?<span>Documentation for OneHotEncoder</span></a></div></label><div class=\"sk-toggleable__content fitted\"><pre>OneHotEncoder(handle_unknown=&#x27;ignore&#x27;)</pre></div> </div></div></div></div></div></div></div><div class=\"sk-item\"><div class=\"sk-estimator fitted sk-toggleable\"><input class=\"sk-toggleable__control sk-hidden--visually\" id=\"sk-estimator-id-14\" type=\"checkbox\" ><label for=\"sk-estimator-id-14\" class=\"sk-toggleable__label fitted sk-toggleable__label-arrow\"><div><div>PolynomialFeatures</div></div><div><a class=\"sk-estimator-doc-link fitted\" rel=\"noreferrer\" target=\"_blank\" href=\"https://scikit-learn.org/1.6/modules/generated/sklearn.preprocessing.PolynomialFeatures.html\">?<span>Documentation for PolynomialFeatures</span></a></div></label><div class=\"sk-toggleable__content fitted\"><pre>PolynomialFeatures(include_bias=False, interaction_only=True)</pre></div> </div></div><div class=\"sk-item\"><div class=\"sk-estimator fitted sk-toggleable\"><input class=\"sk-toggleable__control sk-hidden--visually\" id=\"sk-estimator-id-15\" type=\"checkbox\" ><label for=\"sk-estimator-id-15\" class=\"sk-toggleable__label fitted sk-toggleable__label-arrow\"><div><div>Ridge</div></div><div><a class=\"sk-estimator-doc-link fitted\" rel=\"noreferrer\" target=\"_blank\" href=\"https://scikit-learn.org/1.6/modules/generated/sklearn.linear_model.Ridge.html\">?<span>Documentation for Ridge</span></a></div></label><div class=\"sk-toggleable__content fitted\"><pre>Ridge(alpha=1, max_iter=10000)</pre></div> </div></div></div></div></div></div>"
      ],
      "text/plain": [
       "Pipeline(steps=[('preproc',\n",
       "                 ColumnTransformer(transformers=[('numeric', StandardScaler(),\n",
       "                                                  ['dayofmonth', 'dayofweek',\n",
       "                                                   'dayofyear', 'weekofyear',\n",
       "                                                   'month', 'quarter', 'year',\n",
       "                                                   'pm_lag_1Y', 'pm_lag_2Y',\n",
       "                                                   'pm_lag_1M', 'pm_lag_1W',\n",
       "                                                   'co_lag_1Y', 'co_lag_2Y',\n",
       "                                                   'co_lag_1M', 'co_lag_1W',\n",
       "                                                   'o3_lag_1Y', 'o3_lag_2Y',\n",
       "                                                   'o3_lag_1M', 'o3_lag_1W',\n",
       "                                                   'pm_lag_1D', 'co_lag_1D',\n",
       "                                                   'o3_lag_1D', 'pm_lag_2D',\n",
       "                                                   'co_lag_2D', 'o3_lag_2D',\n",
       "                                                   'pm_lag_3D', 'co_lag_3D',\n",
       "                                                   'o3_lag_3D']),\n",
       "                                                 ('categorical',\n",
       "                                                  OneHotEncoder(handle_unknown='ignore'),\n",
       "                                                  ['state'])])),\n",
       "                ('poly',\n",
       "                 PolynomialFeatures(include_bias=False, interaction_only=True)),\n",
       "                ('regr', Ridge(alpha=1, max_iter=10000))])"
      ]
     },
     "execution_count": 27,
     "metadata": {},
     "output_type": "execute_result"
    }
   ],
   "source": [
    "%time model.fit(X_train, y_train)"
   ]
  },
  {
   "cell_type": "markdown",
   "metadata": {
    "id": "7CqjLtbdlVi0"
   },
   "source": [
    "### Hyperparameter Tuning per Regressione Ridge\n",
    "\n",
    "Per ottimizzare il livello di regolarizzazione, viene eseguita una ricerca esaustiva (`GridSearchCV`) su una griglia di 8 valori di `alpha`, distribuiti in scala logaritmica. \\\n",
    "Questa procedura consente di valutare sistematicamente tutte le combinazioni possibili specificate nella griglia, garantendo una ricerca completa. \\\n",
    "Al termine della grid search, viene selezionato il modello con il valore di `alpha` che ha ottenuto la miglior media delle performance sui fold di validazione."
   ]
  },
  {
   "cell_type": "code",
   "execution_count": 28,
   "metadata": {
    "id": "SgQaK1ijlVi2"
   },
   "outputs": [],
   "source": [
    "alphas = np.logspace(-2, 4, num=8)\n",
    "grid = {\"regr__alpha\": alphas}\n",
    "gs = GridSearchCV(model, grid, cv=tscv, n_jobs=N_JOBS)"
   ]
  },
  {
   "cell_type": "code",
   "execution_count": 29,
   "metadata": {
    "colab": {
     "base_uri": "https://localhost:8080/"
    },
    "id": "mvC3I0kzlVi2",
    "outputId": "c2d9b60f-a13d-4a80-bc85-d1378703e4b1"
   },
   "outputs": [
    {
     "name": "stdout",
     "output_type": "stream",
     "text": [
      "CPU times: total: 3.33 s\n",
      "Wall time: 6.35 s\n",
      "\n"
     ]
    }
   ],
   "source": [
    "%time gs.fit(X_train, y_train)\n",
    "print()"
   ]
  },
  {
   "cell_type": "code",
   "execution_count": 30,
   "metadata": {
    "id": "0nqLv4gglVi2"
   },
   "outputs": [],
   "source": [
    "get_estimator_scores(\"ridge_reg\", gs.best_estimator_)"
   ]
  },
  {
   "cell_type": "markdown",
   "metadata": {
    "id": "CjQLhAIvTQzp"
   },
   "source": [
    "Il grafico seguente mostra l’andamento dello score medio di validazione al variare del parametro `alpha`.  \n",
    "Questa visualizzazione aiuta a comprendere l’impatto della regolarizzazione L2 sul modello:\n",
    "\n",
    "- **Basso alpha**: rischio di overfitting;\n",
    "- **Alto alpha**: rischio di underfitting."
   ]
  },
  {
   "cell_type": "code",
   "execution_count": 31,
   "metadata": {
    "id": "JJEkBHpTlVi2"
   },
   "outputs": [],
   "source": [
    "results = pd.DataFrame(gs.cv_results_)[[\"param_regr__alpha\", \"mean_test_score\"]]"
   ]
  },
  {
   "cell_type": "code",
   "execution_count": 32,
   "metadata": {
    "colab": {
     "base_uri": "https://localhost:8080/",
     "height": 484
    },
    "id": "LdyidkgYlVi3",
    "outputId": "abfaf046-ee03-4f24-a74c-d63d937f0a3f"
   },
   "outputs": [
    {
     "data": {
      "image/png": "[encoded data removed]",
      "text/plain": [
       "<Figure size 640x480 with 1 Axes>"
      ]
     },
     "metadata": {},
     "output_type": "display_data"
    }
   ],
   "source": [
    "plt.plot(results[\"param_regr__alpha\"], results[\"mean_test_score\"])\n",
    "plt.xscale('log')\n",
    "plt.xlabel('alpha')\n",
    "plt.ylabel('score')\n",
    "plt.title('Grafico al variare della regolarizzazione')\n",
    "plt.show()"
   ]
  },
  {
   "cell_type": "markdown",
   "metadata": {
    "id": "aXwTWsC2lVi3"
   },
   "source": [
    "## Regressione Elastic Net\n",
    "\n",
    "La regressione Elastic Net combina la regolarizzazione L1 e L2 all'interno di un unico modello. \\\n",
    "Questa tecnica è particolarmente utile quando si lavora con feature numerose e potenzialmente correlate, poiché unisce i vantaggi della selezione automatica delle variabili (L1) con la stabilità della penalizzazione L2."
   ]
  },
  {
   "cell_type": "code",
   "execution_count": 33,
   "metadata": {
    "id": "NE5PXsuelVi3"
   },
   "outputs": [],
   "source": [
    "model = Pipeline([\n",
    "    (\"preproc\", preprocessor),\n",
    "    (\"poly\",   PolynomialFeatures(degree=2, include_bias=False, interaction_only=True)),\n",
    "    (\"regr\", ElasticNet(alpha=0.2, l1_ratio=0.1))\n",
    "])"
   ]
  },
  {
   "cell_type": "code",
   "execution_count": 34,
   "metadata": {
    "colab": {
     "base_uri": "https://localhost:8080/",
     "height": 324
    },
    "id": "vD_KhUiylVi3",
    "outputId": "d564c9c4-3713-4b90-9e4f-676b05d04d06"
   },
   "outputs": [
    {
     "name": "stdout",
     "output_type": "stream",
     "text": [
      "CPU times: total: 15.7 s\n",
      "Wall time: 9.46 s\n"
     ]
    },
    {
     "data": {
      "text/html": [
       "<style>#sk-container-id-3 {\n",
       "  /* Definition of color scheme common for light and dark mode */\n",
       "  --sklearn-color-text: #000;\n",
       "  --sklearn-color-text-muted: #666;\n",
       "  --sklearn-color-line: gray;\n",
       "  /* Definition of color scheme for unfitted estimators */\n",
       "  --sklearn-color-unfitted-level-0: #fff5e6;\n",
       "  --sklearn-color-unfitted-level-1: #f6e4d2;\n",
       "  --sklearn-color-unfitted-level-2: #ffe0b3;\n",
       "  --sklearn-color-unfitted-level-3: chocolate;\n",
       "  /* Definition of color scheme for fitted estimators */\n",
       "  --sklearn-color-fitted-level-0: #f0f8ff;\n",
       "  --sklearn-color-fitted-level-1: #d4ebff;\n",
       "  --sklearn-color-fitted-level-2: #b3dbfd;\n",
       "  --sklearn-color-fitted-level-3: cornflowerblue;\n",
       "\n",
       "  /* Specific color for light theme */\n",
       "  --sklearn-color-text-on-default-background: var(--sg-text-color, var(--theme-code-foreground, var(--jp-content-font-color1, black)));\n",
       "  --sklearn-color-background: var(--sg-background-color, var(--theme-background, var(--jp-layout-color0, white)));\n",
       "  --sklearn-color-border-box: var(--sg-text-color, var(--theme-code-foreground, var(--jp-content-font-color1, black)));\n",
       "  --sklearn-color-icon: #696969;\n",
       "\n",
       "  @media (prefers-color-scheme: dark) {\n",
       "    /* Redefinition of color scheme for dark theme */\n",
       "    --sklearn-color-text-on-default-background: var(--sg-text-color, var(--theme-code-foreground, var(--jp-content-font-color1, white)));\n",
       "    --sklearn-color-background: var(--sg-background-color, var(--theme-background, var(--jp-layout-color0, #111)));\n",
       "    --sklearn-color-border-box: var(--sg-text-color, var(--theme-code-foreground, var(--jp-content-font-color1, white)));\n",
       "    --sklearn-color-icon: #878787;\n",
       "  }\n",
       "}\n",
       "\n",
       "#sk-container-id-3 {\n",
       "  color: var(--sklearn-color-text);\n",
       "}\n",
       "\n",
       "#sk-container-id-3 pre {\n",
       "  padding: 0;\n",
       "}\n",
       "\n",
       "#sk-container-id-3 input.sk-hidden--visually {\n",
       "  border: 0;\n",
       "  clip: rect(1px 1px 1px 1px);\n",
       "  clip: rect(1px, 1px, 1px, 1px);\n",
       "  height: 1px;\n",
       "  margin: -1px;\n",
       "  overflow: hidden;\n",
       "  padding: 0;\n",
       "  position: absolute;\n",
       "  width: 1px;\n",
       "}\n",
       "\n",
       "#sk-container-id-3 div.sk-dashed-wrapped {\n",
       "  border: 1px dashed var(--sklearn-color-line);\n",
       "  margin: 0 0.4em 0.5em 0.4em;\n",
       "  box-sizing: border-box;\n",
       "  padding-bottom: 0.4em;\n",
       "  background-color: var(--sklearn-color-background);\n",
       "}\n",
       "\n",
       "#sk-container-id-3 div.sk-container {\n",
       "  /* jupyter's `normalize.less` sets `[hidden] { display: none; }`\n",
       "     but bootstrap.min.css set `[hidden] { display: none !important; }`\n",
       "     so we also need the `!important` here to be able to override the\n",
       "     default hidden behavior on the sphinx rendered scikit-learn.org.\n",
       "     See: https://github.com/scikit-learn/scikit-learn/issues/21755 */\n",
       "  display: inline-block !important;\n",
       "  position: relative;\n",
       "}\n",
       "\n",
       "#sk-container-id-3 div.sk-text-repr-fallback {\n",
       "  display: none;\n",
       "}\n",
       "\n",
       "div.sk-parallel-item,\n",
       "div.sk-serial,\n",
       "div.sk-item {\n",
       "  /* draw centered vertical line to link estimators */\n",
       "  background-image: linear-gradient(var(--sklearn-color-text-on-default-background), var(--sklearn-color-text-on-default-background));\n",
       "  background-size: 2px 100%;\n",
       "  background-repeat: no-repeat;\n",
       "  background-position: center center;\n",
       "}\n",
       "\n",
       "/* Parallel-specific style estimator block */\n",
       "\n",
       "#sk-container-id-3 div.sk-parallel-item::after {\n",
       "  content: \"\";\n",
       "  width: 100%;\n",
       "  border-bottom: 2px solid var(--sklearn-color-text-on-default-background);\n",
       "  flex-grow: 1;\n",
       "}\n",
       "\n",
       "#sk-container-id-3 div.sk-parallel {\n",
       "  display: flex;\n",
       "  align-items: stretch;\n",
       "  justify-content: center;\n",
       "  background-color: var(--sklearn-color-background);\n",
       "  position: relative;\n",
       "}\n",
       "\n",
       "#sk-container-id-3 div.sk-parallel-item {\n",
       "  display: flex;\n",
       "  flex-direction: column;\n",
       "}\n",
       "\n",
       "#sk-container-id-3 div.sk-parallel-item:first-child::after {\n",
       "  align-self: flex-end;\n",
       "  width: 50%;\n",
       "}\n",
       "\n",
       "#sk-container-id-3 div.sk-parallel-item:last-child::after {\n",
       "  align-self: flex-start;\n",
       "  width: 50%;\n",
       "}\n",
       "\n",
       "#sk-container-id-3 div.sk-parallel-item:only-child::after {\n",
       "  width: 0;\n",
       "}\n",
       "\n",
       "/* Serial-specific style estimator block */\n",
       "\n",
       "#sk-container-id-3 div.sk-serial {\n",
       "  display: flex;\n",
       "  flex-direction: column;\n",
       "  align-items: center;\n",
       "  background-color: var(--sklearn-color-background);\n",
       "  padding-right: 1em;\n",
       "  padding-left: 1em;\n",
       "}\n",
       "\n",
       "\n",
       "/* Toggleable style: style used for estimator/Pipeline/ColumnTransformer box that is\n",
       "clickable and can be expanded/collapsed.\n",
       "- Pipeline and ColumnTransformer use this feature and define the default style\n",
       "- Estimators will overwrite some part of the style using the `sk-estimator` class\n",
       "*/\n",
       "\n",
       "/* Pipeline and ColumnTransformer style (default) */\n",
       "\n",
       "#sk-container-id-3 div.sk-toggleable {\n",
       "  /* Default theme specific background. It is overwritten whether we have a\n",
       "  specific estimator or a Pipeline/ColumnTransformer */\n",
       "  background-color: var(--sklearn-color-background);\n",
       "}\n",
       "\n",
       "/* Toggleable label */\n",
       "#sk-container-id-3 label.sk-toggleable__label {\n",
       "  cursor: pointer;\n",
       "  display: flex;\n",
       "  width: 100%;\n",
       "  margin-bottom: 0;\n",
       "  padding: 0.5em;\n",
       "  box-sizing: border-box;\n",
       "  text-align: center;\n",
       "  align-items: start;\n",
       "  justify-content: space-between;\n",
       "  gap: 0.5em;\n",
       "}\n",
       "\n",
       "#sk-container-id-3 label.sk-toggleable__label .caption {\n",
       "  font-size: 0.6rem;\n",
       "  font-weight: lighter;\n",
       "  color: var(--sklearn-color-text-muted);\n",
       "}\n",
       "\n",
       "#sk-container-id-3 label.sk-toggleable__label-arrow:before {\n",
       "  /* Arrow on the left of the label */\n",
       "  content: \"▸\";\n",
       "  float: left;\n",
       "  margin-right: 0.25em;\n",
       "  color: var(--sklearn-color-icon);\n",
       "}\n",
       "\n",
       "#sk-container-id-3 label.sk-toggleable__label-arrow:hover:before {\n",
       "  color: var(--sklearn-color-text);\n",
       "}\n",
       "\n",
       "/* Toggleable content - dropdown */\n",
       "\n",
       "#sk-container-id-3 div.sk-toggleable__content {\n",
       "  max-height: 0;\n",
       "  max-width: 0;\n",
       "  overflow: hidden;\n",
       "  text-align: left;\n",
       "  /* unfitted */\n",
       "  background-color: var(--sklearn-color-unfitted-level-0);\n",
       "}\n",
       "\n",
       "#sk-container-id-3 div.sk-toggleable__content.fitted {\n",
       "  /* fitted */\n",
       "  background-color: var(--sklearn-color-fitted-level-0);\n",
       "}\n",
       "\n",
       "#sk-container-id-3 div.sk-toggleable__content pre {\n",
       "  margin: 0.2em;\n",
       "  border-radius: 0.25em;\n",
       "  color: var(--sklearn-color-text);\n",
       "  /* unfitted */\n",
       "  background-color: var(--sklearn-color-unfitted-level-0);\n",
       "}\n",
       "\n",
       "#sk-container-id-3 div.sk-toggleable__content.fitted pre {\n",
       "  /* unfitted */\n",
       "  background-color: var(--sklearn-color-fitted-level-0);\n",
       "}\n",
       "\n",
       "#sk-container-id-3 input.sk-toggleable__control:checked~div.sk-toggleable__content {\n",
       "  /* Expand drop-down */\n",
       "  max-height: 200px;\n",
       "  max-width: 100%;\n",
       "  overflow: auto;\n",
       "}\n",
       "\n",
       "#sk-container-id-3 input.sk-toggleable__control:checked~label.sk-toggleable__label-arrow:before {\n",
       "  content: \"▾\";\n",
       "}\n",
       "\n",
       "/* Pipeline/ColumnTransformer-specific style */\n",
       "\n",
       "#sk-container-id-3 div.sk-label input.sk-toggleable__control:checked~label.sk-toggleable__label {\n",
       "  color: var(--sklearn-color-text);\n",
       "  background-color: var(--sklearn-color-unfitted-level-2);\n",
       "}\n",
       "\n",
       "#sk-container-id-3 div.sk-label.fitted input.sk-toggleable__control:checked~label.sk-toggleable__label {\n",
       "  background-color: var(--sklearn-color-fitted-level-2);\n",
       "}\n",
       "\n",
       "/* Estimator-specific style */\n",
       "\n",
       "/* Colorize estimator box */\n",
       "#sk-container-id-3 div.sk-estimator input.sk-toggleable__control:checked~label.sk-toggleable__label {\n",
       "  /* unfitted */\n",
       "  background-color: var(--sklearn-color-unfitted-level-2);\n",
       "}\n",
       "\n",
       "#sk-container-id-3 div.sk-estimator.fitted input.sk-toggleable__control:checked~label.sk-toggleable__label {\n",
       "  /* fitted */\n",
       "  background-color: var(--sklearn-color-fitted-level-2);\n",
       "}\n",
       "\n",
       "#sk-container-id-3 div.sk-label label.sk-toggleable__label,\n",
       "#sk-container-id-3 div.sk-label label {\n",
       "  /* The background is the default theme color */\n",
       "  color: var(--sklearn-color-text-on-default-background);\n",
       "}\n",
       "\n",
       "/* On hover, darken the color of the background */\n",
       "#sk-container-id-3 div.sk-label:hover label.sk-toggleable__label {\n",
       "  color: var(--sklearn-color-text);\n",
       "  background-color: var(--sklearn-color-unfitted-level-2);\n",
       "}\n",
       "\n",
       "/* Label box, darken color on hover, fitted */\n",
       "#sk-container-id-3 div.sk-label.fitted:hover label.sk-toggleable__label.fitted {\n",
       "  color: var(--sklearn-color-text);\n",
       "  background-color: var(--sklearn-color-fitted-level-2);\n",
       "}\n",
       "\n",
       "/* Estimator label */\n",
       "\n",
       "#sk-container-id-3 div.sk-label label {\n",
       "  font-family: monospace;\n",
       "  font-weight: bold;\n",
       "  display: inline-block;\n",
       "  line-height: 1.2em;\n",
       "}\n",
       "\n",
       "#sk-container-id-3 div.sk-label-container {\n",
       "  text-align: center;\n",
       "}\n",
       "\n",
       "/* Estimator-specific */\n",
       "#sk-container-id-3 div.sk-estimator {\n",
       "  font-family: monospace;\n",
       "  border: 1px dotted var(--sklearn-color-border-box);\n",
       "  border-radius: 0.25em;\n",
       "  box-sizing: border-box;\n",
       "  margin-bottom: 0.5em;\n",
       "  /* unfitted */\n",
       "  background-color: var(--sklearn-color-unfitted-level-0);\n",
       "}\n",
       "\n",
       "#sk-container-id-3 div.sk-estimator.fitted {\n",
       "  /* fitted */\n",
       "  background-color: var(--sklearn-color-fitted-level-0);\n",
       "}\n",
       "\n",
       "/* on hover */\n",
       "#sk-container-id-3 div.sk-estimator:hover {\n",
       "  /* unfitted */\n",
       "  background-color: var(--sklearn-color-unfitted-level-2);\n",
       "}\n",
       "\n",
       "#sk-container-id-3 div.sk-estimator.fitted:hover {\n",
       "  /* fitted */\n",
       "  background-color: var(--sklearn-color-fitted-level-2);\n",
       "}\n",
       "\n",
       "/* Specification for estimator info (e.g. \"i\" and \"?\") */\n",
       "\n",
       "/* Common style for \"i\" and \"?\" */\n",
       "\n",
       ".sk-estimator-doc-link,\n",
       "a:link.sk-estimator-doc-link,\n",
       "a:visited.sk-estimator-doc-link {\n",
       "  float: right;\n",
       "  font-size: smaller;\n",
       "  line-height: 1em;\n",
       "  font-family: monospace;\n",
       "  background-color: var(--sklearn-color-background);\n",
       "  border-radius: 1em;\n",
       "  height: 1em;\n",
       "  width: 1em;\n",
       "  text-decoration: none !important;\n",
       "  margin-left: 0.5em;\n",
       "  text-align: center;\n",
       "  /* unfitted */\n",
       "  border: var(--sklearn-color-unfitted-level-1) 1pt solid;\n",
       "  color: var(--sklearn-color-unfitted-level-1);\n",
       "}\n",
       "\n",
       ".sk-estimator-doc-link.fitted,\n",
       "a:link.sk-estimator-doc-link.fitted,\n",
       "a:visited.sk-estimator-doc-link.fitted {\n",
       "  /* fitted */\n",
       "  border: var(--sklearn-color-fitted-level-1) 1pt solid;\n",
       "  color: var(--sklearn-color-fitted-level-1);\n",
       "}\n",
       "\n",
       "/* On hover */\n",
       "div.sk-estimator:hover .sk-estimator-doc-link:hover,\n",
       ".sk-estimator-doc-link:hover,\n",
       "div.sk-label-container:hover .sk-estimator-doc-link:hover,\n",
       ".sk-estimator-doc-link:hover {\n",
       "  /* unfitted */\n",
       "  background-color: var(--sklearn-color-unfitted-level-3);\n",
       "  color: var(--sklearn-color-background);\n",
       "  text-decoration: none;\n",
       "}\n",
       "\n",
       "div.sk-estimator.fitted:hover .sk-estimator-doc-link.fitted:hover,\n",
       ".sk-estimator-doc-link.fitted:hover,\n",
       "div.sk-label-container:hover .sk-estimator-doc-link.fitted:hover,\n",
       ".sk-estimator-doc-link.fitted:hover {\n",
       "  /* fitted */\n",
       "  background-color: var(--sklearn-color-fitted-level-3);\n",
       "  color: var(--sklearn-color-background);\n",
       "  text-decoration: none;\n",
       "}\n",
       "\n",
       "/* Span, style for the box shown on hovering the info icon */\n",
       ".sk-estimator-doc-link span {\n",
       "  display: none;\n",
       "  z-index: 9999;\n",
       "  position: relative;\n",
       "  font-weight: normal;\n",
       "  right: .2ex;\n",
       "  padding: .5ex;\n",
       "  margin: .5ex;\n",
       "  width: min-content;\n",
       "  min-width: 20ex;\n",
       "  max-width: 50ex;\n",
       "  color: var(--sklearn-color-text);\n",
       "  box-shadow: 2pt 2pt 4pt #999;\n",
       "  /* unfitted */\n",
       "  background: var(--sklearn-color-unfitted-level-0);\n",
       "  border: .5pt solid var(--sklearn-color-unfitted-level-3);\n",
       "}\n",
       "\n",
       ".sk-estimator-doc-link.fitted span {\n",
       "  /* fitted */\n",
       "  background: var(--sklearn-color-fitted-level-0);\n",
       "  border: var(--sklearn-color-fitted-level-3);\n",
       "}\n",
       "\n",
       ".sk-estimator-doc-link:hover span {\n",
       "  display: block;\n",
       "}\n",
       "\n",
       "/* \"?\"-specific style due to the `<a>` HTML tag */\n",
       "\n",
       "#sk-container-id-3 a.estimator_doc_link {\n",
       "  float: right;\n",
       "  font-size: 1rem;\n",
       "  line-height: 1em;\n",
       "  font-family: monospace;\n",
       "  background-color: var(--sklearn-color-background);\n",
       "  border-radius: 1rem;\n",
       "  height: 1rem;\n",
       "  width: 1rem;\n",
       "  text-decoration: none;\n",
       "  /* unfitted */\n",
       "  color: var(--sklearn-color-unfitted-level-1);\n",
       "  border: var(--sklearn-color-unfitted-level-1) 1pt solid;\n",
       "}\n",
       "\n",
       "#sk-container-id-3 a.estimator_doc_link.fitted {\n",
       "  /* fitted */\n",
       "  border: var(--sklearn-color-fitted-level-1) 1pt solid;\n",
       "  color: var(--sklearn-color-fitted-level-1);\n",
       "}\n",
       "\n",
       "/* On hover */\n",
       "#sk-container-id-3 a.estimator_doc_link:hover {\n",
       "  /* unfitted */\n",
       "  background-color: var(--sklearn-color-unfitted-level-3);\n",
       "  color: var(--sklearn-color-background);\n",
       "  text-decoration: none;\n",
       "}\n",
       "\n",
       "#sk-container-id-3 a.estimator_doc_link.fitted:hover {\n",
       "  /* fitted */\n",
       "  background-color: var(--sklearn-color-fitted-level-3);\n",
       "}\n",
       "</style><div id=\"sk-container-id-3\" class=\"sk-top-container\"><div class=\"sk-text-repr-fallback\"><pre>Pipeline(steps=[(&#x27;preproc&#x27;,\n",
       "                 ColumnTransformer(transformers=[(&#x27;numeric&#x27;, StandardScaler(),\n",
       "                                                  [&#x27;dayofmonth&#x27;, &#x27;dayofweek&#x27;,\n",
       "                                                   &#x27;dayofyear&#x27;, &#x27;weekofyear&#x27;,\n",
       "                                                   &#x27;month&#x27;, &#x27;quarter&#x27;, &#x27;year&#x27;,\n",
       "                                                   &#x27;pm_lag_1Y&#x27;, &#x27;pm_lag_2Y&#x27;,\n",
       "                                                   &#x27;pm_lag_1M&#x27;, &#x27;pm_lag_1W&#x27;,\n",
       "                                                   &#x27;co_lag_1Y&#x27;, &#x27;co_lag_2Y&#x27;,\n",
       "                                                   &#x27;co_lag_1M&#x27;, &#x27;co_lag_1W&#x27;,\n",
       "                                                   &#x27;o3_lag_1Y&#x27;, &#x27;o3_lag_2Y&#x27;,\n",
       "                                                   &#x27;o3_lag_1M&#x27;, &#x27;o3_lag_1W&#x27;,\n",
       "                                                   &#x27;pm_lag_1D&#x27;, &#x27;co_lag_1D&#x27;,\n",
       "                                                   &#x27;o3_lag_1D&#x27;, &#x27;pm_lag_2D&#x27;,\n",
       "                                                   &#x27;co_lag_2D&#x27;, &#x27;o3_lag_2D&#x27;,\n",
       "                                                   &#x27;pm_lag_3D&#x27;, &#x27;co_lag_3D&#x27;,\n",
       "                                                   &#x27;o3_lag_3D&#x27;]),\n",
       "                                                 (&#x27;categorical&#x27;,\n",
       "                                                  OneHotEncoder(handle_unknown=&#x27;ignore&#x27;),\n",
       "                                                  [&#x27;state&#x27;])])),\n",
       "                (&#x27;poly&#x27;,\n",
       "                 PolynomialFeatures(include_bias=False, interaction_only=True)),\n",
       "                (&#x27;regr&#x27;, ElasticNet(alpha=0.2, l1_ratio=0.1))])</pre><b>In a Jupyter environment, please rerun this cell to show the HTML representation or trust the notebook. <br />On GitHub, the HTML representation is unable to render, please try loading this page with nbviewer.org.</b></div><div class=\"sk-container\" hidden><div class=\"sk-item sk-dashed-wrapped\"><div class=\"sk-label-container\"><div class=\"sk-label fitted sk-toggleable\"><input class=\"sk-toggleable__control sk-hidden--visually\" id=\"sk-estimator-id-16\" type=\"checkbox\" ><label for=\"sk-estimator-id-16\" class=\"sk-toggleable__label fitted sk-toggleable__label-arrow\"><div><div>Pipeline</div></div><div><a class=\"sk-estimator-doc-link fitted\" rel=\"noreferrer\" target=\"_blank\" href=\"https://scikit-learn.org/1.6/modules/generated/sklearn.pipeline.Pipeline.html\">?<span>Documentation for Pipeline</span></a><span class=\"sk-estimator-doc-link fitted\">i<span>Fitted</span></span></div></label><div class=\"sk-toggleable__content fitted\"><pre>Pipeline(steps=[(&#x27;preproc&#x27;,\n",
       "                 ColumnTransformer(transformers=[(&#x27;numeric&#x27;, StandardScaler(),\n",
       "                                                  [&#x27;dayofmonth&#x27;, &#x27;dayofweek&#x27;,\n",
       "                                                   &#x27;dayofyear&#x27;, &#x27;weekofyear&#x27;,\n",
       "                                                   &#x27;month&#x27;, &#x27;quarter&#x27;, &#x27;year&#x27;,\n",
       "                                                   &#x27;pm_lag_1Y&#x27;, &#x27;pm_lag_2Y&#x27;,\n",
       "                                                   &#x27;pm_lag_1M&#x27;, &#x27;pm_lag_1W&#x27;,\n",
       "                                                   &#x27;co_lag_1Y&#x27;, &#x27;co_lag_2Y&#x27;,\n",
       "                                                   &#x27;co_lag_1M&#x27;, &#x27;co_lag_1W&#x27;,\n",
       "                                                   &#x27;o3_lag_1Y&#x27;, &#x27;o3_lag_2Y&#x27;,\n",
       "                                                   &#x27;o3_lag_1M&#x27;, &#x27;o3_lag_1W&#x27;,\n",
       "                                                   &#x27;pm_lag_1D&#x27;, &#x27;co_lag_1D&#x27;,\n",
       "                                                   &#x27;o3_lag_1D&#x27;, &#x27;pm_lag_2D&#x27;,\n",
       "                                                   &#x27;co_lag_2D&#x27;, &#x27;o3_lag_2D&#x27;,\n",
       "                                                   &#x27;pm_lag_3D&#x27;, &#x27;co_lag_3D&#x27;,\n",
       "                                                   &#x27;o3_lag_3D&#x27;]),\n",
       "                                                 (&#x27;categorical&#x27;,\n",
       "                                                  OneHotEncoder(handle_unknown=&#x27;ignore&#x27;),\n",
       "                                                  [&#x27;state&#x27;])])),\n",
       "                (&#x27;poly&#x27;,\n",
       "                 PolynomialFeatures(include_bias=False, interaction_only=True)),\n",
       "                (&#x27;regr&#x27;, ElasticNet(alpha=0.2, l1_ratio=0.1))])</pre></div> </div></div><div class=\"sk-serial\"><div class=\"sk-item sk-dashed-wrapped\"><div class=\"sk-label-container\"><div class=\"sk-label fitted sk-toggleable\"><input class=\"sk-toggleable__control sk-hidden--visually\" id=\"sk-estimator-id-17\" type=\"checkbox\" ><label for=\"sk-estimator-id-17\" class=\"sk-toggleable__label fitted sk-toggleable__label-arrow\"><div><div>preproc: ColumnTransformer</div></div><div><a class=\"sk-estimator-doc-link fitted\" rel=\"noreferrer\" target=\"_blank\" href=\"https://scikit-learn.org/1.6/modules/generated/sklearn.compose.ColumnTransformer.html\">?<span>Documentation for preproc: ColumnTransformer</span></a></div></label><div class=\"sk-toggleable__content fitted\"><pre>ColumnTransformer(transformers=[(&#x27;numeric&#x27;, StandardScaler(),\n",
       "                                 [&#x27;dayofmonth&#x27;, &#x27;dayofweek&#x27;, &#x27;dayofyear&#x27;,\n",
       "                                  &#x27;weekofyear&#x27;, &#x27;month&#x27;, &#x27;quarter&#x27;, &#x27;year&#x27;,\n",
       "                                  &#x27;pm_lag_1Y&#x27;, &#x27;pm_lag_2Y&#x27;, &#x27;pm_lag_1M&#x27;,\n",
       "                                  &#x27;pm_lag_1W&#x27;, &#x27;co_lag_1Y&#x27;, &#x27;co_lag_2Y&#x27;,\n",
       "                                  &#x27;co_lag_1M&#x27;, &#x27;co_lag_1W&#x27;, &#x27;o3_lag_1Y&#x27;,\n",
       "                                  &#x27;o3_lag_2Y&#x27;, &#x27;o3_lag_1M&#x27;, &#x27;o3_lag_1W&#x27;,\n",
       "                                  &#x27;pm_lag_1D&#x27;, &#x27;co_lag_1D&#x27;, &#x27;o3_lag_1D&#x27;,\n",
       "                                  &#x27;pm_lag_2D&#x27;, &#x27;co_lag_2D&#x27;, &#x27;o3_lag_2D&#x27;,\n",
       "                                  &#x27;pm_lag_3D&#x27;, &#x27;co_lag_3D&#x27;, &#x27;o3_lag_3D&#x27;]),\n",
       "                                (&#x27;categorical&#x27;,\n",
       "                                 OneHotEncoder(handle_unknown=&#x27;ignore&#x27;),\n",
       "                                 [&#x27;state&#x27;])])</pre></div> </div></div><div class=\"sk-parallel\"><div class=\"sk-parallel-item\"><div class=\"sk-item\"><div class=\"sk-label-container\"><div class=\"sk-label fitted sk-toggleable\"><input class=\"sk-toggleable__control sk-hidden--visually\" id=\"sk-estimator-id-18\" type=\"checkbox\" ><label for=\"sk-estimator-id-18\" class=\"sk-toggleable__label fitted sk-toggleable__label-arrow\"><div><div>numeric</div></div></label><div class=\"sk-toggleable__content fitted\"><pre>[&#x27;dayofmonth&#x27;, &#x27;dayofweek&#x27;, &#x27;dayofyear&#x27;, &#x27;weekofyear&#x27;, &#x27;month&#x27;, &#x27;quarter&#x27;, &#x27;year&#x27;, &#x27;pm_lag_1Y&#x27;, &#x27;pm_lag_2Y&#x27;, &#x27;pm_lag_1M&#x27;, &#x27;pm_lag_1W&#x27;, &#x27;co_lag_1Y&#x27;, &#x27;co_lag_2Y&#x27;, &#x27;co_lag_1M&#x27;, &#x27;co_lag_1W&#x27;, &#x27;o3_lag_1Y&#x27;, &#x27;o3_lag_2Y&#x27;, &#x27;o3_lag_1M&#x27;, &#x27;o3_lag_1W&#x27;, &#x27;pm_lag_1D&#x27;, &#x27;co_lag_1D&#x27;, &#x27;o3_lag_1D&#x27;, &#x27;pm_lag_2D&#x27;, &#x27;co_lag_2D&#x27;, &#x27;o3_lag_2D&#x27;, &#x27;pm_lag_3D&#x27;, &#x27;co_lag_3D&#x27;, &#x27;o3_lag_3D&#x27;]</pre></div> </div></div><div class=\"sk-serial\"><div class=\"sk-item\"><div class=\"sk-estimator fitted sk-toggleable\"><input class=\"sk-toggleable__control sk-hidden--visually\" id=\"sk-estimator-id-19\" type=\"checkbox\" ><label for=\"sk-estimator-id-19\" class=\"sk-toggleable__label fitted sk-toggleable__label-arrow\"><div><div>StandardScaler</div></div><div><a class=\"sk-estimator-doc-link fitted\" rel=\"noreferrer\" target=\"_blank\" href=\"https://scikit-learn.org/1.6/modules/generated/sklearn.preprocessing.StandardScaler.html\">?<span>Documentation for StandardScaler</span></a></div></label><div class=\"sk-toggleable__content fitted\"><pre>StandardScaler()</pre></div> </div></div></div></div></div><div class=\"sk-parallel-item\"><div class=\"sk-item\"><div class=\"sk-label-container\"><div class=\"sk-label fitted sk-toggleable\"><input class=\"sk-toggleable__control sk-hidden--visually\" id=\"sk-estimator-id-20\" type=\"checkbox\" ><label for=\"sk-estimator-id-20\" class=\"sk-toggleable__label fitted sk-toggleable__label-arrow\"><div><div>categorical</div></div></label><div class=\"sk-toggleable__content fitted\"><pre>[&#x27;state&#x27;]</pre></div> </div></div><div class=\"sk-serial\"><div class=\"sk-item\"><div class=\"sk-estimator fitted sk-toggleable\"><input class=\"sk-toggleable__control sk-hidden--visually\" id=\"sk-estimator-id-21\" type=\"checkbox\" ><label for=\"sk-estimator-id-21\" class=\"sk-toggleable__label fitted sk-toggleable__label-arrow\"><div><div>OneHotEncoder</div></div><div><a class=\"sk-estimator-doc-link fitted\" rel=\"noreferrer\" target=\"_blank\" href=\"https://scikit-learn.org/1.6/modules/generated/sklearn.preprocessing.OneHotEncoder.html\">?<span>Documentation for OneHotEncoder</span></a></div></label><div class=\"sk-toggleable__content fitted\"><pre>OneHotEncoder(handle_unknown=&#x27;ignore&#x27;)</pre></div> </div></div></div></div></div></div></div><div class=\"sk-item\"><div class=\"sk-estimator fitted sk-toggleable\"><input class=\"sk-toggleable__control sk-hidden--visually\" id=\"sk-estimator-id-22\" type=\"checkbox\" ><label for=\"sk-estimator-id-22\" class=\"sk-toggleable__label fitted sk-toggleable__label-arrow\"><div><div>PolynomialFeatures</div></div><div><a class=\"sk-estimator-doc-link fitted\" rel=\"noreferrer\" target=\"_blank\" href=\"https://scikit-learn.org/1.6/modules/generated/sklearn.preprocessing.PolynomialFeatures.html\">?<span>Documentation for PolynomialFeatures</span></a></div></label><div class=\"sk-toggleable__content fitted\"><pre>PolynomialFeatures(include_bias=False, interaction_only=True)</pre></div> </div></div><div class=\"sk-item\"><div class=\"sk-estimator fitted sk-toggleable\"><input class=\"sk-toggleable__control sk-hidden--visually\" id=\"sk-estimator-id-23\" type=\"checkbox\" ><label for=\"sk-estimator-id-23\" class=\"sk-toggleable__label fitted sk-toggleable__label-arrow\"><div><div>ElasticNet</div></div><div><a class=\"sk-estimator-doc-link fitted\" rel=\"noreferrer\" target=\"_blank\" href=\"https://scikit-learn.org/1.6/modules/generated/sklearn.linear_model.ElasticNet.html\">?<span>Documentation for ElasticNet</span></a></div></label><div class=\"sk-toggleable__content fitted\"><pre>ElasticNet(alpha=0.2, l1_ratio=0.1)</pre></div> </div></div></div></div></div></div>"
      ],
      "text/plain": [
       "Pipeline(steps=[('preproc',\n",
       "                 ColumnTransformer(transformers=[('numeric', StandardScaler(),\n",
       "                                                  ['dayofmonth', 'dayofweek',\n",
       "                                                   'dayofyear', 'weekofyear',\n",
       "                                                   'month', 'quarter', 'year',\n",
       "                                                   'pm_lag_1Y', 'pm_lag_2Y',\n",
       "                                                   'pm_lag_1M', 'pm_lag_1W',\n",
       "                                                   'co_lag_1Y', 'co_lag_2Y',\n",
       "                                                   'co_lag_1M', 'co_lag_1W',\n",
       "                                                   'o3_lag_1Y', 'o3_lag_2Y',\n",
       "                                                   'o3_lag_1M', 'o3_lag_1W',\n",
       "                                                   'pm_lag_1D', 'co_lag_1D',\n",
       "                                                   'o3_lag_1D', 'pm_lag_2D',\n",
       "                                                   'co_lag_2D', 'o3_lag_2D',\n",
       "                                                   'pm_lag_3D', 'co_lag_3D',\n",
       "                                                   'o3_lag_3D']),\n",
       "                                                 ('categorical',\n",
       "                                                  OneHotEncoder(handle_unknown='ignore'),\n",
       "                                                  ['state'])])),\n",
       "                ('poly',\n",
       "                 PolynomialFeatures(include_bias=False, interaction_only=True)),\n",
       "                ('regr', ElasticNet(alpha=0.2, l1_ratio=0.1))])"
      ]
     },
     "execution_count": 34,
     "metadata": {},
     "output_type": "execute_result"
    }
   ],
   "source": [
    "%time model.fit(X_train, y_train)"
   ]
  },
  {
   "cell_type": "markdown",
   "metadata": {
    "id": "GGubqzrxlVi3"
   },
   "source": [
    "### Hyperparameter Tuning per Elastic Net\n",
    "\n",
    "Per ottimizzare le prestazioni del modello Elastic Net, viene eseguita una ricerca esaustiva (`GridSearchCV`) su una griglia di iperparametri.\n",
    "\n",
    "In particolare, si esplorano combinazioni di:\n",
    "\n",
    "- `alpha`: controlla la forza complessiva della regolarizzazione;\n",
    "- `l1_ratio`: bilancia l'influenza tra la componente L1 (LASSO) e L2 (Ridge) nella penalizzazione."
   ]
  },
  {
   "cell_type": "code",
   "execution_count": 35,
   "metadata": {
    "id": "jwcPfGK9lVi3"
   },
   "outputs": [],
   "source": [
    "grid = {\n",
    "    \"regr__alpha\":    [0.1, 1, 10],\n",
    "    \"regr__l1_ratio\": [0.1, 0.2, 0.3]\n",
    "}\n",
    "gs = GridSearchCV(model, grid, cv=tscv, n_jobs=N_JOBS)"
   ]
  },
  {
   "cell_type": "code",
   "execution_count": 36,
   "metadata": {
    "colab": {
     "base_uri": "https://localhost:8080/"
    },
    "id": "E9qz_4YslVi3",
    "outputId": "22e3fc1e-bfc6-4e96-fbe8-0247b51bfa9f"
   },
   "outputs": [
    {
     "name": "stdout",
     "output_type": "stream",
     "text": [
      "CPU times: total: 18.5 s\n",
      "Wall time: 17.4 s\n",
      "\n"
     ]
    }
   ],
   "source": [
    "%time gs.fit(X_train, y_train);\n",
    "print()"
   ]
  },
  {
   "cell_type": "code",
   "execution_count": 37,
   "metadata": {
    "id": "rHfhGZSslVi4"
   },
   "outputs": [],
   "source": [
    "get_estimator_scores(\"elastic_net_reg\", gs.best_estimator_)"
   ]
  },
  {
   "cell_type": "markdown",
   "metadata": {
    "id": "OSqJT3J-lVi4",
    "tags": []
   },
   "source": [
    "## Regressione con funzioni kernel\n",
    "Per evitare l’esplosione del numero di feature tipica dei modelli polinomiali, utilizziamo il **kernel trick**, che permette di lavorare implicitamente in spazi di dimensione molto alta senza dover esplicitamente generare tutte le feature.\n",
    "\n",
    "In questo modo, possiamo catturare relazioni non lineari complesse senza aumentare eccessivamente la complessità computazionale."
   ]
  },
  {
   "cell_type": "markdown",
   "metadata": {
    "id": "VFj50pJolVi4",
    "tags": []
   },
   "source": [
    "### Funzioni kernel polinomiali\n",
    "Il kernel polinomiale permette di estendere la regressione lineare a feature di grado elevato, calcolando prodotti scalari in uno spazio di dimensione potenzialmente molto alta.\n",
    "Nel modello seguente utilizziamo una regressione Kernel Ridge con kernel polinomiale di grado 10 e regolarizzazione L2 con `alpha=1`."
   ]
  },
  {
   "cell_type": "code",
   "execution_count": 38,
   "metadata": {
    "id": "-xa639FtlVi4"
   },
   "outputs": [],
   "source": [
    "model = Pipeline([\n",
    "    (\"preproc\", preprocessor),\n",
    "    (\"regr\",  KernelRidge(alpha=1, kernel=\"poly\", degree=10))\n",
    "])"
   ]
  },
  {
   "cell_type": "code",
   "execution_count": 39,
   "metadata": {
    "id": "xnFxvlfPlVi4"
   },
   "outputs": [
    {
     "name": "stdout",
     "output_type": "stream",
     "text": [
      "CPU times: total: 4min\n",
      "Wall time: 1min\n",
      "\n"
     ]
    },
    {
     "name": "stderr",
     "output_type": "stream",
     "text": [
      "C:\\Users\\jacop\\anaconda3\\Lib\\site-packages\\sklearn\\linear_model\\_ridge.py:252: LinAlgWarning: Ill-conditioned matrix (rcond=5.35555e-20): result may not be accurate.\n",
      "  dual_coef = linalg.solve(K, y, assume_a=\"pos\", overwrite_a=False)\n"
     ]
    }
   ],
   "source": [
    "%time model.fit(X_train, y_train)\n",
    "print()"
   ]
  },
  {
   "cell_type": "markdown",
   "metadata": {
    "id": "EOaI0YJZlVi4",
    "tags": []
   },
   "source": [
    "### Hyperparameter Tuning per kernel polinomiale\n",
    "\n",
    "Per ottimizzare il modello, eseguiamo una ricerca randomizzata (`RandomizedSearchCV`) su due iperparametri fondamentali:\n",
    "\n",
    "- `alpha`: peso della regolarizzazione L2;\n",
    "- `degree`: grado del kernel polinomiale (da 2 a 29)."
   ]
  },
  {
   "cell_type": "code",
   "execution_count": 40,
   "metadata": {
    "id": "ffHhHFyllVi4"
   },
   "outputs": [],
   "source": [
    "grid = {\n",
    "    \"regr__alpha\":    [0.1, 1, 10],\n",
    "    \"regr__degree\": list(range(2,30))\n",
    "}\n",
    "gs = RandomizedSearchCV(model, grid, n_iter=20, cv=tscv, n_jobs=N_JOBS)"
   ]
  },
  {
   "cell_type": "markdown",
   "metadata": {
    "id": "NC1W0ztHymoP"
   },
   "source": [
    "**Scelta del numero di iterazioni per RandomizedSearchCV con questo grid**\n",
    "\n",
    "Il grid ha:\n",
    "\n",
    "- Configurazioni Totali:\n",
    "$$\n",
    "M = |\\text{max_depth}| \\times |\\text{min_samples_split}| = 28 \\times 4 = 84 $$\n",
    "\n",
    "Supponiamo di voler avere una probabilità \\(P = 0.90\\) di includere almeno una delle migliori \\(k = 10\\) configurazioni tra queste 84.\n",
    "\n",
    "Usiamo la formula:\n",
    "\n",
    "$$\n",
    "n = \\frac{\\ln(1 - P)}{\\ln\\left(1 - \\frac{k}{M}\\right)}\n",
    "$$\n",
    "\n",
    "Calcoliamo l’approssimazione:\n",
    "\n",
    "$$\n",
    "n \\approx - \\frac{\\ln(1 - 0.90)}{10/104} = \\frac{2.3026}{10/84} = 2.3026 \\times \\frac{84}{10} \\approx 20\n",
    "$$\n",
    "\n",
    "Quindi, con **20 iterazioni** di Randomized Search, si ha circa il 90% di probabilità di testare almeno una delle 10 migliori configurazioni, risparmiando rispetto a un Grid Search completo con 84 tentativi.\n",
    "\n",
    "\n"
   ]
  },
  {
   "cell_type": "markdown",
   "metadata": {
    "id": "Wrc2Kg0DyqcO"
   },
   "source": [
    "**Da dove viene la formula per stimare il numero di iterazioni nel Randomized Search?**\n",
    "\n",
    "Per stimare quante iterazioni (`n`) sono necessarie per avere una certa probabilità \\(P\\) di includere almeno una configurazione tra le \\(k\\) migliori (su \\(M\\) totali), usiamo la seguente logica probabilistica:\n",
    "\n",
    "1. Probabilità di *non* pescare una top-\\(k\\) in un singolo tentativo.\n",
    "Se ci sono \\(M\\) configurazioni totali e \\(k\\) di esse sono “quasi ottimali”, la probabilità di *non* sceglierne una buona è:\n",
    "$$\n",
    "1 - \\frac{k}{M}\n",
    "$$\n",
    "\n",
    "2. Probabilità di non pescarne *nessuna* in \\(n\\) tentativi indipendenti\n",
    "$$\n",
    "\\left(1 - \\frac{k}{M} \\right)^n\n",
    "$$\n",
    "\n",
    "3. Probabilità di pescare **almeno una** delle top-\\(k\\)\n",
    "$$\n",
    "P(\\text{≥1 top-}k) = 1 - \\left(1 - \\frac{k}{M} \\right)^n\n",
    "$$\n",
    "\n",
    "4. Ricavare \\(n\\) dalla formula\n",
    "$$\n",
    "1 - \\left(1 - \\frac{k}{M} \\right)^n = P\n",
    "\\quad \\Longrightarrow \\quad\n",
    "n = \\frac{\\ln(1 - P)}{\\ln\\left(1 - \\frac{k}{M} \\right)}\n",
    "$$\n",
    "\n",
    "5. Approssimazione per $$ k \\ll M $$\n",
    "Poiché $$ \\ln(1 - x) \\approx -x $$ per \\(x\\) piccolo:\n",
    "$$\n",
    "n \\approx - \\frac{\\ln(1 - P)}{k/M}\n",
    "$$"
   ]
  },
  {
   "cell_type": "code",
   "execution_count": 41,
   "metadata": {
    "id": "4UBMc_JPlVi5"
   },
   "outputs": [
    {
     "ename": "OSError",
     "evalue": "[WinError 1450] Risorse di sistema insufficienti per completare il servizio richiesto",
     "output_type": "error",
     "traceback": [
      "\u001b[1;31m---------------------------------------------------------------------------\u001b[0m",
      "\u001b[1;31mOSError\u001b[0m                                   Traceback (most recent call last)",
      "File \u001b[1;32m<timed eval>:1\u001b[0m\n",
      "File \u001b[1;32m~\\anaconda3\\Lib\\site-packages\\sklearn\\base.py:1389\u001b[0m, in \u001b[0;36m_fit_context.<locals>.decorator.<locals>.wrapper\u001b[1;34m(estimator, *args, **kwargs)\u001b[0m\n\u001b[0;32m   1382\u001b[0m     estimator\u001b[38;5;241m.\u001b[39m_validate_params()\n\u001b[0;32m   1384\u001b[0m \u001b[38;5;28;01mwith\u001b[39;00m config_context(\n\u001b[0;32m   1385\u001b[0m     skip_parameter_validation\u001b[38;5;241m=\u001b[39m(\n\u001b[0;32m   1386\u001b[0m         prefer_skip_nested_validation \u001b[38;5;129;01mor\u001b[39;00m global_skip_validation\n\u001b[0;32m   1387\u001b[0m     )\n\u001b[0;32m   1388\u001b[0m ):\n\u001b[1;32m-> 1389\u001b[0m     \u001b[38;5;28;01mreturn\u001b[39;00m fit_method(estimator, \u001b[38;5;241m*\u001b[39margs, \u001b[38;5;241m*\u001b[39m\u001b[38;5;241m*\u001b[39mkwargs)\n",
      "File \u001b[1;32m~\\anaconda3\\Lib\\site-packages\\sklearn\\model_selection\\_search.py:1024\u001b[0m, in \u001b[0;36mBaseSearchCV.fit\u001b[1;34m(self, X, y, **params)\u001b[0m\n\u001b[0;32m   1018\u001b[0m     results \u001b[38;5;241m=\u001b[39m \u001b[38;5;28mself\u001b[39m\u001b[38;5;241m.\u001b[39m_format_results(\n\u001b[0;32m   1019\u001b[0m         all_candidate_params, n_splits, all_out, all_more_results\n\u001b[0;32m   1020\u001b[0m     )\n\u001b[0;32m   1022\u001b[0m     \u001b[38;5;28;01mreturn\u001b[39;00m results\n\u001b[1;32m-> 1024\u001b[0m \u001b[38;5;28mself\u001b[39m\u001b[38;5;241m.\u001b[39m_run_search(evaluate_candidates)\n\u001b[0;32m   1026\u001b[0m \u001b[38;5;66;03m# multimetric is determined here because in the case of a callable\u001b[39;00m\n\u001b[0;32m   1027\u001b[0m \u001b[38;5;66;03m# self.scoring the return type is only known after calling\u001b[39;00m\n\u001b[0;32m   1028\u001b[0m first_test_score \u001b[38;5;241m=\u001b[39m all_out[\u001b[38;5;241m0\u001b[39m][\u001b[38;5;124m\"\u001b[39m\u001b[38;5;124mtest_scores\u001b[39m\u001b[38;5;124m\"\u001b[39m]\n",
      "File \u001b[1;32m~\\anaconda3\\Lib\\site-packages\\sklearn\\model_selection\\_search.py:1951\u001b[0m, in \u001b[0;36mRandomizedSearchCV._run_search\u001b[1;34m(self, evaluate_candidates)\u001b[0m\n\u001b[0;32m   1949\u001b[0m \u001b[38;5;28;01mdef\u001b[39;00m \u001b[38;5;21m_run_search\u001b[39m(\u001b[38;5;28mself\u001b[39m, evaluate_candidates):\n\u001b[0;32m   1950\u001b[0m \u001b[38;5;250m    \u001b[39m\u001b[38;5;124;03m\"\"\"Search n_iter candidates from param_distributions\"\"\"\u001b[39;00m\n\u001b[1;32m-> 1951\u001b[0m     evaluate_candidates(\n\u001b[0;32m   1952\u001b[0m         ParameterSampler(\n\u001b[0;32m   1953\u001b[0m             \u001b[38;5;28mself\u001b[39m\u001b[38;5;241m.\u001b[39mparam_distributions, \u001b[38;5;28mself\u001b[39m\u001b[38;5;241m.\u001b[39mn_iter, random_state\u001b[38;5;241m=\u001b[39m\u001b[38;5;28mself\u001b[39m\u001b[38;5;241m.\u001b[39mrandom_state\n\u001b[0;32m   1954\u001b[0m         )\n\u001b[0;32m   1955\u001b[0m     )\n",
      "File \u001b[1;32m~\\anaconda3\\Lib\\site-packages\\sklearn\\model_selection\\_search.py:970\u001b[0m, in \u001b[0;36mBaseSearchCV.fit.<locals>.evaluate_candidates\u001b[1;34m(candidate_params, cv, more_results)\u001b[0m\n\u001b[0;32m    962\u001b[0m \u001b[38;5;28;01mif\u001b[39;00m \u001b[38;5;28mself\u001b[39m\u001b[38;5;241m.\u001b[39mverbose \u001b[38;5;241m>\u001b[39m \u001b[38;5;241m0\u001b[39m:\n\u001b[0;32m    963\u001b[0m     \u001b[38;5;28mprint\u001b[39m(\n\u001b[0;32m    964\u001b[0m         \u001b[38;5;124m\"\u001b[39m\u001b[38;5;124mFitting \u001b[39m\u001b[38;5;132;01m{0}\u001b[39;00m\u001b[38;5;124m folds for each of \u001b[39m\u001b[38;5;132;01m{1}\u001b[39;00m\u001b[38;5;124m candidates,\u001b[39m\u001b[38;5;124m\"\u001b[39m\n\u001b[0;32m    965\u001b[0m         \u001b[38;5;124m\"\u001b[39m\u001b[38;5;124m totalling \u001b[39m\u001b[38;5;132;01m{2}\u001b[39;00m\u001b[38;5;124m fits\u001b[39m\u001b[38;5;124m\"\u001b[39m\u001b[38;5;241m.\u001b[39mformat(\n\u001b[0;32m    966\u001b[0m             n_splits, n_candidates, n_candidates \u001b[38;5;241m*\u001b[39m n_splits\n\u001b[0;32m    967\u001b[0m         )\n\u001b[0;32m    968\u001b[0m     )\n\u001b[1;32m--> 970\u001b[0m out \u001b[38;5;241m=\u001b[39m parallel(\n\u001b[0;32m    971\u001b[0m     delayed(_fit_and_score)(\n\u001b[0;32m    972\u001b[0m         clone(base_estimator),\n\u001b[0;32m    973\u001b[0m         X,\n\u001b[0;32m    974\u001b[0m         y,\n\u001b[0;32m    975\u001b[0m         train\u001b[38;5;241m=\u001b[39mtrain,\n\u001b[0;32m    976\u001b[0m         test\u001b[38;5;241m=\u001b[39mtest,\n\u001b[0;32m    977\u001b[0m         parameters\u001b[38;5;241m=\u001b[39mparameters,\n\u001b[0;32m    978\u001b[0m         split_progress\u001b[38;5;241m=\u001b[39m(split_idx, n_splits),\n\u001b[0;32m    979\u001b[0m         candidate_progress\u001b[38;5;241m=\u001b[39m(cand_idx, n_candidates),\n\u001b[0;32m    980\u001b[0m         \u001b[38;5;241m*\u001b[39m\u001b[38;5;241m*\u001b[39mfit_and_score_kwargs,\n\u001b[0;32m    981\u001b[0m     )\n\u001b[0;32m    982\u001b[0m     \u001b[38;5;28;01mfor\u001b[39;00m (cand_idx, parameters), (split_idx, (train, test)) \u001b[38;5;129;01min\u001b[39;00m product(\n\u001b[0;32m    983\u001b[0m         \u001b[38;5;28menumerate\u001b[39m(candidate_params),\n\u001b[0;32m    984\u001b[0m         \u001b[38;5;28menumerate\u001b[39m(cv\u001b[38;5;241m.\u001b[39msplit(X, y, \u001b[38;5;241m*\u001b[39m\u001b[38;5;241m*\u001b[39mrouted_params\u001b[38;5;241m.\u001b[39msplitter\u001b[38;5;241m.\u001b[39msplit)),\n\u001b[0;32m    985\u001b[0m     )\n\u001b[0;32m    986\u001b[0m )\n\u001b[0;32m    988\u001b[0m \u001b[38;5;28;01mif\u001b[39;00m \u001b[38;5;28mlen\u001b[39m(out) \u001b[38;5;241m<\u001b[39m \u001b[38;5;241m1\u001b[39m:\n\u001b[0;32m    989\u001b[0m     \u001b[38;5;28;01mraise\u001b[39;00m \u001b[38;5;167;01mValueError\u001b[39;00m(\n\u001b[0;32m    990\u001b[0m         \u001b[38;5;124m\"\u001b[39m\u001b[38;5;124mNo fits were performed. \u001b[39m\u001b[38;5;124m\"\u001b[39m\n\u001b[0;32m    991\u001b[0m         \u001b[38;5;124m\"\u001b[39m\u001b[38;5;124mWas the CV iterator empty? \u001b[39m\u001b[38;5;124m\"\u001b[39m\n\u001b[0;32m    992\u001b[0m         \u001b[38;5;124m\"\u001b[39m\u001b[38;5;124mWere there no candidates?\u001b[39m\u001b[38;5;124m\"\u001b[39m\n\u001b[0;32m    993\u001b[0m     )\n",
      "File \u001b[1;32m~\\anaconda3\\Lib\\site-packages\\sklearn\\utils\\parallel.py:77\u001b[0m, in \u001b[0;36mParallel.__call__\u001b[1;34m(self, iterable)\u001b[0m\n\u001b[0;32m     72\u001b[0m config \u001b[38;5;241m=\u001b[39m get_config()\n\u001b[0;32m     73\u001b[0m iterable_with_config \u001b[38;5;241m=\u001b[39m (\n\u001b[0;32m     74\u001b[0m     (_with_config(delayed_func, config), args, kwargs)\n\u001b[0;32m     75\u001b[0m     \u001b[38;5;28;01mfor\u001b[39;00m delayed_func, args, kwargs \u001b[38;5;129;01min\u001b[39;00m iterable\n\u001b[0;32m     76\u001b[0m )\n\u001b[1;32m---> 77\u001b[0m \u001b[38;5;28;01mreturn\u001b[39;00m \u001b[38;5;28msuper\u001b[39m()\u001b[38;5;241m.\u001b[39m\u001b[38;5;21m__call__\u001b[39m(iterable_with_config)\n",
      "File \u001b[1;32m~\\anaconda3\\Lib\\site-packages\\joblib\\parallel.py:2007\u001b[0m, in \u001b[0;36mParallel.__call__\u001b[1;34m(self, iterable)\u001b[0m\n\u001b[0;32m   2001\u001b[0m \u001b[38;5;66;03m# The first item from the output is blank, but it makes the interpreter\u001b[39;00m\n\u001b[0;32m   2002\u001b[0m \u001b[38;5;66;03m# progress until it enters the Try/Except block of the generator and\u001b[39;00m\n\u001b[0;32m   2003\u001b[0m \u001b[38;5;66;03m# reaches the first `yield` statement. This starts the asynchronous\u001b[39;00m\n\u001b[0;32m   2004\u001b[0m \u001b[38;5;66;03m# dispatch of the tasks to the workers.\u001b[39;00m\n\u001b[0;32m   2005\u001b[0m \u001b[38;5;28mnext\u001b[39m(output)\n\u001b[1;32m-> 2007\u001b[0m \u001b[38;5;28;01mreturn\u001b[39;00m output \u001b[38;5;28;01mif\u001b[39;00m \u001b[38;5;28mself\u001b[39m\u001b[38;5;241m.\u001b[39mreturn_generator \u001b[38;5;28;01melse\u001b[39;00m \u001b[38;5;28mlist\u001b[39m(output)\n",
      "File \u001b[1;32m~\\anaconda3\\Lib\\site-packages\\joblib\\parallel.py:1650\u001b[0m, in \u001b[0;36mParallel._get_outputs\u001b[1;34m(self, iterator, pre_dispatch)\u001b[0m\n\u001b[0;32m   1647\u001b[0m     \u001b[38;5;28;01myield\u001b[39;00m\n\u001b[0;32m   1649\u001b[0m     \u001b[38;5;28;01mwith\u001b[39;00m \u001b[38;5;28mself\u001b[39m\u001b[38;5;241m.\u001b[39m_backend\u001b[38;5;241m.\u001b[39mretrieval_context():\n\u001b[1;32m-> 1650\u001b[0m         \u001b[38;5;28;01myield from\u001b[39;00m \u001b[38;5;28mself\u001b[39m\u001b[38;5;241m.\u001b[39m_retrieve()\n\u001b[0;32m   1652\u001b[0m \u001b[38;5;28;01mexcept\u001b[39;00m \u001b[38;5;167;01mGeneratorExit\u001b[39;00m:\n\u001b[0;32m   1653\u001b[0m     \u001b[38;5;66;03m# The generator has been garbage collected before being fully\u001b[39;00m\n\u001b[0;32m   1654\u001b[0m     \u001b[38;5;66;03m# consumed. This aborts the remaining tasks if possible and warn\u001b[39;00m\n\u001b[0;32m   1655\u001b[0m     \u001b[38;5;66;03m# the user if necessary.\u001b[39;00m\n\u001b[0;32m   1656\u001b[0m     \u001b[38;5;28mself\u001b[39m\u001b[38;5;241m.\u001b[39m_exception \u001b[38;5;241m=\u001b[39m \u001b[38;5;28;01mTrue\u001b[39;00m\n",
      "File \u001b[1;32m~\\anaconda3\\Lib\\site-packages\\joblib\\parallel.py:1762\u001b[0m, in \u001b[0;36mParallel._retrieve\u001b[1;34m(self)\u001b[0m\n\u001b[0;32m   1757\u001b[0m \u001b[38;5;66;03m# If the next job is not ready for retrieval yet, we just wait for\u001b[39;00m\n\u001b[0;32m   1758\u001b[0m \u001b[38;5;66;03m# async callbacks to progress.\u001b[39;00m\n\u001b[0;32m   1759\u001b[0m \u001b[38;5;28;01mif\u001b[39;00m ((\u001b[38;5;28mlen\u001b[39m(\u001b[38;5;28mself\u001b[39m\u001b[38;5;241m.\u001b[39m_jobs) \u001b[38;5;241m==\u001b[39m \u001b[38;5;241m0\u001b[39m) \u001b[38;5;129;01mor\u001b[39;00m\n\u001b[0;32m   1760\u001b[0m     (\u001b[38;5;28mself\u001b[39m\u001b[38;5;241m.\u001b[39m_jobs[\u001b[38;5;241m0\u001b[39m]\u001b[38;5;241m.\u001b[39mget_status(\n\u001b[0;32m   1761\u001b[0m         timeout\u001b[38;5;241m=\u001b[39m\u001b[38;5;28mself\u001b[39m\u001b[38;5;241m.\u001b[39mtimeout) \u001b[38;5;241m==\u001b[39m TASK_PENDING)):\n\u001b[1;32m-> 1762\u001b[0m     time\u001b[38;5;241m.\u001b[39msleep(\u001b[38;5;241m0.01\u001b[39m)\n\u001b[0;32m   1763\u001b[0m     \u001b[38;5;28;01mcontinue\u001b[39;00m\n\u001b[0;32m   1765\u001b[0m \u001b[38;5;66;03m# We need to be careful: the job list can be filling up as\u001b[39;00m\n\u001b[0;32m   1766\u001b[0m \u001b[38;5;66;03m# we empty it and Python list are not thread-safe by\u001b[39;00m\n\u001b[0;32m   1767\u001b[0m \u001b[38;5;66;03m# default hence the use of the lock\u001b[39;00m\n",
      "\u001b[1;31mOSError\u001b[0m: [WinError 1450] Risorse di sistema insufficienti per completare il servizio richiesto"
     ]
    },
    {
     "name": "stdout",
     "output_type": "stream",
     "text": [
      "\n"
     ]
    }
   ],
   "source": [
    "%time gs.fit(X_train, y_train)\n",
    "print()"
   ]
  },
  {
   "cell_type": "code",
   "execution_count": 42,
   "metadata": {
    "id": "lsrbR4InlVi5",
    "tags": []
   },
   "outputs": [
    {
     "ename": "AttributeError",
     "evalue": "'RandomizedSearchCV' object has no attribute 'best_estimator_'",
     "output_type": "error",
     "traceback": [
      "\u001b[1;31m---------------------------------------------------------------------------\u001b[0m",
      "\u001b[1;31mAttributeError\u001b[0m                            Traceback (most recent call last)",
      "Cell \u001b[1;32mIn[42], line 1\u001b[0m\n\u001b[1;32m----> 1\u001b[0m get_estimator_scores(\u001b[38;5;124m\"\u001b[39m\u001b[38;5;124mkernel_poly_reg\u001b[39m\u001b[38;5;124m\"\u001b[39m, gs\u001b[38;5;241m.\u001b[39mbest_estimator_)\n",
      "\u001b[1;31mAttributeError\u001b[0m: 'RandomizedSearchCV' object has no attribute 'best_estimator_'"
     ]
    }
   ],
   "source": [
    "get_estimator_scores(\"kernel_poly_reg\", gs.best_estimator_)"
   ]
  },
  {
   "cell_type": "markdown",
   "metadata": {
    "id": "tznaBVUFVFX2"
   },
   "source": [
    "Dopo il fitting della grid search, visualizziamo l’andamento dello score medio sui fold di validazione al variare del grado del kernel polinomiale per diversi valori di `alpha`.\n",
    "\n",
    "Questo grafico ci aiuta a comprendere come il grado del kernel e la regolarizzazione influenzino la capacità predittiva del modello."
   ]
  },
  {
   "cell_type": "code",
   "execution_count": null,
   "metadata": {
    "id": "ShgWWvDBlVi5"
   },
   "outputs": [],
   "source": [
    "results = pd.DataFrame(gs.cv_results_)[[\n",
    "    \"param_regr__alpha\",\n",
    "    \"param_regr__degree\",\n",
    "    \"mean_test_score\"\n",
    "]]\n",
    "splits = sorted(results[\"param_regr__alpha\"].unique())"
   ]
  },
  {
   "cell_type": "code",
   "execution_count": null,
   "metadata": {
    "id": "l0K5FibrlVi5"
   },
   "outputs": [],
   "source": [
    "for split in splits:\n",
    "    subset = results[results[\"param_regr__alpha\"] == split]\n",
    "    subset = subset.sort_values(\"param_regr__degree\")\n",
    "    plt.plot(\n",
    "        subset[\"param_regr__degree\"],\n",
    "        subset[\"mean_test_score\"],\n",
    "        label=f\"param_regr__alpha={split}\"\n",
    "    )\n",
    "\n",
    "plt.xlabel('degree')\n",
    "plt.ylabel('score')\n",
    "plt.title(\"Performance al variare del grado della funzione\")\n",
    "plt.legend()\n",
    "plt.show()"
   ]
  },
  {
   "cell_type": "markdown",
   "metadata": {
    "id": "p4RNo3BclVi5"
   },
   "source": [
    "### Funzioni kernel gaussiane (RBF)\n",
    "\n",
    "Oltre al kernel polinomiale, sperimentiamo con il kernel RBF (Radial Basis Function), una funzione kernel molto popolare che misura la similarità tra i punti attraverso una funzione gaussiana.\n",
    "\n",
    "Questo kernel introduce un parametro `gamma` che controlla la larghezza della gaussiana e quindi la flessibilità del modello."
   ]
  },
  {
   "cell_type": "code",
   "execution_count": null,
   "metadata": {
    "id": "9T5BL022lVi5"
   },
   "outputs": [],
   "source": [
    "model = Pipeline([\n",
    "    (\"preproc\", preprocessor),\n",
    "    (\"regr\",  KernelRidge(alpha=1, kernel=\"rbf\", gamma=0.01))\n",
    "])"
   ]
  },
  {
   "cell_type": "code",
   "execution_count": null,
   "metadata": {
    "id": "JlJ8BI7UlVi6"
   },
   "outputs": [],
   "source": [
    "%time model.fit(X_train, y_train)\n",
    "print()"
   ]
  },
  {
   "cell_type": "markdown",
   "metadata": {
    "id": "bcj4BGSPlVi6"
   },
   "source": [
    "### Hyperparameter Tuning per funzioni kernel gaussiane (RBF)\n",
    "\n",
    "Per ottimizzare il modello Kernel Ridge con kernel RBF, eseguiamo una ricerca esaustiva degli iperparametri su una griglia composta da:\n",
    "\n",
    "- `alpha`: coefficiente di regolarizzazione L2;\n",
    "- `gamma`: parametro che controlla la larghezza della funzione gaussiana."
   ]
  },
  {
   "cell_type": "code",
   "execution_count": null,
   "metadata": {
    "id": "l4S7RFNUlVi6"
   },
   "outputs": [],
   "source": [
    "grid = {\n",
    "    \"regr__alpha\":    [0.1, 1, 10],\n",
    "    \"regr__gamma\": [0.01, 0.1, 1]\n",
    "}\n",
    "gs = GridSearchCV(model, grid, cv=tscv, n_jobs=N_JOBS)"
   ]
  },
  {
   "cell_type": "code",
   "execution_count": null,
   "metadata": {
    "id": "BBK7V6RvlVi6"
   },
   "outputs": [],
   "source": [
    "%time gs.fit(X_train, y_train)\n",
    "print()"
   ]
  },
  {
   "cell_type": "code",
   "execution_count": null,
   "metadata": {
    "id": "jNj-dvsjlVi6"
   },
   "outputs": [],
   "source": [
    "get_estimator_scores(\"kernel_rbf_reg\", gs.best_estimator_)"
   ]
  },
  {
   "cell_type": "markdown",
   "metadata": {
    "id": "sELWDyRclVi6"
   },
   "source": [
    "## Alberi decisionali\n",
    "Gli alberi decisionali sono modelli predittivi che suddividono ricorsivamente lo spazio delle feature in regioni omogenee rispetto alla variabile target.\n",
    "\n",
    "In questa implementazione, limitiamo la profondità massima dell’albero a 4 livelli per evitare l’overfitting e fissiamo un seme casuale per garantire la riproducibilità."
   ]
  },
  {
   "cell_type": "code",
   "execution_count": null,
   "metadata": {
    "id": "fVoeA9SklVi6"
   },
   "outputs": [],
   "source": [
    "model = Pipeline([\n",
    "    (\"preproc\", preprocessor),\n",
    "    (\"tree\", DecisionTreeRegressor(max_depth=4, random_state=42))\n",
    "])"
   ]
  },
  {
   "cell_type": "code",
   "execution_count": null,
   "metadata": {
    "colab": {
     "base_uri": "https://localhost:8080/"
    },
    "id": "GOZPvS-MlVi7",
    "outputId": "8014b664-a1c2-4f41-b7bd-f4131b478c06"
   },
   "outputs": [],
   "source": [
    "%time model.fit(X_train, y_train)\n",
    "print()"
   ]
  },
  {
   "cell_type": "markdown",
   "metadata": {
    "id": "rfO7GcablVi7"
   },
   "source": [
    "### Hyperparameter Tuning per alberi decisionali\n",
    "Cerchiamo di ottimizzare due iperparametri chiave:\n",
    "\n",
    "- `max_depth`: la profondità massima consentita per l’albero;\n",
    "- `min_samples_split`: la frazione minima di campioni necessari per effettuare una suddivisione ulteriore di un nodo.\n"
   ]
  },
  {
   "cell_type": "code",
   "execution_count": null,
   "metadata": {
    "id": "d4wR3nZolVi7"
   },
   "outputs": [],
   "source": [
    "grid = {\n",
    "    \"tree__max_depth\": list(range(4,30)),\n",
    "    \"tree__min_samples_split\": [0.005, 0.01, 0.1, 0.15],\n",
    "}\n",
    "gs = RandomizedSearchCV(model, grid, n_iter=24, cv=tscv, n_jobs=N_JOBS)"
   ]
  },
  {
   "cell_type": "markdown",
   "metadata": {
    "id": "dN2PpsCAy6Qw"
   },
   "source": [
    "**Scelta del numero di iterazioni per RandomizedSearchCV con questo grid**\n",
    "\n",
    "Il grid ha:\n",
    "\n",
    "- Configurazioni Totali: $$ M = |\\text{max_depth}| \\times |\\text{min_samples_split}| = 26 \\times 4 = 104 $$\n",
    "\n",
    "Supponiamo di voler avere una probabilità \\(P = 0.90\\) di includere almeno una delle migliori \\(k = 10\\) configurazioni tra queste 104.\n",
    "\n",
    "Usiamo la formula:\n",
    "\n",
    "$$\n",
    "n = \\frac{\\ln(1 - P)}{\\ln\\left(1 - \\frac{k}{M}\\right)}\n",
    "$$\n",
    "\n",
    "Calcoliamo l’approssimazione:\n",
    "\n",
    "$$\n",
    "n \\approx - \\frac{\\ln(1 - 0.90)}{10/104} = \\frac{2.3026}{10/104} = 2.3026 \\times \\frac{104}{10} \\approx 24\n",
    "$$\n",
    "\n",
    "Quindi, con **24 iterazioni** di Randomized Search, si ha circa il 90% di probabilità di testare almeno una delle 10 migliori configurazioni, risparmiando rispetto a un Grid Search completo con 104 tentativi.\n",
    "\n"
   ]
  },
  {
   "cell_type": "code",
   "execution_count": null,
   "metadata": {
    "colab": {
     "base_uri": "https://localhost:8080/"
    },
    "id": "My063uZrlVi7",
    "outputId": "27b67d85-724f-481c-ca46-abed6a584e8d"
   },
   "outputs": [],
   "source": [
    "%time gs.fit(X_train, y_train)\n",
    "print()"
   ]
  },
  {
   "cell_type": "code",
   "execution_count": null,
   "metadata": {
    "id": "h3w8NnP3lVi7"
   },
   "outputs": [],
   "source": [
    "get_estimator_scores(\"decision_tree_reg\", gs.best_estimator_)"
   ]
  },
  {
   "cell_type": "markdown",
   "metadata": {
    "id": "ISLezfSLWLhB"
   },
   "source": [
    "Il grafico mostra come cambia lo score medio di validazione al variare della profondità massima dell’albero, per diversi valori di `min_samples_split`. Questo aiuta a comprendere la sensibilità del modello a questi parametri ed a identificare valori ottimali."
   ]
  },
  {
   "cell_type": "code",
   "execution_count": null,
   "metadata": {
    "id": "6QK0x8yelVi7"
   },
   "outputs": [],
   "source": [
    "results = pd.DataFrame(gs.cv_results_)[[\n",
    "    \"param_tree__min_samples_split\",\n",
    "    \"param_tree__max_depth\",\n",
    "    \"mean_test_score\"\n",
    "]]\n",
    "splits = sorted(results[\"param_tree__min_samples_split\"].unique())"
   ]
  },
  {
   "cell_type": "code",
   "execution_count": null,
   "metadata": {
    "colab": {
     "base_uri": "https://localhost:8080/",
     "height": 480
    },
    "id": "ma3qnu6clVi8",
    "outputId": "1ccd2a98-6d7d-4f8d-c319-9930a7382b6c"
   },
   "outputs": [],
   "source": [
    "for split in splits:\n",
    "    subset = results[results[\"param_tree__min_samples_split\"] == split]\n",
    "    subset = subset.sort_values(\"param_tree__max_depth\")\n",
    "    plt.plot(\n",
    "        subset[\"param_tree__max_depth\"],\n",
    "        subset[\"mean_test_score\"],\n",
    "        label=f\"min_samples_split={split}\"\n",
    "    )\n",
    "\n",
    "plt.xlabel('depth')\n",
    "plt.ylabel('score')\n",
    "plt.title(\"Performance al variare della Profonditá\")\n",
    "plt.legend()\n",
    "plt.show()"
   ]
  },
  {
   "cell_type": "markdown",
   "metadata": {
    "id": "sM7vW1UglVi8"
   },
   "source": [
    "## Random forest\n",
    "Le Random Forest combinano molteplici alberi decisionali addestrati su sottoinsiemi casuali del dataset e delle feature, migliorando la robustezza e la capacità di generalizzazione rispetto a un singolo albero.\n",
    "\n",
    "In questo esempio, impostiamo:\n",
    "\n",
    "- `max_samples=0.2`: ogni albero è addestrato su un campione casuale pari al 20% dei dati totali;\n",
    "- `max_features='sqrt'`: ogni albero valuta un sottoinsieme delle feature pari alla radice quadrata del numero totale;\n",
    "- `n_estimators=200`: numero totale di alberi nella foresta;\n",
    "- `max_depth=None`: profondità illimitata degli alberi;\n",
    "- `n_jobs=-1`: utilizzo di tutti i core disponibili per il parallelismo."
   ]
  },
  {
   "cell_type": "code",
   "execution_count": null,
   "metadata": {
    "id": "1eieu-i1lVi9"
   },
   "outputs": [],
   "source": [
    "model = Pipeline([\n",
    "    (\"preproc\", preprocessor),\n",
    "    (\"tree\", RandomForestRegressor(max_samples=0.2, max_features=\"sqrt\", n_estimators=200, max_depth=None, n_jobs=-1))\n",
    "])"
   ]
  },
  {
   "cell_type": "code",
   "execution_count": null,
   "metadata": {
    "colab": {
     "base_uri": "https://localhost:8080/"
    },
    "id": "lB_F1HTDlVi9",
    "outputId": "d01043de-5601-4158-a573-be1b3d8ccdcd"
   },
   "outputs": [],
   "source": [
    "%time model.fit(X_train, y_train)\n",
    "print()"
   ]
  },
  {
   "cell_type": "markdown",
   "metadata": {
    "id": "jx9HoQcolVi9"
   },
   "source": [
    "Possiamo ricavare le 10 feature più importanti per la Random Forest, ovvero le variabili che sono state più utilizzate nella creazione degli alberi decisionali."
   ]
  },
  {
   "cell_type": "code",
   "execution_count": null,
   "metadata": {
    "colab": {
     "base_uri": "https://localhost:8080/",
     "height": 398
    },
    "id": "AQVy9ajGlVi9",
    "outputId": "57b42e08-4e96-448a-875d-6969b044cc85"
   },
   "outputs": [],
   "source": [
    "pd.Series(model.named_steps[\"tree\"].feature_importances_, preprocessor.get_feature_names_out(X_train.columns)).sort_values(ascending=False).head(10)"
   ]
  },
  {
   "cell_type": "markdown",
   "metadata": {
    "id": "fY3JUaW7lVi9"
   },
   "source": [
    "### Hyperparameter Tuning per Random Forest\n",
    "\n",
    "Eseguiamo una ricerca esaustiva (`GridSearchCV`) per ottimizzare due iperparametri fondamentali del modello Random Forest:\n",
    "\n",
    "- `n_estimators`: numero di alberi nella foresta;\n",
    "- `max_samples`: frazione massima di campioni usata per addestrare ogni singolo albero.\n"
   ]
  },
  {
   "cell_type": "code",
   "execution_count": null,
   "metadata": {
    "id": "S22MF1LolVi-"
   },
   "outputs": [],
   "source": [
    "grid = {\n",
    "    \"tree__n_estimators\": [150, 200, 250, 300],\n",
    "    \"tree__max_samples\": [0.5, 0.6, 0.8, 1.0],\n",
    "}\n",
    "gs = GridSearchCV(model, grid, cv=tscv, n_jobs=N_JOBS)"
   ]
  },
  {
   "cell_type": "code",
   "execution_count": null,
   "metadata": {
    "colab": {
     "base_uri": "https://localhost:8080/"
    },
    "id": "DqxUYeNElVi-",
    "outputId": "033e7844-b189-4f4e-8c59-b6075150b4e5"
   },
   "outputs": [],
   "source": [
    "%time gs.fit(X_train, y_train)\n",
    "print()"
   ]
  },
  {
   "cell_type": "code",
   "execution_count": null,
   "metadata": {
    "id": "ML7A1bPflVi-"
   },
   "outputs": [],
   "source": [
    "get_estimator_scores(\"random_forest_reg\", gs.best_estimator_)"
   ]
  },
  {
   "cell_type": "markdown",
   "metadata": {
    "id": "m5R2e4gWXXJp"
   },
   "source": [
    "Il grafico illustra l’andamento dello score medio di validazione in funzione del numero di alberi, suddiviso per profondità massima degli alberi. Questa analisi aiuta a bilanciare la complessità degli alberi e la quantità di alberi per ottenere le migliori performance."
   ]
  },
  {
   "cell_type": "code",
   "execution_count": null,
   "metadata": {
    "id": "srMzWDr1lVi-"
   },
   "outputs": [],
   "source": [
    "results = pd.DataFrame(gs.cv_results_)[[\n",
    "    \"param_tree__n_estimators\",\n",
    "    \"param_tree__max_samples\",\n",
    "    \"mean_test_score\"\n",
    "]]\n",
    "splits = sorted(results[\"param_tree__max_samples\"].unique())"
   ]
  },
  {
   "cell_type": "code",
   "execution_count": null,
   "metadata": {
    "colab": {
     "base_uri": "https://localhost:8080/",
     "height": 480
    },
    "id": "HO-ajTvZlVi-",
    "outputId": "b22cd767-b823-44be-9f9a-bab5a3688728"
   },
   "outputs": [],
   "source": [
    "for split in splits:\n",
    "    subset = results[results[\"param_tree__max_samples\"] == split]\n",
    "    subset = subset.sort_values(\"param_tree__max_samples\")\n",
    "    plt.plot(\n",
    "        subset[\"param_tree__n_estimators\"],\n",
    "        subset[\"mean_test_score\"],\n",
    "        label=f\"max_samples={split}\"\n",
    "    )\n",
    "\n",
    "plt.xlabel('n trees')\n",
    "plt.ylabel('score')\n",
    "plt.title(\"Performance al variare del numero di alberi\")\n",
    "plt.legend()\n",
    "plt.show()"
   ]
  },
  {
   "cell_type": "markdown",
   "metadata": {
    "id": "7xPxYN70lVi_"
   },
   "source": [
    "## XGBoost\n",
    "\n",
    "XGBoost è un algoritmo di boosting basato su alberi decisionali che costruisce iterativamente una foresta di modelli, dove ogni albero cerca di correggere gli errori residui del precedente.\n",
    "\n",
    "Qui utilizziamo XGBoost per regressione con la funzione obiettivo `reg:squarederror` e un numero fisso di 200 alberi."
   ]
  },
  {
   "cell_type": "code",
   "execution_count": null,
   "metadata": {
    "id": "1A4je0oplVjA"
   },
   "outputs": [],
   "source": [
    "model = Pipeline([\n",
    "    (\"preproc\", preprocessor),\n",
    "    (\"xgb\", XGBRegressor(objective='reg:squarederror', n_estimators=200))\n",
    "])"
   ]
  },
  {
   "cell_type": "code",
   "execution_count": null,
   "metadata": {
    "colab": {
     "base_uri": "https://localhost:8080/"
    },
    "id": "8A3332KolVjA",
    "outputId": "09d760de-8a6d-4a31-f34f-abdfcd765f16"
   },
   "outputs": [],
   "source": [
    "%time model.fit(X_train, y_train)\n",
    "print()"
   ]
  },
  {
   "cell_type": "markdown",
   "metadata": {
    "id": "xUxDT_-nlVjA"
   },
   "source": [
    "Analizziamo le 5 feature più importanti secondo XGBoost, ovvero quelle che contribuiscono maggiormente alla riduzione dell’errore durante la costruzione degli alberi. Questa analisi aiuta a interpretare quali variabili influenzano maggiormente la predizione."
   ]
  },
  {
   "cell_type": "code",
   "execution_count": null,
   "metadata": {
    "colab": {
     "base_uri": "https://localhost:8080/"
    },
    "id": "us6Z4OmqlVjA",
    "outputId": "ffb285ba-66c8-4096-91cb-af43d38b9169"
   },
   "outputs": [],
   "source": [
    "pd.Series(model.named_steps[\"xgb\"].feature_importances_, preprocessor.get_feature_names_out(X_train.columns)).sort_values(ascending=False).head(5)"
   ]
  },
  {
   "cell_type": "markdown",
   "metadata": {
    "id": "uapeT7xKlVjA"
   },
   "source": [
    "### Hyperparameter Tuning per XGBoost\n",
    "Per migliorare le prestazioni, eseguiamo una Grid Search per trovare i valori ottimali di due iperparametri fondamentali:\n",
    "\n",
    "- `max_depth`: la profondità massima di ciascun albero;\n",
    "- `n_estimators`: il numero di alberi nella foresta.\n"
   ]
  },
  {
   "cell_type": "code",
   "execution_count": null,
   "metadata": {
    "id": "UwAwlSAxlVjA"
   },
   "outputs": [],
   "source": [
    "grid = {\n",
    "    \"xgb__max_depth\": [3, 5, 7, 10],\n",
    "    \"xgb__n_estimators\": [100, 200, 400, 700, 1000],\n",
    "}\n",
    "gs = GridSearchCV(model, grid, cv=tscv, n_jobs=N_JOBS)"
   ]
  },
  {
   "cell_type": "code",
   "execution_count": null,
   "metadata": {
    "colab": {
     "base_uri": "https://localhost:8080/"
    },
    "id": "DRafW1bilVjA",
    "outputId": "cb35d8db-964c-4abb-aeea-cae17d82d3dc"
   },
   "outputs": [],
   "source": [
    "%time gs.fit(X_train, y_train)\n",
    "print()"
   ]
  },
  {
   "cell_type": "code",
   "execution_count": null,
   "metadata": {
    "id": "ECO1JyGKlVjB"
   },
   "outputs": [],
   "source": [
    "get_estimator_scores(\"xgboost_reg\", gs.best_estimator_)"
   ]
  },
  {
   "cell_type": "markdown",
   "metadata": {
    "id": "a9ynR1lhYC5i"
   },
   "source": [
    "Il grafico mostra l’andamento del punteggio medio di validazione al variare del numero di alberi, suddiviso per profondità massima degli alberi. Questa visualizzazione permette di bilanciare complessità del modello e quantità di alberi per ottenere le migliori performance predittive."
   ]
  },
  {
   "cell_type": "code",
   "execution_count": null,
   "metadata": {
    "id": "8uK3_8j4lVjB"
   },
   "outputs": [],
   "source": [
    "results = pd.DataFrame(gs.cv_results_)[[\"param_xgb__max_depth\",\"param_xgb__n_estimators\",\"mean_test_score\"]]\n",
    "results_3 = results[results[\"param_xgb__max_depth\"] == 3]\n",
    "results_5 = results[results[\"param_xgb__max_depth\"] == 5]\n",
    "results_7 = results[results[\"param_xgb__max_depth\"] == 7]\n",
    "results_10 = results[results[\"param_xgb__max_depth\"] == 10]"
   ]
  },
  {
   "cell_type": "code",
   "execution_count": null,
   "metadata": {
    "colab": {
     "base_uri": "https://localhost:8080/"
    },
    "id": "DD3ex6kOlVjB",
    "outputId": "7623895e-f9d9-4201-c347-70b39b61a712"
   },
   "outputs": [],
   "source": [
    "plt.plot(results_3[\"param_xgb__n_estimators\"], results_3[\"mean_test_score\"])\n",
    "plt.plot(results_5[\"param_xgb__n_estimators\"], results_5[\"mean_test_score\"], c=\"red\")\n",
    "plt.plot(results_7[\"param_xgb__n_estimators\"], results_7[\"mean_test_score\"], c=\"green\")\n",
    "plt.plot(results_10[\"param_xgb__n_estimators\"], results_10[\"mean_test_score\"], c=\"gold\")\n",
    "plt.xlabel('n trees')\n",
    "plt.ylabel('score')\n",
    "plt.legend([\"max_depth=3\",\"max_depth=5\",\"max_depth=7\",\"max_depth=10\"])\n",
    "plt.title('Grafico al variare del numero del numero di alberi di XGBoost')\n",
    "plt.show()"
   ]
  },
  {
   "cell_type": "markdown",
   "metadata": {
    "id": "xlwH7ptOzQwq"
   },
   "source": [
    "## MLP\n",
    "La classe `MLP` definisce una rete neurale feed-forward a più strati completamente connessi, con:\n",
    "\n",
    "- Numero di neuroni personalizzabile per ogni layer nascosto (`hidden_sizes`);\n",
    "- Funzione di attivazione ReLU dopo ogni layer lineare;\n",
    "- Dropout applicato dopo ogni attivazione per ridurre l'overfitting;\n",
    "- Uno strato di output lineare con un singolo neurone per la regressione.\n"
   ]
  },
  {
   "cell_type": "code",
   "execution_count": null,
   "metadata": {
    "colab": {
     "base_uri": "https://localhost:8080/"
    },
    "id": "FKVjVeNVzTPO",
    "outputId": "651870d5-cda1-48d5-dac9-7e41670898af"
   },
   "outputs": [],
   "source": [
    "device = torch.device(\"cuda\" if torch.cuda.is_available() else \"cpu\")\n",
    "print(f\"Device utilizzato: {device}\")\n",
    "\n",
    "class MLP(nn.Module):\n",
    "    def __init__(self, input_dim, hidden_sizes, dropout):\n",
    "        super().__init__()\n",
    "        layers = []\n",
    "        dim = input_dim\n",
    "        for hs in hidden_sizes:\n",
    "            layers.append(nn.Linear(dim, hs))\n",
    "            layers.append(nn.ReLU())\n",
    "            layers.append(nn.Dropout(dropout))\n",
    "            dim = hs\n",
    "        layers.append(nn.Linear(dim, 1))\n",
    "        self.net = nn.Sequential(*layers)\n",
    "    def forward(self, x):\n",
    "        return self.net(x)"
   ]
  },
  {
   "cell_type": "markdown",
   "metadata": {
    "id": "W1Ljjq9rZJZo"
   },
   "source": [
    "### Implementazione dell’Early Stopping\n",
    "\n",
    "La classe `EarlyStopper` consente di interrompere anticipatamente l'addestramento se la loss di validazione non migliora dopo un numero definito di epoche (`patience`). Velocizza l'ottimizzazione e riduce overfitting."
   ]
  },
  {
   "cell_type": "code",
   "execution_count": null,
   "metadata": {
    "id": "B8sQny3mZPSf"
   },
   "outputs": [],
   "source": [
    "class EarlyStopper:\n",
    "    def __init__(self, patience=3, min_delta=0.0):\n",
    "        self.patience = patience\n",
    "        self.min_delta = min_delta\n",
    "        self.counter = 0\n",
    "        self.best_loss = float('inf')\n",
    "\n",
    "    def early_stop(self, val_loss):\n",
    "        # Se la loss migliora (di almeno min_delta), resettiamo il counter\n",
    "        if val_loss < self.best_loss - self.min_delta:\n",
    "            self.best_loss = val_loss\n",
    "            self.counter = 0\n",
    "        else:\n",
    "            self.counter += 1\n",
    "            # Se la loss non migliora da 'patience' epoche, dobbiamo fermarci\n",
    "            if self.counter >= self.patience:\n",
    "                return True\n",
    "        return False"
   ]
  },
  {
   "cell_type": "markdown",
   "metadata": {
    "id": "Etc1WebYZlib"
   },
   "source": [
    "### Funzioni per il training e la valutazione\n",
    "\n",
    "- `train_epoch`: esegue un'epoca di addestramento, aggiornando i pesi tramite backpropagation e accumulando la loss media ponderata.\n",
    "\n",
    "- `eval_loss`: calcola la loss media sul set di validazione, senza aggiornare i pesi (modalità evaluation)."
   ]
  },
  {
   "cell_type": "code",
   "execution_count": null,
   "metadata": {
    "id": "ljnxu4EwZrSG"
   },
   "outputs": [],
   "source": [
    "def train_epoch(model, loader, optimizer, criterion):\n",
    "    model.train()\n",
    "    total_loss = 0.0\n",
    "    for Xb, yb in loader:\n",
    "        Xb, yb = Xb.to(device), yb.to(device)\n",
    "        optimizer.zero_grad()\n",
    "        loss = criterion(model(Xb), yb)\n",
    "        loss.backward()\n",
    "        optimizer.step()\n",
    "        total_loss += loss.item() * Xb.size(0)\n",
    "    return total_loss / len(loader.dataset)\n",
    "\n",
    "def eval_loss(model, loader, criterion):\n",
    "    model.eval()\n",
    "    total_loss = 0.0\n",
    "    with torch.no_grad():\n",
    "        for Xb, yb in loader:\n",
    "            Xb, yb = Xb.to(device), yb.to(device)\n",
    "            total_loss += criterion(model(Xb), yb).item() * Xb.size(0)\n",
    "    return total_loss / len(loader.dataset)"
   ]
  },
  {
   "cell_type": "markdown",
   "metadata": {
    "id": "CcnVXcxkzVxm"
   },
   "source": [
    "### Random Search con Cross-Validation temporale e Early Stopping\n",
    "\n",
    "La funzione `random_search` esegue una ricerca casuale di iperparametri sullo spazio definito, valutando ogni configurazione tramite `TimeSeriesSplit` per rispettare la dipendenza temporale dei dati.\n",
    "\n",
    "Per ogni combinazione di iperparametri:\n",
    "\n",
    "- Viene addestrato un modello MLP su ciascun fold del training set;\n",
    "- Viene monitorata la loss di validazione con Early Stopping per fermare l’addestramento se non ci sono miglioramenti;\n",
    "- Alla fine si calcola la media delle loss di validazione su tutti i fold.\n",
    "\n",
    "Il modello con la miglior media di loss viene restituito insieme ai relativi iperparametri."
   ]
  },
  {
   "cell_type": "code",
   "execution_count": null,
   "metadata": {
    "id": "Iumk8NyQzZco"
   },
   "outputs": [],
   "source": [
    "def random_search(model_builder, param_dist, dataset,\n",
    "                  n_iter=10, cv_folds=5,\n",
    "                  early_patience=5,\n",
    "                  early_min_delta=1e-4):\n",
    "    train_keys = ['lr', 'batch_size', 'max_epochs']\n",
    "    best_val_loss = float('inf')\n",
    "    best_model_params, best_train_params = None, None\n",
    "    best_model = None\n",
    "\n",
    "    tscv = TimeSeriesSplit(n_splits=cv_folds)\n",
    "\n",
    "    print(\"Avvio Random Search con Time Series Cross Validation...\")\n",
    "\n",
    "    for param_id, params in enumerate(ParameterSampler(param_dist, n_iter=n_iter, random_state=RANDOM_STATE)):\n",
    "        print(f\"Testing parameter set {param_id+1}/{n_iter}\")\n",
    "\n",
    "        model_params = {k: v for k, v in params.items() if k not in train_keys}\n",
    "        train_params = {k: v for k, v in params.items() if k in train_keys}\n",
    "        val_losses = []\n",
    "\n",
    "        for fold_idx, (train_idx, val_idx) in enumerate(tscv.split(range(len(dataset)))):\n",
    "            print(f\"  Fold {fold_idx+1}/{cv_folds}\")\n",
    "\n",
    "            sub_train = Subset(dataset, train_idx)\n",
    "            val_set = Subset(dataset, val_idx)\n",
    "            train_loader = DataLoader(sub_train, batch_size=train_params['batch_size'], shuffle=True)\n",
    "            val_loader = DataLoader(val_set, batch_size=train_params['batch_size'], shuffle=False)\n",
    "\n",
    "            model = model_builder(**model_params).to(device)\n",
    "            optimizer = optim.Adam(model.parameters(), lr=train_params['lr'])\n",
    "            stopper = EarlyStopper(patience=early_patience, min_delta=early_min_delta)\n",
    "\n",
    "            for epoch in range(train_params['max_epochs']):\n",
    "                train_epoch(model, train_loader, optimizer, nn.MSELoss())\n",
    "                val_loss = eval_loss(model, val_loader, nn.MSELoss())\n",
    "\n",
    "                if epoch % 10 == 0:  # Print every 10 epochs\n",
    "                    print(f\"    Epoch {epoch}: val_loss = {val_loss:.6f}\")\n",
    "\n",
    "                if stopper.early_stop(val_loss):\n",
    "                    print(f\"    Early stopping at epoch {epoch}\")\n",
    "                    break\n",
    "\n",
    "            final_val_loss = eval_loss(model, val_loader, nn.MSELoss())\n",
    "            val_losses.append(final_val_loss)\n",
    "\n",
    "        mean_val = np.mean(val_losses)\n",
    "        print(f\"  Mean validation loss: {mean_val:.6f}\")\n",
    "\n",
    "        if mean_val < best_val_loss:\n",
    "            best_val_loss = mean_val\n",
    "            best_model_params = model_params\n",
    "            best_train_params = train_params\n",
    "            best_model = model\n",
    "            print(f\"  New best validation loss: {best_val_loss:.6f}\")\n",
    "\n",
    "    print(f\"\\nBest validation loss: {best_val_loss:.6f}\")\n",
    "    return best_model, best_model_params, best_train_params"
   ]
  },
  {
   "cell_type": "markdown",
   "metadata": {
    "id": "OVD5006Oza85"
   },
   "source": [
    "### Preparazione dati e spazio di ricerca iperparametri\n",
    "\n",
    "- I dati di training vengono trasformati tramite il preprocessore definito;\n",
    "- Viene creato un dataset PyTorch completo (features + target);\n",
    "- Definiamo gli intervalli di ricerca per gli iperparametri chiave del modello MLP:\n",
    "\n",
    "  - Dimensioni degli hidden layer (`hidden_sizes`);\n",
    "  - Dropout rate (`dropout`);\n",
    "  - Learning rate (`lr`);\n",
    "  - Batch size (`batch_size`);\n",
    "  - Numero massimo di epoche (`max_epochs`)."
   ]
  },
  {
   "cell_type": "code",
   "execution_count": null,
   "metadata": {
    "colab": {
     "base_uri": "https://localhost:8080/"
    },
    "id": "lHuw7xi2zemy",
    "outputId": "62974f08-72fe-4c0a-ab40-80568c4d1451"
   },
   "outputs": [],
   "source": [
    "X_train_processed = preprocessor.transform(X_train)\n",
    "X_test_processed = preprocessor.transform(X_test)\n",
    "\n",
    "X_tensor = torch.tensor(X_train_processed, dtype=torch.float32)\n",
    "y_tensor = torch.tensor(y_train.values, dtype=torch.float32).unsqueeze(1)\n",
    "\n",
    "full_dataset = TensorDataset(X_tensor, y_tensor)\n",
    "\n",
    "input_dim = X_tensor.shape[1]\n",
    "mlp_param_dist = {\n",
    "    'input_dim': [input_dim],\n",
    "    'hidden_sizes': [(32,32), (64,64), (128,)],\n",
    "    'dropout': [0.0, 0.2, 0.5],\n",
    "    'lr': [1e-3, 1e-4],\n",
    "    'batch_size': [32, 64],\n",
    "    'max_epochs': [50, 100]\n",
    "}"
   ]
  },
  {
   "cell_type": "markdown",
   "metadata": {
    "id": "exVLSjhpZ88b"
   },
   "source": [
    "### Avvio della ricerca e valutazione\n",
    "\n",
    "- Eseguiamo la random search passando il costruttore del modello, lo spazio di iperparametri e il dataset;\n",
    "- Una volta ottenuto il miglior modello, valutiamo le sue prestazioni sul test set."
   ]
  },
  {
   "cell_type": "code",
   "execution_count": null,
   "metadata": {
    "id": "WFrI6-zOZ_1h"
   },
   "outputs": [],
   "source": [
    "best_model, model_params, train_params = random_search(\n",
    "    lambda **p: MLP(**p), mlp_param_dist, full_dataset\n",
    ")\n",
    "\n",
    "X_test_tensor = torch.tensor(X_test_processed, dtype=torch.float32).to(device)\n",
    "y_test_tensor = torch.tensor(y_test.values, dtype=torch.float32).unsqueeze(1).to(device)\n",
    "\n",
    "get_torch_estimator_scores(\"MLP\", best_model,\n",
    "                           X_tensor.to(device), y_tensor.to(device),\n",
    "                           X_test_tensor, y_test_tensor,\n",
    "                           device)"
   ]
  },
  {
   "cell_type": "markdown",
   "metadata": {
    "id": "5uIugxCaMC9R"
   },
   "source": [
    "# Confronto Visivo delle Prestazioni dei Modelli\n",
    "\n",
    "La funzione `plot_estimator_scores(scores)` consente di visualizzare in modo sintetico ed intuitivo le metriche di valutazione di tutti i modelli allenati. I grafici generati permettono un confronto diretto tra le prestazioni su diverse metriche chiave:\n",
    "\n",
    "- **R² Score**: confronta le prestazioni sul training set e sul test set per identificare possibili fenomeni di overfitting.\n",
    "- **MSE (Mean Squared Error)**: evidenzia la media degli errori quadratici di previsione; penalizza fortemente gli outlier elevando al quadrato ogni errore.\n",
    "- **MAE (Mean Absolute Error)**: mostra la media dell’errore assoluto commesso da ciascun modello.\n",
    "- **MAPE (Mean Absolute Percentage Error)**: fornisce un’indicazione dell’errore medio in termini percentuali rispetto ai valori reali.\n",
    "- **Max Error**: evidenzia il peggior errore assoluto commesso su un’osservazione.\n",
    "- **Intervalli di Confidenza (CI95%)**: per le metriche **MSE**, **MAE** e **MAPE** viene stimato un intervallo di confidenza al 95% tramite bootstrap resampling, al fine di rappresentare l'incertezza statistica associata a ciascuna metrica.\n",
    "\n",
    "Questa visualizzazione finale è utile per trarre conclusioni sulla bontà predittiva di ciascun modello e guidare la scelta del miglior approccio da adottare."
   ]
  },
  {
   "cell_type": "code",
   "execution_count": null,
   "metadata": {
    "id": "5vxh_8pW9qkC"
   },
   "outputs": [],
   "source": [
    "def plot_estimator_scores(scores):\n",
    "    melted_r2_adj = (\n",
    "        scores[['model', 'r2_train_adj', 'r2_test_adj']]\n",
    "        .rename(columns={'r2_train_adj':'train','r2_test_adj':'test'})\n",
    "        .melt(id_vars='model', var_name='set', value_name='score')\n",
    "    )\n",
    "\n",
    "    fig, axs = plt.subplots(2, 3, figsize=(18, 10))\n",
    "    fig.tight_layout(pad=4)\n",
    "\n",
    "    axs[0, 0].set_title('R² Aggiustato')\n",
    "    sns.barplot(data=melted_r2_adj, x='score', y='model', hue='set', ax=axs[0, 0])\n",
    "    axs[0, 0].legend(loc='lower right')\n",
    "\n",
    "    axs[0, 1].set_title('MSE ± CI95%')\n",
    "    for _, row in scores.iterrows():\n",
    "        axs[0, 1].barh(\n",
    "            row['model'], row['mse'],\n",
    "            xerr=[[row['mse']-row['mse_low']], [row['mse_high']-row['mse']]],\n",
    "            capsize=5\n",
    "        )\n",
    "    axs[0, 1].invert_yaxis()\n",
    "\n",
    "    axs[0, 2].set_title('MAE ± CI95%')\n",
    "    for _, row in scores.iterrows():\n",
    "        axs[0, 2].barh(\n",
    "            row['model'], row['mae'],\n",
    "            xerr=[[row['mae']-row['mae_low']], [row['mae_high']-row['mae']]],\n",
    "            capsize=5\n",
    "        )\n",
    "    axs[0, 2].invert_yaxis()\n",
    "\n",
    "    axs[1, 0].set_title('MAPE ± CI95%')\n",
    "    for _, row in scores.iterrows():\n",
    "        axs[1, 0].barh(\n",
    "            row['model'], row['mape'],\n",
    "            xerr=[[row['mape']-row['mape_low']], [row['mape_high']-row['mape']]],\n",
    "            capsize=5\n",
    "        )\n",
    "    axs[1, 0].invert_yaxis()\n",
    "\n",
    "    axs[1, 1].set_title('Max Error')\n",
    "    for _, row in scores.iterrows():\n",
    "        axs[1, 1].barh(row['model'], row['max_error'])\n",
    "    axs[1, 1].invert_yaxis()\n",
    "\n",
    "    axs[1, 2].axis('off')\n",
    "\n",
    "    plt.show()"
   ]
  },
  {
   "cell_type": "code",
   "execution_count": null,
   "metadata": {
    "id": "RTHU3LQ49qkD"
   },
   "outputs": [],
   "source": [
    "estimator_scores_df = pd.DataFrame(\n",
    "    all_scores,\n",
    "    columns = [\n",
    "        'model',\n",
    "        'r2_train_adj', 'r2_test_adj',\n",
    "        'mse', 'mse_low', 'mse_high',\n",
    "        'mae', 'mae_low', 'mae_high',\n",
    "        'mape', 'mape_low', 'mape_high',\n",
    "        'max_error'\n",
    "    ]\n",
    ")\n",
    "plot_estimator_scores(estimator_scores_df)"
   ]
  },
  {
   "cell_type": "markdown",
   "metadata": {
    "id": "EvcGaDcg8Q8R"
   },
   "source": [
    "# Selezione del Miglior Modello\n",
    "Calcoliamo un punteggio complessivo per ciascun modello basandoci sulle metriche di valutazione."
   ]
  },
  {
   "cell_type": "code",
   "execution_count": null,
   "metadata": {
    "id": "B0DEhNMS8M8S"
   },
   "outputs": [],
   "source": [
    "# 1) Scegliamo le metriche da includere nel ranking:\n",
    "metrics = {\n",
    "    'r2_test_adj': 'max',\n",
    "    'mse': 'min',\n",
    "    'mae': 'min',\n",
    "    'mape': 'min',\n",
    "    'max_error': 'min'\n",
    "}\n",
    "\n",
    "# 2) Costruzione DataFrame dei rank\n",
    "df = estimator_scores_df.set_index('model')\n",
    "ranks = pd.DataFrame(index=df.index)\n",
    "for metric, direction in metrics.items():\n",
    "    ranks[f\"{metric}_rank\"] = df[metric].rank(ascending=(direction=='min'))\n",
    "\n",
    "# 3) Calcolo punteggio complessivo: somma dei rank normalizzati\n",
    "ranks['total_rank'] = ranks.sum(axis=1)\n",
    "\n",
    "# 4) Selezione del miglior modello\n",
    "best_model = ranks['total_rank'].idxmin()\n",
    "best_score = ranks['total_rank'].min()\n",
    "\n",
    "# Output dei risultati\n",
    "print(\"Ranking modelli:\")\n",
    "ranks.sort_values('total_rank')"
   ]
  },
  {
   "cell_type": "code",
   "execution_count": null,
   "metadata": {
    "id": "pSsco95rEHWn"
   },
   "outputs": [],
   "source": [
    "print(f\"\\nMiglior modello: {best_model} (punteggio complessivo = {best_score})\")"
   ]
  },
  {
   "cell_type": "code",
   "execution_count": null,
   "metadata": {},
   "outputs": [],
   "source": []
  }
 ],
 "metadata": {
  "accelerator": "GPU",
  "colab": {
   "collapsed_sections": [
    "vnXzcSTc2Z4u",
    "GveBLWbLlViq",
    "H_bIhHTRKAzQ",
    "xOMRnqcslVir",
    "YP2p8Z1ClVit",
    "tCa0HV05lVix",
    "CBNwKTBslViy",
    "Mcl2wO-FlVi0",
    "7CqjLtbdlVi0",
    "aXwTWsC2lVi3",
    "GGubqzrxlVi3",
    "OSqJT3J-lVi4",
    "VFj50pJolVi4",
    "EOaI0YJZlVi4",
    "p4RNo3BclVi5",
    "bcj4BGSPlVi6",
    "sELWDyRclVi6",
    "rfO7GcablVi7",
    "sM7vW1UglVi8",
    "fY3JUaW7lVi9",
    "7xPxYN70lVi_",
    "uapeT7xKlVjA",
    "xlwH7ptOzQwq",
    "W1Ljjq9rZJZo",
    "Etc1WebYZlib",
    "CcnVXcxkzVxm",
    "OVD5006Oza85",
    "exVLSjhpZ88b",
    "5uIugxCaMC9R",
    "EvcGaDcg8Q8R"
   ],
   "gpuType": "T4",
   "provenance": []
  },
  "kernelspec": {
   "display_name": "Python 3 (ipykernel)",
   "language": "python",
   "name": "python3"
  },
  "language_info": {
   "codemirror_mode": {
    "name": "ipython",
    "version": 3
   },
   "file_extension": ".py",
   "mimetype": "text/x-python",
   "name": "python",
   "nbconvert_exporter": "python",
   "pygments_lexer": "ipython3",
   "version": "3.12.7"
  }
 },
 "nbformat": 4,
 "nbformat_minor": 4
}
