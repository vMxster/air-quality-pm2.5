{
 "cells": [
  {
   "cell_type": "markdown",
   "metadata": {
    "id": "mvVxxvpq2pGF"
   },
   "source": [
    "# Previsione della Qualità dell'Aria - **Allenamento e Valutazione dei Modelli Cina**"
   ]
  },
  {
   "cell_type": "markdown",
   "metadata": {
    "id": "gm3Q39LW2Z4t"
   },
   "source": [
    "**Progetto di Data Intensive**  \n",
    "**Autore:** Martin Tomassi, Jacopo Vasi  \n",
    "**Email:** martin.tomassi@studio.unibo.it , jacopo.vasi@studio.unibo.it  \n",
    "**Corso:** Data Intensive, Università di Bologna  \n",
    "**Data:** Aprile 2025"
   ]
  },
  {
   "cell_type": "markdown",
   "metadata": {
    "id": "vnXzcSTc2Z4u"
   },
   "source": [
    "## Caricamento dei Datasets ed Import Librerie\n",
    "\n"
   ]
  },
  {
   "cell_type": "code",
   "execution_count": 1,
   "metadata": {
    "colab": {
     "base_uri": "https://localhost:8080/"
    },
    "id": "Ts2wiQjcg4BV",
    "outputId": "e4af4ff2-1983-4db7-c62a-d5326a8b0365"
   },
   "outputs": [
    {
     "name": "stdout",
     "output_type": "stream",
     "text": [
      "Requirement already satisfied: xgboost in c:\\users\\jacop\\anaconda3\\lib\\site-packages (3.0.1)\n",
      "Requirement already satisfied: numpy in c:\\users\\jacop\\anaconda3\\lib\\site-packages (from xgboost) (1.26.4)\n",
      "Requirement already satisfied: scipy in c:\\users\\jacop\\anaconda3\\lib\\site-packages (from xgboost) (1.13.1)\n",
      "Note: you may need to restart the kernel to use updated packages.\n"
     ]
    }
   ],
   "source": [
    "import numpy as np\n",
    "import pandas as pd\n",
    "import matplotlib.pyplot as plt\n",
    "import seaborn as sns\n",
    "sns.set_theme()\n",
    "\n",
    "try:\n",
    "    import google.colab\n",
    "    running_in_colab = True\n",
    "except ImportError:\n",
    "    running_in_colab = False\n",
    "\n",
    "from sklearn.ensemble import RandomForestRegressor\n",
    "from sklearn.metrics import (\n",
    "    r2_score,\n",
    "    mean_squared_error,\n",
    "    mean_absolute_error,\n",
    "    mean_absolute_percentage_error,\n",
    "    max_error\n",
    ")\n",
    "from sklearn.model_selection import (\n",
    "    TimeSeriesSplit,\n",
    "    GridSearchCV,\n",
    "    RandomizedSearchCV,\n",
    "    ParameterSampler\n",
    ")\n",
    "from sklearn.linear_model import (\n",
    "    LinearRegression,\n",
    "    Lasso,\n",
    "    Ridge,\n",
    "    ElasticNet\n",
    ")\n",
    "\n",
    "from sklearn.compose import ColumnTransformer\n",
    "from sklearn.preprocessing import StandardScaler, PolynomialFeatures, OneHotEncoder\n",
    "from sklearn.pipeline import Pipeline\n",
    "from sklearn.kernel_ridge import KernelRidge\n",
    "from sklearn.tree import DecisionTreeRegressor\n",
    "\n",
    "import torch\n",
    "import torch.nn as nn\n",
    "import torch.optim as optim\n",
    "from torch.utils.data import TensorDataset, DataLoader, Subset\n",
    "\n",
    "%pip install xgboost\n",
    "from xgboost import XGBRegressor\n",
    "\n",
    "N_JOBS = -1\n",
    "RANDOM_STATE = 42"
   ]
  },
  {
   "cell_type": "code",
   "execution_count": 2,
   "metadata": {
    "colab": {
     "base_uri": "https://localhost:8080/"
    },
    "id": "B-1nc39QrJSv",
    "outputId": "48d9b6d9-a430-4c76-cb60-1f351a878038"
   },
   "outputs": [
    {
     "data": {
      "text/html": [
       "<div>\n",
       "<style scoped>\n",
       "    .dataframe tbody tr th:only-of-type {\n",
       "        vertical-align: middle;\n",
       "    }\n",
       "\n",
       "    .dataframe tbody tr th {\n",
       "        vertical-align: top;\n",
       "    }\n",
       "\n",
       "    .dataframe thead th {\n",
       "        text-align: right;\n",
       "    }\n",
       "</style>\n",
       "<table border=\"1\" class=\"dataframe\">\n",
       "  <thead>\n",
       "    <tr style=\"text-align: right;\">\n",
       "      <th></th>\n",
       "      <th>year</th>\n",
       "      <th>month</th>\n",
       "      <th>dayofmonth</th>\n",
       "      <th>state</th>\n",
       "      <th>PM2.5</th>\n",
       "      <th>CO</th>\n",
       "      <th>O3</th>\n",
       "      <th>PM10</th>\n",
       "      <th>SO2</th>\n",
       "      <th>NO2</th>\n",
       "      <th>...</th>\n",
       "      <th>pm10_lag_2D</th>\n",
       "      <th>so2_lag_2D</th>\n",
       "      <th>no2_lag_2D</th>\n",
       "      <th>pm_lag_3D</th>\n",
       "      <th>co_lag_3D</th>\n",
       "      <th>o3_lag_3D</th>\n",
       "      <th>pm10_lag_3D</th>\n",
       "      <th>so2_lag_3D</th>\n",
       "      <th>no2_lag_3D</th>\n",
       "      <th>Class</th>\n",
       "    </tr>\n",
       "  </thead>\n",
       "  <tbody>\n",
       "    <tr>\n",
       "      <th>0</th>\n",
       "      <td>2014</td>\n",
       "      <td>1</td>\n",
       "      <td>1</td>\n",
       "      <td>Wanshouxigong</td>\n",
       "      <td>70.541667</td>\n",
       "      <td>2650.000000</td>\n",
       "      <td>11.416667</td>\n",
       "      <td>161.958333</td>\n",
       "      <td>44.250000</td>\n",
       "      <td>79.666667</td>\n",
       "      <td>...</td>\n",
       "      <td>75.375000</td>\n",
       "      <td>26.250000</td>\n",
       "      <td>51.416667</td>\n",
       "      <td>79.541667</td>\n",
       "      <td>2537.500000</td>\n",
       "      <td>8.250000</td>\n",
       "      <td>121.416667</td>\n",
       "      <td>65.291667</td>\n",
       "      <td>85.958333</td>\n",
       "      <td>4</td>\n",
       "    </tr>\n",
       "    <tr>\n",
       "      <th>1</th>\n",
       "      <td>2014</td>\n",
       "      <td>1</td>\n",
       "      <td>1</td>\n",
       "      <td>Guanyuan</td>\n",
       "      <td>48.750000</td>\n",
       "      <td>1354.166667</td>\n",
       "      <td>17.750000</td>\n",
       "      <td>121.583333</td>\n",
       "      <td>29.250000</td>\n",
       "      <td>74.166667</td>\n",
       "      <td>...</td>\n",
       "      <td>103.041667</td>\n",
       "      <td>22.208333</td>\n",
       "      <td>63.666667</td>\n",
       "      <td>64.916667</td>\n",
       "      <td>1791.666667</td>\n",
       "      <td>6.291667</td>\n",
       "      <td>89.958333</td>\n",
       "      <td>64.500000</td>\n",
       "      <td>92.375000</td>\n",
       "      <td>3</td>\n",
       "    </tr>\n",
       "    <tr>\n",
       "      <th>2</th>\n",
       "      <td>2014</td>\n",
       "      <td>1</td>\n",
       "      <td>1</td>\n",
       "      <td>Shunyi</td>\n",
       "      <td>35.541667</td>\n",
       "      <td>766.666667</td>\n",
       "      <td>30.500000</td>\n",
       "      <td>106.291667</td>\n",
       "      <td>23.458333</td>\n",
       "      <td>48.208333</td>\n",
       "      <td>...</td>\n",
       "      <td>109.083333</td>\n",
       "      <td>47.458333</td>\n",
       "      <td>68.625000</td>\n",
       "      <td>58.333333</td>\n",
       "      <td>1441.666667</td>\n",
       "      <td>10.924992</td>\n",
       "      <td>88.833333</td>\n",
       "      <td>41.833333</td>\n",
       "      <td>76.250000</td>\n",
       "      <td>3</td>\n",
       "    </tr>\n",
       "    <tr>\n",
       "      <th>3</th>\n",
       "      <td>2014</td>\n",
       "      <td>1</td>\n",
       "      <td>1</td>\n",
       "      <td>Changping</td>\n",
       "      <td>38.541667</td>\n",
       "      <td>704.166667</td>\n",
       "      <td>42.791667</td>\n",
       "      <td>95.375000</td>\n",
       "      <td>29.458333</td>\n",
       "      <td>35.375000</td>\n",
       "      <td>...</td>\n",
       "      <td>97.541667</td>\n",
       "      <td>41.875000</td>\n",
       "      <td>45.208333</td>\n",
       "      <td>36.666667</td>\n",
       "      <td>650.000000</td>\n",
       "      <td>32.458333</td>\n",
       "      <td>67.083333</td>\n",
       "      <td>44.666667</td>\n",
       "      <td>44.666667</td>\n",
       "      <td>3</td>\n",
       "    </tr>\n",
       "    <tr>\n",
       "      <th>4</th>\n",
       "      <td>2014</td>\n",
       "      <td>1</td>\n",
       "      <td>1</td>\n",
       "      <td>Gucheng</td>\n",
       "      <td>47.916667</td>\n",
       "      <td>1750.000000</td>\n",
       "      <td>34.083333</td>\n",
       "      <td>109.625000</td>\n",
       "      <td>32.666667</td>\n",
       "      <td>67.250000</td>\n",
       "      <td>...</td>\n",
       "      <td>93.958333</td>\n",
       "      <td>31.625000</td>\n",
       "      <td>48.750000</td>\n",
       "      <td>67.750000</td>\n",
       "      <td>2041.666667</td>\n",
       "      <td>25.625000</td>\n",
       "      <td>94.833333</td>\n",
       "      <td>55.000000</td>\n",
       "      <td>87.041667</td>\n",
       "      <td>3</td>\n",
       "    </tr>\n",
       "  </tbody>\n",
       "</table>\n",
       "<p>5 rows × 56 columns</p>\n",
       "</div>"
      ],
      "text/plain": [
       "   year  month  dayofmonth          state      PM2.5           CO         O3  \\\n",
       "0  2014      1           1  Wanshouxigong  70.541667  2650.000000  11.416667   \n",
       "1  2014      1           1       Guanyuan  48.750000  1354.166667  17.750000   \n",
       "2  2014      1           1         Shunyi  35.541667   766.666667  30.500000   \n",
       "3  2014      1           1      Changping  38.541667   704.166667  42.791667   \n",
       "4  2014      1           1        Gucheng  47.916667  1750.000000  34.083333   \n",
       "\n",
       "         PM10        SO2        NO2  ...  pm10_lag_2D  so2_lag_2D  no2_lag_2D  \\\n",
       "0  161.958333  44.250000  79.666667  ...    75.375000   26.250000   51.416667   \n",
       "1  121.583333  29.250000  74.166667  ...   103.041667   22.208333   63.666667   \n",
       "2  106.291667  23.458333  48.208333  ...   109.083333   47.458333   68.625000   \n",
       "3   95.375000  29.458333  35.375000  ...    97.541667   41.875000   45.208333   \n",
       "4  109.625000  32.666667  67.250000  ...    93.958333   31.625000   48.750000   \n",
       "\n",
       "   pm_lag_3D    co_lag_3D  o3_lag_3D  pm10_lag_3D  so2_lag_3D  no2_lag_3D  \\\n",
       "0  79.541667  2537.500000   8.250000   121.416667   65.291667   85.958333   \n",
       "1  64.916667  1791.666667   6.291667    89.958333   64.500000   92.375000   \n",
       "2  58.333333  1441.666667  10.924992    88.833333   41.833333   76.250000   \n",
       "3  36.666667   650.000000  32.458333    67.083333   44.666667   44.666667   \n",
       "4  67.750000  2041.666667  25.625000    94.833333   55.000000   87.041667   \n",
       "\n",
       "   Class  \n",
       "0      4  \n",
       "1      3  \n",
       "2      3  \n",
       "3      3  \n",
       "4      3  \n",
       "\n",
       "[5 rows x 56 columns]"
      ]
     },
     "execution_count": 2,
     "metadata": {},
     "output_type": "execute_result"
    }
   ],
   "source": [
    "df = pd.read_csv('original_china_dataset.csv',\n",
    "                 sep=',',\n",
    "                 quotechar='\"',\n",
    "                 dtype=None,\n",
    "                 parse_dates=True,\n",
    "                 low_memory=False)\n",
    "obj_cols = df.select_dtypes(include=\"object\").columns\n",
    "for col in obj_cols:\n",
    "    df[col] = df[col].astype(\"string\")\n",
    "df.drop('date', axis=1, inplace=True)\n",
    "df = df[(df['year'] >= 2014) & (df['year'] <= 2017)]\n",
    "df = df.reset_index(drop=True)\n",
    "df.head()"
   ]
  },
  {
   "cell_type": "code",
   "execution_count": 3,
   "metadata": {
    "colab": {
     "base_uri": "https://localhost:8080/"
    },
    "id": "j5J-7bPorgC5",
    "outputId": "ff7d001e-4f62-497a-b21e-be7e26b0ff7f"
   },
   "outputs": [
    {
     "name": "stdout",
     "output_type": "stream",
     "text": [
      "<class 'pandas.core.frame.DataFrame'>\n",
      "RangeIndex: 13852 entries, 0 to 13851\n",
      "Data columns (total 56 columns):\n",
      " #   Column       Non-Null Count  Dtype  \n",
      "---  ------       --------------  -----  \n",
      " 0   year         13852 non-null  int64  \n",
      " 1   month        13852 non-null  int64  \n",
      " 2   dayofmonth   13852 non-null  int64  \n",
      " 3   state        13852 non-null  string \n",
      " 4   PM2.5        13852 non-null  float64\n",
      " 5   CO           13852 non-null  float64\n",
      " 6   O3           13852 non-null  float64\n",
      " 7   PM10         13852 non-null  float64\n",
      " 8   SO2          13852 non-null  float64\n",
      " 9   NO2          13852 non-null  float64\n",
      " 10  TEMP         13852 non-null  float64\n",
      " 11  PRES         13852 non-null  float64\n",
      " 12  DEWP         13852 non-null  float64\n",
      " 13  RAIN         13852 non-null  float64\n",
      " 14  WSPM         13852 non-null  float64\n",
      " 15  dayofweek    13852 non-null  int64  \n",
      " 16  quarter      13852 non-null  int64  \n",
      " 17  weekofyear   13852 non-null  int64  \n",
      " 18  dayofyear    13852 non-null  int64  \n",
      " 19  pm_lag_1Y    13144 non-null  float64\n",
      " 20  co_lag_1Y    13144 non-null  float64\n",
      " 21  o3_lag_1Y    13144 non-null  float64\n",
      " 22  pm10_lag_1Y  13144 non-null  float64\n",
      " 23  so2_lag_1Y   13144 non-null  float64\n",
      " 24  no2_lag_1Y   13144 non-null  float64\n",
      " 25  pm_lag_1M    13852 non-null  float64\n",
      " 26  co_lag_1M    13852 non-null  float64\n",
      " 27  o3_lag_1M    13852 non-null  float64\n",
      " 28  pm10_lag_1M  13852 non-null  float64\n",
      " 29  so2_lag_1M   13852 non-null  float64\n",
      " 30  no2_lag_1M   13852 non-null  float64\n",
      " 31  pm_lag_1W    13852 non-null  float64\n",
      " 32  co_lag_1W    13852 non-null  float64\n",
      " 33  o3_lag_1W    13852 non-null  float64\n",
      " 34  pm10_lag_1W  13852 non-null  float64\n",
      " 35  so2_lag_1W   13852 non-null  float64\n",
      " 36  no2_lag_1W   13852 non-null  float64\n",
      " 37  pm_lag_1D    13852 non-null  float64\n",
      " 38  co_lag_1D    13852 non-null  float64\n",
      " 39  o3_lag_1D    13852 non-null  float64\n",
      " 40  pm10_lag_1D  13852 non-null  float64\n",
      " 41  so2_lag_1D   13852 non-null  float64\n",
      " 42  no2_lag_1D   13852 non-null  float64\n",
      " 43  pm_lag_2D    13852 non-null  float64\n",
      " 44  co_lag_2D    13852 non-null  float64\n",
      " 45  o3_lag_2D    13852 non-null  float64\n",
      " 46  pm10_lag_2D  13852 non-null  float64\n",
      " 47  so2_lag_2D   13852 non-null  float64\n",
      " 48  no2_lag_2D   13852 non-null  float64\n",
      " 49  pm_lag_3D    13852 non-null  float64\n",
      " 50  co_lag_3D    13852 non-null  float64\n",
      " 51  o3_lag_3D    13852 non-null  float64\n",
      " 52  pm10_lag_3D  13852 non-null  float64\n",
      " 53  so2_lag_3D   13852 non-null  float64\n",
      " 54  no2_lag_3D   13852 non-null  float64\n",
      " 55  Class        13852 non-null  int64  \n",
      "dtypes: float64(47), int64(8), string(1)\n",
      "memory usage: 5.9 MB\n"
     ]
    }
   ],
   "source": [
    "df.info()"
   ]
  },
  {
   "cell_type": "markdown",
   "metadata": {
    "id": "pcIEc735lViq",
    "tags": []
   },
   "source": [
    "# Addestramento modelli\n",
    "A seguito dell'esplorazione e dell'omogeneizzazione dei due dataset, si può procedere all'addestramento dei modelli. I modelli verranno addestrati sulle seguenti feature indipendenti:\n",
    "- `year`: anno della misurazione\n",
    "- `month`: mese dell’anno\n",
    "- `dayofmonth`: giorno del mese\n",
    "- `dayofweek`: giorno della settimana\n",
    "- `dayofyear`: giorno dell’anno\n",
    "- `weekofyear`: settimana dell’anno\n",
    "- `quarter`: trimestre dell’anno\n",
    "- `state`: stato di misurazione\n",
    "- `pm_lag_1W`: PM2.5 ritardato di 1 settimana\n",
    "- `pm_lag_1M`: PM2.5 ritardato di 1 mese\n",
    "- `pm_lag_1Y`: PM2.5 ritardato di 1 anno\n",
    "- `pm_lag_1D`: PM2.5 ritardato di 1 giorno\n",
    "- `pm_lag_2D`: PM2.5 ritardato di 2 giorni\n",
    "- `pm_lag_3D`: PM2.5 ritardato di 3 giorni\n",
    "- `co_lag_1W`: CO ritardato di 1 settimana\n",
    "- `co_lag_1M`: CO ritardato di 1 mese\n",
    "- `co_lag_1Y`: CO ritardato di 1 anno\n",
    "- `co_lag_1D`: CO ritardato di 1 giorno\n",
    "- `co_lag_2D`: CO ritardato di 2 giorni\n",
    "- `co_lag_3D`: CO ritardato di 1 anno\n",
    "- `o3_lag_1W`: O3 ritardato di 1 settimana\n",
    "- `o3_lag_1M`: O3 ritardato di 1 mese\n",
    "- `o3_lag_1Y`: O3 ritardato di 1 anno\n",
    "- `o3_lag_1D`: O3 ritardato di 1 giorno\n",
    "- `o3_lag_2D`: O3 ritardato di 2 giorni\n",
    "- `o3_lag_3D`: O3 ritardato di 3 giorni\n",
    "- `so2_lag_1W`: SO2 ritardato di 1 settimana\n",
    "- `so2_lag_1M`: SO2 ritardato di 1 mese\n",
    "- `so2_lag_1Y`: SO2 ritardato di 1 anno\n",
    "- `so2_lag_1D`: SO2 ritardato di 1 giorno\n",
    "- `so2_lag_2D`: SO2 ritardato di 2 giorni\n",
    "- `so2_lag_3D`: SO2 ritardato di 3 giorni\n",
    "- `no2_lag_1W`: NO2 ritardato di 1 settimana\n",
    "- `no2_lag_1M`: NO2 ritardato di 1 mese\n",
    "- `no2_lag_1Y`: NO2 ritardato di 1 anno\n",
    "- `no2_lag_1D`: NO2 ritardato di 1 giorno\n",
    "- `no2_lag_2D`: NO2 ritardato di 2 giorni\n",
    "- `no2_lag_3D`: NO2 ritardato di 3 giorni\n",
    "- `pm10_lag_1W`: PM10 ritardato di 1 settimana\n",
    "- `pm10_lag_1M`: PM10 ritardato di 1 mese\n",
    "- `pm10_lag_1Y`: PM10 ritardato di 1 anno\n",
    "- `pm10_lag_1D`: PM10 ritardato di 1 giorno\n",
    "- `pm10_lag_2D`: PM10 ritardato di 2 giorni\n",
    "- `pm10_lag_3D`: PM10 ritardato di 3 giorni"
   ]
  },
  {
   "cell_type": "markdown",
   "metadata": {
    "id": "KwC-dywTlViq"
   },
   "source": [
    "La variabile dipendente target dell'addestramento è `PM2.5`, che indica la concentrazione di particelle inquinanti nell'aria con un diametro inferiore a 2,5 micron (μm)."
   ]
  },
  {
   "cell_type": "markdown",
   "metadata": {
    "id": "GveBLWbLlViq"
   },
   "source": [
    "## Preparazione Dataset\n",
    "Per garantire un confronto equo tra tutti i modelli, alcuni dei quali non supportano i valori mancanti generati dalle lag features, elimineremo tutte le righe che li contengono. Va però tenuto presente che così facendo perdiamo un anno di dati storici. Modelli come XGBoost di scikit-learn sono in grado di gestire internamente i missing value e potrebbero beneficiarne; tuttavia, per mantenere omogenee le condizioni di allenamento, applichiamo il drop completo dei NaN."
   ]
  },
  {
   "cell_type": "code",
   "execution_count": 4,
   "metadata": {
    "id": "2u4WO1bmlViq"
   },
   "outputs": [],
   "source": [
    "target = 'Class'\n",
    "lag_features = ['pm_lag_1Y', 'pm_lag_1M', 'pm_lag_1W','co_lag_1Y',  'co_lag_1M', 'co_lag_1W','o3_lag_1Y', 'o3_lag_1M', 'o3_lag_1W','pm10_lag_1Y','so2_lag_1Y','no2_lag_1Y','pm10_lag_1M','so2_lag_1M','no2_lag_1M','pm10_lag_1W','so2_lag_1W','no2_lag_1W','pm_lag_1D','co_lag_1D','o3_lag_1D','pm10_lag_1D','so2_lag_1D','no2_lag_1D','pm_lag_2D','co_lag_2D','o3_lag_2D','pm10_lag_2D','so2_lag_2D','no2_lag_2D','pm_lag_3D','co_lag_3D','o3_lag_3D','pm10_lag_3D','so2_lag_3D','no2_lag_3D']\n",
    "date_features = ['dayofmonth', 'dayofweek', 'dayofyear', 'weekofyear', 'month', 'quarter', 'year', 'state']\n",
    "predictors = date_features + lag_features"
   ]
  },
  {
   "cell_type": "code",
   "execution_count": 5,
   "metadata": {
    "id": "efbb3yDvuaDc"
   },
   "outputs": [],
   "source": [
    "def create_train_test_sets(dataframe, split, replace_na=False, method='none'):\n",
    "    dataframe = dataframe.copy()\n",
    "\n",
    "    if replace_na and method == 'zeros':\n",
    "      dataframe = dataframe.fillna(0)\n",
    "    elif replace_na and method == 'drop':\n",
    "      dataframe = dataframe.dropna(how='any')\n",
    "\n",
    "    train_set, test_set = np.split(dataframe, [int(len(dataframe) * split)])\n",
    "    return train_set[predictors], test_set[predictors], train_set[target], test_set[target]"
   ]
  },
  {
   "cell_type": "code",
   "execution_count": 6,
   "metadata": {
    "colab": {
     "base_uri": "https://localhost:8080/"
    },
    "id": "5_dgAHmhuh2i",
    "outputId": "c83ce88a-da40-4c32-fae7-e1efd89504fe"
   },
   "outputs": [
    {
     "name": "stderr",
     "output_type": "stream",
     "text": [
      "C:\\Users\\jacop\\anaconda3\\Lib\\site-packages\\numpy\\core\\fromnumeric.py:59: FutureWarning: 'DataFrame.swapaxes' is deprecated and will be removed in a future version. Please use 'DataFrame.transpose' instead.\n",
      "  return bound(*args, **kwds)\n"
     ]
    }
   ],
   "source": [
    "X_train, X_test, y_train, y_test = create_train_test_sets(\n",
    "    df,\n",
    "    split=0.8,\n",
    "    replace_na=True,\n",
    "    method='drop'\n",
    ")\n",
    "\n",
    "# Resetta gli indici dei risultati eliminando l’indice precedente,\n",
    "# in modo da partire da zero ed avere indici continui\n",
    "X_train = X_train.reset_index(drop=True)\n",
    "X_test = X_test.reset_index(drop=True)\n",
    "y_train = y_train.reset_index(drop=True)\n",
    "y_test = y_test.reset_index(drop=True)"
   ]
  },
  {
   "cell_type": "code",
   "execution_count": 7,
   "metadata": {
    "colab": {
     "base_uri": "https://localhost:8080/"
    },
    "id": "3Mz9jup_67xf",
    "outputId": "03a28e33-6573-4da7-9818-042213602e33"
   },
   "outputs": [
    {
     "name": "stdout",
     "output_type": "stream",
     "text": [
      "<class 'pandas.core.frame.DataFrame'>\n",
      "RangeIndex: 10515 entries, 0 to 10514\n",
      "Data columns (total 44 columns):\n",
      " #   Column       Non-Null Count  Dtype  \n",
      "---  ------       --------------  -----  \n",
      " 0   dayofmonth   10515 non-null  int64  \n",
      " 1   dayofweek    10515 non-null  int64  \n",
      " 2   dayofyear    10515 non-null  int64  \n",
      " 3   weekofyear   10515 non-null  int64  \n",
      " 4   month        10515 non-null  int64  \n",
      " 5   quarter      10515 non-null  int64  \n",
      " 6   year         10515 non-null  int64  \n",
      " 7   state        10515 non-null  string \n",
      " 8   pm_lag_1Y    10515 non-null  float64\n",
      " 9   pm_lag_1M    10515 non-null  float64\n",
      " 10  pm_lag_1W    10515 non-null  float64\n",
      " 11  co_lag_1Y    10515 non-null  float64\n",
      " 12  co_lag_1M    10515 non-null  float64\n",
      " 13  co_lag_1W    10515 non-null  float64\n",
      " 14  o3_lag_1Y    10515 non-null  float64\n",
      " 15  o3_lag_1M    10515 non-null  float64\n",
      " 16  o3_lag_1W    10515 non-null  float64\n",
      " 17  pm10_lag_1Y  10515 non-null  float64\n",
      " 18  so2_lag_1Y   10515 non-null  float64\n",
      " 19  no2_lag_1Y   10515 non-null  float64\n",
      " 20  pm10_lag_1M  10515 non-null  float64\n",
      " 21  so2_lag_1M   10515 non-null  float64\n",
      " 22  no2_lag_1M   10515 non-null  float64\n",
      " 23  pm10_lag_1W  10515 non-null  float64\n",
      " 24  so2_lag_1W   10515 non-null  float64\n",
      " 25  no2_lag_1W   10515 non-null  float64\n",
      " 26  pm_lag_1D    10515 non-null  float64\n",
      " 27  co_lag_1D    10515 non-null  float64\n",
      " 28  o3_lag_1D    10515 non-null  float64\n",
      " 29  pm10_lag_1D  10515 non-null  float64\n",
      " 30  so2_lag_1D   10515 non-null  float64\n",
      " 31  no2_lag_1D   10515 non-null  float64\n",
      " 32  pm_lag_2D    10515 non-null  float64\n",
      " 33  co_lag_2D    10515 non-null  float64\n",
      " 34  o3_lag_2D    10515 non-null  float64\n",
      " 35  pm10_lag_2D  10515 non-null  float64\n",
      " 36  so2_lag_2D   10515 non-null  float64\n",
      " 37  no2_lag_2D   10515 non-null  float64\n",
      " 38  pm_lag_3D    10515 non-null  float64\n",
      " 39  co_lag_3D    10515 non-null  float64\n",
      " 40  o3_lag_3D    10515 non-null  float64\n",
      " 41  pm10_lag_3D  10515 non-null  float64\n",
      " 42  so2_lag_3D   10515 non-null  float64\n",
      " 43  no2_lag_3D   10515 non-null  float64\n",
      "dtypes: float64(36), int64(7), string(1)\n",
      "memory usage: 3.5 MB\n"
     ]
    }
   ],
   "source": [
    "X_train.info()"
   ]
  },
  {
   "cell_type": "code",
   "execution_count": 8,
   "metadata": {
    "colab": {
     "base_uri": "https://localhost:8080/"
    },
    "id": "gl2OvBn56_PE",
    "outputId": "f34a43d7-354f-46a6-a8e7-471328de90b5"
   },
   "outputs": [
    {
     "name": "stdout",
     "output_type": "stream",
     "text": [
      "<class 'pandas.core.frame.DataFrame'>\n",
      "RangeIndex: 2629 entries, 0 to 2628\n",
      "Data columns (total 44 columns):\n",
      " #   Column       Non-Null Count  Dtype  \n",
      "---  ------       --------------  -----  \n",
      " 0   dayofmonth   2629 non-null   int64  \n",
      " 1   dayofweek    2629 non-null   int64  \n",
      " 2   dayofyear    2629 non-null   int64  \n",
      " 3   weekofyear   2629 non-null   int64  \n",
      " 4   month        2629 non-null   int64  \n",
      " 5   quarter      2629 non-null   int64  \n",
      " 6   year         2629 non-null   int64  \n",
      " 7   state        2629 non-null   string \n",
      " 8   pm_lag_1Y    2629 non-null   float64\n",
      " 9   pm_lag_1M    2629 non-null   float64\n",
      " 10  pm_lag_1W    2629 non-null   float64\n",
      " 11  co_lag_1Y    2629 non-null   float64\n",
      " 12  co_lag_1M    2629 non-null   float64\n",
      " 13  co_lag_1W    2629 non-null   float64\n",
      " 14  o3_lag_1Y    2629 non-null   float64\n",
      " 15  o3_lag_1M    2629 non-null   float64\n",
      " 16  o3_lag_1W    2629 non-null   float64\n",
      " 17  pm10_lag_1Y  2629 non-null   float64\n",
      " 18  so2_lag_1Y   2629 non-null   float64\n",
      " 19  no2_lag_1Y   2629 non-null   float64\n",
      " 20  pm10_lag_1M  2629 non-null   float64\n",
      " 21  so2_lag_1M   2629 non-null   float64\n",
      " 22  no2_lag_1M   2629 non-null   float64\n",
      " 23  pm10_lag_1W  2629 non-null   float64\n",
      " 24  so2_lag_1W   2629 non-null   float64\n",
      " 25  no2_lag_1W   2629 non-null   float64\n",
      " 26  pm_lag_1D    2629 non-null   float64\n",
      " 27  co_lag_1D    2629 non-null   float64\n",
      " 28  o3_lag_1D    2629 non-null   float64\n",
      " 29  pm10_lag_1D  2629 non-null   float64\n",
      " 30  so2_lag_1D   2629 non-null   float64\n",
      " 31  no2_lag_1D   2629 non-null   float64\n",
      " 32  pm_lag_2D    2629 non-null   float64\n",
      " 33  co_lag_2D    2629 non-null   float64\n",
      " 34  o3_lag_2D    2629 non-null   float64\n",
      " 35  pm10_lag_2D  2629 non-null   float64\n",
      " 36  so2_lag_2D   2629 non-null   float64\n",
      " 37  no2_lag_2D   2629 non-null   float64\n",
      " 38  pm_lag_3D    2629 non-null   float64\n",
      " 39  co_lag_3D    2629 non-null   float64\n",
      " 40  o3_lag_3D    2629 non-null   float64\n",
      " 41  pm10_lag_3D  2629 non-null   float64\n",
      " 42  so2_lag_3D   2629 non-null   float64\n",
      " 43  no2_lag_3D   2629 non-null   float64\n",
      "dtypes: float64(36), int64(7), string(1)\n",
      "memory usage: 903.8 KB\n"
     ]
    }
   ],
   "source": [
    "X_test.info()"
   ]
  },
  {
   "cell_type": "markdown",
   "metadata": {
    "id": "wqBCT7crrf9A"
   },
   "source": [
    "Nel dataset ci sono sia feature numeriche che categoriche. <br>\n",
    "Per le numeriche è necessario applicare una normalizzazione dei dati, i quali avrebbero altrimenti valori su scale molto diverse che renderebbero più difficile la convergenza del modello. <br>\n",
    "Per poter utilizzare le variabili categoriche nell'addestramento di un modello di regressione si usa un OneHotEncoder, creando nuove colonne binarie per ciascuno dei valori ammissibili dalla variabile categorica."
   ]
  },
  {
   "cell_type": "code",
   "execution_count": 9,
   "metadata": {
    "id": "YcK3Ma4545-a"
   },
   "outputs": [],
   "source": [
    "categorical_features = X_train.select_dtypes(include=[\"string\"]).columns.tolist()\n",
    "numerical_features   = [c for c in X_train.columns if c not in categorical_features]\n",
    "\n",
    "preprocessor = ColumnTransformer([\n",
    "    # Standardizza tutte le colonne numeriche\n",
    "    (\"numeric\",    StandardScaler(),    numerical_features),\n",
    "    # One‑hot encoding di 'state', ignorando nuovi stati in predict\n",
    "    (\"categorical\", OneHotEncoder(handle_unknown=\"ignore\"), categorical_features),\n",
    "])"
   ]
  },
  {
   "cell_type": "markdown",
   "metadata": {
    "id": "axPc4fYaKiDT"
   },
   "source": [
    "Inizializzazione della lista per raccogliere le metriche dopo ogni training"
   ]
  },
  {
   "cell_type": "code",
   "execution_count": 10,
   "metadata": {
    "id": "6LfV4nYJKiPx"
   },
   "outputs": [],
   "source": [
    "all_scores = []"
   ]
  },
  {
   "cell_type": "markdown",
   "metadata": {
    "id": "H_bIhHTRKAzQ"
   },
   "source": [
    "## Valutazione delle Prestazioni dei Modelli Allenati\n",
    "\n",
    "Dopo l’allenamento di ciascun modello di Machine Learning e Deep Learning, utilizziamo le funzioni `get_estimator_scores` e `get_torch_estimator_scores` per calcolare diverse metriche di valutazione, includendo per le principali anche gli **Intervalli di Confidenza al 95%** (CI95%) stimati tramite bootstrap resampling.\n",
    "\n",
    "Le metriche calcolate sono:\n",
    "\n",
    "1. **$R^2$ (Coefficiente di Determinazione)**  \n",
    "   Misura quanto bene un modello riesce a spiegare la variabilità della variabile dipendente. Il valore di $R^2$ varia da 0 (nessuna capacità predittiva) a 1 (predizione perfetta).  \n",
    "   Un $R^2_{\\text{test}}$ significativamente inferiore rispetto a $R^2_{\\text{train}}$ indica possibile overfitting.  \n",
    "   *(Più alto è, meglio è.)*\n",
    "\n",
    "2. **Mean Squared Error (MSE)**  \n",
    "   Misura la media degli errori quadratici commessi nelle previsioni. Penalizza maggiormente gli errori più grandi, poiché ogni errore viene elevato al quadrato.  \n",
    "   *(Più basso è, meglio è.)*\n",
    "\n",
    "3. **Mean Absolute Error (MAE)**  \n",
    "   Rappresenta la media delle differenze assolute tra i valori reali e quelli predetti. È meno sensibile agli outlier rispetto al MSE.  \n",
    "   *(Più basso è, meglio è.)*\n",
    "\n",
    "4. **Mean Absolute Percentage Error (MAPE)**  \n",
    "   Misura la precisione percentuale di un sistema di previsione. Indica, in media, di quanto percentualmente una previsione si discosta dal valore reale.  \n",
    "   *(Più basso è, meglio è.)*\n",
    "\n",
    "5. **Max Error**  \n",
    "   Misura l’errore assoluto massimo commesso in una previsione.  \n",
    "   *(Più basso è, meglio è.)*"
   ]
  },
  {
   "cell_type": "code",
   "execution_count": 11,
   "metadata": {
    "id": "zthJQ-LRL-8J"
   },
   "outputs": [],
   "source": [
    "def bootstrap_ci(metric_fn, y_true, y_pred, n_bootstraps=1000, alpha=0.05):\n",
    "    y_true_arr = np.asarray(y_true)\n",
    "    y_pred_arr = np.asarray(y_pred)\n",
    "    vals = []\n",
    "    for _ in range(n_bootstraps):\n",
    "        if running_in_colab:\n",
    "            idx = np.random.randint(0, len(y_true), len(y_true))\n",
    "            vals.append(metric_fn(y_true[idx], y_pred[idx]))\n",
    "        else:\n",
    "            idx = np.random.randint(0, len(y_true), len(y_true))\n",
    "            vals.append(metric_fn(y_true_arr[idx], y_pred_arr[idx]))\n",
    "\n",
    "    low = np.percentile(vals, 100 * (alpha/2))\n",
    "    high = np.percentile(vals, 100 * (1 - alpha/2))\n",
    "    return low, high\n",
    "\n",
    "def get_estimator_scores(model_name, model):\n",
    "    y_pred = model.predict(X_test)\n",
    "    r2_tr = model.score(X_train, y_train)\n",
    "    r2_te = r2_score(y_test, y_pred)\n",
    "    n_train, p = X_train.shape\n",
    "    n_test, _ = X_test.shape\n",
    "    r2_tr_adj = adjusted_r2(r2_tr, n_train, p)\n",
    "    r2_te_adj = adjusted_r2(r2_te, n_test, p)\n",
    "    mse = mean_squared_error(y_test, y_pred)\n",
    "    mae = mean_absolute_error(y_test, y_pred)\n",
    "    mape = mean_absolute_percentage_error(y_test, y_pred)\n",
    "    me = max_error(y_test, y_pred)\n",
    "\n",
    "    mse_low, mse_high = bootstrap_ci(mean_squared_error, y_test, y_pred)\n",
    "    mae_low, mae_high = bootstrap_ci(mean_absolute_error, y_test, y_pred)\n",
    "    mape_low, mape_high = bootstrap_ci(mean_absolute_percentage_error, y_test, y_pred)\n",
    "\n",
    "    all_scores.append([\n",
    "        model_name, r2_tr_adj, r2_te_adj,\n",
    "        mse, mse_low, mse_high,\n",
    "        mae, mae_low, mae_high,\n",
    "        mape, mape_low, mape_high, me\n",
    "    ])\n",
    "\n",
    "def predict_torch(model, X_tensor, device):\n",
    "    model.eval()\n",
    "    with torch.no_grad():\n",
    "        out = model(X_tensor.to(device))\n",
    "    out_cpu = out.detach().cpu().numpy()\n",
    "    # Se il modello restituisce shape (N,1), appiattiamo a (N,)\n",
    "    if out_cpu.ndim == 2 and out_cpu.shape[1] == 1:\n",
    "        return out_cpu.ravel()\n",
    "    return out_cpu\n",
    "\n",
    "def get_torch_estimator_scores(model_name, model,\n",
    "                               X_train, y_train,\n",
    "                               X_test, y_test,\n",
    "                               device):\n",
    "    y_pred_train = predict_torch(model, X_train, device)\n",
    "    y_pred_test  = predict_torch(model, X_test,  device)\n",
    "\n",
    "    y_train_np = y_train.detach().cpu().numpy().ravel()\n",
    "    y_test_np  = y_test.detach().cpu().numpy().ravel()\n",
    "\n",
    "    r2_tr = r2_score(y_train_np, y_pred_train)\n",
    "    r2_te = r2_score(y_test_np,  y_pred_test)\n",
    "\n",
    "    mse = mean_squared_error(y_test_np, y_pred_test)\n",
    "    mse_low, mse_high = bootstrap_ci(mean_squared_error, y_test_np, y_pred_test)\n",
    "\n",
    "    mae = mean_absolute_error(y_test_np, y_pred_test)\n",
    "    mae_low, mae_high = bootstrap_ci(mean_absolute_error, y_test_np, y_pred_test)\n",
    "    mape = mean_absolute_percentage_error(y_test_np, y_pred_test)\n",
    "    mape_low, mape_high = bootstrap_ci(mean_absolute_percentage_error,\n",
    "                                       y_test_np, y_pred_test)\n",
    "    me = max_error(y_test_np, y_pred_test)\n",
    "\n",
    "    all_scores.append([\n",
    "        model_name, r2_tr, r2_te,\n",
    "        mse, mse_low, mse_high,\n",
    "        mae, mae_low, mae_high,\n",
    "        mape, mape_low, mape_high, me\n",
    "    ])\n",
    "\n",
    "def adjusted_r2(r2, n, p):\n",
    "    return 1 - (1 - r2) * (n - 1) / (n - p - 1)"
   ]
  },
  {
   "cell_type": "markdown",
   "metadata": {
    "id": "xOMRnqcslVir"
   },
   "source": [
    "## Regressione Lineare\n",
    "La regressione lineare rappresenta il punto di partenza più semplice per modellare una relazione tra variabili indipendenti e una variabile target continua. In questa configurazione iniziale, il modello non utilizza né trasformazioni polinomiali delle feature né tecniche di regolarizzazione (come Ridge o Lasso). Questo approccio consente di valutare rapidamente le prestazioni di base, specialmente quando si dispone di un dataset di grandi dimensioni, come in questo caso. \\\n",
    "L'algoritmo di regressione lineare apprende una funzione lineare ottimale minimizzando l'errore quadratico medio tra le predizioni e i valori reali. \\\n",
    "Nel codice seguente, si utilizza una pipeline che applica in sequenza il preprocessamento dei dati e l'addestramento del modello. Dopo il fitting, vengono misurate le prestazioni del modello."
   ]
  },
  {
   "cell_type": "code",
   "execution_count": 12,
   "metadata": {
    "id": "mSsOPwFNlVir"
   },
   "outputs": [],
   "source": [
    "model = Pipeline([\n",
    "    (\"preproc\", preprocessor),\n",
    "    (\"regr\"   , LinearRegression())\n",
    "])"
   ]
  },
  {
   "cell_type": "code",
   "execution_count": 13,
   "metadata": {
    "colab": {
     "base_uri": "https://localhost:8080/"
    },
    "id": "nVduMAAHlVir",
    "outputId": "eec39c1b-4986-49ea-98c8-e02199f3a2ae"
   },
   "outputs": [
    {
     "name": "stdout",
     "output_type": "stream",
     "text": [
      "CPU times: total: 641 ms\n",
      "Wall time: 215 ms\n"
     ]
    }
   ],
   "source": [
    "%time model.fit(X_train, y_train)\n",
    "get_estimator_scores(\"lin_reg\", model)"
   ]
  },
  {
   "cell_type": "markdown",
   "metadata": {
    "id": "YP2p8Z1ClVit",
    "tags": []
   },
   "source": [
    "## Regressione Polinomiale\n",
    "\n",
    "Per migliorare le prestazioni rispetto al modello lineare semplice, introduciamo un'estensione: la regressione polinomiale. \\\n",
    "Le feature polinomiali permettono al modello di catturare relazioni non lineari tra le variabili indipendenti e la variabile target.  \n",
    "In questo caso, nel generatore di feature polinomiali, vengono utilizzati i seguenti parametri:\n",
    "- `degree=2`: genera termini fino al secondo grado (quadratici);\n",
    "- `include_bias=False`: esclude l'intercetta, che sarà gestita direttamente dal modello di regressione;\n",
    "- `interaction_only=True`: include solo i termini di interazione tra variabili diverse (es. x1·x2), evitando i termini al quadrato (es. x1²).  \n",
    "Questo impone una restrizione sullo spazio delle feature, limitandolo a combinazioni lineari di interazioni.\n",
    "\n"
   ]
  },
  {
   "cell_type": "code",
   "execution_count": 14,
   "metadata": {
    "id": "8n3i5NhmlVit"
   },
   "outputs": [],
   "source": [
    "model = Pipeline([\n",
    "    (\"preproc\", preprocessor),\n",
    "    (\"poly\", PolynomialFeatures(degree=2, include_bias=False, interaction_only=True)),\n",
    "    (\"regr\"   , LinearRegression())\n",
    "])"
   ]
  },
  {
   "cell_type": "code",
   "execution_count": 15,
   "metadata": {
    "colab": {
     "base_uri": "https://localhost:8080/"
    },
    "id": "txYsQh_mlViw",
    "outputId": "aa550a27-9bc2-4a01-bb54-4763e4d8f508"
   },
   "outputs": [
    {
     "name": "stdout",
     "output_type": "stream",
     "text": [
      "CPU times: total: 10 s\n",
      "Wall time: 2.26 s\n"
     ]
    }
   ],
   "source": [
    "%time model.fit(X_train, y_train)\n",
    "get_estimator_scores(\"poly_reg\", model)"
   ]
  },
  {
   "cell_type": "markdown",
   "metadata": {
    "id": "tCa0HV05lVix",
    "tags": []
   },
   "source": [
    "## Regressione LASSO\n",
    "La regressione LASSO è una tecnica di regressione lineare con regolarizzazione L1. È particolarmente utile per la selezione automatica delle feature, in quanto penalizza i coefficienti assoluti e tende ad annullare quelli meno rilevanti. \\\n",
    "A livello geometrico, la regolarizzazione L1 introduce una penalità che forza la soluzione a ricadere sui vertici di un ipercubo centrato sull'origine.  \n",
    "In questo modo, solo un sottoinsieme di feature mantiene coefficienti diversi da zero, migliorando l'interpretabilità e riducendo il rischio di overfitting. \\\n"
   ]
  },
  {
   "cell_type": "code",
   "execution_count": 16,
   "metadata": {
    "id": "jO8UrLjylVix"
   },
   "outputs": [],
   "source": [
    "model = Pipeline([\n",
    "    (\"preproc\", preprocessor),\n",
    "    (\"regr\", Lasso(alpha=1, max_iter=10000))\n",
    "])"
   ]
  },
  {
   "cell_type": "code",
   "execution_count": 17,
   "metadata": {
    "colab": {
     "base_uri": "https://localhost:8080/",
     "height": 283
    },
    "id": "zW41o83llVix",
    "outputId": "e04252de-35f4-474e-d954-f6187d3b2463"
   },
   "outputs": [
    {
     "name": "stdout",
     "output_type": "stream",
     "text": [
      "CPU times: total: 46.9 ms\n",
      "Wall time: 46 ms\n"
     ]
    },
    {
     "data": {
      "text/html": [
       "<style>#sk-container-id-1 {\n",
       "  /* Definition of color scheme common for light and dark mode */\n",
       "  --sklearn-color-text: #000;\n",
       "  --sklearn-color-text-muted: #666;\n",
       "  --sklearn-color-line: gray;\n",
       "  /* Definition of color scheme for unfitted estimators */\n",
       "  --sklearn-color-unfitted-level-0: #fff5e6;\n",
       "  --sklearn-color-unfitted-level-1: #f6e4d2;\n",
       "  --sklearn-color-unfitted-level-2: #ffe0b3;\n",
       "  --sklearn-color-unfitted-level-3: chocolate;\n",
       "  /* Definition of color scheme for fitted estimators */\n",
       "  --sklearn-color-fitted-level-0: #f0f8ff;\n",
       "  --sklearn-color-fitted-level-1: #d4ebff;\n",
       "  --sklearn-color-fitted-level-2: #b3dbfd;\n",
       "  --sklearn-color-fitted-level-3: cornflowerblue;\n",
       "\n",
       "  /* Specific color for light theme */\n",
       "  --sklearn-color-text-on-default-background: var(--sg-text-color, var(--theme-code-foreground, var(--jp-content-font-color1, black)));\n",
       "  --sklearn-color-background: var(--sg-background-color, var(--theme-background, var(--jp-layout-color0, white)));\n",
       "  --sklearn-color-border-box: var(--sg-text-color, var(--theme-code-foreground, var(--jp-content-font-color1, black)));\n",
       "  --sklearn-color-icon: #696969;\n",
       "\n",
       "  @media (prefers-color-scheme: dark) {\n",
       "    /* Redefinition of color scheme for dark theme */\n",
       "    --sklearn-color-text-on-default-background: var(--sg-text-color, var(--theme-code-foreground, var(--jp-content-font-color1, white)));\n",
       "    --sklearn-color-background: var(--sg-background-color, var(--theme-background, var(--jp-layout-color0, #111)));\n",
       "    --sklearn-color-border-box: var(--sg-text-color, var(--theme-code-foreground, var(--jp-content-font-color1, white)));\n",
       "    --sklearn-color-icon: #878787;\n",
       "  }\n",
       "}\n",
       "\n",
       "#sk-container-id-1 {\n",
       "  color: var(--sklearn-color-text);\n",
       "}\n",
       "\n",
       "#sk-container-id-1 pre {\n",
       "  padding: 0;\n",
       "}\n",
       "\n",
       "#sk-container-id-1 input.sk-hidden--visually {\n",
       "  border: 0;\n",
       "  clip: rect(1px 1px 1px 1px);\n",
       "  clip: rect(1px, 1px, 1px, 1px);\n",
       "  height: 1px;\n",
       "  margin: -1px;\n",
       "  overflow: hidden;\n",
       "  padding: 0;\n",
       "  position: absolute;\n",
       "  width: 1px;\n",
       "}\n",
       "\n",
       "#sk-container-id-1 div.sk-dashed-wrapped {\n",
       "  border: 1px dashed var(--sklearn-color-line);\n",
       "  margin: 0 0.4em 0.5em 0.4em;\n",
       "  box-sizing: border-box;\n",
       "  padding-bottom: 0.4em;\n",
       "  background-color: var(--sklearn-color-background);\n",
       "}\n",
       "\n",
       "#sk-container-id-1 div.sk-container {\n",
       "  /* jupyter's `normalize.less` sets `[hidden] { display: none; }`\n",
       "     but bootstrap.min.css set `[hidden] { display: none !important; }`\n",
       "     so we also need the `!important` here to be able to override the\n",
       "     default hidden behavior on the sphinx rendered scikit-learn.org.\n",
       "     See: https://github.com/scikit-learn/scikit-learn/issues/21755 */\n",
       "  display: inline-block !important;\n",
       "  position: relative;\n",
       "}\n",
       "\n",
       "#sk-container-id-1 div.sk-text-repr-fallback {\n",
       "  display: none;\n",
       "}\n",
       "\n",
       "div.sk-parallel-item,\n",
       "div.sk-serial,\n",
       "div.sk-item {\n",
       "  /* draw centered vertical line to link estimators */\n",
       "  background-image: linear-gradient(var(--sklearn-color-text-on-default-background), var(--sklearn-color-text-on-default-background));\n",
       "  background-size: 2px 100%;\n",
       "  background-repeat: no-repeat;\n",
       "  background-position: center center;\n",
       "}\n",
       "\n",
       "/* Parallel-specific style estimator block */\n",
       "\n",
       "#sk-container-id-1 div.sk-parallel-item::after {\n",
       "  content: \"\";\n",
       "  width: 100%;\n",
       "  border-bottom: 2px solid var(--sklearn-color-text-on-default-background);\n",
       "  flex-grow: 1;\n",
       "}\n",
       "\n",
       "#sk-container-id-1 div.sk-parallel {\n",
       "  display: flex;\n",
       "  align-items: stretch;\n",
       "  justify-content: center;\n",
       "  background-color: var(--sklearn-color-background);\n",
       "  position: relative;\n",
       "}\n",
       "\n",
       "#sk-container-id-1 div.sk-parallel-item {\n",
       "  display: flex;\n",
       "  flex-direction: column;\n",
       "}\n",
       "\n",
       "#sk-container-id-1 div.sk-parallel-item:first-child::after {\n",
       "  align-self: flex-end;\n",
       "  width: 50%;\n",
       "}\n",
       "\n",
       "#sk-container-id-1 div.sk-parallel-item:last-child::after {\n",
       "  align-self: flex-start;\n",
       "  width: 50%;\n",
       "}\n",
       "\n",
       "#sk-container-id-1 div.sk-parallel-item:only-child::after {\n",
       "  width: 0;\n",
       "}\n",
       "\n",
       "/* Serial-specific style estimator block */\n",
       "\n",
       "#sk-container-id-1 div.sk-serial {\n",
       "  display: flex;\n",
       "  flex-direction: column;\n",
       "  align-items: center;\n",
       "  background-color: var(--sklearn-color-background);\n",
       "  padding-right: 1em;\n",
       "  padding-left: 1em;\n",
       "}\n",
       "\n",
       "\n",
       "/* Toggleable style: style used for estimator/Pipeline/ColumnTransformer box that is\n",
       "clickable and can be expanded/collapsed.\n",
       "- Pipeline and ColumnTransformer use this feature and define the default style\n",
       "- Estimators will overwrite some part of the style using the `sk-estimator` class\n",
       "*/\n",
       "\n",
       "/* Pipeline and ColumnTransformer style (default) */\n",
       "\n",
       "#sk-container-id-1 div.sk-toggleable {\n",
       "  /* Default theme specific background. It is overwritten whether we have a\n",
       "  specific estimator or a Pipeline/ColumnTransformer */\n",
       "  background-color: var(--sklearn-color-background);\n",
       "}\n",
       "\n",
       "/* Toggleable label */\n",
       "#sk-container-id-1 label.sk-toggleable__label {\n",
       "  cursor: pointer;\n",
       "  display: flex;\n",
       "  width: 100%;\n",
       "  margin-bottom: 0;\n",
       "  padding: 0.5em;\n",
       "  box-sizing: border-box;\n",
       "  text-align: center;\n",
       "  align-items: start;\n",
       "  justify-content: space-between;\n",
       "  gap: 0.5em;\n",
       "}\n",
       "\n",
       "#sk-container-id-1 label.sk-toggleable__label .caption {\n",
       "  font-size: 0.6rem;\n",
       "  font-weight: lighter;\n",
       "  color: var(--sklearn-color-text-muted);\n",
       "}\n",
       "\n",
       "#sk-container-id-1 label.sk-toggleable__label-arrow:before {\n",
       "  /* Arrow on the left of the label */\n",
       "  content: \"▸\";\n",
       "  float: left;\n",
       "  margin-right: 0.25em;\n",
       "  color: var(--sklearn-color-icon);\n",
       "}\n",
       "\n",
       "#sk-container-id-1 label.sk-toggleable__label-arrow:hover:before {\n",
       "  color: var(--sklearn-color-text);\n",
       "}\n",
       "\n",
       "/* Toggleable content - dropdown */\n",
       "\n",
       "#sk-container-id-1 div.sk-toggleable__content {\n",
       "  max-height: 0;\n",
       "  max-width: 0;\n",
       "  overflow: hidden;\n",
       "  text-align: left;\n",
       "  /* unfitted */\n",
       "  background-color: var(--sklearn-color-unfitted-level-0);\n",
       "}\n",
       "\n",
       "#sk-container-id-1 div.sk-toggleable__content.fitted {\n",
       "  /* fitted */\n",
       "  background-color: var(--sklearn-color-fitted-level-0);\n",
       "}\n",
       "\n",
       "#sk-container-id-1 div.sk-toggleable__content pre {\n",
       "  margin: 0.2em;\n",
       "  border-radius: 0.25em;\n",
       "  color: var(--sklearn-color-text);\n",
       "  /* unfitted */\n",
       "  background-color: var(--sklearn-color-unfitted-level-0);\n",
       "}\n",
       "\n",
       "#sk-container-id-1 div.sk-toggleable__content.fitted pre {\n",
       "  /* unfitted */\n",
       "  background-color: var(--sklearn-color-fitted-level-0);\n",
       "}\n",
       "\n",
       "#sk-container-id-1 input.sk-toggleable__control:checked~div.sk-toggleable__content {\n",
       "  /* Expand drop-down */\n",
       "  max-height: 200px;\n",
       "  max-width: 100%;\n",
       "  overflow: auto;\n",
       "}\n",
       "\n",
       "#sk-container-id-1 input.sk-toggleable__control:checked~label.sk-toggleable__label-arrow:before {\n",
       "  content: \"▾\";\n",
       "}\n",
       "\n",
       "/* Pipeline/ColumnTransformer-specific style */\n",
       "\n",
       "#sk-container-id-1 div.sk-label input.sk-toggleable__control:checked~label.sk-toggleable__label {\n",
       "  color: var(--sklearn-color-text);\n",
       "  background-color: var(--sklearn-color-unfitted-level-2);\n",
       "}\n",
       "\n",
       "#sk-container-id-1 div.sk-label.fitted input.sk-toggleable__control:checked~label.sk-toggleable__label {\n",
       "  background-color: var(--sklearn-color-fitted-level-2);\n",
       "}\n",
       "\n",
       "/* Estimator-specific style */\n",
       "\n",
       "/* Colorize estimator box */\n",
       "#sk-container-id-1 div.sk-estimator input.sk-toggleable__control:checked~label.sk-toggleable__label {\n",
       "  /* unfitted */\n",
       "  background-color: var(--sklearn-color-unfitted-level-2);\n",
       "}\n",
       "\n",
       "#sk-container-id-1 div.sk-estimator.fitted input.sk-toggleable__control:checked~label.sk-toggleable__label {\n",
       "  /* fitted */\n",
       "  background-color: var(--sklearn-color-fitted-level-2);\n",
       "}\n",
       "\n",
       "#sk-container-id-1 div.sk-label label.sk-toggleable__label,\n",
       "#sk-container-id-1 div.sk-label label {\n",
       "  /* The background is the default theme color */\n",
       "  color: var(--sklearn-color-text-on-default-background);\n",
       "}\n",
       "\n",
       "/* On hover, darken the color of the background */\n",
       "#sk-container-id-1 div.sk-label:hover label.sk-toggleable__label {\n",
       "  color: var(--sklearn-color-text);\n",
       "  background-color: var(--sklearn-color-unfitted-level-2);\n",
       "}\n",
       "\n",
       "/* Label box, darken color on hover, fitted */\n",
       "#sk-container-id-1 div.sk-label.fitted:hover label.sk-toggleable__label.fitted {\n",
       "  color: var(--sklearn-color-text);\n",
       "  background-color: var(--sklearn-color-fitted-level-2);\n",
       "}\n",
       "\n",
       "/* Estimator label */\n",
       "\n",
       "#sk-container-id-1 div.sk-label label {\n",
       "  font-family: monospace;\n",
       "  font-weight: bold;\n",
       "  display: inline-block;\n",
       "  line-height: 1.2em;\n",
       "}\n",
       "\n",
       "#sk-container-id-1 div.sk-label-container {\n",
       "  text-align: center;\n",
       "}\n",
       "\n",
       "/* Estimator-specific */\n",
       "#sk-container-id-1 div.sk-estimator {\n",
       "  font-family: monospace;\n",
       "  border: 1px dotted var(--sklearn-color-border-box);\n",
       "  border-radius: 0.25em;\n",
       "  box-sizing: border-box;\n",
       "  margin-bottom: 0.5em;\n",
       "  /* unfitted */\n",
       "  background-color: var(--sklearn-color-unfitted-level-0);\n",
       "}\n",
       "\n",
       "#sk-container-id-1 div.sk-estimator.fitted {\n",
       "  /* fitted */\n",
       "  background-color: var(--sklearn-color-fitted-level-0);\n",
       "}\n",
       "\n",
       "/* on hover */\n",
       "#sk-container-id-1 div.sk-estimator:hover {\n",
       "  /* unfitted */\n",
       "  background-color: var(--sklearn-color-unfitted-level-2);\n",
       "}\n",
       "\n",
       "#sk-container-id-1 div.sk-estimator.fitted:hover {\n",
       "  /* fitted */\n",
       "  background-color: var(--sklearn-color-fitted-level-2);\n",
       "}\n",
       "\n",
       "/* Specification for estimator info (e.g. \"i\" and \"?\") */\n",
       "\n",
       "/* Common style for \"i\" and \"?\" */\n",
       "\n",
       ".sk-estimator-doc-link,\n",
       "a:link.sk-estimator-doc-link,\n",
       "a:visited.sk-estimator-doc-link {\n",
       "  float: right;\n",
       "  font-size: smaller;\n",
       "  line-height: 1em;\n",
       "  font-family: monospace;\n",
       "  background-color: var(--sklearn-color-background);\n",
       "  border-radius: 1em;\n",
       "  height: 1em;\n",
       "  width: 1em;\n",
       "  text-decoration: none !important;\n",
       "  margin-left: 0.5em;\n",
       "  text-align: center;\n",
       "  /* unfitted */\n",
       "  border: var(--sklearn-color-unfitted-level-1) 1pt solid;\n",
       "  color: var(--sklearn-color-unfitted-level-1);\n",
       "}\n",
       "\n",
       ".sk-estimator-doc-link.fitted,\n",
       "a:link.sk-estimator-doc-link.fitted,\n",
       "a:visited.sk-estimator-doc-link.fitted {\n",
       "  /* fitted */\n",
       "  border: var(--sklearn-color-fitted-level-1) 1pt solid;\n",
       "  color: var(--sklearn-color-fitted-level-1);\n",
       "}\n",
       "\n",
       "/* On hover */\n",
       "div.sk-estimator:hover .sk-estimator-doc-link:hover,\n",
       ".sk-estimator-doc-link:hover,\n",
       "div.sk-label-container:hover .sk-estimator-doc-link:hover,\n",
       ".sk-estimator-doc-link:hover {\n",
       "  /* unfitted */\n",
       "  background-color: var(--sklearn-color-unfitted-level-3);\n",
       "  color: var(--sklearn-color-background);\n",
       "  text-decoration: none;\n",
       "}\n",
       "\n",
       "div.sk-estimator.fitted:hover .sk-estimator-doc-link.fitted:hover,\n",
       ".sk-estimator-doc-link.fitted:hover,\n",
       "div.sk-label-container:hover .sk-estimator-doc-link.fitted:hover,\n",
       ".sk-estimator-doc-link.fitted:hover {\n",
       "  /* fitted */\n",
       "  background-color: var(--sklearn-color-fitted-level-3);\n",
       "  color: var(--sklearn-color-background);\n",
       "  text-decoration: none;\n",
       "}\n",
       "\n",
       "/* Span, style for the box shown on hovering the info icon */\n",
       ".sk-estimator-doc-link span {\n",
       "  display: none;\n",
       "  z-index: 9999;\n",
       "  position: relative;\n",
       "  font-weight: normal;\n",
       "  right: .2ex;\n",
       "  padding: .5ex;\n",
       "  margin: .5ex;\n",
       "  width: min-content;\n",
       "  min-width: 20ex;\n",
       "  max-width: 50ex;\n",
       "  color: var(--sklearn-color-text);\n",
       "  box-shadow: 2pt 2pt 4pt #999;\n",
       "  /* unfitted */\n",
       "  background: var(--sklearn-color-unfitted-level-0);\n",
       "  border: .5pt solid var(--sklearn-color-unfitted-level-3);\n",
       "}\n",
       "\n",
       ".sk-estimator-doc-link.fitted span {\n",
       "  /* fitted */\n",
       "  background: var(--sklearn-color-fitted-level-0);\n",
       "  border: var(--sklearn-color-fitted-level-3);\n",
       "}\n",
       "\n",
       ".sk-estimator-doc-link:hover span {\n",
       "  display: block;\n",
       "}\n",
       "\n",
       "/* \"?\"-specific style due to the `<a>` HTML tag */\n",
       "\n",
       "#sk-container-id-1 a.estimator_doc_link {\n",
       "  float: right;\n",
       "  font-size: 1rem;\n",
       "  line-height: 1em;\n",
       "  font-family: monospace;\n",
       "  background-color: var(--sklearn-color-background);\n",
       "  border-radius: 1rem;\n",
       "  height: 1rem;\n",
       "  width: 1rem;\n",
       "  text-decoration: none;\n",
       "  /* unfitted */\n",
       "  color: var(--sklearn-color-unfitted-level-1);\n",
       "  border: var(--sklearn-color-unfitted-level-1) 1pt solid;\n",
       "}\n",
       "\n",
       "#sk-container-id-1 a.estimator_doc_link.fitted {\n",
       "  /* fitted */\n",
       "  border: var(--sklearn-color-fitted-level-1) 1pt solid;\n",
       "  color: var(--sklearn-color-fitted-level-1);\n",
       "}\n",
       "\n",
       "/* On hover */\n",
       "#sk-container-id-1 a.estimator_doc_link:hover {\n",
       "  /* unfitted */\n",
       "  background-color: var(--sklearn-color-unfitted-level-3);\n",
       "  color: var(--sklearn-color-background);\n",
       "  text-decoration: none;\n",
       "}\n",
       "\n",
       "#sk-container-id-1 a.estimator_doc_link.fitted:hover {\n",
       "  /* fitted */\n",
       "  background-color: var(--sklearn-color-fitted-level-3);\n",
       "}\n",
       "</style><div id=\"sk-container-id-1\" class=\"sk-top-container\"><div class=\"sk-text-repr-fallback\"><pre>Pipeline(steps=[(&#x27;preproc&#x27;,\n",
       "                 ColumnTransformer(transformers=[(&#x27;numeric&#x27;, StandardScaler(),\n",
       "                                                  [&#x27;dayofmonth&#x27;, &#x27;dayofweek&#x27;,\n",
       "                                                   &#x27;dayofyear&#x27;, &#x27;weekofyear&#x27;,\n",
       "                                                   &#x27;month&#x27;, &#x27;quarter&#x27;, &#x27;year&#x27;,\n",
       "                                                   &#x27;pm_lag_1Y&#x27;, &#x27;pm_lag_1M&#x27;,\n",
       "                                                   &#x27;pm_lag_1W&#x27;, &#x27;co_lag_1Y&#x27;,\n",
       "                                                   &#x27;co_lag_1M&#x27;, &#x27;co_lag_1W&#x27;,\n",
       "                                                   &#x27;o3_lag_1Y&#x27;, &#x27;o3_lag_1M&#x27;,\n",
       "                                                   &#x27;o3_lag_1W&#x27;, &#x27;pm10_lag_1Y&#x27;,\n",
       "                                                   &#x27;so2_lag_1Y&#x27;, &#x27;no2_lag_1Y&#x27;,\n",
       "                                                   &#x27;pm10_lag_1M&#x27;, &#x27;so2_lag_1M&#x27;,\n",
       "                                                   &#x27;no2_lag_1M&#x27;, &#x27;pm10_lag_1W&#x27;,\n",
       "                                                   &#x27;so2_lag_1W&#x27;, &#x27;no2_lag_1W&#x27;,\n",
       "                                                   &#x27;pm_lag_1D&#x27;, &#x27;co_lag_1D&#x27;,\n",
       "                                                   &#x27;o3_lag_1D&#x27;, &#x27;pm10_lag_1D&#x27;,\n",
       "                                                   &#x27;so2_lag_1D&#x27;, ...]),\n",
       "                                                 (&#x27;categorical&#x27;,\n",
       "                                                  OneHotEncoder(handle_unknown=&#x27;ignore&#x27;),\n",
       "                                                  [&#x27;state&#x27;])])),\n",
       "                (&#x27;regr&#x27;, Lasso(alpha=1, max_iter=10000))])</pre><b>In a Jupyter environment, please rerun this cell to show the HTML representation or trust the notebook. <br />On GitHub, the HTML representation is unable to render, please try loading this page with nbviewer.org.</b></div><div class=\"sk-container\" hidden><div class=\"sk-item sk-dashed-wrapped\"><div class=\"sk-label-container\"><div class=\"sk-label fitted sk-toggleable\"><input class=\"sk-toggleable__control sk-hidden--visually\" id=\"sk-estimator-id-1\" type=\"checkbox\" ><label for=\"sk-estimator-id-1\" class=\"sk-toggleable__label fitted sk-toggleable__label-arrow\"><div><div>Pipeline</div></div><div><a class=\"sk-estimator-doc-link fitted\" rel=\"noreferrer\" target=\"_blank\" href=\"https://scikit-learn.org/1.6/modules/generated/sklearn.pipeline.Pipeline.html\">?<span>Documentation for Pipeline</span></a><span class=\"sk-estimator-doc-link fitted\">i<span>Fitted</span></span></div></label><div class=\"sk-toggleable__content fitted\"><pre>Pipeline(steps=[(&#x27;preproc&#x27;,\n",
       "                 ColumnTransformer(transformers=[(&#x27;numeric&#x27;, StandardScaler(),\n",
       "                                                  [&#x27;dayofmonth&#x27;, &#x27;dayofweek&#x27;,\n",
       "                                                   &#x27;dayofyear&#x27;, &#x27;weekofyear&#x27;,\n",
       "                                                   &#x27;month&#x27;, &#x27;quarter&#x27;, &#x27;year&#x27;,\n",
       "                                                   &#x27;pm_lag_1Y&#x27;, &#x27;pm_lag_1M&#x27;,\n",
       "                                                   &#x27;pm_lag_1W&#x27;, &#x27;co_lag_1Y&#x27;,\n",
       "                                                   &#x27;co_lag_1M&#x27;, &#x27;co_lag_1W&#x27;,\n",
       "                                                   &#x27;o3_lag_1Y&#x27;, &#x27;o3_lag_1M&#x27;,\n",
       "                                                   &#x27;o3_lag_1W&#x27;, &#x27;pm10_lag_1Y&#x27;,\n",
       "                                                   &#x27;so2_lag_1Y&#x27;, &#x27;no2_lag_1Y&#x27;,\n",
       "                                                   &#x27;pm10_lag_1M&#x27;, &#x27;so2_lag_1M&#x27;,\n",
       "                                                   &#x27;no2_lag_1M&#x27;, &#x27;pm10_lag_1W&#x27;,\n",
       "                                                   &#x27;so2_lag_1W&#x27;, &#x27;no2_lag_1W&#x27;,\n",
       "                                                   &#x27;pm_lag_1D&#x27;, &#x27;co_lag_1D&#x27;,\n",
       "                                                   &#x27;o3_lag_1D&#x27;, &#x27;pm10_lag_1D&#x27;,\n",
       "                                                   &#x27;so2_lag_1D&#x27;, ...]),\n",
       "                                                 (&#x27;categorical&#x27;,\n",
       "                                                  OneHotEncoder(handle_unknown=&#x27;ignore&#x27;),\n",
       "                                                  [&#x27;state&#x27;])])),\n",
       "                (&#x27;regr&#x27;, Lasso(alpha=1, max_iter=10000))])</pre></div> </div></div><div class=\"sk-serial\"><div class=\"sk-item sk-dashed-wrapped\"><div class=\"sk-label-container\"><div class=\"sk-label fitted sk-toggleable\"><input class=\"sk-toggleable__control sk-hidden--visually\" id=\"sk-estimator-id-2\" type=\"checkbox\" ><label for=\"sk-estimator-id-2\" class=\"sk-toggleable__label fitted sk-toggleable__label-arrow\"><div><div>preproc: ColumnTransformer</div></div><div><a class=\"sk-estimator-doc-link fitted\" rel=\"noreferrer\" target=\"_blank\" href=\"https://scikit-learn.org/1.6/modules/generated/sklearn.compose.ColumnTransformer.html\">?<span>Documentation for preproc: ColumnTransformer</span></a></div></label><div class=\"sk-toggleable__content fitted\"><pre>ColumnTransformer(transformers=[(&#x27;numeric&#x27;, StandardScaler(),\n",
       "                                 [&#x27;dayofmonth&#x27;, &#x27;dayofweek&#x27;, &#x27;dayofyear&#x27;,\n",
       "                                  &#x27;weekofyear&#x27;, &#x27;month&#x27;, &#x27;quarter&#x27;, &#x27;year&#x27;,\n",
       "                                  &#x27;pm_lag_1Y&#x27;, &#x27;pm_lag_1M&#x27;, &#x27;pm_lag_1W&#x27;,\n",
       "                                  &#x27;co_lag_1Y&#x27;, &#x27;co_lag_1M&#x27;, &#x27;co_lag_1W&#x27;,\n",
       "                                  &#x27;o3_lag_1Y&#x27;, &#x27;o3_lag_1M&#x27;, &#x27;o3_lag_1W&#x27;,\n",
       "                                  &#x27;pm10_lag_1Y&#x27;, &#x27;so2_lag_1Y&#x27;, &#x27;no2_lag_1Y&#x27;,\n",
       "                                  &#x27;pm10_lag_1M&#x27;, &#x27;so2_lag_1M&#x27;, &#x27;no2_lag_1M&#x27;,\n",
       "                                  &#x27;pm10_lag_1W&#x27;, &#x27;so2_lag_1W&#x27;, &#x27;no2_lag_1W&#x27;,\n",
       "                                  &#x27;pm_lag_1D&#x27;, &#x27;co_lag_1D&#x27;, &#x27;o3_lag_1D&#x27;,\n",
       "                                  &#x27;pm10_lag_1D&#x27;, &#x27;so2_lag_1D&#x27;, ...]),\n",
       "                                (&#x27;categorical&#x27;,\n",
       "                                 OneHotEncoder(handle_unknown=&#x27;ignore&#x27;),\n",
       "                                 [&#x27;state&#x27;])])</pre></div> </div></div><div class=\"sk-parallel\"><div class=\"sk-parallel-item\"><div class=\"sk-item\"><div class=\"sk-label-container\"><div class=\"sk-label fitted sk-toggleable\"><input class=\"sk-toggleable__control sk-hidden--visually\" id=\"sk-estimator-id-3\" type=\"checkbox\" ><label for=\"sk-estimator-id-3\" class=\"sk-toggleable__label fitted sk-toggleable__label-arrow\"><div><div>numeric</div></div></label><div class=\"sk-toggleable__content fitted\"><pre>[&#x27;dayofmonth&#x27;, &#x27;dayofweek&#x27;, &#x27;dayofyear&#x27;, &#x27;weekofyear&#x27;, &#x27;month&#x27;, &#x27;quarter&#x27;, &#x27;year&#x27;, &#x27;pm_lag_1Y&#x27;, &#x27;pm_lag_1M&#x27;, &#x27;pm_lag_1W&#x27;, &#x27;co_lag_1Y&#x27;, &#x27;co_lag_1M&#x27;, &#x27;co_lag_1W&#x27;, &#x27;o3_lag_1Y&#x27;, &#x27;o3_lag_1M&#x27;, &#x27;o3_lag_1W&#x27;, &#x27;pm10_lag_1Y&#x27;, &#x27;so2_lag_1Y&#x27;, &#x27;no2_lag_1Y&#x27;, &#x27;pm10_lag_1M&#x27;, &#x27;so2_lag_1M&#x27;, &#x27;no2_lag_1M&#x27;, &#x27;pm10_lag_1W&#x27;, &#x27;so2_lag_1W&#x27;, &#x27;no2_lag_1W&#x27;, &#x27;pm_lag_1D&#x27;, &#x27;co_lag_1D&#x27;, &#x27;o3_lag_1D&#x27;, &#x27;pm10_lag_1D&#x27;, &#x27;so2_lag_1D&#x27;, &#x27;no2_lag_1D&#x27;, &#x27;pm_lag_2D&#x27;, &#x27;co_lag_2D&#x27;, &#x27;o3_lag_2D&#x27;, &#x27;pm10_lag_2D&#x27;, &#x27;so2_lag_2D&#x27;, &#x27;no2_lag_2D&#x27;, &#x27;pm_lag_3D&#x27;, &#x27;co_lag_3D&#x27;, &#x27;o3_lag_3D&#x27;, &#x27;pm10_lag_3D&#x27;, &#x27;so2_lag_3D&#x27;, &#x27;no2_lag_3D&#x27;]</pre></div> </div></div><div class=\"sk-serial\"><div class=\"sk-item\"><div class=\"sk-estimator fitted sk-toggleable\"><input class=\"sk-toggleable__control sk-hidden--visually\" id=\"sk-estimator-id-4\" type=\"checkbox\" ><label for=\"sk-estimator-id-4\" class=\"sk-toggleable__label fitted sk-toggleable__label-arrow\"><div><div>StandardScaler</div></div><div><a class=\"sk-estimator-doc-link fitted\" rel=\"noreferrer\" target=\"_blank\" href=\"https://scikit-learn.org/1.6/modules/generated/sklearn.preprocessing.StandardScaler.html\">?<span>Documentation for StandardScaler</span></a></div></label><div class=\"sk-toggleable__content fitted\"><pre>StandardScaler()</pre></div> </div></div></div></div></div><div class=\"sk-parallel-item\"><div class=\"sk-item\"><div class=\"sk-label-container\"><div class=\"sk-label fitted sk-toggleable\"><input class=\"sk-toggleable__control sk-hidden--visually\" id=\"sk-estimator-id-5\" type=\"checkbox\" ><label for=\"sk-estimator-id-5\" class=\"sk-toggleable__label fitted sk-toggleable__label-arrow\"><div><div>categorical</div></div></label><div class=\"sk-toggleable__content fitted\"><pre>[&#x27;state&#x27;]</pre></div> </div></div><div class=\"sk-serial\"><div class=\"sk-item\"><div class=\"sk-estimator fitted sk-toggleable\"><input class=\"sk-toggleable__control sk-hidden--visually\" id=\"sk-estimator-id-6\" type=\"checkbox\" ><label for=\"sk-estimator-id-6\" class=\"sk-toggleable__label fitted sk-toggleable__label-arrow\"><div><div>OneHotEncoder</div></div><div><a class=\"sk-estimator-doc-link fitted\" rel=\"noreferrer\" target=\"_blank\" href=\"https://scikit-learn.org/1.6/modules/generated/sklearn.preprocessing.OneHotEncoder.html\">?<span>Documentation for OneHotEncoder</span></a></div></label><div class=\"sk-toggleable__content fitted\"><pre>OneHotEncoder(handle_unknown=&#x27;ignore&#x27;)</pre></div> </div></div></div></div></div></div></div><div class=\"sk-item\"><div class=\"sk-estimator fitted sk-toggleable\"><input class=\"sk-toggleable__control sk-hidden--visually\" id=\"sk-estimator-id-7\" type=\"checkbox\" ><label for=\"sk-estimator-id-7\" class=\"sk-toggleable__label fitted sk-toggleable__label-arrow\"><div><div>Lasso</div></div><div><a class=\"sk-estimator-doc-link fitted\" rel=\"noreferrer\" target=\"_blank\" href=\"https://scikit-learn.org/1.6/modules/generated/sklearn.linear_model.Lasso.html\">?<span>Documentation for Lasso</span></a></div></label><div class=\"sk-toggleable__content fitted\"><pre>Lasso(alpha=1, max_iter=10000)</pre></div> </div></div></div></div></div></div>"
      ],
      "text/plain": [
       "Pipeline(steps=[('preproc',\n",
       "                 ColumnTransformer(transformers=[('numeric', StandardScaler(),\n",
       "                                                  ['dayofmonth', 'dayofweek',\n",
       "                                                   'dayofyear', 'weekofyear',\n",
       "                                                   'month', 'quarter', 'year',\n",
       "                                                   'pm_lag_1Y', 'pm_lag_1M',\n",
       "                                                   'pm_lag_1W', 'co_lag_1Y',\n",
       "                                                   'co_lag_1M', 'co_lag_1W',\n",
       "                                                   'o3_lag_1Y', 'o3_lag_1M',\n",
       "                                                   'o3_lag_1W', 'pm10_lag_1Y',\n",
       "                                                   'so2_lag_1Y', 'no2_lag_1Y',\n",
       "                                                   'pm10_lag_1M', 'so2_lag_1M',\n",
       "                                                   'no2_lag_1M', 'pm10_lag_1W',\n",
       "                                                   'so2_lag_1W', 'no2_lag_1W',\n",
       "                                                   'pm_lag_1D', 'co_lag_1D',\n",
       "                                                   'o3_lag_1D', 'pm10_lag_1D',\n",
       "                                                   'so2_lag_1D', ...]),\n",
       "                                                 ('categorical',\n",
       "                                                  OneHotEncoder(handle_unknown='ignore'),\n",
       "                                                  ['state'])])),\n",
       "                ('regr', Lasso(alpha=1, max_iter=10000))])"
      ]
     },
     "execution_count": 17,
     "metadata": {},
     "output_type": "execute_result"
    }
   ],
   "source": [
    "%time model.fit(X_train, y_train)"
   ]
  },
  {
   "cell_type": "markdown",
   "metadata": {
    "id": "CBNwKTBslViy"
   },
   "source": [
    "### Hyperparameter Tuning per Regressione LASSO\n",
    "\n",
    "Per ottimizzare il livello di regolarizzazione LASSO, si utilizza una procedura di Hyperparameter Tuning (in questo caso `GridSearchCV`) che esplora diversi valori del parametro `alpha`. \\\n",
    "La validazione viene eseguita con `TimeSeriesSplit`, una tecnica di cross-validation adatta alle Serie Temporali, che preserva l’ordine cronologico dividendo il dataset in fold sequenziali."
   ]
  },
  {
   "cell_type": "code",
   "execution_count": 18,
   "metadata": {
    "id": "rAjFXQPQlX-M"
   },
   "outputs": [],
   "source": [
    "tscv = TimeSeriesSplit(n_splits=5)"
   ]
  },
  {
   "cell_type": "markdown",
   "metadata": {
    "id": "x4HO1u7CRRda"
   },
   "source": [
    "Nel blocco seguente viene visualizzata la suddivisione del dataset nei 5 fold della Time Series Cross-Validation.  \n",
    "Questa rappresentazione è utile per verificare che la sequenza temporale sia rispettata nella divisione dei dati tra training e validation set.\n"
   ]
  },
  {
   "cell_type": "code",
   "execution_count": 19,
   "metadata": {
    "colab": {
     "base_uri": "https://localhost:8080/",
     "height": 1000
    },
    "id": "H2V0j1jhk9yl",
    "outputId": "15dbb4c3-3e8c-4108-b964-ab5f36aaa0c5"
   },
   "outputs": [
    {
     "data": {
      "image/png": "[encoded data removed]",
      "text/plain": [
       "<Figure size 1200x1200 with 5 Axes>"
      ]
     },
     "metadata": {},
     "output_type": "display_data"
    }
   ],
   "source": [
    "fig, axes = plt.subplots(tscv.n_splits, 1, figsize=(12, 12), sharex=True)\n",
    "fig.tight_layout(pad=3.0)\n",
    "\n",
    "for index, (train_fold, validation_fold) in enumerate(tscv.split(y_train)):\n",
    "    sns.lineplot(data=y_train.iloc[train_fold], label='Training Set', ax=axes[index])\n",
    "    sns.lineplot(data=y_train.iloc[validation_fold], label='Validation Set', ax=axes[index])\n",
    "    axes[index].set_title(f'Time Series Split #{index}')\n",
    "    axes[index].set(xlabel=None, ylabel=None)\n",
    "\n",
    "plt.show()"
   ]
  },
  {
   "cell_type": "markdown",
   "metadata": {
    "id": "-habdEtGRWDW"
   },
   "source": [
    "Viene ora avviata una ricerca esaustiva degli iperparametri tramite `GridSearchCV`, testando tutti i 5 valori di `alpha` generati in scala logaritmica tra 10⁻³ e 10. \\\n",
    "Per ciascun valore di `alpha`, il modello viene addestrato e validato su ciascuno dei fold definiti dalla `TimeSeriesSplit`.\n",
    "\n",
    "Alla fine della procedura, viene selezionato il modello con le migliori prestazioni medie di validazione, che verrà quindi utilizzato per la valutazione finale."
   ]
  },
  {
   "cell_type": "code",
   "execution_count": 20,
   "metadata": {
    "id": "FkU3BKTAlViy"
   },
   "outputs": [],
   "source": [
    "alphas = np.logspace(-3, 1, num=5)\n",
    "grid = {\"regr__alpha\": alphas}\n",
    "gs = GridSearchCV(model, grid, cv=tscv, n_jobs=N_JOBS)"
   ]
  },
  {
   "cell_type": "code",
   "execution_count": 21,
   "metadata": {
    "colab": {
     "base_uri": "https://localhost:8080/"
    },
    "id": "kyNpEms_lViz",
    "outputId": "649dbf82-db14-4d7a-9b2f-6c398f3465c7"
   },
   "outputs": [
    {
     "name": "stdout",
     "output_type": "stream",
     "text": [
      "CPU times: total: 203 ms\n",
      "Wall time: 2.85 s\n",
      "\n"
     ]
    }
   ],
   "source": [
    "%time gs.fit(X_train, y_train);\n",
    "print()"
   ]
  },
  {
   "cell_type": "code",
   "execution_count": 22,
   "metadata": {
    "id": "vfRSNZkelViz"
   },
   "outputs": [],
   "source": [
    "get_estimator_scores(\"lasso_reg\", gs.best_estimator_)"
   ]
  },
  {
   "cell_type": "markdown",
   "metadata": {
    "id": "ek9cvilLRt9b"
   },
   "source": [
    "Infine, si visualizza l'andamento dello score di validazione al variare di `alpha`.  \n",
    "Il grafico aiuta a comprendere l'effetto della regolarizzazione L1: valori troppo bassi causano overfitting, mentre valori troppo alti portano a un'eccessiva semplificazione del modello."
   ]
  },
  {
   "cell_type": "code",
   "execution_count": 23,
   "metadata": {
    "id": "AJebrS-JlViz"
   },
   "outputs": [],
   "source": [
    "results = pd.DataFrame(gs.cv_results_)[[\"param_regr__alpha\", \"mean_test_score\"]]"
   ]
  },
  {
   "cell_type": "code",
   "execution_count": 24,
   "metadata": {
    "colab": {
     "base_uri": "https://localhost:8080/",
     "height": 484
    },
    "id": "PZZdd025lViz",
    "outputId": "7420d5de-5b05-43a4-a3c4-c0f6a78f31fb"
   },
   "outputs": [
    {
     "data": {
      "image/png": "[encoded data removed]",
      "text/plain": [
       "<Figure size 640x480 with 1 Axes>"
      ]
     },
     "metadata": {},
     "output_type": "display_data"
    }
   ],
   "source": [
    "plt.plot(results[\"param_regr__alpha\"], results[\"mean_test_score\"])\n",
    "plt.xscale('log')\n",
    "plt.xlabel('alpha')\n",
    "plt.ylabel('score')\n",
    "plt.title('Grafico al variare della regolarizzazione')\n",
    "plt.show()"
   ]
  },
  {
   "cell_type": "markdown",
   "metadata": {
    "id": "Mcl2wO-FlVi0"
   },
   "source": [
    "## Regressione Ridge\n",
    "\n",
    "La regressione Ridge introduce una penalizzazione L2 sui coefficienti del modello, utile per controllare l’overfitting, specialmente in presenza di feature polinomiali o feature altamente correlate. \\\n",
    "In questo caso, combiniamo la regressione Ridge con una trasformazione polinomiale delle feature (di grado 2 con sole interazioni) per aumentare la capacità espressiva del modello, mantenendo sotto controllo la complessità grazie alla regolarizzazione.\n"
   ]
  },
  {
   "cell_type": "code",
   "execution_count": 25,
   "metadata": {
    "id": "zUItTWw3lVi0"
   },
   "outputs": [],
   "source": [
    "model = Pipeline([\n",
    "    (\"preproc\", preprocessor),\n",
    "    (\"poly\",   PolynomialFeatures(degree=2, include_bias=False, interaction_only=True)),\n",
    "    (\"regr\", Ridge(alpha=1, max_iter=10000))\n",
    "])"
   ]
  },
  {
   "cell_type": "code",
   "execution_count": 26,
   "metadata": {
    "colab": {
     "base_uri": "https://localhost:8080/",
     "height": 324
    },
    "id": "8mqZrg_UlVi0",
    "outputId": "93d3e7e9-df59-4c02-f1f4-da29a069c93f"
   },
   "outputs": [
    {
     "name": "stdout",
     "output_type": "stream",
     "text": [
      "CPU times: total: 2.53 s\n",
      "Wall time: 784 ms\n"
     ]
    },
    {
     "data": {
      "text/html": [
       "<style>#sk-container-id-2 {\n",
       "  /* Definition of color scheme common for light and dark mode */\n",
       "  --sklearn-color-text: #000;\n",
       "  --sklearn-color-text-muted: #666;\n",
       "  --sklearn-color-line: gray;\n",
       "  /* Definition of color scheme for unfitted estimators */\n",
       "  --sklearn-color-unfitted-level-0: #fff5e6;\n",
       "  --sklearn-color-unfitted-level-1: #f6e4d2;\n",
       "  --sklearn-color-unfitted-level-2: #ffe0b3;\n",
       "  --sklearn-color-unfitted-level-3: chocolate;\n",
       "  /* Definition of color scheme for fitted estimators */\n",
       "  --sklearn-color-fitted-level-0: #f0f8ff;\n",
       "  --sklearn-color-fitted-level-1: #d4ebff;\n",
       "  --sklearn-color-fitted-level-2: #b3dbfd;\n",
       "  --sklearn-color-fitted-level-3: cornflowerblue;\n",
       "\n",
       "  /* Specific color for light theme */\n",
       "  --sklearn-color-text-on-default-background: var(--sg-text-color, var(--theme-code-foreground, var(--jp-content-font-color1, black)));\n",
       "  --sklearn-color-background: var(--sg-background-color, var(--theme-background, var(--jp-layout-color0, white)));\n",
       "  --sklearn-color-border-box: var(--sg-text-color, var(--theme-code-foreground, var(--jp-content-font-color1, black)));\n",
       "  --sklearn-color-icon: #696969;\n",
       "\n",
       "  @media (prefers-color-scheme: dark) {\n",
       "    /* Redefinition of color scheme for dark theme */\n",
       "    --sklearn-color-text-on-default-background: var(--sg-text-color, var(--theme-code-foreground, var(--jp-content-font-color1, white)));\n",
       "    --sklearn-color-background: var(--sg-background-color, var(--theme-background, var(--jp-layout-color0, #111)));\n",
       "    --sklearn-color-border-box: var(--sg-text-color, var(--theme-code-foreground, var(--jp-content-font-color1, white)));\n",
       "    --sklearn-color-icon: #878787;\n",
       "  }\n",
       "}\n",
       "\n",
       "#sk-container-id-2 {\n",
       "  color: var(--sklearn-color-text);\n",
       "}\n",
       "\n",
       "#sk-container-id-2 pre {\n",
       "  padding: 0;\n",
       "}\n",
       "\n",
       "#sk-container-id-2 input.sk-hidden--visually {\n",
       "  border: 0;\n",
       "  clip: rect(1px 1px 1px 1px);\n",
       "  clip: rect(1px, 1px, 1px, 1px);\n",
       "  height: 1px;\n",
       "  margin: -1px;\n",
       "  overflow: hidden;\n",
       "  padding: 0;\n",
       "  position: absolute;\n",
       "  width: 1px;\n",
       "}\n",
       "\n",
       "#sk-container-id-2 div.sk-dashed-wrapped {\n",
       "  border: 1px dashed var(--sklearn-color-line);\n",
       "  margin: 0 0.4em 0.5em 0.4em;\n",
       "  box-sizing: border-box;\n",
       "  padding-bottom: 0.4em;\n",
       "  background-color: var(--sklearn-color-background);\n",
       "}\n",
       "\n",
       "#sk-container-id-2 div.sk-container {\n",
       "  /* jupyter's `normalize.less` sets `[hidden] { display: none; }`\n",
       "     but bootstrap.min.css set `[hidden] { display: none !important; }`\n",
       "     so we also need the `!important` here to be able to override the\n",
       "     default hidden behavior on the sphinx rendered scikit-learn.org.\n",
       "     See: https://github.com/scikit-learn/scikit-learn/issues/21755 */\n",
       "  display: inline-block !important;\n",
       "  position: relative;\n",
       "}\n",
       "\n",
       "#sk-container-id-2 div.sk-text-repr-fallback {\n",
       "  display: none;\n",
       "}\n",
       "\n",
       "div.sk-parallel-item,\n",
       "div.sk-serial,\n",
       "div.sk-item {\n",
       "  /* draw centered vertical line to link estimators */\n",
       "  background-image: linear-gradient(var(--sklearn-color-text-on-default-background), var(--sklearn-color-text-on-default-background));\n",
       "  background-size: 2px 100%;\n",
       "  background-repeat: no-repeat;\n",
       "  background-position: center center;\n",
       "}\n",
       "\n",
       "/* Parallel-specific style estimator block */\n",
       "\n",
       "#sk-container-id-2 div.sk-parallel-item::after {\n",
       "  content: \"\";\n",
       "  width: 100%;\n",
       "  border-bottom: 2px solid var(--sklearn-color-text-on-default-background);\n",
       "  flex-grow: 1;\n",
       "}\n",
       "\n",
       "#sk-container-id-2 div.sk-parallel {\n",
       "  display: flex;\n",
       "  align-items: stretch;\n",
       "  justify-content: center;\n",
       "  background-color: var(--sklearn-color-background);\n",
       "  position: relative;\n",
       "}\n",
       "\n",
       "#sk-container-id-2 div.sk-parallel-item {\n",
       "  display: flex;\n",
       "  flex-direction: column;\n",
       "}\n",
       "\n",
       "#sk-container-id-2 div.sk-parallel-item:first-child::after {\n",
       "  align-self: flex-end;\n",
       "  width: 50%;\n",
       "}\n",
       "\n",
       "#sk-container-id-2 div.sk-parallel-item:last-child::after {\n",
       "  align-self: flex-start;\n",
       "  width: 50%;\n",
       "}\n",
       "\n",
       "#sk-container-id-2 div.sk-parallel-item:only-child::after {\n",
       "  width: 0;\n",
       "}\n",
       "\n",
       "/* Serial-specific style estimator block */\n",
       "\n",
       "#sk-container-id-2 div.sk-serial {\n",
       "  display: flex;\n",
       "  flex-direction: column;\n",
       "  align-items: center;\n",
       "  background-color: var(--sklearn-color-background);\n",
       "  padding-right: 1em;\n",
       "  padding-left: 1em;\n",
       "}\n",
       "\n",
       "\n",
       "/* Toggleable style: style used for estimator/Pipeline/ColumnTransformer box that is\n",
       "clickable and can be expanded/collapsed.\n",
       "- Pipeline and ColumnTransformer use this feature and define the default style\n",
       "- Estimators will overwrite some part of the style using the `sk-estimator` class\n",
       "*/\n",
       "\n",
       "/* Pipeline and ColumnTransformer style (default) */\n",
       "\n",
       "#sk-container-id-2 div.sk-toggleable {\n",
       "  /* Default theme specific background. It is overwritten whether we have a\n",
       "  specific estimator or a Pipeline/ColumnTransformer */\n",
       "  background-color: var(--sklearn-color-background);\n",
       "}\n",
       "\n",
       "/* Toggleable label */\n",
       "#sk-container-id-2 label.sk-toggleable__label {\n",
       "  cursor: pointer;\n",
       "  display: flex;\n",
       "  width: 100%;\n",
       "  margin-bottom: 0;\n",
       "  padding: 0.5em;\n",
       "  box-sizing: border-box;\n",
       "  text-align: center;\n",
       "  align-items: start;\n",
       "  justify-content: space-between;\n",
       "  gap: 0.5em;\n",
       "}\n",
       "\n",
       "#sk-container-id-2 label.sk-toggleable__label .caption {\n",
       "  font-size: 0.6rem;\n",
       "  font-weight: lighter;\n",
       "  color: var(--sklearn-color-text-muted);\n",
       "}\n",
       "\n",
       "#sk-container-id-2 label.sk-toggleable__label-arrow:before {\n",
       "  /* Arrow on the left of the label */\n",
       "  content: \"▸\";\n",
       "  float: left;\n",
       "  margin-right: 0.25em;\n",
       "  color: var(--sklearn-color-icon);\n",
       "}\n",
       "\n",
       "#sk-container-id-2 label.sk-toggleable__label-arrow:hover:before {\n",
       "  color: var(--sklearn-color-text);\n",
       "}\n",
       "\n",
       "/* Toggleable content - dropdown */\n",
       "\n",
       "#sk-container-id-2 div.sk-toggleable__content {\n",
       "  max-height: 0;\n",
       "  max-width: 0;\n",
       "  overflow: hidden;\n",
       "  text-align: left;\n",
       "  /* unfitted */\n",
       "  background-color: var(--sklearn-color-unfitted-level-0);\n",
       "}\n",
       "\n",
       "#sk-container-id-2 div.sk-toggleable__content.fitted {\n",
       "  /* fitted */\n",
       "  background-color: var(--sklearn-color-fitted-level-0);\n",
       "}\n",
       "\n",
       "#sk-container-id-2 div.sk-toggleable__content pre {\n",
       "  margin: 0.2em;\n",
       "  border-radius: 0.25em;\n",
       "  color: var(--sklearn-color-text);\n",
       "  /* unfitted */\n",
       "  background-color: var(--sklearn-color-unfitted-level-0);\n",
       "}\n",
       "\n",
       "#sk-container-id-2 div.sk-toggleable__content.fitted pre {\n",
       "  /* unfitted */\n",
       "  background-color: var(--sklearn-color-fitted-level-0);\n",
       "}\n",
       "\n",
       "#sk-container-id-2 input.sk-toggleable__control:checked~div.sk-toggleable__content {\n",
       "  /* Expand drop-down */\n",
       "  max-height: 200px;\n",
       "  max-width: 100%;\n",
       "  overflow: auto;\n",
       "}\n",
       "\n",
       "#sk-container-id-2 input.sk-toggleable__control:checked~label.sk-toggleable__label-arrow:before {\n",
       "  content: \"▾\";\n",
       "}\n",
       "\n",
       "/* Pipeline/ColumnTransformer-specific style */\n",
       "\n",
       "#sk-container-id-2 div.sk-label input.sk-toggleable__control:checked~label.sk-toggleable__label {\n",
       "  color: var(--sklearn-color-text);\n",
       "  background-color: var(--sklearn-color-unfitted-level-2);\n",
       "}\n",
       "\n",
       "#sk-container-id-2 div.sk-label.fitted input.sk-toggleable__control:checked~label.sk-toggleable__label {\n",
       "  background-color: var(--sklearn-color-fitted-level-2);\n",
       "}\n",
       "\n",
       "/* Estimator-specific style */\n",
       "\n",
       "/* Colorize estimator box */\n",
       "#sk-container-id-2 div.sk-estimator input.sk-toggleable__control:checked~label.sk-toggleable__label {\n",
       "  /* unfitted */\n",
       "  background-color: var(--sklearn-color-unfitted-level-2);\n",
       "}\n",
       "\n",
       "#sk-container-id-2 div.sk-estimator.fitted input.sk-toggleable__control:checked~label.sk-toggleable__label {\n",
       "  /* fitted */\n",
       "  background-color: var(--sklearn-color-fitted-level-2);\n",
       "}\n",
       "\n",
       "#sk-container-id-2 div.sk-label label.sk-toggleable__label,\n",
       "#sk-container-id-2 div.sk-label label {\n",
       "  /* The background is the default theme color */\n",
       "  color: var(--sklearn-color-text-on-default-background);\n",
       "}\n",
       "\n",
       "/* On hover, darken the color of the background */\n",
       "#sk-container-id-2 div.sk-label:hover label.sk-toggleable__label {\n",
       "  color: var(--sklearn-color-text);\n",
       "  background-color: var(--sklearn-color-unfitted-level-2);\n",
       "}\n",
       "\n",
       "/* Label box, darken color on hover, fitted */\n",
       "#sk-container-id-2 div.sk-label.fitted:hover label.sk-toggleable__label.fitted {\n",
       "  color: var(--sklearn-color-text);\n",
       "  background-color: var(--sklearn-color-fitted-level-2);\n",
       "}\n",
       "\n",
       "/* Estimator label */\n",
       "\n",
       "#sk-container-id-2 div.sk-label label {\n",
       "  font-family: monospace;\n",
       "  font-weight: bold;\n",
       "  display: inline-block;\n",
       "  line-height: 1.2em;\n",
       "}\n",
       "\n",
       "#sk-container-id-2 div.sk-label-container {\n",
       "  text-align: center;\n",
       "}\n",
       "\n",
       "/* Estimator-specific */\n",
       "#sk-container-id-2 div.sk-estimator {\n",
       "  font-family: monospace;\n",
       "  border: 1px dotted var(--sklearn-color-border-box);\n",
       "  border-radius: 0.25em;\n",
       "  box-sizing: border-box;\n",
       "  margin-bottom: 0.5em;\n",
       "  /* unfitted */\n",
       "  background-color: var(--sklearn-color-unfitted-level-0);\n",
       "}\n",
       "\n",
       "#sk-container-id-2 div.sk-estimator.fitted {\n",
       "  /* fitted */\n",
       "  background-color: var(--sklearn-color-fitted-level-0);\n",
       "}\n",
       "\n",
       "/* on hover */\n",
       "#sk-container-id-2 div.sk-estimator:hover {\n",
       "  /* unfitted */\n",
       "  background-color: var(--sklearn-color-unfitted-level-2);\n",
       "}\n",
       "\n",
       "#sk-container-id-2 div.sk-estimator.fitted:hover {\n",
       "  /* fitted */\n",
       "  background-color: var(--sklearn-color-fitted-level-2);\n",
       "}\n",
       "\n",
       "/* Specification for estimator info (e.g. \"i\" and \"?\") */\n",
       "\n",
       "/* Common style for \"i\" and \"?\" */\n",
       "\n",
       ".sk-estimator-doc-link,\n",
       "a:link.sk-estimator-doc-link,\n",
       "a:visited.sk-estimator-doc-link {\n",
       "  float: right;\n",
       "  font-size: smaller;\n",
       "  line-height: 1em;\n",
       "  font-family: monospace;\n",
       "  background-color: var(--sklearn-color-background);\n",
       "  border-radius: 1em;\n",
       "  height: 1em;\n",
       "  width: 1em;\n",
       "  text-decoration: none !important;\n",
       "  margin-left: 0.5em;\n",
       "  text-align: center;\n",
       "  /* unfitted */\n",
       "  border: var(--sklearn-color-unfitted-level-1) 1pt solid;\n",
       "  color: var(--sklearn-color-unfitted-level-1);\n",
       "}\n",
       "\n",
       ".sk-estimator-doc-link.fitted,\n",
       "a:link.sk-estimator-doc-link.fitted,\n",
       "a:visited.sk-estimator-doc-link.fitted {\n",
       "  /* fitted */\n",
       "  border: var(--sklearn-color-fitted-level-1) 1pt solid;\n",
       "  color: var(--sklearn-color-fitted-level-1);\n",
       "}\n",
       "\n",
       "/* On hover */\n",
       "div.sk-estimator:hover .sk-estimator-doc-link:hover,\n",
       ".sk-estimator-doc-link:hover,\n",
       "div.sk-label-container:hover .sk-estimator-doc-link:hover,\n",
       ".sk-estimator-doc-link:hover {\n",
       "  /* unfitted */\n",
       "  background-color: var(--sklearn-color-unfitted-level-3);\n",
       "  color: var(--sklearn-color-background);\n",
       "  text-decoration: none;\n",
       "}\n",
       "\n",
       "div.sk-estimator.fitted:hover .sk-estimator-doc-link.fitted:hover,\n",
       ".sk-estimator-doc-link.fitted:hover,\n",
       "div.sk-label-container:hover .sk-estimator-doc-link.fitted:hover,\n",
       ".sk-estimator-doc-link.fitted:hover {\n",
       "  /* fitted */\n",
       "  background-color: var(--sklearn-color-fitted-level-3);\n",
       "  color: var(--sklearn-color-background);\n",
       "  text-decoration: none;\n",
       "}\n",
       "\n",
       "/* Span, style for the box shown on hovering the info icon */\n",
       ".sk-estimator-doc-link span {\n",
       "  display: none;\n",
       "  z-index: 9999;\n",
       "  position: relative;\n",
       "  font-weight: normal;\n",
       "  right: .2ex;\n",
       "  padding: .5ex;\n",
       "  margin: .5ex;\n",
       "  width: min-content;\n",
       "  min-width: 20ex;\n",
       "  max-width: 50ex;\n",
       "  color: var(--sklearn-color-text);\n",
       "  box-shadow: 2pt 2pt 4pt #999;\n",
       "  /* unfitted */\n",
       "  background: var(--sklearn-color-unfitted-level-0);\n",
       "  border: .5pt solid var(--sklearn-color-unfitted-level-3);\n",
       "}\n",
       "\n",
       ".sk-estimator-doc-link.fitted span {\n",
       "  /* fitted */\n",
       "  background: var(--sklearn-color-fitted-level-0);\n",
       "  border: var(--sklearn-color-fitted-level-3);\n",
       "}\n",
       "\n",
       ".sk-estimator-doc-link:hover span {\n",
       "  display: block;\n",
       "}\n",
       "\n",
       "/* \"?\"-specific style due to the `<a>` HTML tag */\n",
       "\n",
       "#sk-container-id-2 a.estimator_doc_link {\n",
       "  float: right;\n",
       "  font-size: 1rem;\n",
       "  line-height: 1em;\n",
       "  font-family: monospace;\n",
       "  background-color: var(--sklearn-color-background);\n",
       "  border-radius: 1rem;\n",
       "  height: 1rem;\n",
       "  width: 1rem;\n",
       "  text-decoration: none;\n",
       "  /* unfitted */\n",
       "  color: var(--sklearn-color-unfitted-level-1);\n",
       "  border: var(--sklearn-color-unfitted-level-1) 1pt solid;\n",
       "}\n",
       "\n",
       "#sk-container-id-2 a.estimator_doc_link.fitted {\n",
       "  /* fitted */\n",
       "  border: var(--sklearn-color-fitted-level-1) 1pt solid;\n",
       "  color: var(--sklearn-color-fitted-level-1);\n",
       "}\n",
       "\n",
       "/* On hover */\n",
       "#sk-container-id-2 a.estimator_doc_link:hover {\n",
       "  /* unfitted */\n",
       "  background-color: var(--sklearn-color-unfitted-level-3);\n",
       "  color: var(--sklearn-color-background);\n",
       "  text-decoration: none;\n",
       "}\n",
       "\n",
       "#sk-container-id-2 a.estimator_doc_link.fitted:hover {\n",
       "  /* fitted */\n",
       "  background-color: var(--sklearn-color-fitted-level-3);\n",
       "}\n",
       "</style><div id=\"sk-container-id-2\" class=\"sk-top-container\"><div class=\"sk-text-repr-fallback\"><pre>Pipeline(steps=[(&#x27;preproc&#x27;,\n",
       "                 ColumnTransformer(transformers=[(&#x27;numeric&#x27;, StandardScaler(),\n",
       "                                                  [&#x27;dayofmonth&#x27;, &#x27;dayofweek&#x27;,\n",
       "                                                   &#x27;dayofyear&#x27;, &#x27;weekofyear&#x27;,\n",
       "                                                   &#x27;month&#x27;, &#x27;quarter&#x27;, &#x27;year&#x27;,\n",
       "                                                   &#x27;pm_lag_1Y&#x27;, &#x27;pm_lag_1M&#x27;,\n",
       "                                                   &#x27;pm_lag_1W&#x27;, &#x27;co_lag_1Y&#x27;,\n",
       "                                                   &#x27;co_lag_1M&#x27;, &#x27;co_lag_1W&#x27;,\n",
       "                                                   &#x27;o3_lag_1Y&#x27;, &#x27;o3_lag_1M&#x27;,\n",
       "                                                   &#x27;o3_lag_1W&#x27;, &#x27;pm10_lag_1Y&#x27;,\n",
       "                                                   &#x27;so2_lag_1Y&#x27;, &#x27;no2_lag_1Y&#x27;,\n",
       "                                                   &#x27;pm10_lag_1M&#x27;, &#x27;so2_lag_1M&#x27;,\n",
       "                                                   &#x27;no2_lag_1M&#x27;, &#x27;pm10_lag_1W&#x27;,\n",
       "                                                   &#x27;so2_lag_1W&#x27;, &#x27;no2_lag_1W&#x27;,\n",
       "                                                   &#x27;pm_lag_1D&#x27;, &#x27;co_lag_1D&#x27;,\n",
       "                                                   &#x27;o3_lag_1D&#x27;, &#x27;pm10_lag_1D&#x27;,\n",
       "                                                   &#x27;so2_lag_1D&#x27;, ...]),\n",
       "                                                 (&#x27;categorical&#x27;,\n",
       "                                                  OneHotEncoder(handle_unknown=&#x27;ignore&#x27;),\n",
       "                                                  [&#x27;state&#x27;])])),\n",
       "                (&#x27;poly&#x27;,\n",
       "                 PolynomialFeatures(include_bias=False, interaction_only=True)),\n",
       "                (&#x27;regr&#x27;, Ridge(alpha=1, max_iter=10000))])</pre><b>In a Jupyter environment, please rerun this cell to show the HTML representation or trust the notebook. <br />On GitHub, the HTML representation is unable to render, please try loading this page with nbviewer.org.</b></div><div class=\"sk-container\" hidden><div class=\"sk-item sk-dashed-wrapped\"><div class=\"sk-label-container\"><div class=\"sk-label fitted sk-toggleable\"><input class=\"sk-toggleable__control sk-hidden--visually\" id=\"sk-estimator-id-8\" type=\"checkbox\" ><label for=\"sk-estimator-id-8\" class=\"sk-toggleable__label fitted sk-toggleable__label-arrow\"><div><div>Pipeline</div></div><div><a class=\"sk-estimator-doc-link fitted\" rel=\"noreferrer\" target=\"_blank\" href=\"https://scikit-learn.org/1.6/modules/generated/sklearn.pipeline.Pipeline.html\">?<span>Documentation for Pipeline</span></a><span class=\"sk-estimator-doc-link fitted\">i<span>Fitted</span></span></div></label><div class=\"sk-toggleable__content fitted\"><pre>Pipeline(steps=[(&#x27;preproc&#x27;,\n",
       "                 ColumnTransformer(transformers=[(&#x27;numeric&#x27;, StandardScaler(),\n",
       "                                                  [&#x27;dayofmonth&#x27;, &#x27;dayofweek&#x27;,\n",
       "                                                   &#x27;dayofyear&#x27;, &#x27;weekofyear&#x27;,\n",
       "                                                   &#x27;month&#x27;, &#x27;quarter&#x27;, &#x27;year&#x27;,\n",
       "                                                   &#x27;pm_lag_1Y&#x27;, &#x27;pm_lag_1M&#x27;,\n",
       "                                                   &#x27;pm_lag_1W&#x27;, &#x27;co_lag_1Y&#x27;,\n",
       "                                                   &#x27;co_lag_1M&#x27;, &#x27;co_lag_1W&#x27;,\n",
       "                                                   &#x27;o3_lag_1Y&#x27;, &#x27;o3_lag_1M&#x27;,\n",
       "                                                   &#x27;o3_lag_1W&#x27;, &#x27;pm10_lag_1Y&#x27;,\n",
       "                                                   &#x27;so2_lag_1Y&#x27;, &#x27;no2_lag_1Y&#x27;,\n",
       "                                                   &#x27;pm10_lag_1M&#x27;, &#x27;so2_lag_1M&#x27;,\n",
       "                                                   &#x27;no2_lag_1M&#x27;, &#x27;pm10_lag_1W&#x27;,\n",
       "                                                   &#x27;so2_lag_1W&#x27;, &#x27;no2_lag_1W&#x27;,\n",
       "                                                   &#x27;pm_lag_1D&#x27;, &#x27;co_lag_1D&#x27;,\n",
       "                                                   &#x27;o3_lag_1D&#x27;, &#x27;pm10_lag_1D&#x27;,\n",
       "                                                   &#x27;so2_lag_1D&#x27;, ...]),\n",
       "                                                 (&#x27;categorical&#x27;,\n",
       "                                                  OneHotEncoder(handle_unknown=&#x27;ignore&#x27;),\n",
       "                                                  [&#x27;state&#x27;])])),\n",
       "                (&#x27;poly&#x27;,\n",
       "                 PolynomialFeatures(include_bias=False, interaction_only=True)),\n",
       "                (&#x27;regr&#x27;, Ridge(alpha=1, max_iter=10000))])</pre></div> </div></div><div class=\"sk-serial\"><div class=\"sk-item sk-dashed-wrapped\"><div class=\"sk-label-container\"><div class=\"sk-label fitted sk-toggleable\"><input class=\"sk-toggleable__control sk-hidden--visually\" id=\"sk-estimator-id-9\" type=\"checkbox\" ><label for=\"sk-estimator-id-9\" class=\"sk-toggleable__label fitted sk-toggleable__label-arrow\"><div><div>preproc: ColumnTransformer</div></div><div><a class=\"sk-estimator-doc-link fitted\" rel=\"noreferrer\" target=\"_blank\" href=\"https://scikit-learn.org/1.6/modules/generated/sklearn.compose.ColumnTransformer.html\">?<span>Documentation for preproc: ColumnTransformer</span></a></div></label><div class=\"sk-toggleable__content fitted\"><pre>ColumnTransformer(transformers=[(&#x27;numeric&#x27;, StandardScaler(),\n",
       "                                 [&#x27;dayofmonth&#x27;, &#x27;dayofweek&#x27;, &#x27;dayofyear&#x27;,\n",
       "                                  &#x27;weekofyear&#x27;, &#x27;month&#x27;, &#x27;quarter&#x27;, &#x27;year&#x27;,\n",
       "                                  &#x27;pm_lag_1Y&#x27;, &#x27;pm_lag_1M&#x27;, &#x27;pm_lag_1W&#x27;,\n",
       "                                  &#x27;co_lag_1Y&#x27;, &#x27;co_lag_1M&#x27;, &#x27;co_lag_1W&#x27;,\n",
       "                                  &#x27;o3_lag_1Y&#x27;, &#x27;o3_lag_1M&#x27;, &#x27;o3_lag_1W&#x27;,\n",
       "                                  &#x27;pm10_lag_1Y&#x27;, &#x27;so2_lag_1Y&#x27;, &#x27;no2_lag_1Y&#x27;,\n",
       "                                  &#x27;pm10_lag_1M&#x27;, &#x27;so2_lag_1M&#x27;, &#x27;no2_lag_1M&#x27;,\n",
       "                                  &#x27;pm10_lag_1W&#x27;, &#x27;so2_lag_1W&#x27;, &#x27;no2_lag_1W&#x27;,\n",
       "                                  &#x27;pm_lag_1D&#x27;, &#x27;co_lag_1D&#x27;, &#x27;o3_lag_1D&#x27;,\n",
       "                                  &#x27;pm10_lag_1D&#x27;, &#x27;so2_lag_1D&#x27;, ...]),\n",
       "                                (&#x27;categorical&#x27;,\n",
       "                                 OneHotEncoder(handle_unknown=&#x27;ignore&#x27;),\n",
       "                                 [&#x27;state&#x27;])])</pre></div> </div></div><div class=\"sk-parallel\"><div class=\"sk-parallel-item\"><div class=\"sk-item\"><div class=\"sk-label-container\"><div class=\"sk-label fitted sk-toggleable\"><input class=\"sk-toggleable__control sk-hidden--visually\" id=\"sk-estimator-id-10\" type=\"checkbox\" ><label for=\"sk-estimator-id-10\" class=\"sk-toggleable__label fitted sk-toggleable__label-arrow\"><div><div>numeric</div></div></label><div class=\"sk-toggleable__content fitted\"><pre>[&#x27;dayofmonth&#x27;, &#x27;dayofweek&#x27;, &#x27;dayofyear&#x27;, &#x27;weekofyear&#x27;, &#x27;month&#x27;, &#x27;quarter&#x27;, &#x27;year&#x27;, &#x27;pm_lag_1Y&#x27;, &#x27;pm_lag_1M&#x27;, &#x27;pm_lag_1W&#x27;, &#x27;co_lag_1Y&#x27;, &#x27;co_lag_1M&#x27;, &#x27;co_lag_1W&#x27;, &#x27;o3_lag_1Y&#x27;, &#x27;o3_lag_1M&#x27;, &#x27;o3_lag_1W&#x27;, &#x27;pm10_lag_1Y&#x27;, &#x27;so2_lag_1Y&#x27;, &#x27;no2_lag_1Y&#x27;, &#x27;pm10_lag_1M&#x27;, &#x27;so2_lag_1M&#x27;, &#x27;no2_lag_1M&#x27;, &#x27;pm10_lag_1W&#x27;, &#x27;so2_lag_1W&#x27;, &#x27;no2_lag_1W&#x27;, &#x27;pm_lag_1D&#x27;, &#x27;co_lag_1D&#x27;, &#x27;o3_lag_1D&#x27;, &#x27;pm10_lag_1D&#x27;, &#x27;so2_lag_1D&#x27;, &#x27;no2_lag_1D&#x27;, &#x27;pm_lag_2D&#x27;, &#x27;co_lag_2D&#x27;, &#x27;o3_lag_2D&#x27;, &#x27;pm10_lag_2D&#x27;, &#x27;so2_lag_2D&#x27;, &#x27;no2_lag_2D&#x27;, &#x27;pm_lag_3D&#x27;, &#x27;co_lag_3D&#x27;, &#x27;o3_lag_3D&#x27;, &#x27;pm10_lag_3D&#x27;, &#x27;so2_lag_3D&#x27;, &#x27;no2_lag_3D&#x27;]</pre></div> </div></div><div class=\"sk-serial\"><div class=\"sk-item\"><div class=\"sk-estimator fitted sk-toggleable\"><input class=\"sk-toggleable__control sk-hidden--visually\" id=\"sk-estimator-id-11\" type=\"checkbox\" ><label for=\"sk-estimator-id-11\" class=\"sk-toggleable__label fitted sk-toggleable__label-arrow\"><div><div>StandardScaler</div></div><div><a class=\"sk-estimator-doc-link fitted\" rel=\"noreferrer\" target=\"_blank\" href=\"https://scikit-learn.org/1.6/modules/generated/sklearn.preprocessing.StandardScaler.html\">?<span>Documentation for StandardScaler</span></a></div></label><div class=\"sk-toggleable__content fitted\"><pre>StandardScaler()</pre></div> </div></div></div></div></div><div class=\"sk-parallel-item\"><div class=\"sk-item\"><div class=\"sk-label-container\"><div class=\"sk-label fitted sk-toggleable\"><input class=\"sk-toggleable__control sk-hidden--visually\" id=\"sk-estimator-id-12\" type=\"checkbox\" ><label for=\"sk-estimator-id-12\" class=\"sk-toggleable__label fitted sk-toggleable__label-arrow\"><div><div>categorical</div></div></label><div class=\"sk-toggleable__content fitted\"><pre>[&#x27;state&#x27;]</pre></div> </div></div><div class=\"sk-serial\"><div class=\"sk-item\"><div class=\"sk-estimator fitted sk-toggleable\"><input class=\"sk-toggleable__control sk-hidden--visually\" id=\"sk-estimator-id-13\" type=\"checkbox\" ><label for=\"sk-estimator-id-13\" class=\"sk-toggleable__label fitted sk-toggleable__label-arrow\"><div><div>OneHotEncoder</div></div><div><a class=\"sk-estimator-doc-link fitted\" rel=\"noreferrer\" target=\"_blank\" href=\"https://scikit-learn.org/1.6/modules/generated/sklearn.preprocessing.OneHotEncoder.html\">?<span>Documentation for OneHotEncoder</span></a></div></label><div class=\"sk-toggleable__content fitted\"><pre>OneHotEncoder(handle_unknown=&#x27;ignore&#x27;)</pre></div> </div></div></div></div></div></div></div><div class=\"sk-item\"><div class=\"sk-estimator fitted sk-toggleable\"><input class=\"sk-toggleable__control sk-hidden--visually\" id=\"sk-estimator-id-14\" type=\"checkbox\" ><label for=\"sk-estimator-id-14\" class=\"sk-toggleable__label fitted sk-toggleable__label-arrow\"><div><div>PolynomialFeatures</div></div><div><a class=\"sk-estimator-doc-link fitted\" rel=\"noreferrer\" target=\"_blank\" href=\"https://scikit-learn.org/1.6/modules/generated/sklearn.preprocessing.PolynomialFeatures.html\">?<span>Documentation for PolynomialFeatures</span></a></div></label><div class=\"sk-toggleable__content fitted\"><pre>PolynomialFeatures(include_bias=False, interaction_only=True)</pre></div> </div></div><div class=\"sk-item\"><div class=\"sk-estimator fitted sk-toggleable\"><input class=\"sk-toggleable__control sk-hidden--visually\" id=\"sk-estimator-id-15\" type=\"checkbox\" ><label for=\"sk-estimator-id-15\" class=\"sk-toggleable__label fitted sk-toggleable__label-arrow\"><div><div>Ridge</div></div><div><a class=\"sk-estimator-doc-link fitted\" rel=\"noreferrer\" target=\"_blank\" href=\"https://scikit-learn.org/1.6/modules/generated/sklearn.linear_model.Ridge.html\">?<span>Documentation for Ridge</span></a></div></label><div class=\"sk-toggleable__content fitted\"><pre>Ridge(alpha=1, max_iter=10000)</pre></div> </div></div></div></div></div></div>"
      ],
      "text/plain": [
       "Pipeline(steps=[('preproc',\n",
       "                 ColumnTransformer(transformers=[('numeric', StandardScaler(),\n",
       "                                                  ['dayofmonth', 'dayofweek',\n",
       "                                                   'dayofyear', 'weekofyear',\n",
       "                                                   'month', 'quarter', 'year',\n",
       "                                                   'pm_lag_1Y', 'pm_lag_1M',\n",
       "                                                   'pm_lag_1W', 'co_lag_1Y',\n",
       "                                                   'co_lag_1M', 'co_lag_1W',\n",
       "                                                   'o3_lag_1Y', 'o3_lag_1M',\n",
       "                                                   'o3_lag_1W', 'pm10_lag_1Y',\n",
       "                                                   'so2_lag_1Y', 'no2_lag_1Y',\n",
       "                                                   'pm10_lag_1M', 'so2_lag_1M',\n",
       "                                                   'no2_lag_1M', 'pm10_lag_1W',\n",
       "                                                   'so2_lag_1W', 'no2_lag_1W',\n",
       "                                                   'pm_lag_1D', 'co_lag_1D',\n",
       "                                                   'o3_lag_1D', 'pm10_lag_1D',\n",
       "                                                   'so2_lag_1D', ...]),\n",
       "                                                 ('categorical',\n",
       "                                                  OneHotEncoder(handle_unknown='ignore'),\n",
       "                                                  ['state'])])),\n",
       "                ('poly',\n",
       "                 PolynomialFeatures(include_bias=False, interaction_only=True)),\n",
       "                ('regr', Ridge(alpha=1, max_iter=10000))])"
      ]
     },
     "execution_count": 26,
     "metadata": {},
     "output_type": "execute_result"
    }
   ],
   "source": [
    "%time model.fit(X_train, y_train)"
   ]
  },
  {
   "cell_type": "markdown",
   "metadata": {
    "id": "7CqjLtbdlVi0"
   },
   "source": [
    "### Hyperparameter Tuning per Regressione Ridge\n",
    "\n",
    "Per ottimizzare il livello di regolarizzazione, viene eseguita una ricerca esaustiva (`GridSearchCV`) su una griglia di 8 valori di `alpha`, distribuiti in scala logaritmica. \\\n",
    "Questa procedura consente di valutare sistematicamente tutte le combinazioni possibili specificate nella griglia, garantendo una ricerca completa. \\\n",
    "Al termine della grid search, viene selezionato il modello con il valore di `alpha` che ha ottenuto la miglior media delle performance sui fold di validazione."
   ]
  },
  {
   "cell_type": "code",
   "execution_count": 27,
   "metadata": {
    "id": "SgQaK1ijlVi2"
   },
   "outputs": [],
   "source": [
    "alphas = np.logspace(-2, 4, num=8)\n",
    "grid = {\"regr__alpha\": alphas}\n",
    "gs = GridSearchCV(model, grid, cv=tscv, n_jobs=N_JOBS)"
   ]
  },
  {
   "cell_type": "code",
   "execution_count": 28,
   "metadata": {
    "colab": {
     "base_uri": "https://localhost:8080/"
    },
    "id": "mvC3I0kzlVi2",
    "outputId": "c2d9b60f-a13d-4a80-bc85-d1378703e4b1"
   },
   "outputs": [
    {
     "name": "stdout",
     "output_type": "stream",
     "text": [
      "CPU times: total: 2.41 s\n",
      "Wall time: 6.34 s\n",
      "\n"
     ]
    }
   ],
   "source": [
    "%time gs.fit(X_train, y_train)\n",
    "print()"
   ]
  },
  {
   "cell_type": "code",
   "execution_count": 29,
   "metadata": {
    "id": "0nqLv4gglVi2"
   },
   "outputs": [],
   "source": [
    "get_estimator_scores(\"ridge_reg\", gs.best_estimator_)"
   ]
  },
  {
   "cell_type": "markdown",
   "metadata": {
    "id": "CjQLhAIvTQzp"
   },
   "source": [
    "Il grafico seguente mostra l’andamento dello score medio di validazione al variare del parametro `alpha`.  \n",
    "Questa visualizzazione aiuta a comprendere l’impatto della regolarizzazione L2 sul modello:\n",
    "\n",
    "- **Basso alpha**: rischio di overfitting;\n",
    "- **Alto alpha**: rischio di underfitting."
   ]
  },
  {
   "cell_type": "code",
   "execution_count": 30,
   "metadata": {
    "id": "JJEkBHpTlVi2"
   },
   "outputs": [],
   "source": [
    "results = pd.DataFrame(gs.cv_results_)[[\"param_regr__alpha\", \"mean_test_score\"]]"
   ]
  },
  {
   "cell_type": "code",
   "execution_count": 31,
   "metadata": {
    "colab": {
     "base_uri": "https://localhost:8080/",
     "height": 484
    },
    "id": "LdyidkgYlVi3",
    "outputId": "abfaf046-ee03-4f24-a74c-d63d937f0a3f"
   },
   "outputs": [
    {
     "data": {
      "image/png": "[encoded data removed]",
      "text/plain": [
       "<Figure size 640x480 with 1 Axes>"
      ]
     },
     "metadata": {},
     "output_type": "display_data"
    }
   ],
   "source": [
    "plt.plot(results[\"param_regr__alpha\"], results[\"mean_test_score\"])\n",
    "plt.xscale('log')\n",
    "plt.xlabel('alpha')\n",
    "plt.ylabel('score')\n",
    "plt.title('Grafico al variare della regolarizzazione')\n",
    "plt.show()"
   ]
  },
  {
   "cell_type": "markdown",
   "metadata": {
    "id": "aXwTWsC2lVi3"
   },
   "source": [
    "## Regressione Elastic Net\n",
    "\n",
    "La regressione Elastic Net combina la regolarizzazione L1 e L2 all'interno di un unico modello. \\\n",
    "Questa tecnica è particolarmente utile quando si lavora con feature numerose e potenzialmente correlate, poiché unisce i vantaggi della selezione automatica delle variabili (L1) con la stabilità della penalizzazione L2."
   ]
  },
  {
   "cell_type": "code",
   "execution_count": 32,
   "metadata": {
    "id": "NE5PXsuelVi3"
   },
   "outputs": [],
   "source": [
    "model = Pipeline([\n",
    "    (\"preproc\", preprocessor),\n",
    "    (\"poly\",   PolynomialFeatures(degree=2, include_bias=False, interaction_only=True)),\n",
    "    (\"regr\", ElasticNet(alpha=0.2, l1_ratio=0.1))\n",
    "])"
   ]
  },
  {
   "cell_type": "code",
   "execution_count": 33,
   "metadata": {
    "colab": {
     "base_uri": "https://localhost:8080/",
     "height": 324
    },
    "id": "vD_KhUiylVi3",
    "outputId": "d564c9c4-3713-4b90-9e4f-676b05d04d06"
   },
   "outputs": [
    {
     "name": "stdout",
     "output_type": "stream",
     "text": [
      "CPU times: total: 8.88 s\n",
      "Wall time: 6 s\n"
     ]
    },
    {
     "data": {
      "text/html": [
       "<style>#sk-container-id-3 {\n",
       "  /* Definition of color scheme common for light and dark mode */\n",
       "  --sklearn-color-text: #000;\n",
       "  --sklearn-color-text-muted: #666;\n",
       "  --sklearn-color-line: gray;\n",
       "  /* Definition of color scheme for unfitted estimators */\n",
       "  --sklearn-color-unfitted-level-0: #fff5e6;\n",
       "  --sklearn-color-unfitted-level-1: #f6e4d2;\n",
       "  --sklearn-color-unfitted-level-2: #ffe0b3;\n",
       "  --sklearn-color-unfitted-level-3: chocolate;\n",
       "  /* Definition of color scheme for fitted estimators */\n",
       "  --sklearn-color-fitted-level-0: #f0f8ff;\n",
       "  --sklearn-color-fitted-level-1: #d4ebff;\n",
       "  --sklearn-color-fitted-level-2: #b3dbfd;\n",
       "  --sklearn-color-fitted-level-3: cornflowerblue;\n",
       "\n",
       "  /* Specific color for light theme */\n",
       "  --sklearn-color-text-on-default-background: var(--sg-text-color, var(--theme-code-foreground, var(--jp-content-font-color1, black)));\n",
       "  --sklearn-color-background: var(--sg-background-color, var(--theme-background, var(--jp-layout-color0, white)));\n",
       "  --sklearn-color-border-box: var(--sg-text-color, var(--theme-code-foreground, var(--jp-content-font-color1, black)));\n",
       "  --sklearn-color-icon: #696969;\n",
       "\n",
       "  @media (prefers-color-scheme: dark) {\n",
       "    /* Redefinition of color scheme for dark theme */\n",
       "    --sklearn-color-text-on-default-background: var(--sg-text-color, var(--theme-code-foreground, var(--jp-content-font-color1, white)));\n",
       "    --sklearn-color-background: var(--sg-background-color, var(--theme-background, var(--jp-layout-color0, #111)));\n",
       "    --sklearn-color-border-box: var(--sg-text-color, var(--theme-code-foreground, var(--jp-content-font-color1, white)));\n",
       "    --sklearn-color-icon: #878787;\n",
       "  }\n",
       "}\n",
       "\n",
       "#sk-container-id-3 {\n",
       "  color: var(--sklearn-color-text);\n",
       "}\n",
       "\n",
       "#sk-container-id-3 pre {\n",
       "  padding: 0;\n",
       "}\n",
       "\n",
       "#sk-container-id-3 input.sk-hidden--visually {\n",
       "  border: 0;\n",
       "  clip: rect(1px 1px 1px 1px);\n",
       "  clip: rect(1px, 1px, 1px, 1px);\n",
       "  height: 1px;\n",
       "  margin: -1px;\n",
       "  overflow: hidden;\n",
       "  padding: 0;\n",
       "  position: absolute;\n",
       "  width: 1px;\n",
       "}\n",
       "\n",
       "#sk-container-id-3 div.sk-dashed-wrapped {\n",
       "  border: 1px dashed var(--sklearn-color-line);\n",
       "  margin: 0 0.4em 0.5em 0.4em;\n",
       "  box-sizing: border-box;\n",
       "  padding-bottom: 0.4em;\n",
       "  background-color: var(--sklearn-color-background);\n",
       "}\n",
       "\n",
       "#sk-container-id-3 div.sk-container {\n",
       "  /* jupyter's `normalize.less` sets `[hidden] { display: none; }`\n",
       "     but bootstrap.min.css set `[hidden] { display: none !important; }`\n",
       "     so we also need the `!important` here to be able to override the\n",
       "     default hidden behavior on the sphinx rendered scikit-learn.org.\n",
       "     See: https://github.com/scikit-learn/scikit-learn/issues/21755 */\n",
       "  display: inline-block !important;\n",
       "  position: relative;\n",
       "}\n",
       "\n",
       "#sk-container-id-3 div.sk-text-repr-fallback {\n",
       "  display: none;\n",
       "}\n",
       "\n",
       "div.sk-parallel-item,\n",
       "div.sk-serial,\n",
       "div.sk-item {\n",
       "  /* draw centered vertical line to link estimators */\n",
       "  background-image: linear-gradient(var(--sklearn-color-text-on-default-background), var(--sklearn-color-text-on-default-background));\n",
       "  background-size: 2px 100%;\n",
       "  background-repeat: no-repeat;\n",
       "  background-position: center center;\n",
       "}\n",
       "\n",
       "/* Parallel-specific style estimator block */\n",
       "\n",
       "#sk-container-id-3 div.sk-parallel-item::after {\n",
       "  content: \"\";\n",
       "  width: 100%;\n",
       "  border-bottom: 2px solid var(--sklearn-color-text-on-default-background);\n",
       "  flex-grow: 1;\n",
       "}\n",
       "\n",
       "#sk-container-id-3 div.sk-parallel {\n",
       "  display: flex;\n",
       "  align-items: stretch;\n",
       "  justify-content: center;\n",
       "  background-color: var(--sklearn-color-background);\n",
       "  position: relative;\n",
       "}\n",
       "\n",
       "#sk-container-id-3 div.sk-parallel-item {\n",
       "  display: flex;\n",
       "  flex-direction: column;\n",
       "}\n",
       "\n",
       "#sk-container-id-3 div.sk-parallel-item:first-child::after {\n",
       "  align-self: flex-end;\n",
       "  width: 50%;\n",
       "}\n",
       "\n",
       "#sk-container-id-3 div.sk-parallel-item:last-child::after {\n",
       "  align-self: flex-start;\n",
       "  width: 50%;\n",
       "}\n",
       "\n",
       "#sk-container-id-3 div.sk-parallel-item:only-child::after {\n",
       "  width: 0;\n",
       "}\n",
       "\n",
       "/* Serial-specific style estimator block */\n",
       "\n",
       "#sk-container-id-3 div.sk-serial {\n",
       "  display: flex;\n",
       "  flex-direction: column;\n",
       "  align-items: center;\n",
       "  background-color: var(--sklearn-color-background);\n",
       "  padding-right: 1em;\n",
       "  padding-left: 1em;\n",
       "}\n",
       "\n",
       "\n",
       "/* Toggleable style: style used for estimator/Pipeline/ColumnTransformer box that is\n",
       "clickable and can be expanded/collapsed.\n",
       "- Pipeline and ColumnTransformer use this feature and define the default style\n",
       "- Estimators will overwrite some part of the style using the `sk-estimator` class\n",
       "*/\n",
       "\n",
       "/* Pipeline and ColumnTransformer style (default) */\n",
       "\n",
       "#sk-container-id-3 div.sk-toggleable {\n",
       "  /* Default theme specific background. It is overwritten whether we have a\n",
       "  specific estimator or a Pipeline/ColumnTransformer */\n",
       "  background-color: var(--sklearn-color-background);\n",
       "}\n",
       "\n",
       "/* Toggleable label */\n",
       "#sk-container-id-3 label.sk-toggleable__label {\n",
       "  cursor: pointer;\n",
       "  display: flex;\n",
       "  width: 100%;\n",
       "  margin-bottom: 0;\n",
       "  padding: 0.5em;\n",
       "  box-sizing: border-box;\n",
       "  text-align: center;\n",
       "  align-items: start;\n",
       "  justify-content: space-between;\n",
       "  gap: 0.5em;\n",
       "}\n",
       "\n",
       "#sk-container-id-3 label.sk-toggleable__label .caption {\n",
       "  font-size: 0.6rem;\n",
       "  font-weight: lighter;\n",
       "  color: var(--sklearn-color-text-muted);\n",
       "}\n",
       "\n",
       "#sk-container-id-3 label.sk-toggleable__label-arrow:before {\n",
       "  /* Arrow on the left of the label */\n",
       "  content: \"▸\";\n",
       "  float: left;\n",
       "  margin-right: 0.25em;\n",
       "  color: var(--sklearn-color-icon);\n",
       "}\n",
       "\n",
       "#sk-container-id-3 label.sk-toggleable__label-arrow:hover:before {\n",
       "  color: var(--sklearn-color-text);\n",
       "}\n",
       "\n",
       "/* Toggleable content - dropdown */\n",
       "\n",
       "#sk-container-id-3 div.sk-toggleable__content {\n",
       "  max-height: 0;\n",
       "  max-width: 0;\n",
       "  overflow: hidden;\n",
       "  text-align: left;\n",
       "  /* unfitted */\n",
       "  background-color: var(--sklearn-color-unfitted-level-0);\n",
       "}\n",
       "\n",
       "#sk-container-id-3 div.sk-toggleable__content.fitted {\n",
       "  /* fitted */\n",
       "  background-color: var(--sklearn-color-fitted-level-0);\n",
       "}\n",
       "\n",
       "#sk-container-id-3 div.sk-toggleable__content pre {\n",
       "  margin: 0.2em;\n",
       "  border-radius: 0.25em;\n",
       "  color: var(--sklearn-color-text);\n",
       "  /* unfitted */\n",
       "  background-color: var(--sklearn-color-unfitted-level-0);\n",
       "}\n",
       "\n",
       "#sk-container-id-3 div.sk-toggleable__content.fitted pre {\n",
       "  /* unfitted */\n",
       "  background-color: var(--sklearn-color-fitted-level-0);\n",
       "}\n",
       "\n",
       "#sk-container-id-3 input.sk-toggleable__control:checked~div.sk-toggleable__content {\n",
       "  /* Expand drop-down */\n",
       "  max-height: 200px;\n",
       "  max-width: 100%;\n",
       "  overflow: auto;\n",
       "}\n",
       "\n",
       "#sk-container-id-3 input.sk-toggleable__control:checked~label.sk-toggleable__label-arrow:before {\n",
       "  content: \"▾\";\n",
       "}\n",
       "\n",
       "/* Pipeline/ColumnTransformer-specific style */\n",
       "\n",
       "#sk-container-id-3 div.sk-label input.sk-toggleable__control:checked~label.sk-toggleable__label {\n",
       "  color: var(--sklearn-color-text);\n",
       "  background-color: var(--sklearn-color-unfitted-level-2);\n",
       "}\n",
       "\n",
       "#sk-container-id-3 div.sk-label.fitted input.sk-toggleable__control:checked~label.sk-toggleable__label {\n",
       "  background-color: var(--sklearn-color-fitted-level-2);\n",
       "}\n",
       "\n",
       "/* Estimator-specific style */\n",
       "\n",
       "/* Colorize estimator box */\n",
       "#sk-container-id-3 div.sk-estimator input.sk-toggleable__control:checked~label.sk-toggleable__label {\n",
       "  /* unfitted */\n",
       "  background-color: var(--sklearn-color-unfitted-level-2);\n",
       "}\n",
       "\n",
       "#sk-container-id-3 div.sk-estimator.fitted input.sk-toggleable__control:checked~label.sk-toggleable__label {\n",
       "  /* fitted */\n",
       "  background-color: var(--sklearn-color-fitted-level-2);\n",
       "}\n",
       "\n",
       "#sk-container-id-3 div.sk-label label.sk-toggleable__label,\n",
       "#sk-container-id-3 div.sk-label label {\n",
       "  /* The background is the default theme color */\n",
       "  color: var(--sklearn-color-text-on-default-background);\n",
       "}\n",
       "\n",
       "/* On hover, darken the color of the background */\n",
       "#sk-container-id-3 div.sk-label:hover label.sk-toggleable__label {\n",
       "  color: var(--sklearn-color-text);\n",
       "  background-color: var(--sklearn-color-unfitted-level-2);\n",
       "}\n",
       "\n",
       "/* Label box, darken color on hover, fitted */\n",
       "#sk-container-id-3 div.sk-label.fitted:hover label.sk-toggleable__label.fitted {\n",
       "  color: var(--sklearn-color-text);\n",
       "  background-color: var(--sklearn-color-fitted-level-2);\n",
       "}\n",
       "\n",
       "/* Estimator label */\n",
       "\n",
       "#sk-container-id-3 div.sk-label label {\n",
       "  font-family: monospace;\n",
       "  font-weight: bold;\n",
       "  display: inline-block;\n",
       "  line-height: 1.2em;\n",
       "}\n",
       "\n",
       "#sk-container-id-3 div.sk-label-container {\n",
       "  text-align: center;\n",
       "}\n",
       "\n",
       "/* Estimator-specific */\n",
       "#sk-container-id-3 div.sk-estimator {\n",
       "  font-family: monospace;\n",
       "  border: 1px dotted var(--sklearn-color-border-box);\n",
       "  border-radius: 0.25em;\n",
       "  box-sizing: border-box;\n",
       "  margin-bottom: 0.5em;\n",
       "  /* unfitted */\n",
       "  background-color: var(--sklearn-color-unfitted-level-0);\n",
       "}\n",
       "\n",
       "#sk-container-id-3 div.sk-estimator.fitted {\n",
       "  /* fitted */\n",
       "  background-color: var(--sklearn-color-fitted-level-0);\n",
       "}\n",
       "\n",
       "/* on hover */\n",
       "#sk-container-id-3 div.sk-estimator:hover {\n",
       "  /* unfitted */\n",
       "  background-color: var(--sklearn-color-unfitted-level-2);\n",
       "}\n",
       "\n",
       "#sk-container-id-3 div.sk-estimator.fitted:hover {\n",
       "  /* fitted */\n",
       "  background-color: var(--sklearn-color-fitted-level-2);\n",
       "}\n",
       "\n",
       "/* Specification for estimator info (e.g. \"i\" and \"?\") */\n",
       "\n",
       "/* Common style for \"i\" and \"?\" */\n",
       "\n",
       ".sk-estimator-doc-link,\n",
       "a:link.sk-estimator-doc-link,\n",
       "a:visited.sk-estimator-doc-link {\n",
       "  float: right;\n",
       "  font-size: smaller;\n",
       "  line-height: 1em;\n",
       "  font-family: monospace;\n",
       "  background-color: var(--sklearn-color-background);\n",
       "  border-radius: 1em;\n",
       "  height: 1em;\n",
       "  width: 1em;\n",
       "  text-decoration: none !important;\n",
       "  margin-left: 0.5em;\n",
       "  text-align: center;\n",
       "  /* unfitted */\n",
       "  border: var(--sklearn-color-unfitted-level-1) 1pt solid;\n",
       "  color: var(--sklearn-color-unfitted-level-1);\n",
       "}\n",
       "\n",
       ".sk-estimator-doc-link.fitted,\n",
       "a:link.sk-estimator-doc-link.fitted,\n",
       "a:visited.sk-estimator-doc-link.fitted {\n",
       "  /* fitted */\n",
       "  border: var(--sklearn-color-fitted-level-1) 1pt solid;\n",
       "  color: var(--sklearn-color-fitted-level-1);\n",
       "}\n",
       "\n",
       "/* On hover */\n",
       "div.sk-estimator:hover .sk-estimator-doc-link:hover,\n",
       ".sk-estimator-doc-link:hover,\n",
       "div.sk-label-container:hover .sk-estimator-doc-link:hover,\n",
       ".sk-estimator-doc-link:hover {\n",
       "  /* unfitted */\n",
       "  background-color: var(--sklearn-color-unfitted-level-3);\n",
       "  color: var(--sklearn-color-background);\n",
       "  text-decoration: none;\n",
       "}\n",
       "\n",
       "div.sk-estimator.fitted:hover .sk-estimator-doc-link.fitted:hover,\n",
       ".sk-estimator-doc-link.fitted:hover,\n",
       "div.sk-label-container:hover .sk-estimator-doc-link.fitted:hover,\n",
       ".sk-estimator-doc-link.fitted:hover {\n",
       "  /* fitted */\n",
       "  background-color: var(--sklearn-color-fitted-level-3);\n",
       "  color: var(--sklearn-color-background);\n",
       "  text-decoration: none;\n",
       "}\n",
       "\n",
       "/* Span, style for the box shown on hovering the info icon */\n",
       ".sk-estimator-doc-link span {\n",
       "  display: none;\n",
       "  z-index: 9999;\n",
       "  position: relative;\n",
       "  font-weight: normal;\n",
       "  right: .2ex;\n",
       "  padding: .5ex;\n",
       "  margin: .5ex;\n",
       "  width: min-content;\n",
       "  min-width: 20ex;\n",
       "  max-width: 50ex;\n",
       "  color: var(--sklearn-color-text);\n",
       "  box-shadow: 2pt 2pt 4pt #999;\n",
       "  /* unfitted */\n",
       "  background: var(--sklearn-color-unfitted-level-0);\n",
       "  border: .5pt solid var(--sklearn-color-unfitted-level-3);\n",
       "}\n",
       "\n",
       ".sk-estimator-doc-link.fitted span {\n",
       "  /* fitted */\n",
       "  background: var(--sklearn-color-fitted-level-0);\n",
       "  border: var(--sklearn-color-fitted-level-3);\n",
       "}\n",
       "\n",
       ".sk-estimator-doc-link:hover span {\n",
       "  display: block;\n",
       "}\n",
       "\n",
       "/* \"?\"-specific style due to the `<a>` HTML tag */\n",
       "\n",
       "#sk-container-id-3 a.estimator_doc_link {\n",
       "  float: right;\n",
       "  font-size: 1rem;\n",
       "  line-height: 1em;\n",
       "  font-family: monospace;\n",
       "  background-color: var(--sklearn-color-background);\n",
       "  border-radius: 1rem;\n",
       "  height: 1rem;\n",
       "  width: 1rem;\n",
       "  text-decoration: none;\n",
       "  /* unfitted */\n",
       "  color: var(--sklearn-color-unfitted-level-1);\n",
       "  border: var(--sklearn-color-unfitted-level-1) 1pt solid;\n",
       "}\n",
       "\n",
       "#sk-container-id-3 a.estimator_doc_link.fitted {\n",
       "  /* fitted */\n",
       "  border: var(--sklearn-color-fitted-level-1) 1pt solid;\n",
       "  color: var(--sklearn-color-fitted-level-1);\n",
       "}\n",
       "\n",
       "/* On hover */\n",
       "#sk-container-id-3 a.estimator_doc_link:hover {\n",
       "  /* unfitted */\n",
       "  background-color: var(--sklearn-color-unfitted-level-3);\n",
       "  color: var(--sklearn-color-background);\n",
       "  text-decoration: none;\n",
       "}\n",
       "\n",
       "#sk-container-id-3 a.estimator_doc_link.fitted:hover {\n",
       "  /* fitted */\n",
       "  background-color: var(--sklearn-color-fitted-level-3);\n",
       "}\n",
       "</style><div id=\"sk-container-id-3\" class=\"sk-top-container\"><div class=\"sk-text-repr-fallback\"><pre>Pipeline(steps=[(&#x27;preproc&#x27;,\n",
       "                 ColumnTransformer(transformers=[(&#x27;numeric&#x27;, StandardScaler(),\n",
       "                                                  [&#x27;dayofmonth&#x27;, &#x27;dayofweek&#x27;,\n",
       "                                                   &#x27;dayofyear&#x27;, &#x27;weekofyear&#x27;,\n",
       "                                                   &#x27;month&#x27;, &#x27;quarter&#x27;, &#x27;year&#x27;,\n",
       "                                                   &#x27;pm_lag_1Y&#x27;, &#x27;pm_lag_1M&#x27;,\n",
       "                                                   &#x27;pm_lag_1W&#x27;, &#x27;co_lag_1Y&#x27;,\n",
       "                                                   &#x27;co_lag_1M&#x27;, &#x27;co_lag_1W&#x27;,\n",
       "                                                   &#x27;o3_lag_1Y&#x27;, &#x27;o3_lag_1M&#x27;,\n",
       "                                                   &#x27;o3_lag_1W&#x27;, &#x27;pm10_lag_1Y&#x27;,\n",
       "                                                   &#x27;so2_lag_1Y&#x27;, &#x27;no2_lag_1Y&#x27;,\n",
       "                                                   &#x27;pm10_lag_1M&#x27;, &#x27;so2_lag_1M&#x27;,\n",
       "                                                   &#x27;no2_lag_1M&#x27;, &#x27;pm10_lag_1W&#x27;,\n",
       "                                                   &#x27;so2_lag_1W&#x27;, &#x27;no2_lag_1W&#x27;,\n",
       "                                                   &#x27;pm_lag_1D&#x27;, &#x27;co_lag_1D&#x27;,\n",
       "                                                   &#x27;o3_lag_1D&#x27;, &#x27;pm10_lag_1D&#x27;,\n",
       "                                                   &#x27;so2_lag_1D&#x27;, ...]),\n",
       "                                                 (&#x27;categorical&#x27;,\n",
       "                                                  OneHotEncoder(handle_unknown=&#x27;ignore&#x27;),\n",
       "                                                  [&#x27;state&#x27;])])),\n",
       "                (&#x27;poly&#x27;,\n",
       "                 PolynomialFeatures(include_bias=False, interaction_only=True)),\n",
       "                (&#x27;regr&#x27;, ElasticNet(alpha=0.2, l1_ratio=0.1))])</pre><b>In a Jupyter environment, please rerun this cell to show the HTML representation or trust the notebook. <br />On GitHub, the HTML representation is unable to render, please try loading this page with nbviewer.org.</b></div><div class=\"sk-container\" hidden><div class=\"sk-item sk-dashed-wrapped\"><div class=\"sk-label-container\"><div class=\"sk-label fitted sk-toggleable\"><input class=\"sk-toggleable__control sk-hidden--visually\" id=\"sk-estimator-id-16\" type=\"checkbox\" ><label for=\"sk-estimator-id-16\" class=\"sk-toggleable__label fitted sk-toggleable__label-arrow\"><div><div>Pipeline</div></div><div><a class=\"sk-estimator-doc-link fitted\" rel=\"noreferrer\" target=\"_blank\" href=\"https://scikit-learn.org/1.6/modules/generated/sklearn.pipeline.Pipeline.html\">?<span>Documentation for Pipeline</span></a><span class=\"sk-estimator-doc-link fitted\">i<span>Fitted</span></span></div></label><div class=\"sk-toggleable__content fitted\"><pre>Pipeline(steps=[(&#x27;preproc&#x27;,\n",
       "                 ColumnTransformer(transformers=[(&#x27;numeric&#x27;, StandardScaler(),\n",
       "                                                  [&#x27;dayofmonth&#x27;, &#x27;dayofweek&#x27;,\n",
       "                                                   &#x27;dayofyear&#x27;, &#x27;weekofyear&#x27;,\n",
       "                                                   &#x27;month&#x27;, &#x27;quarter&#x27;, &#x27;year&#x27;,\n",
       "                                                   &#x27;pm_lag_1Y&#x27;, &#x27;pm_lag_1M&#x27;,\n",
       "                                                   &#x27;pm_lag_1W&#x27;, &#x27;co_lag_1Y&#x27;,\n",
       "                                                   &#x27;co_lag_1M&#x27;, &#x27;co_lag_1W&#x27;,\n",
       "                                                   &#x27;o3_lag_1Y&#x27;, &#x27;o3_lag_1M&#x27;,\n",
       "                                                   &#x27;o3_lag_1W&#x27;, &#x27;pm10_lag_1Y&#x27;,\n",
       "                                                   &#x27;so2_lag_1Y&#x27;, &#x27;no2_lag_1Y&#x27;,\n",
       "                                                   &#x27;pm10_lag_1M&#x27;, &#x27;so2_lag_1M&#x27;,\n",
       "                                                   &#x27;no2_lag_1M&#x27;, &#x27;pm10_lag_1W&#x27;,\n",
       "                                                   &#x27;so2_lag_1W&#x27;, &#x27;no2_lag_1W&#x27;,\n",
       "                                                   &#x27;pm_lag_1D&#x27;, &#x27;co_lag_1D&#x27;,\n",
       "                                                   &#x27;o3_lag_1D&#x27;, &#x27;pm10_lag_1D&#x27;,\n",
       "                                                   &#x27;so2_lag_1D&#x27;, ...]),\n",
       "                                                 (&#x27;categorical&#x27;,\n",
       "                                                  OneHotEncoder(handle_unknown=&#x27;ignore&#x27;),\n",
       "                                                  [&#x27;state&#x27;])])),\n",
       "                (&#x27;poly&#x27;,\n",
       "                 PolynomialFeatures(include_bias=False, interaction_only=True)),\n",
       "                (&#x27;regr&#x27;, ElasticNet(alpha=0.2, l1_ratio=0.1))])</pre></div> </div></div><div class=\"sk-serial\"><div class=\"sk-item sk-dashed-wrapped\"><div class=\"sk-label-container\"><div class=\"sk-label fitted sk-toggleable\"><input class=\"sk-toggleable__control sk-hidden--visually\" id=\"sk-estimator-id-17\" type=\"checkbox\" ><label for=\"sk-estimator-id-17\" class=\"sk-toggleable__label fitted sk-toggleable__label-arrow\"><div><div>preproc: ColumnTransformer</div></div><div><a class=\"sk-estimator-doc-link fitted\" rel=\"noreferrer\" target=\"_blank\" href=\"https://scikit-learn.org/1.6/modules/generated/sklearn.compose.ColumnTransformer.html\">?<span>Documentation for preproc: ColumnTransformer</span></a></div></label><div class=\"sk-toggleable__content fitted\"><pre>ColumnTransformer(transformers=[(&#x27;numeric&#x27;, StandardScaler(),\n",
       "                                 [&#x27;dayofmonth&#x27;, &#x27;dayofweek&#x27;, &#x27;dayofyear&#x27;,\n",
       "                                  &#x27;weekofyear&#x27;, &#x27;month&#x27;, &#x27;quarter&#x27;, &#x27;year&#x27;,\n",
       "                                  &#x27;pm_lag_1Y&#x27;, &#x27;pm_lag_1M&#x27;, &#x27;pm_lag_1W&#x27;,\n",
       "                                  &#x27;co_lag_1Y&#x27;, &#x27;co_lag_1M&#x27;, &#x27;co_lag_1W&#x27;,\n",
       "                                  &#x27;o3_lag_1Y&#x27;, &#x27;o3_lag_1M&#x27;, &#x27;o3_lag_1W&#x27;,\n",
       "                                  &#x27;pm10_lag_1Y&#x27;, &#x27;so2_lag_1Y&#x27;, &#x27;no2_lag_1Y&#x27;,\n",
       "                                  &#x27;pm10_lag_1M&#x27;, &#x27;so2_lag_1M&#x27;, &#x27;no2_lag_1M&#x27;,\n",
       "                                  &#x27;pm10_lag_1W&#x27;, &#x27;so2_lag_1W&#x27;, &#x27;no2_lag_1W&#x27;,\n",
       "                                  &#x27;pm_lag_1D&#x27;, &#x27;co_lag_1D&#x27;, &#x27;o3_lag_1D&#x27;,\n",
       "                                  &#x27;pm10_lag_1D&#x27;, &#x27;so2_lag_1D&#x27;, ...]),\n",
       "                                (&#x27;categorical&#x27;,\n",
       "                                 OneHotEncoder(handle_unknown=&#x27;ignore&#x27;),\n",
       "                                 [&#x27;state&#x27;])])</pre></div> </div></div><div class=\"sk-parallel\"><div class=\"sk-parallel-item\"><div class=\"sk-item\"><div class=\"sk-label-container\"><div class=\"sk-label fitted sk-toggleable\"><input class=\"sk-toggleable__control sk-hidden--visually\" id=\"sk-estimator-id-18\" type=\"checkbox\" ><label for=\"sk-estimator-id-18\" class=\"sk-toggleable__label fitted sk-toggleable__label-arrow\"><div><div>numeric</div></div></label><div class=\"sk-toggleable__content fitted\"><pre>[&#x27;dayofmonth&#x27;, &#x27;dayofweek&#x27;, &#x27;dayofyear&#x27;, &#x27;weekofyear&#x27;, &#x27;month&#x27;, &#x27;quarter&#x27;, &#x27;year&#x27;, &#x27;pm_lag_1Y&#x27;, &#x27;pm_lag_1M&#x27;, &#x27;pm_lag_1W&#x27;, &#x27;co_lag_1Y&#x27;, &#x27;co_lag_1M&#x27;, &#x27;co_lag_1W&#x27;, &#x27;o3_lag_1Y&#x27;, &#x27;o3_lag_1M&#x27;, &#x27;o3_lag_1W&#x27;, &#x27;pm10_lag_1Y&#x27;, &#x27;so2_lag_1Y&#x27;, &#x27;no2_lag_1Y&#x27;, &#x27;pm10_lag_1M&#x27;, &#x27;so2_lag_1M&#x27;, &#x27;no2_lag_1M&#x27;, &#x27;pm10_lag_1W&#x27;, &#x27;so2_lag_1W&#x27;, &#x27;no2_lag_1W&#x27;, &#x27;pm_lag_1D&#x27;, &#x27;co_lag_1D&#x27;, &#x27;o3_lag_1D&#x27;, &#x27;pm10_lag_1D&#x27;, &#x27;so2_lag_1D&#x27;, &#x27;no2_lag_1D&#x27;, &#x27;pm_lag_2D&#x27;, &#x27;co_lag_2D&#x27;, &#x27;o3_lag_2D&#x27;, &#x27;pm10_lag_2D&#x27;, &#x27;so2_lag_2D&#x27;, &#x27;no2_lag_2D&#x27;, &#x27;pm_lag_3D&#x27;, &#x27;co_lag_3D&#x27;, &#x27;o3_lag_3D&#x27;, &#x27;pm10_lag_3D&#x27;, &#x27;so2_lag_3D&#x27;, &#x27;no2_lag_3D&#x27;]</pre></div> </div></div><div class=\"sk-serial\"><div class=\"sk-item\"><div class=\"sk-estimator fitted sk-toggleable\"><input class=\"sk-toggleable__control sk-hidden--visually\" id=\"sk-estimator-id-19\" type=\"checkbox\" ><label for=\"sk-estimator-id-19\" class=\"sk-toggleable__label fitted sk-toggleable__label-arrow\"><div><div>StandardScaler</div></div><div><a class=\"sk-estimator-doc-link fitted\" rel=\"noreferrer\" target=\"_blank\" href=\"https://scikit-learn.org/1.6/modules/generated/sklearn.preprocessing.StandardScaler.html\">?<span>Documentation for StandardScaler</span></a></div></label><div class=\"sk-toggleable__content fitted\"><pre>StandardScaler()</pre></div> </div></div></div></div></div><div class=\"sk-parallel-item\"><div class=\"sk-item\"><div class=\"sk-label-container\"><div class=\"sk-label fitted sk-toggleable\"><input class=\"sk-toggleable__control sk-hidden--visually\" id=\"sk-estimator-id-20\" type=\"checkbox\" ><label for=\"sk-estimator-id-20\" class=\"sk-toggleable__label fitted sk-toggleable__label-arrow\"><div><div>categorical</div></div></label><div class=\"sk-toggleable__content fitted\"><pre>[&#x27;state&#x27;]</pre></div> </div></div><div class=\"sk-serial\"><div class=\"sk-item\"><div class=\"sk-estimator fitted sk-toggleable\"><input class=\"sk-toggleable__control sk-hidden--visually\" id=\"sk-estimator-id-21\" type=\"checkbox\" ><label for=\"sk-estimator-id-21\" class=\"sk-toggleable__label fitted sk-toggleable__label-arrow\"><div><div>OneHotEncoder</div></div><div><a class=\"sk-estimator-doc-link fitted\" rel=\"noreferrer\" target=\"_blank\" href=\"https://scikit-learn.org/1.6/modules/generated/sklearn.preprocessing.OneHotEncoder.html\">?<span>Documentation for OneHotEncoder</span></a></div></label><div class=\"sk-toggleable__content fitted\"><pre>OneHotEncoder(handle_unknown=&#x27;ignore&#x27;)</pre></div> </div></div></div></div></div></div></div><div class=\"sk-item\"><div class=\"sk-estimator fitted sk-toggleable\"><input class=\"sk-toggleable__control sk-hidden--visually\" id=\"sk-estimator-id-22\" type=\"checkbox\" ><label for=\"sk-estimator-id-22\" class=\"sk-toggleable__label fitted sk-toggleable__label-arrow\"><div><div>PolynomialFeatures</div></div><div><a class=\"sk-estimator-doc-link fitted\" rel=\"noreferrer\" target=\"_blank\" href=\"https://scikit-learn.org/1.6/modules/generated/sklearn.preprocessing.PolynomialFeatures.html\">?<span>Documentation for PolynomialFeatures</span></a></div></label><div class=\"sk-toggleable__content fitted\"><pre>PolynomialFeatures(include_bias=False, interaction_only=True)</pre></div> </div></div><div class=\"sk-item\"><div class=\"sk-estimator fitted sk-toggleable\"><input class=\"sk-toggleable__control sk-hidden--visually\" id=\"sk-estimator-id-23\" type=\"checkbox\" ><label for=\"sk-estimator-id-23\" class=\"sk-toggleable__label fitted sk-toggleable__label-arrow\"><div><div>ElasticNet</div></div><div><a class=\"sk-estimator-doc-link fitted\" rel=\"noreferrer\" target=\"_blank\" href=\"https://scikit-learn.org/1.6/modules/generated/sklearn.linear_model.ElasticNet.html\">?<span>Documentation for ElasticNet</span></a></div></label><div class=\"sk-toggleable__content fitted\"><pre>ElasticNet(alpha=0.2, l1_ratio=0.1)</pre></div> </div></div></div></div></div></div>"
      ],
      "text/plain": [
       "Pipeline(steps=[('preproc',\n",
       "                 ColumnTransformer(transformers=[('numeric', StandardScaler(),\n",
       "                                                  ['dayofmonth', 'dayofweek',\n",
       "                                                   'dayofyear', 'weekofyear',\n",
       "                                                   'month', 'quarter', 'year',\n",
       "                                                   'pm_lag_1Y', 'pm_lag_1M',\n",
       "                                                   'pm_lag_1W', 'co_lag_1Y',\n",
       "                                                   'co_lag_1M', 'co_lag_1W',\n",
       "                                                   'o3_lag_1Y', 'o3_lag_1M',\n",
       "                                                   'o3_lag_1W', 'pm10_lag_1Y',\n",
       "                                                   'so2_lag_1Y', 'no2_lag_1Y',\n",
       "                                                   'pm10_lag_1M', 'so2_lag_1M',\n",
       "                                                   'no2_lag_1M', 'pm10_lag_1W',\n",
       "                                                   'so2_lag_1W', 'no2_lag_1W',\n",
       "                                                   'pm_lag_1D', 'co_lag_1D',\n",
       "                                                   'o3_lag_1D', 'pm10_lag_1D',\n",
       "                                                   'so2_lag_1D', ...]),\n",
       "                                                 ('categorical',\n",
       "                                                  OneHotEncoder(handle_unknown='ignore'),\n",
       "                                                  ['state'])])),\n",
       "                ('poly',\n",
       "                 PolynomialFeatures(include_bias=False, interaction_only=True)),\n",
       "                ('regr', ElasticNet(alpha=0.2, l1_ratio=0.1))])"
      ]
     },
     "execution_count": 33,
     "metadata": {},
     "output_type": "execute_result"
    }
   ],
   "source": [
    "%time model.fit(X_train, y_train)"
   ]
  },
  {
   "cell_type": "markdown",
   "metadata": {
    "id": "GGubqzrxlVi3"
   },
   "source": [
    "### Hyperparameter Tuning per Elastic Net\n",
    "\n",
    "Per ottimizzare le prestazioni del modello Elastic Net, viene eseguita una ricerca esaustiva (`GridSearchCV`) su una griglia di iperparametri.\n",
    "\n",
    "In particolare, si esplorano combinazioni di:\n",
    "\n",
    "- `alpha`: controlla la forza complessiva della regolarizzazione;\n",
    "- `l1_ratio`: bilancia l'influenza tra la componente L1 (LASSO) e L2 (Ridge) nella penalizzazione."
   ]
  },
  {
   "cell_type": "code",
   "execution_count": 34,
   "metadata": {
    "id": "jwcPfGK9lVi3"
   },
   "outputs": [],
   "source": [
    "grid = {\n",
    "    \"regr__alpha\":    [0.1, 1, 10],\n",
    "    \"regr__l1_ratio\": [0.1, 0.2, 0.3]\n",
    "}\n",
    "gs = GridSearchCV(model, grid, cv=tscv, n_jobs=N_JOBS)"
   ]
  },
  {
   "cell_type": "code",
   "execution_count": 35,
   "metadata": {
    "colab": {
     "base_uri": "https://localhost:8080/"
    },
    "id": "E9qz_4YslVi3",
    "outputId": "22e3fc1e-bfc6-4e96-fbe8-0247b51bfa9f"
   },
   "outputs": [
    {
     "name": "stdout",
     "output_type": "stream",
     "text": [
      "CPU times: total: 6.69 s\n",
      "Wall time: 11 s\n",
      "\n"
     ]
    }
   ],
   "source": [
    "%time gs.fit(X_train, y_train);\n",
    "print()"
   ]
  },
  {
   "cell_type": "code",
   "execution_count": 36,
   "metadata": {
    "id": "rHfhGZSslVi4"
   },
   "outputs": [],
   "source": [
    "get_estimator_scores(\"elastic_net_reg\", gs.best_estimator_)"
   ]
  },
  {
   "cell_type": "markdown",
   "metadata": {
    "id": "OSqJT3J-lVi4",
    "tags": []
   },
   "source": [
    "## Regressione con funzioni kernel\n",
    "Per evitare l’esplosione del numero di feature tipica dei modelli polinomiali, utilizziamo il **kernel trick**, che permette di lavorare implicitamente in spazi di dimensione molto alta senza dover esplicitamente generare tutte le feature.\n",
    "\n",
    "In questo modo, possiamo catturare relazioni non lineari complesse senza aumentare eccessivamente la complessità computazionale."
   ]
  },
  {
   "cell_type": "markdown",
   "metadata": {
    "id": "VFj50pJolVi4",
    "tags": []
   },
   "source": [
    "### Funzioni kernel polinomiali\n",
    "Il kernel polinomiale permette di estendere la regressione lineare a feature di grado elevato, calcolando prodotti scalari in uno spazio di dimensione potenzialmente molto alta.\n",
    "Nel modello seguente utilizziamo una regressione Kernel Ridge con kernel polinomiale di grado 10 e regolarizzazione L2 con `alpha=1`."
   ]
  },
  {
   "cell_type": "code",
   "execution_count": 37,
   "metadata": {
    "id": "-xa639FtlVi4"
   },
   "outputs": [],
   "source": [
    "model = Pipeline([\n",
    "    (\"preproc\", preprocessor),\n",
    "    (\"regr\",  KernelRidge(alpha=1, kernel=\"poly\", degree=10))\n",
    "])"
   ]
  },
  {
   "cell_type": "code",
   "execution_count": 38,
   "metadata": {
    "id": "xnFxvlfPlVi4"
   },
   "outputs": [
    {
     "name": "stdout",
     "output_type": "stream",
     "text": [
      "CPU times: total: 34.2 s\n",
      "Wall time: 11.5 s\n",
      "\n"
     ]
    }
   ],
   "source": [
    "%time model.fit(X_train, y_train)\n",
    "print()"
   ]
  },
  {
   "cell_type": "markdown",
   "metadata": {
    "id": "EOaI0YJZlVi4",
    "tags": []
   },
   "source": [
    "### Hyperparameter Tuning per kernel polinomiale\n",
    "\n",
    "Per ottimizzare il modello, eseguiamo una ricerca randomizzata (`RandomizedSearchCV`) su due iperparametri fondamentali:\n",
    "\n",
    "- `alpha`: peso della regolarizzazione L2;\n",
    "- `degree`: grado del kernel polinomiale (da 2 a 29)."
   ]
  },
  {
   "cell_type": "code",
   "execution_count": 39,
   "metadata": {
    "id": "ffHhHFyllVi4"
   },
   "outputs": [],
   "source": [
    "grid = {\n",
    "    \"regr__alpha\":    [0.1, 1, 10],\n",
    "    \"regr__degree\": list(range(2,30))\n",
    "}\n",
    "gs = RandomizedSearchCV(model, grid, n_iter=20, cv=tscv, n_jobs=N_JOBS)"
   ]
  },
  {
   "cell_type": "markdown",
   "metadata": {
    "id": "NC1W0ztHymoP"
   },
   "source": [
    "**Scelta del numero di iterazioni per RandomizedSearchCV con questo grid**\n",
    "\n",
    "Il grid ha:\n",
    "\n",
    "- Configurazioni Totali:\n",
    "$$\n",
    "M = |\\text{max_depth}| \\times |\\text{min_samples_split}| = 28 \\times 4 = 84 $$\n",
    "\n",
    "Supponiamo di voler avere una probabilità \\(P = 0.90\\) di includere almeno una delle migliori \\(k = 10\\) configurazioni tra queste 84.\n",
    "\n",
    "Usiamo la formula:\n",
    "\n",
    "$$\n",
    "n = \\frac{\\ln(1 - P)}{\\ln\\left(1 - \\frac{k}{M}\\right)}\n",
    "$$\n",
    "\n",
    "Calcoliamo l’approssimazione:\n",
    "\n",
    "$$\n",
    "n \\approx - \\frac{\\ln(1 - 0.90)}{10/104} = \\frac{2.3026}{10/84} = 2.3026 \\times \\frac{84}{10} \\approx 20\n",
    "$$\n",
    "\n",
    "Quindi, con **20 iterazioni** di Randomized Search, si ha circa il 90% di probabilità di testare almeno una delle 10 migliori configurazioni, risparmiando rispetto a un Grid Search completo con 84 tentativi.\n",
    "\n",
    "\n"
   ]
  },
  {
   "cell_type": "markdown",
   "metadata": {
    "id": "Wrc2Kg0DyqcO"
   },
   "source": [
    "**Da dove viene la formula per stimare il numero di iterazioni nel Randomized Search?**\n",
    "\n",
    "Per stimare quante iterazioni (`n`) sono necessarie per avere una certa probabilità \\(P\\) di includere almeno una configurazione tra le \\(k\\) migliori (su \\(M\\) totali), usiamo la seguente logica probabilistica:\n",
    "\n",
    "1. Probabilità di *non* pescare una top-\\(k\\) in un singolo tentativo.\n",
    "Se ci sono \\(M\\) configurazioni totali e \\(k\\) di esse sono “quasi ottimali”, la probabilità di *non* sceglierne una buona è:\n",
    "$$\n",
    "1 - \\frac{k}{M}\n",
    "$$\n",
    "\n",
    "2. Probabilità di non pescarne *nessuna* in \\(n\\) tentativi indipendenti\n",
    "$$\n",
    "\\left(1 - \\frac{k}{M} \\right)^n\n",
    "$$\n",
    "\n",
    "3. Probabilità di pescare **almeno una** delle top-\\(k\\)\n",
    "$$\n",
    "P(\\text{≥1 top-}k) = 1 - \\left(1 - \\frac{k}{M} \\right)^n\n",
    "$$\n",
    "\n",
    "4. Ricavare \\(n\\) dalla formula\n",
    "$$\n",
    "1 - \\left(1 - \\frac{k}{M} \\right)^n = P\n",
    "\\quad \\Longrightarrow \\quad\n",
    "n = \\frac{\\ln(1 - P)}{\\ln\\left(1 - \\frac{k}{M} \\right)}\n",
    "$$\n",
    "\n",
    "5. Approssimazione per $$ k \\ll M $$\n",
    "Poiché $$ \\ln(1 - x) \\approx -x $$ per \\(x\\) piccolo:\n",
    "$$\n",
    "n \\approx - \\frac{\\ln(1 - P)}{k/M}\n",
    "$$"
   ]
  },
  {
   "cell_type": "code",
   "execution_count": 40,
   "metadata": {
    "id": "4UBMc_JPlVi5"
   },
   "outputs": [
    {
     "name": "stdout",
     "output_type": "stream",
     "text": [
      "CPU times: total: 35.7 s\n",
      "Wall time: 1min 44s\n",
      "\n"
     ]
    }
   ],
   "source": [
    "%time gs.fit(X_train, y_train)\n",
    "print()"
   ]
  },
  {
   "cell_type": "code",
   "execution_count": 41,
   "metadata": {
    "id": "lsrbR4InlVi5",
    "tags": []
   },
   "outputs": [],
   "source": [
    "get_estimator_scores(\"kernel_poly_reg\", gs.best_estimator_)"
   ]
  },
  {
   "cell_type": "markdown",
   "metadata": {
    "id": "tznaBVUFVFX2"
   },
   "source": [
    "Dopo il fitting della grid search, visualizziamo l’andamento dello score medio sui fold di validazione al variare del grado del kernel polinomiale per diversi valori di `alpha`.\n",
    "\n",
    "Questo grafico ci aiuta a comprendere come il grado del kernel e la regolarizzazione influenzino la capacità predittiva del modello."
   ]
  },
  {
   "cell_type": "code",
   "execution_count": 42,
   "metadata": {
    "id": "ShgWWvDBlVi5"
   },
   "outputs": [],
   "source": [
    "results = pd.DataFrame(gs.cv_results_)[[\n",
    "    \"param_regr__alpha\",\n",
    "    \"param_regr__degree\",\n",
    "    \"mean_test_score\"\n",
    "]]\n",
    "splits = sorted(results[\"param_regr__alpha\"].unique())"
   ]
  },
  {
   "cell_type": "code",
   "execution_count": 43,
   "metadata": {
    "id": "l0K5FibrlVi5"
   },
   "outputs": [
    {
     "data": {
      "image/png": "[encoded data removed]",
      "text/plain": [
       "<Figure size 640x480 with 1 Axes>"
      ]
     },
     "metadata": {},
     "output_type": "display_data"
    }
   ],
   "source": [
    "for split in splits:\n",
    "    subset = results[results[\"param_regr__alpha\"] == split]\n",
    "    subset = subset.sort_values(\"param_regr__degree\")\n",
    "    plt.plot(\n",
    "        subset[\"param_regr__degree\"],\n",
    "        subset[\"mean_test_score\"],\n",
    "        label=f\"param_regr__alpha={split}\"\n",
    "    )\n",
    "\n",
    "plt.xlabel('degree')\n",
    "plt.ylabel('score')\n",
    "plt.title(\"Performance al variare del grado della funzione\")\n",
    "plt.legend()\n",
    "plt.show()"
   ]
  },
  {
   "cell_type": "markdown",
   "metadata": {
    "id": "p4RNo3BclVi5"
   },
   "source": [
    "### Funzioni kernel gaussiane (RBF)\n",
    "\n",
    "Oltre al kernel polinomiale, sperimentiamo con il kernel RBF (Radial Basis Function), una funzione kernel molto popolare che misura la similarità tra i punti attraverso una funzione gaussiana.\n",
    "\n",
    "Questo kernel introduce un parametro `gamma` che controlla la larghezza della gaussiana e quindi la flessibilità del modello."
   ]
  },
  {
   "cell_type": "code",
   "execution_count": 44,
   "metadata": {
    "id": "9T5BL022lVi5"
   },
   "outputs": [],
   "source": [
    "model = Pipeline([\n",
    "    (\"preproc\", preprocessor),\n",
    "    (\"regr\",  KernelRidge(alpha=1, kernel=\"rbf\", gamma=0.01))\n",
    "])"
   ]
  },
  {
   "cell_type": "code",
   "execution_count": 45,
   "metadata": {
    "id": "JlJ8BI7UlVi6"
   },
   "outputs": [
    {
     "name": "stdout",
     "output_type": "stream",
     "text": [
      "CPU times: total: 32.5 s\n",
      "Wall time: 10.5 s\n",
      "\n"
     ]
    }
   ],
   "source": [
    "%time model.fit(X_train, y_train)\n",
    "print()"
   ]
  },
  {
   "cell_type": "markdown",
   "metadata": {
    "id": "bcj4BGSPlVi6"
   },
   "source": [
    "### Hyperparameter Tuning per funzioni kernel gaussiane (RBF)\n",
    "\n",
    "Per ottimizzare il modello Kernel Ridge con kernel RBF, eseguiamo una ricerca esaustiva degli iperparametri su una griglia composta da:\n",
    "\n",
    "- `alpha`: coefficiente di regolarizzazione L2;\n",
    "- `gamma`: parametro che controlla la larghezza della funzione gaussiana."
   ]
  },
  {
   "cell_type": "code",
   "execution_count": 46,
   "metadata": {
    "id": "l4S7RFNUlVi6"
   },
   "outputs": [],
   "source": [
    "grid = {\n",
    "    \"regr__alpha\":    [0.1, 1, 10],\n",
    "    \"regr__gamma\": [0.01, 0.1, 1]\n",
    "}\n",
    "gs = GridSearchCV(model, grid, cv=tscv, n_jobs=N_JOBS)"
   ]
  },
  {
   "cell_type": "code",
   "execution_count": 47,
   "metadata": {
    "id": "BBK7V6RvlVi6"
   },
   "outputs": [
    {
     "name": "stdout",
     "output_type": "stream",
     "text": [
      "CPU times: total: 33.8 s\n",
      "Wall time: 53.2 s\n",
      "\n"
     ]
    }
   ],
   "source": [
    "%time gs.fit(X_train, y_train)\n",
    "print()"
   ]
  },
  {
   "cell_type": "code",
   "execution_count": 48,
   "metadata": {
    "id": "jNj-dvsjlVi6"
   },
   "outputs": [],
   "source": [
    "get_estimator_scores(\"kernel_rbf_reg\", gs.best_estimator_)"
   ]
  },
  {
   "cell_type": "markdown",
   "metadata": {
    "id": "sELWDyRclVi6"
   },
   "source": [
    "## Alberi decisionali\n",
    "Gli alberi decisionali sono modelli predittivi che suddividono ricorsivamente lo spazio delle feature in regioni omogenee rispetto alla variabile target.\n",
    "\n",
    "In questa implementazione, limitiamo la profondità massima dell’albero a 4 livelli per evitare l’overfitting e fissiamo un seme casuale per garantire la riproducibilità."
   ]
  },
  {
   "cell_type": "code",
   "execution_count": 49,
   "metadata": {
    "id": "fVoeA9SklVi6"
   },
   "outputs": [],
   "source": [
    "model = Pipeline([\n",
    "    (\"preproc\", preprocessor),\n",
    "    (\"tree\", DecisionTreeRegressor(max_depth=4, random_state=42))\n",
    "])"
   ]
  },
  {
   "cell_type": "code",
   "execution_count": 50,
   "metadata": {
    "colab": {
     "base_uri": "https://localhost:8080/"
    },
    "id": "GOZPvS-MlVi7",
    "outputId": "8014b664-a1c2-4f41-b7bd-f4131b478c06"
   },
   "outputs": [
    {
     "name": "stdout",
     "output_type": "stream",
     "text": [
      "CPU times: total: 359 ms\n",
      "Wall time: 371 ms\n",
      "\n"
     ]
    }
   ],
   "source": [
    "%time model.fit(X_train, y_train)\n",
    "print()"
   ]
  },
  {
   "cell_type": "markdown",
   "metadata": {
    "id": "rfO7GcablVi7"
   },
   "source": [
    "### Hyperparameter Tuning per alberi decisionali\n",
    "Cerchiamo di ottimizzare due iperparametri chiave:\n",
    "\n",
    "- `max_depth`: la profondità massima consentita per l’albero;\n",
    "- `min_samples_split`: la frazione minima di campioni necessari per effettuare una suddivisione ulteriore di un nodo.\n"
   ]
  },
  {
   "cell_type": "code",
   "execution_count": 51,
   "metadata": {
    "id": "d4wR3nZolVi7"
   },
   "outputs": [],
   "source": [
    "grid = {\n",
    "    \"tree__max_depth\": list(range(4,30)),\n",
    "    \"tree__min_samples_split\": [0.005, 0.01, 0.1, 0.15],\n",
    "}\n",
    "gs = RandomizedSearchCV(model, grid, n_iter=24, cv=tscv, n_jobs=N_JOBS)"
   ]
  },
  {
   "cell_type": "markdown",
   "metadata": {
    "id": "dN2PpsCAy6Qw"
   },
   "source": [
    "**Scelta del numero di iterazioni per RandomizedSearchCV con questo grid**\n",
    "\n",
    "Il grid ha:\n",
    "\n",
    "- Configurazioni Totali: $$ M = |\\text{max_depth}| \\times |\\text{min_samples_split}| = 26 \\times 4 = 104 $$\n",
    "\n",
    "Supponiamo di voler avere una probabilità \\(P = 0.90\\) di includere almeno una delle migliori \\(k = 10\\) configurazioni tra queste 104.\n",
    "\n",
    "Usiamo la formula:\n",
    "\n",
    "$$\n",
    "n = \\frac{\\ln(1 - P)}{\\ln\\left(1 - \\frac{k}{M}\\right)}\n",
    "$$\n",
    "\n",
    "Calcoliamo l’approssimazione:\n",
    "\n",
    "$$\n",
    "n \\approx - \\frac{\\ln(1 - 0.90)}{10/104} = \\frac{2.3026}{10/104} = 2.3026 \\times \\frac{104}{10} \\approx 24\n",
    "$$\n",
    "\n",
    "Quindi, con **24 iterazioni** di Randomized Search, si ha circa il 90% di probabilità di testare almeno una delle 10 migliori configurazioni, risparmiando rispetto a un Grid Search completo con 104 tentativi.\n",
    "\n"
   ]
  },
  {
   "cell_type": "code",
   "execution_count": 52,
   "metadata": {
    "colab": {
     "base_uri": "https://localhost:8080/"
    },
    "id": "My063uZrlVi7",
    "outputId": "27b67d85-724f-481c-ca46-abed6a584e8d"
   },
   "outputs": [
    {
     "name": "stdout",
     "output_type": "stream",
     "text": [
      "CPU times: total: 719 ms\n",
      "Wall time: 5.05 s\n",
      "\n"
     ]
    }
   ],
   "source": [
    "%time gs.fit(X_train, y_train)\n",
    "print()"
   ]
  },
  {
   "cell_type": "code",
   "execution_count": 53,
   "metadata": {
    "id": "h3w8NnP3lVi7"
   },
   "outputs": [],
   "source": [
    "get_estimator_scores(\"decision_tree_reg\", gs.best_estimator_)"
   ]
  },
  {
   "cell_type": "markdown",
   "metadata": {
    "id": "ISLezfSLWLhB"
   },
   "source": [
    "Il grafico mostra come cambia lo score medio di validazione al variare della profondità massima dell’albero, per diversi valori di `min_samples_split`. Questo aiuta a comprendere la sensibilità del modello a questi parametri ed a identificare valori ottimali."
   ]
  },
  {
   "cell_type": "code",
   "execution_count": 54,
   "metadata": {
    "id": "6QK0x8yelVi7"
   },
   "outputs": [],
   "source": [
    "results = pd.DataFrame(gs.cv_results_)[[\n",
    "    \"param_tree__min_samples_split\",\n",
    "    \"param_tree__max_depth\",\n",
    "    \"mean_test_score\"\n",
    "]]\n",
    "splits = sorted(results[\"param_tree__min_samples_split\"].unique())"
   ]
  },
  {
   "cell_type": "code",
   "execution_count": 55,
   "metadata": {
    "colab": {
     "base_uri": "https://localhost:8080/",
     "height": 480
    },
    "id": "ma3qnu6clVi8",
    "outputId": "1ccd2a98-6d7d-4f8d-c319-9930a7382b6c"
   },
   "outputs": [
    {
     "data": {
      "image/png": "[encoded data removed]",
      "text/plain": [
       "<Figure size 640x480 with 1 Axes>"
      ]
     },
     "metadata": {},
     "output_type": "display_data"
    }
   ],
   "source": [
    "for split in splits:\n",
    "    subset = results[results[\"param_tree__min_samples_split\"] == split]\n",
    "    subset = subset.sort_values(\"param_tree__max_depth\")\n",
    "    plt.plot(\n",
    "        subset[\"param_tree__max_depth\"],\n",
    "        subset[\"mean_test_score\"],\n",
    "        label=f\"min_samples_split={split}\"\n",
    "    )\n",
    "\n",
    "plt.xlabel('depth')\n",
    "plt.ylabel('score')\n",
    "plt.title(\"Performance al variare della Profonditá\")\n",
    "plt.legend()\n",
    "plt.show()"
   ]
  },
  {
   "cell_type": "markdown",
   "metadata": {
    "id": "sM7vW1UglVi8"
   },
   "source": [
    "## Random forest\n",
    "Le Random Forest combinano molteplici alberi decisionali addestrati su sottoinsiemi casuali del dataset e delle feature, migliorando la robustezza e la capacità di generalizzazione rispetto a un singolo albero.\n",
    "\n",
    "In questo esempio, impostiamo:\n",
    "\n",
    "- `max_samples=0.2`: ogni albero è addestrato su un campione casuale pari al 20% dei dati totali;\n",
    "- `max_features='sqrt'`: ogni albero valuta un sottoinsieme delle feature pari alla radice quadrata del numero totale;\n",
    "- `n_estimators=200`: numero totale di alberi nella foresta;\n",
    "- `max_depth=None`: profondità illimitata degli alberi;\n",
    "- `n_jobs=-1`: utilizzo di tutti i core disponibili per il parallelismo."
   ]
  },
  {
   "cell_type": "code",
   "execution_count": 56,
   "metadata": {
    "id": "1eieu-i1lVi9"
   },
   "outputs": [],
   "source": [
    "model = Pipeline([\n",
    "    (\"preproc\", preprocessor),\n",
    "    (\"tree\", RandomForestRegressor(max_samples=0.2, max_features=\"sqrt\", n_estimators=200, max_depth=None, n_jobs=-1))\n",
    "])"
   ]
  },
  {
   "cell_type": "code",
   "execution_count": 57,
   "metadata": {
    "colab": {
     "base_uri": "https://localhost:8080/"
    },
    "id": "lB_F1HTDlVi9",
    "outputId": "d01043de-5601-4158-a573-be1b3d8ccdcd"
   },
   "outputs": [
    {
     "name": "stdout",
     "output_type": "stream",
     "text": [
      "CPU times: total: 6.23 s\n",
      "Wall time: 778 ms\n",
      "\n"
     ]
    }
   ],
   "source": [
    "%time model.fit(X_train, y_train)\n",
    "print()"
   ]
  },
  {
   "cell_type": "markdown",
   "metadata": {
    "id": "jx9HoQcolVi9"
   },
   "source": [
    "Possiamo ricavare le 10 feature più importanti per la Random Forest, ovvero le variabili che sono state più utilizzate nella creazione degli alberi decisionali."
   ]
  },
  {
   "cell_type": "code",
   "execution_count": 58,
   "metadata": {
    "colab": {
     "base_uri": "https://localhost:8080/",
     "height": 398
    },
    "id": "AQVy9ajGlVi9",
    "outputId": "57b42e08-4e96-448a-875d-6969b044cc85"
   },
   "outputs": [
    {
     "data": {
      "text/plain": [
       "numeric__pm_lag_1D      0.108836\n",
       "numeric__pm10_lag_1D    0.079158\n",
       "numeric__no2_lag_1D     0.061763\n",
       "numeric__co_lag_1D      0.052938\n",
       "numeric__so2_lag_1D     0.040588\n",
       "numeric__o3_lag_1D      0.036370\n",
       "numeric__co_lag_2D      0.022795\n",
       "numeric__dayofyear      0.022477\n",
       "numeric__so2_lag_2D     0.021795\n",
       "numeric__pm_lag_2D      0.021700\n",
       "dtype: float64"
      ]
     },
     "execution_count": 58,
     "metadata": {},
     "output_type": "execute_result"
    }
   ],
   "source": [
    "pd.Series(model.named_steps[\"tree\"].feature_importances_, preprocessor.get_feature_names_out(X_train.columns)).sort_values(ascending=False).head(10)"
   ]
  },
  {
   "cell_type": "markdown",
   "metadata": {
    "id": "fY3JUaW7lVi9"
   },
   "source": [
    "### Hyperparameter Tuning per Random Forest\n",
    "\n",
    "Eseguiamo una ricerca esaustiva (`GridSearchCV`) per ottimizzare due iperparametri fondamentali del modello Random Forest:\n",
    "\n",
    "- `n_estimators`: numero di alberi nella foresta;\n",
    "- `max_samples`: frazione massima di campioni usata per addestrare ogni singolo albero.\n"
   ]
  },
  {
   "cell_type": "code",
   "execution_count": 59,
   "metadata": {
    "id": "S22MF1LolVi-"
   },
   "outputs": [],
   "source": [
    "grid = {\n",
    "    \"tree__n_estimators\": [150, 200, 250, 300],\n",
    "    \"tree__max_samples\": [0.5, 0.6, 0.8, 1.0],\n",
    "}\n",
    "gs = GridSearchCV(model, grid, cv=tscv, n_jobs=N_JOBS)"
   ]
  },
  {
   "cell_type": "code",
   "execution_count": 60,
   "metadata": {
    "colab": {
     "base_uri": "https://localhost:8080/"
    },
    "id": "DqxUYeNElVi-",
    "outputId": "033e7844-b189-4f4e-8c59-b6075150b4e5"
   },
   "outputs": [
    {
     "name": "stdout",
     "output_type": "stream",
     "text": [
      "CPU times: total: 27.1 s\n",
      "Wall time: 1min 1s\n",
      "\n"
     ]
    }
   ],
   "source": [
    "%time gs.fit(X_train, y_train)\n",
    "print()"
   ]
  },
  {
   "cell_type": "code",
   "execution_count": 61,
   "metadata": {
    "id": "ML7A1bPflVi-"
   },
   "outputs": [],
   "source": [
    "get_estimator_scores(\"random_forest_reg\", gs.best_estimator_)"
   ]
  },
  {
   "cell_type": "markdown",
   "metadata": {
    "id": "m5R2e4gWXXJp"
   },
   "source": [
    "Il grafico illustra l’andamento dello score medio di validazione in funzione del numero di alberi, suddiviso per profondità massima degli alberi. Questa analisi aiuta a bilanciare la complessità degli alberi e la quantità di alberi per ottenere le migliori performance."
   ]
  },
  {
   "cell_type": "code",
   "execution_count": 62,
   "metadata": {
    "id": "srMzWDr1lVi-"
   },
   "outputs": [],
   "source": [
    "results = pd.DataFrame(gs.cv_results_)[[\n",
    "    \"param_tree__n_estimators\",\n",
    "    \"param_tree__max_samples\",\n",
    "    \"mean_test_score\"\n",
    "]]\n",
    "splits = sorted(results[\"param_tree__max_samples\"].unique())"
   ]
  },
  {
   "cell_type": "code",
   "execution_count": 63,
   "metadata": {
    "colab": {
     "base_uri": "https://localhost:8080/",
     "height": 480
    },
    "id": "HO-ajTvZlVi-",
    "outputId": "b22cd767-b823-44be-9f9a-bab5a3688728"
   },
   "outputs": [
    {
     "data": {
      "image/png": "[encoded data removed]",
      "text/plain": [
       "<Figure size 640x480 with 1 Axes>"
      ]
     },
     "metadata": {},
     "output_type": "display_data"
    }
   ],
   "source": [
    "for split in splits:\n",
    "    subset = results[results[\"param_tree__max_samples\"] == split]\n",
    "    subset = subset.sort_values(\"param_tree__max_samples\")\n",
    "    plt.plot(\n",
    "        subset[\"param_tree__n_estimators\"],\n",
    "        subset[\"mean_test_score\"],\n",
    "        label=f\"max_samples={split}\"\n",
    "    )\n",
    "\n",
    "plt.xlabel('n trees')\n",
    "plt.ylabel('score')\n",
    "plt.title(\"Performance al variare del numero di alberi\")\n",
    "plt.legend()\n",
    "plt.show()"
   ]
  },
  {
   "cell_type": "markdown",
   "metadata": {
    "id": "7xPxYN70lVi_"
   },
   "source": [
    "## XGBoost\n",
    "\n",
    "XGBoost è un algoritmo di boosting basato su alberi decisionali che costruisce iterativamente una foresta di modelli, dove ogni albero cerca di correggere gli errori residui del precedente.\n",
    "\n",
    "Qui utilizziamo XGBoost per regressione con la funzione obiettivo `reg:squarederror` e un numero fisso di 200 alberi."
   ]
  },
  {
   "cell_type": "code",
   "execution_count": 64,
   "metadata": {
    "id": "1A4je0oplVjA"
   },
   "outputs": [],
   "source": [
    "model = Pipeline([\n",
    "    (\"preproc\", preprocessor),\n",
    "    (\"xgb\", XGBRegressor(objective='reg:squarederror', n_estimators=200))\n",
    "])"
   ]
  },
  {
   "cell_type": "code",
   "execution_count": 65,
   "metadata": {
    "colab": {
     "base_uri": "https://localhost:8080/"
    },
    "id": "8A3332KolVjA",
    "outputId": "09d760de-8a6d-4a31-f34f-abdfcd765f16"
   },
   "outputs": [
    {
     "name": "stdout",
     "output_type": "stream",
     "text": [
      "CPU times: total: 8.92 s\n",
      "Wall time: 888 ms\n",
      "\n"
     ]
    }
   ],
   "source": [
    "%time model.fit(X_train, y_train)\n",
    "print()"
   ]
  },
  {
   "cell_type": "markdown",
   "metadata": {
    "id": "xUxDT_-nlVjA"
   },
   "source": [
    "Analizziamo le 5 feature più importanti secondo XGBoost, ovvero quelle che contribuiscono maggiormente alla riduzione dell’errore durante la costruzione degli alberi. Questa analisi aiuta a interpretare quali variabili influenzano maggiormente la predizione."
   ]
  },
  {
   "cell_type": "code",
   "execution_count": 66,
   "metadata": {
    "colab": {
     "base_uri": "https://localhost:8080/"
    },
    "id": "us6Z4OmqlVjA",
    "outputId": "ffb285ba-66c8-4096-91cb-af43d38b9169"
   },
   "outputs": [
    {
     "data": {
      "text/plain": [
       "numeric__pm_lag_1D     0.227640\n",
       "numeric__weekofyear    0.074452\n",
       "numeric__year          0.041578\n",
       "numeric__no2_lag_1D    0.040235\n",
       "numeric__dayofyear     0.032621\n",
       "dtype: float32"
      ]
     },
     "execution_count": 66,
     "metadata": {},
     "output_type": "execute_result"
    }
   ],
   "source": [
    "pd.Series(model.named_steps[\"xgb\"].feature_importances_, preprocessor.get_feature_names_out(X_train.columns)).sort_values(ascending=False).head(5)"
   ]
  },
  {
   "cell_type": "markdown",
   "metadata": {
    "id": "uapeT7xKlVjA"
   },
   "source": [
    "### Hyperparameter Tuning per XGBoost\n",
    "Per migliorare le prestazioni, eseguiamo una Grid Search per trovare i valori ottimali di due iperparametri fondamentali:\n",
    "\n",
    "- `max_depth`: la profondità massima di ciascun albero;\n",
    "- `n_estimators`: il numero di alberi nella foresta.\n"
   ]
  },
  {
   "cell_type": "code",
   "execution_count": 67,
   "metadata": {
    "id": "UwAwlSAxlVjA"
   },
   "outputs": [],
   "source": [
    "grid = {\n",
    "    \"xgb__max_depth\": [3, 5, 7, 10],\n",
    "    \"xgb__n_estimators\": [100, 200, 400, 700, 1000],\n",
    "}\n",
    "gs = GridSearchCV(model, grid, cv=tscv, n_jobs=N_JOBS)"
   ]
  },
  {
   "cell_type": "code",
   "execution_count": 68,
   "metadata": {
    "colab": {
     "base_uri": "https://localhost:8080/"
    },
    "id": "DRafW1bilVjA",
    "outputId": "cb35d8db-964c-4abb-aeea-cae17d82d3dc"
   },
   "outputs": [
    {
     "name": "stdout",
     "output_type": "stream",
     "text": [
      "CPU times: total: 35.4 s\n",
      "Wall time: 1min 13s\n",
      "\n"
     ]
    }
   ],
   "source": [
    "%time gs.fit(X_train, y_train)\n",
    "print()"
   ]
  },
  {
   "cell_type": "code",
   "execution_count": 69,
   "metadata": {
    "id": "ECO1JyGKlVjB"
   },
   "outputs": [],
   "source": [
    "get_estimator_scores(\"xgboost_reg\", gs.best_estimator_)"
   ]
  },
  {
   "cell_type": "markdown",
   "metadata": {
    "id": "a9ynR1lhYC5i"
   },
   "source": [
    "Il grafico mostra l’andamento del punteggio medio di validazione al variare del numero di alberi, suddiviso per profondità massima degli alberi. Questa visualizzazione permette di bilanciare complessità del modello e quantità di alberi per ottenere le migliori performance predittive."
   ]
  },
  {
   "cell_type": "code",
   "execution_count": 70,
   "metadata": {
    "id": "8uK3_8j4lVjB"
   },
   "outputs": [],
   "source": [
    "results = pd.DataFrame(gs.cv_results_)[[\"param_xgb__max_depth\",\"param_xgb__n_estimators\",\"mean_test_score\"]]\n",
    "results_3 = results[results[\"param_xgb__max_depth\"] == 3]\n",
    "results_5 = results[results[\"param_xgb__max_depth\"] == 5]\n",
    "results_7 = results[results[\"param_xgb__max_depth\"] == 7]\n",
    "results_10 = results[results[\"param_xgb__max_depth\"] == 10]"
   ]
  },
  {
   "cell_type": "code",
   "execution_count": 71,
   "metadata": {
    "colab": {
     "base_uri": "https://localhost:8080/"
    },
    "id": "DD3ex6kOlVjB",
    "outputId": "7623895e-f9d9-4201-c347-70b39b61a712"
   },
   "outputs": [
    {
     "data": {
      "image/png": "[encoded data removed]",
      "text/plain": [
       "<Figure size 640x480 with 1 Axes>"
      ]
     },
     "metadata": {},
     "output_type": "display_data"
    }
   ],
   "source": [
    "plt.plot(results_3[\"param_xgb__n_estimators\"], results_3[\"mean_test_score\"])\n",
    "plt.plot(results_5[\"param_xgb__n_estimators\"], results_5[\"mean_test_score\"], c=\"red\")\n",
    "plt.plot(results_7[\"param_xgb__n_estimators\"], results_7[\"mean_test_score\"], c=\"green\")\n",
    "plt.plot(results_10[\"param_xgb__n_estimators\"], results_10[\"mean_test_score\"], c=\"gold\")\n",
    "plt.xlabel('n trees')\n",
    "plt.ylabel('score')\n",
    "plt.legend([\"max_depth=3\",\"max_depth=5\",\"max_depth=7\",\"max_depth=10\"])\n",
    "plt.title('Grafico al variare del numero del numero di alberi di XGBoost')\n",
    "plt.show()"
   ]
  },
  {
   "cell_type": "markdown",
   "metadata": {
    "id": "xlwH7ptOzQwq"
   },
   "source": [
    "## MLP\n",
    "La classe `MLP` definisce una rete neurale feed-forward a più strati completamente connessi, con:\n",
    "\n",
    "- Numero di neuroni personalizzabile per ogni layer nascosto (`hidden_sizes`);\n",
    "- Funzione di attivazione ReLU dopo ogni layer lineare;\n",
    "- Dropout applicato dopo ogni attivazione per ridurre l'overfitting;\n",
    "- Uno strato di output lineare con un singolo neurone per la regressione.\n"
   ]
  },
  {
   "cell_type": "code",
   "execution_count": 72,
   "metadata": {
    "colab": {
     "base_uri": "https://localhost:8080/"
    },
    "id": "FKVjVeNVzTPO",
    "outputId": "651870d5-cda1-48d5-dac9-7e41670898af"
   },
   "outputs": [
    {
     "name": "stdout",
     "output_type": "stream",
     "text": [
      "Device utilizzato: cpu\n"
     ]
    }
   ],
   "source": [
    "device = torch.device(\"cuda\" if torch.cuda.is_available() else \"cpu\")\n",
    "print(f\"Device utilizzato: {device}\")\n",
    "\n",
    "class MLP(nn.Module):\n",
    "    def __init__(self, input_dim, hidden_sizes, dropout):\n",
    "        super().__init__()\n",
    "        layers = []\n",
    "        dim = input_dim\n",
    "        for hs in hidden_sizes:\n",
    "            layers.append(nn.Linear(dim, hs))\n",
    "            layers.append(nn.ReLU())\n",
    "            layers.append(nn.Dropout(dropout))\n",
    "            dim = hs\n",
    "        layers.append(nn.Linear(dim, 1))\n",
    "        self.net = nn.Sequential(*layers)\n",
    "    def forward(self, x):\n",
    "        return self.net(x)"
   ]
  },
  {
   "cell_type": "markdown",
   "metadata": {
    "id": "W1Ljjq9rZJZo"
   },
   "source": [
    "### Implementazione dell’Early Stopping\n",
    "\n",
    "La classe `EarlyStopper` consente di interrompere anticipatamente l'addestramento se la loss di validazione non migliora dopo un numero definito di epoche (`patience`). Velocizza l'ottimizzazione e riduce overfitting."
   ]
  },
  {
   "cell_type": "code",
   "execution_count": 73,
   "metadata": {
    "id": "B8sQny3mZPSf"
   },
   "outputs": [],
   "source": [
    "class EarlyStopper:\n",
    "    def __init__(self, patience=3, min_delta=0.0):\n",
    "        self.patience = patience\n",
    "        self.min_delta = min_delta\n",
    "        self.counter = 0\n",
    "        self.best_loss = float('inf')\n",
    "\n",
    "    def early_stop(self, val_loss):\n",
    "        # Se la loss migliora (di almeno min_delta), resettiamo il counter\n",
    "        if val_loss < self.best_loss - self.min_delta:\n",
    "            self.best_loss = val_loss\n",
    "            self.counter = 0\n",
    "        else:\n",
    "            self.counter += 1\n",
    "            # Se la loss non migliora da 'patience' epoche, dobbiamo fermarci\n",
    "            if self.counter >= self.patience:\n",
    "                return True\n",
    "        return False"
   ]
  },
  {
   "cell_type": "markdown",
   "metadata": {
    "id": "Etc1WebYZlib"
   },
   "source": [
    "### Funzioni per il training e la valutazione\n",
    "\n",
    "- `train_epoch`: esegue un'epoca di addestramento, aggiornando i pesi tramite backpropagation e accumulando la loss media ponderata.\n",
    "\n",
    "- `eval_loss`: calcola la loss media sul set di validazione, senza aggiornare i pesi (modalità evaluation)."
   ]
  },
  {
   "cell_type": "code",
   "execution_count": 74,
   "metadata": {
    "id": "ljnxu4EwZrSG"
   },
   "outputs": [],
   "source": [
    "def train_epoch(model, loader, optimizer, criterion):\n",
    "    model.train()\n",
    "    total_loss = 0.0\n",
    "    for Xb, yb in loader:\n",
    "        Xb, yb = Xb.to(device), yb.to(device)\n",
    "        optimizer.zero_grad()\n",
    "        loss = criterion(model(Xb), yb)\n",
    "        loss.backward()\n",
    "        optimizer.step()\n",
    "        total_loss += loss.item() * Xb.size(0)\n",
    "    return total_loss / len(loader.dataset)\n",
    "\n",
    "def eval_loss(model, loader, criterion):\n",
    "    model.eval()\n",
    "    total_loss = 0.0\n",
    "    with torch.no_grad():\n",
    "        for Xb, yb in loader:\n",
    "            Xb, yb = Xb.to(device), yb.to(device)\n",
    "            total_loss += criterion(model(Xb), yb).item() * Xb.size(0)\n",
    "    return total_loss / len(loader.dataset)"
   ]
  },
  {
   "cell_type": "markdown",
   "metadata": {
    "id": "CcnVXcxkzVxm"
   },
   "source": [
    "### Random Search con Cross-Validation temporale e Early Stopping\n",
    "\n",
    "La funzione `random_search` esegue una ricerca casuale di iperparametri sullo spazio definito, valutando ogni configurazione tramite `TimeSeriesSplit` per rispettare la dipendenza temporale dei dati.\n",
    "\n",
    "Per ogni combinazione di iperparametri:\n",
    "\n",
    "- Viene addestrato un modello MLP su ciascun fold del training set;\n",
    "- Viene monitorata la loss di validazione con Early Stopping per fermare l’addestramento se non ci sono miglioramenti;\n",
    "- Alla fine si calcola la media delle loss di validazione su tutti i fold.\n",
    "\n",
    "Il modello con la miglior media di loss viene restituito insieme ai relativi iperparametri."
   ]
  },
  {
   "cell_type": "code",
   "execution_count": 75,
   "metadata": {
    "id": "Iumk8NyQzZco"
   },
   "outputs": [],
   "source": [
    "def random_search(model_builder, param_dist, dataset,\n",
    "                  n_iter=10, cv_folds=5,\n",
    "                  early_patience=5,\n",
    "                  early_min_delta=1e-4):\n",
    "    train_keys = ['lr', 'batch_size', 'max_epochs']\n",
    "    best_val_loss = float('inf')\n",
    "    best_model_params, best_train_params = None, None\n",
    "    best_model = None\n",
    "\n",
    "    tscv = TimeSeriesSplit(n_splits=cv_folds)\n",
    "\n",
    "    print(\"Avvio Random Search con Time Series Cross Validation...\")\n",
    "\n",
    "    for param_id, params in enumerate(ParameterSampler(param_dist, n_iter=n_iter, random_state=RANDOM_STATE)):\n",
    "        print(f\"Testing parameter set {param_id+1}/{n_iter}\")\n",
    "\n",
    "        model_params = {k: v for k, v in params.items() if k not in train_keys}\n",
    "        train_params = {k: v for k, v in params.items() if k in train_keys}\n",
    "        val_losses = []\n",
    "\n",
    "        for fold_idx, (train_idx, val_idx) in enumerate(tscv.split(range(len(dataset)))):\n",
    "            print(f\"  Fold {fold_idx+1}/{cv_folds}\")\n",
    "\n",
    "            sub_train = Subset(dataset, train_idx)\n",
    "            val_set = Subset(dataset, val_idx)\n",
    "            train_loader = DataLoader(sub_train, batch_size=train_params['batch_size'], shuffle=True)\n",
    "            val_loader = DataLoader(val_set, batch_size=train_params['batch_size'], shuffle=False)\n",
    "\n",
    "            model = model_builder(**model_params).to(device)\n",
    "            optimizer = optim.Adam(model.parameters(), lr=train_params['lr'])\n",
    "            stopper = EarlyStopper(patience=early_patience, min_delta=early_min_delta)\n",
    "\n",
    "            for epoch in range(train_params['max_epochs']):\n",
    "                train_epoch(model, train_loader, optimizer, nn.MSELoss())\n",
    "                val_loss = eval_loss(model, val_loader, nn.MSELoss())\n",
    "\n",
    "                if epoch % 10 == 0:  # Print every 10 epochs\n",
    "                    print(f\"    Epoch {epoch}: val_loss = {val_loss:.6f}\")\n",
    "\n",
    "                if stopper.early_stop(val_loss):\n",
    "                    print(f\"    Early stopping at epoch {epoch}\")\n",
    "                    break\n",
    "\n",
    "            final_val_loss = eval_loss(model, val_loader, nn.MSELoss())\n",
    "            val_losses.append(final_val_loss)\n",
    "\n",
    "        mean_val = np.mean(val_losses)\n",
    "        print(f\"  Mean validation loss: {mean_val:.6f}\")\n",
    "\n",
    "        if mean_val < best_val_loss:\n",
    "            best_val_loss = mean_val\n",
    "            best_model_params = model_params\n",
    "            best_train_params = train_params\n",
    "            best_model = model\n",
    "            print(f\"  New best validation loss: {best_val_loss:.6f}\")\n",
    "\n",
    "    print(f\"\\nBest validation loss: {best_val_loss:.6f}\")\n",
    "    return best_model, best_model_params, best_train_params"
   ]
  },
  {
   "cell_type": "markdown",
   "metadata": {
    "id": "OVD5006Oza85"
   },
   "source": [
    "### Preparazione dati e spazio di ricerca iperparametri\n",
    "\n",
    "- I dati di training vengono trasformati tramite il preprocessore definito;\n",
    "- Viene creato un dataset PyTorch completo (features + target);\n",
    "- Definiamo gli intervalli di ricerca per gli iperparametri chiave del modello MLP:\n",
    "\n",
    "  - Dimensioni degli hidden layer (`hidden_sizes`);\n",
    "  - Dropout rate (`dropout`);\n",
    "  - Learning rate (`lr`);\n",
    "  - Batch size (`batch_size`);\n",
    "  - Numero massimo di epoche (`max_epochs`)."
   ]
  },
  {
   "cell_type": "code",
   "execution_count": 76,
   "metadata": {
    "colab": {
     "base_uri": "https://localhost:8080/"
    },
    "id": "lHuw7xi2zemy",
    "outputId": "62974f08-72fe-4c0a-ab40-80568c4d1451"
   },
   "outputs": [],
   "source": [
    "X_train_processed = preprocessor.transform(X_train)\n",
    "X_test_processed = preprocessor.transform(X_test)\n",
    "\n",
    "X_tensor = torch.tensor(X_train_processed, dtype=torch.float32)\n",
    "y_tensor = torch.tensor(y_train.values, dtype=torch.float32).unsqueeze(1)\n",
    "\n",
    "full_dataset = TensorDataset(X_tensor, y_tensor)\n",
    "\n",
    "input_dim = X_tensor.shape[1]\n",
    "mlp_param_dist = {\n",
    "    'input_dim': [input_dim],\n",
    "    'hidden_sizes': [(32,32), (64,64), (128,)],\n",
    "    'dropout': [0.0, 0.2, 0.5],\n",
    "    'lr': [1e-3, 1e-4],\n",
    "    'batch_size': [32, 64],\n",
    "    'max_epochs': [50, 100]\n",
    "}"
   ]
  },
  {
   "cell_type": "markdown",
   "metadata": {
    "id": "exVLSjhpZ88b"
   },
   "source": [
    "### Avvio della ricerca e valutazione\n",
    "\n",
    "- Eseguiamo la random search passando il costruttore del modello, lo spazio di iperparametri e il dataset;\n",
    "- Una volta ottenuto il miglior modello, valutiamo le sue prestazioni sul test set."
   ]
  },
  {
   "cell_type": "code",
   "execution_count": 77,
   "metadata": {
    "id": "WFrI6-zOZ_1h"
   },
   "outputs": [
    {
     "name": "stdout",
     "output_type": "stream",
     "text": [
      "Avvio Random Search con Time Series Cross Validation...\n",
      "Testing parameter set 1/10\n",
      "  Fold 1/5\n",
      "    Epoch 0: val_loss = 4.073591\n",
      "    Epoch 10: val_loss = 1.846628\n",
      "    Early stopping at epoch 19\n",
      "  Fold 2/5\n",
      "    Epoch 0: val_loss = 1.764553\n",
      "    Epoch 10: val_loss = 1.529650\n",
      "    Early stopping at epoch 11\n",
      "  Fold 3/5\n",
      "    Epoch 0: val_loss = 1.101351\n",
      "    Early stopping at epoch 6\n",
      "  Fold 4/5\n",
      "    Epoch 0: val_loss = 1.986221\n",
      "    Early stopping at epoch 5\n",
      "  Fold 5/5\n",
      "    Epoch 0: val_loss = 1.554598\n",
      "    Epoch 10: val_loss = 1.413960\n",
      "    Early stopping at epoch 12\n",
      "  Mean validation loss: 1.700776\n",
      "  New best validation loss: 1.700776\n",
      "Testing parameter set 2/10\n",
      "  Fold 1/5\n",
      "    Epoch 0: val_loss = 12.689364\n",
      "    Epoch 10: val_loss = 9.894714\n",
      "    Epoch 20: val_loss = 6.769614\n",
      "    Epoch 30: val_loss = 6.137561\n",
      "    Epoch 40: val_loss = 5.857831\n",
      "  Fold 2/5\n",
      "    Epoch 0: val_loss = 11.201503\n",
      "    Epoch 10: val_loss = 3.932247\n",
      "    Epoch 20: val_loss = 2.928026\n",
      "    Epoch 30: val_loss = 2.451545\n",
      "    Epoch 40: val_loss = 2.192196\n",
      "  Fold 3/5\n",
      "    Epoch 0: val_loss = 9.328740\n",
      "    Epoch 10: val_loss = 1.557961\n",
      "    Epoch 20: val_loss = 1.223164\n",
      "    Epoch 30: val_loss = 1.105530\n",
      "    Epoch 40: val_loss = 1.047157\n",
      "  Fold 4/5\n",
      "    Epoch 0: val_loss = 12.945023\n",
      "    Epoch 10: val_loss = 2.638971\n",
      "    Epoch 20: val_loss = 2.398891\n",
      "    Epoch 30: val_loss = 2.186980\n",
      "    Epoch 40: val_loss = 2.074111\n",
      "    Early stopping at epoch 44\n",
      "  Fold 5/5\n",
      "    Epoch 0: val_loss = 11.987067\n",
      "    Epoch 10: val_loss = 2.328729\n",
      "    Epoch 20: val_loss = 1.788247\n",
      "    Epoch 30: val_loss = 1.514727\n",
      "    Epoch 40: val_loss = 1.334953\n",
      "  Mean validation loss: 2.371504\n",
      "Testing parameter set 3/10\n",
      "  Fold 1/5\n",
      "    Epoch 0: val_loss = 13.670722\n",
      "    Epoch 10: val_loss = 4.977084\n",
      "    Epoch 20: val_loss = 4.177411\n",
      "    Epoch 30: val_loss = 3.577395\n",
      "    Epoch 40: val_loss = 3.139746\n",
      "  Fold 2/5\n",
      "    Epoch 0: val_loss = 10.473808\n",
      "    Epoch 10: val_loss = 1.783093\n",
      "    Epoch 20: val_loss = 1.521060\n",
      "    Epoch 30: val_loss = 1.460284\n",
      "    Epoch 40: val_loss = 1.404577\n",
      "    Early stopping at epoch 44\n",
      "  Fold 3/5\n",
      "    Epoch 0: val_loss = 7.227897\n",
      "    Epoch 10: val_loss = 0.987139\n",
      "    Epoch 20: val_loss = 0.940406\n",
      "    Epoch 30: val_loss = 0.905718\n",
      "    Epoch 40: val_loss = 0.891281\n",
      "  Fold 4/5\n",
      "    Epoch 0: val_loss = 5.800903\n",
      "    Early stopping at epoch 8\n",
      "  Fold 5/5\n",
      "    Epoch 0: val_loss = 3.654997\n",
      "    Epoch 10: val_loss = 1.493361\n",
      "    Epoch 20: val_loss = 1.342705\n",
      "    Epoch 30: val_loss = 1.248521\n",
      "    Epoch 40: val_loss = 1.183153\n",
      "  Mean validation loss: 1.680841\n",
      "  New best validation loss: 1.680841\n",
      "Testing parameter set 4/10\n",
      "  Fold 1/5\n",
      "    Epoch 0: val_loss = 6.178977\n",
      "    Epoch 10: val_loss = 2.079572\n",
      "    Epoch 20: val_loss = 1.852688\n",
      "    Early stopping at epoch 23\n",
      "  Fold 2/5\n",
      "    Epoch 0: val_loss = 3.227227\n",
      "    Epoch 10: val_loss = 1.376308\n",
      "    Early stopping at epoch 10\n",
      "  Fold 3/5\n",
      "    Epoch 0: val_loss = 1.167876\n",
      "    Early stopping at epoch 9\n",
      "  Fold 4/5\n",
      "    Epoch 0: val_loss = 1.996318\n",
      "    Epoch 10: val_loss = 2.448898\n",
      "    Early stopping at epoch 10\n",
      "  Fold 5/5\n",
      "    Epoch 0: val_loss = 1.605402\n",
      "    Epoch 10: val_loss = 1.422132\n",
      "    Early stopping at epoch 12\n",
      "  Mean validation loss: 1.640181\n",
      "  New best validation loss: 1.640181\n",
      "Testing parameter set 5/10\n",
      "  Fold 1/5\n",
      "    Epoch 0: val_loss = 4.320196\n",
      "    Epoch 10: val_loss = 2.051582\n",
      "    Epoch 20: val_loss = 1.464326\n",
      "    Epoch 30: val_loss = 1.407165\n",
      "    Early stopping at epoch 33\n",
      "  Fold 2/5\n",
      "    Epoch 0: val_loss = 2.242240\n",
      "    Epoch 10: val_loss = 1.230628\n",
      "    Early stopping at epoch 17\n",
      "  Fold 3/5\n",
      "    Epoch 0: val_loss = 1.022090\n",
      "    Epoch 10: val_loss = 0.865389\n",
      "    Early stopping at epoch 14\n",
      "  Fold 4/5\n",
      "    Epoch 0: val_loss = 2.140105\n",
      "    Epoch 10: val_loss = 2.057966\n",
      "    Early stopping at epoch 10\n",
      "  Fold 5/5\n",
      "    Epoch 0: val_loss = 1.613606\n",
      "    Epoch 10: val_loss = 1.087685\n",
      "    Epoch 20: val_loss = 1.034880\n",
      "    Early stopping at epoch 27\n",
      "  Mean validation loss: 1.303716\n",
      "  New best validation loss: 1.303716\n",
      "Testing parameter set 6/10\n",
      "  Fold 1/5\n",
      "    Epoch 0: val_loss = 12.527351\n",
      "    Epoch 10: val_loss = 8.878358\n",
      "    Epoch 20: val_loss = 6.356176\n",
      "    Epoch 30: val_loss = 5.655819\n",
      "    Epoch 40: val_loss = 5.206776\n",
      "  Fold 2/5\n",
      "    Epoch 0: val_loss = 13.507580\n",
      "    Epoch 10: val_loss = 3.880303\n",
      "    Epoch 20: val_loss = 2.641785\n",
      "    Epoch 30: val_loss = 2.211353\n",
      "    Epoch 40: val_loss = 1.982816\n",
      "  Fold 3/5\n",
      "    Epoch 0: val_loss = 10.084022\n",
      "    Epoch 10: val_loss = 1.262987\n",
      "    Epoch 20: val_loss = 1.024712\n",
      "    Epoch 30: val_loss = 0.978644\n",
      "    Epoch 40: val_loss = 0.940091\n",
      "  Fold 4/5\n",
      "    Epoch 0: val_loss = 10.690039\n",
      "    Epoch 10: val_loss = 2.088917\n",
      "    Early stopping at epoch 18\n",
      "  Fold 5/5\n",
      "    Epoch 0: val_loss = 11.110105\n",
      "    Epoch 10: val_loss = 1.764224\n",
      "    Epoch 20: val_loss = 1.523554\n",
      "    Epoch 30: val_loss = 1.403499\n",
      "    Epoch 40: val_loss = 1.336676\n",
      "  Mean validation loss: 2.205151\n",
      "Testing parameter set 7/10\n",
      "  Fold 1/5\n",
      "    Epoch 0: val_loss = 12.237173\n",
      "    Epoch 10: val_loss = 7.049205\n",
      "    Epoch 20: val_loss = 6.144801\n",
      "    Epoch 30: val_loss = 5.519137\n",
      "    Epoch 40: val_loss = 5.025489\n",
      "  Fold 2/5\n",
      "    Epoch 0: val_loss = 9.313738\n",
      "    Epoch 10: val_loss = 2.454076\n",
      "    Epoch 20: val_loss = 1.927580\n",
      "    Epoch 30: val_loss = 1.826427\n",
      "    Early stopping at epoch 34\n",
      "  Fold 3/5\n",
      "    Epoch 0: val_loss = 8.220240\n",
      "    Epoch 10: val_loss = 1.037726\n",
      "    Epoch 20: val_loss = 0.974391\n",
      "    Epoch 30: val_loss = 0.967246\n",
      "    Epoch 40: val_loss = 0.950458\n",
      "    Early stopping at epoch 41\n",
      "  Fold 4/5\n",
      "    Epoch 0: val_loss = 7.284077\n",
      "    Epoch 10: val_loss = 2.034147\n",
      "    Early stopping at epoch 14\n",
      "  Fold 5/5\n",
      "    Epoch 0: val_loss = 6.345475\n",
      "    Epoch 10: val_loss = 1.620504\n",
      "    Epoch 20: val_loss = 1.363366\n",
      "    Epoch 30: val_loss = 1.217360\n",
      "    Epoch 40: val_loss = 1.184000\n",
      "  Mean validation loss: 2.139861\n",
      "Testing parameter set 8/10\n",
      "  Fold 1/5\n",
      "    Epoch 0: val_loss = 13.700369\n",
      "    Epoch 10: val_loss = 7.750532\n",
      "    Epoch 20: val_loss = 6.686493\n",
      "    Epoch 30: val_loss = 6.078105\n",
      "    Epoch 40: val_loss = 5.550612\n",
      "  Fold 2/5\n",
      "    Epoch 0: val_loss = 11.585152\n",
      "    Epoch 10: val_loss = 3.266829\n",
      "    Epoch 20: val_loss = 2.476055\n",
      "    Epoch 30: val_loss = 2.270478\n",
      "    Epoch 40: val_loss = 2.234395\n",
      "    Early stopping at epoch 42\n",
      "  Fold 3/5\n",
      "    Epoch 0: val_loss = 7.832984\n",
      "    Epoch 10: val_loss = 1.117663\n",
      "    Epoch 20: val_loss = 1.028717\n",
      "    Early stopping at epoch 23\n",
      "  Fold 4/5\n",
      "    Epoch 0: val_loss = 8.202837\n",
      "    Epoch 10: val_loss = 1.845964\n",
      "    Early stopping at epoch 15\n",
      "  Fold 5/5\n",
      "    Epoch 0: val_loss = 7.662763\n",
      "    Epoch 10: val_loss = 1.762235\n",
      "    Epoch 20: val_loss = 1.509611\n",
      "    Epoch 30: val_loss = 1.351646\n",
      "    Epoch 40: val_loss = 1.265151\n",
      "  Mean validation loss: 2.285408\n",
      "Testing parameter set 9/10\n",
      "  Fold 1/5\n",
      "    Epoch 0: val_loss = 5.052893\n",
      "    Epoch 10: val_loss = 1.988482\n",
      "    Epoch 20: val_loss = 1.509994\n",
      "    Epoch 30: val_loss = 1.338298\n",
      "    Epoch 40: val_loss = 1.337643\n",
      "    Early stopping at epoch 40\n",
      "  Fold 2/5\n",
      "    Epoch 0: val_loss = 3.069887\n",
      "    Epoch 10: val_loss = 1.566994\n",
      "    Epoch 20: val_loss = 1.291843\n",
      "    Early stopping at epoch 27\n",
      "  Fold 3/5\n",
      "    Epoch 0: val_loss = 1.205184\n",
      "    Epoch 10: val_loss = 0.864354\n",
      "    Early stopping at epoch 13\n",
      "  Fold 4/5\n",
      "    Epoch 0: val_loss = 2.059814\n",
      "    Early stopping at epoch 9\n",
      "  Fold 5/5\n",
      "    Epoch 0: val_loss = 1.695349\n",
      "    Epoch 10: val_loss = 1.058481\n",
      "    Early stopping at epoch 17\n",
      "  Mean validation loss: 1.323650\n",
      "Testing parameter set 10/10\n",
      "  Fold 1/5\n",
      "    Epoch 0: val_loss = 13.618027\n",
      "    Epoch 10: val_loss = 4.774431\n",
      "    Epoch 20: val_loss = 3.702578\n",
      "    Epoch 30: val_loss = 3.239496\n",
      "    Epoch 40: val_loss = 2.879560\n",
      "  Fold 2/5\n",
      "    Epoch 0: val_loss = 11.108405\n",
      "    Epoch 10: val_loss = 2.424813\n",
      "    Epoch 20: val_loss = 1.841269\n",
      "    Epoch 30: val_loss = 1.668921\n",
      "    Epoch 40: val_loss = 1.564123\n",
      "  Fold 3/5\n",
      "    Epoch 0: val_loss = 9.478828\n",
      "    Epoch 10: val_loss = 1.067552\n",
      "    Epoch 20: val_loss = 0.967206\n",
      "    Epoch 30: val_loss = 0.940031\n",
      "    Epoch 40: val_loss = 0.922563\n",
      "  Fold 4/5\n",
      "    Epoch 0: val_loss = 10.724873\n",
      "    Epoch 10: val_loss = 1.987659\n",
      "    Early stopping at epoch 15\n",
      "  Fold 5/5\n",
      "    Epoch 0: val_loss = 9.580739\n",
      "    Epoch 10: val_loss = 1.628485\n",
      "    Epoch 20: val_loss = 1.440002\n",
      "    Epoch 30: val_loss = 1.316218\n",
      "    Epoch 40: val_loss = 1.218800\n",
      "  Mean validation loss: 1.640431\n",
      "\n",
      "Best validation loss: 1.303716\n"
     ]
    }
   ],
   "source": [
    "best_model, model_params, train_params = random_search(\n",
    "    lambda **p: MLP(**p), mlp_param_dist, full_dataset\n",
    ")\n",
    "\n",
    "X_test_tensor = torch.tensor(X_test_processed, dtype=torch.float32).to(device)\n",
    "y_test_tensor = torch.tensor(y_test.values, dtype=torch.float32).unsqueeze(1).to(device)\n",
    "\n",
    "get_torch_estimator_scores(\"MLP\", best_model,\n",
    "                           X_tensor.to(device), y_tensor.to(device),\n",
    "                           X_test_tensor, y_test_tensor,\n",
    "                           device)"
   ]
  },
  {
   "cell_type": "markdown",
   "metadata": {
    "id": "5uIugxCaMC9R"
   },
   "source": [
    "# Confronto Visivo delle Prestazioni dei Modelli\n",
    "\n",
    "La funzione `plot_estimator_scores(scores)` consente di visualizzare in modo sintetico ed intuitivo le metriche di valutazione di tutti i modelli allenati. I grafici generati permettono un confronto diretto tra le prestazioni su diverse metriche chiave:\n",
    "\n",
    "- **R² Score**: confronta le prestazioni sul training set e sul test set per identificare possibili fenomeni di overfitting.\n",
    "- **MSE (Mean Squared Error)**: evidenzia la media degli errori quadratici di previsione; penalizza fortemente gli outlier elevando al quadrato ogni errore.\n",
    "- **MAE (Mean Absolute Error)**: mostra la media dell’errore assoluto commesso da ciascun modello.\n",
    "- **MAPE (Mean Absolute Percentage Error)**: fornisce un’indicazione dell’errore medio in termini percentuali rispetto ai valori reali.\n",
    "- **Max Error**: evidenzia il peggior errore assoluto commesso su un’osservazione.\n",
    "- **Intervalli di Confidenza (CI95%)**: per le metriche **MSE**, **MAE** e **MAPE** viene stimato un intervallo di confidenza al 95% tramite bootstrap resampling, al fine di rappresentare l'incertezza statistica associata a ciascuna metrica.\n",
    "\n",
    "Questa visualizzazione finale è utile per trarre conclusioni sulla bontà predittiva di ciascun modello e guidare la scelta del miglior approccio da adottare."
   ]
  },
  {
   "cell_type": "code",
   "execution_count": 78,
   "metadata": {
    "id": "5vxh_8pW9qkC"
   },
   "outputs": [],
   "source": [
    "def plot_estimator_scores(scores):\n",
    "    melted_r2_adj = (\n",
    "        scores[['model', 'r2_train_adj', 'r2_test_adj']]\n",
    "        .rename(columns={'r2_train_adj':'train','r2_test_adj':'test'})\n",
    "        .melt(id_vars='model', var_name='set', value_name='score')\n",
    "    )\n",
    "\n",
    "    fig, axs = plt.subplots(2, 3, figsize=(18, 10))\n",
    "    fig.tight_layout(pad=4)\n",
    "\n",
    "    axs[0, 0].set_title('R² Aggiustato')\n",
    "    sns.barplot(data=melted_r2_adj, x='score', y='model', hue='set', ax=axs[0, 0])\n",
    "    axs[0, 0].legend(loc='lower right')\n",
    "\n",
    "    axs[0, 1].set_title('MSE ± CI95%')\n",
    "    for _, row in scores.iterrows():\n",
    "        axs[0, 1].barh(\n",
    "            row['model'], row['mse'],\n",
    "            xerr=[[row['mse']-row['mse_low']], [row['mse_high']-row['mse']]],\n",
    "            capsize=5\n",
    "        )\n",
    "    axs[0, 1].invert_yaxis()\n",
    "\n",
    "    axs[0, 2].set_title('MAE ± CI95%')\n",
    "    for _, row in scores.iterrows():\n",
    "        axs[0, 2].barh(\n",
    "            row['model'], row['mae'],\n",
    "            xerr=[[row['mae']-row['mae_low']], [row['mae_high']-row['mae']]],\n",
    "            capsize=5\n",
    "        )\n",
    "    axs[0, 2].invert_yaxis()\n",
    "\n",
    "    axs[1, 0].set_title('MAPE ± CI95%')\n",
    "    for _, row in scores.iterrows():\n",
    "        axs[1, 0].barh(\n",
    "            row['model'], row['mape'],\n",
    "            xerr=[[row['mape']-row['mape_low']], [row['mape_high']-row['mape']]],\n",
    "            capsize=5\n",
    "        )\n",
    "    axs[1, 0].invert_yaxis()\n",
    "\n",
    "    axs[1, 1].set_title('Max Error')\n",
    "    for _, row in scores.iterrows():\n",
    "        axs[1, 1].barh(row['model'], row['max_error'])\n",
    "    axs[1, 1].invert_yaxis()\n",
    "\n",
    "    axs[1, 2].axis('off')\n",
    "\n",
    "    plt.show()"
   ]
  },
  {
   "cell_type": "code",
   "execution_count": 79,
   "metadata": {
    "id": "RTHU3LQ49qkD"
   },
   "outputs": [
    {
     "data": {
      "image/png": "[encoded data removed]",
      "text/plain": [
       "<Figure size 1800x1000 with 6 Axes>"
      ]
     },
     "metadata": {},
     "output_type": "display_data"
    }
   ],
   "source": [
    "estimator_scores_df = pd.DataFrame(\n",
    "    all_scores,\n",
    "    columns = [\n",
    "        'model',\n",
    "        'r2_train_adj', 'r2_test_adj',\n",
    "        'mse', 'mse_low', 'mse_high',\n",
    "        'mae', 'mae_low', 'mae_high',\n",
    "        'mape', 'mape_low', 'mape_high',\n",
    "        'max_error'\n",
    "    ]\n",
    ")\n",
    "plot_estimator_scores(estimator_scores_df)"
   ]
  },
  {
   "cell_type": "markdown",
   "metadata": {
    "id": "EvcGaDcg8Q8R"
   },
   "source": [
    "# Selezione del Miglior Modello\n",
    "Calcoliamo un punteggio complessivo per ciascun modello basandoci sulle metriche di valutazione."
   ]
  },
  {
   "cell_type": "code",
   "execution_count": 80,
   "metadata": {
    "id": "B0DEhNMS8M8S"
   },
   "outputs": [
    {
     "name": "stdout",
     "output_type": "stream",
     "text": [
      "Ranking modelli:\n"
     ]
    },
    {
     "data": {
      "text/html": [
       "<div>\n",
       "<style scoped>\n",
       "    .dataframe tbody tr th:only-of-type {\n",
       "        vertical-align: middle;\n",
       "    }\n",
       "\n",
       "    .dataframe tbody tr th {\n",
       "        vertical-align: top;\n",
       "    }\n",
       "\n",
       "    .dataframe thead th {\n",
       "        text-align: right;\n",
       "    }\n",
       "</style>\n",
       "<table border=\"1\" class=\"dataframe\">\n",
       "  <thead>\n",
       "    <tr style=\"text-align: right;\">\n",
       "      <th></th>\n",
       "      <th>r2_test_adj_rank</th>\n",
       "      <th>mse_rank</th>\n",
       "      <th>mae_rank</th>\n",
       "      <th>mape_rank</th>\n",
       "      <th>max_error_rank</th>\n",
       "      <th>total_rank</th>\n",
       "    </tr>\n",
       "    <tr>\n",
       "      <th>model</th>\n",
       "      <th></th>\n",
       "      <th></th>\n",
       "      <th></th>\n",
       "      <th></th>\n",
       "      <th></th>\n",
       "      <th></th>\n",
       "    </tr>\n",
       "  </thead>\n",
       "  <tbody>\n",
       "    <tr>\n",
       "      <th>decision_tree_reg</th>\n",
       "      <td>2.0</td>\n",
       "      <td>2.0</td>\n",
       "      <td>1.0</td>\n",
       "      <td>1.0</td>\n",
       "      <td>1.0</td>\n",
       "      <td>7.0</td>\n",
       "    </tr>\n",
       "    <tr>\n",
       "      <th>random_forest_reg</th>\n",
       "      <td>1.0</td>\n",
       "      <td>1.0</td>\n",
       "      <td>2.0</td>\n",
       "      <td>2.0</td>\n",
       "      <td>2.0</td>\n",
       "      <td>8.0</td>\n",
       "    </tr>\n",
       "    <tr>\n",
       "      <th>lin_reg</th>\n",
       "      <td>4.0</td>\n",
       "      <td>4.0</td>\n",
       "      <td>3.0</td>\n",
       "      <td>5.0</td>\n",
       "      <td>4.0</td>\n",
       "      <td>20.0</td>\n",
       "    </tr>\n",
       "    <tr>\n",
       "      <th>lasso_reg</th>\n",
       "      <td>3.0</td>\n",
       "      <td>3.0</td>\n",
       "      <td>5.0</td>\n",
       "      <td>8.0</td>\n",
       "      <td>3.0</td>\n",
       "      <td>22.0</td>\n",
       "    </tr>\n",
       "    <tr>\n",
       "      <th>elastic_net_reg</th>\n",
       "      <td>5.0</td>\n",
       "      <td>5.0</td>\n",
       "      <td>4.0</td>\n",
       "      <td>4.0</td>\n",
       "      <td>6.0</td>\n",
       "      <td>24.0</td>\n",
       "    </tr>\n",
       "    <tr>\n",
       "      <th>xgboost_reg</th>\n",
       "      <td>6.0</td>\n",
       "      <td>6.0</td>\n",
       "      <td>6.0</td>\n",
       "      <td>7.0</td>\n",
       "      <td>5.0</td>\n",
       "      <td>30.0</td>\n",
       "    </tr>\n",
       "    <tr>\n",
       "      <th>kernel_rbf_reg</th>\n",
       "      <td>9.0</td>\n",
       "      <td>9.0</td>\n",
       "      <td>7.0</td>\n",
       "      <td>3.0</td>\n",
       "      <td>8.0</td>\n",
       "      <td>36.0</td>\n",
       "    </tr>\n",
       "    <tr>\n",
       "      <th>kernel_poly_reg</th>\n",
       "      <td>8.0</td>\n",
       "      <td>8.0</td>\n",
       "      <td>8.0</td>\n",
       "      <td>6.0</td>\n",
       "      <td>10.0</td>\n",
       "      <td>40.0</td>\n",
       "    </tr>\n",
       "    <tr>\n",
       "      <th>MLP</th>\n",
       "      <td>7.0</td>\n",
       "      <td>7.0</td>\n",
       "      <td>9.0</td>\n",
       "      <td>10.0</td>\n",
       "      <td>7.0</td>\n",
       "      <td>40.0</td>\n",
       "    </tr>\n",
       "    <tr>\n",
       "      <th>ridge_reg</th>\n",
       "      <td>10.0</td>\n",
       "      <td>10.0</td>\n",
       "      <td>10.0</td>\n",
       "      <td>9.0</td>\n",
       "      <td>9.0</td>\n",
       "      <td>48.0</td>\n",
       "    </tr>\n",
       "    <tr>\n",
       "      <th>poly_reg</th>\n",
       "      <td>11.0</td>\n",
       "      <td>11.0</td>\n",
       "      <td>11.0</td>\n",
       "      <td>11.0</td>\n",
       "      <td>11.0</td>\n",
       "      <td>55.0</td>\n",
       "    </tr>\n",
       "  </tbody>\n",
       "</table>\n",
       "</div>"
      ],
      "text/plain": [
       "                   r2_test_adj_rank  mse_rank  mae_rank  mape_rank  \\\n",
       "model                                                                \n",
       "decision_tree_reg               2.0       2.0       1.0        1.0   \n",
       "random_forest_reg               1.0       1.0       2.0        2.0   \n",
       "lin_reg                         4.0       4.0       3.0        5.0   \n",
       "lasso_reg                       3.0       3.0       5.0        8.0   \n",
       "elastic_net_reg                 5.0       5.0       4.0        4.0   \n",
       "xgboost_reg                     6.0       6.0       6.0        7.0   \n",
       "kernel_rbf_reg                  9.0       9.0       7.0        3.0   \n",
       "kernel_poly_reg                 8.0       8.0       8.0        6.0   \n",
       "MLP                             7.0       7.0       9.0       10.0   \n",
       "ridge_reg                      10.0      10.0      10.0        9.0   \n",
       "poly_reg                       11.0      11.0      11.0       11.0   \n",
       "\n",
       "                   max_error_rank  total_rank  \n",
       "model                                          \n",
       "decision_tree_reg             1.0         7.0  \n",
       "random_forest_reg             2.0         8.0  \n",
       "lin_reg                       4.0        20.0  \n",
       "lasso_reg                     3.0        22.0  \n",
       "elastic_net_reg               6.0        24.0  \n",
       "xgboost_reg                   5.0        30.0  \n",
       "kernel_rbf_reg                8.0        36.0  \n",
       "kernel_poly_reg              10.0        40.0  \n",
       "MLP                           7.0        40.0  \n",
       "ridge_reg                     9.0        48.0  \n",
       "poly_reg                     11.0        55.0  "
      ]
     },
     "execution_count": 80,
     "metadata": {},
     "output_type": "execute_result"
    }
   ],
   "source": [
    "# 1) Scegliamo le metriche da includere nel ranking:\n",
    "metrics = {\n",
    "    'r2_test_adj': 'max',\n",
    "    'mse': 'min',\n",
    "    'mae': 'min',\n",
    "    'mape': 'min',\n",
    "    'max_error': 'min'\n",
    "}\n",
    "\n",
    "# 2) Costruzione DataFrame dei rank\n",
    "df = estimator_scores_df.set_index('model')\n",
    "ranks = pd.DataFrame(index=df.index)\n",
    "for metric, direction in metrics.items():\n",
    "    ranks[f\"{metric}_rank\"] = df[metric].rank(ascending=(direction=='min'))\n",
    "\n",
    "# 3) Calcolo punteggio complessivo: somma dei rank normalizzati\n",
    "ranks['total_rank'] = ranks.sum(axis=1)\n",
    "\n",
    "# 4) Selezione del miglior modello\n",
    "best_model = ranks['total_rank'].idxmin()\n",
    "best_score = ranks['total_rank'].min()\n",
    "\n",
    "# Output dei risultati\n",
    "print(\"Ranking modelli:\")\n",
    "ranks.sort_values('total_rank')"
   ]
  },
  {
   "cell_type": "code",
   "execution_count": 81,
   "metadata": {
    "id": "pSsco95rEHWn"
   },
   "outputs": [
    {
     "name": "stdout",
     "output_type": "stream",
     "text": [
      "\n",
      "Miglior modello: decision_tree_reg (punteggio complessivo = 7.0)\n"
     ]
    }
   ],
   "source": [
    "print(f\"\\nMiglior modello: {best_model} (punteggio complessivo = {best_score})\")"
   ]
  },
  {
   "cell_type": "code",
   "execution_count": null,
   "metadata": {},
   "outputs": [],
   "source": []
  },
  {
   "cell_type": "code",
   "execution_count": null,
   "metadata": {},
   "outputs": [],
   "source": []
  },
  {
   "cell_type": "code",
   "execution_count": null,
   "metadata": {},
   "outputs": [],
   "source": []
  }
 ],
 "metadata": {
  "accelerator": "GPU",
  "colab": {
   "collapsed_sections": [
    "vnXzcSTc2Z4u",
    "GveBLWbLlViq",
    "H_bIhHTRKAzQ",
    "xOMRnqcslVir",
    "YP2p8Z1ClVit",
    "tCa0HV05lVix",
    "CBNwKTBslViy",
    "Mcl2wO-FlVi0",
    "7CqjLtbdlVi0",
    "aXwTWsC2lVi3",
    "GGubqzrxlVi3",
    "OSqJT3J-lVi4",
    "VFj50pJolVi4",
    "EOaI0YJZlVi4",
    "p4RNo3BclVi5",
    "bcj4BGSPlVi6",
    "sELWDyRclVi6",
    "rfO7GcablVi7",
    "sM7vW1UglVi8",
    "fY3JUaW7lVi9",
    "7xPxYN70lVi_",
    "uapeT7xKlVjA",
    "xlwH7ptOzQwq",
    "W1Ljjq9rZJZo",
    "Etc1WebYZlib",
    "CcnVXcxkzVxm",
    "OVD5006Oza85",
    "exVLSjhpZ88b",
    "5uIugxCaMC9R",
    "EvcGaDcg8Q8R"
   ],
   "gpuType": "T4",
   "provenance": []
  },
  "kernelspec": {
   "display_name": "Python 3 (ipykernel)",
   "language": "python",
   "name": "python3"
  },
  "language_info": {
   "codemirror_mode": {
    "name": "ipython",
    "version": 3
   },
   "file_extension": ".py",
   "mimetype": "text/x-python",
   "name": "python",
   "nbconvert_exporter": "python",
   "pygments_lexer": "ipython3",
   "version": "3.12.7"
  }
 },
 "nbformat": 4,
 "nbformat_minor": 4
}
