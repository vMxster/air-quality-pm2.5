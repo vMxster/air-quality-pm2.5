{
  "cells": [
    {
      "cell_type": "markdown",
      "metadata": {
        "id": "mvVxxvpq2pGF"
      },
      "source": [
        "# Previsione della Qualità dell'Aria - **Allenamento e Valutazione dei Modelli**"
      ]
    },
    {
      "cell_type": "markdown",
      "metadata": {
        "id": "gm3Q39LW2Z4t"
      },
      "source": [
        "**Progetto di Data Intensive**  \n",
        "**Autore:** Martin Tomassi, Jacopo Vasi  \n",
        "**Email:** martin.tomassi@studio.unibo.it , jacopo.vasi@studio.unibo.it  \n",
        "**Corso:** Data Intensive, Università di Bologna  \n",
        "**Data:** Aprile 2025"
      ]
    },
    {
      "cell_type": "markdown",
      "metadata": {
        "id": "vnXzcSTc2Z4u"
      },
      "source": [
        "## Caricamento dei Datasets ed Import Librerie\n",
        "\n"
      ]
    },
    {
      "cell_type": "code",
      "execution_count": 1,
      "metadata": {
        "id": "Ts2wiQjcg4BV",
        "outputId": "cc448b68-0619-4950-8ad5-8c0c3bd338f6",
        "colab": {
          "base_uri": "https://localhost:8080/"
        }
      },
      "outputs": [
        {
          "output_type": "stream",
          "name": "stdout",
          "text": [
            "Requirement already satisfied: tqdm in /usr/local/lib/python3.11/dist-packages (4.67.1)\n",
            "Requirement already satisfied: xgboost in /usr/local/lib/python3.11/dist-packages (2.1.4)\n",
            "Requirement already satisfied: numpy in /usr/local/lib/python3.11/dist-packages (from xgboost) (2.0.2)\n",
            "Requirement already satisfied: nvidia-nccl-cu12 in /usr/local/lib/python3.11/dist-packages (from xgboost) (2.21.5)\n",
            "Requirement already satisfied: scipy in /usr/local/lib/python3.11/dist-packages (from xgboost) (1.15.3)\n"
          ]
        }
      ],
      "source": [
        "import os.path\n",
        "from urllib.request import urlretrieve\n",
        "import requests\n",
        "import zipfile\n",
        "import io\n",
        "import glob\n",
        "import time\n",
        "import copy\n",
        "import numpy as np\n",
        "import pandas as pd\n",
        "import matplotlib.pyplot as plt\n",
        "from mpl_toolkits.mplot3d import Axes3D\n",
        "import seaborn as sns\n",
        "sns.set_theme()\n",
        "\n",
        "%pip install tqdm\n",
        "from tqdm import tqdm\n",
        "\n",
        "try:\n",
        "    import google.colab\n",
        "    running_in_colab = True\n",
        "except ImportError:\n",
        "    running_in_colab = False\n",
        "\n",
        "from sklearn.ensemble import RandomForestRegressor\n",
        "from sklearn.metrics import (\n",
        "    r2_score,\n",
        "    mean_squared_error,\n",
        "    mean_absolute_error,\n",
        "    mean_absolute_percentage_error,\n",
        "    mean_squared_log_error,\n",
        "    explained_variance_score,\n",
        "    max_error\n",
        ")\n",
        "from sklearn.model_selection import (\n",
        "    TimeSeriesSplit,\n",
        "    RandomizedSearchCV,\n",
        "    GridSearchCV,\n",
        "    ParameterSampler\n",
        ")\n",
        "from sklearn.linear_model import (\n",
        "    LinearRegression,\n",
        "    Lasso,\n",
        "    Ridge,\n",
        "    ElasticNet\n",
        ")\n",
        "\n",
        "import xgboost as xgb\n",
        "from IPython.display import clear_output\n",
        "from sklearn.compose import ColumnTransformer\n",
        "from sklearn.preprocessing import StandardScaler, PolynomialFeatures, OneHotEncoder\n",
        "from sklearn.pipeline import Pipeline\n",
        "from sklearn.kernel_ridge import KernelRidge\n",
        "from sklearn.tree import DecisionTreeRegressor\n",
        "\n",
        "import torch\n",
        "import torch.nn as nn\n",
        "import torch.optim as optim\n",
        "from torch.utils.data import TensorDataset, DataLoader, Subset\n",
        "\n",
        "%pip install xgboost\n",
        "from xgboost import XGBRegressor\n",
        "\n",
        "N_JOBS = -1\n",
        "RANDOM_STATE = 42"
      ]
    },
    {
      "cell_type": "code",
      "source": [
        "df = pd.read_csv('https://raw.githubusercontent.com/vMxster/Data_Project/main/Datasets/original_dataset.csv',\n",
        "                 sep=',',\n",
        "                 quotechar='\"',\n",
        "                 dtype=None,\n",
        "                 parse_dates=True,\n",
        "                 low_memory=False)\n",
        "obj_cols = df.select_dtypes(include=\"object\").columns\n",
        "for col in obj_cols:\n",
        "    df[col] = df[col].astype(\"string\")\n",
        "df.drop('date', axis=1, inplace=True)\n",
        "df = df[(df['year'] >= 2019) & (df['year'] <= 2022)]\n",
        "df = df.reset_index(drop=True)\n",
        "df.head()"
      ],
      "metadata": {
        "colab": {
          "base_uri": "https://localhost:8080/",
          "height": 290
        },
        "id": "B-1nc39QrJSv",
        "outputId": "bd8f24e2-7dd5-48d9-d20c-1844c23a099c"
      },
      "execution_count": 2,
      "outputs": [
        {
          "output_type": "execute_result",
          "data": {
            "text/plain": [
              "   year  month  dayofmonth           state       PM2.5        CO         O3  \\\n",
              "0  2019      1           1       Jharkhand    8.720000  0.000000  16.436667   \n",
              "1  2019      1           1          Kerala   65.784118  2.947647  68.821176   \n",
              "2  2019      1           1  Andhra Pradesh   79.580521  1.041757  59.043854   \n",
              "3  2019      1           1      Tamil Nadu  121.566597  0.848472  56.341250   \n",
              "4  2019      1           1         Gujarat  112.998750  0.494167  56.815833   \n",
              "\n",
              "   dayofweek  quarter  weekofyear  ...  o3_lag_1Y   pm_lag_2Y  co_lag_2Y  \\\n",
              "0          1        1           1  ...   1.770000         NaN        NaN   \n",
              "1          1        1           1  ...  46.665833         NaN        NaN   \n",
              "2          1        1           1  ...  51.598333   44.684783   0.531739   \n",
              "3          1        1           1  ...  28.469167   40.159167   1.061667   \n",
              "4          1        1           1  ...  44.890000  115.899583   1.082083   \n",
              "\n",
              "   o3_lag_2Y  pm_lag_1M  co_lag_1M  o3_lag_1M  pm_lag_1W  co_lag_1W  o3_lag_1W  \n",
              "0        NaN   8.720000   0.000000  15.982917   8.720000   0.000000  36.930000  \n",
              "1        NaN  42.000000   1.610833  46.917083  33.250000   2.490000  47.376250  \n",
              "2  16.971739  53.458646   0.962083  47.303333  82.668646   0.890687  67.567396  \n",
              "3  21.971250  22.963333   0.813472  22.469792  82.262500   1.040417  36.147292  \n",
              "4  43.001250  89.591250   0.705833  38.321250  80.867917   0.524167  70.607500  \n",
              "\n",
              "[5 rows x 23 columns]"
            ],
            "text/html": [
              "\n",
              "  <div id=\"df-6da5e8cf-8cc9-4d53-9608-6fae8d6e2030\" class=\"colab-df-container\">\n",
              "    <div>\n",
              "<style scoped>\n",
              "    .dataframe tbody tr th:only-of-type {\n",
              "        vertical-align: middle;\n",
              "    }\n",
              "\n",
              "    .dataframe tbody tr th {\n",
              "        vertical-align: top;\n",
              "    }\n",
              "\n",
              "    .dataframe thead th {\n",
              "        text-align: right;\n",
              "    }\n",
              "</style>\n",
              "<table border=\"1\" class=\"dataframe\">\n",
              "  <thead>\n",
              "    <tr style=\"text-align: right;\">\n",
              "      <th></th>\n",
              "      <th>year</th>\n",
              "      <th>month</th>\n",
              "      <th>dayofmonth</th>\n",
              "      <th>state</th>\n",
              "      <th>PM2.5</th>\n",
              "      <th>CO</th>\n",
              "      <th>O3</th>\n",
              "      <th>dayofweek</th>\n",
              "      <th>quarter</th>\n",
              "      <th>weekofyear</th>\n",
              "      <th>...</th>\n",
              "      <th>o3_lag_1Y</th>\n",
              "      <th>pm_lag_2Y</th>\n",
              "      <th>co_lag_2Y</th>\n",
              "      <th>o3_lag_2Y</th>\n",
              "      <th>pm_lag_1M</th>\n",
              "      <th>co_lag_1M</th>\n",
              "      <th>o3_lag_1M</th>\n",
              "      <th>pm_lag_1W</th>\n",
              "      <th>co_lag_1W</th>\n",
              "      <th>o3_lag_1W</th>\n",
              "    </tr>\n",
              "  </thead>\n",
              "  <tbody>\n",
              "    <tr>\n",
              "      <th>0</th>\n",
              "      <td>2019</td>\n",
              "      <td>1</td>\n",
              "      <td>1</td>\n",
              "      <td>Jharkhand</td>\n",
              "      <td>8.720000</td>\n",
              "      <td>0.000000</td>\n",
              "      <td>16.436667</td>\n",
              "      <td>1</td>\n",
              "      <td>1</td>\n",
              "      <td>1</td>\n",
              "      <td>...</td>\n",
              "      <td>1.770000</td>\n",
              "      <td>NaN</td>\n",
              "      <td>NaN</td>\n",
              "      <td>NaN</td>\n",
              "      <td>8.720000</td>\n",
              "      <td>0.000000</td>\n",
              "      <td>15.982917</td>\n",
              "      <td>8.720000</td>\n",
              "      <td>0.000000</td>\n",
              "      <td>36.930000</td>\n",
              "    </tr>\n",
              "    <tr>\n",
              "      <th>1</th>\n",
              "      <td>2019</td>\n",
              "      <td>1</td>\n",
              "      <td>1</td>\n",
              "      <td>Kerala</td>\n",
              "      <td>65.784118</td>\n",
              "      <td>2.947647</td>\n",
              "      <td>68.821176</td>\n",
              "      <td>1</td>\n",
              "      <td>1</td>\n",
              "      <td>1</td>\n",
              "      <td>...</td>\n",
              "      <td>46.665833</td>\n",
              "      <td>NaN</td>\n",
              "      <td>NaN</td>\n",
              "      <td>NaN</td>\n",
              "      <td>42.000000</td>\n",
              "      <td>1.610833</td>\n",
              "      <td>46.917083</td>\n",
              "      <td>33.250000</td>\n",
              "      <td>2.490000</td>\n",
              "      <td>47.376250</td>\n",
              "    </tr>\n",
              "    <tr>\n",
              "      <th>2</th>\n",
              "      <td>2019</td>\n",
              "      <td>1</td>\n",
              "      <td>1</td>\n",
              "      <td>Andhra Pradesh</td>\n",
              "      <td>79.580521</td>\n",
              "      <td>1.041757</td>\n",
              "      <td>59.043854</td>\n",
              "      <td>1</td>\n",
              "      <td>1</td>\n",
              "      <td>1</td>\n",
              "      <td>...</td>\n",
              "      <td>51.598333</td>\n",
              "      <td>44.684783</td>\n",
              "      <td>0.531739</td>\n",
              "      <td>16.971739</td>\n",
              "      <td>53.458646</td>\n",
              "      <td>0.962083</td>\n",
              "      <td>47.303333</td>\n",
              "      <td>82.668646</td>\n",
              "      <td>0.890687</td>\n",
              "      <td>67.567396</td>\n",
              "    </tr>\n",
              "    <tr>\n",
              "      <th>3</th>\n",
              "      <td>2019</td>\n",
              "      <td>1</td>\n",
              "      <td>1</td>\n",
              "      <td>Tamil Nadu</td>\n",
              "      <td>121.566597</td>\n",
              "      <td>0.848472</td>\n",
              "      <td>56.341250</td>\n",
              "      <td>1</td>\n",
              "      <td>1</td>\n",
              "      <td>1</td>\n",
              "      <td>...</td>\n",
              "      <td>28.469167</td>\n",
              "      <td>40.159167</td>\n",
              "      <td>1.061667</td>\n",
              "      <td>21.971250</td>\n",
              "      <td>22.963333</td>\n",
              "      <td>0.813472</td>\n",
              "      <td>22.469792</td>\n",
              "      <td>82.262500</td>\n",
              "      <td>1.040417</td>\n",
              "      <td>36.147292</td>\n",
              "    </tr>\n",
              "    <tr>\n",
              "      <th>4</th>\n",
              "      <td>2019</td>\n",
              "      <td>1</td>\n",
              "      <td>1</td>\n",
              "      <td>Gujarat</td>\n",
              "      <td>112.998750</td>\n",
              "      <td>0.494167</td>\n",
              "      <td>56.815833</td>\n",
              "      <td>1</td>\n",
              "      <td>1</td>\n",
              "      <td>1</td>\n",
              "      <td>...</td>\n",
              "      <td>44.890000</td>\n",
              "      <td>115.899583</td>\n",
              "      <td>1.082083</td>\n",
              "      <td>43.001250</td>\n",
              "      <td>89.591250</td>\n",
              "      <td>0.705833</td>\n",
              "      <td>38.321250</td>\n",
              "      <td>80.867917</td>\n",
              "      <td>0.524167</td>\n",
              "      <td>70.607500</td>\n",
              "    </tr>\n",
              "  </tbody>\n",
              "</table>\n",
              "<p>5 rows × 23 columns</p>\n",
              "</div>\n",
              "    <div class=\"colab-df-buttons\">\n",
              "\n",
              "  <div class=\"colab-df-container\">\n",
              "    <button class=\"colab-df-convert\" onclick=\"convertToInteractive('df-6da5e8cf-8cc9-4d53-9608-6fae8d6e2030')\"\n",
              "            title=\"Convert this dataframe to an interactive table.\"\n",
              "            style=\"display:none;\">\n",
              "\n",
              "  <svg xmlns=\"http://www.w3.org/2000/svg\" height=\"24px\" viewBox=\"0 -960 960 960\">\n",
              "    <path d=\"M120-120v-720h720v720H120Zm60-500h600v-160H180v160Zm220 220h160v-160H400v160Zm0 220h160v-160H400v160ZM180-400h160v-160H180v160Zm440 0h160v-160H620v160ZM180-180h160v-160H180v160Zm440 0h160v-160H620v160Z\"/>\n",
              "  </svg>\n",
              "    </button>\n",
              "\n",
              "  <style>\n",
              "    .colab-df-container {\n",
              "      display:flex;\n",
              "      gap: 12px;\n",
              "    }\n",
              "\n",
              "    .colab-df-convert {\n",
              "      background-color: #E8F0FE;\n",
              "      border: none;\n",
              "      border-radius: 50%;\n",
              "      cursor: pointer;\n",
              "      display: none;\n",
              "      fill: #1967D2;\n",
              "      height: 32px;\n",
              "      padding: 0 0 0 0;\n",
              "      width: 32px;\n",
              "    }\n",
              "\n",
              "    .colab-df-convert:hover {\n",
              "      background-color: #E2EBFA;\n",
              "      box-shadow: 0px 1px 2px rgba(60, 64, 67, 0.3), 0px 1px 3px 1px rgba(60, 64, 67, 0.15);\n",
              "      fill: #174EA6;\n",
              "    }\n",
              "\n",
              "    .colab-df-buttons div {\n",
              "      margin-bottom: 4px;\n",
              "    }\n",
              "\n",
              "    [theme=dark] .colab-df-convert {\n",
              "      background-color: #3B4455;\n",
              "      fill: #D2E3FC;\n",
              "    }\n",
              "\n",
              "    [theme=dark] .colab-df-convert:hover {\n",
              "      background-color: #434B5C;\n",
              "      box-shadow: 0px 1px 3px 1px rgba(0, 0, 0, 0.15);\n",
              "      filter: drop-shadow(0px 1px 2px rgba(0, 0, 0, 0.3));\n",
              "      fill: #FFFFFF;\n",
              "    }\n",
              "  </style>\n",
              "\n",
              "    <script>\n",
              "      const buttonEl =\n",
              "        document.querySelector('#df-6da5e8cf-8cc9-4d53-9608-6fae8d6e2030 button.colab-df-convert');\n",
              "      buttonEl.style.display =\n",
              "        google.colab.kernel.accessAllowed ? 'block' : 'none';\n",
              "\n",
              "      async function convertToInteractive(key) {\n",
              "        const element = document.querySelector('#df-6da5e8cf-8cc9-4d53-9608-6fae8d6e2030');\n",
              "        const dataTable =\n",
              "          await google.colab.kernel.invokeFunction('convertToInteractive',\n",
              "                                                    [key], {});\n",
              "        if (!dataTable) return;\n",
              "\n",
              "        const docLinkHtml = 'Like what you see? Visit the ' +\n",
              "          '<a target=\"_blank\" href=https://colab.research.google.com/notebooks/data_table.ipynb>data table notebook</a>'\n",
              "          + ' to learn more about interactive tables.';\n",
              "        element.innerHTML = '';\n",
              "        dataTable['output_type'] = 'display_data';\n",
              "        await google.colab.output.renderOutput(dataTable, element);\n",
              "        const docLink = document.createElement('div');\n",
              "        docLink.innerHTML = docLinkHtml;\n",
              "        element.appendChild(docLink);\n",
              "      }\n",
              "    </script>\n",
              "  </div>\n",
              "\n",
              "\n",
              "    <div id=\"df-5628bde0-afd9-4f35-b6c9-7215bf0fb37f\">\n",
              "      <button class=\"colab-df-quickchart\" onclick=\"quickchart('df-5628bde0-afd9-4f35-b6c9-7215bf0fb37f')\"\n",
              "                title=\"Suggest charts\"\n",
              "                style=\"display:none;\">\n",
              "\n",
              "<svg xmlns=\"http://www.w3.org/2000/svg\" height=\"24px\"viewBox=\"0 0 24 24\"\n",
              "     width=\"24px\">\n",
              "    <g>\n",
              "        <path d=\"M19 3H5c-1.1 0-2 .9-2 2v14c0 1.1.9 2 2 2h14c1.1 0 2-.9 2-2V5c0-1.1-.9-2-2-2zM9 17H7v-7h2v7zm4 0h-2V7h2v10zm4 0h-2v-4h2v4z\"/>\n",
              "    </g>\n",
              "</svg>\n",
              "      </button>\n",
              "\n",
              "<style>\n",
              "  .colab-df-quickchart {\n",
              "      --bg-color: #E8F0FE;\n",
              "      --fill-color: #1967D2;\n",
              "      --hover-bg-color: #E2EBFA;\n",
              "      --hover-fill-color: #174EA6;\n",
              "      --disabled-fill-color: #AAA;\n",
              "      --disabled-bg-color: #DDD;\n",
              "  }\n",
              "\n",
              "  [theme=dark] .colab-df-quickchart {\n",
              "      --bg-color: #3B4455;\n",
              "      --fill-color: #D2E3FC;\n",
              "      --hover-bg-color: #434B5C;\n",
              "      --hover-fill-color: #FFFFFF;\n",
              "      --disabled-bg-color: #3B4455;\n",
              "      --disabled-fill-color: #666;\n",
              "  }\n",
              "\n",
              "  .colab-df-quickchart {\n",
              "    background-color: var(--bg-color);\n",
              "    border: none;\n",
              "    border-radius: 50%;\n",
              "    cursor: pointer;\n",
              "    display: none;\n",
              "    fill: var(--fill-color);\n",
              "    height: 32px;\n",
              "    padding: 0;\n",
              "    width: 32px;\n",
              "  }\n",
              "\n",
              "  .colab-df-quickchart:hover {\n",
              "    background-color: var(--hover-bg-color);\n",
              "    box-shadow: 0 1px 2px rgba(60, 64, 67, 0.3), 0 1px 3px 1px rgba(60, 64, 67, 0.15);\n",
              "    fill: var(--button-hover-fill-color);\n",
              "  }\n",
              "\n",
              "  .colab-df-quickchart-complete:disabled,\n",
              "  .colab-df-quickchart-complete:disabled:hover {\n",
              "    background-color: var(--disabled-bg-color);\n",
              "    fill: var(--disabled-fill-color);\n",
              "    box-shadow: none;\n",
              "  }\n",
              "\n",
              "  .colab-df-spinner {\n",
              "    border: 2px solid var(--fill-color);\n",
              "    border-color: transparent;\n",
              "    border-bottom-color: var(--fill-color);\n",
              "    animation:\n",
              "      spin 1s steps(1) infinite;\n",
              "  }\n",
              "\n",
              "  @keyframes spin {\n",
              "    0% {\n",
              "      border-color: transparent;\n",
              "      border-bottom-color: var(--fill-color);\n",
              "      border-left-color: var(--fill-color);\n",
              "    }\n",
              "    20% {\n",
              "      border-color: transparent;\n",
              "      border-left-color: var(--fill-color);\n",
              "      border-top-color: var(--fill-color);\n",
              "    }\n",
              "    30% {\n",
              "      border-color: transparent;\n",
              "      border-left-color: var(--fill-color);\n",
              "      border-top-color: var(--fill-color);\n",
              "      border-right-color: var(--fill-color);\n",
              "    }\n",
              "    40% {\n",
              "      border-color: transparent;\n",
              "      border-right-color: var(--fill-color);\n",
              "      border-top-color: var(--fill-color);\n",
              "    }\n",
              "    60% {\n",
              "      border-color: transparent;\n",
              "      border-right-color: var(--fill-color);\n",
              "    }\n",
              "    80% {\n",
              "      border-color: transparent;\n",
              "      border-right-color: var(--fill-color);\n",
              "      border-bottom-color: var(--fill-color);\n",
              "    }\n",
              "    90% {\n",
              "      border-color: transparent;\n",
              "      border-bottom-color: var(--fill-color);\n",
              "    }\n",
              "  }\n",
              "</style>\n",
              "\n",
              "      <script>\n",
              "        async function quickchart(key) {\n",
              "          const quickchartButtonEl =\n",
              "            document.querySelector('#' + key + ' button');\n",
              "          quickchartButtonEl.disabled = true;  // To prevent multiple clicks.\n",
              "          quickchartButtonEl.classList.add('colab-df-spinner');\n",
              "          try {\n",
              "            const charts = await google.colab.kernel.invokeFunction(\n",
              "                'suggestCharts', [key], {});\n",
              "          } catch (error) {\n",
              "            console.error('Error during call to suggestCharts:', error);\n",
              "          }\n",
              "          quickchartButtonEl.classList.remove('colab-df-spinner');\n",
              "          quickchartButtonEl.classList.add('colab-df-quickchart-complete');\n",
              "        }\n",
              "        (() => {\n",
              "          let quickchartButtonEl =\n",
              "            document.querySelector('#df-5628bde0-afd9-4f35-b6c9-7215bf0fb37f button');\n",
              "          quickchartButtonEl.style.display =\n",
              "            google.colab.kernel.accessAllowed ? 'block' : 'none';\n",
              "        })();\n",
              "      </script>\n",
              "    </div>\n",
              "\n",
              "    </div>\n",
              "  </div>\n"
            ],
            "application/vnd.google.colaboratory.intrinsic+json": {
              "type": "dataframe",
              "variable_name": "df"
            }
          },
          "metadata": {},
          "execution_count": 2
        }
      ]
    },
    {
      "cell_type": "code",
      "source": [
        "df.info()"
      ],
      "metadata": {
        "id": "j5J-7bPorgC5",
        "outputId": "4b0601c3-ee81-455f-8ad8-de25648b03f5",
        "colab": {
          "base_uri": "https://localhost:8080/"
        }
      },
      "execution_count": 3,
      "outputs": [
        {
          "output_type": "stream",
          "name": "stdout",
          "text": [
            "<class 'pandas.core.frame.DataFrame'>\n",
            "RangeIndex: 34966 entries, 0 to 34965\n",
            "Data columns (total 23 columns):\n",
            " #   Column      Non-Null Count  Dtype  \n",
            "---  ------      --------------  -----  \n",
            " 0   year        34966 non-null  int64  \n",
            " 1   month       34966 non-null  int64  \n",
            " 2   dayofmonth  34966 non-null  int64  \n",
            " 3   state       34966 non-null  string \n",
            " 4   PM2.5       34966 non-null  float64\n",
            " 5   CO          34966 non-null  float64\n",
            " 6   O3          34966 non-null  float64\n",
            " 7   dayofweek   34966 non-null  int64  \n",
            " 8   quarter     34966 non-null  int64  \n",
            " 9   weekofyear  34966 non-null  int64  \n",
            " 10  dayofyear   34966 non-null  int64  \n",
            " 11  pm_lag_1Y   30238 non-null  float64\n",
            " 12  co_lag_1Y   30238 non-null  float64\n",
            " 13  o3_lag_1Y   30238 non-null  float64\n",
            " 14  pm_lag_2Y   26494 non-null  float64\n",
            " 15  co_lag_2Y   26494 non-null  float64\n",
            " 16  o3_lag_2Y   26494 non-null  float64\n",
            " 17  pm_lag_1M   34546 non-null  float64\n",
            " 18  co_lag_1M   34546 non-null  float64\n",
            " 19  o3_lag_1M   34546 non-null  float64\n",
            " 20  pm_lag_1W   34868 non-null  float64\n",
            " 21  co_lag_1W   34868 non-null  float64\n",
            " 22  o3_lag_1W   34868 non-null  float64\n",
            "dtypes: float64(15), int64(7), string(1)\n",
            "memory usage: 6.1 MB\n"
          ]
        }
      ]
    },
    {
      "cell_type": "markdown",
      "metadata": {
        "id": "pcIEc735lViq",
        "tags": []
      },
      "source": [
        "# Addestramento modelli\n",
        "A seguito dell'esplorazione e dell'omogeneizzazione dei due dataset, si può procedere all'addestramento dei modelli. I modelli verranno addestrati sulle seguenti feature indipendenti:\n",
        "- `year`: anno della misurazione\n",
        "- `month`: mese dell’anno\n",
        "- `dayofmonth`: giorno del mese\n",
        "- `dayofweek`: giorno della settimana\n",
        "- `dayofyear`: giorno dell’anno\n",
        "- `weekofyear`: settimana dell’anno\n",
        "- `quarter`: trimestre dell’anno\n",
        "- `state`: stato di misurazione\n",
        "- `pm_lag_1W`: PM2.5 ritardato di 1 settimana\n",
        "- `pm_lag_1M`: PM2.5 ritardato di 1 mese\n",
        "- `pm_lag_1Y`: PM2.5 ritardato di 1 anno\n",
        "- `pm_lag_2Y`: PM2.5 ritardato di 2 anni\n",
        "- `co_lag_1W`: CO ritardato di 1 settimana\n",
        "- `co_lag_1M`: CO ritardato di 1 mese\n",
        "- `co_lag_1Y`: CO ritardato di 1 anno\n",
        "- `co_lag_2Y`: CO ritardato di 2 anni\n",
        "- `o3_lag_1W`: O3 ritardato di 1 settimana\n",
        "- `o3_lag_1M`: O3 ritardato di 1 mese\n",
        "- `o3_lag_1Y`: O3 ritardato di 1 anno\n",
        "- `o3_lag_2Y`: O3 ritardato di 2 anni"
      ]
    },
    {
      "cell_type": "markdown",
      "metadata": {
        "id": "KwC-dywTlViq"
      },
      "source": [
        "La variabile dipendente target dell'addestramento è `PM2.5`, che indica la concentrazione di particelle inquinanti nell'aria con un diametro inferiore a 2,5 micron (μm)."
      ]
    },
    {
      "cell_type": "markdown",
      "metadata": {
        "id": "GveBLWbLlViq"
      },
      "source": [
        "## Preparazione Dataset\n",
        "Per garantire un confronto equo tra tutti i modelli, alcuni dei quali non supportano i valori mancanti generati dalle lag features, elimineremo tutte le righe che li contengono. Va però tenuto presente che così facendo perdiamo un anno di dati storici. Modelli come XGBoost di scikit-learn sono in grado di gestire internamente i missing value e potrebbero beneficiarne; tuttavia, per mantenere omogenee le condizioni di allenamento, applichiamo il drop completo dei NaN."
      ]
    },
    {
      "cell_type": "code",
      "execution_count": 4,
      "metadata": {
        "id": "2u4WO1bmlViq"
      },
      "outputs": [],
      "source": [
        "target = 'PM2.5'\n",
        "lag_features = ['pm_lag_1Y', 'pm_lag_2Y', 'pm_lag_1M', 'pm_lag_1W','co_lag_1Y', 'co_lag_2Y', 'co_lag_1M', 'co_lag_1W','o3_lag_1Y', 'o3_lag_2Y', 'o3_lag_1M', 'o3_lag_1W']\n",
        "date_features = ['dayofmonth', 'dayofweek', 'dayofyear', 'weekofyear', 'month', 'quarter', 'year']\n",
        "predictors = date_features + lag_features"
      ]
    },
    {
      "cell_type": "code",
      "execution_count": 5,
      "metadata": {
        "id": "efbb3yDvuaDc"
      },
      "outputs": [],
      "source": [
        "def create_train_test_sets(dataframe, split, replace_na=False, method='none'):\n",
        "    dataframe = dataframe.copy()\n",
        "\n",
        "    if replace_na and method == 'zeros':\n",
        "      dataframe = dataframe.fillna(0)\n",
        "    elif replace_na and method == 'drop':\n",
        "      dataframe = dataframe.dropna(how='any')\n",
        "\n",
        "    train_set, test_set = np.split(dataframe, [int(len(dataframe) * split)])\n",
        "    return train_set[predictors], test_set[predictors], train_set[target], test_set[target]"
      ]
    },
    {
      "cell_type": "code",
      "execution_count": 6,
      "metadata": {
        "id": "5_dgAHmhuh2i",
        "colab": {
          "base_uri": "https://localhost:8080/"
        },
        "outputId": "339f02b0-c5d7-4e5c-ceb8-0764ed443a73"
      },
      "outputs": [
        {
          "output_type": "stream",
          "name": "stderr",
          "text": [
            "/usr/local/lib/python3.11/dist-packages/numpy/_core/fromnumeric.py:57: FutureWarning: 'DataFrame.swapaxes' is deprecated and will be removed in a future version. Please use 'DataFrame.transpose' instead.\n",
            "  return bound(*args, **kwds)\n"
          ]
        }
      ],
      "source": [
        "X_train, X_test, y_train, y_test = create_train_test_sets(\n",
        "    df,\n",
        "    split=0.8,\n",
        "    replace_na=True,\n",
        "    method='drop'\n",
        ")\n",
        "\n",
        "# Resetta gli indici dei risultati di create_train_test_sets eliminando l’indice precedente,\n",
        "# in modo da partire da zero e avere indici continui\n",
        "X_train = X_train.reset_index(drop=True)\n",
        "X_test = X_test.reset_index(drop=True)\n",
        "y_train = y_train.reset_index(drop=True)\n",
        "y_test = y_test.reset_index(drop=True)\n",
        "\n",
        "X = pd.concat([X_train, X_test])\n",
        "y = pd.concat([y_train, y_test])"
      ]
    },
    {
      "cell_type": "code",
      "source": [
        "X_train.info()"
      ],
      "metadata": {
        "colab": {
          "base_uri": "https://localhost:8080/"
        },
        "id": "3Mz9jup_67xf",
        "outputId": "50afbd84-330c-4d15-a124-1987e954a1cd"
      },
      "execution_count": 7,
      "outputs": [
        {
          "output_type": "stream",
          "name": "stdout",
          "text": [
            "<class 'pandas.core.frame.DataFrame'>\n",
            "RangeIndex: 21195 entries, 0 to 21194\n",
            "Data columns (total 19 columns):\n",
            " #   Column      Non-Null Count  Dtype  \n",
            "---  ------      --------------  -----  \n",
            " 0   dayofmonth  21195 non-null  int64  \n",
            " 1   dayofweek   21195 non-null  int64  \n",
            " 2   dayofyear   21195 non-null  int64  \n",
            " 3   weekofyear  21195 non-null  int64  \n",
            " 4   month       21195 non-null  int64  \n",
            " 5   quarter     21195 non-null  int64  \n",
            " 6   year        21195 non-null  int64  \n",
            " 7   pm_lag_1Y   21195 non-null  float64\n",
            " 8   pm_lag_2Y   21195 non-null  float64\n",
            " 9   pm_lag_1M   21195 non-null  float64\n",
            " 10  pm_lag_1W   21195 non-null  float64\n",
            " 11  co_lag_1Y   21195 non-null  float64\n",
            " 12  co_lag_2Y   21195 non-null  float64\n",
            " 13  co_lag_1M   21195 non-null  float64\n",
            " 14  co_lag_1W   21195 non-null  float64\n",
            " 15  o3_lag_1Y   21195 non-null  float64\n",
            " 16  o3_lag_2Y   21195 non-null  float64\n",
            " 17  o3_lag_1M   21195 non-null  float64\n",
            " 18  o3_lag_1W   21195 non-null  float64\n",
            "dtypes: float64(12), int64(7)\n",
            "memory usage: 3.1 MB\n"
          ]
        }
      ]
    },
    {
      "cell_type": "code",
      "source": [
        "X_test.info()"
      ],
      "metadata": {
        "colab": {
          "base_uri": "https://localhost:8080/"
        },
        "id": "gl2OvBn56_PE",
        "outputId": "2a9fb38f-600e-4cca-b338-4d8ddefaa619"
      },
      "execution_count": 8,
      "outputs": [
        {
          "output_type": "stream",
          "name": "stdout",
          "text": [
            "<class 'pandas.core.frame.DataFrame'>\n",
            "RangeIndex: 5299 entries, 0 to 5298\n",
            "Data columns (total 19 columns):\n",
            " #   Column      Non-Null Count  Dtype  \n",
            "---  ------      --------------  -----  \n",
            " 0   dayofmonth  5299 non-null   int64  \n",
            " 1   dayofweek   5299 non-null   int64  \n",
            " 2   dayofyear   5299 non-null   int64  \n",
            " 3   weekofyear  5299 non-null   int64  \n",
            " 4   month       5299 non-null   int64  \n",
            " 5   quarter     5299 non-null   int64  \n",
            " 6   year        5299 non-null   int64  \n",
            " 7   pm_lag_1Y   5299 non-null   float64\n",
            " 8   pm_lag_2Y   5299 non-null   float64\n",
            " 9   pm_lag_1M   5299 non-null   float64\n",
            " 10  pm_lag_1W   5299 non-null   float64\n",
            " 11  co_lag_1Y   5299 non-null   float64\n",
            " 12  co_lag_2Y   5299 non-null   float64\n",
            " 13  co_lag_1M   5299 non-null   float64\n",
            " 14  co_lag_1W   5299 non-null   float64\n",
            " 15  o3_lag_1Y   5299 non-null   float64\n",
            " 16  o3_lag_2Y   5299 non-null   float64\n",
            " 17  o3_lag_1M   5299 non-null   float64\n",
            " 18  o3_lag_1W   5299 non-null   float64\n",
            "dtypes: float64(12), int64(7)\n",
            "memory usage: 786.7 KB\n"
          ]
        }
      ]
    },
    {
      "cell_type": "markdown",
      "metadata": {
        "id": "wqBCT7crrf9A"
      },
      "source": [
        "Nel dataset ci sono sia feature numeriche che categoriche. <br>\n",
        "Per le numeriche è necessario applicare una normalizzazione dei dati, i quali avrebbero altrimenti valori su scale molto diverse che renderebbero più difficile la convergenza del modello. <br>\n",
        "Per poter utilizzare le variabili categoriche nell'addestramento di un modello di regressione si usa un OneHotEncoder, creando nuove colonne binarie per ciascuno dei valori ammissibili dalla variabile categorica."
      ]
    },
    {
      "cell_type": "code",
      "execution_count": 9,
      "metadata": {
        "id": "YcK3Ma4545-a"
      },
      "outputs": [],
      "source": [
        "categorical_features = X.select_dtypes(include=[\"string\"]).columns.tolist()\n",
        "numerical_features   = [c for c in X.columns if c not in categorical_features]\n",
        "\n",
        "preprocessor = ColumnTransformer([\n",
        "    # Standardizza tutte le colonne numeriche\n",
        "    (\"numeric\",    StandardScaler(),    numerical_features),\n",
        "    # One‑hot encoding di 'state', ignorando nuovi stati in predict\n",
        "    (\"categorical\", OneHotEncoder(handle_unknown=\"ignore\"), categorical_features),\n",
        "])"
      ]
    },
    {
      "cell_type": "markdown",
      "metadata": {
        "id": "axPc4fYaKiDT"
      },
      "source": [
        "Inizializzazione della lista per raccogliere le metriche dopo ogni training"
      ]
    },
    {
      "cell_type": "code",
      "execution_count": 10,
      "metadata": {
        "id": "6LfV4nYJKiPx"
      },
      "outputs": [],
      "source": [
        "all_scores = []"
      ]
    },
    {
      "cell_type": "markdown",
      "metadata": {
        "id": "H_bIhHTRKAzQ"
      },
      "source": [
        "## Valutazione delle Prestazioni dei Modelli Allenati\n",
        "\n",
        "Dopo l'allenamento di ciascun modello di Machine Learning e Deep Learning, utilizziamo la funzione `get_estimator_scores` e `get_torch_estimator_scores` per calcolare diverse metriche di valutazione, includendo per le principali anche gli **Intervalli di Confidenza al 95%** (CI95%) stimati tramite bootstrap resampling.\n",
        "\n",
        "Le metriche calcolate sono:\n",
        "\n",
        "1. **$R^2$ (Coefficiente di Determinazione)**  \n",
        "   Misura quanto bene un modello riesce a spiegare la variabilità della variabile dipendente. Il valore di $R^2$ varia da 0 (nessuna capacità predittiva) a 1 (predizione perfetta).  \n",
        "   Un $R^2_{\\text{test}}$ significativamente inferiore rispetto a $R^2_{\\text{train}}$ indica possibile overfitting.  \n",
        "   *(Più alto è, meglio è.)*\n",
        "\n",
        "2. **Root Mean Squared Error (RMSE)**  \n",
        "   Misura la deviazione standard degli errori di previsione (la radice quadrata del MSE). Penalizza maggiormente gli errori più grandi.  \n",
        "   *(Più basso è, meglio è.)*\n",
        "\n",
        "3. **Mean Absolute Error (MAE)**  \n",
        "   Rappresenta la media delle differenze assolute tra i valori reali e quelli predetti. È meno sensibile agli outlier rispetto all’RMSE.  \n",
        "   *(Più basso è, meglio è.)*\n",
        "\n",
        "4. **Mean Absolute Percentage Error (MAPE)**  \n",
        "   Misura la precisione percentuale di un sistema di previsione. Indica, in media, quanto si discosta una previsione rispetto al valore reale.  \n",
        "   *(Più basso è, meglio è.)*\n",
        "\n",
        "5. **Mean Squared Logarithmic Error (MSLE)**  \n",
        "   Utile quando si vuole penalizzare maggiormente gli errori relativi per valori piccoli e avere tolleranza su valori grandi.  \n",
        "   *(Più basso è, meglio è.)*\n",
        "\n",
        "6. **Explained Variance Score**  \n",
        "   Misura la proporzione della varianza spiegata dal modello, simile a $R^2$, ma può essere più informativo in caso di regressione non lineare.  \n",
        "   *(Più alto è, meglio è.)*\n",
        "\n",
        "7. **Max Error**  \n",
        "   Misura l’errore assoluto massimo commesso in una previsione.  \n",
        "   *(Più basso è, meglio è.)*\n"
      ]
    },
    {
      "cell_type": "code",
      "execution_count": 11,
      "metadata": {
        "id": "zthJQ-LRL-8J"
      },
      "outputs": [],
      "source": [
        "def bootstrap_ci(metric_fn, y_true, y_pred, n_bootstraps=1000, alpha=0.05):\n",
        "    y_true_arr = np.asarray(y_true)\n",
        "    y_pred_arr = np.asarray(y_pred)\n",
        "    vals = []\n",
        "    for _ in range(n_bootstraps):\n",
        "        if running_in_colab:\n",
        "            idx = np.random.randint(0, len(y_true), len(y_true))\n",
        "            vals.append(metric_fn(y_true[idx], y_pred[idx]))\n",
        "        else:\n",
        "            idx = np.random.randint(0, len(y_true), len(y_true))\n",
        "            vals.append(metric_fn(y_true_arr[idx], y_pred_arr[idx]))\n",
        "\n",
        "    low = np.percentile(vals, 100 * (alpha/2))\n",
        "    high = np.percentile(vals, 100 * (1 - alpha/2))\n",
        "    return low, high\n",
        "\n",
        "def get_estimator_scores(model_name, model):\n",
        "    y_pred = model.predict(X_test)\n",
        "    r2_tr = model.score(X_train, y_train)\n",
        "    r2_te = r2_score(y_test, y_pred)\n",
        "    rmse = np.sqrt(mean_squared_error(y_test, y_pred))\n",
        "    mae = mean_absolute_error(y_test, y_pred)\n",
        "    mape = mean_absolute_percentage_error(y_test, y_pred)\n",
        "    msle = mean_squared_log_error(y_test, np.maximum(y_pred, 0))\n",
        "    evs = explained_variance_score(y_test, y_pred)\n",
        "    me = max_error(y_test, y_pred)\n",
        "\n",
        "    rmse_low, rmse_high = bootstrap_ci(lambda a,b: np.sqrt(mean_squared_error(a, b)), y_test, y_pred)\n",
        "    mae_low, mae_high = bootstrap_ci(mean_absolute_error, y_test, y_pred)\n",
        "    mape_low, mape_high = bootstrap_ci(mean_absolute_percentage_error, y_test, y_pred)\n",
        "\n",
        "    all_scores.append([\n",
        "        model_name, r2_tr, r2_te,\n",
        "        rmse, rmse_low, rmse_high,\n",
        "        mae, mae_low, mae_high,\n",
        "        mape, mape_low, mape_high,\n",
        "        msle, evs, me\n",
        "    ])\n",
        "\n",
        "def predict_torch(model, X_tensor, device):\n",
        "    model.eval()\n",
        "    with torch.no_grad():\n",
        "        out = model(X_tensor.to(device))\n",
        "    out_cpu = out.detach().cpu().numpy()\n",
        "    # Se il modello restituisce shape (N,1), appiattiamo a (N,)\n",
        "    if out_cpu.ndim == 2 and out_cpu.shape[1] == 1:\n",
        "        return out_cpu.ravel()\n",
        "    return out_cpu\n",
        "\n",
        "def get_torch_estimator_scores(model_name, model,\n",
        "                               X_train, y_train,\n",
        "                               X_test, y_test,\n",
        "                               device):\n",
        "    y_pred_train = predict_torch(model, X_train, device)\n",
        "    y_pred_test  = predict_torch(model, X_test,  device)\n",
        "\n",
        "    y_train_np = y_train.detach().cpu().numpy().ravel()\n",
        "    y_test_np  = y_test.detach().cpu().numpy().ravel()\n",
        "\n",
        "    r2_tr = r2_score(y_train_np, y_pred_train)\n",
        "    r2_te = r2_score(y_test_np,  y_pred_test)\n",
        "\n",
        "    rmse = np.sqrt(mean_squared_error(y_test_np, y_pred_test))\n",
        "    rmse_low, rmse_high = bootstrap_ci(\n",
        "        lambda a, b: np.sqrt(mean_squared_error(a, b)),\n",
        "        y_test_np, y_pred_test\n",
        "    )\n",
        "\n",
        "    mae = mean_absolute_error(y_test_np, y_pred_test)\n",
        "    mae_low, mae_high = bootstrap_ci(mean_absolute_error, y_test_np, y_pred_test)\n",
        "    mape = mean_absolute_percentage_error(y_test_np, y_pred_test)\n",
        "    mape_low, mape_high = bootstrap_ci(mean_absolute_percentage_error,\n",
        "                                       y_test_np, y_pred_test)\n",
        "    msle = mean_squared_log_error(y_test_np, np.maximum(y_pred_test, 0))\n",
        "    evs = explained_variance_score(y_test_np, y_pred_test)\n",
        "    me = max_error(y_test_np, y_pred_test)\n",
        "\n",
        "    all_scores.append([\n",
        "        model_name, r2_tr, r2_te,\n",
        "        rmse, rmse_low, rmse_high,\n",
        "        mae, mae_low, mae_high,\n",
        "        mape, mape_low, mape_high,\n",
        "        msle, evs, me\n",
        "    ])"
      ]
    },
    {
      "cell_type": "markdown",
      "metadata": {
        "id": "xOMRnqcslVir"
      },
      "source": [
        "## Regressione lineare\n",
        "Il modello più semplice da addestrare è la regressione lineare, senza filtri polinomiali o regolarizzazioni. Grazie all'elevato numero di dati usato per l'addestramento, si possono ottenere degli ottimi risultati, anche se migliorabili, già con questo primo modello."
      ]
    },
    {
      "cell_type": "code",
      "execution_count": 12,
      "metadata": {
        "id": "mSsOPwFNlVir"
      },
      "outputs": [],
      "source": [
        "model = Pipeline([\n",
        "    (\"preproc\", preprocessor),\n",
        "    (\"regr\"   , LinearRegression())\n",
        "])"
      ]
    },
    {
      "cell_type": "code",
      "execution_count": 13,
      "metadata": {
        "id": "nVduMAAHlVir",
        "colab": {
          "base_uri": "https://localhost:8080/"
        },
        "outputId": "48cadf37-54b0-4d8a-ecd8-9588ee938800"
      },
      "outputs": [
        {
          "output_type": "stream",
          "name": "stdout",
          "text": [
            "CPU times: user 32.6 ms, sys: 60 µs, total: 32.6 ms\n",
            "Wall time: 33.6 ms\n"
          ]
        }
      ],
      "source": [
        "%time model.fit(X_train, y_train)\n",
        "get_estimator_scores(\"lin_reg\", model)"
      ]
    },
    {
      "cell_type": "markdown",
      "metadata": {
        "id": "YP2p8Z1ClVit",
        "tags": []
      },
      "source": [
        "## Regressione polinomiale\n",
        "Per provare ad ottenere risultati migliori, vengono introdotte le feature polinomiali, che aggiungono nuove feature di grado superiore. Si esclude il bias, che consiste nel valore dell'intercetta, e si escludono i prodotti tra le diverse feature, per esempio i doppi prodotti in una regressione polinomiale di grado 2."
      ]
    },
    {
      "cell_type": "code",
      "execution_count": 14,
      "metadata": {
        "id": "8n3i5NhmlVit"
      },
      "outputs": [],
      "source": [
        "model = Pipeline([\n",
        "    (\"preproc\", preprocessor),\n",
        "    (\"poly\", PolynomialFeatures(degree=2, include_bias=False, interaction_only=True)),\n",
        "    (\"regr\"   , LinearRegression())\n",
        "])"
      ]
    },
    {
      "cell_type": "code",
      "execution_count": 15,
      "metadata": {
        "id": "txYsQh_mlViw",
        "colab": {
          "base_uri": "https://localhost:8080/"
        },
        "outputId": "68544688-8694-4121-964d-213226c65fac"
      },
      "outputs": [
        {
          "output_type": "stream",
          "name": "stdout",
          "text": [
            "CPU times: user 542 ms, sys: 25.8 ms, total: 567 ms\n",
            "Wall time: 360 ms\n"
          ]
        }
      ],
      "source": [
        "%time model.fit(X_train, y_train)\n",
        "get_estimator_scores(\"poly_reg\", model)"
      ]
    },
    {
      "cell_type": "markdown",
      "metadata": {
        "id": "tCa0HV05lVix",
        "tags": []
      },
      "source": [
        "## Regressione LASSO\n",
        "La regressione LASSO è un'ottima tecnica per selezionare le feature più importanti, poichè la discesa del gradiente si ferma su un vertice di un ipercubo centrato sull'origine, quindi azzera i parametri delle variabili meno rilevanti."
      ]
    },
    {
      "cell_type": "code",
      "execution_count": 16,
      "metadata": {
        "id": "jO8UrLjylVix"
      },
      "outputs": [],
      "source": [
        "model = Pipeline([\n",
        "    (\"preproc\", preprocessor),\n",
        "    (\"regr\", Lasso(alpha=1, max_iter=10000))\n",
        "])"
      ]
    },
    {
      "cell_type": "code",
      "execution_count": 17,
      "metadata": {
        "id": "zW41o83llVix",
        "colab": {
          "base_uri": "https://localhost:8080/",
          "height": 283
        },
        "outputId": "83a995f3-91d0-4fbe-81a0-1629bc4bcb0d"
      },
      "outputs": [
        {
          "output_type": "stream",
          "name": "stdout",
          "text": [
            "CPU times: user 21.2 ms, sys: 0 ns, total: 21.2 ms\n",
            "Wall time: 17.1 ms\n"
          ]
        },
        {
          "output_type": "execute_result",
          "data": {
            "text/plain": [
              "Pipeline(steps=[('preproc',\n",
              "                 ColumnTransformer(transformers=[('numeric', StandardScaler(),\n",
              "                                                  ['dayofmonth', 'dayofweek',\n",
              "                                                   'dayofyear', 'weekofyear',\n",
              "                                                   'month', 'quarter', 'year',\n",
              "                                                   'pm_lag_1Y', 'pm_lag_2Y',\n",
              "                                                   'pm_lag_1M', 'pm_lag_1W',\n",
              "                                                   'co_lag_1Y', 'co_lag_2Y',\n",
              "                                                   'co_lag_1M', 'co_lag_1W',\n",
              "                                                   'o3_lag_1Y', 'o3_lag_2Y',\n",
              "                                                   'o3_lag_1M', 'o3_lag_1W']),\n",
              "                                                 ('categorical',\n",
              "                                                  OneHotEncoder(handle_unknown='ignore'),\n",
              "                                                  [])])),\n",
              "                ('regr', Lasso(alpha=1, max_iter=10000))])"
            ],
            "text/html": [
              "<style>#sk-container-id-1 {\n",
              "  /* Definition of color scheme common for light and dark mode */\n",
              "  --sklearn-color-text: #000;\n",
              "  --sklearn-color-text-muted: #666;\n",
              "  --sklearn-color-line: gray;\n",
              "  /* Definition of color scheme for unfitted estimators */\n",
              "  --sklearn-color-unfitted-level-0: #fff5e6;\n",
              "  --sklearn-color-unfitted-level-1: #f6e4d2;\n",
              "  --sklearn-color-unfitted-level-2: #ffe0b3;\n",
              "  --sklearn-color-unfitted-level-3: chocolate;\n",
              "  /* Definition of color scheme for fitted estimators */\n",
              "  --sklearn-color-fitted-level-0: #f0f8ff;\n",
              "  --sklearn-color-fitted-level-1: #d4ebff;\n",
              "  --sklearn-color-fitted-level-2: #b3dbfd;\n",
              "  --sklearn-color-fitted-level-3: cornflowerblue;\n",
              "\n",
              "  /* Specific color for light theme */\n",
              "  --sklearn-color-text-on-default-background: var(--sg-text-color, var(--theme-code-foreground, var(--jp-content-font-color1, black)));\n",
              "  --sklearn-color-background: var(--sg-background-color, var(--theme-background, var(--jp-layout-color0, white)));\n",
              "  --sklearn-color-border-box: var(--sg-text-color, var(--theme-code-foreground, var(--jp-content-font-color1, black)));\n",
              "  --sklearn-color-icon: #696969;\n",
              "\n",
              "  @media (prefers-color-scheme: dark) {\n",
              "    /* Redefinition of color scheme for dark theme */\n",
              "    --sklearn-color-text-on-default-background: var(--sg-text-color, var(--theme-code-foreground, var(--jp-content-font-color1, white)));\n",
              "    --sklearn-color-background: var(--sg-background-color, var(--theme-background, var(--jp-layout-color0, #111)));\n",
              "    --sklearn-color-border-box: var(--sg-text-color, var(--theme-code-foreground, var(--jp-content-font-color1, white)));\n",
              "    --sklearn-color-icon: #878787;\n",
              "  }\n",
              "}\n",
              "\n",
              "#sk-container-id-1 {\n",
              "  color: var(--sklearn-color-text);\n",
              "}\n",
              "\n",
              "#sk-container-id-1 pre {\n",
              "  padding: 0;\n",
              "}\n",
              "\n",
              "#sk-container-id-1 input.sk-hidden--visually {\n",
              "  border: 0;\n",
              "  clip: rect(1px 1px 1px 1px);\n",
              "  clip: rect(1px, 1px, 1px, 1px);\n",
              "  height: 1px;\n",
              "  margin: -1px;\n",
              "  overflow: hidden;\n",
              "  padding: 0;\n",
              "  position: absolute;\n",
              "  width: 1px;\n",
              "}\n",
              "\n",
              "#sk-container-id-1 div.sk-dashed-wrapped {\n",
              "  border: 1px dashed var(--sklearn-color-line);\n",
              "  margin: 0 0.4em 0.5em 0.4em;\n",
              "  box-sizing: border-box;\n",
              "  padding-bottom: 0.4em;\n",
              "  background-color: var(--sklearn-color-background);\n",
              "}\n",
              "\n",
              "#sk-container-id-1 div.sk-container {\n",
              "  /* jupyter's `normalize.less` sets `[hidden] { display: none; }`\n",
              "     but bootstrap.min.css set `[hidden] { display: none !important; }`\n",
              "     so we also need the `!important` here to be able to override the\n",
              "     default hidden behavior on the sphinx rendered scikit-learn.org.\n",
              "     See: https://github.com/scikit-learn/scikit-learn/issues/21755 */\n",
              "  display: inline-block !important;\n",
              "  position: relative;\n",
              "}\n",
              "\n",
              "#sk-container-id-1 div.sk-text-repr-fallback {\n",
              "  display: none;\n",
              "}\n",
              "\n",
              "div.sk-parallel-item,\n",
              "div.sk-serial,\n",
              "div.sk-item {\n",
              "  /* draw centered vertical line to link estimators */\n",
              "  background-image: linear-gradient(var(--sklearn-color-text-on-default-background), var(--sklearn-color-text-on-default-background));\n",
              "  background-size: 2px 100%;\n",
              "  background-repeat: no-repeat;\n",
              "  background-position: center center;\n",
              "}\n",
              "\n",
              "/* Parallel-specific style estimator block */\n",
              "\n",
              "#sk-container-id-1 div.sk-parallel-item::after {\n",
              "  content: \"\";\n",
              "  width: 100%;\n",
              "  border-bottom: 2px solid var(--sklearn-color-text-on-default-background);\n",
              "  flex-grow: 1;\n",
              "}\n",
              "\n",
              "#sk-container-id-1 div.sk-parallel {\n",
              "  display: flex;\n",
              "  align-items: stretch;\n",
              "  justify-content: center;\n",
              "  background-color: var(--sklearn-color-background);\n",
              "  position: relative;\n",
              "}\n",
              "\n",
              "#sk-container-id-1 div.sk-parallel-item {\n",
              "  display: flex;\n",
              "  flex-direction: column;\n",
              "}\n",
              "\n",
              "#sk-container-id-1 div.sk-parallel-item:first-child::after {\n",
              "  align-self: flex-end;\n",
              "  width: 50%;\n",
              "}\n",
              "\n",
              "#sk-container-id-1 div.sk-parallel-item:last-child::after {\n",
              "  align-self: flex-start;\n",
              "  width: 50%;\n",
              "}\n",
              "\n",
              "#sk-container-id-1 div.sk-parallel-item:only-child::after {\n",
              "  width: 0;\n",
              "}\n",
              "\n",
              "/* Serial-specific style estimator block */\n",
              "\n",
              "#sk-container-id-1 div.sk-serial {\n",
              "  display: flex;\n",
              "  flex-direction: column;\n",
              "  align-items: center;\n",
              "  background-color: var(--sklearn-color-background);\n",
              "  padding-right: 1em;\n",
              "  padding-left: 1em;\n",
              "}\n",
              "\n",
              "\n",
              "/* Toggleable style: style used for estimator/Pipeline/ColumnTransformer box that is\n",
              "clickable and can be expanded/collapsed.\n",
              "- Pipeline and ColumnTransformer use this feature and define the default style\n",
              "- Estimators will overwrite some part of the style using the `sk-estimator` class\n",
              "*/\n",
              "\n",
              "/* Pipeline and ColumnTransformer style (default) */\n",
              "\n",
              "#sk-container-id-1 div.sk-toggleable {\n",
              "  /* Default theme specific background. It is overwritten whether we have a\n",
              "  specific estimator or a Pipeline/ColumnTransformer */\n",
              "  background-color: var(--sklearn-color-background);\n",
              "}\n",
              "\n",
              "/* Toggleable label */\n",
              "#sk-container-id-1 label.sk-toggleable__label {\n",
              "  cursor: pointer;\n",
              "  display: flex;\n",
              "  width: 100%;\n",
              "  margin-bottom: 0;\n",
              "  padding: 0.5em;\n",
              "  box-sizing: border-box;\n",
              "  text-align: center;\n",
              "  align-items: start;\n",
              "  justify-content: space-between;\n",
              "  gap: 0.5em;\n",
              "}\n",
              "\n",
              "#sk-container-id-1 label.sk-toggleable__label .caption {\n",
              "  font-size: 0.6rem;\n",
              "  font-weight: lighter;\n",
              "  color: var(--sklearn-color-text-muted);\n",
              "}\n",
              "\n",
              "#sk-container-id-1 label.sk-toggleable__label-arrow:before {\n",
              "  /* Arrow on the left of the label */\n",
              "  content: \"▸\";\n",
              "  float: left;\n",
              "  margin-right: 0.25em;\n",
              "  color: var(--sklearn-color-icon);\n",
              "}\n",
              "\n",
              "#sk-container-id-1 label.sk-toggleable__label-arrow:hover:before {\n",
              "  color: var(--sklearn-color-text);\n",
              "}\n",
              "\n",
              "/* Toggleable content - dropdown */\n",
              "\n",
              "#sk-container-id-1 div.sk-toggleable__content {\n",
              "  max-height: 0;\n",
              "  max-width: 0;\n",
              "  overflow: hidden;\n",
              "  text-align: left;\n",
              "  /* unfitted */\n",
              "  background-color: var(--sklearn-color-unfitted-level-0);\n",
              "}\n",
              "\n",
              "#sk-container-id-1 div.sk-toggleable__content.fitted {\n",
              "  /* fitted */\n",
              "  background-color: var(--sklearn-color-fitted-level-0);\n",
              "}\n",
              "\n",
              "#sk-container-id-1 div.sk-toggleable__content pre {\n",
              "  margin: 0.2em;\n",
              "  border-radius: 0.25em;\n",
              "  color: var(--sklearn-color-text);\n",
              "  /* unfitted */\n",
              "  background-color: var(--sklearn-color-unfitted-level-0);\n",
              "}\n",
              "\n",
              "#sk-container-id-1 div.sk-toggleable__content.fitted pre {\n",
              "  /* unfitted */\n",
              "  background-color: var(--sklearn-color-fitted-level-0);\n",
              "}\n",
              "\n",
              "#sk-container-id-1 input.sk-toggleable__control:checked~div.sk-toggleable__content {\n",
              "  /* Expand drop-down */\n",
              "  max-height: 200px;\n",
              "  max-width: 100%;\n",
              "  overflow: auto;\n",
              "}\n",
              "\n",
              "#sk-container-id-1 input.sk-toggleable__control:checked~label.sk-toggleable__label-arrow:before {\n",
              "  content: \"▾\";\n",
              "}\n",
              "\n",
              "/* Pipeline/ColumnTransformer-specific style */\n",
              "\n",
              "#sk-container-id-1 div.sk-label input.sk-toggleable__control:checked~label.sk-toggleable__label {\n",
              "  color: var(--sklearn-color-text);\n",
              "  background-color: var(--sklearn-color-unfitted-level-2);\n",
              "}\n",
              "\n",
              "#sk-container-id-1 div.sk-label.fitted input.sk-toggleable__control:checked~label.sk-toggleable__label {\n",
              "  background-color: var(--sklearn-color-fitted-level-2);\n",
              "}\n",
              "\n",
              "/* Estimator-specific style */\n",
              "\n",
              "/* Colorize estimator box */\n",
              "#sk-container-id-1 div.sk-estimator input.sk-toggleable__control:checked~label.sk-toggleable__label {\n",
              "  /* unfitted */\n",
              "  background-color: var(--sklearn-color-unfitted-level-2);\n",
              "}\n",
              "\n",
              "#sk-container-id-1 div.sk-estimator.fitted input.sk-toggleable__control:checked~label.sk-toggleable__label {\n",
              "  /* fitted */\n",
              "  background-color: var(--sklearn-color-fitted-level-2);\n",
              "}\n",
              "\n",
              "#sk-container-id-1 div.sk-label label.sk-toggleable__label,\n",
              "#sk-container-id-1 div.sk-label label {\n",
              "  /* The background is the default theme color */\n",
              "  color: var(--sklearn-color-text-on-default-background);\n",
              "}\n",
              "\n",
              "/* On hover, darken the color of the background */\n",
              "#sk-container-id-1 div.sk-label:hover label.sk-toggleable__label {\n",
              "  color: var(--sklearn-color-text);\n",
              "  background-color: var(--sklearn-color-unfitted-level-2);\n",
              "}\n",
              "\n",
              "/* Label box, darken color on hover, fitted */\n",
              "#sk-container-id-1 div.sk-label.fitted:hover label.sk-toggleable__label.fitted {\n",
              "  color: var(--sklearn-color-text);\n",
              "  background-color: var(--sklearn-color-fitted-level-2);\n",
              "}\n",
              "\n",
              "/* Estimator label */\n",
              "\n",
              "#sk-container-id-1 div.sk-label label {\n",
              "  font-family: monospace;\n",
              "  font-weight: bold;\n",
              "  display: inline-block;\n",
              "  line-height: 1.2em;\n",
              "}\n",
              "\n",
              "#sk-container-id-1 div.sk-label-container {\n",
              "  text-align: center;\n",
              "}\n",
              "\n",
              "/* Estimator-specific */\n",
              "#sk-container-id-1 div.sk-estimator {\n",
              "  font-family: monospace;\n",
              "  border: 1px dotted var(--sklearn-color-border-box);\n",
              "  border-radius: 0.25em;\n",
              "  box-sizing: border-box;\n",
              "  margin-bottom: 0.5em;\n",
              "  /* unfitted */\n",
              "  background-color: var(--sklearn-color-unfitted-level-0);\n",
              "}\n",
              "\n",
              "#sk-container-id-1 div.sk-estimator.fitted {\n",
              "  /* fitted */\n",
              "  background-color: var(--sklearn-color-fitted-level-0);\n",
              "}\n",
              "\n",
              "/* on hover */\n",
              "#sk-container-id-1 div.sk-estimator:hover {\n",
              "  /* unfitted */\n",
              "  background-color: var(--sklearn-color-unfitted-level-2);\n",
              "}\n",
              "\n",
              "#sk-container-id-1 div.sk-estimator.fitted:hover {\n",
              "  /* fitted */\n",
              "  background-color: var(--sklearn-color-fitted-level-2);\n",
              "}\n",
              "\n",
              "/* Specification for estimator info (e.g. \"i\" and \"?\") */\n",
              "\n",
              "/* Common style for \"i\" and \"?\" */\n",
              "\n",
              ".sk-estimator-doc-link,\n",
              "a:link.sk-estimator-doc-link,\n",
              "a:visited.sk-estimator-doc-link {\n",
              "  float: right;\n",
              "  font-size: smaller;\n",
              "  line-height: 1em;\n",
              "  font-family: monospace;\n",
              "  background-color: var(--sklearn-color-background);\n",
              "  border-radius: 1em;\n",
              "  height: 1em;\n",
              "  width: 1em;\n",
              "  text-decoration: none !important;\n",
              "  margin-left: 0.5em;\n",
              "  text-align: center;\n",
              "  /* unfitted */\n",
              "  border: var(--sklearn-color-unfitted-level-1) 1pt solid;\n",
              "  color: var(--sklearn-color-unfitted-level-1);\n",
              "}\n",
              "\n",
              ".sk-estimator-doc-link.fitted,\n",
              "a:link.sk-estimator-doc-link.fitted,\n",
              "a:visited.sk-estimator-doc-link.fitted {\n",
              "  /* fitted */\n",
              "  border: var(--sklearn-color-fitted-level-1) 1pt solid;\n",
              "  color: var(--sklearn-color-fitted-level-1);\n",
              "}\n",
              "\n",
              "/* On hover */\n",
              "div.sk-estimator:hover .sk-estimator-doc-link:hover,\n",
              ".sk-estimator-doc-link:hover,\n",
              "div.sk-label-container:hover .sk-estimator-doc-link:hover,\n",
              ".sk-estimator-doc-link:hover {\n",
              "  /* unfitted */\n",
              "  background-color: var(--sklearn-color-unfitted-level-3);\n",
              "  color: var(--sklearn-color-background);\n",
              "  text-decoration: none;\n",
              "}\n",
              "\n",
              "div.sk-estimator.fitted:hover .sk-estimator-doc-link.fitted:hover,\n",
              ".sk-estimator-doc-link.fitted:hover,\n",
              "div.sk-label-container:hover .sk-estimator-doc-link.fitted:hover,\n",
              ".sk-estimator-doc-link.fitted:hover {\n",
              "  /* fitted */\n",
              "  background-color: var(--sklearn-color-fitted-level-3);\n",
              "  color: var(--sklearn-color-background);\n",
              "  text-decoration: none;\n",
              "}\n",
              "\n",
              "/* Span, style for the box shown on hovering the info icon */\n",
              ".sk-estimator-doc-link span {\n",
              "  display: none;\n",
              "  z-index: 9999;\n",
              "  position: relative;\n",
              "  font-weight: normal;\n",
              "  right: .2ex;\n",
              "  padding: .5ex;\n",
              "  margin: .5ex;\n",
              "  width: min-content;\n",
              "  min-width: 20ex;\n",
              "  max-width: 50ex;\n",
              "  color: var(--sklearn-color-text);\n",
              "  box-shadow: 2pt 2pt 4pt #999;\n",
              "  /* unfitted */\n",
              "  background: var(--sklearn-color-unfitted-level-0);\n",
              "  border: .5pt solid var(--sklearn-color-unfitted-level-3);\n",
              "}\n",
              "\n",
              ".sk-estimator-doc-link.fitted span {\n",
              "  /* fitted */\n",
              "  background: var(--sklearn-color-fitted-level-0);\n",
              "  border: var(--sklearn-color-fitted-level-3);\n",
              "}\n",
              "\n",
              ".sk-estimator-doc-link:hover span {\n",
              "  display: block;\n",
              "}\n",
              "\n",
              "/* \"?\"-specific style due to the `<a>` HTML tag */\n",
              "\n",
              "#sk-container-id-1 a.estimator_doc_link {\n",
              "  float: right;\n",
              "  font-size: 1rem;\n",
              "  line-height: 1em;\n",
              "  font-family: monospace;\n",
              "  background-color: var(--sklearn-color-background);\n",
              "  border-radius: 1rem;\n",
              "  height: 1rem;\n",
              "  width: 1rem;\n",
              "  text-decoration: none;\n",
              "  /* unfitted */\n",
              "  color: var(--sklearn-color-unfitted-level-1);\n",
              "  border: var(--sklearn-color-unfitted-level-1) 1pt solid;\n",
              "}\n",
              "\n",
              "#sk-container-id-1 a.estimator_doc_link.fitted {\n",
              "  /* fitted */\n",
              "  border: var(--sklearn-color-fitted-level-1) 1pt solid;\n",
              "  color: var(--sklearn-color-fitted-level-1);\n",
              "}\n",
              "\n",
              "/* On hover */\n",
              "#sk-container-id-1 a.estimator_doc_link:hover {\n",
              "  /* unfitted */\n",
              "  background-color: var(--sklearn-color-unfitted-level-3);\n",
              "  color: var(--sklearn-color-background);\n",
              "  text-decoration: none;\n",
              "}\n",
              "\n",
              "#sk-container-id-1 a.estimator_doc_link.fitted:hover {\n",
              "  /* fitted */\n",
              "  background-color: var(--sklearn-color-fitted-level-3);\n",
              "}\n",
              "</style><div id=\"sk-container-id-1\" class=\"sk-top-container\"><div class=\"sk-text-repr-fallback\"><pre>Pipeline(steps=[(&#x27;preproc&#x27;,\n",
              "                 ColumnTransformer(transformers=[(&#x27;numeric&#x27;, StandardScaler(),\n",
              "                                                  [&#x27;dayofmonth&#x27;, &#x27;dayofweek&#x27;,\n",
              "                                                   &#x27;dayofyear&#x27;, &#x27;weekofyear&#x27;,\n",
              "                                                   &#x27;month&#x27;, &#x27;quarter&#x27;, &#x27;year&#x27;,\n",
              "                                                   &#x27;pm_lag_1Y&#x27;, &#x27;pm_lag_2Y&#x27;,\n",
              "                                                   &#x27;pm_lag_1M&#x27;, &#x27;pm_lag_1W&#x27;,\n",
              "                                                   &#x27;co_lag_1Y&#x27;, &#x27;co_lag_2Y&#x27;,\n",
              "                                                   &#x27;co_lag_1M&#x27;, &#x27;co_lag_1W&#x27;,\n",
              "                                                   &#x27;o3_lag_1Y&#x27;, &#x27;o3_lag_2Y&#x27;,\n",
              "                                                   &#x27;o3_lag_1M&#x27;, &#x27;o3_lag_1W&#x27;]),\n",
              "                                                 (&#x27;categorical&#x27;,\n",
              "                                                  OneHotEncoder(handle_unknown=&#x27;ignore&#x27;),\n",
              "                                                  [])])),\n",
              "                (&#x27;regr&#x27;, Lasso(alpha=1, max_iter=10000))])</pre><b>In a Jupyter environment, please rerun this cell to show the HTML representation or trust the notebook. <br />On GitHub, the HTML representation is unable to render, please try loading this page with nbviewer.org.</b></div><div class=\"sk-container\" hidden><div class=\"sk-item sk-dashed-wrapped\"><div class=\"sk-label-container\"><div class=\"sk-label fitted sk-toggleable\"><input class=\"sk-toggleable__control sk-hidden--visually\" id=\"sk-estimator-id-1\" type=\"checkbox\" ><label for=\"sk-estimator-id-1\" class=\"sk-toggleable__label fitted sk-toggleable__label-arrow\"><div><div>Pipeline</div></div><div><a class=\"sk-estimator-doc-link fitted\" rel=\"noreferrer\" target=\"_blank\" href=\"https://scikit-learn.org/1.6/modules/generated/sklearn.pipeline.Pipeline.html\">?<span>Documentation for Pipeline</span></a><span class=\"sk-estimator-doc-link fitted\">i<span>Fitted</span></span></div></label><div class=\"sk-toggleable__content fitted\"><pre>Pipeline(steps=[(&#x27;preproc&#x27;,\n",
              "                 ColumnTransformer(transformers=[(&#x27;numeric&#x27;, StandardScaler(),\n",
              "                                                  [&#x27;dayofmonth&#x27;, &#x27;dayofweek&#x27;,\n",
              "                                                   &#x27;dayofyear&#x27;, &#x27;weekofyear&#x27;,\n",
              "                                                   &#x27;month&#x27;, &#x27;quarter&#x27;, &#x27;year&#x27;,\n",
              "                                                   &#x27;pm_lag_1Y&#x27;, &#x27;pm_lag_2Y&#x27;,\n",
              "                                                   &#x27;pm_lag_1M&#x27;, &#x27;pm_lag_1W&#x27;,\n",
              "                                                   &#x27;co_lag_1Y&#x27;, &#x27;co_lag_2Y&#x27;,\n",
              "                                                   &#x27;co_lag_1M&#x27;, &#x27;co_lag_1W&#x27;,\n",
              "                                                   &#x27;o3_lag_1Y&#x27;, &#x27;o3_lag_2Y&#x27;,\n",
              "                                                   &#x27;o3_lag_1M&#x27;, &#x27;o3_lag_1W&#x27;]),\n",
              "                                                 (&#x27;categorical&#x27;,\n",
              "                                                  OneHotEncoder(handle_unknown=&#x27;ignore&#x27;),\n",
              "                                                  [])])),\n",
              "                (&#x27;regr&#x27;, Lasso(alpha=1, max_iter=10000))])</pre></div> </div></div><div class=\"sk-serial\"><div class=\"sk-item sk-dashed-wrapped\"><div class=\"sk-label-container\"><div class=\"sk-label fitted sk-toggleable\"><input class=\"sk-toggleable__control sk-hidden--visually\" id=\"sk-estimator-id-2\" type=\"checkbox\" ><label for=\"sk-estimator-id-2\" class=\"sk-toggleable__label fitted sk-toggleable__label-arrow\"><div><div>preproc: ColumnTransformer</div></div><div><a class=\"sk-estimator-doc-link fitted\" rel=\"noreferrer\" target=\"_blank\" href=\"https://scikit-learn.org/1.6/modules/generated/sklearn.compose.ColumnTransformer.html\">?<span>Documentation for preproc: ColumnTransformer</span></a></div></label><div class=\"sk-toggleable__content fitted\"><pre>ColumnTransformer(transformers=[(&#x27;numeric&#x27;, StandardScaler(),\n",
              "                                 [&#x27;dayofmonth&#x27;, &#x27;dayofweek&#x27;, &#x27;dayofyear&#x27;,\n",
              "                                  &#x27;weekofyear&#x27;, &#x27;month&#x27;, &#x27;quarter&#x27;, &#x27;year&#x27;,\n",
              "                                  &#x27;pm_lag_1Y&#x27;, &#x27;pm_lag_2Y&#x27;, &#x27;pm_lag_1M&#x27;,\n",
              "                                  &#x27;pm_lag_1W&#x27;, &#x27;co_lag_1Y&#x27;, &#x27;co_lag_2Y&#x27;,\n",
              "                                  &#x27;co_lag_1M&#x27;, &#x27;co_lag_1W&#x27;, &#x27;o3_lag_1Y&#x27;,\n",
              "                                  &#x27;o3_lag_2Y&#x27;, &#x27;o3_lag_1M&#x27;, &#x27;o3_lag_1W&#x27;]),\n",
              "                                (&#x27;categorical&#x27;,\n",
              "                                 OneHotEncoder(handle_unknown=&#x27;ignore&#x27;), [])])</pre></div> </div></div><div class=\"sk-parallel\"><div class=\"sk-parallel-item\"><div class=\"sk-item\"><div class=\"sk-label-container\"><div class=\"sk-label fitted sk-toggleable\"><input class=\"sk-toggleable__control sk-hidden--visually\" id=\"sk-estimator-id-3\" type=\"checkbox\" ><label for=\"sk-estimator-id-3\" class=\"sk-toggleable__label fitted sk-toggleable__label-arrow\"><div><div>numeric</div></div></label><div class=\"sk-toggleable__content fitted\"><pre>[&#x27;dayofmonth&#x27;, &#x27;dayofweek&#x27;, &#x27;dayofyear&#x27;, &#x27;weekofyear&#x27;, &#x27;month&#x27;, &#x27;quarter&#x27;, &#x27;year&#x27;, &#x27;pm_lag_1Y&#x27;, &#x27;pm_lag_2Y&#x27;, &#x27;pm_lag_1M&#x27;, &#x27;pm_lag_1W&#x27;, &#x27;co_lag_1Y&#x27;, &#x27;co_lag_2Y&#x27;, &#x27;co_lag_1M&#x27;, &#x27;co_lag_1W&#x27;, &#x27;o3_lag_1Y&#x27;, &#x27;o3_lag_2Y&#x27;, &#x27;o3_lag_1M&#x27;, &#x27;o3_lag_1W&#x27;]</pre></div> </div></div><div class=\"sk-serial\"><div class=\"sk-item\"><div class=\"sk-estimator fitted sk-toggleable\"><input class=\"sk-toggleable__control sk-hidden--visually\" id=\"sk-estimator-id-4\" type=\"checkbox\" ><label for=\"sk-estimator-id-4\" class=\"sk-toggleable__label fitted sk-toggleable__label-arrow\"><div><div>StandardScaler</div></div><div><a class=\"sk-estimator-doc-link fitted\" rel=\"noreferrer\" target=\"_blank\" href=\"https://scikit-learn.org/1.6/modules/generated/sklearn.preprocessing.StandardScaler.html\">?<span>Documentation for StandardScaler</span></a></div></label><div class=\"sk-toggleable__content fitted\"><pre>StandardScaler()</pre></div> </div></div></div></div></div><div class=\"sk-parallel-item\"><div class=\"sk-item\"><div class=\"sk-label-container\"><div class=\"sk-label fitted sk-toggleable\"><input class=\"sk-toggleable__control sk-hidden--visually\" id=\"sk-estimator-id-5\" type=\"checkbox\" ><label for=\"sk-estimator-id-5\" class=\"sk-toggleable__label fitted sk-toggleable__label-arrow\"><div><div>categorical</div></div></label><div class=\"sk-toggleable__content fitted\"><pre>[]</pre></div> </div></div><div class=\"sk-serial\"><div class=\"sk-item\"><div class=\"sk-estimator fitted sk-toggleable\"><input class=\"sk-toggleable__control sk-hidden--visually\" id=\"sk-estimator-id-6\" type=\"checkbox\" ><label for=\"sk-estimator-id-6\" class=\"sk-toggleable__label fitted sk-toggleable__label-arrow\"><div><div>OneHotEncoder</div></div><div><a class=\"sk-estimator-doc-link fitted\" rel=\"noreferrer\" target=\"_blank\" href=\"https://scikit-learn.org/1.6/modules/generated/sklearn.preprocessing.OneHotEncoder.html\">?<span>Documentation for OneHotEncoder</span></a></div></label><div class=\"sk-toggleable__content fitted\"><pre>OneHotEncoder(handle_unknown=&#x27;ignore&#x27;)</pre></div> </div></div></div></div></div></div></div><div class=\"sk-item\"><div class=\"sk-estimator fitted sk-toggleable\"><input class=\"sk-toggleable__control sk-hidden--visually\" id=\"sk-estimator-id-7\" type=\"checkbox\" ><label for=\"sk-estimator-id-7\" class=\"sk-toggleable__label fitted sk-toggleable__label-arrow\"><div><div>Lasso</div></div><div><a class=\"sk-estimator-doc-link fitted\" rel=\"noreferrer\" target=\"_blank\" href=\"https://scikit-learn.org/1.6/modules/generated/sklearn.linear_model.Lasso.html\">?<span>Documentation for Lasso</span></a></div></label><div class=\"sk-toggleable__content fitted\"><pre>Lasso(alpha=1, max_iter=10000)</pre></div> </div></div></div></div></div></div>"
            ]
          },
          "metadata": {},
          "execution_count": 17
        }
      ],
      "source": [
        "%time model.fit(X_train, y_train)"
      ]
    },
    {
      "cell_type": "markdown",
      "metadata": {
        "id": "CBNwKTBslViy"
      },
      "source": [
        "### Grid Search per l'iperparametro della Lasso\n",
        "Per ricercare gli iperparametri migliori nei prossimi modelli da addestrare, verrà usata la grid search o random search, che addestra il modello con tutte le combinazioni possibili di iperparametri selezionati. <br>\n",
        "All'interno della grid search, suddividiamo i dati in 5 sottoinsiemi disgiunti, i fold della cross validation, per garantire che il modello riesca a generalizzare su dati non visti. <br>\n",
        "Con la grid search si ottiene lo score del modello al variare dell'iperparametro della regolarizzazione LASSO per vedere quanta regolarizzazione è necessaria ai fini dell'addestramento."
      ]
    },
    {
      "cell_type": "code",
      "source": [
        "tscv = TimeSeriesSplit(n_splits=5)"
      ],
      "metadata": {
        "id": "rAjFXQPQlX-M"
      },
      "execution_count": 18,
      "outputs": []
    },
    {
      "cell_type": "code",
      "source": [
        "fig, axes = plt.subplots(tscv.n_splits, 1, figsize=(12, 12), sharex=True)\n",
        "fig.tight_layout(pad=3.0)\n",
        "\n",
        "for index, (train_fold, validation_fold) in enumerate(tscv.split(y_train)):\n",
        "    sns.lineplot(data=y_train.iloc[train_fold], label='Training Set', ax=axes[index])\n",
        "    sns.lineplot(data=y_train.iloc[validation_fold], label='Validation Set', ax=axes[index])\n",
        "    axes[index].set_title(f'Time Series Split #{index}')\n",
        "    axes[index].set(xlabel=None, ylabel=None)\n",
        "\n",
        "plt.show()"
      ],
      "metadata": {
        "colab": {
          "base_uri": "https://localhost:8080/",
          "height": 1000
        },
        "id": "H2V0j1jhk9yl",
        "outputId": "766fb9dc-6984-4861-814c-56162fa2d2b0"
      },
      "execution_count": 19,
      "outputs": [
        {
          "output_type": "display_data",
          "data": {
            "text/plain": [
              "<Figure size 1200x1200 with 5 Axes>"
            ],
            "image/png": "[encoded data removed]"
          },
          "metadata": {}
        }
      ]
    },
    {
      "cell_type": "code",
      "execution_count": 20,
      "metadata": {
        "id": "FkU3BKTAlViy"
      },
      "outputs": [],
      "source": [
        "alphas = np.logspace(-3, 1, num=5)\n",
        "grid = {\"regr__alpha\": alphas}\n",
        "gs = RandomizedSearchCV(model, grid, n_iter=5, cv=tscv, n_jobs=N_JOBS)"
      ]
    },
    {
      "cell_type": "code",
      "execution_count": 21,
      "metadata": {
        "id": "kyNpEms_lViz",
        "colab": {
          "base_uri": "https://localhost:8080/"
        },
        "outputId": "21563907-1a97-4ddf-8d1b-a942ca49c5a5"
      },
      "outputs": [
        {
          "output_type": "stream",
          "name": "stdout",
          "text": [
            "CPU times: user 177 ms, sys: 18.4 ms, total: 196 ms\n",
            "Wall time: 10.5 s\n",
            "\n"
          ]
        }
      ],
      "source": [
        "%time gs.fit(X_train, y_train);\n",
        "print()"
      ]
    },
    {
      "cell_type": "code",
      "execution_count": 22,
      "metadata": {
        "id": "vfRSNZkelViz"
      },
      "outputs": [],
      "source": [
        "get_estimator_scores(\"lasso_reg\", gs.best_estimator_)"
      ]
    },
    {
      "cell_type": "code",
      "execution_count": 23,
      "metadata": {
        "id": "AJebrS-JlViz"
      },
      "outputs": [],
      "source": [
        "results = pd.DataFrame(gs.cv_results_)[[\"param_regr__alpha\", \"mean_test_score\"]]"
      ]
    },
    {
      "cell_type": "code",
      "execution_count": 24,
      "metadata": {
        "id": "PZZdd025lViz",
        "colab": {
          "base_uri": "https://localhost:8080/",
          "height": 484
        },
        "outputId": "9b7caf2a-6f5c-4fc5-829a-8c2ba324a712"
      },
      "outputs": [
        {
          "output_type": "display_data",
          "data": {
            "text/plain": [
              "<Figure size 640x480 with 1 Axes>"
            ],
            "image/png": "[encoded data removed]"
          },
          "metadata": {}
        }
      ],
      "source": [
        "plt.plot(results[\"param_regr__alpha\"], results[\"mean_test_score\"])\n",
        "plt.xscale('log')\n",
        "plt.xlabel('alpha')\n",
        "plt.ylabel('score')\n",
        "plt.title('Grafico al variare della regolarizzazione')\n",
        "plt.show()"
      ]
    },
    {
      "cell_type": "markdown",
      "metadata": {
        "id": "Mcl2wO-FlVi0"
      },
      "source": [
        "## Regressione Ridge\n",
        "Proviamo la regolarizzazione con feature polinomiali per ridurre un eventuale overfitting."
      ]
    },
    {
      "cell_type": "code",
      "execution_count": 25,
      "metadata": {
        "id": "zUItTWw3lVi0"
      },
      "outputs": [],
      "source": [
        "model = Pipeline([\n",
        "    (\"preproc\", preprocessor),\n",
        "    (\"poly\",   PolynomialFeatures(degree=2, include_bias=False, interaction_only=True)),\n",
        "    (\"regr\", Ridge(alpha=1, max_iter=10000))\n",
        "])"
      ]
    },
    {
      "cell_type": "code",
      "execution_count": 26,
      "metadata": {
        "id": "8mqZrg_UlVi0",
        "colab": {
          "base_uri": "https://localhost:8080/",
          "height": 0
        },
        "outputId": "74bec429-c591-47a1-8be3-fb06a82c0b95"
      },
      "outputs": [
        {
          "output_type": "stream",
          "name": "stdout",
          "text": [
            "CPU times: user 172 ms, sys: 13.4 ms, total: 186 ms\n",
            "Wall time: 158 ms\n"
          ]
        },
        {
          "output_type": "execute_result",
          "data": {
            "text/plain": [
              "Pipeline(steps=[('preproc',\n",
              "                 ColumnTransformer(transformers=[('numeric', StandardScaler(),\n",
              "                                                  ['dayofmonth', 'dayofweek',\n",
              "                                                   'dayofyear', 'weekofyear',\n",
              "                                                   'month', 'quarter', 'year',\n",
              "                                                   'pm_lag_1Y', 'pm_lag_2Y',\n",
              "                                                   'pm_lag_1M', 'pm_lag_1W',\n",
              "                                                   'co_lag_1Y', 'co_lag_2Y',\n",
              "                                                   'co_lag_1M', 'co_lag_1W',\n",
              "                                                   'o3_lag_1Y', 'o3_lag_2Y',\n",
              "                                                   'o3_lag_1M', 'o3_lag_1W']),\n",
              "                                                 ('categorical',\n",
              "                                                  OneHotEncoder(handle_unknown='ignore'),\n",
              "                                                  [])])),\n",
              "                ('poly',\n",
              "                 PolynomialFeatures(include_bias=False, interaction_only=True)),\n",
              "                ('regr', Ridge(alpha=1, max_iter=10000))])"
            ],
            "text/html": [
              "<style>#sk-container-id-2 {\n",
              "  /* Definition of color scheme common for light and dark mode */\n",
              "  --sklearn-color-text: #000;\n",
              "  --sklearn-color-text-muted: #666;\n",
              "  --sklearn-color-line: gray;\n",
              "  /* Definition of color scheme for unfitted estimators */\n",
              "  --sklearn-color-unfitted-level-0: #fff5e6;\n",
              "  --sklearn-color-unfitted-level-1: #f6e4d2;\n",
              "  --sklearn-color-unfitted-level-2: #ffe0b3;\n",
              "  --sklearn-color-unfitted-level-3: chocolate;\n",
              "  /* Definition of color scheme for fitted estimators */\n",
              "  --sklearn-color-fitted-level-0: #f0f8ff;\n",
              "  --sklearn-color-fitted-level-1: #d4ebff;\n",
              "  --sklearn-color-fitted-level-2: #b3dbfd;\n",
              "  --sklearn-color-fitted-level-3: cornflowerblue;\n",
              "\n",
              "  /* Specific color for light theme */\n",
              "  --sklearn-color-text-on-default-background: var(--sg-text-color, var(--theme-code-foreground, var(--jp-content-font-color1, black)));\n",
              "  --sklearn-color-background: var(--sg-background-color, var(--theme-background, var(--jp-layout-color0, white)));\n",
              "  --sklearn-color-border-box: var(--sg-text-color, var(--theme-code-foreground, var(--jp-content-font-color1, black)));\n",
              "  --sklearn-color-icon: #696969;\n",
              "\n",
              "  @media (prefers-color-scheme: dark) {\n",
              "    /* Redefinition of color scheme for dark theme */\n",
              "    --sklearn-color-text-on-default-background: var(--sg-text-color, var(--theme-code-foreground, var(--jp-content-font-color1, white)));\n",
              "    --sklearn-color-background: var(--sg-background-color, var(--theme-background, var(--jp-layout-color0, #111)));\n",
              "    --sklearn-color-border-box: var(--sg-text-color, var(--theme-code-foreground, var(--jp-content-font-color1, white)));\n",
              "    --sklearn-color-icon: #878787;\n",
              "  }\n",
              "}\n",
              "\n",
              "#sk-container-id-2 {\n",
              "  color: var(--sklearn-color-text);\n",
              "}\n",
              "\n",
              "#sk-container-id-2 pre {\n",
              "  padding: 0;\n",
              "}\n",
              "\n",
              "#sk-container-id-2 input.sk-hidden--visually {\n",
              "  border: 0;\n",
              "  clip: rect(1px 1px 1px 1px);\n",
              "  clip: rect(1px, 1px, 1px, 1px);\n",
              "  height: 1px;\n",
              "  margin: -1px;\n",
              "  overflow: hidden;\n",
              "  padding: 0;\n",
              "  position: absolute;\n",
              "  width: 1px;\n",
              "}\n",
              "\n",
              "#sk-container-id-2 div.sk-dashed-wrapped {\n",
              "  border: 1px dashed var(--sklearn-color-line);\n",
              "  margin: 0 0.4em 0.5em 0.4em;\n",
              "  box-sizing: border-box;\n",
              "  padding-bottom: 0.4em;\n",
              "  background-color: var(--sklearn-color-background);\n",
              "}\n",
              "\n",
              "#sk-container-id-2 div.sk-container {\n",
              "  /* jupyter's `normalize.less` sets `[hidden] { display: none; }`\n",
              "     but bootstrap.min.css set `[hidden] { display: none !important; }`\n",
              "     so we also need the `!important` here to be able to override the\n",
              "     default hidden behavior on the sphinx rendered scikit-learn.org.\n",
              "     See: https://github.com/scikit-learn/scikit-learn/issues/21755 */\n",
              "  display: inline-block !important;\n",
              "  position: relative;\n",
              "}\n",
              "\n",
              "#sk-container-id-2 div.sk-text-repr-fallback {\n",
              "  display: none;\n",
              "}\n",
              "\n",
              "div.sk-parallel-item,\n",
              "div.sk-serial,\n",
              "div.sk-item {\n",
              "  /* draw centered vertical line to link estimators */\n",
              "  background-image: linear-gradient(var(--sklearn-color-text-on-default-background), var(--sklearn-color-text-on-default-background));\n",
              "  background-size: 2px 100%;\n",
              "  background-repeat: no-repeat;\n",
              "  background-position: center center;\n",
              "}\n",
              "\n",
              "/* Parallel-specific style estimator block */\n",
              "\n",
              "#sk-container-id-2 div.sk-parallel-item::after {\n",
              "  content: \"\";\n",
              "  width: 100%;\n",
              "  border-bottom: 2px solid var(--sklearn-color-text-on-default-background);\n",
              "  flex-grow: 1;\n",
              "}\n",
              "\n",
              "#sk-container-id-2 div.sk-parallel {\n",
              "  display: flex;\n",
              "  align-items: stretch;\n",
              "  justify-content: center;\n",
              "  background-color: var(--sklearn-color-background);\n",
              "  position: relative;\n",
              "}\n",
              "\n",
              "#sk-container-id-2 div.sk-parallel-item {\n",
              "  display: flex;\n",
              "  flex-direction: column;\n",
              "}\n",
              "\n",
              "#sk-container-id-2 div.sk-parallel-item:first-child::after {\n",
              "  align-self: flex-end;\n",
              "  width: 50%;\n",
              "}\n",
              "\n",
              "#sk-container-id-2 div.sk-parallel-item:last-child::after {\n",
              "  align-self: flex-start;\n",
              "  width: 50%;\n",
              "}\n",
              "\n",
              "#sk-container-id-2 div.sk-parallel-item:only-child::after {\n",
              "  width: 0;\n",
              "}\n",
              "\n",
              "/* Serial-specific style estimator block */\n",
              "\n",
              "#sk-container-id-2 div.sk-serial {\n",
              "  display: flex;\n",
              "  flex-direction: column;\n",
              "  align-items: center;\n",
              "  background-color: var(--sklearn-color-background);\n",
              "  padding-right: 1em;\n",
              "  padding-left: 1em;\n",
              "}\n",
              "\n",
              "\n",
              "/* Toggleable style: style used for estimator/Pipeline/ColumnTransformer box that is\n",
              "clickable and can be expanded/collapsed.\n",
              "- Pipeline and ColumnTransformer use this feature and define the default style\n",
              "- Estimators will overwrite some part of the style using the `sk-estimator` class\n",
              "*/\n",
              "\n",
              "/* Pipeline and ColumnTransformer style (default) */\n",
              "\n",
              "#sk-container-id-2 div.sk-toggleable {\n",
              "  /* Default theme specific background. It is overwritten whether we have a\n",
              "  specific estimator or a Pipeline/ColumnTransformer */\n",
              "  background-color: var(--sklearn-color-background);\n",
              "}\n",
              "\n",
              "/* Toggleable label */\n",
              "#sk-container-id-2 label.sk-toggleable__label {\n",
              "  cursor: pointer;\n",
              "  display: flex;\n",
              "  width: 100%;\n",
              "  margin-bottom: 0;\n",
              "  padding: 0.5em;\n",
              "  box-sizing: border-box;\n",
              "  text-align: center;\n",
              "  align-items: start;\n",
              "  justify-content: space-between;\n",
              "  gap: 0.5em;\n",
              "}\n",
              "\n",
              "#sk-container-id-2 label.sk-toggleable__label .caption {\n",
              "  font-size: 0.6rem;\n",
              "  font-weight: lighter;\n",
              "  color: var(--sklearn-color-text-muted);\n",
              "}\n",
              "\n",
              "#sk-container-id-2 label.sk-toggleable__label-arrow:before {\n",
              "  /* Arrow on the left of the label */\n",
              "  content: \"▸\";\n",
              "  float: left;\n",
              "  margin-right: 0.25em;\n",
              "  color: var(--sklearn-color-icon);\n",
              "}\n",
              "\n",
              "#sk-container-id-2 label.sk-toggleable__label-arrow:hover:before {\n",
              "  color: var(--sklearn-color-text);\n",
              "}\n",
              "\n",
              "/* Toggleable content - dropdown */\n",
              "\n",
              "#sk-container-id-2 div.sk-toggleable__content {\n",
              "  max-height: 0;\n",
              "  max-width: 0;\n",
              "  overflow: hidden;\n",
              "  text-align: left;\n",
              "  /* unfitted */\n",
              "  background-color: var(--sklearn-color-unfitted-level-0);\n",
              "}\n",
              "\n",
              "#sk-container-id-2 div.sk-toggleable__content.fitted {\n",
              "  /* fitted */\n",
              "  background-color: var(--sklearn-color-fitted-level-0);\n",
              "}\n",
              "\n",
              "#sk-container-id-2 div.sk-toggleable__content pre {\n",
              "  margin: 0.2em;\n",
              "  border-radius: 0.25em;\n",
              "  color: var(--sklearn-color-text);\n",
              "  /* unfitted */\n",
              "  background-color: var(--sklearn-color-unfitted-level-0);\n",
              "}\n",
              "\n",
              "#sk-container-id-2 div.sk-toggleable__content.fitted pre {\n",
              "  /* unfitted */\n",
              "  background-color: var(--sklearn-color-fitted-level-0);\n",
              "}\n",
              "\n",
              "#sk-container-id-2 input.sk-toggleable__control:checked~div.sk-toggleable__content {\n",
              "  /* Expand drop-down */\n",
              "  max-height: 200px;\n",
              "  max-width: 100%;\n",
              "  overflow: auto;\n",
              "}\n",
              "\n",
              "#sk-container-id-2 input.sk-toggleable__control:checked~label.sk-toggleable__label-arrow:before {\n",
              "  content: \"▾\";\n",
              "}\n",
              "\n",
              "/* Pipeline/ColumnTransformer-specific style */\n",
              "\n",
              "#sk-container-id-2 div.sk-label input.sk-toggleable__control:checked~label.sk-toggleable__label {\n",
              "  color: var(--sklearn-color-text);\n",
              "  background-color: var(--sklearn-color-unfitted-level-2);\n",
              "}\n",
              "\n",
              "#sk-container-id-2 div.sk-label.fitted input.sk-toggleable__control:checked~label.sk-toggleable__label {\n",
              "  background-color: var(--sklearn-color-fitted-level-2);\n",
              "}\n",
              "\n",
              "/* Estimator-specific style */\n",
              "\n",
              "/* Colorize estimator box */\n",
              "#sk-container-id-2 div.sk-estimator input.sk-toggleable__control:checked~label.sk-toggleable__label {\n",
              "  /* unfitted */\n",
              "  background-color: var(--sklearn-color-unfitted-level-2);\n",
              "}\n",
              "\n",
              "#sk-container-id-2 div.sk-estimator.fitted input.sk-toggleable__control:checked~label.sk-toggleable__label {\n",
              "  /* fitted */\n",
              "  background-color: var(--sklearn-color-fitted-level-2);\n",
              "}\n",
              "\n",
              "#sk-container-id-2 div.sk-label label.sk-toggleable__label,\n",
              "#sk-container-id-2 div.sk-label label {\n",
              "  /* The background is the default theme color */\n",
              "  color: var(--sklearn-color-text-on-default-background);\n",
              "}\n",
              "\n",
              "/* On hover, darken the color of the background */\n",
              "#sk-container-id-2 div.sk-label:hover label.sk-toggleable__label {\n",
              "  color: var(--sklearn-color-text);\n",
              "  background-color: var(--sklearn-color-unfitted-level-2);\n",
              "}\n",
              "\n",
              "/* Label box, darken color on hover, fitted */\n",
              "#sk-container-id-2 div.sk-label.fitted:hover label.sk-toggleable__label.fitted {\n",
              "  color: var(--sklearn-color-text);\n",
              "  background-color: var(--sklearn-color-fitted-level-2);\n",
              "}\n",
              "\n",
              "/* Estimator label */\n",
              "\n",
              "#sk-container-id-2 div.sk-label label {\n",
              "  font-family: monospace;\n",
              "  font-weight: bold;\n",
              "  display: inline-block;\n",
              "  line-height: 1.2em;\n",
              "}\n",
              "\n",
              "#sk-container-id-2 div.sk-label-container {\n",
              "  text-align: center;\n",
              "}\n",
              "\n",
              "/* Estimator-specific */\n",
              "#sk-container-id-2 div.sk-estimator {\n",
              "  font-family: monospace;\n",
              "  border: 1px dotted var(--sklearn-color-border-box);\n",
              "  border-radius: 0.25em;\n",
              "  box-sizing: border-box;\n",
              "  margin-bottom: 0.5em;\n",
              "  /* unfitted */\n",
              "  background-color: var(--sklearn-color-unfitted-level-0);\n",
              "}\n",
              "\n",
              "#sk-container-id-2 div.sk-estimator.fitted {\n",
              "  /* fitted */\n",
              "  background-color: var(--sklearn-color-fitted-level-0);\n",
              "}\n",
              "\n",
              "/* on hover */\n",
              "#sk-container-id-2 div.sk-estimator:hover {\n",
              "  /* unfitted */\n",
              "  background-color: var(--sklearn-color-unfitted-level-2);\n",
              "}\n",
              "\n",
              "#sk-container-id-2 div.sk-estimator.fitted:hover {\n",
              "  /* fitted */\n",
              "  background-color: var(--sklearn-color-fitted-level-2);\n",
              "}\n",
              "\n",
              "/* Specification for estimator info (e.g. \"i\" and \"?\") */\n",
              "\n",
              "/* Common style for \"i\" and \"?\" */\n",
              "\n",
              ".sk-estimator-doc-link,\n",
              "a:link.sk-estimator-doc-link,\n",
              "a:visited.sk-estimator-doc-link {\n",
              "  float: right;\n",
              "  font-size: smaller;\n",
              "  line-height: 1em;\n",
              "  font-family: monospace;\n",
              "  background-color: var(--sklearn-color-background);\n",
              "  border-radius: 1em;\n",
              "  height: 1em;\n",
              "  width: 1em;\n",
              "  text-decoration: none !important;\n",
              "  margin-left: 0.5em;\n",
              "  text-align: center;\n",
              "  /* unfitted */\n",
              "  border: var(--sklearn-color-unfitted-level-1) 1pt solid;\n",
              "  color: var(--sklearn-color-unfitted-level-1);\n",
              "}\n",
              "\n",
              ".sk-estimator-doc-link.fitted,\n",
              "a:link.sk-estimator-doc-link.fitted,\n",
              "a:visited.sk-estimator-doc-link.fitted {\n",
              "  /* fitted */\n",
              "  border: var(--sklearn-color-fitted-level-1) 1pt solid;\n",
              "  color: var(--sklearn-color-fitted-level-1);\n",
              "}\n",
              "\n",
              "/* On hover */\n",
              "div.sk-estimator:hover .sk-estimator-doc-link:hover,\n",
              ".sk-estimator-doc-link:hover,\n",
              "div.sk-label-container:hover .sk-estimator-doc-link:hover,\n",
              ".sk-estimator-doc-link:hover {\n",
              "  /* unfitted */\n",
              "  background-color: var(--sklearn-color-unfitted-level-3);\n",
              "  color: var(--sklearn-color-background);\n",
              "  text-decoration: none;\n",
              "}\n",
              "\n",
              "div.sk-estimator.fitted:hover .sk-estimator-doc-link.fitted:hover,\n",
              ".sk-estimator-doc-link.fitted:hover,\n",
              "div.sk-label-container:hover .sk-estimator-doc-link.fitted:hover,\n",
              ".sk-estimator-doc-link.fitted:hover {\n",
              "  /* fitted */\n",
              "  background-color: var(--sklearn-color-fitted-level-3);\n",
              "  color: var(--sklearn-color-background);\n",
              "  text-decoration: none;\n",
              "}\n",
              "\n",
              "/* Span, style for the box shown on hovering the info icon */\n",
              ".sk-estimator-doc-link span {\n",
              "  display: none;\n",
              "  z-index: 9999;\n",
              "  position: relative;\n",
              "  font-weight: normal;\n",
              "  right: .2ex;\n",
              "  padding: .5ex;\n",
              "  margin: .5ex;\n",
              "  width: min-content;\n",
              "  min-width: 20ex;\n",
              "  max-width: 50ex;\n",
              "  color: var(--sklearn-color-text);\n",
              "  box-shadow: 2pt 2pt 4pt #999;\n",
              "  /* unfitted */\n",
              "  background: var(--sklearn-color-unfitted-level-0);\n",
              "  border: .5pt solid var(--sklearn-color-unfitted-level-3);\n",
              "}\n",
              "\n",
              ".sk-estimator-doc-link.fitted span {\n",
              "  /* fitted */\n",
              "  background: var(--sklearn-color-fitted-level-0);\n",
              "  border: var(--sklearn-color-fitted-level-3);\n",
              "}\n",
              "\n",
              ".sk-estimator-doc-link:hover span {\n",
              "  display: block;\n",
              "}\n",
              "\n",
              "/* \"?\"-specific style due to the `<a>` HTML tag */\n",
              "\n",
              "#sk-container-id-2 a.estimator_doc_link {\n",
              "  float: right;\n",
              "  font-size: 1rem;\n",
              "  line-height: 1em;\n",
              "  font-family: monospace;\n",
              "  background-color: var(--sklearn-color-background);\n",
              "  border-radius: 1rem;\n",
              "  height: 1rem;\n",
              "  width: 1rem;\n",
              "  text-decoration: none;\n",
              "  /* unfitted */\n",
              "  color: var(--sklearn-color-unfitted-level-1);\n",
              "  border: var(--sklearn-color-unfitted-level-1) 1pt solid;\n",
              "}\n",
              "\n",
              "#sk-container-id-2 a.estimator_doc_link.fitted {\n",
              "  /* fitted */\n",
              "  border: var(--sklearn-color-fitted-level-1) 1pt solid;\n",
              "  color: var(--sklearn-color-fitted-level-1);\n",
              "}\n",
              "\n",
              "/* On hover */\n",
              "#sk-container-id-2 a.estimator_doc_link:hover {\n",
              "  /* unfitted */\n",
              "  background-color: var(--sklearn-color-unfitted-level-3);\n",
              "  color: var(--sklearn-color-background);\n",
              "  text-decoration: none;\n",
              "}\n",
              "\n",
              "#sk-container-id-2 a.estimator_doc_link.fitted:hover {\n",
              "  /* fitted */\n",
              "  background-color: var(--sklearn-color-fitted-level-3);\n",
              "}\n",
              "</style><div id=\"sk-container-id-2\" class=\"sk-top-container\"><div class=\"sk-text-repr-fallback\"><pre>Pipeline(steps=[(&#x27;preproc&#x27;,\n",
              "                 ColumnTransformer(transformers=[(&#x27;numeric&#x27;, StandardScaler(),\n",
              "                                                  [&#x27;dayofmonth&#x27;, &#x27;dayofweek&#x27;,\n",
              "                                                   &#x27;dayofyear&#x27;, &#x27;weekofyear&#x27;,\n",
              "                                                   &#x27;month&#x27;, &#x27;quarter&#x27;, &#x27;year&#x27;,\n",
              "                                                   &#x27;pm_lag_1Y&#x27;, &#x27;pm_lag_2Y&#x27;,\n",
              "                                                   &#x27;pm_lag_1M&#x27;, &#x27;pm_lag_1W&#x27;,\n",
              "                                                   &#x27;co_lag_1Y&#x27;, &#x27;co_lag_2Y&#x27;,\n",
              "                                                   &#x27;co_lag_1M&#x27;, &#x27;co_lag_1W&#x27;,\n",
              "                                                   &#x27;o3_lag_1Y&#x27;, &#x27;o3_lag_2Y&#x27;,\n",
              "                                                   &#x27;o3_lag_1M&#x27;, &#x27;o3_lag_1W&#x27;]),\n",
              "                                                 (&#x27;categorical&#x27;,\n",
              "                                                  OneHotEncoder(handle_unknown=&#x27;ignore&#x27;),\n",
              "                                                  [])])),\n",
              "                (&#x27;poly&#x27;,\n",
              "                 PolynomialFeatures(include_bias=False, interaction_only=True)),\n",
              "                (&#x27;regr&#x27;, Ridge(alpha=1, max_iter=10000))])</pre><b>In a Jupyter environment, please rerun this cell to show the HTML representation or trust the notebook. <br />On GitHub, the HTML representation is unable to render, please try loading this page with nbviewer.org.</b></div><div class=\"sk-container\" hidden><div class=\"sk-item sk-dashed-wrapped\"><div class=\"sk-label-container\"><div class=\"sk-label fitted sk-toggleable\"><input class=\"sk-toggleable__control sk-hidden--visually\" id=\"sk-estimator-id-8\" type=\"checkbox\" ><label for=\"sk-estimator-id-8\" class=\"sk-toggleable__label fitted sk-toggleable__label-arrow\"><div><div>Pipeline</div></div><div><a class=\"sk-estimator-doc-link fitted\" rel=\"noreferrer\" target=\"_blank\" href=\"https://scikit-learn.org/1.6/modules/generated/sklearn.pipeline.Pipeline.html\">?<span>Documentation for Pipeline</span></a><span class=\"sk-estimator-doc-link fitted\">i<span>Fitted</span></span></div></label><div class=\"sk-toggleable__content fitted\"><pre>Pipeline(steps=[(&#x27;preproc&#x27;,\n",
              "                 ColumnTransformer(transformers=[(&#x27;numeric&#x27;, StandardScaler(),\n",
              "                                                  [&#x27;dayofmonth&#x27;, &#x27;dayofweek&#x27;,\n",
              "                                                   &#x27;dayofyear&#x27;, &#x27;weekofyear&#x27;,\n",
              "                                                   &#x27;month&#x27;, &#x27;quarter&#x27;, &#x27;year&#x27;,\n",
              "                                                   &#x27;pm_lag_1Y&#x27;, &#x27;pm_lag_2Y&#x27;,\n",
              "                                                   &#x27;pm_lag_1M&#x27;, &#x27;pm_lag_1W&#x27;,\n",
              "                                                   &#x27;co_lag_1Y&#x27;, &#x27;co_lag_2Y&#x27;,\n",
              "                                                   &#x27;co_lag_1M&#x27;, &#x27;co_lag_1W&#x27;,\n",
              "                                                   &#x27;o3_lag_1Y&#x27;, &#x27;o3_lag_2Y&#x27;,\n",
              "                                                   &#x27;o3_lag_1M&#x27;, &#x27;o3_lag_1W&#x27;]),\n",
              "                                                 (&#x27;categorical&#x27;,\n",
              "                                                  OneHotEncoder(handle_unknown=&#x27;ignore&#x27;),\n",
              "                                                  [])])),\n",
              "                (&#x27;poly&#x27;,\n",
              "                 PolynomialFeatures(include_bias=False, interaction_only=True)),\n",
              "                (&#x27;regr&#x27;, Ridge(alpha=1, max_iter=10000))])</pre></div> </div></div><div class=\"sk-serial\"><div class=\"sk-item sk-dashed-wrapped\"><div class=\"sk-label-container\"><div class=\"sk-label fitted sk-toggleable\"><input class=\"sk-toggleable__control sk-hidden--visually\" id=\"sk-estimator-id-9\" type=\"checkbox\" ><label for=\"sk-estimator-id-9\" class=\"sk-toggleable__label fitted sk-toggleable__label-arrow\"><div><div>preproc: ColumnTransformer</div></div><div><a class=\"sk-estimator-doc-link fitted\" rel=\"noreferrer\" target=\"_blank\" href=\"https://scikit-learn.org/1.6/modules/generated/sklearn.compose.ColumnTransformer.html\">?<span>Documentation for preproc: ColumnTransformer</span></a></div></label><div class=\"sk-toggleable__content fitted\"><pre>ColumnTransformer(transformers=[(&#x27;numeric&#x27;, StandardScaler(),\n",
              "                                 [&#x27;dayofmonth&#x27;, &#x27;dayofweek&#x27;, &#x27;dayofyear&#x27;,\n",
              "                                  &#x27;weekofyear&#x27;, &#x27;month&#x27;, &#x27;quarter&#x27;, &#x27;year&#x27;,\n",
              "                                  &#x27;pm_lag_1Y&#x27;, &#x27;pm_lag_2Y&#x27;, &#x27;pm_lag_1M&#x27;,\n",
              "                                  &#x27;pm_lag_1W&#x27;, &#x27;co_lag_1Y&#x27;, &#x27;co_lag_2Y&#x27;,\n",
              "                                  &#x27;co_lag_1M&#x27;, &#x27;co_lag_1W&#x27;, &#x27;o3_lag_1Y&#x27;,\n",
              "                                  &#x27;o3_lag_2Y&#x27;, &#x27;o3_lag_1M&#x27;, &#x27;o3_lag_1W&#x27;]),\n",
              "                                (&#x27;categorical&#x27;,\n",
              "                                 OneHotEncoder(handle_unknown=&#x27;ignore&#x27;), [])])</pre></div> </div></div><div class=\"sk-parallel\"><div class=\"sk-parallel-item\"><div class=\"sk-item\"><div class=\"sk-label-container\"><div class=\"sk-label fitted sk-toggleable\"><input class=\"sk-toggleable__control sk-hidden--visually\" id=\"sk-estimator-id-10\" type=\"checkbox\" ><label for=\"sk-estimator-id-10\" class=\"sk-toggleable__label fitted sk-toggleable__label-arrow\"><div><div>numeric</div></div></label><div class=\"sk-toggleable__content fitted\"><pre>[&#x27;dayofmonth&#x27;, &#x27;dayofweek&#x27;, &#x27;dayofyear&#x27;, &#x27;weekofyear&#x27;, &#x27;month&#x27;, &#x27;quarter&#x27;, &#x27;year&#x27;, &#x27;pm_lag_1Y&#x27;, &#x27;pm_lag_2Y&#x27;, &#x27;pm_lag_1M&#x27;, &#x27;pm_lag_1W&#x27;, &#x27;co_lag_1Y&#x27;, &#x27;co_lag_2Y&#x27;, &#x27;co_lag_1M&#x27;, &#x27;co_lag_1W&#x27;, &#x27;o3_lag_1Y&#x27;, &#x27;o3_lag_2Y&#x27;, &#x27;o3_lag_1M&#x27;, &#x27;o3_lag_1W&#x27;]</pre></div> </div></div><div class=\"sk-serial\"><div class=\"sk-item\"><div class=\"sk-estimator fitted sk-toggleable\"><input class=\"sk-toggleable__control sk-hidden--visually\" id=\"sk-estimator-id-11\" type=\"checkbox\" ><label for=\"sk-estimator-id-11\" class=\"sk-toggleable__label fitted sk-toggleable__label-arrow\"><div><div>StandardScaler</div></div><div><a class=\"sk-estimator-doc-link fitted\" rel=\"noreferrer\" target=\"_blank\" href=\"https://scikit-learn.org/1.6/modules/generated/sklearn.preprocessing.StandardScaler.html\">?<span>Documentation for StandardScaler</span></a></div></label><div class=\"sk-toggleable__content fitted\"><pre>StandardScaler()</pre></div> </div></div></div></div></div><div class=\"sk-parallel-item\"><div class=\"sk-item\"><div class=\"sk-label-container\"><div class=\"sk-label fitted sk-toggleable\"><input class=\"sk-toggleable__control sk-hidden--visually\" id=\"sk-estimator-id-12\" type=\"checkbox\" ><label for=\"sk-estimator-id-12\" class=\"sk-toggleable__label fitted sk-toggleable__label-arrow\"><div><div>categorical</div></div></label><div class=\"sk-toggleable__content fitted\"><pre>[]</pre></div> </div></div><div class=\"sk-serial\"><div class=\"sk-item\"><div class=\"sk-estimator fitted sk-toggleable\"><input class=\"sk-toggleable__control sk-hidden--visually\" id=\"sk-estimator-id-13\" type=\"checkbox\" ><label for=\"sk-estimator-id-13\" class=\"sk-toggleable__label fitted sk-toggleable__label-arrow\"><div><div>OneHotEncoder</div></div><div><a class=\"sk-estimator-doc-link fitted\" rel=\"noreferrer\" target=\"_blank\" href=\"https://scikit-learn.org/1.6/modules/generated/sklearn.preprocessing.OneHotEncoder.html\">?<span>Documentation for OneHotEncoder</span></a></div></label><div class=\"sk-toggleable__content fitted\"><pre>OneHotEncoder(handle_unknown=&#x27;ignore&#x27;)</pre></div> </div></div></div></div></div></div></div><div class=\"sk-item\"><div class=\"sk-estimator fitted sk-toggleable\"><input class=\"sk-toggleable__control sk-hidden--visually\" id=\"sk-estimator-id-14\" type=\"checkbox\" ><label for=\"sk-estimator-id-14\" class=\"sk-toggleable__label fitted sk-toggleable__label-arrow\"><div><div>PolynomialFeatures</div></div><div><a class=\"sk-estimator-doc-link fitted\" rel=\"noreferrer\" target=\"_blank\" href=\"https://scikit-learn.org/1.6/modules/generated/sklearn.preprocessing.PolynomialFeatures.html\">?<span>Documentation for PolynomialFeatures</span></a></div></label><div class=\"sk-toggleable__content fitted\"><pre>PolynomialFeatures(include_bias=False, interaction_only=True)</pre></div> </div></div><div class=\"sk-item\"><div class=\"sk-estimator fitted sk-toggleable\"><input class=\"sk-toggleable__control sk-hidden--visually\" id=\"sk-estimator-id-15\" type=\"checkbox\" ><label for=\"sk-estimator-id-15\" class=\"sk-toggleable__label fitted sk-toggleable__label-arrow\"><div><div>Ridge</div></div><div><a class=\"sk-estimator-doc-link fitted\" rel=\"noreferrer\" target=\"_blank\" href=\"https://scikit-learn.org/1.6/modules/generated/sklearn.linear_model.Ridge.html\">?<span>Documentation for Ridge</span></a></div></label><div class=\"sk-toggleable__content fitted\"><pre>Ridge(alpha=1, max_iter=10000)</pre></div> </div></div></div></div></div></div>"
            ]
          },
          "metadata": {},
          "execution_count": 26
        }
      ],
      "source": [
        "%time model.fit(X_train, y_train)"
      ]
    },
    {
      "cell_type": "markdown",
      "metadata": {
        "id": "7CqjLtbdlVi0"
      },
      "source": [
        "### Grid Search per l'iperparametro della Ridge"
      ]
    },
    {
      "cell_type": "code",
      "execution_count": 27,
      "metadata": {
        "id": "SgQaK1ijlVi2"
      },
      "outputs": [],
      "source": [
        "alphas = np.logspace(-2, 8, num=12)\n",
        "grid = {\"regr__alpha\": alphas}\n",
        "gs = RandomizedSearchCV(model, grid, n_iter=12, cv=tscv, n_jobs=N_JOBS)"
      ]
    },
    {
      "cell_type": "code",
      "execution_count": 28,
      "metadata": {
        "id": "mvC3I0kzlVi2",
        "colab": {
          "base_uri": "https://localhost:8080/"
        },
        "outputId": "5d19e868-b962-4409-ceaf-c2c7ea12066d"
      },
      "outputs": [
        {
          "output_type": "stream",
          "name": "stdout",
          "text": [
            "CPU times: user 395 ms, sys: 34.3 ms, total: 429 ms\n",
            "Wall time: 4.1 s\n",
            "\n"
          ]
        }
      ],
      "source": [
        "%time gs.fit(X_train, y_train)\n",
        "print()"
      ]
    },
    {
      "cell_type": "code",
      "execution_count": 29,
      "metadata": {
        "id": "0nqLv4gglVi2"
      },
      "outputs": [],
      "source": [
        "get_estimator_scores(\"ridge_reg\", gs.best_estimator_)"
      ]
    },
    {
      "cell_type": "code",
      "execution_count": 30,
      "metadata": {
        "id": "JJEkBHpTlVi2"
      },
      "outputs": [],
      "source": [
        "results = pd.DataFrame(gs.cv_results_)[[\"param_regr__alpha\", \"mean_test_score\"]]"
      ]
    },
    {
      "cell_type": "code",
      "execution_count": 31,
      "metadata": {
        "id": "LdyidkgYlVi3",
        "colab": {
          "base_uri": "https://localhost:8080/",
          "height": 0
        },
        "outputId": "fc68adf2-fcfb-4921-8373-6ebdd26200e9"
      },
      "outputs": [
        {
          "output_type": "display_data",
          "data": {
            "text/plain": [
              "<Figure size 640x480 with 1 Axes>"
            ],
            "image/png": "[encoded data removed]"
          },
          "metadata": {}
        }
      ],
      "source": [
        "plt.plot(results[\"param_regr__alpha\"], results[\"mean_test_score\"])\n",
        "plt.xscale('log')\n",
        "plt.xlabel('alpha')\n",
        "plt.ylabel('score')\n",
        "plt.title('Grafico al variare della regolarizzazione')\n",
        "plt.show()"
      ]
    },
    {
      "cell_type": "markdown",
      "metadata": {
        "id": "aXwTWsC2lVi3"
      },
      "source": [
        "## Regressione Elastic Net\n",
        "Questa regressione unisce la regolarizzazione LASSO e la regolarizzazione Ridge."
      ]
    },
    {
      "cell_type": "code",
      "execution_count": 32,
      "metadata": {
        "id": "NE5PXsuelVi3"
      },
      "outputs": [],
      "source": [
        "model = Pipeline([\n",
        "    (\"preproc\", preprocessor),\n",
        "    (\"poly\",   PolynomialFeatures(degree=2, include_bias=False, interaction_only=True)),\n",
        "    (\"regr\", ElasticNet(alpha=0.2, l1_ratio=0.1))\n",
        "])"
      ]
    },
    {
      "cell_type": "code",
      "execution_count": 33,
      "metadata": {
        "id": "vD_KhUiylVi3",
        "colab": {
          "base_uri": "https://localhost:8080/",
          "height": 0
        },
        "outputId": "7d0fd850-7c1c-4ea3-c12d-d15afdd5d75b"
      },
      "outputs": [
        {
          "output_type": "stream",
          "name": "stdout",
          "text": [
            "CPU times: user 2.92 s, sys: 18.2 ms, total: 2.94 s\n",
            "Wall time: 1.88 s\n"
          ]
        },
        {
          "output_type": "execute_result",
          "data": {
            "text/plain": [
              "Pipeline(steps=[('preproc',\n",
              "                 ColumnTransformer(transformers=[('numeric', StandardScaler(),\n",
              "                                                  ['dayofmonth', 'dayofweek',\n",
              "                                                   'dayofyear', 'weekofyear',\n",
              "                                                   'month', 'quarter', 'year',\n",
              "                                                   'pm_lag_1Y', 'pm_lag_2Y',\n",
              "                                                   'pm_lag_1M', 'pm_lag_1W',\n",
              "                                                   'co_lag_1Y', 'co_lag_2Y',\n",
              "                                                   'co_lag_1M', 'co_lag_1W',\n",
              "                                                   'o3_lag_1Y', 'o3_lag_2Y',\n",
              "                                                   'o3_lag_1M', 'o3_lag_1W']),\n",
              "                                                 ('categorical',\n",
              "                                                  OneHotEncoder(handle_unknown='ignore'),\n",
              "                                                  [])])),\n",
              "                ('poly',\n",
              "                 PolynomialFeatures(include_bias=False, interaction_only=True)),\n",
              "                ('regr', ElasticNet(alpha=0.2, l1_ratio=0.1))])"
            ],
            "text/html": [
              "<style>#sk-container-id-3 {\n",
              "  /* Definition of color scheme common for light and dark mode */\n",
              "  --sklearn-color-text: #000;\n",
              "  --sklearn-color-text-muted: #666;\n",
              "  --sklearn-color-line: gray;\n",
              "  /* Definition of color scheme for unfitted estimators */\n",
              "  --sklearn-color-unfitted-level-0: #fff5e6;\n",
              "  --sklearn-color-unfitted-level-1: #f6e4d2;\n",
              "  --sklearn-color-unfitted-level-2: #ffe0b3;\n",
              "  --sklearn-color-unfitted-level-3: chocolate;\n",
              "  /* Definition of color scheme for fitted estimators */\n",
              "  --sklearn-color-fitted-level-0: #f0f8ff;\n",
              "  --sklearn-color-fitted-level-1: #d4ebff;\n",
              "  --sklearn-color-fitted-level-2: #b3dbfd;\n",
              "  --sklearn-color-fitted-level-3: cornflowerblue;\n",
              "\n",
              "  /* Specific color for light theme */\n",
              "  --sklearn-color-text-on-default-background: var(--sg-text-color, var(--theme-code-foreground, var(--jp-content-font-color1, black)));\n",
              "  --sklearn-color-background: var(--sg-background-color, var(--theme-background, var(--jp-layout-color0, white)));\n",
              "  --sklearn-color-border-box: var(--sg-text-color, var(--theme-code-foreground, var(--jp-content-font-color1, black)));\n",
              "  --sklearn-color-icon: #696969;\n",
              "\n",
              "  @media (prefers-color-scheme: dark) {\n",
              "    /* Redefinition of color scheme for dark theme */\n",
              "    --sklearn-color-text-on-default-background: var(--sg-text-color, var(--theme-code-foreground, var(--jp-content-font-color1, white)));\n",
              "    --sklearn-color-background: var(--sg-background-color, var(--theme-background, var(--jp-layout-color0, #111)));\n",
              "    --sklearn-color-border-box: var(--sg-text-color, var(--theme-code-foreground, var(--jp-content-font-color1, white)));\n",
              "    --sklearn-color-icon: #878787;\n",
              "  }\n",
              "}\n",
              "\n",
              "#sk-container-id-3 {\n",
              "  color: var(--sklearn-color-text);\n",
              "}\n",
              "\n",
              "#sk-container-id-3 pre {\n",
              "  padding: 0;\n",
              "}\n",
              "\n",
              "#sk-container-id-3 input.sk-hidden--visually {\n",
              "  border: 0;\n",
              "  clip: rect(1px 1px 1px 1px);\n",
              "  clip: rect(1px, 1px, 1px, 1px);\n",
              "  height: 1px;\n",
              "  margin: -1px;\n",
              "  overflow: hidden;\n",
              "  padding: 0;\n",
              "  position: absolute;\n",
              "  width: 1px;\n",
              "}\n",
              "\n",
              "#sk-container-id-3 div.sk-dashed-wrapped {\n",
              "  border: 1px dashed var(--sklearn-color-line);\n",
              "  margin: 0 0.4em 0.5em 0.4em;\n",
              "  box-sizing: border-box;\n",
              "  padding-bottom: 0.4em;\n",
              "  background-color: var(--sklearn-color-background);\n",
              "}\n",
              "\n",
              "#sk-container-id-3 div.sk-container {\n",
              "  /* jupyter's `normalize.less` sets `[hidden] { display: none; }`\n",
              "     but bootstrap.min.css set `[hidden] { display: none !important; }`\n",
              "     so we also need the `!important` here to be able to override the\n",
              "     default hidden behavior on the sphinx rendered scikit-learn.org.\n",
              "     See: https://github.com/scikit-learn/scikit-learn/issues/21755 */\n",
              "  display: inline-block !important;\n",
              "  position: relative;\n",
              "}\n",
              "\n",
              "#sk-container-id-3 div.sk-text-repr-fallback {\n",
              "  display: none;\n",
              "}\n",
              "\n",
              "div.sk-parallel-item,\n",
              "div.sk-serial,\n",
              "div.sk-item {\n",
              "  /* draw centered vertical line to link estimators */\n",
              "  background-image: linear-gradient(var(--sklearn-color-text-on-default-background), var(--sklearn-color-text-on-default-background));\n",
              "  background-size: 2px 100%;\n",
              "  background-repeat: no-repeat;\n",
              "  background-position: center center;\n",
              "}\n",
              "\n",
              "/* Parallel-specific style estimator block */\n",
              "\n",
              "#sk-container-id-3 div.sk-parallel-item::after {\n",
              "  content: \"\";\n",
              "  width: 100%;\n",
              "  border-bottom: 2px solid var(--sklearn-color-text-on-default-background);\n",
              "  flex-grow: 1;\n",
              "}\n",
              "\n",
              "#sk-container-id-3 div.sk-parallel {\n",
              "  display: flex;\n",
              "  align-items: stretch;\n",
              "  justify-content: center;\n",
              "  background-color: var(--sklearn-color-background);\n",
              "  position: relative;\n",
              "}\n",
              "\n",
              "#sk-container-id-3 div.sk-parallel-item {\n",
              "  display: flex;\n",
              "  flex-direction: column;\n",
              "}\n",
              "\n",
              "#sk-container-id-3 div.sk-parallel-item:first-child::after {\n",
              "  align-self: flex-end;\n",
              "  width: 50%;\n",
              "}\n",
              "\n",
              "#sk-container-id-3 div.sk-parallel-item:last-child::after {\n",
              "  align-self: flex-start;\n",
              "  width: 50%;\n",
              "}\n",
              "\n",
              "#sk-container-id-3 div.sk-parallel-item:only-child::after {\n",
              "  width: 0;\n",
              "}\n",
              "\n",
              "/* Serial-specific style estimator block */\n",
              "\n",
              "#sk-container-id-3 div.sk-serial {\n",
              "  display: flex;\n",
              "  flex-direction: column;\n",
              "  align-items: center;\n",
              "  background-color: var(--sklearn-color-background);\n",
              "  padding-right: 1em;\n",
              "  padding-left: 1em;\n",
              "}\n",
              "\n",
              "\n",
              "/* Toggleable style: style used for estimator/Pipeline/ColumnTransformer box that is\n",
              "clickable and can be expanded/collapsed.\n",
              "- Pipeline and ColumnTransformer use this feature and define the default style\n",
              "- Estimators will overwrite some part of the style using the `sk-estimator` class\n",
              "*/\n",
              "\n",
              "/* Pipeline and ColumnTransformer style (default) */\n",
              "\n",
              "#sk-container-id-3 div.sk-toggleable {\n",
              "  /* Default theme specific background. It is overwritten whether we have a\n",
              "  specific estimator or a Pipeline/ColumnTransformer */\n",
              "  background-color: var(--sklearn-color-background);\n",
              "}\n",
              "\n",
              "/* Toggleable label */\n",
              "#sk-container-id-3 label.sk-toggleable__label {\n",
              "  cursor: pointer;\n",
              "  display: flex;\n",
              "  width: 100%;\n",
              "  margin-bottom: 0;\n",
              "  padding: 0.5em;\n",
              "  box-sizing: border-box;\n",
              "  text-align: center;\n",
              "  align-items: start;\n",
              "  justify-content: space-between;\n",
              "  gap: 0.5em;\n",
              "}\n",
              "\n",
              "#sk-container-id-3 label.sk-toggleable__label .caption {\n",
              "  font-size: 0.6rem;\n",
              "  font-weight: lighter;\n",
              "  color: var(--sklearn-color-text-muted);\n",
              "}\n",
              "\n",
              "#sk-container-id-3 label.sk-toggleable__label-arrow:before {\n",
              "  /* Arrow on the left of the label */\n",
              "  content: \"▸\";\n",
              "  float: left;\n",
              "  margin-right: 0.25em;\n",
              "  color: var(--sklearn-color-icon);\n",
              "}\n",
              "\n",
              "#sk-container-id-3 label.sk-toggleable__label-arrow:hover:before {\n",
              "  color: var(--sklearn-color-text);\n",
              "}\n",
              "\n",
              "/* Toggleable content - dropdown */\n",
              "\n",
              "#sk-container-id-3 div.sk-toggleable__content {\n",
              "  max-height: 0;\n",
              "  max-width: 0;\n",
              "  overflow: hidden;\n",
              "  text-align: left;\n",
              "  /* unfitted */\n",
              "  background-color: var(--sklearn-color-unfitted-level-0);\n",
              "}\n",
              "\n",
              "#sk-container-id-3 div.sk-toggleable__content.fitted {\n",
              "  /* fitted */\n",
              "  background-color: var(--sklearn-color-fitted-level-0);\n",
              "}\n",
              "\n",
              "#sk-container-id-3 div.sk-toggleable__content pre {\n",
              "  margin: 0.2em;\n",
              "  border-radius: 0.25em;\n",
              "  color: var(--sklearn-color-text);\n",
              "  /* unfitted */\n",
              "  background-color: var(--sklearn-color-unfitted-level-0);\n",
              "}\n",
              "\n",
              "#sk-container-id-3 div.sk-toggleable__content.fitted pre {\n",
              "  /* unfitted */\n",
              "  background-color: var(--sklearn-color-fitted-level-0);\n",
              "}\n",
              "\n",
              "#sk-container-id-3 input.sk-toggleable__control:checked~div.sk-toggleable__content {\n",
              "  /* Expand drop-down */\n",
              "  max-height: 200px;\n",
              "  max-width: 100%;\n",
              "  overflow: auto;\n",
              "}\n",
              "\n",
              "#sk-container-id-3 input.sk-toggleable__control:checked~label.sk-toggleable__label-arrow:before {\n",
              "  content: \"▾\";\n",
              "}\n",
              "\n",
              "/* Pipeline/ColumnTransformer-specific style */\n",
              "\n",
              "#sk-container-id-3 div.sk-label input.sk-toggleable__control:checked~label.sk-toggleable__label {\n",
              "  color: var(--sklearn-color-text);\n",
              "  background-color: var(--sklearn-color-unfitted-level-2);\n",
              "}\n",
              "\n",
              "#sk-container-id-3 div.sk-label.fitted input.sk-toggleable__control:checked~label.sk-toggleable__label {\n",
              "  background-color: var(--sklearn-color-fitted-level-2);\n",
              "}\n",
              "\n",
              "/* Estimator-specific style */\n",
              "\n",
              "/* Colorize estimator box */\n",
              "#sk-container-id-3 div.sk-estimator input.sk-toggleable__control:checked~label.sk-toggleable__label {\n",
              "  /* unfitted */\n",
              "  background-color: var(--sklearn-color-unfitted-level-2);\n",
              "}\n",
              "\n",
              "#sk-container-id-3 div.sk-estimator.fitted input.sk-toggleable__control:checked~label.sk-toggleable__label {\n",
              "  /* fitted */\n",
              "  background-color: var(--sklearn-color-fitted-level-2);\n",
              "}\n",
              "\n",
              "#sk-container-id-3 div.sk-label label.sk-toggleable__label,\n",
              "#sk-container-id-3 div.sk-label label {\n",
              "  /* The background is the default theme color */\n",
              "  color: var(--sklearn-color-text-on-default-background);\n",
              "}\n",
              "\n",
              "/* On hover, darken the color of the background */\n",
              "#sk-container-id-3 div.sk-label:hover label.sk-toggleable__label {\n",
              "  color: var(--sklearn-color-text);\n",
              "  background-color: var(--sklearn-color-unfitted-level-2);\n",
              "}\n",
              "\n",
              "/* Label box, darken color on hover, fitted */\n",
              "#sk-container-id-3 div.sk-label.fitted:hover label.sk-toggleable__label.fitted {\n",
              "  color: var(--sklearn-color-text);\n",
              "  background-color: var(--sklearn-color-fitted-level-2);\n",
              "}\n",
              "\n",
              "/* Estimator label */\n",
              "\n",
              "#sk-container-id-3 div.sk-label label {\n",
              "  font-family: monospace;\n",
              "  font-weight: bold;\n",
              "  display: inline-block;\n",
              "  line-height: 1.2em;\n",
              "}\n",
              "\n",
              "#sk-container-id-3 div.sk-label-container {\n",
              "  text-align: center;\n",
              "}\n",
              "\n",
              "/* Estimator-specific */\n",
              "#sk-container-id-3 div.sk-estimator {\n",
              "  font-family: monospace;\n",
              "  border: 1px dotted var(--sklearn-color-border-box);\n",
              "  border-radius: 0.25em;\n",
              "  box-sizing: border-box;\n",
              "  margin-bottom: 0.5em;\n",
              "  /* unfitted */\n",
              "  background-color: var(--sklearn-color-unfitted-level-0);\n",
              "}\n",
              "\n",
              "#sk-container-id-3 div.sk-estimator.fitted {\n",
              "  /* fitted */\n",
              "  background-color: var(--sklearn-color-fitted-level-0);\n",
              "}\n",
              "\n",
              "/* on hover */\n",
              "#sk-container-id-3 div.sk-estimator:hover {\n",
              "  /* unfitted */\n",
              "  background-color: var(--sklearn-color-unfitted-level-2);\n",
              "}\n",
              "\n",
              "#sk-container-id-3 div.sk-estimator.fitted:hover {\n",
              "  /* fitted */\n",
              "  background-color: var(--sklearn-color-fitted-level-2);\n",
              "}\n",
              "\n",
              "/* Specification for estimator info (e.g. \"i\" and \"?\") */\n",
              "\n",
              "/* Common style for \"i\" and \"?\" */\n",
              "\n",
              ".sk-estimator-doc-link,\n",
              "a:link.sk-estimator-doc-link,\n",
              "a:visited.sk-estimator-doc-link {\n",
              "  float: right;\n",
              "  font-size: smaller;\n",
              "  line-height: 1em;\n",
              "  font-family: monospace;\n",
              "  background-color: var(--sklearn-color-background);\n",
              "  border-radius: 1em;\n",
              "  height: 1em;\n",
              "  width: 1em;\n",
              "  text-decoration: none !important;\n",
              "  margin-left: 0.5em;\n",
              "  text-align: center;\n",
              "  /* unfitted */\n",
              "  border: var(--sklearn-color-unfitted-level-1) 1pt solid;\n",
              "  color: var(--sklearn-color-unfitted-level-1);\n",
              "}\n",
              "\n",
              ".sk-estimator-doc-link.fitted,\n",
              "a:link.sk-estimator-doc-link.fitted,\n",
              "a:visited.sk-estimator-doc-link.fitted {\n",
              "  /* fitted */\n",
              "  border: var(--sklearn-color-fitted-level-1) 1pt solid;\n",
              "  color: var(--sklearn-color-fitted-level-1);\n",
              "}\n",
              "\n",
              "/* On hover */\n",
              "div.sk-estimator:hover .sk-estimator-doc-link:hover,\n",
              ".sk-estimator-doc-link:hover,\n",
              "div.sk-label-container:hover .sk-estimator-doc-link:hover,\n",
              ".sk-estimator-doc-link:hover {\n",
              "  /* unfitted */\n",
              "  background-color: var(--sklearn-color-unfitted-level-3);\n",
              "  color: var(--sklearn-color-background);\n",
              "  text-decoration: none;\n",
              "}\n",
              "\n",
              "div.sk-estimator.fitted:hover .sk-estimator-doc-link.fitted:hover,\n",
              ".sk-estimator-doc-link.fitted:hover,\n",
              "div.sk-label-container:hover .sk-estimator-doc-link.fitted:hover,\n",
              ".sk-estimator-doc-link.fitted:hover {\n",
              "  /* fitted */\n",
              "  background-color: var(--sklearn-color-fitted-level-3);\n",
              "  color: var(--sklearn-color-background);\n",
              "  text-decoration: none;\n",
              "}\n",
              "\n",
              "/* Span, style for the box shown on hovering the info icon */\n",
              ".sk-estimator-doc-link span {\n",
              "  display: none;\n",
              "  z-index: 9999;\n",
              "  position: relative;\n",
              "  font-weight: normal;\n",
              "  right: .2ex;\n",
              "  padding: .5ex;\n",
              "  margin: .5ex;\n",
              "  width: min-content;\n",
              "  min-width: 20ex;\n",
              "  max-width: 50ex;\n",
              "  color: var(--sklearn-color-text);\n",
              "  box-shadow: 2pt 2pt 4pt #999;\n",
              "  /* unfitted */\n",
              "  background: var(--sklearn-color-unfitted-level-0);\n",
              "  border: .5pt solid var(--sklearn-color-unfitted-level-3);\n",
              "}\n",
              "\n",
              ".sk-estimator-doc-link.fitted span {\n",
              "  /* fitted */\n",
              "  background: var(--sklearn-color-fitted-level-0);\n",
              "  border: var(--sklearn-color-fitted-level-3);\n",
              "}\n",
              "\n",
              ".sk-estimator-doc-link:hover span {\n",
              "  display: block;\n",
              "}\n",
              "\n",
              "/* \"?\"-specific style due to the `<a>` HTML tag */\n",
              "\n",
              "#sk-container-id-3 a.estimator_doc_link {\n",
              "  float: right;\n",
              "  font-size: 1rem;\n",
              "  line-height: 1em;\n",
              "  font-family: monospace;\n",
              "  background-color: var(--sklearn-color-background);\n",
              "  border-radius: 1rem;\n",
              "  height: 1rem;\n",
              "  width: 1rem;\n",
              "  text-decoration: none;\n",
              "  /* unfitted */\n",
              "  color: var(--sklearn-color-unfitted-level-1);\n",
              "  border: var(--sklearn-color-unfitted-level-1) 1pt solid;\n",
              "}\n",
              "\n",
              "#sk-container-id-3 a.estimator_doc_link.fitted {\n",
              "  /* fitted */\n",
              "  border: var(--sklearn-color-fitted-level-1) 1pt solid;\n",
              "  color: var(--sklearn-color-fitted-level-1);\n",
              "}\n",
              "\n",
              "/* On hover */\n",
              "#sk-container-id-3 a.estimator_doc_link:hover {\n",
              "  /* unfitted */\n",
              "  background-color: var(--sklearn-color-unfitted-level-3);\n",
              "  color: var(--sklearn-color-background);\n",
              "  text-decoration: none;\n",
              "}\n",
              "\n",
              "#sk-container-id-3 a.estimator_doc_link.fitted:hover {\n",
              "  /* fitted */\n",
              "  background-color: var(--sklearn-color-fitted-level-3);\n",
              "}\n",
              "</style><div id=\"sk-container-id-3\" class=\"sk-top-container\"><div class=\"sk-text-repr-fallback\"><pre>Pipeline(steps=[(&#x27;preproc&#x27;,\n",
              "                 ColumnTransformer(transformers=[(&#x27;numeric&#x27;, StandardScaler(),\n",
              "                                                  [&#x27;dayofmonth&#x27;, &#x27;dayofweek&#x27;,\n",
              "                                                   &#x27;dayofyear&#x27;, &#x27;weekofyear&#x27;,\n",
              "                                                   &#x27;month&#x27;, &#x27;quarter&#x27;, &#x27;year&#x27;,\n",
              "                                                   &#x27;pm_lag_1Y&#x27;, &#x27;pm_lag_2Y&#x27;,\n",
              "                                                   &#x27;pm_lag_1M&#x27;, &#x27;pm_lag_1W&#x27;,\n",
              "                                                   &#x27;co_lag_1Y&#x27;, &#x27;co_lag_2Y&#x27;,\n",
              "                                                   &#x27;co_lag_1M&#x27;, &#x27;co_lag_1W&#x27;,\n",
              "                                                   &#x27;o3_lag_1Y&#x27;, &#x27;o3_lag_2Y&#x27;,\n",
              "                                                   &#x27;o3_lag_1M&#x27;, &#x27;o3_lag_1W&#x27;]),\n",
              "                                                 (&#x27;categorical&#x27;,\n",
              "                                                  OneHotEncoder(handle_unknown=&#x27;ignore&#x27;),\n",
              "                                                  [])])),\n",
              "                (&#x27;poly&#x27;,\n",
              "                 PolynomialFeatures(include_bias=False, interaction_only=True)),\n",
              "                (&#x27;regr&#x27;, ElasticNet(alpha=0.2, l1_ratio=0.1))])</pre><b>In a Jupyter environment, please rerun this cell to show the HTML representation or trust the notebook. <br />On GitHub, the HTML representation is unable to render, please try loading this page with nbviewer.org.</b></div><div class=\"sk-container\" hidden><div class=\"sk-item sk-dashed-wrapped\"><div class=\"sk-label-container\"><div class=\"sk-label fitted sk-toggleable\"><input class=\"sk-toggleable__control sk-hidden--visually\" id=\"sk-estimator-id-16\" type=\"checkbox\" ><label for=\"sk-estimator-id-16\" class=\"sk-toggleable__label fitted sk-toggleable__label-arrow\"><div><div>Pipeline</div></div><div><a class=\"sk-estimator-doc-link fitted\" rel=\"noreferrer\" target=\"_blank\" href=\"https://scikit-learn.org/1.6/modules/generated/sklearn.pipeline.Pipeline.html\">?<span>Documentation for Pipeline</span></a><span class=\"sk-estimator-doc-link fitted\">i<span>Fitted</span></span></div></label><div class=\"sk-toggleable__content fitted\"><pre>Pipeline(steps=[(&#x27;preproc&#x27;,\n",
              "                 ColumnTransformer(transformers=[(&#x27;numeric&#x27;, StandardScaler(),\n",
              "                                                  [&#x27;dayofmonth&#x27;, &#x27;dayofweek&#x27;,\n",
              "                                                   &#x27;dayofyear&#x27;, &#x27;weekofyear&#x27;,\n",
              "                                                   &#x27;month&#x27;, &#x27;quarter&#x27;, &#x27;year&#x27;,\n",
              "                                                   &#x27;pm_lag_1Y&#x27;, &#x27;pm_lag_2Y&#x27;,\n",
              "                                                   &#x27;pm_lag_1M&#x27;, &#x27;pm_lag_1W&#x27;,\n",
              "                                                   &#x27;co_lag_1Y&#x27;, &#x27;co_lag_2Y&#x27;,\n",
              "                                                   &#x27;co_lag_1M&#x27;, &#x27;co_lag_1W&#x27;,\n",
              "                                                   &#x27;o3_lag_1Y&#x27;, &#x27;o3_lag_2Y&#x27;,\n",
              "                                                   &#x27;o3_lag_1M&#x27;, &#x27;o3_lag_1W&#x27;]),\n",
              "                                                 (&#x27;categorical&#x27;,\n",
              "                                                  OneHotEncoder(handle_unknown=&#x27;ignore&#x27;),\n",
              "                                                  [])])),\n",
              "                (&#x27;poly&#x27;,\n",
              "                 PolynomialFeatures(include_bias=False, interaction_only=True)),\n",
              "                (&#x27;regr&#x27;, ElasticNet(alpha=0.2, l1_ratio=0.1))])</pre></div> </div></div><div class=\"sk-serial\"><div class=\"sk-item sk-dashed-wrapped\"><div class=\"sk-label-container\"><div class=\"sk-label fitted sk-toggleable\"><input class=\"sk-toggleable__control sk-hidden--visually\" id=\"sk-estimator-id-17\" type=\"checkbox\" ><label for=\"sk-estimator-id-17\" class=\"sk-toggleable__label fitted sk-toggleable__label-arrow\"><div><div>preproc: ColumnTransformer</div></div><div><a class=\"sk-estimator-doc-link fitted\" rel=\"noreferrer\" target=\"_blank\" href=\"https://scikit-learn.org/1.6/modules/generated/sklearn.compose.ColumnTransformer.html\">?<span>Documentation for preproc: ColumnTransformer</span></a></div></label><div class=\"sk-toggleable__content fitted\"><pre>ColumnTransformer(transformers=[(&#x27;numeric&#x27;, StandardScaler(),\n",
              "                                 [&#x27;dayofmonth&#x27;, &#x27;dayofweek&#x27;, &#x27;dayofyear&#x27;,\n",
              "                                  &#x27;weekofyear&#x27;, &#x27;month&#x27;, &#x27;quarter&#x27;, &#x27;year&#x27;,\n",
              "                                  &#x27;pm_lag_1Y&#x27;, &#x27;pm_lag_2Y&#x27;, &#x27;pm_lag_1M&#x27;,\n",
              "                                  &#x27;pm_lag_1W&#x27;, &#x27;co_lag_1Y&#x27;, &#x27;co_lag_2Y&#x27;,\n",
              "                                  &#x27;co_lag_1M&#x27;, &#x27;co_lag_1W&#x27;, &#x27;o3_lag_1Y&#x27;,\n",
              "                                  &#x27;o3_lag_2Y&#x27;, &#x27;o3_lag_1M&#x27;, &#x27;o3_lag_1W&#x27;]),\n",
              "                                (&#x27;categorical&#x27;,\n",
              "                                 OneHotEncoder(handle_unknown=&#x27;ignore&#x27;), [])])</pre></div> </div></div><div class=\"sk-parallel\"><div class=\"sk-parallel-item\"><div class=\"sk-item\"><div class=\"sk-label-container\"><div class=\"sk-label fitted sk-toggleable\"><input class=\"sk-toggleable__control sk-hidden--visually\" id=\"sk-estimator-id-18\" type=\"checkbox\" ><label for=\"sk-estimator-id-18\" class=\"sk-toggleable__label fitted sk-toggleable__label-arrow\"><div><div>numeric</div></div></label><div class=\"sk-toggleable__content fitted\"><pre>[&#x27;dayofmonth&#x27;, &#x27;dayofweek&#x27;, &#x27;dayofyear&#x27;, &#x27;weekofyear&#x27;, &#x27;month&#x27;, &#x27;quarter&#x27;, &#x27;year&#x27;, &#x27;pm_lag_1Y&#x27;, &#x27;pm_lag_2Y&#x27;, &#x27;pm_lag_1M&#x27;, &#x27;pm_lag_1W&#x27;, &#x27;co_lag_1Y&#x27;, &#x27;co_lag_2Y&#x27;, &#x27;co_lag_1M&#x27;, &#x27;co_lag_1W&#x27;, &#x27;o3_lag_1Y&#x27;, &#x27;o3_lag_2Y&#x27;, &#x27;o3_lag_1M&#x27;, &#x27;o3_lag_1W&#x27;]</pre></div> </div></div><div class=\"sk-serial\"><div class=\"sk-item\"><div class=\"sk-estimator fitted sk-toggleable\"><input class=\"sk-toggleable__control sk-hidden--visually\" id=\"sk-estimator-id-19\" type=\"checkbox\" ><label for=\"sk-estimator-id-19\" class=\"sk-toggleable__label fitted sk-toggleable__label-arrow\"><div><div>StandardScaler</div></div><div><a class=\"sk-estimator-doc-link fitted\" rel=\"noreferrer\" target=\"_blank\" href=\"https://scikit-learn.org/1.6/modules/generated/sklearn.preprocessing.StandardScaler.html\">?<span>Documentation for StandardScaler</span></a></div></label><div class=\"sk-toggleable__content fitted\"><pre>StandardScaler()</pre></div> </div></div></div></div></div><div class=\"sk-parallel-item\"><div class=\"sk-item\"><div class=\"sk-label-container\"><div class=\"sk-label fitted sk-toggleable\"><input class=\"sk-toggleable__control sk-hidden--visually\" id=\"sk-estimator-id-20\" type=\"checkbox\" ><label for=\"sk-estimator-id-20\" class=\"sk-toggleable__label fitted sk-toggleable__label-arrow\"><div><div>categorical</div></div></label><div class=\"sk-toggleable__content fitted\"><pre>[]</pre></div> </div></div><div class=\"sk-serial\"><div class=\"sk-item\"><div class=\"sk-estimator fitted sk-toggleable\"><input class=\"sk-toggleable__control sk-hidden--visually\" id=\"sk-estimator-id-21\" type=\"checkbox\" ><label for=\"sk-estimator-id-21\" class=\"sk-toggleable__label fitted sk-toggleable__label-arrow\"><div><div>OneHotEncoder</div></div><div><a class=\"sk-estimator-doc-link fitted\" rel=\"noreferrer\" target=\"_blank\" href=\"https://scikit-learn.org/1.6/modules/generated/sklearn.preprocessing.OneHotEncoder.html\">?<span>Documentation for OneHotEncoder</span></a></div></label><div class=\"sk-toggleable__content fitted\"><pre>OneHotEncoder(handle_unknown=&#x27;ignore&#x27;)</pre></div> </div></div></div></div></div></div></div><div class=\"sk-item\"><div class=\"sk-estimator fitted sk-toggleable\"><input class=\"sk-toggleable__control sk-hidden--visually\" id=\"sk-estimator-id-22\" type=\"checkbox\" ><label for=\"sk-estimator-id-22\" class=\"sk-toggleable__label fitted sk-toggleable__label-arrow\"><div><div>PolynomialFeatures</div></div><div><a class=\"sk-estimator-doc-link fitted\" rel=\"noreferrer\" target=\"_blank\" href=\"https://scikit-learn.org/1.6/modules/generated/sklearn.preprocessing.PolynomialFeatures.html\">?<span>Documentation for PolynomialFeatures</span></a></div></label><div class=\"sk-toggleable__content fitted\"><pre>PolynomialFeatures(include_bias=False, interaction_only=True)</pre></div> </div></div><div class=\"sk-item\"><div class=\"sk-estimator fitted sk-toggleable\"><input class=\"sk-toggleable__control sk-hidden--visually\" id=\"sk-estimator-id-23\" type=\"checkbox\" ><label for=\"sk-estimator-id-23\" class=\"sk-toggleable__label fitted sk-toggleable__label-arrow\"><div><div>ElasticNet</div></div><div><a class=\"sk-estimator-doc-link fitted\" rel=\"noreferrer\" target=\"_blank\" href=\"https://scikit-learn.org/1.6/modules/generated/sklearn.linear_model.ElasticNet.html\">?<span>Documentation for ElasticNet</span></a></div></label><div class=\"sk-toggleable__content fitted\"><pre>ElasticNet(alpha=0.2, l1_ratio=0.1)</pre></div> </div></div></div></div></div></div>"
            ]
          },
          "metadata": {},
          "execution_count": 33
        }
      ],
      "source": [
        "%time model.fit(X_train, y_train)"
      ]
    },
    {
      "cell_type": "markdown",
      "metadata": {
        "id": "GGubqzrxlVi3"
      },
      "source": [
        "### Grid Search per Elastic Net\n",
        "Nella grid search cerchiamo i valori migliori di `alpha`, iperparametro della regolarizzazione, e di `l1_ratio`, iperparametro per gestire l'unione di LASSO e Ridge."
      ]
    },
    {
      "cell_type": "code",
      "execution_count": 34,
      "metadata": {
        "id": "jwcPfGK9lVi3"
      },
      "outputs": [],
      "source": [
        "grid = {\n",
        "    \"regr__alpha\":    [0.1, 1, 10],\n",
        "    \"regr__l1_ratio\": [0.1, 0.2, 0.3]\n",
        "}\n",
        "gs = RandomizedSearchCV(model, grid, n_iter=9, cv=tscv, n_jobs=N_JOBS)"
      ]
    },
    {
      "cell_type": "code",
      "execution_count": 35,
      "metadata": {
        "id": "E9qz_4YslVi3",
        "colab": {
          "base_uri": "https://localhost:8080/"
        },
        "outputId": "8cffe772-fa4a-4369-ceb4-aa8b3fd84adb"
      },
      "outputs": [
        {
          "output_type": "stream",
          "name": "stdout",
          "text": [
            "CPU times: user 1.75 s, sys: 59.2 ms, total: 1.81 s\n",
            "Wall time: 32.9 s\n",
            "\n"
          ]
        }
      ],
      "source": [
        "%time gs.fit(X_train, y_train);\n",
        "print()"
      ]
    },
    {
      "cell_type": "code",
      "execution_count": 36,
      "metadata": {
        "id": "rHfhGZSslVi4"
      },
      "outputs": [],
      "source": [
        "get_estimator_scores(\"elastic_net_reg\", gs.best_estimator_)"
      ]
    },
    {
      "cell_type": "markdown",
      "metadata": {
        "id": "OSqJT3J-lVi4",
        "tags": []
      },
      "source": [
        "## Regressione con funzioni kernel\n",
        "Per ovviare ai problemi di prestazioni dei modelli con feature polinomiali, usiamo il kernel trick per evitare di creare un numero elevato di feature aggiuntive."
      ]
    },
    {
      "cell_type": "markdown",
      "metadata": {
        "id": "VFj50pJolVi4",
        "tags": []
      },
      "source": [
        "## Funzioni kernel polinomiali"
      ]
    },
    {
      "cell_type": "code",
      "execution_count": 37,
      "metadata": {
        "id": "-xa639FtlVi4"
      },
      "outputs": [],
      "source": [
        "model = Pipeline([\n",
        "    (\"preproc\", preprocessor),\n",
        "    (\"regr\",  KernelRidge(alpha=1, kernel=\"poly\", degree=10))\n",
        "])"
      ]
    },
    {
      "cell_type": "code",
      "execution_count": 38,
      "metadata": {
        "id": "xnFxvlfPlVi4",
        "colab": {
          "base_uri": "https://localhost:8080/"
        },
        "outputId": "22c0e4f3-3777-4bcc-a848-dd88f4387328"
      },
      "outputs": [
        {
          "output_type": "stream",
          "name": "stdout",
          "text": [
            "CPU times: user 2min 59s, sys: 5.6 s, total: 3min 5s\n",
            "Wall time: 2min 1s\n",
            "\n"
          ]
        },
        {
          "output_type": "stream",
          "name": "stderr",
          "text": [
            "/usr/local/lib/python3.11/dist-packages/sklearn/linear_model/_ridge.py:252: LinAlgWarning: Ill-conditioned matrix (rcond=5.19081e-24): result may not be accurate.\n",
            "  dual_coef = linalg.solve(K, y, assume_a=\"pos\", overwrite_a=False)\n"
          ]
        }
      ],
      "source": [
        "%time model.fit(X_train, y_train)\n",
        "print()"
      ]
    },
    {
      "cell_type": "markdown",
      "metadata": {
        "id": "EOaI0YJZlVi4",
        "tags": []
      },
      "source": [
        "### Grid Search per funzioni kernel polinomiali\n",
        "Questa grid search cerca i valori ottimali del peso della regolarizzazione e del grado della funzione kernel polinomiale."
      ]
    },
    {
      "cell_type": "code",
      "execution_count": 39,
      "metadata": {
        "id": "ffHhHFyllVi4"
      },
      "outputs": [],
      "source": [
        "grid = {\n",
        "    \"regr__alpha\":    [0.1, 1, 10],\n",
        "    \"regr__degree\": list(range(2,30))\n",
        "}\n",
        "gs = RandomizedSearchCV(model, grid, n_iter=20, cv=tscv, n_jobs=N_JOBS)"
      ]
    },
    {
      "cell_type": "markdown",
      "source": [
        "**Scelta del numero di iterazioni per RandomizedSearchCV con questo grid**\n",
        "\n",
        "Il grid ha:\n",
        "\n",
        "- Configurazioni Totali:\n",
        "$$\n",
        "M = |\\text{max_depth}| \\times |\\text{min_samples_split}| = 28 \\times 4 = 84 $$\n",
        "\n",
        "Supponiamo di voler avere una probabilità \\(P = 0.90\\) di includere almeno una delle migliori \\(k = 10\\) configurazioni tra queste 84.\n",
        "\n",
        "Usiamo la formula:\n",
        "\n",
        "$$\n",
        "n = \\frac{\\ln(1 - P)}{\\ln\\left(1 - \\frac{k}{M}\\right)}\n",
        "$$\n",
        "\n",
        "Calcoliamo l’approssimazione:\n",
        "\n",
        "$$\n",
        "n \\approx - \\frac{\\ln(1 - 0.90)}{10/104} = \\frac{2.3026}{10/84} = 2.3026 \\times \\frac{84}{10} \\approx 20\n",
        "$$\n",
        "\n",
        "Quindi, con **20 iterazioni** di Randomized Search, si ha circa il 90% di probabilità di testare almeno una delle 10 migliori configurazioni, risparmiando rispetto a un Grid Search completo con 84 tentativi.\n",
        "\n",
        "\n"
      ],
      "metadata": {
        "id": "NC1W0ztHymoP"
      }
    },
    {
      "cell_type": "markdown",
      "source": [
        "**Da dove viene la formula per stimare il numero di iterazioni nel Randomized Search?**\n",
        "\n",
        "Per stimare quante iterazioni (`n`) sono necessarie per avere una certa probabilità \\(P\\) di includere almeno una configurazione tra le \\(k\\) migliori (su \\(M\\) totali), usiamo la seguente logica probabilistica:\n",
        "\n",
        "1. Probabilità di *non* pescare una top-\\(k\\) in un singolo tentativo.\n",
        "Se ci sono \\(M\\) configurazioni totali e \\(k\\) di esse sono “quasi ottimali”, la probabilità di *non* sceglierne una buona è:\n",
        "$$\n",
        "1 - \\frac{k}{M}\n",
        "$$\n",
        "\n",
        "2. Probabilità di non pescarne *nessuna* in \\(n\\) tentativi indipendenti\n",
        "$$\n",
        "\\left(1 - \\frac{k}{M} \\right)^n\n",
        "$$\n",
        "\n",
        "3. Probabilità di pescare **almeno una** delle top-\\(k\\)\n",
        "$$\n",
        "P(\\text{≥1 top-}k) = 1 - \\left(1 - \\frac{k}{M} \\right)^n\n",
        "$$\n",
        "\n",
        "4. Ricavare \\(n\\) dalla formula\n",
        "$$\n",
        "1 - \\left(1 - \\frac{k}{M} \\right)^n = P\n",
        "\\quad \\Longrightarrow \\quad\n",
        "n = \\frac{\\ln(1 - P)}{\\ln\\left(1 - \\frac{k}{M} \\right)}\n",
        "$$\n",
        "\n",
        "5. Approssimazione per $$ k \\ll M $$\n",
        "Poiché $$ \\ln(1 - x) \\approx -x $$ per \\(x\\) piccolo:\n",
        "$$\n",
        "n \\approx - \\frac{\\ln(1 - P)}{k/M}\n",
        "$$"
      ],
      "metadata": {
        "id": "Wrc2Kg0DyqcO"
      }
    },
    {
      "cell_type": "code",
      "execution_count": 40,
      "metadata": {
        "id": "4UBMc_JPlVi5",
        "colab": {
          "base_uri": "https://localhost:8080/"
        },
        "outputId": "e1e4d302-9c0c-446e-f238-e6b075677a15"
      },
      "outputs": [
        {
          "output_type": "stream",
          "name": "stdout",
          "text": [
            "CPU times: user 3min 17s, sys: 5.77 s, total: 3min 23s\n",
            "Wall time: 45min 9s\n",
            "\n"
          ]
        }
      ],
      "source": [
        "%time gs.fit(X_train, y_train)\n",
        "print()"
      ]
    },
    {
      "cell_type": "code",
      "execution_count": 41,
      "metadata": {
        "id": "lsrbR4InlVi5",
        "tags": []
      },
      "outputs": [],
      "source": [
        "get_estimator_scores(\"kernel_poly_reg\", gs.best_estimator_)"
      ]
    },
    {
      "cell_type": "code",
      "execution_count": 42,
      "metadata": {
        "id": "ShgWWvDBlVi5"
      },
      "outputs": [],
      "source": [
        "results = pd.DataFrame(gs.cv_results_)[[\"param_regr__alpha\",\"param_regr__degree\",\"mean_test_score\"]]\n",
        "results_0_1 = results[results[\"param_regr__alpha\"] == 0.1]\n",
        "results_1 = results[results[\"param_regr__alpha\"] == 1]\n",
        "results_10 = results[results[\"param_regr__alpha\"] == 10]"
      ]
    },
    {
      "cell_type": "code",
      "execution_count": 43,
      "metadata": {
        "id": "l0K5FibrlVi5",
        "colab": {
          "base_uri": "https://localhost:8080/",
          "height": 496
        },
        "outputId": "f46a807f-5b75-4cb4-9fde-ea76d1935757"
      },
      "outputs": [
        {
          "output_type": "display_data",
          "data": {
            "text/plain": [
              "<Figure size 640x480 with 1 Axes>"
            ],
            "image/png": "[encoded data removed]"
          },
          "metadata": {}
        }
      ],
      "source": [
        "plt.plot(results_0_1[\"param_regr__degree\"], results_0_1[\"mean_test_score\"])\n",
        "plt.plot(results_1[\"param_regr__degree\"], results_1[\"mean_test_score\"], c=\"red\")\n",
        "plt.plot(results_10[\"param_regr__degree\"], results_10[\"mean_test_score\"], c=\"green\")\n",
        "plt.xlabel('degree')\n",
        "plt.ylabel('score')\n",
        "plt.legend([\"alpha=0.1\",\"alpha=1\",\"alpha=10\"])\n",
        "plt.title('Grafico al variare del grado della funzione kernel polinomiale')\n",
        "plt.show()"
      ]
    },
    {
      "cell_type": "markdown",
      "metadata": {
        "id": "p4RNo3BclVi5"
      },
      "source": [
        "## Funzioni kernel gaussiane"
      ]
    },
    {
      "cell_type": "markdown",
      "metadata": {
        "id": "-78ywm3XlVi5"
      },
      "source": [
        "Testiamo anche funzioni kernel diverse, ad esempio RBF (_radial basis function_). <br>\n",
        "La funzione RBF ha la forma di una gaussiana."
      ]
    },
    {
      "cell_type": "code",
      "execution_count": 44,
      "metadata": {
        "id": "9T5BL022lVi5"
      },
      "outputs": [],
      "source": [
        "model = Pipeline([\n",
        "    (\"preproc\", preprocessor),\n",
        "    (\"regr\",  KernelRidge(alpha=1, kernel=\"rbf\", gamma=0.01))\n",
        "])"
      ]
    },
    {
      "cell_type": "code",
      "execution_count": 45,
      "metadata": {
        "id": "JlJ8BI7UlVi6",
        "colab": {
          "base_uri": "https://localhost:8080/"
        },
        "outputId": "c32258e2-8ac2-44b2-a63f-761e2adcb0b2"
      },
      "outputs": [
        {
          "output_type": "stream",
          "name": "stdout",
          "text": [
            "CPU times: user 2min 59s, sys: 3.22 s, total: 3min 2s\n",
            "Wall time: 1min 51s\n",
            "\n"
          ]
        }
      ],
      "source": [
        "%time model.fit(X_train, y_train)\n",
        "print()"
      ]
    },
    {
      "cell_type": "markdown",
      "metadata": {
        "id": "bcj4BGSPlVi6"
      },
      "source": [
        "### Grid Search per funzioni kernel gaussiane"
      ]
    },
    {
      "cell_type": "code",
      "execution_count": 46,
      "metadata": {
        "id": "l4S7RFNUlVi6"
      },
      "outputs": [],
      "source": [
        "grid = {\n",
        "    \"regr__alpha\":    [0.1, 1, 10],\n",
        "    \"regr__gamma\": [0.01, 0.1, 1]\n",
        "}\n",
        "gs = RandomizedSearchCV(model, grid, n_iter=9, cv=tscv, n_jobs=N_JOBS)"
      ]
    },
    {
      "cell_type": "code",
      "execution_count": 47,
      "metadata": {
        "id": "BBK7V6RvlVi6",
        "colab": {
          "base_uri": "https://localhost:8080/"
        },
        "outputId": "0ea14444-cfe4-47ae-d066-f4bf61a8158a"
      },
      "outputs": [
        {
          "output_type": "stream",
          "name": "stdout",
          "text": [
            "CPU times: user 3min 5s, sys: 4.28 s, total: 3min 9s\n",
            "Wall time: 19min 45s\n",
            "\n"
          ]
        }
      ],
      "source": [
        "%time gs.fit(X_train, y_train)\n",
        "print()"
      ]
    },
    {
      "cell_type": "code",
      "execution_count": 48,
      "metadata": {
        "id": "jNj-dvsjlVi6"
      },
      "outputs": [],
      "source": [
        "get_estimator_scores(\"kernel_rbf_reg\", gs.best_estimator_)"
      ]
    },
    {
      "cell_type": "markdown",
      "metadata": {
        "id": "sELWDyRclVi6"
      },
      "source": [
        "## Alberi decisionali"
      ]
    },
    {
      "cell_type": "code",
      "execution_count": 49,
      "metadata": {
        "id": "fVoeA9SklVi6"
      },
      "outputs": [],
      "source": [
        "model = Pipeline([\n",
        "    (\"preproc\", preprocessor),\n",
        "    (\"tree\", DecisionTreeRegressor(max_depth=4, random_state=42))\n",
        "])"
      ]
    },
    {
      "cell_type": "code",
      "execution_count": 50,
      "metadata": {
        "id": "GOZPvS-MlVi7",
        "colab": {
          "base_uri": "https://localhost:8080/"
        },
        "outputId": "c49ed55d-9b42-499e-bca9-1a6bcdb9f78c"
      },
      "outputs": [
        {
          "output_type": "stream",
          "name": "stdout",
          "text": [
            "CPU times: user 155 ms, sys: 977 µs, total: 156 ms\n",
            "Wall time: 156 ms\n",
            "\n"
          ]
        }
      ],
      "source": [
        "%time model.fit(X_train, y_train)\n",
        "print()"
      ]
    },
    {
      "cell_type": "markdown",
      "metadata": {
        "id": "rfO7GcablVi7"
      },
      "source": [
        "### Grid Search per alberi decisionali\n",
        "Cerchiamo i valori ottimali della profondità massima dell'albero decisionale e del numero minimo di campioni all'interno di ciascun nodo per poter essere suddiviso a sua volta."
      ]
    },
    {
      "cell_type": "code",
      "execution_count": 51,
      "metadata": {
        "id": "d4wR3nZolVi7"
      },
      "outputs": [],
      "source": [
        "grid = {\n",
        "    \"tree__max_depth\": list(range(4,30)),\n",
        "    \"tree__min_samples_split\": [0.005, 0.01, 0.1, 0.15],\n",
        "}\n",
        "gs = RandomizedSearchCV(model, grid, n_iter=24, cv=tscv, n_jobs=N_JOBS)"
      ]
    },
    {
      "cell_type": "markdown",
      "source": [
        "**Scelta del numero di iterazioni per RandomizedSearchCV con questo grid**\n",
        "\n",
        "Il grid ha:\n",
        "\n",
        "- Configurazioni Totali: $$ M = |\\text{max_depth}| \\times |\\text{min_samples_split}| = 26 \\times 4 = 104 $$\n",
        "\n",
        "Supponiamo di voler avere una probabilità \\(P = 0.90\\) di includere almeno una delle migliori \\(k = 10\\) configurazioni tra queste 104.\n",
        "\n",
        "Usiamo la formula:\n",
        "\n",
        "$$\n",
        "n = \\frac{\\ln(1 - P)}{\\ln\\left(1 - \\frac{k}{M}\\right)}\n",
        "$$\n",
        "\n",
        "Calcoliamo l’approssimazione:\n",
        "\n",
        "$$\n",
        "n \\approx - \\frac{\\ln(1 - 0.90)}{10/104} = \\frac{2.3026}{10/104} = 2.3026 \\times \\frac{104}{10} \\approx 24\n",
        "$$\n",
        "\n",
        "Quindi, con **24 iterazioni** di Randomized Search, si ha circa il 90% di probabilità di testare almeno una delle 10 migliori configurazioni, risparmiando rispetto a un Grid Search completo con 104 tentativi.\n",
        "\n"
      ],
      "metadata": {
        "id": "dN2PpsCAy6Qw"
      }
    },
    {
      "cell_type": "code",
      "execution_count": 52,
      "metadata": {
        "id": "My063uZrlVi7",
        "colab": {
          "base_uri": "https://localhost:8080/"
        },
        "outputId": "6f8869c8-c797-4652-a29c-9511aa7bac0d"
      },
      "outputs": [
        {
          "output_type": "stream",
          "name": "stdout",
          "text": [
            "CPU times: user 466 ms, sys: 23.5 ms, total: 489 ms\n",
            "Wall time: 13.3 s\n",
            "\n"
          ]
        }
      ],
      "source": [
        "%time gs.fit(X_train, y_train)\n",
        "print()"
      ]
    },
    {
      "cell_type": "code",
      "execution_count": 53,
      "metadata": {
        "id": "h3w8NnP3lVi7"
      },
      "outputs": [],
      "source": [
        "get_estimator_scores(\"decision_tree_reg\", gs.best_estimator_)"
      ]
    },
    {
      "cell_type": "code",
      "execution_count": 54,
      "metadata": {
        "id": "6QK0x8yelVi7"
      },
      "outputs": [],
      "source": [
        "results = pd.DataFrame(gs.cv_results_)[[\n",
        "    \"param_tree__min_samples_split\",\n",
        "    \"param_tree__max_depth\",\n",
        "    \"mean_test_score\"\n",
        "]]\n",
        "splits = sorted(results[\"param_tree__min_samples_split\"].unique())"
      ]
    },
    {
      "cell_type": "code",
      "execution_count": 55,
      "metadata": {
        "id": "ma3qnu6clVi8",
        "colab": {
          "base_uri": "https://localhost:8080/",
          "height": 480
        },
        "outputId": "832592a4-a0e6-4e99-cb6e-2045d9e5d91d"
      },
      "outputs": [
        {
          "output_type": "display_data",
          "data": {
            "text/plain": [
              "<Figure size 640x480 with 1 Axes>"
            ],
            "image/png": "[encoded data removed]"
          },
          "metadata": {}
        }
      ],
      "source": [
        "for split in splits:\n",
        "    subset = results[results[\"param_tree__min_samples_split\"] == split]\n",
        "    subset = subset.sort_values(\"param_tree__max_depth\")\n",
        "    plt.plot(\n",
        "        subset[\"param_tree__max_depth\"],\n",
        "        subset[\"mean_test_score\"],\n",
        "        label=f\"min_samples_split={split}\"\n",
        "    )\n",
        "\n",
        "plt.xlabel('depth')\n",
        "plt.ylabel('score')\n",
        "plt.title(\"Performance al variare della Profonditá\")\n",
        "plt.legend()\n",
        "plt.show()"
      ]
    },
    {
      "cell_type": "markdown",
      "metadata": {
        "id": "sM7vW1UglVi8"
      },
      "source": [
        "## Random forest"
      ]
    },
    {
      "cell_type": "code",
      "execution_count": 56,
      "metadata": {
        "id": "1eieu-i1lVi9"
      },
      "outputs": [],
      "source": [
        "model = Pipeline([\n",
        "    (\"preproc\", preprocessor),\n",
        "    (\"tree\", RandomForestRegressor(max_samples=0.2, max_features=\"sqrt\", n_estimators=200, max_depth=None, n_jobs=-1))\n",
        "])"
      ]
    },
    {
      "cell_type": "code",
      "execution_count": 57,
      "metadata": {
        "id": "lB_F1HTDlVi9",
        "colab": {
          "base_uri": "https://localhost:8080/"
        },
        "outputId": "0cb30e0c-353e-4fac-ff7f-fda9d2ed2fcc"
      },
      "outputs": [
        {
          "output_type": "stream",
          "name": "stdout",
          "text": [
            "CPU times: user 6.83 s, sys: 76.6 ms, total: 6.91 s\n",
            "Wall time: 4.46 s\n",
            "\n"
          ]
        }
      ],
      "source": [
        "%time model.fit(X_train, y_train)\n",
        "print()"
      ]
    },
    {
      "cell_type": "markdown",
      "metadata": {
        "id": "jx9HoQcolVi9"
      },
      "source": [
        "Possiamo ricavare le 10 feature più importanti per la Random Forest, ovvero le variabili che sono state più utilizzate nella creazione degli alberi decisionali."
      ]
    },
    {
      "cell_type": "code",
      "execution_count": 58,
      "metadata": {
        "id": "AQVy9ajGlVi9",
        "colab": {
          "base_uri": "https://localhost:8080/",
          "height": 398
        },
        "outputId": "5457742d-3322-42c2-fe88-ed892adfa532"
      },
      "outputs": [
        {
          "output_type": "execute_result",
          "data": {
            "text/plain": [
              "numeric__pm_lag_1W     0.232303\n",
              "numeric__pm_lag_1Y     0.160013\n",
              "numeric__pm_lag_2Y     0.129557\n",
              "numeric__pm_lag_1M     0.107299\n",
              "numeric__co_lag_1W     0.049193\n",
              "numeric__co_lag_1Y     0.045464\n",
              "numeric__dayofyear     0.040514\n",
              "numeric__co_lag_2Y     0.034638\n",
              "numeric__weekofyear    0.031846\n",
              "numeric__co_lag_1M     0.029105\n",
              "dtype: float64"
            ],
            "text/html": [
              "<div>\n",
              "<style scoped>\n",
              "    .dataframe tbody tr th:only-of-type {\n",
              "        vertical-align: middle;\n",
              "    }\n",
              "\n",
              "    .dataframe tbody tr th {\n",
              "        vertical-align: top;\n",
              "    }\n",
              "\n",
              "    .dataframe thead th {\n",
              "        text-align: right;\n",
              "    }\n",
              "</style>\n",
              "<table border=\"1\" class=\"dataframe\">\n",
              "  <thead>\n",
              "    <tr style=\"text-align: right;\">\n",
              "      <th></th>\n",
              "      <th>0</th>\n",
              "    </tr>\n",
              "  </thead>\n",
              "  <tbody>\n",
              "    <tr>\n",
              "      <th>numeric__pm_lag_1W</th>\n",
              "      <td>0.232303</td>\n",
              "    </tr>\n",
              "    <tr>\n",
              "      <th>numeric__pm_lag_1Y</th>\n",
              "      <td>0.160013</td>\n",
              "    </tr>\n",
              "    <tr>\n",
              "      <th>numeric__pm_lag_2Y</th>\n",
              "      <td>0.129557</td>\n",
              "    </tr>\n",
              "    <tr>\n",
              "      <th>numeric__pm_lag_1M</th>\n",
              "      <td>0.107299</td>\n",
              "    </tr>\n",
              "    <tr>\n",
              "      <th>numeric__co_lag_1W</th>\n",
              "      <td>0.049193</td>\n",
              "    </tr>\n",
              "    <tr>\n",
              "      <th>numeric__co_lag_1Y</th>\n",
              "      <td>0.045464</td>\n",
              "    </tr>\n",
              "    <tr>\n",
              "      <th>numeric__dayofyear</th>\n",
              "      <td>0.040514</td>\n",
              "    </tr>\n",
              "    <tr>\n",
              "      <th>numeric__co_lag_2Y</th>\n",
              "      <td>0.034638</td>\n",
              "    </tr>\n",
              "    <tr>\n",
              "      <th>numeric__weekofyear</th>\n",
              "      <td>0.031846</td>\n",
              "    </tr>\n",
              "    <tr>\n",
              "      <th>numeric__co_lag_1M</th>\n",
              "      <td>0.029105</td>\n",
              "    </tr>\n",
              "  </tbody>\n",
              "</table>\n",
              "</div><br><label><b>dtype:</b> float64</label>"
            ]
          },
          "metadata": {},
          "execution_count": 58
        }
      ],
      "source": [
        "pd.Series(model.named_steps[\"tree\"].feature_importances_, preprocessor.get_feature_names_out(X_train.columns)).sort_values(ascending=False).head(10)"
      ]
    },
    {
      "cell_type": "markdown",
      "metadata": {
        "id": "fY3JUaW7lVi9"
      },
      "source": [
        "### Grid Search per random forest\n",
        "Nella grid search cerchiamo i valori ottimali di `max_samples`, il numero massimo di campioni usati nell'addestramento di ciascun albero, e di `n_estimators`, il numero di alberi decisionali della foresta."
      ]
    },
    {
      "cell_type": "code",
      "execution_count": 59,
      "metadata": {
        "id": "S22MF1LolVi-"
      },
      "outputs": [],
      "source": [
        "grid = {\n",
        "    \"tree__n_estimators\": [150, 200, 250, 300],\n",
        "    \"tree__max_samples\": [0.5, 0.6, 0.8, 1.0],\n",
        "}\n",
        "gs = RandomizedSearchCV(model, grid, n_iter=16, cv=tscv, n_jobs=N_JOBS)"
      ]
    },
    {
      "cell_type": "code",
      "execution_count": 60,
      "metadata": {
        "id": "DqxUYeNElVi-",
        "colab": {
          "base_uri": "https://localhost:8080/"
        },
        "outputId": "6d853f28-c20f-4e5c-9a15-17222cccc688"
      },
      "outputs": [
        {
          "output_type": "stream",
          "name": "stderr",
          "text": [
            "/usr/local/lib/python3.11/dist-packages/joblib/externals/loky/process_executor.py:782: UserWarning: A worker stopped while some jobs were given to the executor. This can be caused by a too short worker timeout or by a memory leak.\n",
            "  warnings.warn(\n"
          ]
        },
        {
          "output_type": "stream",
          "name": "stdout",
          "text": [
            "CPU times: user 21.9 s, sys: 13.5 s, total: 35.4 s\n",
            "Wall time: 9min 10s\n",
            "\n"
          ]
        }
      ],
      "source": [
        "%time gs.fit(X_train, y_train)\n",
        "print()"
      ]
    },
    {
      "cell_type": "code",
      "execution_count": 61,
      "metadata": {
        "id": "ML7A1bPflVi-"
      },
      "outputs": [],
      "source": [
        "get_estimator_scores(\"random_forest_reg\", gs.best_estimator_)"
      ]
    },
    {
      "cell_type": "code",
      "execution_count": 62,
      "metadata": {
        "id": "srMzWDr1lVi-"
      },
      "outputs": [],
      "source": [
        "results = pd.DataFrame(gs.cv_results_)[[\"param_tree__n_estimators\",\"param_tree__max_samples\",\"mean_test_score\"]]\n",
        "results_0_5 = results[results[\"param_tree__max_samples\"] == 0.5]\n",
        "results_0_6 = results[results[\"param_tree__max_samples\"] == 0.6]\n",
        "results_0_8 = results[results[\"param_tree__max_samples\"] == 0.8]\n",
        "results_1 = results[results[\"param_tree__max_samples\"] == 1.0]"
      ]
    },
    {
      "cell_type": "code",
      "execution_count": 63,
      "metadata": {
        "id": "HO-ajTvZlVi-",
        "colab": {
          "base_uri": "https://localhost:8080/",
          "height": 480
        },
        "outputId": "e93c403b-24b8-4894-dc05-6d3d4c0438f4"
      },
      "outputs": [
        {
          "output_type": "display_data",
          "data": {
            "text/plain": [
              "<Figure size 640x480 with 1 Axes>"
            ],
            "image/png": "[encoded data removed]"
          },
          "metadata": {}
        }
      ],
      "source": [
        "plt.plot(results_0_5[\"param_tree__n_estimators\"], results_0_5[\"mean_test_score\"])\n",
        "plt.plot(results_0_6[\"param_tree__n_estimators\"], results_0_6[\"mean_test_score\"], c=\"red\")\n",
        "plt.plot(results_0_8[\"param_tree__n_estimators\"], results_0_8[\"mean_test_score\"], c=\"green\")\n",
        "plt.plot(results_1[\"param_tree__n_estimators\"], results_1[\"mean_test_score\"], c=\"gold\")\n",
        "plt.xlabel('n trees')\n",
        "plt.ylabel('score')\n",
        "plt.legend([\"max_samples=0.5\",\"max_samples=0.6\",\"max_samples=0.8\",\"max_samples=1\"])\n",
        "plt.title('Grafico al variare del numero di alberi del random forest')\n",
        "plt.show()"
      ]
    },
    {
      "cell_type": "markdown",
      "metadata": {
        "id": "7xPxYN70lVi_"
      },
      "source": [
        "## XGBoost\n",
        "XGBoost crea una foresta di alberi in cui ogni albero utilizza gli errori commessi dall'albero precedente."
      ]
    },
    {
      "cell_type": "code",
      "execution_count": 64,
      "metadata": {
        "id": "1A4je0oplVjA"
      },
      "outputs": [],
      "source": [
        "model = Pipeline([\n",
        "    (\"preproc\", preprocessor),\n",
        "    (\"xgb\", XGBRegressor(objective='reg:squarederror', n_estimators=200))\n",
        "])"
      ]
    },
    {
      "cell_type": "code",
      "execution_count": 65,
      "metadata": {
        "id": "8A3332KolVjA",
        "colab": {
          "base_uri": "https://localhost:8080/"
        },
        "outputId": "3ec93244-b473-408b-eb3e-f64e6e9a9aa6"
      },
      "outputs": [
        {
          "output_type": "stream",
          "name": "stdout",
          "text": [
            "CPU times: user 2.19 s, sys: 195 ms, total: 2.38 s\n",
            "Wall time: 1.62 s\n",
            "\n"
          ]
        }
      ],
      "source": [
        "%time model.fit(X_train, y_train)\n",
        "print()"
      ]
    },
    {
      "cell_type": "markdown",
      "metadata": {
        "id": "xUxDT_-nlVjA"
      },
      "source": [
        "Possiamo ricavare le 5 feature più importanti per XGBoost, ovvero le variabili che sono state più utilizzate nella creazione degli alberi decisionali."
      ]
    },
    {
      "cell_type": "code",
      "execution_count": 66,
      "metadata": {
        "id": "us6Z4OmqlVjA",
        "colab": {
          "base_uri": "https://localhost:8080/",
          "height": 241
        },
        "outputId": "a5d3add0-27b3-4b22-f196-596b708c42d4"
      },
      "outputs": [
        {
          "output_type": "execute_result",
          "data": {
            "text/plain": [
              "numeric__pm_lag_1W     0.418547\n",
              "numeric__month         0.130303\n",
              "numeric__pm_lag_1Y     0.111615\n",
              "numeric__weekofyear    0.050576\n",
              "numeric__pm_lag_2Y     0.048516\n",
              "dtype: float32"
            ],
            "text/html": [
              "<div>\n",
              "<style scoped>\n",
              "    .dataframe tbody tr th:only-of-type {\n",
              "        vertical-align: middle;\n",
              "    }\n",
              "\n",
              "    .dataframe tbody tr th {\n",
              "        vertical-align: top;\n",
              "    }\n",
              "\n",
              "    .dataframe thead th {\n",
              "        text-align: right;\n",
              "    }\n",
              "</style>\n",
              "<table border=\"1\" class=\"dataframe\">\n",
              "  <thead>\n",
              "    <tr style=\"text-align: right;\">\n",
              "      <th></th>\n",
              "      <th>0</th>\n",
              "    </tr>\n",
              "  </thead>\n",
              "  <tbody>\n",
              "    <tr>\n",
              "      <th>numeric__pm_lag_1W</th>\n",
              "      <td>0.418547</td>\n",
              "    </tr>\n",
              "    <tr>\n",
              "      <th>numeric__month</th>\n",
              "      <td>0.130303</td>\n",
              "    </tr>\n",
              "    <tr>\n",
              "      <th>numeric__pm_lag_1Y</th>\n",
              "      <td>0.111615</td>\n",
              "    </tr>\n",
              "    <tr>\n",
              "      <th>numeric__weekofyear</th>\n",
              "      <td>0.050576</td>\n",
              "    </tr>\n",
              "    <tr>\n",
              "      <th>numeric__pm_lag_2Y</th>\n",
              "      <td>0.048516</td>\n",
              "    </tr>\n",
              "  </tbody>\n",
              "</table>\n",
              "</div><br><label><b>dtype:</b> float32</label>"
            ]
          },
          "metadata": {},
          "execution_count": 66
        }
      ],
      "source": [
        "pd.Series(model.named_steps[\"xgb\"].feature_importances_, preprocessor.get_feature_names_out(X_train.columns)).sort_values(ascending=False).head(5)"
      ]
    },
    {
      "cell_type": "markdown",
      "metadata": {
        "id": "uapeT7xKlVjA"
      },
      "source": [
        "### Grid Search per XGBoost\n",
        "Cerchiamo i valori ottimali di due iperparametri: la profondità massima degli alberi e il numero di alberi della foresta."
      ]
    },
    {
      "cell_type": "code",
      "execution_count": 67,
      "metadata": {
        "id": "UwAwlSAxlVjA"
      },
      "outputs": [],
      "source": [
        "grid = {\n",
        "    \"xgb__max_depth\": [3, 5, 7, 10],\n",
        "    \"xgb__n_estimators\": [100, 200, 400, 700, 1000],\n",
        "}\n",
        "gs = RandomizedSearchCV(model, grid, n_iter=20, cv=tscv, n_jobs=N_JOBS)"
      ]
    },
    {
      "cell_type": "code",
      "execution_count": 68,
      "metadata": {
        "id": "DRafW1bilVjA",
        "colab": {
          "base_uri": "https://localhost:8080/"
        },
        "outputId": "08b3580c-7e56-49bf-87a9-897a3adec248"
      },
      "outputs": [
        {
          "output_type": "stream",
          "name": "stdout",
          "text": [
            "CPU times: user 2.75 s, sys: 363 ms, total: 3.11 s\n",
            "Wall time: 4min 57s\n",
            "\n"
          ]
        }
      ],
      "source": [
        "%time gs.fit(X_train, y_train)\n",
        "print()"
      ]
    },
    {
      "cell_type": "code",
      "execution_count": 69,
      "metadata": {
        "id": "ECO1JyGKlVjB"
      },
      "outputs": [],
      "source": [
        "get_estimator_scores(\"xgboost_reg\", gs.best_estimator_)"
      ]
    },
    {
      "cell_type": "code",
      "execution_count": 70,
      "metadata": {
        "id": "8uK3_8j4lVjB"
      },
      "outputs": [],
      "source": [
        "results = pd.DataFrame(gs.cv_results_)[[\"param_xgb__max_depth\",\"param_xgb__n_estimators\",\"mean_test_score\"]]\n",
        "results_3 = results[results[\"param_xgb__max_depth\"] == 3]\n",
        "results_5 = results[results[\"param_xgb__max_depth\"] == 5]\n",
        "results_7 = results[results[\"param_xgb__max_depth\"] == 7]\n",
        "results_10 = results[results[\"param_xgb__max_depth\"] == 10]"
      ]
    },
    {
      "cell_type": "code",
      "execution_count": 71,
      "metadata": {
        "id": "DD3ex6kOlVjB",
        "colab": {
          "base_uri": "https://localhost:8080/",
          "height": 480
        },
        "outputId": "64c28153-9e3e-4cd1-a667-9d5ad759b611"
      },
      "outputs": [
        {
          "output_type": "display_data",
          "data": {
            "text/plain": [
              "<Figure size 640x480 with 1 Axes>"
            ],
            "image/png": "[encoded data removed]"
          },
          "metadata": {}
        }
      ],
      "source": [
        "plt.plot(results_3[\"param_xgb__n_estimators\"], results_3[\"mean_test_score\"])\n",
        "plt.plot(results_5[\"param_xgb__n_estimators\"], results_5[\"mean_test_score\"], c=\"red\")\n",
        "plt.plot(results_7[\"param_xgb__n_estimators\"], results_7[\"mean_test_score\"], c=\"green\")\n",
        "plt.plot(results_10[\"param_xgb__n_estimators\"], results_10[\"mean_test_score\"], c=\"gold\")\n",
        "plt.xlabel('n trees')\n",
        "plt.ylabel('score')\n",
        "plt.legend([\"max_depth=3\",\"max_depth=5\",\"max_depth=7\",\"max_depth=10\"])\n",
        "plt.title('Grafico al variare del numero del numero di alberi di XGBoost')\n",
        "plt.show()"
      ]
    },
    {
      "cell_type": "markdown",
      "source": [
        "## MLP"
      ],
      "metadata": {
        "id": "xlwH7ptOzQwq"
      }
    },
    {
      "cell_type": "code",
      "source": [
        "device = torch.device(\"cuda\" if torch.cuda.is_available() else \"cpu\")\n",
        "print(f\"Device utilizzato: {device}\")\n",
        "\n",
        "class MLP(nn.Module):\n",
        "    def __init__(self, input_dim, hidden_sizes, dropout):\n",
        "        super().__init__()\n",
        "        layers = []\n",
        "        dim = input_dim\n",
        "        for hs in hidden_sizes:\n",
        "            layers.append(nn.Linear(dim, hs))\n",
        "            layers.append(nn.ReLU())\n",
        "            layers.append(nn.Dropout(dropout))\n",
        "            dim = hs\n",
        "        layers.append(nn.Linear(dim, 1))\n",
        "        self.net = nn.Sequential(*layers)\n",
        "    def forward(self, x):\n",
        "        return self.net(x)"
      ],
      "metadata": {
        "colab": {
          "base_uri": "https://localhost:8080/"
        },
        "id": "FKVjVeNVzTPO",
        "outputId": "d113faa9-b9f7-4779-cb9b-3d0987b3e5c2"
      },
      "execution_count": 72,
      "outputs": [
        {
          "output_type": "stream",
          "name": "stdout",
          "text": [
            "Device utilizzato: cuda\n"
          ]
        }
      ]
    },
    {
      "cell_type": "markdown",
      "source": [
        "### Random Search con Early Stopping\n",
        "\n",
        "Questo blocco di codice implementa una procedura completa di **Random Search** per la selezione di iperparametri di modelli di regressione in PyTorch, integrando una strategia di **Early Stopping** per migliorare l'efficienza del training.\n",
        "\n",
        "* La classe `EarlyStopper` consente di interrompere l'addestramento anticipatamente se la loss di validazione non migliora per un numero di epoche definito (`patience`), riducendo il rischio di overfitting e velocizzando l'ottimizzazione.\n",
        "* Le funzioni `train_epoch` ed `eval_loss` gestiscono rispettivamente il training e la valutazione della loss media su un dataset.\n",
        "* La funzione principale `random_search` esegue una **Cross-Validation**, dove:\n",
        "  * Il ciclo valuta le prestazioni generali del modello su diversi split train/test."
      ],
      "metadata": {
        "id": "CcnVXcxkzVxm"
      }
    },
    {
      "cell_type": "code",
      "source": [
        "class EarlyStopper:\n",
        "    def __init__(self, patience=3, min_delta=0.0):\n",
        "        self.patience = patience\n",
        "        self.min_delta = min_delta\n",
        "        self.counter = 0\n",
        "        self.best_loss = float('inf')\n",
        "\n",
        "    def early_stop(self, val_loss):\n",
        "        # Se la loss migliora (di almeno min_delta), resettiamo il counter\n",
        "        if val_loss < self.best_loss - self.min_delta:\n",
        "            self.best_loss = val_loss\n",
        "            self.counter = 0\n",
        "        else:\n",
        "            self.counter += 1\n",
        "            # Se la loss non migliora da 'patience' epoche, dobbiamo fermarci\n",
        "            if self.counter >= self.patience:\n",
        "                return True\n",
        "        return False\n",
        "\n",
        "def train_epoch(model, loader, optimizer, criterion):\n",
        "    model.train()\n",
        "    total_loss = 0.0\n",
        "    for Xb, yb in loader:\n",
        "        Xb, yb = Xb.to(device), yb.to(device)\n",
        "        optimizer.zero_grad()\n",
        "        loss = criterion(model(Xb), yb)\n",
        "        loss.backward()\n",
        "        optimizer.step()\n",
        "        total_loss += loss.item() * Xb.size(0)\n",
        "    return total_loss / len(loader.dataset)\n",
        "\n",
        "def eval_loss(model, loader, criterion):\n",
        "    model.eval()\n",
        "    total_loss = 0.0\n",
        "    with torch.no_grad():\n",
        "        for Xb, yb in loader:\n",
        "            Xb, yb = Xb.to(device), yb.to(device)\n",
        "            total_loss += criterion(model(Xb), yb).item() * Xb.size(0)\n",
        "    return total_loss / len(loader.dataset)\n",
        "\n",
        "def random_search(model_builder, param_dist, dataset,\n",
        "                  n_iter=10, cv_folds=5,\n",
        "                  early_patience=5,\n",
        "                  early_min_delta=1e-4):\n",
        "    train_keys = ['lr', 'batch_size', 'max_epochs']\n",
        "    best_val_loss = float('inf')\n",
        "    best_model_params, best_train_params = None, None\n",
        "    best_model = None\n",
        "\n",
        "    tscv = TimeSeriesSplit(n_splits=cv_folds)\n",
        "\n",
        "    print(\"Avvio Random Search con Time Series Cross Validation...\")\n",
        "\n",
        "    for param_id, params in enumerate(ParameterSampler(param_dist, n_iter=n_iter, random_state=RANDOM_STATE)):\n",
        "        print(f\"Testing parameter set {param_id+1}/{n_iter}\")\n",
        "\n",
        "        model_params = {k: v for k, v in params.items() if k not in train_keys}\n",
        "        train_params = {k: v for k, v in params.items() if k in train_keys}\n",
        "        val_losses = []\n",
        "\n",
        "        for fold_idx, (train_idx, val_idx) in enumerate(tscv.split(range(len(dataset)))):\n",
        "            print(f\"  Fold {fold_idx+1}/{cv_folds}\")\n",
        "\n",
        "            sub_train = Subset(dataset, train_idx)\n",
        "            val_set = Subset(dataset, val_idx)\n",
        "            train_loader = DataLoader(sub_train, batch_size=train_params['batch_size'], shuffle=True)\n",
        "            val_loader = DataLoader(val_set, batch_size=train_params['batch_size'], shuffle=False)\n",
        "\n",
        "            model = model_builder(**model_params).to(device)\n",
        "            optimizer = optim.Adam(model.parameters(), lr=train_params['lr'])\n",
        "            stopper = EarlyStopper(patience=early_patience, min_delta=early_min_delta)\n",
        "\n",
        "            for epoch in range(train_params['max_epochs']):\n",
        "                train_epoch(model, train_loader, optimizer, nn.MSELoss())\n",
        "                val_loss = eval_loss(model, val_loader, nn.MSELoss())\n",
        "\n",
        "                if epoch % 10 == 0:  # Print every 10 epochs\n",
        "                    print(f\"    Epoch {epoch}: val_loss = {val_loss:.6f}\")\n",
        "\n",
        "                if stopper.early_stop(val_loss):\n",
        "                    print(f\"    Early stopping at epoch {epoch}\")\n",
        "                    break\n",
        "\n",
        "            final_val_loss = eval_loss(model, val_loader, nn.MSELoss())\n",
        "            val_losses.append(final_val_loss)\n",
        "\n",
        "        mean_val = np.mean(val_losses)\n",
        "        print(f\"  Mean validation loss: {mean_val:.6f}\")\n",
        "\n",
        "        if mean_val < best_val_loss:\n",
        "            best_val_loss = mean_val\n",
        "            best_model_params = model_params\n",
        "            best_train_params = train_params\n",
        "            best_model = model\n",
        "            print(f\"  New best validation loss: {best_val_loss:.6f}\")\n",
        "\n",
        "    print(f\"\\nBest validation loss: {best_val_loss:.6f}\")\n",
        "    return best_model, best_model_params, best_train_params"
      ],
      "metadata": {
        "id": "Iumk8NyQzZco"
      },
      "execution_count": 78,
      "outputs": []
    },
    {
      "cell_type": "markdown",
      "source": [
        "### Esecuzione del Random Search su MLP\n",
        "\n",
        "In questa sezione viene eseguita la **ricerca di iperparametri tramite Random Search** per **MLP (Multi-Layer Perceptron)**.\n",
        "\n",
        "#### Definizione degli spazi degli iperparametri:\n",
        "\n",
        "* `mlp_param_dist`: contiene combinazioni di dimensioni dei layer nascosti, tassi di dropout, learning rate, batch size e numero massimo di epoche per il training del modello MLP.\n"
      ],
      "metadata": {
        "id": "OVD5006Oza85"
      }
    },
    {
      "cell_type": "code",
      "source": [
        "X_tensor = torch.tensor(X.values, dtype=torch.float32)\n",
        "y_tensor = torch.tensor(y.values, dtype=torch.float32).unsqueeze(1)\n",
        "\n",
        "# (Training + Validation) Dataset\n",
        "full_dataset = TensorDataset(X_tensor, y_tensor)\n",
        "\n",
        "input_dim = X_tensor.shape[1]\n",
        "mlp_param_dist = {\n",
        "    'input_dim': [input_dim],\n",
        "    'hidden_sizes': [(32,32), (64,64), (128,)],\n",
        "    'dropout': [0.0, 0.2, 0.5],\n",
        "    'lr': [1e-3, 1e-4],\n",
        "    'batch_size': [32, 64],\n",
        "    'max_epochs': [50]\n",
        "}\n",
        "best_model, model_params, train_params = random_search(\n",
        "    lambda **p: MLP(**p), mlp_param_dist, full_dataset\n",
        ")\n",
        "\n",
        "X_train_tensor = torch.stack([full_dataset[i][0] for i in range(len(full_dataset))])\n",
        "y_train_tensor = torch.stack([full_dataset[i][1] for i in range(len(full_dataset))])\n",
        "X_test_tensor = torch.tensor(X_test.values, dtype=torch.float32).to(device)\n",
        "y_test_tensor = torch.tensor(y_test.values, dtype=torch.float32).unsqueeze(1).to(device)\n",
        "\n",
        "get_torch_estimator_scores(\"MLP\", best_model,\n",
        "                           X_train_tensor.to(device), y_train_tensor.to(device),\n",
        "                           X_test_tensor, y_test_tensor,\n",
        "                           device)"
      ],
      "metadata": {
        "colab": {
          "base_uri": "https://localhost:8080/"
        },
        "id": "lHuw7xi2zemy",
        "outputId": "fd1849b5-9d3b-4440-adb2-68953d3c2c65"
      },
      "execution_count": 79,
      "outputs": [
        {
          "output_type": "stream",
          "name": "stdout",
          "text": [
            "Avvio Random Search con Time Series Cross Validation...\n",
            "Testing parameter set 1/10\n",
            "  Fold 1/5\n",
            "    Epoch 0: val_loss = 2114.856022\n",
            "    Epoch 10: val_loss = 1601.214123\n",
            "    Epoch 20: val_loss = 1456.820547\n",
            "    Epoch 30: val_loss = 1400.332707\n",
            "    Epoch 40: val_loss = 1323.468695\n",
            "    Early stopping at epoch 45\n",
            "  Fold 2/5\n",
            "    Epoch 0: val_loss = 2601.610091\n",
            "    Epoch 10: val_loss = 1077.142362\n",
            "    Epoch 20: val_loss = 867.462952\n",
            "    Early stopping at epoch 29\n",
            "  Fold 3/5\n",
            "    Epoch 0: val_loss = 996.148921\n",
            "    Epoch 10: val_loss = 344.961065\n",
            "    Epoch 20: val_loss = 334.456390\n",
            "    Epoch 30: val_loss = 319.720234\n",
            "    Epoch 40: val_loss = 308.147153\n",
            "  Fold 4/5\n",
            "    Epoch 0: val_loss = 1617.910217\n",
            "    Epoch 10: val_loss = 638.659396\n",
            "    Epoch 20: val_loss = 574.843927\n",
            "    Epoch 30: val_loss = 555.954905\n",
            "    Early stopping at epoch 32\n",
            "  Fold 5/5\n",
            "    Epoch 0: val_loss = 667.291412\n",
            "    Epoch 10: val_loss = 395.502041\n",
            "    Epoch 20: val_loss = 376.428489\n",
            "    Early stopping at epoch 27\n",
            "  Mean validation loss: 673.976952\n",
            "  New best validation loss: 673.976952\n",
            "Testing parameter set 2/10\n",
            "  Fold 1/5\n",
            "    Epoch 0: val_loss = 3227.866231\n",
            "    Early stopping at epoch 8\n",
            "  Fold 2/5\n",
            "    Epoch 0: val_loss = 2951.788923\n",
            "    Epoch 10: val_loss = 1527.647364\n",
            "    Epoch 20: val_loss = 1248.860461\n",
            "    Early stopping at epoch 28\n",
            "  Fold 3/5\n",
            "    Epoch 0: val_loss = 739.169715\n",
            "    Epoch 10: val_loss = 559.557872\n",
            "    Epoch 20: val_loss = 519.864004\n",
            "    Early stopping at epoch 21\n",
            "  Fold 4/5\n",
            "    Epoch 0: val_loss = 1838.902076\n",
            "    Epoch 10: val_loss = 1000.780806\n",
            "    Epoch 20: val_loss = 979.389646\n",
            "    Early stopping at epoch 23\n",
            "  Fold 5/5\n",
            "    Epoch 0: val_loss = 1400.946258\n",
            "    Epoch 10: val_loss = 569.068724\n",
            "    Early stopping at epoch 16\n",
            "  Mean validation loss: 1257.905954\n",
            "Testing parameter set 3/10\n",
            "  Fold 1/5\n",
            "    Epoch 0: val_loss = 1825.123123\n",
            "    Epoch 10: val_loss = 1788.982401\n",
            "    Early stopping at epoch 11\n",
            "  Fold 2/5\n",
            "    Epoch 0: val_loss = 1004.084993\n",
            "    Epoch 10: val_loss = 794.056996\n",
            "    Early stopping at epoch 10\n",
            "  Fold 3/5\n",
            "    Epoch 0: val_loss = 568.688744\n",
            "    Epoch 10: val_loss = 402.739060\n",
            "    Early stopping at epoch 17\n",
            "  Fold 4/5\n",
            "    Epoch 0: val_loss = 754.077291\n",
            "    Epoch 10: val_loss = 672.251092\n",
            "    Early stopping at epoch 13\n",
            "  Fold 5/5\n",
            "    Epoch 0: val_loss = 466.445412\n",
            "    Epoch 10: val_loss = 424.766333\n",
            "    Early stopping at epoch 11\n",
            "  Mean validation loss: 766.888712\n",
            "Testing parameter set 4/10\n",
            "  Fold 1/5\n",
            "    Epoch 0: val_loss = 3844.794358\n",
            "    Epoch 10: val_loss = 2288.766130\n",
            "    Epoch 20: val_loss = 2239.406676\n",
            "    Early stopping at epoch 23\n",
            "  Fold 2/5\n",
            "    Epoch 0: val_loss = 3007.278086\n",
            "    Early stopping at epoch 9\n",
            "  Fold 3/5\n",
            "    Epoch 0: val_loss = 608.407003\n",
            "    Epoch 10: val_loss = 500.232745\n",
            "    Early stopping at epoch 10\n",
            "  Fold 4/5\n",
            "    Epoch 0: val_loss = 1967.901968\n",
            "    Epoch 10: val_loss = 1179.373387\n",
            "    Early stopping at epoch 16\n",
            "  Fold 5/5\n",
            "    Epoch 0: val_loss = 1213.953159\n",
            "    Early stopping at epoch 7\n",
            "  Mean validation loss: 1289.979221\n",
            "Testing parameter set 5/10\n",
            "  Fold 1/5\n",
            "    Epoch 0: val_loss = 1618.801278\n",
            "    Epoch 10: val_loss = 1400.353674\n",
            "    Early stopping at epoch 18\n",
            "  Fold 2/5\n",
            "    Epoch 0: val_loss = 924.897050\n",
            "    Epoch 10: val_loss = 768.852592\n",
            "    Epoch 20: val_loss = 726.156866\n",
            "    Early stopping at epoch 26\n",
            "  Fold 3/5\n",
            "    Epoch 0: val_loss = 357.051722\n",
            "    Epoch 10: val_loss = 299.928652\n",
            "    Epoch 20: val_loss = 298.489142\n",
            "    Early stopping at epoch 22\n",
            "  Fold 4/5\n",
            "    Epoch 0: val_loss = 566.986815\n",
            "    Epoch 10: val_loss = 564.185491\n",
            "    Early stopping at epoch 10\n",
            "  Fold 5/5\n",
            "    Epoch 0: val_loss = 404.334855\n",
            "    Epoch 10: val_loss = 387.983162\n",
            "    Early stopping at epoch 12\n",
            "  Mean validation loss: 669.355744\n",
            "  New best validation loss: 669.355744\n",
            "Testing parameter set 6/10\n",
            "  Fold 1/5\n",
            "    Epoch 0: val_loss = 5079.890825\n",
            "    Epoch 10: val_loss = 3395.639264\n",
            "    Early stopping at epoch 16\n",
            "  Fold 2/5\n",
            "    Epoch 0: val_loss = 3195.837679\n",
            "    Epoch 10: val_loss = 2698.942027\n",
            "    Epoch 20: val_loss = 2425.766404\n",
            "    Epoch 30: val_loss = 2025.189892\n",
            "    Epoch 40: val_loss = 1820.722048\n",
            "  Fold 3/5\n",
            "    Epoch 0: val_loss = 739.088978\n",
            "    Epoch 10: val_loss = 582.499272\n",
            "    Epoch 20: val_loss = 554.267020\n",
            "    Epoch 30: val_loss = 497.770425\n",
            "    Early stopping at epoch 33\n",
            "  Fold 4/5\n",
            "    Epoch 0: val_loss = 1732.929408\n",
            "    Early stopping at epoch 5\n",
            "  Fold 5/5\n",
            "    Epoch 0: val_loss = 1393.411396\n",
            "    Epoch 10: val_loss = 813.947744\n",
            "    Epoch 20: val_loss = 673.123972\n",
            "    Epoch 30: val_loss = 651.810615\n",
            "    Early stopping at epoch 34\n",
            "  Mean validation loss: 1728.516204\n",
            "Testing parameter set 7/10\n",
            "  Fold 1/5\n",
            "    Epoch 0: val_loss = 2430.662823\n",
            "    Epoch 10: val_loss = 1614.872099\n",
            "    Epoch 20: val_loss = 1136.536639\n",
            "    Epoch 30: val_loss = 1085.459644\n",
            "    Epoch 40: val_loss = 1073.876197\n",
            "  Fold 2/5\n",
            "    Epoch 0: val_loss = 2179.550306\n",
            "    Epoch 10: val_loss = 701.294508\n",
            "    Early stopping at epoch 14\n",
            "  Fold 3/5\n",
            "    Epoch 0: val_loss = 994.157210\n",
            "    Epoch 10: val_loss = 315.193012\n",
            "    Epoch 20: val_loss = 310.381344\n",
            "    Epoch 30: val_loss = 295.719309\n",
            "    Early stopping at epoch 30\n",
            "  Fold 4/5\n",
            "    Epoch 0: val_loss = 1180.932160\n",
            "    Epoch 10: val_loss = 556.574447\n",
            "    Early stopping at epoch 17\n",
            "  Fold 5/5\n",
            "    Epoch 0: val_loss = 533.417988\n",
            "    Epoch 10: val_loss = 363.437673\n",
            "    Early stopping at epoch 11\n",
            "  Mean validation loss: 598.705630\n",
            "  New best validation loss: 598.705630\n",
            "Testing parameter set 8/10\n",
            "  Fold 1/5\n",
            "    Epoch 0: val_loss = 3018.835638\n",
            "    Epoch 10: val_loss = 1990.460426\n",
            "    Early stopping at epoch 19\n",
            "  Fold 2/5\n",
            "    Epoch 0: val_loss = 2158.288363\n",
            "    Early stopping at epoch 8\n",
            "  Fold 3/5\n",
            "    Epoch 0: val_loss = 662.347514\n",
            "    Epoch 10: val_loss = 616.286331\n",
            "    Early stopping at epoch 10\n",
            "  Fold 4/5\n",
            "    Epoch 0: val_loss = 1249.554669\n",
            "    Early stopping at epoch 9\n",
            "  Fold 5/5\n",
            "    Epoch 0: val_loss = 572.450988\n",
            "    Early stopping at epoch 6\n",
            "  Mean validation loss: 1079.280451\n",
            "Testing parameter set 9/10\n",
            "  Fold 1/5\n",
            "    Epoch 0: val_loss = 2288.341190\n",
            "    Epoch 10: val_loss = 1412.933503\n",
            "    Early stopping at epoch 19\n",
            "  Fold 2/5\n",
            "    Epoch 0: val_loss = 903.601387\n",
            "    Epoch 10: val_loss = 824.653060\n",
            "    Early stopping at epoch 10\n",
            "  Fold 3/5\n",
            "    Epoch 0: val_loss = 337.238881\n",
            "    Early stopping at epoch 5\n",
            "  Fold 4/5\n",
            "    Epoch 0: val_loss = 607.920438\n",
            "    Early stopping at epoch 8\n",
            "  Fold 5/5\n",
            "    Epoch 0: val_loss = 371.576080\n",
            "    Early stopping at epoch 5\n",
            "  Mean validation loss: 713.905977\n",
            "Testing parameter set 10/10\n",
            "  Fold 1/5\n",
            "    Epoch 0: val_loss = 2122.318481\n",
            "    Epoch 10: val_loss = 1531.675131\n",
            "    Epoch 20: val_loss = 1396.711021\n",
            "    Epoch 30: val_loss = 1316.104096\n",
            "    Early stopping at epoch 38\n",
            "  Fold 2/5\n",
            "    Epoch 0: val_loss = 2127.390905\n",
            "    Epoch 10: val_loss = 860.109073\n",
            "    Epoch 20: val_loss = 774.544549\n",
            "    Epoch 30: val_loss = 746.040127\n",
            "    Early stopping at epoch 33\n",
            "  Fold 3/5\n",
            "    Epoch 0: val_loss = 756.657502\n",
            "    Epoch 10: val_loss = 322.445128\n",
            "    Early stopping at epoch 18\n",
            "  Fold 4/5\n",
            "    Epoch 0: val_loss = 868.686734\n",
            "    Epoch 10: val_loss = 579.199663\n",
            "    Epoch 20: val_loss = 591.937529\n",
            "    Early stopping at epoch 24\n",
            "  Fold 5/5\n",
            "    Epoch 0: val_loss = 738.071930\n",
            "    Epoch 10: val_loss = 388.286210\n",
            "    Epoch 20: val_loss = 377.934318\n",
            "    Epoch 30: val_loss = 377.693546\n",
            "    Epoch 40: val_loss = 376.507271\n",
            "    Early stopping at epoch 44\n",
            "  Mean validation loss: 672.900494\n",
            "\n",
            "Best validation loss: 598.705630\n"
          ]
        }
      ]
    },
    {
      "cell_type": "markdown",
      "metadata": {
        "id": "5uIugxCaMC9R"
      },
      "source": [
        "## Confronto Visivo delle Prestazioni dei Modelli\n",
        "\n",
        "La funzione `plot_estimator_scores(scores)` consente di visualizzare in modo sintetico ed intuitivo le metriche di valutazione di tutti i modelli allenati. I grafici generati permettono un confronto diretto tra le prestazioni su diverse metriche chiave:\n",
        "\n",
        "- **R² Score**: confronta le prestazioni sul training set e sul test set per identificare possibili fenomeni di overfitting.\n",
        "- **RMSE (Root Mean Squared Error)**: evidenzia la variabilità degli errori di previsione, penalizzando fortemente gli outlier.\n",
        "- **MAE (Mean Absolute Error)**: mostra la media dell’errore assoluto commesso da ciascun modello.\n",
        "- **MAPE (Mean Absolute Percentage Error)**: fornisce un’indicazione dell’errore medio in termini percentuali rispetto ai valori reali.\n",
        "- **MSLE (Mean Squared Logarithmic Error)**: utile nei casi in cui gli errori relativi siano più importanti degli assoluti, o in presenza di target con ordini di grandezza diversi.\n",
        "- **Explained Variance Score**: indica la proporzione della varianza spiegata dal modello (simile a $R^2$).\n",
        "- **Max Error**: evidenzia il peggior errore assoluto commesso su un'osservazione.\n",
        "- **Intervalli di Confidenza (CI95%)**: per le metriche `RMSE`, `MAE` e `MAPE` viene stimato un intervallo di confidenza al 95% tramite bootstrap resampling, al fine di rappresentare l'incertezza statistica associata alla metrica.\n",
        "\n",
        "Questa visualizzazione finale è utile per trarre conclusioni sulla bontà predittiva di ciascun modello e guidare la scelta del miglior approccio da adottare.\n"
      ]
    },
    {
      "cell_type": "code",
      "execution_count": 80,
      "metadata": {
        "execution": {
          "iopub.execute_input": "2024-04-29T20:38:15.404812Z",
          "iopub.status.busy": "2024-04-29T20:38:15.403803Z",
          "iopub.status.idle": "2024-04-29T20:38:15.421022Z",
          "shell.execute_reply": "2024-04-29T20:38:15.419432Z",
          "shell.execute_reply.started": "2024-04-29T20:38:15.404772Z"
        },
        "id": "5vxh_8pW9qkC"
      },
      "outputs": [],
      "source": [
        "def plot_estimator_scores(scores):\n",
        "    melted_r2 = scores[['model', 'r2_train', 'r2_test']]\n",
        "    melted_r2 = melted_r2.rename(columns={'r2_train':'train','r2_test':'test'})\n",
        "    melted_r2 = melted_r2.melt(id_vars='model', var_name='set', value_name='score')\n",
        "\n",
        "    fig, axs = plt.subplots(3, 3, figsize=(18, 14))\n",
        "    fig.tight_layout(pad=4)\n",
        "\n",
        "    sns.barplot(data=melted_r2, x='score', y='model', hue='set', ax=axs[0,0])\n",
        "    axs[0,0].set_title('R2 Score')\n",
        "    axs[0,0].legend(loc='lower right')\n",
        "\n",
        "    axs[0,1].set_title('RMSE ± CI95%')\n",
        "    for _, row in scores.iterrows():\n",
        "        axs[0,1].barh(row['model'], row['rmse'],\n",
        "                      xerr=[[row['rmse']-row['rmse_low']], [row['rmse_high']-row['rmse']]], capsize=5)\n",
        "\n",
        "    axs[0,2].set_title('MAE ± CI95%')\n",
        "    for _, row in scores.iterrows():\n",
        "        axs[0,2].barh(row['model'], row['mae'],\n",
        "                      xerr=[[row['mae']-row['mae_low']], [row['mae_high']-row['mae']]], capsize=5)\n",
        "\n",
        "    axs[1,0].set_title('MAPE ± CI95%')\n",
        "    for _, row in scores.iterrows():\n",
        "        axs[1,0].barh(row['model'], row['mape'],\n",
        "                      xerr=[[row['mape']-row['mape_low']], [row['mape_high']-row['mape']]], capsize=5)\n",
        "\n",
        "    axs[1,1].set_title('MSLE')\n",
        "    for _, row in scores.iterrows():\n",
        "        axs[1,1].barh(row['model'], row['msle'])\n",
        "\n",
        "    axs[1,2].set_title('Explained Variance')\n",
        "    for _, row in scores.iterrows():\n",
        "        axs[1,2].barh(row['model'], row['explained_var'])\n",
        "    axs[1,2].set_xlim(0,1)\n",
        "\n",
        "    axs[2,0].set_title('Max Error')\n",
        "    for _, row in scores.iterrows():\n",
        "        axs[2,0].barh(row['model'], row['max_error'])\n",
        "\n",
        "    axs[2,1].axis('off')\n",
        "    axs[2,2].axis('off')\n",
        "\n",
        "    plt.show()"
      ]
    },
    {
      "cell_type": "code",
      "execution_count": 81,
      "metadata": {
        "execution": {
          "iopub.execute_input": "2024-04-29T20:38:15.424047Z",
          "iopub.status.busy": "2024-04-29T20:38:15.422783Z",
          "iopub.status.idle": "2024-04-29T20:38:17.073862Z",
          "shell.execute_reply": "2024-04-29T20:38:17.072755Z",
          "shell.execute_reply.started": "2024-04-29T20:38:15.424005Z"
        },
        "id": "RTHU3LQ49qkD",
        "colab": {
          "base_uri": "https://localhost:8080/",
          "height": 947
        },
        "outputId": "e7a7c2af-6f15-4ba3-c2f6-7995d980ecd9"
      },
      "outputs": [
        {
          "output_type": "display_data",
          "data": {
            "text/plain": [
              "<Figure size 1800x1400 with 9 Axes>"
            ],
            "image/png": "[encoded data removed]"
          },
          "metadata": {}
        }
      ],
      "source": [
        "estimator_scores_df = pd.DataFrame(\n",
        "    all_scores,\n",
        "    columns = [\n",
        "        'model','r2_train','r2_test',\n",
        "        'rmse','rmse_low','rmse_high',\n",
        "        'mae','mae_low','mae_high',\n",
        "        'mape','mape_low','mape_high',\n",
        "        'msle','explained_var','max_error'\n",
        "    ]\n",
        ")\n",
        "plot_estimator_scores(estimator_scores_df)"
      ]
    }
  ],
  "metadata": {
    "colab": {
      "collapsed_sections": [
        "vnXzcSTc2Z4u",
        "H_bIhHTRKAzQ",
        "xOMRnqcslVir",
        "YP2p8Z1ClVit",
        "tCa0HV05lVix",
        "CBNwKTBslViy",
        "Mcl2wO-FlVi0",
        "7CqjLtbdlVi0",
        "aXwTWsC2lVi3",
        "OSqJT3J-lVi4",
        "VFj50pJolVi4",
        "EOaI0YJZlVi4",
        "p4RNo3BclVi5",
        "bcj4BGSPlVi6",
        "sELWDyRclVi6",
        "rfO7GcablVi7",
        "sM7vW1UglVi8",
        "fY3JUaW7lVi9",
        "7xPxYN70lVi_",
        "uapeT7xKlVjA",
        "5uIugxCaMC9R"
      ],
      "provenance": [],
      "gpuType": "T4"
    },
    "kernelspec": {
      "display_name": "Python 3",
      "name": "python3"
    },
    "language_info": {
      "codemirror_mode": {
        "name": "ipython",
        "version": 3
      },
      "file_extension": ".py",
      "mimetype": "text/x-python",
      "name": "python",
      "nbconvert_exporter": "python",
      "pygments_lexer": "ipython3",
      "version": "3.12.7"
    },
    "accelerator": "GPU"
  },
  "nbformat": 4,
  "nbformat_minor": 0
}