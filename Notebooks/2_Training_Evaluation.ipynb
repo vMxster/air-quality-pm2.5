{
  "cells": [
    {
      "cell_type": "markdown",
      "metadata": {
        "id": "mvVxxvpq2pGF"
      },
      "source": [
        "# Previsione della Qualità dell'Aria - **Allenamento e Valutazione dei Modelli**"
      ]
    },
    {
      "cell_type": "markdown",
      "metadata": {
        "id": "gm3Q39LW2Z4t"
      },
      "source": [
        "**Progetto di Data Intensive**  \n",
        "**Autore:** Martin Tomassi, Jacopo Vasi  \n",
        "**Email:** martin.tomassi@studio.unibo.it , jacopo.vasi@studio.unibo.it  \n",
        "**Corso:** Data Intensive, Università di Bologna  \n",
        "**Data:** Aprile 2025"
      ]
    },
    {
      "cell_type": "markdown",
      "metadata": {
        "id": "vnXzcSTc2Z4u"
      },
      "source": [
        "## Caricamento dei Datasets ed Import Librerie\n",
        "\n"
      ]
    },
    {
      "cell_type": "code",
      "execution_count": null,
      "metadata": {
        "id": "Ts2wiQjcg4BV",
        "outputId": "b10495b5-7e5b-4cc6-e358-5aa2ad812be7"
      },
      "outputs": [
        {
          "name": "stdout",
          "output_type": "stream",
          "text": [
            "Requirement already satisfied: xgboost in c:\\users\\jacop\\anaconda3\\lib\\site-packages (3.0.1)\n",
            "Requirement already satisfied: numpy in c:\\users\\jacop\\anaconda3\\lib\\site-packages (from xgboost) (1.26.4)\n",
            "Requirement already satisfied: scipy in c:\\users\\jacop\\anaconda3\\lib\\site-packages (from xgboost) (1.13.1)\n",
            "Note: you may need to restart the kernel to use updated packages.\n",
            "Running locally in Jupyter\n",
            "\n",
            "Estratti:\n",
            "\n",
            "datasets/india\\AP001.csv\n",
            "datasets/india\\AP002.csv\n",
            "datasets/india\\AP003.csv\n",
            "datasets/india\\AP004.csv\n",
            "datasets/india\\AP005.csv\n",
            "datasets/india\\AP006.csv\n",
            "datasets/india\\AP007.csv\n",
            "datasets/india\\AP008.csv\n",
            "datasets/india\\AP009.csv\n",
            "datasets/india\\AP010.csv\n",
            "datasets/india\\AR001.csv\n",
            "datasets/india\\AS001.csv\n",
            "datasets/india\\AS002.csv\n",
            "datasets/india\\AS003.csv\n",
            "datasets/india\\AS004.csv\n",
            "datasets/india\\AS005.csv\n",
            "datasets/india\\AS006.csv\n",
            "datasets/india\\AS007.csv\n",
            "datasets/india\\AS008.csv\n",
            "datasets/india\\AS009.csv\n",
            "datasets/india\\BR001.csv\n",
            "datasets/india\\BR002.csv\n",
            "datasets/india\\BR003.csv\n",
            "datasets/india\\BR004.csv\n",
            "datasets/india\\BR005.csv\n",
            "datasets/india\\BR006.csv\n",
            "datasets/india\\BR007.csv\n",
            "datasets/india\\BR008.csv\n",
            "datasets/india\\BR009.csv\n",
            "datasets/india\\BR010.csv\n",
            "datasets/india\\BR011.csv\n",
            "datasets/india\\BR012.csv\n",
            "datasets/india\\BR013.csv\n",
            "datasets/india\\BR014.csv\n",
            "datasets/india\\BR015.csv\n",
            "datasets/india\\BR016.csv\n",
            "datasets/india\\BR017.csv\n",
            "datasets/india\\BR018.csv\n",
            "datasets/india\\BR019.csv\n",
            "datasets/india\\BR020.csv\n",
            "datasets/india\\BR021.csv\n",
            "datasets/india\\BR022.csv\n",
            "datasets/india\\BR023.csv\n",
            "datasets/india\\BR024.csv\n",
            "datasets/india\\BR025.csv\n",
            "datasets/india\\BR026.csv\n",
            "datasets/india\\BR027.csv\n",
            "datasets/india\\BR028.csv\n",
            "datasets/india\\BR029.csv\n",
            "datasets/india\\BR030.csv\n",
            "datasets/india\\BR031.csv\n",
            "datasets/india\\BR032.csv\n",
            "datasets/india\\BR033.csv\n",
            "datasets/india\\BR034.csv\n",
            "datasets/india\\BR035.csv\n",
            "datasets/india\\CG001.csv\n",
            "datasets/india\\CG002.csv\n",
            "datasets/india\\CG003.csv\n",
            "datasets/india\\CG004.csv\n",
            "datasets/india\\CG005.csv\n",
            "datasets/india\\CG006.csv\n",
            "datasets/india\\CG007.csv\n",
            "datasets/india\\CG008.csv\n",
            "datasets/india\\CG009.csv\n",
            "datasets/india\\CG010.csv\n",
            "datasets/india\\CG011.csv\n",
            "datasets/india\\CG012.csv\n",
            "datasets/india\\CG013.csv\n",
            "datasets/india\\CG014.csv\n",
            "datasets/india\\CH001.csv\n",
            "datasets/india\\CH002.csv\n",
            "datasets/india\\CH003.csv\n",
            "datasets/india\\DL001.csv\n",
            "datasets/india\\DL002.csv\n",
            "datasets/india\\DL003.csv\n",
            "datasets/india\\DL004.csv\n",
            "datasets/india\\DL005.csv\n",
            "datasets/india\\DL006.csv\n",
            "datasets/india\\DL007.csv\n",
            "datasets/india\\DL008.csv\n",
            "datasets/india\\DL009.csv\n",
            "datasets/india\\DL010.csv\n",
            "datasets/india\\DL011.csv\n",
            "datasets/india\\DL012.csv\n",
            "datasets/india\\DL013.csv\n",
            "datasets/india\\DL014.csv\n",
            "datasets/india\\DL015.csv\n",
            "datasets/india\\DL016.csv\n",
            "datasets/india\\DL017.csv\n",
            "datasets/india\\DL018.csv\n",
            "datasets/india\\DL019.csv\n",
            "datasets/india\\DL020.csv\n",
            "datasets/india\\DL021.csv\n",
            "datasets/india\\DL022.csv\n",
            "datasets/india\\DL023.csv\n",
            "datasets/india\\DL024.csv\n",
            "datasets/india\\DL025.csv\n",
            "datasets/india\\DL026.csv\n",
            "datasets/india\\DL027.csv\n",
            "datasets/india\\DL028.csv\n",
            "datasets/india\\DL029.csv\n",
            "datasets/india\\DL030.csv\n",
            "datasets/india\\DL031.csv\n",
            "datasets/india\\DL032.csv\n",
            "datasets/india\\DL033.csv\n",
            "datasets/india\\DL034.csv\n",
            "datasets/india\\DL035.csv\n",
            "datasets/india\\DL036.csv\n",
            "datasets/india\\DL037.csv\n",
            "datasets/india\\DL038.csv\n",
            "datasets/india\\DL039.csv\n",
            "datasets/india\\DL040.csv\n",
            "datasets/india\\GJ001.csv\n",
            "datasets/india\\GJ002.csv\n",
            "datasets/india\\GJ003.csv\n",
            "datasets/india\\GJ004.csv\n",
            "datasets/india\\GJ005.csv\n",
            "datasets/india\\GJ006.csv\n",
            "datasets/india\\GJ007.csv\n",
            "datasets/india\\GJ008.csv\n",
            "datasets/india\\GJ009.csv\n",
            "datasets/india\\GJ010.csv\n",
            "datasets/india\\GJ011.csv\n",
            "datasets/india\\GJ012.csv\n",
            "datasets/india\\GJ013.csv\n",
            "datasets/india\\GJ014.csv\n",
            "datasets/india\\GJ015.csv\n",
            "datasets/india\\GJ016.csv\n",
            "datasets/india\\GJ017.csv\n",
            "datasets/india\\HP001.csv\n",
            "datasets/india\\HR001.csv\n",
            "datasets/india\\HR002.csv\n",
            "datasets/india\\HR003.csv\n",
            "datasets/india\\HR004.csv\n",
            "datasets/india\\HR005.csv\n",
            "datasets/india\\HR006.csv\n",
            "datasets/india\\HR007.csv\n",
            "datasets/india\\HR008.csv\n",
            "datasets/india\\HR009.csv\n",
            "datasets/india\\HR010.csv\n",
            "datasets/india\\HR011.csv\n",
            "datasets/india\\HR012.csv\n",
            "datasets/india\\HR013.csv\n",
            "datasets/india\\HR014.csv\n",
            "datasets/india\\HR015.csv\n",
            "datasets/india\\HR016.csv\n",
            "datasets/india\\HR017.csv\n",
            "datasets/india\\HR018.csv\n",
            "datasets/india\\HR019.csv\n",
            "datasets/india\\HR020.csv\n",
            "datasets/india\\HR021.csv\n",
            "datasets/india\\HR022.csv\n",
            "datasets/india\\HR023.csv\n",
            "datasets/india\\HR024.csv\n",
            "datasets/india\\HR025.csv\n",
            "datasets/india\\HR026.csv\n",
            "datasets/india\\HR027.csv\n",
            "datasets/india\\HR028.csv\n",
            "datasets/india\\HR029.csv\n",
            "datasets/india\\HR030.csv\n",
            "datasets/india\\JH001.csv\n",
            "datasets/india\\JH002.csv\n",
            "datasets/india\\JK001.csv\n",
            "datasets/india\\KA001.csv\n",
            "datasets/india\\KA002.csv\n",
            "datasets/india\\KA003.csv\n",
            "datasets/india\\KA004.csv\n",
            "datasets/india\\KA005.csv\n",
            "datasets/india\\KA006.csv\n",
            "datasets/india\\KA007.csv\n",
            "datasets/india\\KA008.csv\n",
            "datasets/india\\KA009.csv\n",
            "datasets/india\\KA010.csv\n",
            "datasets/india\\KA011.csv\n",
            "datasets/india\\KA012.csv\n",
            "datasets/india\\KA013.csv\n",
            "datasets/india\\KA014.csv\n",
            "datasets/india\\KA015.csv\n",
            "datasets/india\\KA016.csv\n",
            "datasets/india\\KA017.csv\n",
            "datasets/india\\KA018.csv\n",
            "datasets/india\\KA019.csv\n",
            "datasets/india\\KA020.csv\n",
            "datasets/india\\KA021.csv\n",
            "datasets/india\\KA022.csv\n",
            "datasets/india\\KA023.csv\n",
            "datasets/india\\KA024.csv\n",
            "datasets/india\\KA025.csv\n",
            "datasets/india\\KA026.csv\n",
            "datasets/india\\KA027.csv\n",
            "datasets/india\\KA028.csv\n",
            "datasets/india\\KA029.csv\n",
            "datasets/india\\KA030.csv\n",
            "datasets/india\\KA031.csv\n",
            "datasets/india\\KA032.csv\n",
            "datasets/india\\KA033.csv\n",
            "datasets/india\\KA034.csv\n",
            "datasets/india\\KA035.csv\n",
            "datasets/india\\KA036.csv\n",
            "datasets/india\\KA037.csv\n",
            "datasets/india\\KA038.csv\n",
            "datasets/india\\KA039.csv\n",
            "datasets/india\\KL001.csv\n",
            "datasets/india\\KL002.csv\n",
            "datasets/india\\KL003.csv\n",
            "datasets/india\\KL004.csv\n",
            "datasets/india\\KL005.csv\n",
            "datasets/india\\KL006.csv\n",
            "datasets/india\\KL007.csv\n",
            "datasets/india\\KL008.csv\n",
            "datasets/india\\KL009.csv\n",
            "datasets/india\\MH001.csv\n",
            "datasets/india\\MH002.csv\n",
            "datasets/india\\MH003.csv\n",
            "datasets/india\\MH004.csv\n",
            "datasets/india\\MH005.csv\n",
            "datasets/india\\MH006.csv\n",
            "datasets/india\\MH007.csv\n",
            "datasets/india\\MH008.csv\n",
            "datasets/india\\MH009.csv\n",
            "datasets/india\\MH010.csv\n",
            "datasets/india\\MH011.csv\n",
            "datasets/india\\MH012.csv\n",
            "datasets/india\\MH013.csv\n",
            "datasets/india\\MH014.csv\n",
            "datasets/india\\MH015.csv\n",
            "datasets/india\\MH016.csv\n",
            "datasets/india\\MH017.csv\n",
            "datasets/india\\MH018.csv\n",
            "datasets/india\\MH019.csv\n",
            "datasets/india\\MH020.csv\n",
            "datasets/india\\MH021.csv\n",
            "datasets/india\\MH022.csv\n",
            "datasets/india\\MH023.csv\n",
            "datasets/india\\MH024.csv\n",
            "datasets/india\\MH025.csv\n",
            "datasets/india\\MH026.csv\n",
            "datasets/india\\MH027.csv\n",
            "datasets/india\\MH028.csv\n",
            "datasets/india\\MH029.csv\n",
            "datasets/india\\MH030.csv\n",
            "datasets/india\\MH031.csv\n",
            "datasets/india\\MH032.csv\n",
            "datasets/india\\MH033.csv\n",
            "datasets/india\\MH034.csv\n",
            "datasets/india\\MH035.csv\n",
            "datasets/india\\MH036.csv\n",
            "datasets/india\\MH037.csv\n",
            "datasets/india\\MH038.csv\n",
            "datasets/india\\MH039.csv\n",
            "datasets/india\\MH040.csv\n",
            "datasets/india\\MH041.csv\n",
            "datasets/india\\ML001.csv\n",
            "datasets/india\\ML002.csv\n",
            "datasets/india\\MN001.csv\n",
            "datasets/india\\MN002.csv\n",
            "datasets/india\\MP001.csv\n",
            "datasets/india\\MP002.csv\n",
            "datasets/india\\MP003.csv\n",
            "datasets/india\\MP004.csv\n",
            "datasets/india\\MP005.csv\n",
            "datasets/india\\MP006.csv\n",
            "datasets/india\\MP007.csv\n",
            "datasets/india\\MP008.csv\n",
            "datasets/india\\MP009.csv\n",
            "datasets/india\\MP010.csv\n",
            "datasets/india\\MP011.csv\n",
            "datasets/india\\MP012.csv\n",
            "datasets/india\\MP013.csv\n",
            "datasets/india\\MP014.csv\n",
            "datasets/india\\MP015.csv\n",
            "datasets/india\\MP016.csv\n",
            "datasets/india\\MP017.csv\n",
            "datasets/india\\MP018.csv\n",
            "datasets/india\\MP019.csv\n",
            "datasets/india\\MP020.csv\n",
            "datasets/india\\MP021.csv\n",
            "datasets/india\\MP022.csv\n",
            "datasets/india\\MZ001.csv\n",
            "datasets/india\\NL001.csv\n",
            "datasets/india\\OR001.csv\n",
            "datasets/india\\OR002.csv\n",
            "datasets/india\\OR003.csv\n",
            "datasets/india\\OR004.csv\n",
            "datasets/india\\OR005.csv\n",
            "datasets/india\\OR006.csv\n",
            "datasets/india\\OR007.csv\n",
            "datasets/india\\OR008.csv\n",
            "datasets/india\\OR009.csv\n",
            "datasets/india\\OR010.csv\n",
            "datasets/india\\OR011.csv\n",
            "datasets/india\\OR012.csv\n",
            "datasets/india\\PB001.csv\n",
            "datasets/india\\PB002.csv\n",
            "datasets/india\\PB003.csv\n",
            "datasets/india\\PB004.csv\n",
            "datasets/india\\PB005.csv\n",
            "datasets/india\\PB006.csv\n",
            "datasets/india\\PB007.csv\n",
            "datasets/india\\PB008.csv\n",
            "datasets/india\\PY001.csv\n",
            "datasets/india\\RJ001.csv\n",
            "datasets/india\\RJ002.csv\n",
            "datasets/india\\RJ003.csv\n",
            "datasets/india\\RJ004.csv\n",
            "datasets/india\\RJ005.csv\n",
            "datasets/india\\RJ006.csv\n",
            "datasets/india\\RJ007.csv\n",
            "datasets/india\\RJ008.csv\n",
            "datasets/india\\RJ009.csv\n",
            "datasets/india\\RJ010.csv\n",
            "datasets/india\\RJ011.csv\n",
            "datasets/india\\RJ012.csv\n",
            "datasets/india\\RJ013.csv\n",
            "datasets/india\\RJ014.csv\n",
            "datasets/india\\RJ015.csv\n",
            "datasets/india\\RJ016.csv\n",
            "datasets/india\\RJ017.csv\n",
            "datasets/india\\RJ018.csv\n",
            "datasets/india\\RJ019.csv\n",
            "datasets/india\\RJ020.csv\n",
            "datasets/india\\RJ021.csv\n",
            "datasets/india\\RJ022.csv\n",
            "datasets/india\\RJ023.csv\n",
            "datasets/india\\RJ024.csv\n",
            "datasets/india\\RJ025.csv\n",
            "datasets/india\\RJ026.csv\n",
            "datasets/india\\RJ027.csv\n",
            "datasets/india\\RJ028.csv\n",
            "datasets/india\\RJ029.csv\n",
            "datasets/india\\RJ030.csv\n",
            "datasets/india\\RJ031.csv\n",
            "datasets/india\\RJ032.csv\n",
            "datasets/india\\RJ033.csv\n",
            "datasets/india\\RJ034.csv\n",
            "datasets/india\\RJ035.csv\n",
            "datasets/india\\SK001.csv\n",
            "datasets/india\\stations_info.csv\n",
            "datasets/india\\TG001.csv\n",
            "datasets/india\\TG002.csv\n",
            "datasets/india\\TG003.csv\n",
            "datasets/india\\TG004.csv\n",
            "datasets/india\\TG005.csv\n",
            "datasets/india\\TG006.csv\n",
            "datasets/india\\TG007.csv\n",
            "datasets/india\\TG008.csv\n",
            "datasets/india\\TG009.csv\n",
            "datasets/india\\TG010.csv\n",
            "datasets/india\\TG011.csv\n",
            "datasets/india\\TG012.csv\n",
            "datasets/india\\TG013.csv\n",
            "datasets/india\\TG014.csv\n",
            "datasets/india\\TN001.csv\n",
            "datasets/india\\TN002.csv\n",
            "datasets/india\\TN003.csv\n",
            "datasets/india\\TN004.csv\n",
            "datasets/india\\TN005.csv\n",
            "datasets/india\\TN006.csv\n",
            "datasets/india\\TN007.csv\n",
            "datasets/india\\TN008.csv\n",
            "datasets/india\\TN009.csv\n",
            "datasets/india\\TN010.csv\n",
            "datasets/india\\TN011.csv\n",
            "datasets/india\\TN012.csv\n",
            "datasets/india\\TN013.csv\n",
            "datasets/india\\TN014.csv\n",
            "datasets/india\\TN015.csv\n",
            "datasets/india\\TN016.csv\n",
            "datasets/india\\TN017.csv\n",
            "datasets/india\\TN018.csv\n",
            "datasets/india\\TN019.csv\n",
            "datasets/india\\TN020.csv\n",
            "datasets/india\\TN021.csv\n",
            "datasets/india\\TN022.csv\n",
            "datasets/india\\TN023.csv\n",
            "datasets/india\\TN024.csv\n",
            "datasets/india\\TN025.csv\n",
            "datasets/india\\TN026.csv\n",
            "datasets/india\\TR001.csv\n",
            "datasets/india\\TR002.csv\n",
            "datasets/india\\UK001.csv\n",
            "datasets/india\\UK002.csv\n",
            "datasets/india\\UK003.csv\n",
            "datasets/india\\UP001.csv\n",
            "datasets/india\\UP002.csv\n",
            "datasets/india\\UP003.csv\n",
            "datasets/india\\UP004.csv\n",
            "datasets/india\\UP005.csv\n",
            "datasets/india\\UP006.csv\n",
            "datasets/india\\UP007.csv\n",
            "datasets/india\\UP008.csv\n",
            "datasets/india\\UP009.csv\n",
            "datasets/india\\UP010.csv\n",
            "datasets/india\\UP011.csv\n",
            "datasets/india\\UP012.csv\n",
            "datasets/india\\UP013.csv\n",
            "datasets/india\\UP014.csv\n",
            "datasets/india\\UP015.csv\n",
            "datasets/india\\UP016.csv\n",
            "datasets/india\\UP017.csv\n",
            "datasets/india\\UP018.csv\n",
            "datasets/india\\UP019.csv\n",
            "datasets/india\\UP020.csv\n",
            "datasets/india\\UP021.csv\n",
            "datasets/india\\UP022.csv\n",
            "datasets/india\\UP023.csv\n",
            "datasets/india\\UP024.csv\n",
            "datasets/india\\UP025.csv\n",
            "datasets/india\\UP026.csv\n",
            "datasets/india\\UP027.csv\n",
            "datasets/india\\UP028.csv\n",
            "datasets/india\\UP029.csv\n",
            "datasets/india\\UP030.csv\n",
            "datasets/india\\UP031.csv\n",
            "datasets/india\\UP032.csv\n",
            "datasets/india\\UP033.csv\n",
            "datasets/india\\UP034.csv\n",
            "datasets/india\\UP035.csv\n",
            "datasets/india\\UP036.csv\n",
            "datasets/india\\UP037.csv\n",
            "datasets/india\\UP038.csv\n",
            "datasets/india\\UP039.csv\n",
            "datasets/india\\UP040.csv\n",
            "datasets/india\\UP041.csv\n",
            "datasets/india\\UP042.csv\n",
            "datasets/india\\UP043.csv\n",
            "datasets/india\\UP044.csv\n",
            "datasets/india\\UP045.csv\n",
            "datasets/india\\UP046.csv\n",
            "datasets/india\\UP047.csv\n",
            "datasets/india\\UP048.csv\n",
            "datasets/india\\UP049.csv\n",
            "datasets/india\\UP050.csv\n",
            "datasets/india\\UP051.csv\n",
            "datasets/india\\UP052.csv\n",
            "datasets/india\\UP053.csv\n",
            "datasets/india\\UP054.csv\n",
            "datasets/india\\UP055.csv\n",
            "datasets/india\\UP056.csv\n",
            "datasets/india\\UP057.csv\n",
            "datasets/india\\WB001.csv\n",
            "datasets/india\\WB002.csv\n",
            "datasets/india\\WB003.csv\n",
            "datasets/india\\WB004.csv\n",
            "datasets/india\\WB005.csv\n",
            "datasets/india\\WB006.csv\n",
            "datasets/india\\WB007.csv\n",
            "datasets/india\\WB008.csv\n",
            "datasets/india\\WB009.csv\n",
            "datasets/india\\WB010.csv\n",
            "datasets/india\\WB011.csv\n",
            "datasets/india\\WB012.csv\n",
            "datasets/india\\WB013.csv\n",
            "datasets/india\\WB014.csv\n",
            "\n",
            "Estratti:\n",
            "\n",
            "datasets/china\\combined_dataset.csv\n",
            "datasets/china\\PRSA_Data_Aotizhongxin_20130301-20170228.csv\n",
            "datasets/china\\PRSA_Data_Changping_20130301-20170228.csv\n",
            "datasets/china\\PRSA_Data_Dingling_20130301-20170228.csv\n",
            "datasets/china\\PRSA_Data_Dongsi_20130301-20170228.csv\n",
            "datasets/china\\PRSA_Data_Guanyuan_20130301-20170228.csv\n",
            "datasets/china\\PRSA_Data_Gucheng_20130301-20170228.csv\n",
            "datasets/china\\PRSA_Data_Huairou_20130301-20170228.csv\n",
            "datasets/china\\PRSA_Data_Nongzhanguan_20130301-20170228.csv\n",
            "datasets/china\\PRSA_Data_Shunyi_20130301-20170228.csv\n",
            "datasets/china\\PRSA_Data_Tiantan_20130301-20170228.csv\n",
            "datasets/china\\PRSA_Data_Wanliu_20130301-20170228.csv\n",
            "datasets/china\\PRSA_Data_Wanshouxigong_20130301-20170228.csv\n"
          ]
        }
      ],
      "source": [
        "import os\n",
        "import requests\n",
        "import zipfile\n",
        "import io\n",
        "import glob\n",
        "import time\n",
        "import copy\n",
        "import numpy as np\n",
        "import pandas as pd\n",
        "import matplotlib.pyplot as plt\n",
        "import seaborn as sns\n",
        "sns.set_theme()\n",
        "\n",
        "from sklearn.ensemble import (\n",
        "    RandomForestRegressor,\n",
        "    GradientBoostingRegressor\n",
        ")\n",
        "from sklearn.metrics import (\n",
        "    r2_score,\n",
        "    mean_squared_error,\n",
        "    mean_absolute_error,\n",
        "    mean_absolute_percentage_error,\n",
        "    mean_squared_log_error,\n",
        "    explained_variance_score,\n",
        "    max_error\n",
        ")\n",
        "from sklearn.model_selection import (\n",
        "    cross_val_score,\n",
        "    TimeSeriesSplit,\n",
        "    RandomizedSearchCV,\n",
        "    GridSearchCV,\n",
        "    KFold\n",
        ")\n",
        "from sklearn.linear_model import (\n",
        "    LinearRegression,\n",
        "    Lasso,\n",
        "    Ridge,\n",
        "    ElasticNet\n",
        ")\n",
        "\n",
        "import xgboost as xgb\n",
        "from IPython.display import clear_output\n",
        "from sklearn.compose import ColumnTransformer\n",
        "from sklearn.preprocessing import StandardScaler, PolynomialFeatures\n",
        "from sklearn.pipeline import Pipeline\n",
        "from sklearn.kernel_ridge import KernelRidge\n",
        "from sklearn.tree import DecisionTreeRegressor\n",
        "\n",
        "%pip install xgboost\n",
        "from xgboost import XGBRegressor\n",
        "\n",
        "N_JOBS = -1\n",
        "RANDOM_STATE = 42\n",
        "\n",
        "augmented_path   = \"Datasets/augmented_dataset.xls\"\n",
        "original_path   = \"Datasets/original_dataset.xls\"\n",
        "\n",
        "# Augmented Dataset\n",
        "\n",
        "aug_extract_to = \"datasets/augmented\"\n",
        "os.makedirs(aug_extract_to, exist_ok=True)\n",
        "\n",
        "with zipfile.ZipFile(zip_india_path, 'r') as z:\n",
        "    z.extractall(aug_extract_to)\n",
        "\n",
        "print(\"\\nEstratti:\\n\")\n",
        "for root, _, files in os.walk(aug_extract_to):\n",
        "    for f in files:\n",
        "        print(os.path.join(root, f))\n",
        "\n",
        "# Original Dataset\n",
        "\n",
        "orig_extract_to = \"datasets/original\"\n",
        "os.makedirs(orig_extract_to, exist_ok=True)\n",
        "\n",
        "with zipfile.ZipFile(zip_china_path, 'r') as z:\n",
        "    z.extractall(orig_extract_to)\n",
        "\n",
        "print(\"\\nEstratti:\\n\")\n",
        "for root, _, files in os.walk(orig_extract_to):\n",
        "    for f in files:\n",
        "        print(os.path.join(root, f))"
      ]
    },
    {
      "cell_type": "markdown",
      "metadata": {
        "id": "pcIEc735lViq",
        "tags": []
      },
      "source": [
        "# Addestramento modelli\n",
        "A seguito dell'esplorazione e dell'omogeneizzazione dei due dataset, si può procedere all'addestramento dei modelli. I modelli verranno addestrati sulle seguenti feature indipendenti:\n",
        "- `weekofyear`: settimana dell'anno\n",
        "- `hour`: ora del giorno\n",
        "- `month`: mese dell’anno\n",
        "- `dayofmonth`: giorno del mese\n",
        "- `dayofweek`: giorno della settimana\n",
        "- `dayofyear`: giorno dell’anno\n",
        "- `quarter`: trimestre dell’anno\n",
        "- `year`: anno della misurazione\n",
        "- `CO`: concentrazione di monossido di carbonio\n",
        "- `O3`: concentrazione di ozono\n",
        "- `pm_lag_1Y`: PM2.5 ritardato di 1 anno\n",
        "- `pm_lag_2Y`: PM2.5 ritardato di 2 anni"
      ]
    },
    {
      "cell_type": "markdown",
      "metadata": {
        "id": "KwC-dywTlViq"
      },
      "source": [
        "La variabile dipendente target dell'addestramento è `PM2.5`, che indica la concentrazione di particelle inquinanti nell'aria con un diametro inferiore a 2,5 micron (μm)."
      ]
    },
    {
      "cell_type": "markdown",
      "metadata": {
        "id": "GveBLWbLlViq"
      },
      "source": [
        "## Preparazione Dataset\n",
        "Per garantire un confronto equo tra tutti i modelli, alcuni dei quali non supportano i valori mancanti generati dalle lag features, elimineremo tutte le righe che li contengono. Va però tenuto presente che così facendo perdiamo un anno di dati storici. Modelli come XGBoost o HistGradientBoostingRegressor di scikit-learn sono in grado di gestire internamente i missing value e potrebbero beneficiarne; tuttavia, per mantenere omogenee le condizioni di allenamento, applichiamo il drop completo dei NaN."
      ]
    },
    {
      "cell_type": "code",
      "execution_count": null,
      "metadata": {
        "id": "2u4WO1bmlViq"
      },
      "outputs": [],
      "source": [
        "target = 'PM2.5'\n",
        "predictors = date_features + lag_features"
      ]
    },
    {
      "cell_type": "code",
      "execution_count": null,
      "metadata": {
        "id": "efbb3yDvuaDc"
      },
      "outputs": [],
      "source": [
        "def create_train_test_sets(dataframe, split, replace_na=False, method='none'):\n",
        "    dataframe = dataframe.copy()\n",
        "\n",
        "    if replace_na and how == 'zeros':\n",
        "      dataframe = df.fillna(0)\n",
        "    elif replace_na and how == 'drop':\n",
        "      dataframe = df.dropna(how='any')\n",
        "\n",
        "    train_set, test_set = np.split(dataframe, [int(len(df) * split)])\n",
        "    return train_set[predictors], test_set[predictors], train_set[target], test_set[target]"
      ]
    },
    {
      "cell_type": "code",
      "execution_count": null,
      "metadata": {
        "colab": {
          "base_uri": "https://localhost:8080/"
        },
        "id": "5_dgAHmhuh2i",
        "outputId": "e0ee846c-c80e-4560-87f4-2ff4d3e3e2fd"
      },
      "outputs": [
        {
          "name": "stderr",
          "output_type": "stream",
          "text": [
            "C:\\Users\\jacop\\anaconda3\\Lib\\site-packages\\numpy\\core\\fromnumeric.py:59: FutureWarning: 'DataFrame.swapaxes' is deprecated and will be removed in a future version. Please use 'DataFrame.transpose' instead.\n",
            "  return bound(*args, **kwds)\n"
          ]
        }
      ],
      "source": [
        "X_train, X_test, y_train, y_test = create_train_test_sets(df, split=0.8, replace_na=True, method='drop')\n",
        "X = pd.concat([X_train, X_test])\n",
        "y = pd.concat([y_train, y_test])"
      ]
    },
    {
      "cell_type": "markdown",
      "metadata": {
        "id": "GsnEFmC4lViq"
      },
      "source": [
        "Nel dataset, ci sono solo feature numeriche. Per le numeriche è necessario applicare una normalizzazione dei dati, i quali avrebbero altrimenti valori su scale molto diverse che renderebbero più difficile la convergenza del modello."
      ]
    },
    {
      "cell_type": "code",
      "execution_count": null,
      "metadata": {
        "id": "YcK3Ma4545-a"
      },
      "outputs": [],
      "source": [
        "preprocessor = ColumnTransformer([\n",
        "    ( \"numeric\"    , StandardScaler(), predictors )\n",
        "])"
      ]
    },
    {
      "cell_type": "markdown",
      "metadata": {
        "id": "axPc4fYaKiDT"
      },
      "source": [
        "Inizializzazione della lista per raccogliere le metriche dopo ogni training"
      ]
    },
    {
      "cell_type": "code",
      "execution_count": null,
      "metadata": {
        "id": "6LfV4nYJKiPx"
      },
      "outputs": [],
      "source": [
        "all_scores = []"
      ]
    },
    {
      "cell_type": "markdown",
      "metadata": {
        "id": "H_bIhHTRKAzQ"
      },
      "source": [
        "## Valutazione delle Prestazioni dei Modelli Allenati\n",
        "\n",
        "Dopo l'allenamento di ciascun modello, utilizziamo la funzione `get_estimator_scores` per calcolare diverse metriche di valutazione, includendo per le principali anche gli **Intervalli di Confidenza al 95%** (CI95%) stimati tramite bootstrap resampling.\n",
        "\n",
        "Le metriche calcolate sono:\n",
        "1. $R^2$ (Coefficiente di Determinazione): questa metrica misura quanto bene un modello statistico riesce a spiegare la variabilità della variabile dipendente. Il valore di $R^2$ varia da 0 (nessuna capacità predittiva) a 1 (predizione perfetta). Un valore di $R^2_{test}$ significativamente inferiore rispetto a $R^2_{train}$ è un'indicazione di overfitting, ossia di una scarsa capacità del modello di generalizzare su dati mai visti.\n",
        "(Più alto è, meglio è)\n",
        "\n",
        "2. Root Mean Squared Error (RMSE): il RMSE misura la deviazione standard degli errori di previsione, ed è una versione \"radice quadrata\" del Mean Squared Error (MSE), che ne rappresenta invece la varianza. Entrambe penalizzano maggiormente gli errori più grandi.\n",
        "(Più basso è, meglio è)\n",
        "\n",
        "3. Mean Absolute Error (MAE): il MAE rappresenta la media delle differenze assolute tra i valori reali e quelli predetti. Rispetto all'RMSE, è meno sensibile agli outlier, poiché non amplifica gli errori più grandi.\n",
        "(Più basso è, meglio è)\n",
        "\n",
        "4. Mean Absolute Percentage Error (MAPE): il MAPE misura la precisione di un sistema di previsione in termini percentuali. Indica, in media, quanto si discosta una previsione rispetto al valore reale.\n",
        "(Più basso è, meglio è)\n",
        "\n",
        "5. Mean Squared Logarithmic Error (MSLE): utile quando si vuole penalizzare maggiormente gli errori relativi per valori piccoli e avere tolleranza su valori grandi.\n",
        "(Più basso è, meglio è)\n",
        "\n",
        "6. Explained Variance Score: misura la proporzione della varianza spiegata dal modello, simile a $R^2$, ma può essere più informativo in caso di regressione non lineare.\n",
        "(Più alto è, meglio è)\n",
        "\n",
        "7. Max Error: misura l'errore assoluto massimo commesso in una previsione.\n",
        "(Più basso è, meglio è)\n",
        "\n",
        "Questa funzione deve essere chiamata **dopo l’allenamento di ciascun modello**, ed è utile per confrontare più modelli tra loro, salvando le prestazioni in un DataFrame riepilogativo.\n"
      ]
    },
    {
      "cell_type": "code",
      "execution_count": null,
      "metadata": {
        "id": "zthJQ-LRL-8J"
      },
      "outputs": [],
      "source": [
        "def bootstrap_ci(metric_fn, y_true, y_pred, n_bootstraps=1000, alpha=0.05):\n",
        "    y_true_arr = np.asarray(y_true)\n",
        "    y_pred_arr = np.asarray(y_pred)\n",
        "    vals = []\n",
        "    for _ in range(n_bootstraps):\n",
        "        if running_in_colab:\n",
        "            idx = np.random.randint(0, len(y_true), len(y_true))\n",
        "            vals.append(metric_fn(y_true[idx], y_pred[idx]))\n",
        "        else:\n",
        "            idx = np.random.randint(0, len(y_true), len(y_true))\n",
        "            vals.append(metric_fn(y_true_arr[idx], y_pred_arr[idx]))\n",
        "\n",
        "    low = np.percentile(vals, 100 * (alpha/2))\n",
        "    high = np.percentile(vals, 100 * (1 - alpha/2))\n",
        "    return low, high\n",
        "\n",
        "def get_estimator_scores(model_name, model):\n",
        "    y_pred = model.predict(X_test)\n",
        "    r2_tr = model.score(X_train, y_train)\n",
        "    r2_te = r2_score(y_test, y_pred)\n",
        "    rmse = np.sqrt(mean_squared_error(y_test, y_pred))\n",
        "    mae = mean_absolute_error(y_test, y_pred)\n",
        "    mape = mean_absolute_percentage_error(y_test, y_pred)\n",
        "    msle = mean_squared_log_error(y_test, np.maximum(y_pred, 0))\n",
        "    evs = explained_variance_score(y_test, y_pred)\n",
        "    me = max_error(y_test, y_pred)\n",
        "\n",
        "    rmse_low, rmse_high = bootstrap_ci(lambda a,b: np.sqrt(mean_squared_error(a, b)), y_test, y_pred)\n",
        "    mae_low, mae_high = bootstrap_ci(mean_absolute_error, y_test, y_pred)\n",
        "    mape_low, mape_high = bootstrap_ci(mean_absolute_percentage_error, y_test, y_pred)\n",
        "\n",
        "    all_scores.append([\n",
        "        model_name, r2_tr, r2_te,\n",
        "        rmse, rmse_low, rmse_high,\n",
        "        mae, mae_low, mae_high,\n",
        "        mape, mape_low, mape_high,\n",
        "        msle, evs, me\n",
        "    ])"
      ]
    },
    {
      "cell_type": "markdown",
      "metadata": {
        "id": "xOMRnqcslVir"
      },
      "source": [
        "## Regressione lineare\n",
        "Il modello più semplice da addestrare è la regressione lineare, senza filtri polinomiali o regolarizzazioni. Grazie all'elevato numero di dati usato per l'addestramento, si possono ottenere degli ottimi risultati, anche se migliorabili, già con questo primo modello."
      ]
    },
    {
      "cell_type": "code",
      "execution_count": null,
      "metadata": {
        "id": "mSsOPwFNlVir"
      },
      "outputs": [],
      "source": [
        "model = Pipeline([\n",
        "    (\"preproc\", preprocessor),\n",
        "    (\"regr\"   , LinearRegression())\n",
        "])"
      ]
    },
    {
      "cell_type": "code",
      "execution_count": null,
      "metadata": {
        "colab": {
          "base_uri": "https://localhost:8080/"
        },
        "id": "nVduMAAHlVir",
        "outputId": "0d5eebf1-fe15-42ba-e8e7-64c9b4411eb0"
      },
      "outputs": [
        {
          "name": "stdout",
          "output_type": "stream",
          "text": [
            "CPU times: total: 46.9 ms\n",
            "Wall time: 53.9 ms\n"
          ]
        }
      ],
      "source": [
        "%time model.fit(X_train, y_train)\n",
        "get_estimator_scores(\"lin_reg\", model)"
      ]
    },
    {
      "cell_type": "markdown",
      "metadata": {
        "id": "YP2p8Z1ClVit",
        "tags": []
      },
      "source": [
        "## Regressione polinomiale\n",
        "Per provare ad ottenere risultati migliori, vengono introdotte le feature polinomiali, che aggiungono nuove feature di grado superiore. Si esclude il bias, che consiste nel valore dell'intercetta, e si escludono i prodotti tra le diverse feature, per esempio i doppi prodotti in una regressione polinomiale di grado 2."
      ]
    },
    {
      "cell_type": "code",
      "execution_count": null,
      "metadata": {
        "id": "8n3i5NhmlVit"
      },
      "outputs": [],
      "source": [
        "model = Pipeline([\n",
        "    (\"preproc\", preprocessor),\n",
        "    (\"poly\", PolynomialFeatures(degree=2, include_bias=False, interaction_only=True)),\n",
        "    (\"regr\"   , LinearRegression())\n",
        "])"
      ]
    },
    {
      "cell_type": "code",
      "execution_count": null,
      "metadata": {
        "colab": {
          "base_uri": "https://localhost:8080/"
        },
        "id": "txYsQh_mlViw",
        "outputId": "73c335ce-1f11-4c1f-ae78-57afa6bfc7e4"
      },
      "outputs": [
        {
          "name": "stdout",
          "output_type": "stream",
          "text": [
            "CPU times: total: 1.08 s\n",
            "Wall time: 374 ms\n"
          ]
        }
      ],
      "source": [
        "%time model.fit(X_train, y_train)\n",
        "get_estimator_scores(\"poly_reg\", model)"
      ]
    },
    {
      "cell_type": "markdown",
      "metadata": {
        "id": "tCa0HV05lVix",
        "tags": []
      },
      "source": [
        "## Regressione LASSO\n",
        "La regressione LASSO è un'ottima tecnica per selezionare le feature più importanti, poichè la discesa del gradiente si ferma su un vertice di un ipercubo centrato sull'origine, quindi azzera i parametri delle variabili meno rilevanti."
      ]
    },
    {
      "cell_type": "code",
      "execution_count": null,
      "metadata": {
        "id": "jO8UrLjylVix"
      },
      "outputs": [],
      "source": [
        "model = Pipeline([\n",
        "    (\"preproc\", preprocessor),\n",
        "    (\"regr\", Lasso(alpha=1, max_iter=10000))\n",
        "])"
      ]
    },
    {
      "cell_type": "code",
      "execution_count": null,
      "metadata": {
        "colab": {
          "base_uri": "https://localhost:8080/"
        },
        "id": "zW41o83llVix",
        "outputId": "db8b7dcc-fcca-4e94-e7c3-f498e0cebc1a"
      },
      "outputs": [
        {
          "name": "stdout",
          "output_type": "stream",
          "text": [
            "CPU times: total: 109 ms\n",
            "Wall time: 77.2 ms\n"
          ]
        },
        {
          "data": {
            "text/html": [
              "<style>#sk-container-id-3 {\n",
              "  /* Definition of color scheme common for light and dark mode */\n",
              "  --sklearn-color-text: #000;\n",
              "  --sklearn-color-text-muted: #666;\n",
              "  --sklearn-color-line: gray;\n",
              "  /* Definition of color scheme for unfitted estimators */\n",
              "  --sklearn-color-unfitted-level-0: #fff5e6;\n",
              "  --sklearn-color-unfitted-level-1: #f6e4d2;\n",
              "  --sklearn-color-unfitted-level-2: #ffe0b3;\n",
              "  --sklearn-color-unfitted-level-3: chocolate;\n",
              "  /* Definition of color scheme for fitted estimators */\n",
              "  --sklearn-color-fitted-level-0: #f0f8ff;\n",
              "  --sklearn-color-fitted-level-1: #d4ebff;\n",
              "  --sklearn-color-fitted-level-2: #b3dbfd;\n",
              "  --sklearn-color-fitted-level-3: cornflowerblue;\n",
              "\n",
              "  /* Specific color for light theme */\n",
              "  --sklearn-color-text-on-default-background: var(--sg-text-color, var(--theme-code-foreground, var(--jp-content-font-color1, black)));\n",
              "  --sklearn-color-background: var(--sg-background-color, var(--theme-background, var(--jp-layout-color0, white)));\n",
              "  --sklearn-color-border-box: var(--sg-text-color, var(--theme-code-foreground, var(--jp-content-font-color1, black)));\n",
              "  --sklearn-color-icon: #696969;\n",
              "\n",
              "  @media (prefers-color-scheme: dark) {\n",
              "    /* Redefinition of color scheme for dark theme */\n",
              "    --sklearn-color-text-on-default-background: var(--sg-text-color, var(--theme-code-foreground, var(--jp-content-font-color1, white)));\n",
              "    --sklearn-color-background: var(--sg-background-color, var(--theme-background, var(--jp-layout-color0, #111)));\n",
              "    --sklearn-color-border-box: var(--sg-text-color, var(--theme-code-foreground, var(--jp-content-font-color1, white)));\n",
              "    --sklearn-color-icon: #878787;\n",
              "  }\n",
              "}\n",
              "\n",
              "#sk-container-id-3 {\n",
              "  color: var(--sklearn-color-text);\n",
              "}\n",
              "\n",
              "#sk-container-id-3 pre {\n",
              "  padding: 0;\n",
              "}\n",
              "\n",
              "#sk-container-id-3 input.sk-hidden--visually {\n",
              "  border: 0;\n",
              "  clip: rect(1px 1px 1px 1px);\n",
              "  clip: rect(1px, 1px, 1px, 1px);\n",
              "  height: 1px;\n",
              "  margin: -1px;\n",
              "  overflow: hidden;\n",
              "  padding: 0;\n",
              "  position: absolute;\n",
              "  width: 1px;\n",
              "}\n",
              "\n",
              "#sk-container-id-3 div.sk-dashed-wrapped {\n",
              "  border: 1px dashed var(--sklearn-color-line);\n",
              "  margin: 0 0.4em 0.5em 0.4em;\n",
              "  box-sizing: border-box;\n",
              "  padding-bottom: 0.4em;\n",
              "  background-color: var(--sklearn-color-background);\n",
              "}\n",
              "\n",
              "#sk-container-id-3 div.sk-container {\n",
              "  /* jupyter's `normalize.less` sets `[hidden] { display: none; }`\n",
              "     but bootstrap.min.css set `[hidden] { display: none !important; }`\n",
              "     so we also need the `!important` here to be able to override the\n",
              "     default hidden behavior on the sphinx rendered scikit-learn.org.\n",
              "     See: https://github.com/scikit-learn/scikit-learn/issues/21755 */\n",
              "  display: inline-block !important;\n",
              "  position: relative;\n",
              "}\n",
              "\n",
              "#sk-container-id-3 div.sk-text-repr-fallback {\n",
              "  display: none;\n",
              "}\n",
              "\n",
              "div.sk-parallel-item,\n",
              "div.sk-serial,\n",
              "div.sk-item {\n",
              "  /* draw centered vertical line to link estimators */\n",
              "  background-image: linear-gradient(var(--sklearn-color-text-on-default-background), var(--sklearn-color-text-on-default-background));\n",
              "  background-size: 2px 100%;\n",
              "  background-repeat: no-repeat;\n",
              "  background-position: center center;\n",
              "}\n",
              "\n",
              "/* Parallel-specific style estimator block */\n",
              "\n",
              "#sk-container-id-3 div.sk-parallel-item::after {\n",
              "  content: \"\";\n",
              "  width: 100%;\n",
              "  border-bottom: 2px solid var(--sklearn-color-text-on-default-background);\n",
              "  flex-grow: 1;\n",
              "}\n",
              "\n",
              "#sk-container-id-3 div.sk-parallel {\n",
              "  display: flex;\n",
              "  align-items: stretch;\n",
              "  justify-content: center;\n",
              "  background-color: var(--sklearn-color-background);\n",
              "  position: relative;\n",
              "}\n",
              "\n",
              "#sk-container-id-3 div.sk-parallel-item {\n",
              "  display: flex;\n",
              "  flex-direction: column;\n",
              "}\n",
              "\n",
              "#sk-container-id-3 div.sk-parallel-item:first-child::after {\n",
              "  align-self: flex-end;\n",
              "  width: 50%;\n",
              "}\n",
              "\n",
              "#sk-container-id-3 div.sk-parallel-item:last-child::after {\n",
              "  align-self: flex-start;\n",
              "  width: 50%;\n",
              "}\n",
              "\n",
              "#sk-container-id-3 div.sk-parallel-item:only-child::after {\n",
              "  width: 0;\n",
              "}\n",
              "\n",
              "/* Serial-specific style estimator block */\n",
              "\n",
              "#sk-container-id-3 div.sk-serial {\n",
              "  display: flex;\n",
              "  flex-direction: column;\n",
              "  align-items: center;\n",
              "  background-color: var(--sklearn-color-background);\n",
              "  padding-right: 1em;\n",
              "  padding-left: 1em;\n",
              "}\n",
              "\n",
              "\n",
              "/* Toggleable style: style used for estimator/Pipeline/ColumnTransformer box that is\n",
              "clickable and can be expanded/collapsed.\n",
              "- Pipeline and ColumnTransformer use this feature and define the default style\n",
              "- Estimators will overwrite some part of the style using the `sk-estimator` class\n",
              "*/\n",
              "\n",
              "/* Pipeline and ColumnTransformer style (default) */\n",
              "\n",
              "#sk-container-id-3 div.sk-toggleable {\n",
              "  /* Default theme specific background. It is overwritten whether we have a\n",
              "  specific estimator or a Pipeline/ColumnTransformer */\n",
              "  background-color: var(--sklearn-color-background);\n",
              "}\n",
              "\n",
              "/* Toggleable label */\n",
              "#sk-container-id-3 label.sk-toggleable__label {\n",
              "  cursor: pointer;\n",
              "  display: flex;\n",
              "  width: 100%;\n",
              "  margin-bottom: 0;\n",
              "  padding: 0.5em;\n",
              "  box-sizing: border-box;\n",
              "  text-align: center;\n",
              "  align-items: start;\n",
              "  justify-content: space-between;\n",
              "  gap: 0.5em;\n",
              "}\n",
              "\n",
              "#sk-container-id-3 label.sk-toggleable__label .caption {\n",
              "  font-size: 0.6rem;\n",
              "  font-weight: lighter;\n",
              "  color: var(--sklearn-color-text-muted);\n",
              "}\n",
              "\n",
              "#sk-container-id-3 label.sk-toggleable__label-arrow:before {\n",
              "  /* Arrow on the left of the label */\n",
              "  content: \"▸\";\n",
              "  float: left;\n",
              "  margin-right: 0.25em;\n",
              "  color: var(--sklearn-color-icon);\n",
              "}\n",
              "\n",
              "#sk-container-id-3 label.sk-toggleable__label-arrow:hover:before {\n",
              "  color: var(--sklearn-color-text);\n",
              "}\n",
              "\n",
              "/* Toggleable content - dropdown */\n",
              "\n",
              "#sk-container-id-3 div.sk-toggleable__content {\n",
              "  max-height: 0;\n",
              "  max-width: 0;\n",
              "  overflow: hidden;\n",
              "  text-align: left;\n",
              "  /* unfitted */\n",
              "  background-color: var(--sklearn-color-unfitted-level-0);\n",
              "}\n",
              "\n",
              "#sk-container-id-3 div.sk-toggleable__content.fitted {\n",
              "  /* fitted */\n",
              "  background-color: var(--sklearn-color-fitted-level-0);\n",
              "}\n",
              "\n",
              "#sk-container-id-3 div.sk-toggleable__content pre {\n",
              "  margin: 0.2em;\n",
              "  border-radius: 0.25em;\n",
              "  color: var(--sklearn-color-text);\n",
              "  /* unfitted */\n",
              "  background-color: var(--sklearn-color-unfitted-level-0);\n",
              "}\n",
              "\n",
              "#sk-container-id-3 div.sk-toggleable__content.fitted pre {\n",
              "  /* unfitted */\n",
              "  background-color: var(--sklearn-color-fitted-level-0);\n",
              "}\n",
              "\n",
              "#sk-container-id-3 input.sk-toggleable__control:checked~div.sk-toggleable__content {\n",
              "  /* Expand drop-down */\n",
              "  max-height: 200px;\n",
              "  max-width: 100%;\n",
              "  overflow: auto;\n",
              "}\n",
              "\n",
              "#sk-container-id-3 input.sk-toggleable__control:checked~label.sk-toggleable__label-arrow:before {\n",
              "  content: \"▾\";\n",
              "}\n",
              "\n",
              "/* Pipeline/ColumnTransformer-specific style */\n",
              "\n",
              "#sk-container-id-3 div.sk-label input.sk-toggleable__control:checked~label.sk-toggleable__label {\n",
              "  color: var(--sklearn-color-text);\n",
              "  background-color: var(--sklearn-color-unfitted-level-2);\n",
              "}\n",
              "\n",
              "#sk-container-id-3 div.sk-label.fitted input.sk-toggleable__control:checked~label.sk-toggleable__label {\n",
              "  background-color: var(--sklearn-color-fitted-level-2);\n",
              "}\n",
              "\n",
              "/* Estimator-specific style */\n",
              "\n",
              "/* Colorize estimator box */\n",
              "#sk-container-id-3 div.sk-estimator input.sk-toggleable__control:checked~label.sk-toggleable__label {\n",
              "  /* unfitted */\n",
              "  background-color: var(--sklearn-color-unfitted-level-2);\n",
              "}\n",
              "\n",
              "#sk-container-id-3 div.sk-estimator.fitted input.sk-toggleable__control:checked~label.sk-toggleable__label {\n",
              "  /* fitted */\n",
              "  background-color: var(--sklearn-color-fitted-level-2);\n",
              "}\n",
              "\n",
              "#sk-container-id-3 div.sk-label label.sk-toggleable__label,\n",
              "#sk-container-id-3 div.sk-label label {\n",
              "  /* The background is the default theme color */\n",
              "  color: var(--sklearn-color-text-on-default-background);\n",
              "}\n",
              "\n",
              "/* On hover, darken the color of the background */\n",
              "#sk-container-id-3 div.sk-label:hover label.sk-toggleable__label {\n",
              "  color: var(--sklearn-color-text);\n",
              "  background-color: var(--sklearn-color-unfitted-level-2);\n",
              "}\n",
              "\n",
              "/* Label box, darken color on hover, fitted */\n",
              "#sk-container-id-3 div.sk-label.fitted:hover label.sk-toggleable__label.fitted {\n",
              "  color: var(--sklearn-color-text);\n",
              "  background-color: var(--sklearn-color-fitted-level-2);\n",
              "}\n",
              "\n",
              "/* Estimator label */\n",
              "\n",
              "#sk-container-id-3 div.sk-label label {\n",
              "  font-family: monospace;\n",
              "  font-weight: bold;\n",
              "  display: inline-block;\n",
              "  line-height: 1.2em;\n",
              "}\n",
              "\n",
              "#sk-container-id-3 div.sk-label-container {\n",
              "  text-align: center;\n",
              "}\n",
              "\n",
              "/* Estimator-specific */\n",
              "#sk-container-id-3 div.sk-estimator {\n",
              "  font-family: monospace;\n",
              "  border: 1px dotted var(--sklearn-color-border-box);\n",
              "  border-radius: 0.25em;\n",
              "  box-sizing: border-box;\n",
              "  margin-bottom: 0.5em;\n",
              "  /* unfitted */\n",
              "  background-color: var(--sklearn-color-unfitted-level-0);\n",
              "}\n",
              "\n",
              "#sk-container-id-3 div.sk-estimator.fitted {\n",
              "  /* fitted */\n",
              "  background-color: var(--sklearn-color-fitted-level-0);\n",
              "}\n",
              "\n",
              "/* on hover */\n",
              "#sk-container-id-3 div.sk-estimator:hover {\n",
              "  /* unfitted */\n",
              "  background-color: var(--sklearn-color-unfitted-level-2);\n",
              "}\n",
              "\n",
              "#sk-container-id-3 div.sk-estimator.fitted:hover {\n",
              "  /* fitted */\n",
              "  background-color: var(--sklearn-color-fitted-level-2);\n",
              "}\n",
              "\n",
              "/* Specification for estimator info (e.g. \"i\" and \"?\") */\n",
              "\n",
              "/* Common style for \"i\" and \"?\" */\n",
              "\n",
              ".sk-estimator-doc-link,\n",
              "a:link.sk-estimator-doc-link,\n",
              "a:visited.sk-estimator-doc-link {\n",
              "  float: right;\n",
              "  font-size: smaller;\n",
              "  line-height: 1em;\n",
              "  font-family: monospace;\n",
              "  background-color: var(--sklearn-color-background);\n",
              "  border-radius: 1em;\n",
              "  height: 1em;\n",
              "  width: 1em;\n",
              "  text-decoration: none !important;\n",
              "  margin-left: 0.5em;\n",
              "  text-align: center;\n",
              "  /* unfitted */\n",
              "  border: var(--sklearn-color-unfitted-level-1) 1pt solid;\n",
              "  color: var(--sklearn-color-unfitted-level-1);\n",
              "}\n",
              "\n",
              ".sk-estimator-doc-link.fitted,\n",
              "a:link.sk-estimator-doc-link.fitted,\n",
              "a:visited.sk-estimator-doc-link.fitted {\n",
              "  /* fitted */\n",
              "  border: var(--sklearn-color-fitted-level-1) 1pt solid;\n",
              "  color: var(--sklearn-color-fitted-level-1);\n",
              "}\n",
              "\n",
              "/* On hover */\n",
              "div.sk-estimator:hover .sk-estimator-doc-link:hover,\n",
              ".sk-estimator-doc-link:hover,\n",
              "div.sk-label-container:hover .sk-estimator-doc-link:hover,\n",
              ".sk-estimator-doc-link:hover {\n",
              "  /* unfitted */\n",
              "  background-color: var(--sklearn-color-unfitted-level-3);\n",
              "  color: var(--sklearn-color-background);\n",
              "  text-decoration: none;\n",
              "}\n",
              "\n",
              "div.sk-estimator.fitted:hover .sk-estimator-doc-link.fitted:hover,\n",
              ".sk-estimator-doc-link.fitted:hover,\n",
              "div.sk-label-container:hover .sk-estimator-doc-link.fitted:hover,\n",
              ".sk-estimator-doc-link.fitted:hover {\n",
              "  /* fitted */\n",
              "  background-color: var(--sklearn-color-fitted-level-3);\n",
              "  color: var(--sklearn-color-background);\n",
              "  text-decoration: none;\n",
              "}\n",
              "\n",
              "/* Span, style for the box shown on hovering the info icon */\n",
              ".sk-estimator-doc-link span {\n",
              "  display: none;\n",
              "  z-index: 9999;\n",
              "  position: relative;\n",
              "  font-weight: normal;\n",
              "  right: .2ex;\n",
              "  padding: .5ex;\n",
              "  margin: .5ex;\n",
              "  width: min-content;\n",
              "  min-width: 20ex;\n",
              "  max-width: 50ex;\n",
              "  color: var(--sklearn-color-text);\n",
              "  box-shadow: 2pt 2pt 4pt #999;\n",
              "  /* unfitted */\n",
              "  background: var(--sklearn-color-unfitted-level-0);\n",
              "  border: .5pt solid var(--sklearn-color-unfitted-level-3);\n",
              "}\n",
              "\n",
              ".sk-estimator-doc-link.fitted span {\n",
              "  /* fitted */\n",
              "  background: var(--sklearn-color-fitted-level-0);\n",
              "  border: var(--sklearn-color-fitted-level-3);\n",
              "}\n",
              "\n",
              ".sk-estimator-doc-link:hover span {\n",
              "  display: block;\n",
              "}\n",
              "\n",
              "/* \"?\"-specific style due to the `<a>` HTML tag */\n",
              "\n",
              "#sk-container-id-3 a.estimator_doc_link {\n",
              "  float: right;\n",
              "  font-size: 1rem;\n",
              "  line-height: 1em;\n",
              "  font-family: monospace;\n",
              "  background-color: var(--sklearn-color-background);\n",
              "  border-radius: 1rem;\n",
              "  height: 1rem;\n",
              "  width: 1rem;\n",
              "  text-decoration: none;\n",
              "  /* unfitted */\n",
              "  color: var(--sklearn-color-unfitted-level-1);\n",
              "  border: var(--sklearn-color-unfitted-level-1) 1pt solid;\n",
              "}\n",
              "\n",
              "#sk-container-id-3 a.estimator_doc_link.fitted {\n",
              "  /* fitted */\n",
              "  border: var(--sklearn-color-fitted-level-1) 1pt solid;\n",
              "  color: var(--sklearn-color-fitted-level-1);\n",
              "}\n",
              "\n",
              "/* On hover */\n",
              "#sk-container-id-3 a.estimator_doc_link:hover {\n",
              "  /* unfitted */\n",
              "  background-color: var(--sklearn-color-unfitted-level-3);\n",
              "  color: var(--sklearn-color-background);\n",
              "  text-decoration: none;\n",
              "}\n",
              "\n",
              "#sk-container-id-3 a.estimator_doc_link.fitted:hover {\n",
              "  /* fitted */\n",
              "  background-color: var(--sklearn-color-fitted-level-3);\n",
              "}\n",
              "</style><div id=\"sk-container-id-3\" class=\"sk-top-container\"><div class=\"sk-text-repr-fallback\"><pre>Pipeline(steps=[(&#x27;preproc&#x27;,\n",
              "                 ColumnTransformer(transformers=[(&#x27;numeric&#x27;, StandardScaler(),\n",
              "                                                  [&#x27;hour&#x27;, &#x27;dayofmonth&#x27;,\n",
              "                                                   &#x27;dayofweek&#x27;, &#x27;dayofyear&#x27;,\n",
              "                                                   &#x27;weekofyear&#x27;, &#x27;month&#x27;,\n",
              "                                                   &#x27;quarter&#x27;, &#x27;year&#x27;,\n",
              "                                                   &#x27;pm_lag_1Y&#x27;,\n",
              "                                                   &#x27;pm_lag_2Y&#x27;])])),\n",
              "                (&#x27;regr&#x27;, Lasso(alpha=1, max_iter=10000))])</pre><b>In a Jupyter environment, please rerun this cell to show the HTML representation or trust the notebook. <br />On GitHub, the HTML representation is unable to render, please try loading this page with nbviewer.org.</b></div><div class=\"sk-container\" hidden><div class=\"sk-item sk-dashed-wrapped\"><div class=\"sk-label-container\"><div class=\"sk-label fitted sk-toggleable\"><input class=\"sk-toggleable__control sk-hidden--visually\" id=\"sk-estimator-id-3\" type=\"checkbox\" ><label for=\"sk-estimator-id-3\" class=\"sk-toggleable__label fitted sk-toggleable__label-arrow\"><div><div>Pipeline</div></div><div><a class=\"sk-estimator-doc-link fitted\" rel=\"noreferrer\" target=\"_blank\" href=\"https://scikit-learn.org/1.6/modules/generated/sklearn.pipeline.Pipeline.html\">?<span>Documentation for Pipeline</span></a><span class=\"sk-estimator-doc-link fitted\">i<span>Fitted</span></span></div></label><div class=\"sk-toggleable__content fitted\"><pre>Pipeline(steps=[(&#x27;preproc&#x27;,\n",
              "                 ColumnTransformer(transformers=[(&#x27;numeric&#x27;, StandardScaler(),\n",
              "                                                  [&#x27;hour&#x27;, &#x27;dayofmonth&#x27;,\n",
              "                                                   &#x27;dayofweek&#x27;, &#x27;dayofyear&#x27;,\n",
              "                                                   &#x27;weekofyear&#x27;, &#x27;month&#x27;,\n",
              "                                                   &#x27;quarter&#x27;, &#x27;year&#x27;,\n",
              "                                                   &#x27;pm_lag_1Y&#x27;,\n",
              "                                                   &#x27;pm_lag_2Y&#x27;])])),\n",
              "                (&#x27;regr&#x27;, Lasso(alpha=1, max_iter=10000))])</pre></div> </div></div><div class=\"sk-serial\"><div class=\"sk-item sk-dashed-wrapped\"><div class=\"sk-label-container\"><div class=\"sk-label fitted sk-toggleable\"><input class=\"sk-toggleable__control sk-hidden--visually\" id=\"sk-estimator-id-4\" type=\"checkbox\" ><label for=\"sk-estimator-id-4\" class=\"sk-toggleable__label fitted sk-toggleable__label-arrow\"><div><div>preproc: ColumnTransformer</div></div><div><a class=\"sk-estimator-doc-link fitted\" rel=\"noreferrer\" target=\"_blank\" href=\"https://scikit-learn.org/1.6/modules/generated/sklearn.compose.ColumnTransformer.html\">?<span>Documentation for preproc: ColumnTransformer</span></a></div></label><div class=\"sk-toggleable__content fitted\"><pre>ColumnTransformer(transformers=[(&#x27;numeric&#x27;, StandardScaler(),\n",
              "                                 [&#x27;hour&#x27;, &#x27;dayofmonth&#x27;, &#x27;dayofweek&#x27;,\n",
              "                                  &#x27;dayofyear&#x27;, &#x27;weekofyear&#x27;, &#x27;month&#x27;, &#x27;quarter&#x27;,\n",
              "                                  &#x27;year&#x27;, &#x27;pm_lag_1Y&#x27;, &#x27;pm_lag_2Y&#x27;])])</pre></div> </div></div><div class=\"sk-parallel\"><div class=\"sk-parallel-item\"><div class=\"sk-item\"><div class=\"sk-label-container\"><div class=\"sk-label fitted sk-toggleable\"><input class=\"sk-toggleable__control sk-hidden--visually\" id=\"sk-estimator-id-5\" type=\"checkbox\" ><label for=\"sk-estimator-id-5\" class=\"sk-toggleable__label fitted sk-toggleable__label-arrow\"><div><div>numeric</div></div></label><div class=\"sk-toggleable__content fitted\"><pre>[&#x27;hour&#x27;, &#x27;dayofmonth&#x27;, &#x27;dayofweek&#x27;, &#x27;dayofyear&#x27;, &#x27;weekofyear&#x27;, &#x27;month&#x27;, &#x27;quarter&#x27;, &#x27;year&#x27;, &#x27;pm_lag_1Y&#x27;, &#x27;pm_lag_2Y&#x27;]</pre></div> </div></div><div class=\"sk-serial\"><div class=\"sk-item\"><div class=\"sk-estimator fitted sk-toggleable\"><input class=\"sk-toggleable__control sk-hidden--visually\" id=\"sk-estimator-id-6\" type=\"checkbox\" ><label for=\"sk-estimator-id-6\" class=\"sk-toggleable__label fitted sk-toggleable__label-arrow\"><div><div>StandardScaler</div></div><div><a class=\"sk-estimator-doc-link fitted\" rel=\"noreferrer\" target=\"_blank\" href=\"https://scikit-learn.org/1.6/modules/generated/sklearn.preprocessing.StandardScaler.html\">?<span>Documentation for StandardScaler</span></a></div></label><div class=\"sk-toggleable__content fitted\"><pre>StandardScaler()</pre></div> </div></div></div></div></div></div></div><div class=\"sk-item\"><div class=\"sk-estimator fitted sk-toggleable\"><input class=\"sk-toggleable__control sk-hidden--visually\" id=\"sk-estimator-id-7\" type=\"checkbox\" ><label for=\"sk-estimator-id-7\" class=\"sk-toggleable__label fitted sk-toggleable__label-arrow\"><div><div>Lasso</div></div><div><a class=\"sk-estimator-doc-link fitted\" rel=\"noreferrer\" target=\"_blank\" href=\"https://scikit-learn.org/1.6/modules/generated/sklearn.linear_model.Lasso.html\">?<span>Documentation for Lasso</span></a></div></label><div class=\"sk-toggleable__content fitted\"><pre>Lasso(alpha=1, max_iter=10000)</pre></div> </div></div></div></div></div></div>"
            ],
            "text/plain": [
              "Pipeline(steps=[('preproc',\n",
              "                 ColumnTransformer(transformers=[('numeric', StandardScaler(),\n",
              "                                                  ['hour', 'dayofmonth',\n",
              "                                                   'dayofweek', 'dayofyear',\n",
              "                                                   'weekofyear', 'month',\n",
              "                                                   'quarter', 'year',\n",
              "                                                   'pm_lag_1Y',\n",
              "                                                   'pm_lag_2Y'])])),\n",
              "                ('regr', Lasso(alpha=1, max_iter=10000))])"
            ]
          },
          "execution_count": 103,
          "metadata": {},
          "output_type": "execute_result"
        }
      ],
      "source": [
        "%time model.fit(X_train, y_train)"
      ]
    },
    {
      "cell_type": "markdown",
      "metadata": {
        "id": "CBNwKTBslViy"
      },
      "source": [
        "### Grid Search per l'iperparametro della Lasso\n",
        "Per ricercare gli iperparametri migliori nei prossimi modelli da addestrare, verrà usata la grid search, che addestra il modello con tutte le combinazioni possibili di iperparametri selezionati. <br>\n",
        "All'interno della grid search, suddividiamo i dati in 5 sottoinsiemi disgiunti, i fold della cross validation, per garantire che il modello riesca a generalizzare su dati non visti. <br>\n",
        "Con la grid search si ottiene lo score del modello al variare dell'iperparametro della regolarizzazione LASSO per vedere quanta regolarizzazione è necessaria ai fini dell'addestramento."
      ]
    },
    {
      "cell_type": "code",
      "execution_count": null,
      "metadata": {
        "id": "FkU3BKTAlViy"
      },
      "outputs": [],
      "source": [
        "kf = KFold(5, shuffle=True, random_state=37)\n",
        "alphas = np.logspace(-3, 1, num=5)\n",
        "grid = {\"regr__alpha\": alphas}\n",
        "gs = GridSearchCV(model, grid, cv=kf)"
      ]
    },
    {
      "cell_type": "code",
      "execution_count": null,
      "metadata": {
        "colab": {
          "base_uri": "https://localhost:8080/"
        },
        "id": "kyNpEms_lViz",
        "outputId": "4432dbf9-34c8-43b3-d9a8-b00c933293dd"
      },
      "outputs": [
        {
          "name": "stderr",
          "output_type": "stream",
          "text": [
            "C:\\Users\\jacop\\anaconda3\\Lib\\site-packages\\sklearn\\linear_model\\_coordinate_descent.py:695: ConvergenceWarning: Objective did not converge. You might want to increase the number of iterations, check the scale of the features or consider increasing regularisation. Duality gap: 3.325e+08, tolerance: 8.346e+04\n",
            "  model = cd_fast.enet_coordinate_descent(\n",
            "C:\\Users\\jacop\\anaconda3\\Lib\\site-packages\\sklearn\\linear_model\\_coordinate_descent.py:695: ConvergenceWarning: Objective did not converge. You might want to increase the number of iterations, check the scale of the features or consider increasing regularisation. Duality gap: 3.333e+08, tolerance: 8.347e+04\n",
            "  model = cd_fast.enet_coordinate_descent(\n",
            "C:\\Users\\jacop\\anaconda3\\Lib\\site-packages\\sklearn\\linear_model\\_coordinate_descent.py:695: ConvergenceWarning: Objective did not converge. You might want to increase the number of iterations, check the scale of the features or consider increasing regularisation. Duality gap: 3.338e+08, tolerance: 8.351e+04\n",
            "  model = cd_fast.enet_coordinate_descent(\n",
            "C:\\Users\\jacop\\anaconda3\\Lib\\site-packages\\sklearn\\linear_model\\_coordinate_descent.py:695: ConvergenceWarning: Objective did not converge. You might want to increase the number of iterations, check the scale of the features or consider increasing regularisation. Duality gap: 3.356e+08, tolerance: 8.411e+04\n",
            "  model = cd_fast.enet_coordinate_descent(\n",
            "C:\\Users\\jacop\\anaconda3\\Lib\\site-packages\\sklearn\\linear_model\\_coordinate_descent.py:695: ConvergenceWarning: Objective did not converge. You might want to increase the number of iterations, check the scale of the features or consider increasing regularisation. Duality gap: 3.337e+08, tolerance: 8.378e+04\n",
            "  model = cd_fast.enet_coordinate_descent(\n",
            "C:\\Users\\jacop\\anaconda3\\Lib\\site-packages\\sklearn\\linear_model\\_coordinate_descent.py:695: ConvergenceWarning: Objective did not converge. You might want to increase the number of iterations, check the scale of the features or consider increasing regularisation. Duality gap: 2.180e+08, tolerance: 8.346e+04\n",
            "  model = cd_fast.enet_coordinate_descent(\n",
            "C:\\Users\\jacop\\anaconda3\\Lib\\site-packages\\sklearn\\linear_model\\_coordinate_descent.py:695: ConvergenceWarning: Objective did not converge. You might want to increase the number of iterations, check the scale of the features or consider increasing regularisation. Duality gap: 2.214e+08, tolerance: 8.347e+04\n",
            "  model = cd_fast.enet_coordinate_descent(\n",
            "C:\\Users\\jacop\\anaconda3\\Lib\\site-packages\\sklearn\\linear_model\\_coordinate_descent.py:695: ConvergenceWarning: Objective did not converge. You might want to increase the number of iterations, check the scale of the features or consider increasing regularisation. Duality gap: 2.195e+08, tolerance: 8.351e+04\n",
            "  model = cd_fast.enet_coordinate_descent(\n",
            "C:\\Users\\jacop\\anaconda3\\Lib\\site-packages\\sklearn\\linear_model\\_coordinate_descent.py:695: ConvergenceWarning: Objective did not converge. You might want to increase the number of iterations, check the scale of the features or consider increasing regularisation. Duality gap: 2.219e+08, tolerance: 8.411e+04\n",
            "  model = cd_fast.enet_coordinate_descent(\n",
            "C:\\Users\\jacop\\anaconda3\\Lib\\site-packages\\sklearn\\linear_model\\_coordinate_descent.py:695: ConvergenceWarning: Objective did not converge. You might want to increase the number of iterations, check the scale of the features or consider increasing regularisation. Duality gap: 2.197e+08, tolerance: 8.378e+04\n",
            "  model = cd_fast.enet_coordinate_descent(\n"
          ]
        },
        {
          "name": "stdout",
          "output_type": "stream",
          "text": [
            "CPU times: total: 14min 26s\n",
            "Wall time: 5min 8s\n",
            "\n"
          ]
        },
        {
          "name": "stderr",
          "output_type": "stream",
          "text": [
            "C:\\Users\\jacop\\anaconda3\\Lib\\site-packages\\sklearn\\linear_model\\_coordinate_descent.py:695: ConvergenceWarning: Objective did not converge. You might want to increase the number of iterations, check the scale of the features or consider increasing regularisation. Duality gap: 4.172e+08, tolerance: 1.046e+05\n",
            "  model = cd_fast.enet_coordinate_descent(\n"
          ]
        }
      ],
      "source": [
        "%time gs.fit(X, y);\n",
        "print()"
      ]
    },
    {
      "cell_type": "code",
      "execution_count": null,
      "metadata": {
        "id": "vfRSNZkelViz"
      },
      "outputs": [],
      "source": [
        "get_estimator_scores(\"lasso_reg\", gs.best_estimator_)"
      ]
    },
    {
      "cell_type": "code",
      "execution_count": null,
      "metadata": {
        "id": "AJebrS-JlViz"
      },
      "outputs": [],
      "source": [
        "results = pd.DataFrame(gs.cv_results_)[[\"param_regr__alpha\", \"mean_test_score\"]]"
      ]
    },
    {
      "cell_type": "markdown",
      "metadata": {
        "id": "FvvKR_oGlViz"
      },
      "source": [
        "Mostriamo ora i risultati appena ottenuti graficandoli."
      ]
    },
    {
      "cell_type": "code",
      "execution_count": null,
      "metadata": {
        "colab": {
          "base_uri": "https://localhost:8080/"
        },
        "id": "PZZdd025lViz",
        "outputId": "941b1ad3-2b52-4ac0-f685-ca3536c984fd"
      },
      "outputs": [
        {
          "data": {
            "image/png": "[encoded data removed]",
            "text/plain": [
              "<Figure size 640x480 with 1 Axes>"
            ]
          },
          "metadata": {},
          "output_type": "display_data"
        }
      ],
      "source": [
        "plt.grid()\n",
        "plt.plot(results[\"param_regr__alpha\"], results[\"mean_test_score\"])\n",
        "plt.xscale('log')\n",
        "plt.xlabel('alpha')\n",
        "plt.ylabel('score')\n",
        "plt.title('Grafico al variare della regolarizzazione')\n",
        "plt.show()"
      ]
    },
    {
      "cell_type": "markdown",
      "metadata": {
        "id": "nzP2eOjLlVi0"
      },
      "source": [
        "Scegliamo il parametro minimo, ovvero 10<sup>-3</sup>, poichè otteniamo uno score massimo. Quindi concludiamo che aumentando la regolarizzazione LASSO peggiora il modello, perchè il vertice migliore dell'ipercubo è comunque troppo lontano dal minimo che si ottiene con i parametri ottimali di una regressione lineare senza regolarizzazione."
      ]
    },
    {
      "cell_type": "markdown",
      "metadata": {
        "id": "Mcl2wO-FlVi0"
      },
      "source": [
        "## Regressione Ridge\n",
        "Proviamo la regolarizzazione con feature polinomiali per ridurre un eventuale overfitting."
      ]
    },
    {
      "cell_type": "code",
      "execution_count": null,
      "metadata": {
        "id": "zUItTWw3lVi0"
      },
      "outputs": [],
      "source": [
        "model = Pipeline([\n",
        "    (\"preproc\", preprocessor),\n",
        "    (\"poly\",   PolynomialFeatures(degree=2, include_bias=False, interaction_only=True)),\n",
        "    (\"regr\", Ridge(alpha=1, max_iter=10000))\n",
        "])"
      ]
    },
    {
      "cell_type": "code",
      "execution_count": null,
      "metadata": {
        "colab": {
          "base_uri": "https://localhost:8080/"
        },
        "id": "8mqZrg_UlVi0",
        "outputId": "a5edb2f0-eac2-4f94-b79c-8e056388785d"
      },
      "outputs": [
        {
          "name": "stdout",
          "output_type": "stream",
          "text": [
            "CPU times: total: 297 ms\n",
            "Wall time: 192 ms\n"
          ]
        },
        {
          "data": {
            "text/html": [
              "<style>#sk-container-id-4 {\n",
              "  /* Definition of color scheme common for light and dark mode */\n",
              "  --sklearn-color-text: #000;\n",
              "  --sklearn-color-text-muted: #666;\n",
              "  --sklearn-color-line: gray;\n",
              "  /* Definition of color scheme for unfitted estimators */\n",
              "  --sklearn-color-unfitted-level-0: #fff5e6;\n",
              "  --sklearn-color-unfitted-level-1: #f6e4d2;\n",
              "  --sklearn-color-unfitted-level-2: #ffe0b3;\n",
              "  --sklearn-color-unfitted-level-3: chocolate;\n",
              "  /* Definition of color scheme for fitted estimators */\n",
              "  --sklearn-color-fitted-level-0: #f0f8ff;\n",
              "  --sklearn-color-fitted-level-1: #d4ebff;\n",
              "  --sklearn-color-fitted-level-2: #b3dbfd;\n",
              "  --sklearn-color-fitted-level-3: cornflowerblue;\n",
              "\n",
              "  /* Specific color for light theme */\n",
              "  --sklearn-color-text-on-default-background: var(--sg-text-color, var(--theme-code-foreground, var(--jp-content-font-color1, black)));\n",
              "  --sklearn-color-background: var(--sg-background-color, var(--theme-background, var(--jp-layout-color0, white)));\n",
              "  --sklearn-color-border-box: var(--sg-text-color, var(--theme-code-foreground, var(--jp-content-font-color1, black)));\n",
              "  --sklearn-color-icon: #696969;\n",
              "\n",
              "  @media (prefers-color-scheme: dark) {\n",
              "    /* Redefinition of color scheme for dark theme */\n",
              "    --sklearn-color-text-on-default-background: var(--sg-text-color, var(--theme-code-foreground, var(--jp-content-font-color1, white)));\n",
              "    --sklearn-color-background: var(--sg-background-color, var(--theme-background, var(--jp-layout-color0, #111)));\n",
              "    --sklearn-color-border-box: var(--sg-text-color, var(--theme-code-foreground, var(--jp-content-font-color1, white)));\n",
              "    --sklearn-color-icon: #878787;\n",
              "  }\n",
              "}\n",
              "\n",
              "#sk-container-id-4 {\n",
              "  color: var(--sklearn-color-text);\n",
              "}\n",
              "\n",
              "#sk-container-id-4 pre {\n",
              "  padding: 0;\n",
              "}\n",
              "\n",
              "#sk-container-id-4 input.sk-hidden--visually {\n",
              "  border: 0;\n",
              "  clip: rect(1px 1px 1px 1px);\n",
              "  clip: rect(1px, 1px, 1px, 1px);\n",
              "  height: 1px;\n",
              "  margin: -1px;\n",
              "  overflow: hidden;\n",
              "  padding: 0;\n",
              "  position: absolute;\n",
              "  width: 1px;\n",
              "}\n",
              "\n",
              "#sk-container-id-4 div.sk-dashed-wrapped {\n",
              "  border: 1px dashed var(--sklearn-color-line);\n",
              "  margin: 0 0.4em 0.5em 0.4em;\n",
              "  box-sizing: border-box;\n",
              "  padding-bottom: 0.4em;\n",
              "  background-color: var(--sklearn-color-background);\n",
              "}\n",
              "\n",
              "#sk-container-id-4 div.sk-container {\n",
              "  /* jupyter's `normalize.less` sets `[hidden] { display: none; }`\n",
              "     but bootstrap.min.css set `[hidden] { display: none !important; }`\n",
              "     so we also need the `!important` here to be able to override the\n",
              "     default hidden behavior on the sphinx rendered scikit-learn.org.\n",
              "     See: https://github.com/scikit-learn/scikit-learn/issues/21755 */\n",
              "  display: inline-block !important;\n",
              "  position: relative;\n",
              "}\n",
              "\n",
              "#sk-container-id-4 div.sk-text-repr-fallback {\n",
              "  display: none;\n",
              "}\n",
              "\n",
              "div.sk-parallel-item,\n",
              "div.sk-serial,\n",
              "div.sk-item {\n",
              "  /* draw centered vertical line to link estimators */\n",
              "  background-image: linear-gradient(var(--sklearn-color-text-on-default-background), var(--sklearn-color-text-on-default-background));\n",
              "  background-size: 2px 100%;\n",
              "  background-repeat: no-repeat;\n",
              "  background-position: center center;\n",
              "}\n",
              "\n",
              "/* Parallel-specific style estimator block */\n",
              "\n",
              "#sk-container-id-4 div.sk-parallel-item::after {\n",
              "  content: \"\";\n",
              "  width: 100%;\n",
              "  border-bottom: 2px solid var(--sklearn-color-text-on-default-background);\n",
              "  flex-grow: 1;\n",
              "}\n",
              "\n",
              "#sk-container-id-4 div.sk-parallel {\n",
              "  display: flex;\n",
              "  align-items: stretch;\n",
              "  justify-content: center;\n",
              "  background-color: var(--sklearn-color-background);\n",
              "  position: relative;\n",
              "}\n",
              "\n",
              "#sk-container-id-4 div.sk-parallel-item {\n",
              "  display: flex;\n",
              "  flex-direction: column;\n",
              "}\n",
              "\n",
              "#sk-container-id-4 div.sk-parallel-item:first-child::after {\n",
              "  align-self: flex-end;\n",
              "  width: 50%;\n",
              "}\n",
              "\n",
              "#sk-container-id-4 div.sk-parallel-item:last-child::after {\n",
              "  align-self: flex-start;\n",
              "  width: 50%;\n",
              "}\n",
              "\n",
              "#sk-container-id-4 div.sk-parallel-item:only-child::after {\n",
              "  width: 0;\n",
              "}\n",
              "\n",
              "/* Serial-specific style estimator block */\n",
              "\n",
              "#sk-container-id-4 div.sk-serial {\n",
              "  display: flex;\n",
              "  flex-direction: column;\n",
              "  align-items: center;\n",
              "  background-color: var(--sklearn-color-background);\n",
              "  padding-right: 1em;\n",
              "  padding-left: 1em;\n",
              "}\n",
              "\n",
              "\n",
              "/* Toggleable style: style used for estimator/Pipeline/ColumnTransformer box that is\n",
              "clickable and can be expanded/collapsed.\n",
              "- Pipeline and ColumnTransformer use this feature and define the default style\n",
              "- Estimators will overwrite some part of the style using the `sk-estimator` class\n",
              "*/\n",
              "\n",
              "/* Pipeline and ColumnTransformer style (default) */\n",
              "\n",
              "#sk-container-id-4 div.sk-toggleable {\n",
              "  /* Default theme specific background. It is overwritten whether we have a\n",
              "  specific estimator or a Pipeline/ColumnTransformer */\n",
              "  background-color: var(--sklearn-color-background);\n",
              "}\n",
              "\n",
              "/* Toggleable label */\n",
              "#sk-container-id-4 label.sk-toggleable__label {\n",
              "  cursor: pointer;\n",
              "  display: flex;\n",
              "  width: 100%;\n",
              "  margin-bottom: 0;\n",
              "  padding: 0.5em;\n",
              "  box-sizing: border-box;\n",
              "  text-align: center;\n",
              "  align-items: start;\n",
              "  justify-content: space-between;\n",
              "  gap: 0.5em;\n",
              "}\n",
              "\n",
              "#sk-container-id-4 label.sk-toggleable__label .caption {\n",
              "  font-size: 0.6rem;\n",
              "  font-weight: lighter;\n",
              "  color: var(--sklearn-color-text-muted);\n",
              "}\n",
              "\n",
              "#sk-container-id-4 label.sk-toggleable__label-arrow:before {\n",
              "  /* Arrow on the left of the label */\n",
              "  content: \"▸\";\n",
              "  float: left;\n",
              "  margin-right: 0.25em;\n",
              "  color: var(--sklearn-color-icon);\n",
              "}\n",
              "\n",
              "#sk-container-id-4 label.sk-toggleable__label-arrow:hover:before {\n",
              "  color: var(--sklearn-color-text);\n",
              "}\n",
              "\n",
              "/* Toggleable content - dropdown */\n",
              "\n",
              "#sk-container-id-4 div.sk-toggleable__content {\n",
              "  max-height: 0;\n",
              "  max-width: 0;\n",
              "  overflow: hidden;\n",
              "  text-align: left;\n",
              "  /* unfitted */\n",
              "  background-color: var(--sklearn-color-unfitted-level-0);\n",
              "}\n",
              "\n",
              "#sk-container-id-4 div.sk-toggleable__content.fitted {\n",
              "  /* fitted */\n",
              "  background-color: var(--sklearn-color-fitted-level-0);\n",
              "}\n",
              "\n",
              "#sk-container-id-4 div.sk-toggleable__content pre {\n",
              "  margin: 0.2em;\n",
              "  border-radius: 0.25em;\n",
              "  color: var(--sklearn-color-text);\n",
              "  /* unfitted */\n",
              "  background-color: var(--sklearn-color-unfitted-level-0);\n",
              "}\n",
              "\n",
              "#sk-container-id-4 div.sk-toggleable__content.fitted pre {\n",
              "  /* unfitted */\n",
              "  background-color: var(--sklearn-color-fitted-level-0);\n",
              "}\n",
              "\n",
              "#sk-container-id-4 input.sk-toggleable__control:checked~div.sk-toggleable__content {\n",
              "  /* Expand drop-down */\n",
              "  max-height: 200px;\n",
              "  max-width: 100%;\n",
              "  overflow: auto;\n",
              "}\n",
              "\n",
              "#sk-container-id-4 input.sk-toggleable__control:checked~label.sk-toggleable__label-arrow:before {\n",
              "  content: \"▾\";\n",
              "}\n",
              "\n",
              "/* Pipeline/ColumnTransformer-specific style */\n",
              "\n",
              "#sk-container-id-4 div.sk-label input.sk-toggleable__control:checked~label.sk-toggleable__label {\n",
              "  color: var(--sklearn-color-text);\n",
              "  background-color: var(--sklearn-color-unfitted-level-2);\n",
              "}\n",
              "\n",
              "#sk-container-id-4 div.sk-label.fitted input.sk-toggleable__control:checked~label.sk-toggleable__label {\n",
              "  background-color: var(--sklearn-color-fitted-level-2);\n",
              "}\n",
              "\n",
              "/* Estimator-specific style */\n",
              "\n",
              "/* Colorize estimator box */\n",
              "#sk-container-id-4 div.sk-estimator input.sk-toggleable__control:checked~label.sk-toggleable__label {\n",
              "  /* unfitted */\n",
              "  background-color: var(--sklearn-color-unfitted-level-2);\n",
              "}\n",
              "\n",
              "#sk-container-id-4 div.sk-estimator.fitted input.sk-toggleable__control:checked~label.sk-toggleable__label {\n",
              "  /* fitted */\n",
              "  background-color: var(--sklearn-color-fitted-level-2);\n",
              "}\n",
              "\n",
              "#sk-container-id-4 div.sk-label label.sk-toggleable__label,\n",
              "#sk-container-id-4 div.sk-label label {\n",
              "  /* The background is the default theme color */\n",
              "  color: var(--sklearn-color-text-on-default-background);\n",
              "}\n",
              "\n",
              "/* On hover, darken the color of the background */\n",
              "#sk-container-id-4 div.sk-label:hover label.sk-toggleable__label {\n",
              "  color: var(--sklearn-color-text);\n",
              "  background-color: var(--sklearn-color-unfitted-level-2);\n",
              "}\n",
              "\n",
              "/* Label box, darken color on hover, fitted */\n",
              "#sk-container-id-4 div.sk-label.fitted:hover label.sk-toggleable__label.fitted {\n",
              "  color: var(--sklearn-color-text);\n",
              "  background-color: var(--sklearn-color-fitted-level-2);\n",
              "}\n",
              "\n",
              "/* Estimator label */\n",
              "\n",
              "#sk-container-id-4 div.sk-label label {\n",
              "  font-family: monospace;\n",
              "  font-weight: bold;\n",
              "  display: inline-block;\n",
              "  line-height: 1.2em;\n",
              "}\n",
              "\n",
              "#sk-container-id-4 div.sk-label-container {\n",
              "  text-align: center;\n",
              "}\n",
              "\n",
              "/* Estimator-specific */\n",
              "#sk-container-id-4 div.sk-estimator {\n",
              "  font-family: monospace;\n",
              "  border: 1px dotted var(--sklearn-color-border-box);\n",
              "  border-radius: 0.25em;\n",
              "  box-sizing: border-box;\n",
              "  margin-bottom: 0.5em;\n",
              "  /* unfitted */\n",
              "  background-color: var(--sklearn-color-unfitted-level-0);\n",
              "}\n",
              "\n",
              "#sk-container-id-4 div.sk-estimator.fitted {\n",
              "  /* fitted */\n",
              "  background-color: var(--sklearn-color-fitted-level-0);\n",
              "}\n",
              "\n",
              "/* on hover */\n",
              "#sk-container-id-4 div.sk-estimator:hover {\n",
              "  /* unfitted */\n",
              "  background-color: var(--sklearn-color-unfitted-level-2);\n",
              "}\n",
              "\n",
              "#sk-container-id-4 div.sk-estimator.fitted:hover {\n",
              "  /* fitted */\n",
              "  background-color: var(--sklearn-color-fitted-level-2);\n",
              "}\n",
              "\n",
              "/* Specification for estimator info (e.g. \"i\" and \"?\") */\n",
              "\n",
              "/* Common style for \"i\" and \"?\" */\n",
              "\n",
              ".sk-estimator-doc-link,\n",
              "a:link.sk-estimator-doc-link,\n",
              "a:visited.sk-estimator-doc-link {\n",
              "  float: right;\n",
              "  font-size: smaller;\n",
              "  line-height: 1em;\n",
              "  font-family: monospace;\n",
              "  background-color: var(--sklearn-color-background);\n",
              "  border-radius: 1em;\n",
              "  height: 1em;\n",
              "  width: 1em;\n",
              "  text-decoration: none !important;\n",
              "  margin-left: 0.5em;\n",
              "  text-align: center;\n",
              "  /* unfitted */\n",
              "  border: var(--sklearn-color-unfitted-level-1) 1pt solid;\n",
              "  color: var(--sklearn-color-unfitted-level-1);\n",
              "}\n",
              "\n",
              ".sk-estimator-doc-link.fitted,\n",
              "a:link.sk-estimator-doc-link.fitted,\n",
              "a:visited.sk-estimator-doc-link.fitted {\n",
              "  /* fitted */\n",
              "  border: var(--sklearn-color-fitted-level-1) 1pt solid;\n",
              "  color: var(--sklearn-color-fitted-level-1);\n",
              "}\n",
              "\n",
              "/* On hover */\n",
              "div.sk-estimator:hover .sk-estimator-doc-link:hover,\n",
              ".sk-estimator-doc-link:hover,\n",
              "div.sk-label-container:hover .sk-estimator-doc-link:hover,\n",
              ".sk-estimator-doc-link:hover {\n",
              "  /* unfitted */\n",
              "  background-color: var(--sklearn-color-unfitted-level-3);\n",
              "  color: var(--sklearn-color-background);\n",
              "  text-decoration: none;\n",
              "}\n",
              "\n",
              "div.sk-estimator.fitted:hover .sk-estimator-doc-link.fitted:hover,\n",
              ".sk-estimator-doc-link.fitted:hover,\n",
              "div.sk-label-container:hover .sk-estimator-doc-link.fitted:hover,\n",
              ".sk-estimator-doc-link.fitted:hover {\n",
              "  /* fitted */\n",
              "  background-color: var(--sklearn-color-fitted-level-3);\n",
              "  color: var(--sklearn-color-background);\n",
              "  text-decoration: none;\n",
              "}\n",
              "\n",
              "/* Span, style for the box shown on hovering the info icon */\n",
              ".sk-estimator-doc-link span {\n",
              "  display: none;\n",
              "  z-index: 9999;\n",
              "  position: relative;\n",
              "  font-weight: normal;\n",
              "  right: .2ex;\n",
              "  padding: .5ex;\n",
              "  margin: .5ex;\n",
              "  width: min-content;\n",
              "  min-width: 20ex;\n",
              "  max-width: 50ex;\n",
              "  color: var(--sklearn-color-text);\n",
              "  box-shadow: 2pt 2pt 4pt #999;\n",
              "  /* unfitted */\n",
              "  background: var(--sklearn-color-unfitted-level-0);\n",
              "  border: .5pt solid var(--sklearn-color-unfitted-level-3);\n",
              "}\n",
              "\n",
              ".sk-estimator-doc-link.fitted span {\n",
              "  /* fitted */\n",
              "  background: var(--sklearn-color-fitted-level-0);\n",
              "  border: var(--sklearn-color-fitted-level-3);\n",
              "}\n",
              "\n",
              ".sk-estimator-doc-link:hover span {\n",
              "  display: block;\n",
              "}\n",
              "\n",
              "/* \"?\"-specific style due to the `<a>` HTML tag */\n",
              "\n",
              "#sk-container-id-4 a.estimator_doc_link {\n",
              "  float: right;\n",
              "  font-size: 1rem;\n",
              "  line-height: 1em;\n",
              "  font-family: monospace;\n",
              "  background-color: var(--sklearn-color-background);\n",
              "  border-radius: 1rem;\n",
              "  height: 1rem;\n",
              "  width: 1rem;\n",
              "  text-decoration: none;\n",
              "  /* unfitted */\n",
              "  color: var(--sklearn-color-unfitted-level-1);\n",
              "  border: var(--sklearn-color-unfitted-level-1) 1pt solid;\n",
              "}\n",
              "\n",
              "#sk-container-id-4 a.estimator_doc_link.fitted {\n",
              "  /* fitted */\n",
              "  border: var(--sklearn-color-fitted-level-1) 1pt solid;\n",
              "  color: var(--sklearn-color-fitted-level-1);\n",
              "}\n",
              "\n",
              "/* On hover */\n",
              "#sk-container-id-4 a.estimator_doc_link:hover {\n",
              "  /* unfitted */\n",
              "  background-color: var(--sklearn-color-unfitted-level-3);\n",
              "  color: var(--sklearn-color-background);\n",
              "  text-decoration: none;\n",
              "}\n",
              "\n",
              "#sk-container-id-4 a.estimator_doc_link.fitted:hover {\n",
              "  /* fitted */\n",
              "  background-color: var(--sklearn-color-fitted-level-3);\n",
              "}\n",
              "</style><div id=\"sk-container-id-4\" class=\"sk-top-container\"><div class=\"sk-text-repr-fallback\"><pre>Pipeline(steps=[(&#x27;preproc&#x27;,\n",
              "                 ColumnTransformer(transformers=[(&#x27;numeric&#x27;, StandardScaler(),\n",
              "                                                  [&#x27;hour&#x27;, &#x27;dayofmonth&#x27;,\n",
              "                                                   &#x27;dayofweek&#x27;, &#x27;dayofyear&#x27;,\n",
              "                                                   &#x27;weekofyear&#x27;, &#x27;month&#x27;,\n",
              "                                                   &#x27;quarter&#x27;, &#x27;year&#x27;,\n",
              "                                                   &#x27;pm_lag_1Y&#x27;,\n",
              "                                                   &#x27;pm_lag_2Y&#x27;])])),\n",
              "                (&#x27;poly&#x27;,\n",
              "                 PolynomialFeatures(include_bias=False, interaction_only=True)),\n",
              "                (&#x27;regr&#x27;, Ridge(alpha=1, max_iter=10000))])</pre><b>In a Jupyter environment, please rerun this cell to show the HTML representation or trust the notebook. <br />On GitHub, the HTML representation is unable to render, please try loading this page with nbviewer.org.</b></div><div class=\"sk-container\" hidden><div class=\"sk-item sk-dashed-wrapped\"><div class=\"sk-label-container\"><div class=\"sk-label fitted sk-toggleable\"><input class=\"sk-toggleable__control sk-hidden--visually\" id=\"sk-estimator-id-8\" type=\"checkbox\" ><label for=\"sk-estimator-id-8\" class=\"sk-toggleable__label fitted sk-toggleable__label-arrow\"><div><div>Pipeline</div></div><div><a class=\"sk-estimator-doc-link fitted\" rel=\"noreferrer\" target=\"_blank\" href=\"https://scikit-learn.org/1.6/modules/generated/sklearn.pipeline.Pipeline.html\">?<span>Documentation for Pipeline</span></a><span class=\"sk-estimator-doc-link fitted\">i<span>Fitted</span></span></div></label><div class=\"sk-toggleable__content fitted\"><pre>Pipeline(steps=[(&#x27;preproc&#x27;,\n",
              "                 ColumnTransformer(transformers=[(&#x27;numeric&#x27;, StandardScaler(),\n",
              "                                                  [&#x27;hour&#x27;, &#x27;dayofmonth&#x27;,\n",
              "                                                   &#x27;dayofweek&#x27;, &#x27;dayofyear&#x27;,\n",
              "                                                   &#x27;weekofyear&#x27;, &#x27;month&#x27;,\n",
              "                                                   &#x27;quarter&#x27;, &#x27;year&#x27;,\n",
              "                                                   &#x27;pm_lag_1Y&#x27;,\n",
              "                                                   &#x27;pm_lag_2Y&#x27;])])),\n",
              "                (&#x27;poly&#x27;,\n",
              "                 PolynomialFeatures(include_bias=False, interaction_only=True)),\n",
              "                (&#x27;regr&#x27;, Ridge(alpha=1, max_iter=10000))])</pre></div> </div></div><div class=\"sk-serial\"><div class=\"sk-item sk-dashed-wrapped\"><div class=\"sk-label-container\"><div class=\"sk-label fitted sk-toggleable\"><input class=\"sk-toggleable__control sk-hidden--visually\" id=\"sk-estimator-id-9\" type=\"checkbox\" ><label for=\"sk-estimator-id-9\" class=\"sk-toggleable__label fitted sk-toggleable__label-arrow\"><div><div>preproc: ColumnTransformer</div></div><div><a class=\"sk-estimator-doc-link fitted\" rel=\"noreferrer\" target=\"_blank\" href=\"https://scikit-learn.org/1.6/modules/generated/sklearn.compose.ColumnTransformer.html\">?<span>Documentation for preproc: ColumnTransformer</span></a></div></label><div class=\"sk-toggleable__content fitted\"><pre>ColumnTransformer(transformers=[(&#x27;numeric&#x27;, StandardScaler(),\n",
              "                                 [&#x27;hour&#x27;, &#x27;dayofmonth&#x27;, &#x27;dayofweek&#x27;,\n",
              "                                  &#x27;dayofyear&#x27;, &#x27;weekofyear&#x27;, &#x27;month&#x27;, &#x27;quarter&#x27;,\n",
              "                                  &#x27;year&#x27;, &#x27;pm_lag_1Y&#x27;, &#x27;pm_lag_2Y&#x27;])])</pre></div> </div></div><div class=\"sk-parallel\"><div class=\"sk-parallel-item\"><div class=\"sk-item\"><div class=\"sk-label-container\"><div class=\"sk-label fitted sk-toggleable\"><input class=\"sk-toggleable__control sk-hidden--visually\" id=\"sk-estimator-id-10\" type=\"checkbox\" ><label for=\"sk-estimator-id-10\" class=\"sk-toggleable__label fitted sk-toggleable__label-arrow\"><div><div>numeric</div></div></label><div class=\"sk-toggleable__content fitted\"><pre>[&#x27;hour&#x27;, &#x27;dayofmonth&#x27;, &#x27;dayofweek&#x27;, &#x27;dayofyear&#x27;, &#x27;weekofyear&#x27;, &#x27;month&#x27;, &#x27;quarter&#x27;, &#x27;year&#x27;, &#x27;pm_lag_1Y&#x27;, &#x27;pm_lag_2Y&#x27;]</pre></div> </div></div><div class=\"sk-serial\"><div class=\"sk-item\"><div class=\"sk-estimator fitted sk-toggleable\"><input class=\"sk-toggleable__control sk-hidden--visually\" id=\"sk-estimator-id-11\" type=\"checkbox\" ><label for=\"sk-estimator-id-11\" class=\"sk-toggleable__label fitted sk-toggleable__label-arrow\"><div><div>StandardScaler</div></div><div><a class=\"sk-estimator-doc-link fitted\" rel=\"noreferrer\" target=\"_blank\" href=\"https://scikit-learn.org/1.6/modules/generated/sklearn.preprocessing.StandardScaler.html\">?<span>Documentation for StandardScaler</span></a></div></label><div class=\"sk-toggleable__content fitted\"><pre>StandardScaler()</pre></div> </div></div></div></div></div></div></div><div class=\"sk-item\"><div class=\"sk-estimator fitted sk-toggleable\"><input class=\"sk-toggleable__control sk-hidden--visually\" id=\"sk-estimator-id-12\" type=\"checkbox\" ><label for=\"sk-estimator-id-12\" class=\"sk-toggleable__label fitted sk-toggleable__label-arrow\"><div><div>PolynomialFeatures</div></div><div><a class=\"sk-estimator-doc-link fitted\" rel=\"noreferrer\" target=\"_blank\" href=\"https://scikit-learn.org/1.6/modules/generated/sklearn.preprocessing.PolynomialFeatures.html\">?<span>Documentation for PolynomialFeatures</span></a></div></label><div class=\"sk-toggleable__content fitted\"><pre>PolynomialFeatures(include_bias=False, interaction_only=True)</pre></div> </div></div><div class=\"sk-item\"><div class=\"sk-estimator fitted sk-toggleable\"><input class=\"sk-toggleable__control sk-hidden--visually\" id=\"sk-estimator-id-13\" type=\"checkbox\" ><label for=\"sk-estimator-id-13\" class=\"sk-toggleable__label fitted sk-toggleable__label-arrow\"><div><div>Ridge</div></div><div><a class=\"sk-estimator-doc-link fitted\" rel=\"noreferrer\" target=\"_blank\" href=\"https://scikit-learn.org/1.6/modules/generated/sklearn.linear_model.Ridge.html\">?<span>Documentation for Ridge</span></a></div></label><div class=\"sk-toggleable__content fitted\"><pre>Ridge(alpha=1, max_iter=10000)</pre></div> </div></div></div></div></div></div>"
            ],
            "text/plain": [
              "Pipeline(steps=[('preproc',\n",
              "                 ColumnTransformer(transformers=[('numeric', StandardScaler(),\n",
              "                                                  ['hour', 'dayofmonth',\n",
              "                                                   'dayofweek', 'dayofyear',\n",
              "                                                   'weekofyear', 'month',\n",
              "                                                   'quarter', 'year',\n",
              "                                                   'pm_lag_1Y',\n",
              "                                                   'pm_lag_2Y'])])),\n",
              "                ('poly',\n",
              "                 PolynomialFeatures(include_bias=False, interaction_only=True)),\n",
              "                ('regr', Ridge(alpha=1, max_iter=10000))])"
            ]
          },
          "execution_count": 110,
          "metadata": {},
          "output_type": "execute_result"
        }
      ],
      "source": [
        "%time model.fit(X_train, y_train)"
      ]
    },
    {
      "cell_type": "markdown",
      "metadata": {
        "id": "7CqjLtbdlVi0"
      },
      "source": [
        "### Grid Search per l'iperparametro della Ridge"
      ]
    },
    {
      "cell_type": "code",
      "execution_count": null,
      "metadata": {
        "id": "SgQaK1ijlVi2"
      },
      "outputs": [],
      "source": [
        "alphas = np.logspace(-2, 3, num=6)\n",
        "grid = {\"regr__alpha\": alphas}\n",
        "gs = GridSearchCV(model, grid, cv=kf)"
      ]
    },
    {
      "cell_type": "code",
      "execution_count": null,
      "metadata": {
        "colab": {
          "base_uri": "https://localhost:8080/"
        },
        "id": "mvC3I0kzlVi2",
        "outputId": "945dc5cc-9701-48f4-cf72-0823e813c669"
      },
      "outputs": [
        {
          "name": "stdout",
          "output_type": "stream",
          "text": [
            "CPU times: total: 8.73 s\n",
            "Wall time: 7.34 s\n",
            "\n"
          ]
        }
      ],
      "source": [
        "%time gs.fit(X, y)\n",
        "print()"
      ]
    },
    {
      "cell_type": "code",
      "execution_count": null,
      "metadata": {
        "id": "0nqLv4gglVi2"
      },
      "outputs": [],
      "source": [
        "get_estimator_scores(\"ridge_reg\", gs.best_estimator_)"
      ]
    },
    {
      "cell_type": "code",
      "execution_count": null,
      "metadata": {
        "id": "JJEkBHpTlVi2"
      },
      "outputs": [],
      "source": [
        "results = pd.DataFrame(gs.cv_results_)[[\"param_regr__alpha\", \"mean_test_score\"]]"
      ]
    },
    {
      "cell_type": "markdown",
      "metadata": {
        "id": "pIsJLvOjlVi2"
      },
      "source": [
        "Mostriamo ora i risultati appena ottenuti graficandoli."
      ]
    },
    {
      "cell_type": "code",
      "execution_count": null,
      "metadata": {
        "colab": {
          "base_uri": "https://localhost:8080/"
        },
        "id": "LdyidkgYlVi3",
        "outputId": "e9d758a9-c2a1-4bfa-8ad6-67ea5c312689"
      },
      "outputs": [
        {
          "data": {
            "image/png": "[encoded data removed]",
            "text/plain": [
              "<Figure size 640x480 with 1 Axes>"
            ]
          },
          "metadata": {},
          "output_type": "display_data"
        }
      ],
      "source": [
        "plt.grid()\n",
        "plt.plot(results[\"param_regr__alpha\"], results[\"mean_test_score\"])\n",
        "plt.xscale('log')\n",
        "plt.xlabel('alpha')\n",
        "plt.ylabel('score')\n",
        "plt.title('Grafico al variare della regolarizzazione')\n",
        "plt.show()"
      ]
    },
    {
      "cell_type": "markdown",
      "metadata": {
        "id": "9yZ86qxrlVi3"
      },
      "source": [
        "La regolarizzazione applicata a feature polinomiali permette di individuare lo score massimo, in modo da evitare l'overfitting senza perdere di generalità. <br>\n",
        "Lo score massimo si trova in corrispondenza di `alpha` = 10. Come si può vedere dal grafico, si ottengono score migliori quando la regolarizzazione è presente, ma non eccessiva."
      ]
    },
    {
      "cell_type": "markdown",
      "metadata": {
        "id": "aXwTWsC2lVi3"
      },
      "source": [
        "## Regressione Elastic Net\n",
        "Questa regressione unisce la regolarizzazione LASSO e la regolarizzazione Ridge."
      ]
    },
    {
      "cell_type": "code",
      "execution_count": null,
      "metadata": {
        "id": "NE5PXsuelVi3"
      },
      "outputs": [],
      "source": [
        "model = Pipeline([\n",
        "    (\"preproc\", preprocessor),\n",
        "    (\"poly\",   PolynomialFeatures(degree=2, include_bias=False, interaction_only=True)),\n",
        "    (\"regr\", ElasticNet(alpha=0.2, l1_ratio=0.1))\n",
        "])"
      ]
    },
    {
      "cell_type": "code",
      "execution_count": null,
      "metadata": {
        "colab": {
          "base_uri": "https://localhost:8080/",
          "height": 340
        },
        "id": "vD_KhUiylVi3",
        "outputId": "a5f6a426-e96c-4509-88e2-55aad4c8085a"
      },
      "outputs": [
        {
          "name": "stdout",
          "output_type": "stream",
          "text": [
            "CPU times: total: 4.3 s\n",
            "Wall time: 2.35 s\n"
          ]
        },
        {
          "data": {
            "text/html": [
              "<style>#sk-container-id-5 {\n",
              "  /* Definition of color scheme common for light and dark mode */\n",
              "  --sklearn-color-text: #000;\n",
              "  --sklearn-color-text-muted: #666;\n",
              "  --sklearn-color-line: gray;\n",
              "  /* Definition of color scheme for unfitted estimators */\n",
              "  --sklearn-color-unfitted-level-0: #fff5e6;\n",
              "  --sklearn-color-unfitted-level-1: #f6e4d2;\n",
              "  --sklearn-color-unfitted-level-2: #ffe0b3;\n",
              "  --sklearn-color-unfitted-level-3: chocolate;\n",
              "  /* Definition of color scheme for fitted estimators */\n",
              "  --sklearn-color-fitted-level-0: #f0f8ff;\n",
              "  --sklearn-color-fitted-level-1: #d4ebff;\n",
              "  --sklearn-color-fitted-level-2: #b3dbfd;\n",
              "  --sklearn-color-fitted-level-3: cornflowerblue;\n",
              "\n",
              "  /* Specific color for light theme */\n",
              "  --sklearn-color-text-on-default-background: var(--sg-text-color, var(--theme-code-foreground, var(--jp-content-font-color1, black)));\n",
              "  --sklearn-color-background: var(--sg-background-color, var(--theme-background, var(--jp-layout-color0, white)));\n",
              "  --sklearn-color-border-box: var(--sg-text-color, var(--theme-code-foreground, var(--jp-content-font-color1, black)));\n",
              "  --sklearn-color-icon: #696969;\n",
              "\n",
              "  @media (prefers-color-scheme: dark) {\n",
              "    /* Redefinition of color scheme for dark theme */\n",
              "    --sklearn-color-text-on-default-background: var(--sg-text-color, var(--theme-code-foreground, var(--jp-content-font-color1, white)));\n",
              "    --sklearn-color-background: var(--sg-background-color, var(--theme-background, var(--jp-layout-color0, #111)));\n",
              "    --sklearn-color-border-box: var(--sg-text-color, var(--theme-code-foreground, var(--jp-content-font-color1, white)));\n",
              "    --sklearn-color-icon: #878787;\n",
              "  }\n",
              "}\n",
              "\n",
              "#sk-container-id-5 {\n",
              "  color: var(--sklearn-color-text);\n",
              "}\n",
              "\n",
              "#sk-container-id-5 pre {\n",
              "  padding: 0;\n",
              "}\n",
              "\n",
              "#sk-container-id-5 input.sk-hidden--visually {\n",
              "  border: 0;\n",
              "  clip: rect(1px 1px 1px 1px);\n",
              "  clip: rect(1px, 1px, 1px, 1px);\n",
              "  height: 1px;\n",
              "  margin: -1px;\n",
              "  overflow: hidden;\n",
              "  padding: 0;\n",
              "  position: absolute;\n",
              "  width: 1px;\n",
              "}\n",
              "\n",
              "#sk-container-id-5 div.sk-dashed-wrapped {\n",
              "  border: 1px dashed var(--sklearn-color-line);\n",
              "  margin: 0 0.4em 0.5em 0.4em;\n",
              "  box-sizing: border-box;\n",
              "  padding-bottom: 0.4em;\n",
              "  background-color: var(--sklearn-color-background);\n",
              "}\n",
              "\n",
              "#sk-container-id-5 div.sk-container {\n",
              "  /* jupyter's `normalize.less` sets `[hidden] { display: none; }`\n",
              "     but bootstrap.min.css set `[hidden] { display: none !important; }`\n",
              "     so we also need the `!important` here to be able to override the\n",
              "     default hidden behavior on the sphinx rendered scikit-learn.org.\n",
              "     See: https://github.com/scikit-learn/scikit-learn/issues/21755 */\n",
              "  display: inline-block !important;\n",
              "  position: relative;\n",
              "}\n",
              "\n",
              "#sk-container-id-5 div.sk-text-repr-fallback {\n",
              "  display: none;\n",
              "}\n",
              "\n",
              "div.sk-parallel-item,\n",
              "div.sk-serial,\n",
              "div.sk-item {\n",
              "  /* draw centered vertical line to link estimators */\n",
              "  background-image: linear-gradient(var(--sklearn-color-text-on-default-background), var(--sklearn-color-text-on-default-background));\n",
              "  background-size: 2px 100%;\n",
              "  background-repeat: no-repeat;\n",
              "  background-position: center center;\n",
              "}\n",
              "\n",
              "/* Parallel-specific style estimator block */\n",
              "\n",
              "#sk-container-id-5 div.sk-parallel-item::after {\n",
              "  content: \"\";\n",
              "  width: 100%;\n",
              "  border-bottom: 2px solid var(--sklearn-color-text-on-default-background);\n",
              "  flex-grow: 1;\n",
              "}\n",
              "\n",
              "#sk-container-id-5 div.sk-parallel {\n",
              "  display: flex;\n",
              "  align-items: stretch;\n",
              "  justify-content: center;\n",
              "  background-color: var(--sklearn-color-background);\n",
              "  position: relative;\n",
              "}\n",
              "\n",
              "#sk-container-id-5 div.sk-parallel-item {\n",
              "  display: flex;\n",
              "  flex-direction: column;\n",
              "}\n",
              "\n",
              "#sk-container-id-5 div.sk-parallel-item:first-child::after {\n",
              "  align-self: flex-end;\n",
              "  width: 50%;\n",
              "}\n",
              "\n",
              "#sk-container-id-5 div.sk-parallel-item:last-child::after {\n",
              "  align-self: flex-start;\n",
              "  width: 50%;\n",
              "}\n",
              "\n",
              "#sk-container-id-5 div.sk-parallel-item:only-child::after {\n",
              "  width: 0;\n",
              "}\n",
              "\n",
              "/* Serial-specific style estimator block */\n",
              "\n",
              "#sk-container-id-5 div.sk-serial {\n",
              "  display: flex;\n",
              "  flex-direction: column;\n",
              "  align-items: center;\n",
              "  background-color: var(--sklearn-color-background);\n",
              "  padding-right: 1em;\n",
              "  padding-left: 1em;\n",
              "}\n",
              "\n",
              "\n",
              "/* Toggleable style: style used for estimator/Pipeline/ColumnTransformer box that is\n",
              "clickable and can be expanded/collapsed.\n",
              "- Pipeline and ColumnTransformer use this feature and define the default style\n",
              "- Estimators will overwrite some part of the style using the `sk-estimator` class\n",
              "*/\n",
              "\n",
              "/* Pipeline and ColumnTransformer style (default) */\n",
              "\n",
              "#sk-container-id-5 div.sk-toggleable {\n",
              "  /* Default theme specific background. It is overwritten whether we have a\n",
              "  specific estimator or a Pipeline/ColumnTransformer */\n",
              "  background-color: var(--sklearn-color-background);\n",
              "}\n",
              "\n",
              "/* Toggleable label */\n",
              "#sk-container-id-5 label.sk-toggleable__label {\n",
              "  cursor: pointer;\n",
              "  display: flex;\n",
              "  width: 100%;\n",
              "  margin-bottom: 0;\n",
              "  padding: 0.5em;\n",
              "  box-sizing: border-box;\n",
              "  text-align: center;\n",
              "  align-items: start;\n",
              "  justify-content: space-between;\n",
              "  gap: 0.5em;\n",
              "}\n",
              "\n",
              "#sk-container-id-5 label.sk-toggleable__label .caption {\n",
              "  font-size: 0.6rem;\n",
              "  font-weight: lighter;\n",
              "  color: var(--sklearn-color-text-muted);\n",
              "}\n",
              "\n",
              "#sk-container-id-5 label.sk-toggleable__label-arrow:before {\n",
              "  /* Arrow on the left of the label */\n",
              "  content: \"▸\";\n",
              "  float: left;\n",
              "  margin-right: 0.25em;\n",
              "  color: var(--sklearn-color-icon);\n",
              "}\n",
              "\n",
              "#sk-container-id-5 label.sk-toggleable__label-arrow:hover:before {\n",
              "  color: var(--sklearn-color-text);\n",
              "}\n",
              "\n",
              "/* Toggleable content - dropdown */\n",
              "\n",
              "#sk-container-id-5 div.sk-toggleable__content {\n",
              "  max-height: 0;\n",
              "  max-width: 0;\n",
              "  overflow: hidden;\n",
              "  text-align: left;\n",
              "  /* unfitted */\n",
              "  background-color: var(--sklearn-color-unfitted-level-0);\n",
              "}\n",
              "\n",
              "#sk-container-id-5 div.sk-toggleable__content.fitted {\n",
              "  /* fitted */\n",
              "  background-color: var(--sklearn-color-fitted-level-0);\n",
              "}\n",
              "\n",
              "#sk-container-id-5 div.sk-toggleable__content pre {\n",
              "  margin: 0.2em;\n",
              "  border-radius: 0.25em;\n",
              "  color: var(--sklearn-color-text);\n",
              "  /* unfitted */\n",
              "  background-color: var(--sklearn-color-unfitted-level-0);\n",
              "}\n",
              "\n",
              "#sk-container-id-5 div.sk-toggleable__content.fitted pre {\n",
              "  /* unfitted */\n",
              "  background-color: var(--sklearn-color-fitted-level-0);\n",
              "}\n",
              "\n",
              "#sk-container-id-5 input.sk-toggleable__control:checked~div.sk-toggleable__content {\n",
              "  /* Expand drop-down */\n",
              "  max-height: 200px;\n",
              "  max-width: 100%;\n",
              "  overflow: auto;\n",
              "}\n",
              "\n",
              "#sk-container-id-5 input.sk-toggleable__control:checked~label.sk-toggleable__label-arrow:before {\n",
              "  content: \"▾\";\n",
              "}\n",
              "\n",
              "/* Pipeline/ColumnTransformer-specific style */\n",
              "\n",
              "#sk-container-id-5 div.sk-label input.sk-toggleable__control:checked~label.sk-toggleable__label {\n",
              "  color: var(--sklearn-color-text);\n",
              "  background-color: var(--sklearn-color-unfitted-level-2);\n",
              "}\n",
              "\n",
              "#sk-container-id-5 div.sk-label.fitted input.sk-toggleable__control:checked~label.sk-toggleable__label {\n",
              "  background-color: var(--sklearn-color-fitted-level-2);\n",
              "}\n",
              "\n",
              "/* Estimator-specific style */\n",
              "\n",
              "/* Colorize estimator box */\n",
              "#sk-container-id-5 div.sk-estimator input.sk-toggleable__control:checked~label.sk-toggleable__label {\n",
              "  /* unfitted */\n",
              "  background-color: var(--sklearn-color-unfitted-level-2);\n",
              "}\n",
              "\n",
              "#sk-container-id-5 div.sk-estimator.fitted input.sk-toggleable__control:checked~label.sk-toggleable__label {\n",
              "  /* fitted */\n",
              "  background-color: var(--sklearn-color-fitted-level-2);\n",
              "}\n",
              "\n",
              "#sk-container-id-5 div.sk-label label.sk-toggleable__label,\n",
              "#sk-container-id-5 div.sk-label label {\n",
              "  /* The background is the default theme color */\n",
              "  color: var(--sklearn-color-text-on-default-background);\n",
              "}\n",
              "\n",
              "/* On hover, darken the color of the background */\n",
              "#sk-container-id-5 div.sk-label:hover label.sk-toggleable__label {\n",
              "  color: var(--sklearn-color-text);\n",
              "  background-color: var(--sklearn-color-unfitted-level-2);\n",
              "}\n",
              "\n",
              "/* Label box, darken color on hover, fitted */\n",
              "#sk-container-id-5 div.sk-label.fitted:hover label.sk-toggleable__label.fitted {\n",
              "  color: var(--sklearn-color-text);\n",
              "  background-color: var(--sklearn-color-fitted-level-2);\n",
              "}\n",
              "\n",
              "/* Estimator label */\n",
              "\n",
              "#sk-container-id-5 div.sk-label label {\n",
              "  font-family: monospace;\n",
              "  font-weight: bold;\n",
              "  display: inline-block;\n",
              "  line-height: 1.2em;\n",
              "}\n",
              "\n",
              "#sk-container-id-5 div.sk-label-container {\n",
              "  text-align: center;\n",
              "}\n",
              "\n",
              "/* Estimator-specific */\n",
              "#sk-container-id-5 div.sk-estimator {\n",
              "  font-family: monospace;\n",
              "  border: 1px dotted var(--sklearn-color-border-box);\n",
              "  border-radius: 0.25em;\n",
              "  box-sizing: border-box;\n",
              "  margin-bottom: 0.5em;\n",
              "  /* unfitted */\n",
              "  background-color: var(--sklearn-color-unfitted-level-0);\n",
              "}\n",
              "\n",
              "#sk-container-id-5 div.sk-estimator.fitted {\n",
              "  /* fitted */\n",
              "  background-color: var(--sklearn-color-fitted-level-0);\n",
              "}\n",
              "\n",
              "/* on hover */\n",
              "#sk-container-id-5 div.sk-estimator:hover {\n",
              "  /* unfitted */\n",
              "  background-color: var(--sklearn-color-unfitted-level-2);\n",
              "}\n",
              "\n",
              "#sk-container-id-5 div.sk-estimator.fitted:hover {\n",
              "  /* fitted */\n",
              "  background-color: var(--sklearn-color-fitted-level-2);\n",
              "}\n",
              "\n",
              "/* Specification for estimator info (e.g. \"i\" and \"?\") */\n",
              "\n",
              "/* Common style for \"i\" and \"?\" */\n",
              "\n",
              ".sk-estimator-doc-link,\n",
              "a:link.sk-estimator-doc-link,\n",
              "a:visited.sk-estimator-doc-link {\n",
              "  float: right;\n",
              "  font-size: smaller;\n",
              "  line-height: 1em;\n",
              "  font-family: monospace;\n",
              "  background-color: var(--sklearn-color-background);\n",
              "  border-radius: 1em;\n",
              "  height: 1em;\n",
              "  width: 1em;\n",
              "  text-decoration: none !important;\n",
              "  margin-left: 0.5em;\n",
              "  text-align: center;\n",
              "  /* unfitted */\n",
              "  border: var(--sklearn-color-unfitted-level-1) 1pt solid;\n",
              "  color: var(--sklearn-color-unfitted-level-1);\n",
              "}\n",
              "\n",
              ".sk-estimator-doc-link.fitted,\n",
              "a:link.sk-estimator-doc-link.fitted,\n",
              "a:visited.sk-estimator-doc-link.fitted {\n",
              "  /* fitted */\n",
              "  border: var(--sklearn-color-fitted-level-1) 1pt solid;\n",
              "  color: var(--sklearn-color-fitted-level-1);\n",
              "}\n",
              "\n",
              "/* On hover */\n",
              "div.sk-estimator:hover .sk-estimator-doc-link:hover,\n",
              ".sk-estimator-doc-link:hover,\n",
              "div.sk-label-container:hover .sk-estimator-doc-link:hover,\n",
              ".sk-estimator-doc-link:hover {\n",
              "  /* unfitted */\n",
              "  background-color: var(--sklearn-color-unfitted-level-3);\n",
              "  color: var(--sklearn-color-background);\n",
              "  text-decoration: none;\n",
              "}\n",
              "\n",
              "div.sk-estimator.fitted:hover .sk-estimator-doc-link.fitted:hover,\n",
              ".sk-estimator-doc-link.fitted:hover,\n",
              "div.sk-label-container:hover .sk-estimator-doc-link.fitted:hover,\n",
              ".sk-estimator-doc-link.fitted:hover {\n",
              "  /* fitted */\n",
              "  background-color: var(--sklearn-color-fitted-level-3);\n",
              "  color: var(--sklearn-color-background);\n",
              "  text-decoration: none;\n",
              "}\n",
              "\n",
              "/* Span, style for the box shown on hovering the info icon */\n",
              ".sk-estimator-doc-link span {\n",
              "  display: none;\n",
              "  z-index: 9999;\n",
              "  position: relative;\n",
              "  font-weight: normal;\n",
              "  right: .2ex;\n",
              "  padding: .5ex;\n",
              "  margin: .5ex;\n",
              "  width: min-content;\n",
              "  min-width: 20ex;\n",
              "  max-width: 50ex;\n",
              "  color: var(--sklearn-color-text);\n",
              "  box-shadow: 2pt 2pt 4pt #999;\n",
              "  /* unfitted */\n",
              "  background: var(--sklearn-color-unfitted-level-0);\n",
              "  border: .5pt solid var(--sklearn-color-unfitted-level-3);\n",
              "}\n",
              "\n",
              ".sk-estimator-doc-link.fitted span {\n",
              "  /* fitted */\n",
              "  background: var(--sklearn-color-fitted-level-0);\n",
              "  border: var(--sklearn-color-fitted-level-3);\n",
              "}\n",
              "\n",
              ".sk-estimator-doc-link:hover span {\n",
              "  display: block;\n",
              "}\n",
              "\n",
              "/* \"?\"-specific style due to the `<a>` HTML tag */\n",
              "\n",
              "#sk-container-id-5 a.estimator_doc_link {\n",
              "  float: right;\n",
              "  font-size: 1rem;\n",
              "  line-height: 1em;\n",
              "  font-family: monospace;\n",
              "  background-color: var(--sklearn-color-background);\n",
              "  border-radius: 1rem;\n",
              "  height: 1rem;\n",
              "  width: 1rem;\n",
              "  text-decoration: none;\n",
              "  /* unfitted */\n",
              "  color: var(--sklearn-color-unfitted-level-1);\n",
              "  border: var(--sklearn-color-unfitted-level-1) 1pt solid;\n",
              "}\n",
              "\n",
              "#sk-container-id-5 a.estimator_doc_link.fitted {\n",
              "  /* fitted */\n",
              "  border: var(--sklearn-color-fitted-level-1) 1pt solid;\n",
              "  color: var(--sklearn-color-fitted-level-1);\n",
              "}\n",
              "\n",
              "/* On hover */\n",
              "#sk-container-id-5 a.estimator_doc_link:hover {\n",
              "  /* unfitted */\n",
              "  background-color: var(--sklearn-color-unfitted-level-3);\n",
              "  color: var(--sklearn-color-background);\n",
              "  text-decoration: none;\n",
              "}\n",
              "\n",
              "#sk-container-id-5 a.estimator_doc_link.fitted:hover {\n",
              "  /* fitted */\n",
              "  background-color: var(--sklearn-color-fitted-level-3);\n",
              "}\n",
              "</style><div id=\"sk-container-id-5\" class=\"sk-top-container\"><div class=\"sk-text-repr-fallback\"><pre>Pipeline(steps=[(&#x27;preproc&#x27;,\n",
              "                 ColumnTransformer(transformers=[(&#x27;numeric&#x27;, StandardScaler(),\n",
              "                                                  [&#x27;hour&#x27;, &#x27;dayofmonth&#x27;,\n",
              "                                                   &#x27;dayofweek&#x27;, &#x27;dayofyear&#x27;,\n",
              "                                                   &#x27;weekofyear&#x27;, &#x27;month&#x27;,\n",
              "                                                   &#x27;quarter&#x27;, &#x27;year&#x27;,\n",
              "                                                   &#x27;pm_lag_1Y&#x27;,\n",
              "                                                   &#x27;pm_lag_2Y&#x27;])])),\n",
              "                (&#x27;poly&#x27;,\n",
              "                 PolynomialFeatures(include_bias=False, interaction_only=True)),\n",
              "                (&#x27;regr&#x27;, ElasticNet(alpha=0.2, l1_ratio=0.1))])</pre><b>In a Jupyter environment, please rerun this cell to show the HTML representation or trust the notebook. <br />On GitHub, the HTML representation is unable to render, please try loading this page with nbviewer.org.</b></div><div class=\"sk-container\" hidden><div class=\"sk-item sk-dashed-wrapped\"><div class=\"sk-label-container\"><div class=\"sk-label fitted sk-toggleable\"><input class=\"sk-toggleable__control sk-hidden--visually\" id=\"sk-estimator-id-14\" type=\"checkbox\" ><label for=\"sk-estimator-id-14\" class=\"sk-toggleable__label fitted sk-toggleable__label-arrow\"><div><div>Pipeline</div></div><div><a class=\"sk-estimator-doc-link fitted\" rel=\"noreferrer\" target=\"_blank\" href=\"https://scikit-learn.org/1.6/modules/generated/sklearn.pipeline.Pipeline.html\">?<span>Documentation for Pipeline</span></a><span class=\"sk-estimator-doc-link fitted\">i<span>Fitted</span></span></div></label><div class=\"sk-toggleable__content fitted\"><pre>Pipeline(steps=[(&#x27;preproc&#x27;,\n",
              "                 ColumnTransformer(transformers=[(&#x27;numeric&#x27;, StandardScaler(),\n",
              "                                                  [&#x27;hour&#x27;, &#x27;dayofmonth&#x27;,\n",
              "                                                   &#x27;dayofweek&#x27;, &#x27;dayofyear&#x27;,\n",
              "                                                   &#x27;weekofyear&#x27;, &#x27;month&#x27;,\n",
              "                                                   &#x27;quarter&#x27;, &#x27;year&#x27;,\n",
              "                                                   &#x27;pm_lag_1Y&#x27;,\n",
              "                                                   &#x27;pm_lag_2Y&#x27;])])),\n",
              "                (&#x27;poly&#x27;,\n",
              "                 PolynomialFeatures(include_bias=False, interaction_only=True)),\n",
              "                (&#x27;regr&#x27;, ElasticNet(alpha=0.2, l1_ratio=0.1))])</pre></div> </div></div><div class=\"sk-serial\"><div class=\"sk-item sk-dashed-wrapped\"><div class=\"sk-label-container\"><div class=\"sk-label fitted sk-toggleable\"><input class=\"sk-toggleable__control sk-hidden--visually\" id=\"sk-estimator-id-15\" type=\"checkbox\" ><label for=\"sk-estimator-id-15\" class=\"sk-toggleable__label fitted sk-toggleable__label-arrow\"><div><div>preproc: ColumnTransformer</div></div><div><a class=\"sk-estimator-doc-link fitted\" rel=\"noreferrer\" target=\"_blank\" href=\"https://scikit-learn.org/1.6/modules/generated/sklearn.compose.ColumnTransformer.html\">?<span>Documentation for preproc: ColumnTransformer</span></a></div></label><div class=\"sk-toggleable__content fitted\"><pre>ColumnTransformer(transformers=[(&#x27;numeric&#x27;, StandardScaler(),\n",
              "                                 [&#x27;hour&#x27;, &#x27;dayofmonth&#x27;, &#x27;dayofweek&#x27;,\n",
              "                                  &#x27;dayofyear&#x27;, &#x27;weekofyear&#x27;, &#x27;month&#x27;, &#x27;quarter&#x27;,\n",
              "                                  &#x27;year&#x27;, &#x27;pm_lag_1Y&#x27;, &#x27;pm_lag_2Y&#x27;])])</pre></div> </div></div><div class=\"sk-parallel\"><div class=\"sk-parallel-item\"><div class=\"sk-item\"><div class=\"sk-label-container\"><div class=\"sk-label fitted sk-toggleable\"><input class=\"sk-toggleable__control sk-hidden--visually\" id=\"sk-estimator-id-16\" type=\"checkbox\" ><label for=\"sk-estimator-id-16\" class=\"sk-toggleable__label fitted sk-toggleable__label-arrow\"><div><div>numeric</div></div></label><div class=\"sk-toggleable__content fitted\"><pre>[&#x27;hour&#x27;, &#x27;dayofmonth&#x27;, &#x27;dayofweek&#x27;, &#x27;dayofyear&#x27;, &#x27;weekofyear&#x27;, &#x27;month&#x27;, &#x27;quarter&#x27;, &#x27;year&#x27;, &#x27;pm_lag_1Y&#x27;, &#x27;pm_lag_2Y&#x27;]</pre></div> </div></div><div class=\"sk-serial\"><div class=\"sk-item\"><div class=\"sk-estimator fitted sk-toggleable\"><input class=\"sk-toggleable__control sk-hidden--visually\" id=\"sk-estimator-id-17\" type=\"checkbox\" ><label for=\"sk-estimator-id-17\" class=\"sk-toggleable__label fitted sk-toggleable__label-arrow\"><div><div>StandardScaler</div></div><div><a class=\"sk-estimator-doc-link fitted\" rel=\"noreferrer\" target=\"_blank\" href=\"https://scikit-learn.org/1.6/modules/generated/sklearn.preprocessing.StandardScaler.html\">?<span>Documentation for StandardScaler</span></a></div></label><div class=\"sk-toggleable__content fitted\"><pre>StandardScaler()</pre></div> </div></div></div></div></div></div></div><div class=\"sk-item\"><div class=\"sk-estimator fitted sk-toggleable\"><input class=\"sk-toggleable__control sk-hidden--visually\" id=\"sk-estimator-id-18\" type=\"checkbox\" ><label for=\"sk-estimator-id-18\" class=\"sk-toggleable__label fitted sk-toggleable__label-arrow\"><div><div>PolynomialFeatures</div></div><div><a class=\"sk-estimator-doc-link fitted\" rel=\"noreferrer\" target=\"_blank\" href=\"https://scikit-learn.org/1.6/modules/generated/sklearn.preprocessing.PolynomialFeatures.html\">?<span>Documentation for PolynomialFeatures</span></a></div></label><div class=\"sk-toggleable__content fitted\"><pre>PolynomialFeatures(include_bias=False, interaction_only=True)</pre></div> </div></div><div class=\"sk-item\"><div class=\"sk-estimator fitted sk-toggleable\"><input class=\"sk-toggleable__control sk-hidden--visually\" id=\"sk-estimator-id-19\" type=\"checkbox\" ><label for=\"sk-estimator-id-19\" class=\"sk-toggleable__label fitted sk-toggleable__label-arrow\"><div><div>ElasticNet</div></div><div><a class=\"sk-estimator-doc-link fitted\" rel=\"noreferrer\" target=\"_blank\" href=\"https://scikit-learn.org/1.6/modules/generated/sklearn.linear_model.ElasticNet.html\">?<span>Documentation for ElasticNet</span></a></div></label><div class=\"sk-toggleable__content fitted\"><pre>ElasticNet(alpha=0.2, l1_ratio=0.1)</pre></div> </div></div></div></div></div></div>"
            ],
            "text/plain": [
              "Pipeline(steps=[('preproc',\n",
              "                 ColumnTransformer(transformers=[('numeric', StandardScaler(),\n",
              "                                                  ['hour', 'dayofmonth',\n",
              "                                                   'dayofweek', 'dayofyear',\n",
              "                                                   'weekofyear', 'month',\n",
              "                                                   'quarter', 'year',\n",
              "                                                   'pm_lag_1Y',\n",
              "                                                   'pm_lag_2Y'])])),\n",
              "                ('poly',\n",
              "                 PolynomialFeatures(include_bias=False, interaction_only=True)),\n",
              "                ('regr', ElasticNet(alpha=0.2, l1_ratio=0.1))])"
            ]
          },
          "execution_count": 117,
          "metadata": {},
          "output_type": "execute_result"
        }
      ],
      "source": [
        "%time model.fit(X_train, y_train)"
      ]
    },
    {
      "cell_type": "markdown",
      "metadata": {
        "id": "GGubqzrxlVi3"
      },
      "source": [
        "### Grid Search per Elastic Net\n",
        "Nella grid search cerchiamo i valori migliori di `alpha`, iperparametro della regolarizzazione, e di `l1_ratio`, iperparametro per gestire l'unione di LASSO e Ridge."
      ]
    },
    {
      "cell_type": "code",
      "execution_count": null,
      "metadata": {
        "id": "jwcPfGK9lVi3"
      },
      "outputs": [],
      "source": [
        "grid = {\n",
        "    \"regr__alpha\":    [0.1, 1, 10],\n",
        "    \"regr__l1_ratio\": [0.1, 0.2, 0.3]\n",
        "}\n",
        "gs = GridSearchCV(model, grid, cv=kf)"
      ]
    },
    {
      "cell_type": "code",
      "execution_count": null,
      "metadata": {
        "colab": {
          "base_uri": "https://localhost:8080/"
        },
        "id": "E9qz_4YslVi3",
        "outputId": "76632dd2-4436-4b42-8346-f88433ca7baf"
      },
      "outputs": [
        {
          "name": "stdout",
          "output_type": "stream",
          "text": [
            "CPU times: total: 2min 4s\n",
            "Wall time: 50.1 s\n",
            "\n"
          ]
        }
      ],
      "source": [
        "%time gs.fit(X_train, y_train);\n",
        "print()"
      ]
    },
    {
      "cell_type": "code",
      "execution_count": null,
      "metadata": {
        "colab": {
          "base_uri": "https://localhost:8080/"
        },
        "id": "rHfhGZSslVi4",
        "outputId": "f0485a42-522a-4e89-bb67-3160026b577b"
      },
      "outputs": [
        {
          "data": {
            "text/plain": [
              "{'regr__alpha': 0.1, 'regr__l1_ratio': 0.3}"
            ]
          },
          "execution_count": 120,
          "metadata": {},
          "output_type": "execute_result"
        }
      ],
      "source": [
        "get_estimator_scores(\"elastic_net_reg\", gs.best_estimator_)\n",
        "gs.best_params_"
      ]
    },
    {
      "cell_type": "markdown",
      "metadata": {
        "id": "OSqJT3J-lVi4",
        "tags": []
      },
      "source": [
        "## Regressione con funzioni kernel\n",
        "Per ovviare ai problemi di prestazioni dei modelli con feature polinomiali, usiamo il kernel trick per evitare di creare un numero elevato di feature aggiuntive."
      ]
    },
    {
      "cell_type": "markdown",
      "metadata": {
        "id": "VFj50pJolVi4",
        "tags": []
      },
      "source": [
        "## Funzioni kernel polinomiali"
      ]
    },
    {
      "cell_type": "code",
      "execution_count": null,
      "metadata": {
        "id": "-xa639FtlVi4"
      },
      "outputs": [],
      "source": [
        "model = Pipeline([\n",
        "    (\"preproc\", preprocessor),\n",
        "    (\"regr\",  KernelRidge(alpha=1, kernel=\"poly\", degree=10))\n",
        "])"
      ]
    },
    {
      "cell_type": "code",
      "execution_count": null,
      "metadata": {
        "id": "xnFxvlfPlVi4"
      },
      "outputs": [],
      "source": [
        "%time model.fit(X_train, y_train)\n",
        "print()"
      ]
    },
    {
      "cell_type": "markdown",
      "metadata": {
        "id": "EOaI0YJZlVi4",
        "tags": []
      },
      "source": [
        "### Grid Search per funzioni kernel polinomiali\n",
        "Questa grid search cerca i valori ottimali del peso della regolarizzazione e del grado della funzione kernel polinomiale."
      ]
    },
    {
      "cell_type": "code",
      "execution_count": null,
      "metadata": {
        "id": "ffHhHFyllVi4"
      },
      "outputs": [],
      "source": [
        "grid = {\n",
        "    \"regr__alpha\":    [0.1, 1, 10],\n",
        "    \"regr__degree\": list(range(2,30))\n",
        "}\n",
        "gs = GridSearchCV(model, grid, cv=kf)"
      ]
    },
    {
      "cell_type": "code",
      "execution_count": null,
      "metadata": {
        "id": "4UBMc_JPlVi5"
      },
      "outputs": [],
      "source": [
        "%time gs.fit(X_train, y_train)\n",
        "print()"
      ]
    },
    {
      "cell_type": "code",
      "execution_count": null,
      "metadata": {
        "id": "lsrbR4InlVi5",
        "tags": []
      },
      "outputs": [],
      "source": [
        "get_estimator_scores(\"kernel_poly_reg\", gs.best_estimator_)"
      ]
    },
    {
      "cell_type": "code",
      "execution_count": null,
      "metadata": {
        "id": "ShgWWvDBlVi5"
      },
      "outputs": [],
      "source": [
        "results = pd.DataFrame(gs.cv_results_)[[\"param_regr__alpha\",\"param_regr__degree\",\"mean_test_score\"]]\n",
        "results_0_1 = results[results[\"param_regr__alpha\"] == 0.1]\n",
        "results_1 = results[results[\"param_regr__alpha\"] == 1]\n",
        "results_10 = results[results[\"param_regr__alpha\"] == 10]"
      ]
    },
    {
      "cell_type": "code",
      "execution_count": null,
      "metadata": {
        "id": "l0K5FibrlVi5"
      },
      "outputs": [],
      "source": [
        "plt.grid()\n",
        "plt.plot(results_0_1[\"param_regr__degree\"], results_0_1[\"mean_test_score\"])\n",
        "plt.plot(results_1[\"param_regr__degree\"], results_1[\"mean_test_score\"], c=\"red\")\n",
        "plt.plot(results_10[\"param_regr__degree\"], results_10[\"mean_test_score\"], c=\"green\")\n",
        "plt.xlabel('degree')\n",
        "plt.ylabel('score')\n",
        "plt.legend([\"alpha=0.1\",\"alpha=1\",\"alpha=10\"])\n",
        "plt.title('Grafico al variare del grado della funzione kernel polinomiale')\n",
        "plt.show()"
      ]
    },
    {
      "cell_type": "markdown",
      "metadata": {
        "id": "p4RNo3BclVi5"
      },
      "source": [
        "## Funzioni kernel gaussiane"
      ]
    },
    {
      "cell_type": "markdown",
      "metadata": {
        "id": "-78ywm3XlVi5"
      },
      "source": [
        "Testiamo anche funzioni kernel diverse, ad esempio RBF (_radial basis function_). <br>\n",
        "La funzione RBF ha la forma di una gaussiana."
      ]
    },
    {
      "cell_type": "code",
      "execution_count": null,
      "metadata": {
        "id": "9T5BL022lVi5"
      },
      "outputs": [],
      "source": [
        "model = Pipeline([\n",
        "    (\"preproc\", preprocessor),\n",
        "    (\"regr\",  KernelRidge(alpha=1, kernel=\"rbf\", gamma=0.01))\n",
        "])"
      ]
    },
    {
      "cell_type": "code",
      "execution_count": null,
      "metadata": {
        "id": "JlJ8BI7UlVi6"
      },
      "outputs": [],
      "source": [
        "%time model.fit(X_train, y_train)\n",
        "print()"
      ]
    },
    {
      "cell_type": "markdown",
      "metadata": {
        "id": "bcj4BGSPlVi6"
      },
      "source": [
        "### Grid Search per funzioni kernel gaussiane"
      ]
    },
    {
      "cell_type": "code",
      "execution_count": null,
      "metadata": {
        "id": "l4S7RFNUlVi6"
      },
      "outputs": [],
      "source": [
        "grid = {\n",
        "    \"regr__alpha\":    [0.1, 1, 10],\n",
        "    \"regr__gamma\": [0.01, 0.1, 1]\n",
        "}\n",
        "gs = GridSearchCV(model, grid, cv=kf)"
      ]
    },
    {
      "cell_type": "code",
      "execution_count": null,
      "metadata": {
        "id": "BBK7V6RvlVi6"
      },
      "outputs": [],
      "source": [
        "%time gs.fit(X_train, y_train)\n",
        "print()"
      ]
    },
    {
      "cell_type": "code",
      "execution_count": null,
      "metadata": {
        "id": "jNj-dvsjlVi6"
      },
      "outputs": [],
      "source": [
        "get_estimator_scores(\"kernel_rbf_reg\", gs.best_estimator_)"
      ]
    },
    {
      "cell_type": "markdown",
      "metadata": {
        "id": "sELWDyRclVi6"
      },
      "source": [
        "## Alberi decisionali"
      ]
    },
    {
      "cell_type": "code",
      "execution_count": null,
      "metadata": {
        "id": "fVoeA9SklVi6"
      },
      "outputs": [],
      "source": [
        "model = Pipeline([\n",
        "    (\"preproc\", preprocessor),\n",
        "    (\"tree\", DecisionTreeRegressor(max_depth=4, random_state=42))\n",
        "])"
      ]
    },
    {
      "cell_type": "code",
      "execution_count": null,
      "metadata": {
        "id": "GOZPvS-MlVi7"
      },
      "outputs": [],
      "source": [
        "%time model.fit(X_train, y_train)\n",
        "print()"
      ]
    },
    {
      "cell_type": "markdown",
      "metadata": {
        "id": "rfO7GcablVi7"
      },
      "source": [
        "### Grid Search per alberi decisionali\n",
        "Cerchiamo i valori ottimali della profondità massima dell'albero decisionale e del numero minimo di campioni all'interno di ciascun nodo per poter essere suddiviso a sua volta."
      ]
    },
    {
      "cell_type": "code",
      "execution_count": null,
      "metadata": {
        "id": "d4wR3nZolVi7"
      },
      "outputs": [],
      "source": [
        "grid = {\n",
        "    \"tree__max_depth\": list(range(4,30)),\n",
        "    \"tree__min_samples_split\": [0.005, 0.01, 0.1, 0.15],\n",
        "}\n",
        "gs = GridSearchCV(model, grid, cv=kf)"
      ]
    },
    {
      "cell_type": "code",
      "execution_count": null,
      "metadata": {
        "id": "My063uZrlVi7"
      },
      "outputs": [],
      "source": [
        "%time gs.fit(X_train, y_train)\n",
        "print()"
      ]
    },
    {
      "cell_type": "code",
      "execution_count": null,
      "metadata": {
        "id": "h3w8NnP3lVi7"
      },
      "outputs": [],
      "source": [
        "get_estimator_scores(\"decision_tree_reg\", gs.best_estimator_)"
      ]
    },
    {
      "cell_type": "code",
      "execution_count": null,
      "metadata": {
        "id": "6QK0x8yelVi7"
      },
      "outputs": [],
      "source": [
        "results = pd.DataFrame(gs.cv_results_)[[\"param_tree__min_samples_split\",\"param_tree__max_depth\",\"mean_test_score\"]]\n",
        "results_0_005 = results[results[\"param_tree__min_samples_split\"] == 0.005]\n",
        "results_0_01 = results[results[\"param_tree__min_samples_split\"] == 0.01]\n",
        "results_0_1 = results[results[\"param_tree__min_samples_split\"] == 0.1]\n",
        "results_0_15 = results[results[\"param_tree__min_samples_split\"] == 0.15]"
      ]
    },
    {
      "cell_type": "code",
      "execution_count": null,
      "metadata": {
        "id": "ma3qnu6clVi8"
      },
      "outputs": [],
      "source": [
        "plt.grid()\n",
        "plt.plot(results_0_005[\"param_tree__max_depth\"], results_0_005[\"mean_test_score\"], c=\"gold\")\n",
        "plt.plot(results_0_01[\"param_tree__max_depth\"], results_0_01[\"mean_test_score\"])\n",
        "plt.plot(results_0_1[\"param_tree__max_depth\"], results_0_1[\"mean_test_score\"], c=\"red\")\n",
        "plt.plot(results_0_15[\"param_tree__max_depth\"], results_0_15[\"mean_test_score\"], c=\"green\")\n",
        "plt.xlabel('max depth')\n",
        "plt.ylabel('score')\n",
        "plt.legend([\"min_samples_split=0.005\",\"min_samples_split=0.01\",\"min_samples_split=0.1\",\"min_samples_split=0.15\"])\n",
        "plt.title(\"Grafico al variare della profondità massima dell'albero\")\n",
        "plt.show()"
      ]
    },
    {
      "cell_type": "markdown",
      "metadata": {
        "id": "_JhxEcOklVi8"
      },
      "source": [
        "Dal grafico possiamo dedurre che quando una retta diventa orizzontale, significa che ha raggiunto la profondità massima per soddisfare il requisito del numero minimo di campioni in ciascun nodo dell'albero."
      ]
    },
    {
      "cell_type": "markdown",
      "metadata": {
        "id": "sM7vW1UglVi8"
      },
      "source": [
        "## Random forest"
      ]
    },
    {
      "cell_type": "code",
      "execution_count": null,
      "metadata": {
        "id": "1eieu-i1lVi9"
      },
      "outputs": [],
      "source": [
        "model = Pipeline([\n",
        "    (\"preproc\", preprocessor),\n",
        "    (\"tree\", RandomForestRegressor(max_samples=0.2, max_features=\"sqrt\", n_estimators=200, max_depth=None, n_jobs=-1))\n",
        "])"
      ]
    },
    {
      "cell_type": "code",
      "execution_count": null,
      "metadata": {
        "id": "lB_F1HTDlVi9"
      },
      "outputs": [],
      "source": [
        "%time model.fit(X_train, y_train)\n",
        "print()"
      ]
    },
    {
      "cell_type": "markdown",
      "metadata": {
        "id": "jx9HoQcolVi9"
      },
      "source": [
        "Possiamo ricavare le 5 feature più importanti per la Random Forest, ovvero le variabili che sono state più utilizzate nella creazione degli alberi decisionali."
      ]
    },
    {
      "cell_type": "code",
      "execution_count": null,
      "metadata": {
        "id": "AQVy9ajGlVi9"
      },
      "outputs": [],
      "source": [
        "pd.Series(model.named_steps[\"tree\"].feature_importances_, preprocessor.get_feature_names_out(X_train.columns)).sort_values(ascending=False).head(5)"
      ]
    },
    {
      "cell_type": "markdown",
      "metadata": {
        "id": "fY3JUaW7lVi9"
      },
      "source": [
        "### Grid Search per random forest\n",
        "Nella grid search cerchiamo i valori ottimali di `max_samples`, il numero massimo di campioni usati nell'addestramento di ciascun albero, e di `n_estimators`, il numero di alberi decisionali della foresta."
      ]
    },
    {
      "cell_type": "code",
      "execution_count": null,
      "metadata": {
        "id": "S22MF1LolVi-"
      },
      "outputs": [],
      "source": [
        "grid = {\n",
        "    \"tree__n_estimators\": [150, 200, 250, 300],\n",
        "    \"tree__max_samples\": [0.5, 0.6, 0.8, 1.0],\n",
        "}\n",
        "gs = GridSearchCV(model, grid, cv=kf)"
      ]
    },
    {
      "cell_type": "code",
      "execution_count": null,
      "metadata": {
        "id": "DqxUYeNElVi-"
      },
      "outputs": [],
      "source": [
        "%time gs.fit(X_train, y_train)\n",
        "print()"
      ]
    },
    {
      "cell_type": "code",
      "execution_count": null,
      "metadata": {
        "id": "ML7A1bPflVi-"
      },
      "outputs": [],
      "source": [
        "get_estimator_scores(\"random_forest_reg\", gs.best_estimator_)"
      ]
    },
    {
      "cell_type": "code",
      "execution_count": null,
      "metadata": {
        "id": "srMzWDr1lVi-"
      },
      "outputs": [],
      "source": [
        "results = pd.DataFrame(gs.cv_results_)[[\"param_tree__n_estimators\",\"param_tree__max_samples\",\"mean_test_score\"]]\n",
        "results_0_5 = results[results[\"param_tree__max_samples\"] == 0.5]\n",
        "results_0_6 = results[results[\"param_tree__max_samples\"] == 0.6]\n",
        "results_0_8 = results[results[\"param_tree__max_samples\"] == 0.8]\n",
        "results_1 = results[results[\"param_tree__max_samples\"] == 1.0]"
      ]
    },
    {
      "cell_type": "code",
      "execution_count": null,
      "metadata": {
        "id": "HO-ajTvZlVi-"
      },
      "outputs": [],
      "source": [
        "plt.grid()\n",
        "plt.plot(results_0_5[\"param_tree__n_estimators\"], results_0_5[\"mean_test_score\"])\n",
        "plt.plot(results_0_6[\"param_tree__n_estimators\"], results_0_6[\"mean_test_score\"], c=\"red\")\n",
        "plt.plot(results_0_8[\"param_tree__n_estimators\"], results_0_8[\"mean_test_score\"], c=\"green\")\n",
        "plt.plot(results_1[\"param_tree__n_estimators\"], results_1[\"mean_test_score\"], c=\"gold\")\n",
        "plt.xlabel('n trees')\n",
        "plt.ylabel('score')\n",
        "plt.legend([\"max_samples=0.5\",\"max_samples=0.6\",\"max_samples=0.8\",\"max_samples=1\"])\n",
        "plt.title('Grafico al variare del numero di alberi del random forest')\n",
        "plt.show()"
      ]
    },
    {
      "cell_type": "markdown",
      "metadata": {
        "id": "7xPxYN70lVi_"
      },
      "source": [
        "## XGBoost\n",
        "XGBoost crea una foresta di alberi in cui ogni albero utilizza gli errori commessi dall'albero precedente."
      ]
    },
    {
      "cell_type": "code",
      "execution_count": null,
      "metadata": {
        "id": "1A4je0oplVjA"
      },
      "outputs": [],
      "source": [
        "model = Pipeline([\n",
        "    (\"preproc\", preprocessor),\n",
        "    (\"xgb\", XGBRegressor(objective='reg:squarederror', n_estimators=200))\n",
        "])"
      ]
    },
    {
      "cell_type": "code",
      "execution_count": null,
      "metadata": {
        "id": "8A3332KolVjA"
      },
      "outputs": [],
      "source": [
        "%time model.fit(X_train, y_train)\n",
        "print()"
      ]
    },
    {
      "cell_type": "markdown",
      "metadata": {
        "id": "xUxDT_-nlVjA"
      },
      "source": [
        "Possiamo ricavare le 5 feature più importanti per XGBoost, ovvero le variabili che sono state più utilizzate nella creazione degli alberi decisionali."
      ]
    },
    {
      "cell_type": "code",
      "execution_count": null,
      "metadata": {
        "id": "us6Z4OmqlVjA"
      },
      "outputs": [],
      "source": [
        "pd.Series(model.named_steps[\"xgb\"].feature_importances_, preprocessor.get_feature_names_out(X_train.columns)).sort_values(ascending=False).head(5)"
      ]
    },
    {
      "cell_type": "markdown",
      "metadata": {
        "id": "uapeT7xKlVjA"
      },
      "source": [
        "### Grid Search per XGBoost\n",
        "Cerchiamo i valori ottimali di due iperparametri: la profondità massima degli alberi e il numero di alberi della foresta."
      ]
    },
    {
      "cell_type": "code",
      "execution_count": null,
      "metadata": {
        "id": "UwAwlSAxlVjA"
      },
      "outputs": [],
      "source": [
        "grid = {\n",
        "    \"xgb__max_depth\": [3, 5, 7, 10],\n",
        "    \"xgb__n_estimators\": [100, 200, 400, 700, 1000],\n",
        "}\n",
        "gs = GridSearchCV(model, grid, cv=kf)"
      ]
    },
    {
      "cell_type": "code",
      "execution_count": null,
      "metadata": {
        "id": "DRafW1bilVjA"
      },
      "outputs": [],
      "source": [
        "%time gs.fit(X_train, y_train)\n",
        "print()"
      ]
    },
    {
      "cell_type": "code",
      "execution_count": null,
      "metadata": {
        "id": "ECO1JyGKlVjB"
      },
      "outputs": [],
      "source": [
        "get_estimator_scores(\"xgboost_reg\", gs.best_estimator_)"
      ]
    },
    {
      "cell_type": "code",
      "execution_count": null,
      "metadata": {
        "id": "8uK3_8j4lVjB"
      },
      "outputs": [],
      "source": [
        "results = pd.DataFrame(gs.cv_results_)[[\"param_xgb__max_depth\",\"param_xgb__n_estimators\",\"mean_test_score\"]]\n",
        "results_3 = results[results[\"param_xgb__max_depth\"] == 3]\n",
        "results_5 = results[results[\"param_xgb__max_depth\"] == 5]\n",
        "results_7 = results[results[\"param_xgb__max_depth\"] == 7]\n",
        "results_10 = results[results[\"param_xgb__max_depth\"] == 10]"
      ]
    },
    {
      "cell_type": "code",
      "execution_count": null,
      "metadata": {
        "id": "DD3ex6kOlVjB"
      },
      "outputs": [],
      "source": [
        "plt.grid()\n",
        "plt.plot(results_3[\"param_xgb__n_estimators\"], results_3[\"mean_test_score\"])\n",
        "plt.plot(results_5[\"param_xgb__n_estimators\"], results_5[\"mean_test_score\"], c=\"red\")\n",
        "plt.plot(results_7[\"param_xgb__n_estimators\"], results_7[\"mean_test_score\"], c=\"green\")\n",
        "plt.plot(results_10[\"param_xgb__n_estimators\"], results_10[\"mean_test_score\"], c=\"gold\")\n",
        "plt.xlabel('n trees')\n",
        "plt.ylabel('score')\n",
        "plt.legend([\"max_depth=3\",\"max_depth=5\",\"max_depth=7\",\"max_depth=10\"])\n",
        "plt.title('Grafico al variare del numero del numero di alberi di XGBoost')\n",
        "plt.show()"
      ]
    },
    {
      "cell_type": "markdown",
      "metadata": {
        "id": "5uIugxCaMC9R"
      },
      "source": [
        "## Confronto Visivo delle Prestazioni dei Modelli\n",
        "\n",
        "La funzione `plot_estimator_scores(scores)` consente di visualizzare in modo sintetico ed intuitivo le metriche di valutazione di tutti i modelli allenati. I grafici generati permettono un confronto diretto tra le prestazioni su diverse metriche chiave:\n",
        "\n",
        "- **R² Score**: confronta le prestazioni sul training set e sul test set per identificare possibili fenomeni di overfitting.\n",
        "- **RMSE (Root Mean Squared Error)**: evidenzia la variabilità degli errori di previsione, penalizzando fortemente gli outlier.\n",
        "- **MAE (Mean Absolute Error)**: mostra la media dell’errore assoluto commesso da ciascun modello.\n",
        "- **MAPE (Mean Absolute Percentage Error)**: fornisce un’indicazione dell’errore medio in termini percentuali rispetto ai valori reali.\n",
        "- **MSLE (Mean Squared Logarithmic Error)**: utile nei casi in cui gli errori relativi siano più importanti degli assoluti, o in presenza di target con ordini di grandezza diversi.\n",
        "- **Explained Variance Score**: indica la proporzione della varianza spiegata dal modello (simile a $R^2$).\n",
        "- **Max Error**: evidenzia il peggior errore assoluto commesso su un'osservazione.\n",
        "- **Intervalli di Confidenza (CI95%)**: per le metriche `RMSE`, `MAE` e `MAPE` viene stimato un intervallo di confidenza al 95% tramite bootstrap resampling, al fine di rappresentare l'incertezza statistica associata alla metrica.\n",
        "\n",
        "> Assicurarsi che il DataFrame `scores` passato alla funzione contenga i valori calcolati correttamente tramite `get_estimator_scores` prima di richiamare questa funzione.\n",
        "\n",
        "Questa visualizzazione finale è utile per trarre conclusioni sulla bontà predittiva di ciascun modello e guidare la scelta del miglior approccio da adottare.\n"
      ]
    },
    {
      "cell_type": "code",
      "execution_count": null,
      "metadata": {
        "execution": {
          "iopub.execute_input": "2024-04-29T20:38:15.404812Z",
          "iopub.status.busy": "2024-04-29T20:38:15.403803Z",
          "iopub.status.idle": "2024-04-29T20:38:15.421022Z",
          "shell.execute_reply": "2024-04-29T20:38:15.419432Z",
          "shell.execute_reply.started": "2024-04-29T20:38:15.404772Z"
        },
        "id": "5vxh_8pW9qkC"
      },
      "outputs": [],
      "source": [
        "def plot_estimator_scores(scores):\n",
        "    melted_r2 = scores[['model', 'r2_train', 'r2_test']]\n",
        "    melted_r2 = melted_r2.rename(columns={'r2_train':'train','r2_test':'test'})\n",
        "    melted_r2 = melted_r2.melt(id_vars='model', var_name='set', value_name='score')\n",
        "\n",
        "    fig, axs = plt.subplots(3, 3, figsize=(18, 14))\n",
        "    fig.tight_layout(pad=4)\n",
        "\n",
        "    sns.barplot(data=melted_r2, x='score', y='model', hue='set', ax=axs[0,0])\n",
        "    axs[0,0].set_title('R2 Score')\n",
        "    axs[0,0].legend(loc='lower right')\n",
        "\n",
        "    axs[0,1].set_title('RMSE ± CI95%')\n",
        "    for _, row in scores.iterrows():\n",
        "        axs[0,1].barh(row['model'], row['rmse'],\n",
        "                      xerr=[[row['rmse']-row['rmse_low']], [row['rmse_high']-row['rmse']]], capsize=5)\n",
        "\n",
        "    axs[0,2].set_title('MAE ± CI95%')\n",
        "    for _, row in scores.iterrows():\n",
        "        axs[0,2].barh(row['model'], row['mae'],\n",
        "                      xerr=[[row['mae']-row['mae_low']], [row['mae_high']-row['mae']]], capsize=5)\n",
        "\n",
        "    axs[1,0].set_title('MAPE ± CI95%')\n",
        "    for _, row in scores.iterrows():\n",
        "        axs[1,0].barh(row['model'], row['mape'],\n",
        "                      xerr=[[row['mape']-row['mape_low']], [row['mape_high']-row['mape']]], capsize=5)\n",
        "\n",
        "    axs[1,1].set_title('MSLE')\n",
        "    for _, row in scores.iterrows():\n",
        "        axs[1,1].barh(row['model'], row['msle'])\n",
        "\n",
        "    axs[1,2].set_title('Explained Variance')\n",
        "    for _, row in scores.iterrows():\n",
        "        axs[1,2].barh(row['model'], row['explained_var'])\n",
        "    axs[1,2].set_xlim(0,1)\n",
        "\n",
        "    axs[2,0].set_title('Max Error')\n",
        "    for _, row in scores.iterrows():\n",
        "        axs[2,0].barh(row['model'], row['max_error'])\n",
        "\n",
        "    axs[2,1].axis('off')\n",
        "    axs[2,2].axis('off')\n",
        "\n",
        "    plt.show()"
      ]
    },
    {
      "cell_type": "code",
      "execution_count": null,
      "metadata": {
        "execution": {
          "iopub.execute_input": "2024-04-29T20:38:15.424047Z",
          "iopub.status.busy": "2024-04-29T20:38:15.422783Z",
          "iopub.status.idle": "2024-04-29T20:38:17.073862Z",
          "shell.execute_reply": "2024-04-29T20:38:17.072755Z",
          "shell.execute_reply.started": "2024-04-29T20:38:15.424005Z"
        },
        "id": "RTHU3LQ49qkD"
      },
      "outputs": [],
      "source": [
        "estimator_scores_df = pd.DataFrame(\n",
        "    all_scores,\n",
        "    columns = [\n",
        "        'model','r2_train','r2_test',\n",
        "        'rmse','rmse_low','rmse_high',\n",
        "        'mae','mae_low','mae_high',\n",
        "        'mape','mape_low','mape_high',\n",
        "        'msle','explained_var','max_error'\n",
        "    ]\n",
        ")\n",
        "plot_estimator_scores(estimator_scores_df)"
      ]
    }
  ],
  "metadata": {
    "colab": {
      "collapsed_sections": [
        "mvVxxvpq2pGF",
        "vnXzcSTc2Z4u",
        "XK_TJF8M2Z4x",
        "aQsLyrIxOOYW",
        "p36QPfwmOOYf",
        "WaIppjtBOOYl",
        "EIBSurMHOOYl",
        "BZmAT6ojpSh-",
        "u9vD2UOFprUu",
        "AskhNa7VrHDB",
        "QARofnywrTib",
        "8cDvugQEtvev",
        "FnwJy-xDt9Q-",
        "pcIEc735lViq",
        "GveBLWbLlViq",
        "H_bIhHTRKAzQ",
        "xOMRnqcslVir",
        "YP2p8Z1ClVit",
        "tCa0HV05lVix",
        "Mcl2wO-FlVi0",
        "aXwTWsC2lVi3",
        "OSqJT3J-lVi4",
        "VFj50pJolVi4",
        "EOaI0YJZlVi4",
        "p4RNo3BclVi5",
        "sELWDyRclVi6",
        "sM7vW1UglVi8",
        "7xPxYN70lVi_",
        "5uIugxCaMC9R"
      ],
      "provenance": []
    },
    "kernelspec": {
      "display_name": "Python 3 (ipykernel)",
      "language": "python",
      "name": "python3"
    },
    "language_info": {
      "codemirror_mode": {
        "name": "ipython",
        "version": 3
      },
      "file_extension": ".py",
      "mimetype": "text/x-python",
      "name": "python",
      "nbconvert_exporter": "python",
      "pygments_lexer": "ipython3",
      "version": "3.12.7"
    }
  },
  "nbformat": 4,
  "nbformat_minor": 0
}